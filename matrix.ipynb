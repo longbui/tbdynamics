{
 "cells": [
  {
   "cell_type": "code",
   "execution_count": null,
   "metadata": {},
   "outputs": [],
   "source": [
    "from tbdynamics.inputs import matrix, conmat\n",
    "from tbdynamics.constants import age_strata\n",
    "import matplotlib.pyplot as plt\n",
    "import seaborn as sns\n",
    "from scipy.spatial.distance import cdist"
   ]
  },
  {
   "cell_type": "code",
   "execution_count": null,
   "metadata": {},
   "outputs": [],
   "source": [
    "def plot_contact_matrix(contact_matrix, age_groups, title):\n",
    "    \"\"\"\n",
    "    Plots a contact matrix with the given age groups as labels.\n",
    "\n",
    "    Args:\n",
    "    - contact_matrix: A 2D numpy array representing the contact rates between age groups.\n",
    "    - age_groups: A list of strings representing the labels for the age groups.\n",
    "    \"\"\"\n",
    "    plt.figure(figsize=(10, 8))\n",
    "    sns.heatmap(contact_matrix, annot=True, fmt=\".2f\", cmap=\"YlGnBu\", cbar_kws={'label': 'Yearly Contacts'},\n",
    "                xticklabels=age_groups, yticklabels=age_groups)\n",
    "\n",
    "    plt.xlabel(\"Age Group To\")\n",
    "    plt.ylabel(\"Age Group From\")\n",
    "    plt.title(title)\n",
    "    plt.xticks(rotation=45, ha=\"right\")\n",
    "    plt.gca().invert_yaxis()\n",
    "    plt.show()"
   ]
  },
  {
   "cell_type": "code",
   "execution_count": null,
   "metadata": {},
   "outputs": [],
   "source": [
    "plot_contact_matrix(matrix, age_strata, \"Yearly contact matrix from survey\")"
   ]
  },
  {
   "cell_type": "code",
   "execution_count": null,
   "metadata": {},
   "outputs": [],
   "source": [
    "plot_contact_matrix(conmat, age_strata, \"Yearly contact matrix extrapolated from conmat\")"
   ]
  },
  {
   "cell_type": "code",
   "execution_count": null,
   "metadata": {},
   "outputs": [],
   "source": [
    "# Calculate Canberra distances between corresponding rows in 'values' and 'conmat_values'\n",
    "distance_matrix = cdist(matrix, conmat, metric='canberra')\n",
    "plot_contact_matrix(distance_matrix, age_strata, \"Different of two matrices\")"
   ]
  }
 ],
 "metadata": {
  "kernelspec": {
   "display_name": "tbdyn",
   "language": "python",
   "name": "python3"
  },
  "language_info": {
   "codemirror_mode": {
    "name": "ipython",
    "version": 3
   },
   "file_extension": ".py",
   "mimetype": "text/x-python",
   "name": "python",
   "nbconvert_exporter": "python",
   "pygments_lexer": "ipython3",
   "version": "3.10.0"
  }
 },
 "nbformat": 4,
 "nbformat_minor": 2
}
