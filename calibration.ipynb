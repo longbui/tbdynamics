{
 "cells": [
  {
   "cell_type": "code",
   "execution_count": 1,
   "metadata": {},
   "outputs": [
    {
     "name": "stderr",
     "output_type": "stream",
     "text": [
      "c:\\Users\\vbui0010\\Anaconda3\\envs\\tbdyn\\lib\\site-packages\\computegraph\\jaxify.py:37: UserWarning: Could not import jax, model performance will be limited\n",
      "  warnings.warn(\"Could not import jax, model performance will be limited\")\n",
      "WARNING (pytensor.configdefaults): g++ not available, if using conda: `conda install m2w64-toolchain`\n",
      "WARNING (pytensor.configdefaults): g++ not detected!  PyTensor will be unable to compile C-implementations and will default to Python. Performance may be severely degraded. To remove this warning, set PyTensor flags cxx to an empty string.\n",
      "WARNING (pytensor.tensor.blas): Using NumPy C-API based implementation for BLAS functions.\n"
     ]
    }
   ],
   "source": [
    "import pandas as pd\n",
    "from tbdynamics.constants import (\n",
    "    age_strata,\n",
    "    organ_strata,\n",
    "    compartments,\n",
    "\n",
    ")\n",
    "import nevergrad as ng\n",
    "from estival.wrappers import nevergrad as eng\n",
    "# Import our convenience wrapper\n",
    "from estival.wrappers.nevergrad import optimize_model\n",
    "from tbdynamics.calib_utils import get_bcm\n",
    "from multiprocessing import cpu_count\n",
    "from estival.sampling import tools as esamp\n",
    "from estival.sampling.tools import SampleIterator, SampleTypes\n",
    "from estival.utils.parallel import map_parallel\n",
    "import pymc as pm\n",
    "from estival.wrappers import pymc as epm\n",
    "import arviz as az\n",
    "import numpy as np"
   ]
  },
  {
   "cell_type": "markdown",
   "metadata": {},
   "source": [
    "## Define Model"
   ]
  },
  {
   "cell_type": "markdown",
   "metadata": {},
   "source": [
    "### Params and calibration targets"
   ]
  },
  {
   "cell_type": "code",
   "execution_count": 3,
   "metadata": {},
   "outputs": [],
   "source": [
    "bcm = get_bcm()"
   ]
  },
  {
   "cell_type": "markdown",
   "metadata": {},
   "source": [
    "### Running Optimization"
   ]
  },
  {
   "cell_type": "code",
   "execution_count": 4,
   "metadata": {},
   "outputs": [],
   "source": [
    "def optimize_ng_with_idx(item):\n",
    "    idx, sample = item\n",
    "    opt = eng.optimize_model(bcm, budget=1000, opt_class=ng.optimizers.TwoPointsDE, suggested = sample, num_workers=4)\n",
    "    rec= opt.minimize(1000)\n",
    "    return idx, rec.value[1]"
   ]
  },
  {
   "cell_type": "code",
   "execution_count": 5,
   "metadata": {},
   "outputs": [],
   "source": [
    "lhs_samples = bcm.sample.lhs(16)"
   ]
  },
  {
   "cell_type": "code",
   "execution_count": 6,
   "metadata": {},
   "outputs": [],
   "source": [
    "lhs_lle = esamp.likelihood_extras_for_samples(lhs_samples, bcm)"
   ]
  },
  {
   "cell_type": "code",
   "execution_count": null,
   "metadata": {},
   "outputs": [
    {
     "data": {
      "text/plain": [
       "Index([8, 2, 10, 0, 1, 14, 15, 7, 4, 12, 13, 3, 6, 11, 9, 5], dtype='int64', name='sample')"
      ]
     },
     "execution_count": 7,
     "metadata": {},
     "output_type": "execute_result"
    }
   ],
   "source": [
    "lhs_sorted = lhs_lle.sort_values(\"loglikelihood\", ascending=False)"
   ]
  },
  {
   "cell_type": "code",
   "execution_count": null,
   "metadata": {},
   "outputs": [],
   "source": [
    "best8 = lhs_samples[lhs_sorted.index].iloc[0:8]"
   ]
  },
  {
   "cell_type": "code",
   "execution_count": null,
   "metadata": {},
   "outputs": [],
   "source": [
    "opt_samples_idx = map_parallel(optimize_ng_with_idx, best8.iterrows())"
   ]
  },
  {
   "cell_type": "code",
   "execution_count": null,
   "metadata": {},
   "outputs": [
    {
     "data": {
      "text/html": [
       "<div>\n",
       "<style scoped>\n",
       "    .dataframe tbody tr th:only-of-type {\n",
       "        vertical-align: middle;\n",
       "    }\n",
       "\n",
       "    .dataframe tbody tr th {\n",
       "        vertical-align: top;\n",
       "    }\n",
       "\n",
       "    .dataframe thead th {\n",
       "        text-align: right;\n",
       "    }\n",
       "</style>\n",
       "<table border=\"1\" class=\"dataframe\">\n",
       "  <thead>\n",
       "    <tr style=\"text-align: right;\">\n",
       "      <th></th>\n",
       "      <th>logposterior</th>\n",
       "      <th>logprior</th>\n",
       "      <th>loglikelihood</th>\n",
       "      <th>ll_notification</th>\n",
       "      <th>ll_percentage_latent</th>\n",
       "      <th>ll_prevalence_pulmonary</th>\n",
       "      <th>ll_total_population</th>\n",
       "    </tr>\n",
       "    <tr>\n",
       "      <th>sample</th>\n",
       "      <th></th>\n",
       "      <th></th>\n",
       "      <th></th>\n",
       "      <th></th>\n",
       "      <th></th>\n",
       "      <th></th>\n",
       "      <th></th>\n",
       "    </tr>\n",
       "  </thead>\n",
       "  <tbody>\n",
       "    <tr>\n",
       "      <th>8</th>\n",
       "      <td>-29685.914062</td>\n",
       "      <td>-9.344937</td>\n",
       "      <td>-29676.568359</td>\n",
       "      <td>-18918.617188</td>\n",
       "      <td>-110.438377</td>\n",
       "      <td>-3910.497803</td>\n",
       "      <td>-6737.015625</td>\n",
       "    </tr>\n",
       "    <tr>\n",
       "      <th>2</th>\n",
       "      <td>-62134.687500</td>\n",
       "      <td>-9.344937</td>\n",
       "      <td>-62125.343750</td>\n",
       "      <td>-49227.882812</td>\n",
       "      <td>-103.182976</td>\n",
       "      <td>-7725.656738</td>\n",
       "      <td>-5068.619629</td>\n",
       "    </tr>\n",
       "    <tr>\n",
       "      <th>10</th>\n",
       "      <td>-18782.570312</td>\n",
       "      <td>-9.344937</td>\n",
       "      <td>-18773.224609</td>\n",
       "      <td>-14953.312500</td>\n",
       "      <td>-65.920059</td>\n",
       "      <td>-2296.686279</td>\n",
       "      <td>-1457.306152</td>\n",
       "    </tr>\n",
       "    <tr>\n",
       "      <th>0</th>\n",
       "      <td>-230170.578125</td>\n",
       "      <td>-9.344937</td>\n",
       "      <td>-230161.234375</td>\n",
       "      <td>-162482.203125</td>\n",
       "      <td>-115.339256</td>\n",
       "      <td>-20118.359375</td>\n",
       "      <td>-47445.332031</td>\n",
       "    </tr>\n",
       "    <tr>\n",
       "      <th>1</th>\n",
       "      <td>-15035.384766</td>\n",
       "      <td>-9.344937</td>\n",
       "      <td>-15026.040039</td>\n",
       "      <td>-9613.593750</td>\n",
       "      <td>-95.351883</td>\n",
       "      <td>-3860.218262</td>\n",
       "      <td>-1456.875732</td>\n",
       "    </tr>\n",
       "    <tr>\n",
       "      <th>14</th>\n",
       "      <td>-80797.703125</td>\n",
       "      <td>-9.344937</td>\n",
       "      <td>-80788.359375</td>\n",
       "      <td>-53940.421875</td>\n",
       "      <td>-100.200562</td>\n",
       "      <td>-10192.925781</td>\n",
       "      <td>-16554.808594</td>\n",
       "    </tr>\n",
       "    <tr>\n",
       "      <th>15</th>\n",
       "      <td>-67071.820312</td>\n",
       "      <td>-9.344937</td>\n",
       "      <td>-67062.476562</td>\n",
       "      <td>-57043.183594</td>\n",
       "      <td>-57.267227</td>\n",
       "      <td>-8358.984375</td>\n",
       "      <td>-1603.046631</td>\n",
       "    </tr>\n",
       "    <tr>\n",
       "      <th>7</th>\n",
       "      <td>-41256.054688</td>\n",
       "      <td>-9.344937</td>\n",
       "      <td>-41246.710938</td>\n",
       "      <td>-25757.562500</td>\n",
       "      <td>-63.157364</td>\n",
       "      <td>-4894.540039</td>\n",
       "      <td>-10531.447266</td>\n",
       "    </tr>\n",
       "  </tbody>\n",
       "</table>\n",
       "</div>"
      ],
      "text/plain": [
       "         logposterior  logprior  loglikelihood  ll_notification  \\\n",
       "sample                                                            \n",
       "8       -29685.914062 -9.344937  -29676.568359    -18918.617188   \n",
       "2       -62134.687500 -9.344937  -62125.343750    -49227.882812   \n",
       "10      -18782.570312 -9.344937  -18773.224609    -14953.312500   \n",
       "0      -230170.578125 -9.344937 -230161.234375   -162482.203125   \n",
       "1       -15035.384766 -9.344937  -15026.040039     -9613.593750   \n",
       "14      -80797.703125 -9.344937  -80788.359375    -53940.421875   \n",
       "15      -67071.820312 -9.344937  -67062.476562    -57043.183594   \n",
       "7       -41256.054688 -9.344937  -41246.710938    -25757.562500   \n",
       "\n",
       "        ll_percentage_latent  ll_prevalence_pulmonary  ll_total_population  \n",
       "sample                                                                      \n",
       "8                -110.438377             -3910.497803         -6737.015625  \n",
       "2                -103.182976             -7725.656738         -5068.619629  \n",
       "10                -65.920059             -2296.686279         -1457.306152  \n",
       "0                -115.339256            -20118.359375        -47445.332031  \n",
       "1                 -95.351883             -3860.218262         -1456.875732  \n",
       "14               -100.200562            -10192.925781        -16554.808594  \n",
       "15                -57.267227             -8358.984375         -1603.046631  \n",
       "7                 -63.157364             -4894.540039        -10531.447266  "
      ]
     },
     "execution_count": 10,
     "metadata": {},
     "output_type": "execute_result"
    }
   ],
   "source": [
    "lle_samps = esamp.likelihood_extras_for_samples(opt_samples_idx, bcm)"
   ]
  },
  {
   "cell_type": "code",
   "execution_count": null,
   "metadata": {},
   "outputs": [
    {
     "data": {
      "text/html": [
       "SampleIterator<div>\n",
       "<style scoped>\n",
       "    .dataframe tbody tr th:only-of-type {\n",
       "        vertical-align: middle;\n",
       "    }\n",
       "\n",
       "    .dataframe tbody tr th {\n",
       "        vertical-align: top;\n",
       "    }\n",
       "\n",
       "    .dataframe thead th {\n",
       "        text-align: right;\n",
       "    }\n",
       "</style>\n",
       "<table border=\"1\" class=\"dataframe\">\n",
       "  <thead>\n",
       "    <tr style=\"text-align: right;\">\n",
       "      <th></th>\n",
       "      <th>start_population_size</th>\n",
       "      <th>contact_rate</th>\n",
       "      <th>rr_infection_latent</th>\n",
       "      <th>rr_infection_recovered</th>\n",
       "      <th>progression_multiplier</th>\n",
       "      <th>seed_time</th>\n",
       "      <th>seed_num</th>\n",
       "      <th>seed_duration</th>\n",
       "      <th>smear_positive_death_rate</th>\n",
       "      <th>smear_negative_death_rate</th>\n",
       "      <th>smear_positive_self_recovery</th>\n",
       "      <th>smear_negative_self_recovery</th>\n",
       "      <th>screening_scaleup_shape</th>\n",
       "      <th>screening_inflection_time</th>\n",
       "      <th>screening_end_asymp</th>\n",
       "    </tr>\n",
       "  </thead>\n",
       "  <tbody>\n",
       "    <tr>\n",
       "      <th>8</th>\n",
       "      <td>2.357477e+06</td>\n",
       "      <td>0.009124</td>\n",
       "      <td>0.260939</td>\n",
       "      <td>0.423131</td>\n",
       "      <td>1.028814</td>\n",
       "      <td>1895.608685</td>\n",
       "      <td>78.564832</td>\n",
       "      <td>4.620068</td>\n",
       "      <td>0.419568</td>\n",
       "      <td>0.030777</td>\n",
       "      <td>0.207593</td>\n",
       "      <td>0.177938</td>\n",
       "      <td>0.092122</td>\n",
       "      <td>1993.284692</td>\n",
       "      <td>0.594080</td>\n",
       "    </tr>\n",
       "    <tr>\n",
       "      <th>2</th>\n",
       "      <td>2.099216e+06</td>\n",
       "      <td>0.008374</td>\n",
       "      <td>0.226037</td>\n",
       "      <td>0.300395</td>\n",
       "      <td>1.193288</td>\n",
       "      <td>1909.900680</td>\n",
       "      <td>64.694368</td>\n",
       "      <td>3.116482</td>\n",
       "      <td>0.416892</td>\n",
       "      <td>0.021531</td>\n",
       "      <td>0.192130</td>\n",
       "      <td>0.200755</td>\n",
       "      <td>0.094881</td>\n",
       "      <td>1996.123312</td>\n",
       "      <td>0.581481</td>\n",
       "    </tr>\n",
       "    <tr>\n",
       "      <th>10</th>\n",
       "      <td>2.464449e+06</td>\n",
       "      <td>0.006120</td>\n",
       "      <td>0.483786</td>\n",
       "      <td>0.319312</td>\n",
       "      <td>1.149776</td>\n",
       "      <td>1891.753755</td>\n",
       "      <td>88.286923</td>\n",
       "      <td>2.318475</td>\n",
       "      <td>0.429966</td>\n",
       "      <td>0.017724</td>\n",
       "      <td>0.270531</td>\n",
       "      <td>0.162232</td>\n",
       "      <td>0.092374</td>\n",
       "      <td>1994.969317</td>\n",
       "      <td>0.599044</td>\n",
       "    </tr>\n",
       "    <tr>\n",
       "      <th>0</th>\n",
       "      <td>2.627341e+06</td>\n",
       "      <td>0.006472</td>\n",
       "      <td>0.210580</td>\n",
       "      <td>0.423252</td>\n",
       "      <td>1.489178</td>\n",
       "      <td>1892.420669</td>\n",
       "      <td>88.977793</td>\n",
       "      <td>4.853723</td>\n",
       "      <td>0.363214</td>\n",
       "      <td>0.032994</td>\n",
       "      <td>0.195745</td>\n",
       "      <td>0.200051</td>\n",
       "      <td>0.097133</td>\n",
       "      <td>1998.039250</td>\n",
       "      <td>0.502430</td>\n",
       "    </tr>\n",
       "    <tr>\n",
       "      <th>1</th>\n",
       "      <td>2.103577e+06</td>\n",
       "      <td>0.008830</td>\n",
       "      <td>0.278618</td>\n",
       "      <td>0.214480</td>\n",
       "      <td>1.032167</td>\n",
       "      <td>1899.293502</td>\n",
       "      <td>32.414243</td>\n",
       "      <td>3.592526</td>\n",
       "      <td>0.365962</td>\n",
       "      <td>0.024323</td>\n",
       "      <td>0.235135</td>\n",
       "      <td>0.181381</td>\n",
       "      <td>0.096062</td>\n",
       "      <td>1996.062200</td>\n",
       "      <td>0.551396</td>\n",
       "    </tr>\n",
       "    <tr>\n",
       "      <th>14</th>\n",
       "      <td>2.056936e+06</td>\n",
       "      <td>0.006480</td>\n",
       "      <td>0.410333</td>\n",
       "      <td>0.466579</td>\n",
       "      <td>1.187370</td>\n",
       "      <td>1909.158668</td>\n",
       "      <td>27.145949</td>\n",
       "      <td>2.266647</td>\n",
       "      <td>0.389473</td>\n",
       "      <td>0.019758</td>\n",
       "      <td>0.261260</td>\n",
       "      <td>0.200730</td>\n",
       "      <td>0.088233</td>\n",
       "      <td>1994.136785</td>\n",
       "      <td>0.526973</td>\n",
       "    </tr>\n",
       "    <tr>\n",
       "      <th>15</th>\n",
       "      <td>2.030153e+06</td>\n",
       "      <td>0.004610</td>\n",
       "      <td>0.463661</td>\n",
       "      <td>0.285378</td>\n",
       "      <td>1.441907</td>\n",
       "      <td>1913.866979</td>\n",
       "      <td>92.388758</td>\n",
       "      <td>1.074964</td>\n",
       "      <td>0.421237</td>\n",
       "      <td>0.032588</td>\n",
       "      <td>0.202848</td>\n",
       "      <td>0.207090</td>\n",
       "      <td>0.090999</td>\n",
       "      <td>1999.152257</td>\n",
       "      <td>0.556006</td>\n",
       "    </tr>\n",
       "    <tr>\n",
       "      <th>7</th>\n",
       "      <td>2.104464e+06</td>\n",
       "      <td>0.005879</td>\n",
       "      <td>0.264440</td>\n",
       "      <td>0.309948</td>\n",
       "      <td>1.329179</td>\n",
       "      <td>1896.389029</td>\n",
       "      <td>71.765587</td>\n",
       "      <td>2.603438</td>\n",
       "      <td>0.343442</td>\n",
       "      <td>0.028193</td>\n",
       "      <td>0.207149</td>\n",
       "      <td>0.205201</td>\n",
       "      <td>0.098226</td>\n",
       "      <td>1994.398153</td>\n",
       "      <td>0.593546</td>\n",
       "    </tr>\n",
       "  </tbody>\n",
       "</table>\n",
       "</div>"
      ],
      "text/plain": [
       "<estival.sampling.tools.SampleIterator at 0x26ae29de3e0>"
      ]
     },
     "execution_count": 11,
     "metadata": {},
     "output_type": "execute_result"
    }
   ],
   "source": [
    "best_opt_samps = bcm.sample.convert(opt_samples_idx)\n",
    "best_opt_samps"
   ]
  },
  {
   "cell_type": "code",
   "execution_count": null,
   "metadata": {},
   "outputs": [],
   "source": [
    "init_samps = best_opt_samps.iloc[0:8].convert(\"list_of_dicts\")"
   ]
  },
  {
   "cell_type": "code",
   "execution_count": null,
   "metadata": {},
   "outputs": [
    {
     "name": "stderr",
     "output_type": "stream",
     "text": [
      "Multiprocess sampling (8 chains in 4 jobs)\n",
      "DEMetropolisZ: [start_population_size, contact_rate, rr_infection_latent, rr_infection_recovered, progression_multiplier, seed_time, seed_num, seed_duration, smear_positive_death_rate, smear_negative_death_rate, smear_positive_self_recovery, smear_negative_self_recovery, screening_scaleup_shape, screening_inflection_time, screening_end_asymp]\n"
     ]
    },
    {
     "data": {
      "text/html": [
       "\n",
       "<style>\n",
       "    /* Turns off some styling */\n",
       "    progress {\n",
       "        /* gets rid of default border in Firefox and Opera. */\n",
       "        border: none;\n",
       "        /* Needs to be in here for Safari polyfill so background images work as expected. */\n",
       "        background-size: auto;\n",
       "    }\n",
       "    progress:not([value]), progress:not([value])::-webkit-progress-bar {\n",
       "        background: repeating-linear-gradient(45deg, #7e7e7e, #7e7e7e 10px, #5c5c5c 10px, #5c5c5c 20px);\n",
       "    }\n",
       "    .progress-bar-interrupted, .progress-bar-interrupted::-webkit-progress-bar {\n",
       "        background: #F44336;\n",
       "    }\n",
       "</style>\n"
      ],
      "text/plain": [
       "<IPython.core.display.HTML object>"
      ]
     },
     "metadata": {},
     "output_type": "display_data"
    },
    {
     "data": {
      "text/html": [
       "\n",
       "    <div>\n",
       "      <progress value='16000' class='' max='16000' style='width:300px; height:20px; vertical-align: middle;'></progress>\n",
       "      100.00% [16000/16000 04:37&lt;00:00 Sampling 8 chains, 0 divergences]\n",
       "    </div>\n",
       "    "
      ],
      "text/plain": [
       "<IPython.core.display.HTML object>"
      ]
     },
     "metadata": {},
     "output_type": "display_data"
    },
    {
     "name": "stderr",
     "output_type": "stream",
     "text": [
      "Sampling 8 chains for 1_000 tune and 1_000 draw iterations (8_000 + 8_000 draws total) took 307 seconds.\n",
      "The rhat statistic is larger than 1.01 for some parameters. This indicates problems during sampling. See https://arxiv.org/abs/1903.08008 for details\n",
      "The effective sample size per chain is smaller than 100 for some parameters.  A higher number is needed for reliable rhat and ess computation. See https://arxiv.org/abs/1903.08008 for details\n"
     ]
    }
   ],
   "source": [
    "with pm.Model() as model:\n",
    "    variables = epm.use_model(bcm)\n",
    "    idata = pm.sample(step=[pm.DEMetropolisZ(variables)],draws=1000, chains=8, initvals=init_samps)"
   ]
  },
  {
   "cell_type": "code",
   "execution_count": null,
   "metadata": {},
   "outputs": [
    {
     "data": {
      "text/html": [
       "<div>\n",
       "<style scoped>\n",
       "    .dataframe tbody tr th:only-of-type {\n",
       "        vertical-align: middle;\n",
       "    }\n",
       "\n",
       "    .dataframe tbody tr th {\n",
       "        vertical-align: top;\n",
       "    }\n",
       "\n",
       "    .dataframe thead th {\n",
       "        text-align: right;\n",
       "    }\n",
       "</style>\n",
       "<table border=\"1\" class=\"dataframe\">\n",
       "  <thead>\n",
       "    <tr style=\"text-align: right;\">\n",
       "      <th></th>\n",
       "      <th>mean</th>\n",
       "      <th>sd</th>\n",
       "      <th>hdi_3%</th>\n",
       "      <th>hdi_97%</th>\n",
       "      <th>mcse_mean</th>\n",
       "      <th>mcse_sd</th>\n",
       "      <th>ess_bulk</th>\n",
       "      <th>ess_tail</th>\n",
       "      <th>r_hat</th>\n",
       "    </tr>\n",
       "  </thead>\n",
       "  <tbody>\n",
       "    <tr>\n",
       "      <th>start_population_size</th>\n",
       "      <td>2046761.600</td>\n",
       "      <td>69929.972</td>\n",
       "      <td>2000010.208</td>\n",
       "      <td>2257306.424</td>\n",
       "      <td>24157.262</td>\n",
       "      <td>17714.313</td>\n",
       "      <td>8.0</td>\n",
       "      <td>10.0</td>\n",
       "      <td>5.07</td>\n",
       "    </tr>\n",
       "    <tr>\n",
       "      <th>contact_rate</th>\n",
       "      <td>0.007</td>\n",
       "      <td>0.001</td>\n",
       "      <td>0.006</td>\n",
       "      <td>0.009</td>\n",
       "      <td>0.000</td>\n",
       "      <td>0.000</td>\n",
       "      <td>8.0</td>\n",
       "      <td>13.0</td>\n",
       "      <td>5.04</td>\n",
       "    </tr>\n",
       "    <tr>\n",
       "      <th>rr_infection_latent</th>\n",
       "      <td>0.337</td>\n",
       "      <td>0.099</td>\n",
       "      <td>0.230</td>\n",
       "      <td>0.500</td>\n",
       "      <td>0.035</td>\n",
       "      <td>0.026</td>\n",
       "      <td>8.0</td>\n",
       "      <td>14.0</td>\n",
       "      <td>5.11</td>\n",
       "    </tr>\n",
       "    <tr>\n",
       "      <th>rr_infection_recovered</th>\n",
       "      <td>0.345</td>\n",
       "      <td>0.088</td>\n",
       "      <td>0.239</td>\n",
       "      <td>0.491</td>\n",
       "      <td>0.031</td>\n",
       "      <td>0.023</td>\n",
       "      <td>8.0</td>\n",
       "      <td>10.0</td>\n",
       "      <td>5.34</td>\n",
       "    </tr>\n",
       "    <tr>\n",
       "      <th>progression_multiplier</th>\n",
       "      <td>1.032</td>\n",
       "      <td>0.030</td>\n",
       "      <td>1.001</td>\n",
       "      <td>1.092</td>\n",
       "      <td>0.011</td>\n",
       "      <td>0.008</td>\n",
       "      <td>8.0</td>\n",
       "      <td>10.0</td>\n",
       "      <td>5.24</td>\n",
       "    </tr>\n",
       "    <tr>\n",
       "      <th>seed_time</th>\n",
       "      <td>1891.939</td>\n",
       "      <td>2.579</td>\n",
       "      <td>1890.001</td>\n",
       "      <td>1897.026</td>\n",
       "      <td>0.904</td>\n",
       "      <td>0.663</td>\n",
       "      <td>9.0</td>\n",
       "      <td>13.0</td>\n",
       "      <td>3.87</td>\n",
       "    </tr>\n",
       "    <tr>\n",
       "      <th>seed_num</th>\n",
       "      <td>62.891</td>\n",
       "      <td>31.702</td>\n",
       "      <td>1.168</td>\n",
       "      <td>95.282</td>\n",
       "      <td>11.137</td>\n",
       "      <td>8.177</td>\n",
       "      <td>8.0</td>\n",
       "      <td>10.0</td>\n",
       "      <td>5.61</td>\n",
       "    </tr>\n",
       "    <tr>\n",
       "      <th>seed_duration</th>\n",
       "      <td>2.846</td>\n",
       "      <td>1.545</td>\n",
       "      <td>1.022</td>\n",
       "      <td>4.935</td>\n",
       "      <td>0.544</td>\n",
       "      <td>0.399</td>\n",
       "      <td>8.0</td>\n",
       "      <td>15.0</td>\n",
       "      <td>4.89</td>\n",
       "    </tr>\n",
       "    <tr>\n",
       "      <th>smear_positive_death_rate</th>\n",
       "      <td>0.405</td>\n",
       "      <td>0.034</td>\n",
       "      <td>0.337</td>\n",
       "      <td>0.449</td>\n",
       "      <td>0.012</td>\n",
       "      <td>0.009</td>\n",
       "      <td>8.0</td>\n",
       "      <td>11.0</td>\n",
       "      <td>5.18</td>\n",
       "    </tr>\n",
       "    <tr>\n",
       "      <th>smear_negative_death_rate</th>\n",
       "      <td>0.026</td>\n",
       "      <td>0.006</td>\n",
       "      <td>0.018</td>\n",
       "      <td>0.033</td>\n",
       "      <td>0.002</td>\n",
       "      <td>0.002</td>\n",
       "      <td>9.0</td>\n",
       "      <td>14.0</td>\n",
       "      <td>4.16</td>\n",
       "    </tr>\n",
       "    <tr>\n",
       "      <th>smear_positive_self_recovery</th>\n",
       "      <td>0.230</td>\n",
       "      <td>0.039</td>\n",
       "      <td>0.188</td>\n",
       "      <td>0.286</td>\n",
       "      <td>0.014</td>\n",
       "      <td>0.010</td>\n",
       "      <td>8.0</td>\n",
       "      <td>10.0</td>\n",
       "      <td>4.94</td>\n",
       "    </tr>\n",
       "    <tr>\n",
       "      <th>smear_negative_self_recovery</th>\n",
       "      <td>0.183</td>\n",
       "      <td>0.035</td>\n",
       "      <td>0.112</td>\n",
       "      <td>0.209</td>\n",
       "      <td>0.012</td>\n",
       "      <td>0.009</td>\n",
       "      <td>8.0</td>\n",
       "      <td>10.0</td>\n",
       "      <td>5.21</td>\n",
       "    </tr>\n",
       "    <tr>\n",
       "      <th>screening_scaleup_shape</th>\n",
       "      <td>0.093</td>\n",
       "      <td>0.008</td>\n",
       "      <td>0.078</td>\n",
       "      <td>0.100</td>\n",
       "      <td>0.003</td>\n",
       "      <td>0.002</td>\n",
       "      <td>9.0</td>\n",
       "      <td>14.0</td>\n",
       "      <td>4.40</td>\n",
       "    </tr>\n",
       "    <tr>\n",
       "      <th>screening_inflection_time</th>\n",
       "      <td>1994.464</td>\n",
       "      <td>1.893</td>\n",
       "      <td>1993.071</td>\n",
       "      <td>1999.241</td>\n",
       "      <td>0.666</td>\n",
       "      <td>0.489</td>\n",
       "      <td>8.0</td>\n",
       "      <td>13.0</td>\n",
       "      <td>4.71</td>\n",
       "    </tr>\n",
       "    <tr>\n",
       "      <th>screening_end_asymp</th>\n",
       "      <td>0.570</td>\n",
       "      <td>0.034</td>\n",
       "      <td>0.512</td>\n",
       "      <td>0.599</td>\n",
       "      <td>0.012</td>\n",
       "      <td>0.009</td>\n",
       "      <td>8.0</td>\n",
       "      <td>13.0</td>\n",
       "      <td>5.20</td>\n",
       "    </tr>\n",
       "  </tbody>\n",
       "</table>\n",
       "</div>"
      ],
      "text/plain": [
       "                                     mean         sd       hdi_3%  \\\n",
       "start_population_size         2046761.600  69929.972  2000010.208   \n",
       "contact_rate                        0.007      0.001        0.006   \n",
       "rr_infection_latent                 0.337      0.099        0.230   \n",
       "rr_infection_recovered              0.345      0.088        0.239   \n",
       "progression_multiplier              1.032      0.030        1.001   \n",
       "seed_time                        1891.939      2.579     1890.001   \n",
       "seed_num                           62.891     31.702        1.168   \n",
       "seed_duration                       2.846      1.545        1.022   \n",
       "smear_positive_death_rate           0.405      0.034        0.337   \n",
       "smear_negative_death_rate           0.026      0.006        0.018   \n",
       "smear_positive_self_recovery        0.230      0.039        0.188   \n",
       "smear_negative_self_recovery        0.183      0.035        0.112   \n",
       "screening_scaleup_shape             0.093      0.008        0.078   \n",
       "screening_inflection_time        1994.464      1.893     1993.071   \n",
       "screening_end_asymp                 0.570      0.034        0.512   \n",
       "\n",
       "                                  hdi_97%  mcse_mean    mcse_sd  ess_bulk  \\\n",
       "start_population_size         2257306.424  24157.262  17714.313       8.0   \n",
       "contact_rate                        0.009      0.000      0.000       8.0   \n",
       "rr_infection_latent                 0.500      0.035      0.026       8.0   \n",
       "rr_infection_recovered              0.491      0.031      0.023       8.0   \n",
       "progression_multiplier              1.092      0.011      0.008       8.0   \n",
       "seed_time                        1897.026      0.904      0.663       9.0   \n",
       "seed_num                           95.282     11.137      8.177       8.0   \n",
       "seed_duration                       4.935      0.544      0.399       8.0   \n",
       "smear_positive_death_rate           0.449      0.012      0.009       8.0   \n",
       "smear_negative_death_rate           0.033      0.002      0.002       9.0   \n",
       "smear_positive_self_recovery        0.286      0.014      0.010       8.0   \n",
       "smear_negative_self_recovery        0.209      0.012      0.009       8.0   \n",
       "screening_scaleup_shape             0.100      0.003      0.002       9.0   \n",
       "screening_inflection_time        1999.241      0.666      0.489       8.0   \n",
       "screening_end_asymp                 0.599      0.012      0.009       8.0   \n",
       "\n",
       "                              ess_tail  r_hat  \n",
       "start_population_size             10.0   5.07  \n",
       "contact_rate                      13.0   5.04  \n",
       "rr_infection_latent               14.0   5.11  \n",
       "rr_infection_recovered            10.0   5.34  \n",
       "progression_multiplier            10.0   5.24  \n",
       "seed_time                         13.0   3.87  \n",
       "seed_num                          10.0   5.61  \n",
       "seed_duration                     15.0   4.89  \n",
       "smear_positive_death_rate         11.0   5.18  \n",
       "smear_negative_death_rate         14.0   4.16  \n",
       "smear_positive_self_recovery      10.0   4.94  \n",
       "smear_negative_self_recovery      10.0   5.21  \n",
       "screening_scaleup_shape           14.0   4.40  \n",
       "screening_inflection_time         13.0   4.71  \n",
       "screening_end_asymp               13.0   5.20  "
      ]
     },
     "execution_count": 16,
     "metadata": {},
     "output_type": "execute_result"
    }
   ],
   "source": [
    "az.summary(idata)"
   ]
  },
  {
   "cell_type": "code",
   "execution_count": null,
   "metadata": {},
   "outputs": [
    {
     "data": {
      "text/plain": [
       "<AxesSubplot: xlabel='draw'>"
      ]
     },
     "execution_count": 30,
     "metadata": {},
     "output_type": "execute_result"
    },
    {
     "data": {
      "image/png": "[encoded data removed]",
      "text/plain": [
       "<Figure size 640x480 with 1 Axes>"
      ]
     },
     "metadata": {},
     "output_type": "display_data"
    }
   ],
   "source": [
    "lle = esamp.likelihood_extras_for_idata(idata, bcm)\n",
    "lle[\"logposterior\"].unstack([\"chain\"]).rolling(250).mean().plot()"
   ]
  },
  {
   "cell_type": "code",
   "execution_count": null,
   "metadata": {},
   "outputs": [],
   "source": [
    "burnt_idata = idata.sel(draw=np.s_[200:])\n",
    "sds = az.extract(burnt_idata, num_samples=500)"
   ]
  },
  {
   "cell_type": "code",
   "execution_count": null,
   "metadata": {},
   "outputs": [],
   "source": [
    "samp_res = esamp.model_results_for_samples(sds,bcm)"
   ]
  },
  {
   "cell_type": "code",
   "execution_count": null,
   "metadata": {},
   "outputs": [],
   "source": [
    "quantiles = esamp.quantiles_for_results(samp_res.results, (0.05,0.25,0.5,0.75,0.95))"
   ]
  },
  {
   "cell_type": "code",
   "execution_count": null,
   "metadata": {},
   "outputs": [
    {
     "data": {
      "text/plain": [
       "<AxesSubplot: xlabel='time'>"
      ]
     },
     "execution_count": 34,
     "metadata": {},
     "output_type": "execute_result"
    },
    {
     "data": {
      "image/png": "[encoded data removed]",
      "text/plain": [
       "<Figure size 640x480 with 1 Axes>"
      ]
     },
     "metadata": {},
     "output_type": "display_data"
    }
   ],
   "source": [
    "quantiles[\"notification\"].plot()\n",
    "bcm.targets[\"notification\"].data.plot(style='.',color=\"black\")"
   ]
  },
  {
   "cell_type": "code",
   "execution_count": null,
   "metadata": {},
   "outputs": [],
   "source": [
    "quantiles[\"total_population\"].plot()\n",
    "bcm.targets[\"total_population\"].data.plot(style='.',color=\"black\")"
   ]
  }
 ],
 "metadata": {
  "kernelspec": {
   "display_name": "tbdyn",
   "language": "python",
   "name": "python3"
  },
  "language_info": {
   "codemirror_mode": {
    "name": "ipython",
    "version": 3
   },
   "file_extension": ".py",
   "mimetype": "text/x-python",
   "name": "python",
   "nbconvert_exporter": "python",
   "pygments_lexer": "ipython3",
   "version": "3.10.13"
  }
 },
 "nbformat": 4,
 "nbformat_minor": 2
}
