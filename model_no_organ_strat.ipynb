{
 "cells": [
  {
   "cell_type": "code",
   "execution_count": null,
   "metadata": {},
   "outputs": [],
   "source": [
    "import pandas as pd\n",
    "from pathlib import Path\n",
    "import pylatex as pl\n",
    "from pylatex.utils import NoEscape\n",
    "import pymc as pm\n",
    "import arviz as az\n",
    "import plotly.express as px\n",
    "import numpy as np\n",
    "import pandas as pd\n",
    "\n",
    "from estival.model import BayesianCompartmentalModel\n",
    "import estival.priors as esp\n",
    "import estival.targets as est\n",
    "from estival.wrappers import pymc as epm\n",
    "from tbdynamics import model\n",
    "from tbdynamics.inputs import fixed_parameters\n",
    "from tbdynamics.utils import build_contact_matrix, round_sigfig\n",
    "import plotly.graph_objects as go\n",
    "#from emutools.parameters import load_param_info\n",
    "#from emutools.calibration import round_sigfig\n",
    "# from general_utils.doc_utils import TextElement, TableElement, FigElement, add_element_to_document, \\\n",
    "#     save_pyplot_add_to_doc, save_plotly_add_to_doc, compile_doc, generate_doc\n",
    "from emutools.tex import StandardTexDoc"
   ]
  },
  {
   "cell_type": "code",
   "execution_count": null,
   "metadata": {},
   "outputs": [],
   "source": [
    "PROJECT_PATH = Path().resolve()\n",
    "DATA_PATH = PROJECT_PATH / 'data'\n",
    "SUPPLEMENT_PATH = PROJECT_PATH / 'supplement'"
   ]
  },
  {
   "cell_type": "code",
   "execution_count": null,
   "metadata": {},
   "outputs": [],
   "source": [
    "params = {\n",
    "    \"contact_rate\": 0.009414102898074345,\n",
    "    \"start_population_size\": 227344.75719536067,\n",
    "    \"cdr_adjustment\": 0.6,\n",
    "    \"progression_multiplier\": 1.1,\n",
    "    \"infectious_seed\": 1,\n",
    "    \"rr_infection_latent\": 0.2,\n",
    "    \"rr_infection_recovered\": 0.2,\n",
    "    \"infect_death_rate_unstratified\": 0.21,\n",
    "    \"on_treatment_infect_multiplier\": 0.08,\n",
    "    'smear_positive_death_rate':0.364337776897486,\n",
    "    'smear_negative_death_rate': 0.027588310343242016, \n",
    "    'smear_positive_self_recovery': 0.20344728302826143,\n",
    "    'smear_negative_self_recovery': 0.22723824998716693,\n",
    "    'rr_progression_diabetes': 4.5,\n",
    "    'seed_time': 200.0,\n",
    "    'seed_duration': 1.0,\n",
    "    'seed_rate': 1.0\n",
    "\n",
    "}"
   ]
  },
  {
   "cell_type": "code",
   "execution_count": null,
   "metadata": {},
   "outputs": [],
   "source": [
    "pd.options.plotting.backend = \"plotly\"\n",
    "time_start = 1800\n",
    "time_end = 2020\n",
    "time_step = 0.1\n",
    "\n",
    "doc_sections = {}\n",
    "compartments = [\n",
    "    \"susceptible\",\n",
    "    \"early_latent\",\n",
    "    \"late_latent\",\n",
    "    \"infectious\",\n",
    "    \"on_treatment\",\n",
    "    \"recovered\",\n",
    "]\n",
    "infectious_compartments = [\n",
    "    \"infectious\",\n",
    "    \"on_treatment\",\n",
    "]\n",
    "\n",
    "latent_compartments = [\n",
    "    \"early_latent\",\n",
    "    \"late_latent\",\n",
    "]\n",
    "age_strata = [0,5,15,35,50,70] "
   ]
  },
  {
   "cell_type": "code",
   "execution_count": null,
   "metadata": {},
   "outputs": [],
   "source": [
    "app_doc = StandardTexDoc(PROJECT_PATH / 'supplement', 'supplement', \"TB dynamics Supplement\", 'tb')"
   ]
  },
  {
   "cell_type": "code",
   "execution_count": null,
   "metadata": {},
   "outputs": [],
   "source": [
    "matrix = build_contact_matrix()"
   ]
  },
  {
   "cell_type": "code",
   "execution_count": null,
   "metadata": {},
   "outputs": [],
   "source": [
    "tb_model = model.build_model(\n",
    "    compartments,\n",
    "    infectious_compartments,\n",
    "    latent_compartments,\n",
    "    age_strata,\n",
    "    time_start,\n",
    "    time_end,\n",
    "    time_step,\n",
    "    matrix,\n",
    "    fixed_parameters,\n",
    "    app_doc, \n",
    "    False\n",
    ")"
   ]
  },
  {
   "cell_type": "code",
   "execution_count": null,
   "metadata": {},
   "outputs": [],
   "source": [
    "priors = [\n",
    "    esp.UniformPrior(\"start_population_size\", (1, 300000)),\n",
    "    esp.UniformPrior(\"contact_rate\", (0.0001, 0.02)),\n",
    "    esp.UniformPrior(\"rr_infection_latent\", (0.2, 0.5)),\n",
    "    esp.UniformPrior(\"rr_infection_recovered\", (0.1, 0.5)),\n",
    "    esp.UniformPrior(\"smear_positive_death_rate\", (0.335, 0.449)),\n",
    "    esp.UniformPrior(\"smear_negative_death_rate\", (0.017, 0.035)),\n",
    "    esp.UniformPrior(\"smear_positive_self_recovery\", (0.177, 0.288)),\n",
    "    esp.UniformPrior(\"smear_negative_self_recovery\", (0.073, 0.209)),\n",
    "    # esp.UniformPrior(\"rr_progression_diabetes\", (2.0, 10.0)),\n",
    "    esp.UniformPrior(\"progression_multiplier\", (0.1, 2.0)),\n",
    "    # esp.UniformPrior(\"acf_scaleup_shape\", (0.,0.1)),\n",
    "    # # esp.UniformPrior(\"acf_inflection_time\", (1980,2019)),\n",
    "    # esp.UniformPrior(\"acf_start_asymp\", (0.,1.)),\n",
    "    # esp.UniformPrior(\"acf_end_asymp\", (0.,10.)),\n",
    "    # UniformPrior(\"cdr_adjustment\", [0.6, 1.0]),\n",
    "    esp.UniformPrior(\"infect_death_rate_dict.smear_positive\", [0.335, 0.449]),\n",
    "    esp.UniformPrior(\"infect_death_rate_dict.smear_negative\", [0.017, 0.035]),\n",
    "    esp.UniformPrior(\"self_recovery_rate_dict.smear_positive\", [0.177, 0.288]),\n",
    "    esp.UniformPrior(\"self_recovery_rate_dict.smear_negative\", [0.073, 0.209]),\n",
    "    esp.UniformPrior(\"seed_time\", [0.0, 150.0]),\n",
    "    esp.UniformPrior(\"seed_duration\", [0.0, 1.0]),\n",
    "    esp.UniformPrior(\"self_rate\", [1.0, 100.0]),\n",
    "]\n",
    "pop = pd.Series({2009: 1207100, 2019: 1194300})\n",
    "notif = pd.Series({2011: 1495,2012: 1485,2013: 1369,2014:1405,2015:1642, 2016:1555, 2017:1440, 2018:1468, 2019:1417})\n",
    "latent = pd.Series({2016:36})\n",
    "\n",
    "targets = [\n",
    "    est.NegativeBinomialTarget('total_population', pop, dispersion_param=2000),\n",
    "    #est.NormalTarget('percentage_latent', latent, stdev=5)\n",
    "]\n",
    "calibration_model = BayesianCompartmentalModel(tb_model, params, priors, targets)"
   ]
  },
  {
   "cell_type": "code",
   "execution_count": null,
   "metadata": {},
   "outputs": [],
   "source": [
    "with pm.Model() as pmc_model:\n",
    "    start_params = {k: np.clip(v, *calibration_model.priors[k].bounds(0.99)) for k, v in params.items() if k in calibration_model.priors}\n",
    "    variables = epm.use_model(calibration_model)\n",
    "    map_params = pm.find_MAP(start=start_params, vars=variables, include_transformed=False)\n",
    "    map_params = {k: float(v) for k, v in map_params.items()}\n",
    "    print('Best calibration parameters found:')\n",
    "for i_param, param in enumerate(map_params):\n",
    "    print(f'   {param}: {round_sigfig(map_params[param], 4)} (within bound {priors[i_param].bounds()}')"
   ]
  },
  {
   "cell_type": "code",
   "execution_count": null,
   "metadata": {},
   "outputs": [],
   "source": [
    "params.update(map_params)\n",
    "tb_model.run(params)\n",
    "derived_df_0 = tb_model.get_derived_outputs_df()\n",
    "plots = {\"total_population\": {\n",
    "      \"title\": \"Population size\",\n",
    "      \"output_key\": \"total_population\",\n",
    "      \"times\": [2009.0, 2019.0],\n",
    "      \"values\": [1207100, 1194300],\n",
    "      \"quantiles\": [0.025, 0.25, 0.5, 0.75, 0.975]\n",
    "    },\n",
    "     \"notifications\": {\n",
    "      \"title\": \"Notifications\",\n",
    "      \"output_key\": \"notifications\",\n",
    "      \"times\": [2011.0, 2012.0, 2013.0, 2014.0, 2015.0, 2016.0, 2017.0, 2018.0, 2019.0],\n",
    "      \"values\": [1495, 1485, 1369, 1405, 1642, 1555, 1440, 1468, 1417],\n",
    "      \"quantiles\": [0.025, 0.25, 0.5, 0.75, 0.975]\n",
    "    },\n",
    "    \"percentage_latent\": {\n",
    "      \"title\": \"Percentage Latent\",\n",
    "      \"output_key\": \"percentage_latent\",\n",
    "      \"times\": [2016.0],\n",
    "      \"values\": [30.8],\n",
    "      \"quantiles\": [0.025, 0.25, 0.5, 0.75, 0.975]\n",
    "    },\n",
    "    \n",
    "    }"
   ]
  },
  {
   "cell_type": "code",
   "execution_count": null,
   "metadata": {},
   "outputs": [],
   "source": [
    "fig2_1 = px.line(\n",
    "    derived_df_0,\n",
    "    x=derived_df_0.index,\n",
    "    y=\"total_population\",\n",
    ")\n",
    "fig2_2 = px.scatter(x= plots['total_population']['times'], y = plots['total_population']['values'])\n",
    "fig2_2.update_traces(marker=dict(color=\"red\"))\n",
    "fig2_3 = go.Figure(\n",
    "    data=fig2_1.data + fig2_2.data,\n",
    ")\n",
    "fig2_3.update_layout(\n",
    "    title=\"Modelled vs Data\", title_x=0.5, xaxis_title=\"Year\", yaxis_title=\"Population\"\n",
    ")\n",
    "fig2_3.show()\n"
   ]
  },
  {
   "cell_type": "code",
   "execution_count": null,
   "metadata": {},
   "outputs": [],
   "source": [
    "pop = derived_df_0[[f'total_populationXage_{i}' for i in age_strata]] "
   ]
  },
  {
   "cell_type": "code",
   "execution_count": null,
   "metadata": {},
   "outputs": [],
   "source": [
    "pop.plot.area()"
   ]
  },
  {
   "cell_type": "code",
   "execution_count": null,
   "metadata": {},
   "outputs": [],
   "source": [
    "pop.plot.area(log_y=True)"
   ]
  },
  {
   "cell_type": "code",
   "execution_count": null,
   "metadata": {},
   "outputs": [],
   "source": [
    "derived_df_0"
   ]
  }
 ],
 "metadata": {
  "kernelspec": {
   "display_name": "tbdyn",
   "language": "python",
   "name": "python3"
  },
  "language_info": {
   "codemirror_mode": {
    "name": "ipython",
    "version": 3
   },
   "file_extension": ".py",
   "mimetype": "text/x-python",
   "name": "python",
   "nbconvert_exporter": "python",
   "pygments_lexer": "ipython3",
   "version": "3.10.0"
  }
 },
 "nbformat": 4,
 "nbformat_minor": 2
}
