{
 "cells": [
  {
   "cell_type": "code",
   "execution_count": 1,
   "metadata": {},
   "outputs": [
    {
     "name": "stderr",
     "output_type": "stream",
     "text": [
      "WARNING (pytensor.configdefaults): g++ not available, if using conda: `conda install m2w64-toolchain`\n",
      "WARNING (pytensor.configdefaults): g++ not detected!  PyTensor will be unable to compile C-implementations and will default to Python. Performance may be severely degraded. To remove this warning, set PyTensor flags cxx to an empty string.\n",
      "WARNING (pytensor.tensor.blas): Using NumPy C-API based implementation for BLAS functions.\n"
     ]
    }
   ],
   "source": [
    "import warnings\n",
    "warnings.filterwarnings(\"ignore\")\n",
    "import numpy as np\n",
    "from pathlib import Path\n",
    "import pymc as pm\n",
    "import arviz as az\n",
    "import multiprocessing as mp\n",
    "from estival.wrappers import pymc as epm\n",
    "from estival.sampling import tools as esamp\n",
    "from estival.wrappers import nevergrad as eng\n",
    "from estival.utils.parallel import map_parallel\n",
    "import nevergrad as ng\n",
    "\n",
    "from tbdynamics.constants import BURN_IN, OPTI_DRAWS\n",
    "from autumn.infrastructure.remote import springboard\n",
    "from tbdynamics.calib_utils import get_bcm\n",
    "import pandas as pd\n",
    "from estival.utils.sample import SampleTypes\n"
   ]
  },
  {
   "cell_type": "code",
   "execution_count": 2,
   "metadata": {},
   "outputs": [],
   "source": [
    "params = {\n",
    "    # \"start_population_size\": 2400000,\n",
    "    # # \"contact_rate\": 0.00745895616585752,\n",
    "    # \"rr_infection_latent\": 0.25891122276497425,\n",
    "    # \"rr_infection_recovered\": 0.34957924926059264,\n",
    "    # \"progression_multiplier\": 1.6839943586933996,\n",
    "    # \"seed_time\": 1814.7241223970148,\n",
    "    # \"seed_num\": 36.509919333921204,\n",
    "    # \"seed_duration\": 16.644044537120465,\n",
    "    # \"smear_positive_death_rate\": 0.42934402690060847,\n",
    "    # \"smear_negative_death_rate\": 0.021003428835764996,\n",
    "    # \"smear_positive_self_recovery\": 0.25431711539772306,\n",
    "    # \"smear_negative_self_recovery\": 0.17302797078670518,\n",
    "    # \"screening_scaleup_shape\": 0.13113566147445102,\n",
    "    # \"screening_inflection_time\": 1993.4460082855571,\n",
    "    # \"screening_end_asymp\": 0.5758339575609973,\n",
    "    # \"detection_reduction\": 0.7562874736663389,\n",
    "}\n",
    "bcm = get_bcm(params)"
   ]
  },
  {
   "cell_type": "code",
   "execution_count": 3,
   "metadata": {},
   "outputs": [],
   "source": [
    "def calibrate(out_path, bcm, draws, tune):\n",
    "    def optimize_ng_with_idx(item):\n",
    "        idx, sample = item\n",
    "        opt = eng.optimize_model(bcm, budget=100, opt_class=ng.optimizers.TwoPointsDE, suggested = sample, num_workers=4)\n",
    "        rec= opt.minimize(100)\n",
    "        return idx, rec.value[1]\n",
    "\n",
    "    lhs_samples = bcm.sample.lhs(16, ci=0.67)\n",
    "    lhs_lle = esamp.likelihood_extras_for_samples(lhs_samples, bcm)\n",
    "    lhs_sorted = lhs_lle.sort_values(\"loglikelihood\", ascending=False)\n",
    "    opt_samples_idx = map_parallel(optimize_ng_with_idx, lhs_sorted.iterrows())\n",
    "    best_opt_samps = bcm.sample.convert(opt_samples_idx)\n",
    "    init_samps = best_opt_samps.convert(SampleTypes.LIST_OF_DICTS)[0:4]\n",
    "    n_chains = 4\n",
    "    n_samples = 200\n",
    "    with pm.Model() as pm_model:\n",
    "        variables = epm.use_model(bcm)\n",
    "        idata_raw = pm.sample(\n",
    "            step=[pm.DEMetropolisZ(variables)],\n",
    "            draws=draws,\n",
    "            tune=tune,\n",
    "            cores=4,\n",
    "            discard_tuned_samples=False,\n",
    "            chains=n_chains,\n",
    "            progressbar=True,\n",
    "            initvals=init_samps,\n",
    "        )\n",
    "    idata_raw.to_netcdf(str(out_path / \"calib_full_out.nc\"))\n",
    "\n",
    "    burnt_idata = idata_raw.sel(draw=np.s_[BURN_IN:])\n",
    "    idata_extract = az.extract(burnt_idata, num_samples=n_samples)\n",
    "    bcm.sample.convert(idata_extract).to_hdf5(out_path / \"calib_extract_out.h5\")\n",
    "\n",
    "    spaghetti_res = esamp.model_results_for_samples(idata_extract, bcm)\n",
    "    spaghetti_res.results.to_hdf(str(out_path / \"results.hdf\"), \"spaghetti\")\n",
    "\n",
    "    like_df = esamp.likelihood_extras_for_idata(idata_raw, bcm)\n",
    "    like_df.to_hdf(str(out_path / \"results.hdf\"), \"likelihood\")\n",
    "\n",
    "\n",
    "def run_calibration(bridge: springboard.task.TaskBridge, bcm, draws, tune):\n",
    "    import multiprocessing as mp\n",
    "    mp.set_start_method(\"forkserver\")\n",
    "    idata_raw = calibrate(bridge.out_path, bcm, draws, tune)\n",
    "    bridge.logger.info(\"Calibration complete\")"
   ]
  },
  {
   "cell_type": "code",
   "execution_count": 4,
   "metadata": {},
   "outputs": [
    {
     "name": "stderr",
     "output_type": "stream",
     "text": [
      "Multiprocess sampling (4 chains in 4 jobs)\n",
      "DEMetropolisZ: [start_population_size, contact_rate, rr_infection_latent, rr_infection_recovered, progression_multiplier, seed_time, seed_num, seed_duration, smear_positive_death_rate, smear_negative_death_rate, smear_positive_self_recovery, smear_negative_self_recovery, screening_scaleup_shape, screening_inflection_time, screening_end_asymp, detection_reduction]\n"
     ]
    },
    {
     "data": {
      "application/vnd.jupyter.widget-view+json": {
       "model_id": "695e0bb0fa7e415096a9574c528f5f57",
       "version_major": 2,
       "version_minor": 0
      },
      "text/plain": [
       "Output()"
      ]
     },
     "metadata": {},
     "output_type": "display_data"
    },
    {
     "data": {
      "text/html": [
       "<pre style=\"white-space:pre;overflow-x:auto;line-height:normal;font-family:Menlo,'DejaVu Sans Mono',consolas,'Courier New',monospace\"></pre>\n"
      ],
      "text/plain": []
     },
     "metadata": {},
     "output_type": "display_data"
    },
    {
     "data": {
      "text/html": [
       "<pre style=\"white-space:pre;overflow-x:auto;line-height:normal;font-family:Menlo,'DejaVu Sans Mono',consolas,'Courier New',monospace\">\n",
       "</pre>\n"
      ],
      "text/plain": [
       "\n"
      ]
     },
     "metadata": {},
     "output_type": "display_data"
    },
    {
     "ename": "ParallelSamplingError",
     "evalue": "Chain 2 failed with: 'Scratchpad' object has no attribute 'ufunc'\nApply node that caused the error: Add(Mul.0, Reshape{0}.0, Mul.0, Reshape{0}.0, Mul.0, Reshape{0}.0, Mul.0, Reshape{0}.0, Mul.0, Reshape{0}.0, Mul.0, Reshape{0}.0, Mul.0, Reshape{0}.0, Mul.0, Reshape{0}.0, Mul.0, Reshape{0}.0, Mul.0, Reshape{0}.0, Mul.0, Reshape{0}.0, Mul.0, Reshape{0}.0, Mul.0, Reshape{0}.0, Mul.0, Reshape{0}.0, Mul.0, Reshape{0}.0, Mul.0, Reshape{0}.0, Composite{...}.1, Composite{...}.1, Composite{...}.1, Composite{...}.1, Composite{...}.1, Composite{...}.1, Composite{...}.1, Composite{...}.1, Composite{...}.1, Composite{...}.1, Composite{...}.1, Composite{...}.1, Composite{...}.1, Composite{...}.1, Composite{...}.1, Composite{...}.1, loglikelihood)\nToposort index: 241\nInputs types: [TensorType(float64, shape=()), TensorType(float64, shape=()), TensorType(float64, shape=()), TensorType(float64, shape=()), TensorType(float64, shape=()), TensorType(float64, shape=()), TensorType(float64, shape=()), TensorType(float64, shape=()), TensorType(float64, shape=()), TensorType(float64, shape=()), TensorType(float64, shape=()), TensorType(float64, shape=()), TensorType(float64, shape=()), TensorType(float64, shape=()), TensorType(float64, shape=()), TensorType(float64, shape=()), TensorType(float64, shape=()), TensorType(float64, shape=()), TensorType(float64, shape=()), TensorType(float64, shape=()), TensorType(float64, shape=()), TensorType(float64, shape=()), TensorType(float64, shape=()), TensorType(float64, shape=()), TensorType(float64, shape=()), TensorType(float64, shape=()), TensorType(float64, shape=()), TensorType(float64, shape=()), TensorType(float64, shape=()), TensorType(float64, shape=()), TensorType(float64, shape=()), TensorType(float64, shape=()), TensorType(float32, shape=()), TensorType(float64, shape=()), TensorType(float64, shape=()), TensorType(float64, shape=()), TensorType(float32, shape=()), TensorType(float32, shape=()), TensorType(float32, shape=()), TensorType(float32, shape=()), TensorType(float64, shape=()), TensorType(float64, shape=()), TensorType(float64, shape=()), TensorType(float64, shape=()), TensorType(float64, shape=()), TensorType(float32, shape=()), TensorType(float64, shape=()), TensorType(float64, shape=()), TensorType(float64, shape=())]\nInputs shapes: [(), (), (), (), (), (), (), (), (), (), (), (), (), (), (), (), (), (), (), (), (), (), (), (), (), (), (), (), (), (), (), (), (), (), (), (), (), (), (), (), (), (), (), (), (), (), (), (), ()]\nInputs strides: [(), (), (), (), (), (), (), (), (), (), (), (), (), (), (), (), (), (), (), (), (), (), (), (), (), (), (), (), (), (), (), (), (), (), (), (), (), (), (), (), (), (), (), (), (), (), (), (), ()]\nInputs values: [array(2.09007558), array(-0.61166918), array(0.39651615), array(1.51741942), array(1.02275598), array(0.40408477), array(1.21288897), array(0.18164259), array(2.67679347), array(-1.03422503), array(5.25666423), array(-2.55339434), array(0.82690484), array(0.66937413), array(0.04979619), array(3.68048916), array(0.99557531), array(0.43838441), array(1.66711807), array(-0.26351382), array(2.36369194), array(-0.81553614), array(5.19600701), array(-2.52066662), array(0.46250752), array(1.3463855), array(4.22671189), array(-1.98457692), array(0.94561918), array(0.50336049), array(1.6358803), array(-0.23572627), array(-13.122363, dtype=float32), array(5.80914299), array(1.2039728), array(1.2039728), array(0.6931472, dtype=float32), array(-3.6888795, dtype=float32), array(-4.59512, dtype=float32), array(-2.944439, dtype=float32), array(2.17155683), array(4.01738352), array(2.19822508), array(1.99510039), array(2.30258509), array(-2.9957323, dtype=float32), array(1.89711998), array(1.60943791), array(-24.74704138)]\nOutputs clients: [[Sub(Add.0, Add.0)]]\n\nHINT: Re-running with most PyTensor optimizations disabled could provide a back-trace showing when this node was created. This can be done by setting the PyTensor flag 'optimizer=fast_compile'. If that does not work, PyTensor optimizations can be disabled with 'optimizer=None'.\nHINT: Use the PyTensor flag `exception_verbosity=high` for a debug print-out and storage map footprint of this Apply node.",
     "output_type": "error",
     "traceback": [
      "\u001b[1;31m---------------------------------------------------------------------------\u001b[0m",
      "\u001b[1;31mRemoteTraceback\u001b[0m                           Traceback (most recent call last)",
      "\u001b[1;31mRemoteTraceback\u001b[0m: \n\"\"\"\nTraceback (most recent call last):\n  File \"c:\\Users\\vbui0010\\Anaconda3\\envs\\tbdyn\\lib\\site-packages\\pytensor\\link\\vm.py\", line 407, in __call__\n    thunk()\n  File \"c:\\Users\\vbui0010\\Anaconda3\\envs\\tbdyn\\lib\\site-packages\\pytensor\\graph\\op.py\", line 515, in rval\n    r = p(n, [x[0] for x in i], o)\n  File \"c:\\Users\\vbui0010\\Anaconda3\\envs\\tbdyn\\lib\\site-packages\\pytensor\\tensor\\elemwise.py\", line 747, in perform\n    ufunc = node.tag.ufunc\n  File \"c:\\Users\\vbui0010\\Anaconda3\\envs\\tbdyn\\lib\\site-packages\\pytensor\\graph\\utils.py\", line 286, in __getattribute__\n    return super().__getattribute__(name)\nAttributeError: 'Scratchpad' object has no attribute 'ufunc'\n\nDuring handling of the above exception, another exception occurred:\n\nTraceback (most recent call last):\n  File \"c:\\Users\\vbui0010\\Anaconda3\\envs\\tbdyn\\lib\\site-packages\\pymc\\sampling\\parallel.py\", line 124, in run\n    self._start_loop()\n  File \"c:\\Users\\vbui0010\\Anaconda3\\envs\\tbdyn\\lib\\site-packages\\pymc\\sampling\\parallel.py\", line 176, in _start_loop\n    point, stats = self._step_method.step(self._point)\n  File \"c:\\Users\\vbui0010\\Anaconda3\\envs\\tbdyn\\lib\\site-packages\\pymc\\step_methods\\arraystep.py\", line 101, in step\n    apoint, stats = self.astep(q)\n  File \"c:\\Users\\vbui0010\\Anaconda3\\envs\\tbdyn\\lib\\site-packages\\pymc\\step_methods\\metropolis.py\", line 1009, in astep\n    accept = self.delta_logp(q, q0d)\n  File \"c:\\Users\\vbui0010\\Anaconda3\\envs\\tbdyn\\lib\\site-packages\\pytensor\\compile\\function\\types.py\", line 970, in __call__\n    self.vm()\n  File \"c:\\Users\\vbui0010\\Anaconda3\\envs\\tbdyn\\lib\\site-packages\\pytensor\\link\\vm.py\", line 411, in __call__\n    raise_with_op(self.fgraph, node, thunk)\n  File \"c:\\Users\\vbui0010\\Anaconda3\\envs\\tbdyn\\lib\\site-packages\\pytensor\\link\\utils.py\", line 523, in raise_with_op\n    raise exc_value.with_traceback(exc_trace)\n  File \"c:\\Users\\vbui0010\\Anaconda3\\envs\\tbdyn\\lib\\site-packages\\pytensor\\link\\vm.py\", line 407, in __call__\n    thunk()\n  File \"c:\\Users\\vbui0010\\Anaconda3\\envs\\tbdyn\\lib\\site-packages\\pytensor\\graph\\op.py\", line 515, in rval\n    r = p(n, [x[0] for x in i], o)\n  File \"c:\\Users\\vbui0010\\Anaconda3\\envs\\tbdyn\\lib\\site-packages\\pytensor\\tensor\\elemwise.py\", line 747, in perform\n    ufunc = node.tag.ufunc\n  File \"c:\\Users\\vbui0010\\Anaconda3\\envs\\tbdyn\\lib\\site-packages\\pytensor\\graph\\utils.py\", line 286, in __getattribute__\n    return super().__getattribute__(name)\nAttributeError: 'Scratchpad' object has no attribute 'ufunc'\nApply node that caused the error: Add(Mul.0, Reshape{0}.0, Mul.0, Reshape{0}.0, Mul.0, Reshape{0}.0, Mul.0, Reshape{0}.0, Mul.0, Reshape{0}.0, Mul.0, Reshape{0}.0, Mul.0, Reshape{0}.0, Mul.0, Reshape{0}.0, Mul.0, Reshape{0}.0, Mul.0, Reshape{0}.0, Mul.0, Reshape{0}.0, Mul.0, Reshape{0}.0, Mul.0, Reshape{0}.0, Mul.0, Reshape{0}.0, Mul.0, Reshape{0}.0, Mul.0, Reshape{0}.0, Composite{...}.1, Composite{...}.1, Composite{...}.1, Composite{...}.1, Composite{...}.1, Composite{...}.1, Composite{...}.1, Composite{...}.1, Composite{...}.1, Composite{...}.1, Composite{...}.1, Composite{...}.1, Composite{...}.1, Composite{...}.1, Composite{...}.1, Composite{...}.1, loglikelihood)\nToposort index: 241\nInputs types: [TensorType(float64, shape=()), TensorType(float64, shape=()), TensorType(float64, shape=()), TensorType(float64, shape=()), TensorType(float64, shape=()), TensorType(float64, shape=()), TensorType(float64, shape=()), TensorType(float64, shape=()), TensorType(float64, shape=()), TensorType(float64, shape=()), TensorType(float64, shape=()), TensorType(float64, shape=()), TensorType(float64, shape=()), TensorType(float64, shape=()), TensorType(float64, shape=()), TensorType(float64, shape=()), TensorType(float64, shape=()), TensorType(float64, shape=()), TensorType(float64, shape=()), TensorType(float64, shape=()), TensorType(float64, shape=()), TensorType(float64, shape=()), TensorType(float64, shape=()), TensorType(float64, shape=()), TensorType(float64, shape=()), TensorType(float64, shape=()), TensorType(float64, shape=()), TensorType(float64, shape=()), TensorType(float64, shape=()), TensorType(float64, shape=()), TensorType(float64, shape=()), TensorType(float64, shape=()), TensorType(float32, shape=()), TensorType(float64, shape=()), TensorType(float64, shape=()), TensorType(float64, shape=()), TensorType(float32, shape=()), TensorType(float32, shape=()), TensorType(float32, shape=()), TensorType(float32, shape=()), TensorType(float64, shape=()), TensorType(float64, shape=()), TensorType(float64, shape=()), TensorType(float64, shape=()), TensorType(float64, shape=()), TensorType(float32, shape=()), TensorType(float64, shape=()), TensorType(float64, shape=()), TensorType(float64, shape=())]\nInputs shapes: [(), (), (), (), (), (), (), (), (), (), (), (), (), (), (), (), (), (), (), (), (), (), (), (), (), (), (), (), (), (), (), (), (), (), (), (), (), (), (), (), (), (), (), (), (), (), (), (), ()]\nInputs strides: [(), (), (), (), (), (), (), (), (), (), (), (), (), (), (), (), (), (), (), (), (), (), (), (), (), (), (), (), (), (), (), (), (), (), (), (), (), (), (), (), (), (), (), (), (), (), (), (), ()]\nInputs values: [array(2.09007558), array(-0.61166918), array(0.39651615), array(1.51741942), array(1.02275598), array(0.40408477), array(1.21288897), array(0.18164259), array(2.67679347), array(-1.03422503), array(5.25666423), array(-2.55339434), array(0.82690484), array(0.66937413), array(0.04979619), array(3.68048916), array(0.99557531), array(0.43838441), array(1.66711807), array(-0.26351382), array(2.36369194), array(-0.81553614), array(5.19600701), array(-2.52066662), array(0.46250752), array(1.3463855), array(4.22671189), array(-1.98457692), array(0.94561918), array(0.50336049), array(1.6358803), array(-0.23572627), array(-13.122363, dtype=float32), array(5.80914299), array(1.2039728), array(1.2039728), array(0.6931472, dtype=float32), array(-3.6888795, dtype=float32), array(-4.59512, dtype=float32), array(-2.944439, dtype=float32), array(2.17155683), array(4.01738352), array(2.19822508), array(1.99510039), array(2.30258509), array(-2.9957323, dtype=float32), array(1.89711998), array(1.60943791), array(-24.74704138)]\nOutputs clients: [[Sub(Add.0, Add.0)]]\n\nHINT: Re-running with most PyTensor optimizations disabled could provide a back-trace showing when this node was created. This can be done by setting the PyTensor flag 'optimizer=fast_compile'. If that does not work, PyTensor optimizations can be disabled with 'optimizer=None'.\nHINT: Use the PyTensor flag `exception_verbosity=high` for a debug print-out and storage map footprint of this Apply node.\n\"\"\"",
      "\nThe above exception was the direct cause of the following exception:\n",
      "\u001b[1;31mAttributeError\u001b[0m                            Traceback (most recent call last)",
      "\u001b[1;31mAttributeError\u001b[0m: 'Scratchpad' object has no attribute 'ufunc'\nApply node that caused the error: Add(Mul.0, Reshape{0}.0, Mul.0, Reshape{0}.0, Mul.0, Reshape{0}.0, Mul.0, Reshape{0}.0, Mul.0, Reshape{0}.0, Mul.0, Reshape{0}.0, Mul.0, Reshape{0}.0, Mul.0, Reshape{0}.0, Mul.0, Reshape{0}.0, Mul.0, Reshape{0}.0, Mul.0, Reshape{0}.0, Mul.0, Reshape{0}.0, Mul.0, Reshape{0}.0, Mul.0, Reshape{0}.0, Mul.0, Reshape{0}.0, Mul.0, Reshape{0}.0, Composite{...}.1, Composite{...}.1, Composite{...}.1, Composite{...}.1, Composite{...}.1, Composite{...}.1, Composite{...}.1, Composite{...}.1, Composite{...}.1, Composite{...}.1, Composite{...}.1, Composite{...}.1, Composite{...}.1, Composite{...}.1, Composite{...}.1, Composite{...}.1, loglikelihood)\nToposort index: 241\nInputs types: [TensorType(float64, shape=()), TensorType(float64, shape=()), TensorType(float64, shape=()), TensorType(float64, shape=()), TensorType(float64, shape=()), TensorType(float64, shape=()), TensorType(float64, shape=()), TensorType(float64, shape=()), TensorType(float64, shape=()), TensorType(float64, shape=()), TensorType(float64, shape=()), TensorType(float64, shape=()), TensorType(float64, shape=()), TensorType(float64, shape=()), TensorType(float64, shape=()), TensorType(float64, shape=()), TensorType(float64, shape=()), TensorType(float64, shape=()), TensorType(float64, shape=()), TensorType(float64, shape=()), TensorType(float64, shape=()), TensorType(float64, shape=()), TensorType(float64, shape=()), TensorType(float64, shape=()), TensorType(float64, shape=()), TensorType(float64, shape=()), TensorType(float64, shape=()), TensorType(float64, shape=()), TensorType(float64, shape=()), TensorType(float64, shape=()), TensorType(float64, shape=()), TensorType(float64, shape=()), TensorType(float32, shape=()), TensorType(float64, shape=()), TensorType(float64, shape=()), TensorType(float64, shape=()), TensorType(float32, shape=()), TensorType(float32, shape=()), TensorType(float32, shape=()), TensorType(float32, shape=()), TensorType(float64, shape=()), TensorType(float64, shape=()), TensorType(float64, shape=()), TensorType(float64, shape=()), TensorType(float64, shape=()), TensorType(float32, shape=()), TensorType(float64, shape=()), TensorType(float64, shape=()), TensorType(float64, shape=())]\nInputs shapes: [(), (), (), (), (), (), (), (), (), (), (), (), (), (), (), (), (), (), (), (), (), (), (), (), (), (), (), (), (), (), (), (), (), (), (), (), (), (), (), (), (), (), (), (), (), (), (), (), ()]\nInputs strides: [(), (), (), (), (), (), (), (), (), (), (), (), (), (), (), (), (), (), (), (), (), (), (), (), (), (), (), (), (), (), (), (), (), (), (), (), (), (), (), (), (), (), (), (), (), (), (), (), ()]\nInputs values: [array(2.09007558), array(-0.61166918), array(0.39651615), array(1.51741942), array(1.02275598), array(0.40408477), array(1.21288897), array(0.18164259), array(2.67679347), array(-1.03422503), array(5.25666423), array(-2.55339434), array(0.82690484), array(0.66937413), array(0.04979619), array(3.68048916), array(0.99557531), array(0.43838441), array(1.66711807), array(-0.26351382), array(2.36369194), array(-0.81553614), array(5.19600701), array(-2.52066662), array(0.46250752), array(1.3463855), array(4.22671189), array(-1.98457692), array(0.94561918), array(0.50336049), array(1.6358803), array(-0.23572627), array(-13.122363, dtype=float32), array(5.80914299), array(1.2039728), array(1.2039728), array(0.6931472, dtype=float32), array(-3.6888795, dtype=float32), array(-4.59512, dtype=float32), array(-2.944439, dtype=float32), array(2.17155683), array(4.01738352), array(2.19822508), array(1.99510039), array(2.30258509), array(-2.9957323, dtype=float32), array(1.89711998), array(1.60943791), array(-24.74704138)]\nOutputs clients: [[Sub(Add.0, Add.0)]]\n\nHINT: Re-running with most PyTensor optimizations disabled could provide a back-trace showing when this node was created. This can be done by setting the PyTensor flag 'optimizer=fast_compile'. If that does not work, PyTensor optimizations can be disabled with 'optimizer=None'.\nHINT: Use the PyTensor flag `exception_verbosity=high` for a debug print-out and storage map footprint of this Apply node.",
      "\nThe above exception was the direct cause of the following exception:\n",
      "\u001b[1;31mParallelSamplingError\u001b[0m                     Traceback (most recent call last)",
      "Cell \u001b[1;32mIn[4], line 4\u001b[0m\n\u001b[0;32m      2\u001b[0m draws\u001b[38;5;241m=\u001b[39m \u001b[38;5;241m3000\u001b[39m\n\u001b[0;32m      3\u001b[0m tune \u001b[38;5;241m=\u001b[39m \u001b[38;5;241m1000\u001b[39m\n\u001b[1;32m----> 4\u001b[0m \u001b[43mcalibrate\u001b[49m\u001b[43m(\u001b[49m\u001b[43mOUT_PATH\u001b[49m\u001b[43m,\u001b[49m\u001b[43mbcm\u001b[49m\u001b[43m,\u001b[49m\u001b[43m \u001b[49m\u001b[43mdraws\u001b[49m\u001b[43m,\u001b[49m\u001b[43m \u001b[49m\u001b[43mtune\u001b[49m\u001b[43m)\u001b[49m\n",
      "Cell \u001b[1;32mIn[3], line 18\u001b[0m, in \u001b[0;36mcalibrate\u001b[1;34m(out_path, bcm, draws, tune)\u001b[0m\n\u001b[0;32m     16\u001b[0m \u001b[38;5;28;01mwith\u001b[39;00m pm\u001b[38;5;241m.\u001b[39mModel() \u001b[38;5;28;01mas\u001b[39;00m pm_model:\n\u001b[0;32m     17\u001b[0m     variables \u001b[38;5;241m=\u001b[39m epm\u001b[38;5;241m.\u001b[39muse_model(bcm)\n\u001b[1;32m---> 18\u001b[0m     idata_raw \u001b[38;5;241m=\u001b[39m \u001b[43mpm\u001b[49m\u001b[38;5;241;43m.\u001b[39;49m\u001b[43msample\u001b[49m\u001b[43m(\u001b[49m\n\u001b[0;32m     19\u001b[0m \u001b[43m        \u001b[49m\u001b[43mstep\u001b[49m\u001b[38;5;241;43m=\u001b[39;49m\u001b[43m[\u001b[49m\u001b[43mpm\u001b[49m\u001b[38;5;241;43m.\u001b[39;49m\u001b[43mDEMetropolisZ\u001b[49m\u001b[43m(\u001b[49m\u001b[43mvariables\u001b[49m\u001b[43m)\u001b[49m\u001b[43m]\u001b[49m\u001b[43m,\u001b[49m\n\u001b[0;32m     20\u001b[0m \u001b[43m        \u001b[49m\u001b[43mdraws\u001b[49m\u001b[38;5;241;43m=\u001b[39;49m\u001b[43mdraws\u001b[49m\u001b[43m,\u001b[49m\n\u001b[0;32m     21\u001b[0m \u001b[43m        \u001b[49m\u001b[43mtune\u001b[49m\u001b[38;5;241;43m=\u001b[39;49m\u001b[43mtune\u001b[49m\u001b[43m,\u001b[49m\n\u001b[0;32m     22\u001b[0m \u001b[43m        \u001b[49m\u001b[43mcores\u001b[49m\u001b[38;5;241;43m=\u001b[39;49m\u001b[38;5;241;43m4\u001b[39;49m\u001b[43m,\u001b[49m\n\u001b[0;32m     23\u001b[0m \u001b[43m        \u001b[49m\u001b[43mdiscard_tuned_samples\u001b[49m\u001b[38;5;241;43m=\u001b[39;49m\u001b[38;5;28;43;01mFalse\u001b[39;49;00m\u001b[43m,\u001b[49m\n\u001b[0;32m     24\u001b[0m \u001b[43m        \u001b[49m\u001b[43mchains\u001b[49m\u001b[38;5;241;43m=\u001b[39;49m\u001b[43mn_chains\u001b[49m\u001b[43m,\u001b[49m\n\u001b[0;32m     25\u001b[0m \u001b[43m        \u001b[49m\u001b[43mprogressbar\u001b[49m\u001b[38;5;241;43m=\u001b[39;49m\u001b[38;5;28;43;01mTrue\u001b[39;49;00m\u001b[43m,\u001b[49m\n\u001b[0;32m     26\u001b[0m \u001b[43m        \u001b[49m\u001b[43minitvals\u001b[49m\u001b[38;5;241;43m=\u001b[39;49m\u001b[43minit_samps\u001b[49m\u001b[43m,\u001b[49m\n\u001b[0;32m     27\u001b[0m \u001b[43m    \u001b[49m\u001b[43m)\u001b[49m\n\u001b[0;32m     28\u001b[0m idata_raw\u001b[38;5;241m.\u001b[39mto_netcdf(\u001b[38;5;28mstr\u001b[39m(out_path \u001b[38;5;241m/\u001b[39m \u001b[38;5;124m\"\u001b[39m\u001b[38;5;124mcalib_full_out.nc\u001b[39m\u001b[38;5;124m\"\u001b[39m))\n\u001b[0;32m     30\u001b[0m burnt_idata \u001b[38;5;241m=\u001b[39m idata_raw\u001b[38;5;241m.\u001b[39msel(draw\u001b[38;5;241m=\u001b[39mnp\u001b[38;5;241m.\u001b[39ms_[BURN_IN:])\n",
      "File \u001b[1;32mc:\\Users\\vbui0010\\Anaconda3\\envs\\tbdyn\\lib\\site-packages\\pymc\\sampling\\mcmc.py:807\u001b[0m, in \u001b[0;36msample\u001b[1;34m(draws, tune, chains, cores, random_seed, progressbar, progressbar_theme, step, var_names, nuts_sampler, initvals, init, jitter_max_retries, n_init, trace, discard_tuned_samples, compute_convergence_checks, keep_warning_stat, return_inferencedata, idata_kwargs, nuts_sampler_kwargs, callback, mp_ctx, model, **kwargs)\u001b[0m\n\u001b[0;32m    805\u001b[0m _print_step_hierarchy(step)\n\u001b[0;32m    806\u001b[0m \u001b[38;5;28;01mtry\u001b[39;00m:\n\u001b[1;32m--> 807\u001b[0m     _mp_sample(\u001b[38;5;241m*\u001b[39m\u001b[38;5;241m*\u001b[39msample_args, \u001b[38;5;241m*\u001b[39m\u001b[38;5;241m*\u001b[39mparallel_args)\n\u001b[0;32m    808\u001b[0m \u001b[38;5;28;01mexcept\u001b[39;00m pickle\u001b[38;5;241m.\u001b[39mPickleError:\n\u001b[0;32m    809\u001b[0m     _log\u001b[38;5;241m.\u001b[39mwarning(\u001b[38;5;124m\"\u001b[39m\u001b[38;5;124mCould not pickle model, sampling singlethreaded.\u001b[39m\u001b[38;5;124m\"\u001b[39m)\n",
      "File \u001b[1;32mc:\\Users\\vbui0010\\Anaconda3\\envs\\tbdyn\\lib\\site-packages\\pymc\\sampling\\mcmc.py:1200\u001b[0m, in \u001b[0;36m_mp_sample\u001b[1;34m(draws, tune, step, chains, cores, random_seed, start, progressbar, progressbar_theme, traces, model, callback, mp_ctx, **kwargs)\u001b[0m\n\u001b[0;32m   1198\u001b[0m \u001b[38;5;28;01mtry\u001b[39;00m:\n\u001b[0;32m   1199\u001b[0m     \u001b[38;5;28;01mwith\u001b[39;00m sampler:\n\u001b[1;32m-> 1200\u001b[0m         \u001b[38;5;28;01mfor\u001b[39;00m draw \u001b[38;5;129;01min\u001b[39;00m sampler:\n\u001b[0;32m   1201\u001b[0m             strace \u001b[38;5;241m=\u001b[39m traces[draw\u001b[38;5;241m.\u001b[39mchain]\n\u001b[0;32m   1202\u001b[0m             strace\u001b[38;5;241m.\u001b[39mrecord(draw\u001b[38;5;241m.\u001b[39mpoint, draw\u001b[38;5;241m.\u001b[39mstats)\n",
      "File \u001b[1;32mc:\\Users\\vbui0010\\Anaconda3\\envs\\tbdyn\\lib\\site-packages\\pymc\\sampling\\parallel.py:461\u001b[0m, in \u001b[0;36mParallelSampler.__iter__\u001b[1;34m(self)\u001b[0m\n\u001b[0;32m    453\u001b[0m task \u001b[38;5;241m=\u001b[39m progress\u001b[38;5;241m.\u001b[39madd_task(\n\u001b[0;32m    454\u001b[0m     \u001b[38;5;28mself\u001b[39m\u001b[38;5;241m.\u001b[39m_desc\u001b[38;5;241m.\u001b[39mformat(\u001b[38;5;28mself\u001b[39m),\n\u001b[0;32m    455\u001b[0m     completed\u001b[38;5;241m=\u001b[39m\u001b[38;5;28mself\u001b[39m\u001b[38;5;241m.\u001b[39m_completed_draws,\n\u001b[0;32m    456\u001b[0m     total\u001b[38;5;241m=\u001b[39m\u001b[38;5;28mself\u001b[39m\u001b[38;5;241m.\u001b[39m_total_draws,\n\u001b[0;32m    457\u001b[0m     visible\u001b[38;5;241m=\u001b[39m\u001b[38;5;28mself\u001b[39m\u001b[38;5;241m.\u001b[39m_show_progress,\n\u001b[0;32m    458\u001b[0m )\n\u001b[0;32m    460\u001b[0m \u001b[38;5;28;01mwhile\u001b[39;00m \u001b[38;5;28mself\u001b[39m\u001b[38;5;241m.\u001b[39m_active:\n\u001b[1;32m--> 461\u001b[0m     draw \u001b[38;5;241m=\u001b[39m \u001b[43mProcessAdapter\u001b[49m\u001b[38;5;241;43m.\u001b[39;49m\u001b[43mrecv_draw\u001b[49m\u001b[43m(\u001b[49m\u001b[38;5;28;43mself\u001b[39;49m\u001b[38;5;241;43m.\u001b[39;49m\u001b[43m_active\u001b[49m\u001b[43m)\u001b[49m\n\u001b[0;32m    462\u001b[0m     proc, is_last, draw, tuning, stats \u001b[38;5;241m=\u001b[39m draw\n\u001b[0;32m    463\u001b[0m     \u001b[38;5;28mself\u001b[39m\u001b[38;5;241m.\u001b[39m_completed_draws \u001b[38;5;241m+\u001b[39m\u001b[38;5;241m=\u001b[39m \u001b[38;5;241m1\u001b[39m\n",
      "File \u001b[1;32mc:\\Users\\vbui0010\\Anaconda3\\envs\\tbdyn\\lib\\site-packages\\pymc\\sampling\\parallel.py:332\u001b[0m, in \u001b[0;36mProcessAdapter.recv_draw\u001b[1;34m(processes, timeout)\u001b[0m\n\u001b[0;32m    330\u001b[0m     \u001b[38;5;28;01melse\u001b[39;00m:\n\u001b[0;32m    331\u001b[0m         error \u001b[38;5;241m=\u001b[39m \u001b[38;5;167;01mRuntimeError\u001b[39;00m(\u001b[38;5;124mf\u001b[39m\u001b[38;5;124m\"\u001b[39m\u001b[38;5;124mChain \u001b[39m\u001b[38;5;132;01m{\u001b[39;00mproc\u001b[38;5;241m.\u001b[39mchain\u001b[38;5;132;01m}\u001b[39;00m\u001b[38;5;124m failed.\u001b[39m\u001b[38;5;124m\"\u001b[39m)\n\u001b[1;32m--> 332\u001b[0m     \u001b[38;5;28;01mraise\u001b[39;00m error \u001b[38;5;28;01mfrom\u001b[39;00m \u001b[38;5;21;01mold_error\u001b[39;00m\n\u001b[0;32m    333\u001b[0m \u001b[38;5;28;01melif\u001b[39;00m msg[\u001b[38;5;241m0\u001b[39m] \u001b[38;5;241m==\u001b[39m \u001b[38;5;124m\"\u001b[39m\u001b[38;5;124mwriting_done\u001b[39m\u001b[38;5;124m\"\u001b[39m:\n\u001b[0;32m    334\u001b[0m     proc\u001b[38;5;241m.\u001b[39m_readable \u001b[38;5;241m=\u001b[39m \u001b[38;5;28;01mTrue\u001b[39;00m\n",
      "\u001b[1;31mParallelSamplingError\u001b[0m: Chain 2 failed with: 'Scratchpad' object has no attribute 'ufunc'\nApply node that caused the error: Add(Mul.0, Reshape{0}.0, Mul.0, Reshape{0}.0, Mul.0, Reshape{0}.0, Mul.0, Reshape{0}.0, Mul.0, Reshape{0}.0, Mul.0, Reshape{0}.0, Mul.0, Reshape{0}.0, Mul.0, Reshape{0}.0, Mul.0, Reshape{0}.0, Mul.0, Reshape{0}.0, Mul.0, Reshape{0}.0, Mul.0, Reshape{0}.0, Mul.0, Reshape{0}.0, Mul.0, Reshape{0}.0, Mul.0, Reshape{0}.0, Mul.0, Reshape{0}.0, Composite{...}.1, Composite{...}.1, Composite{...}.1, Composite{...}.1, Composite{...}.1, Composite{...}.1, Composite{...}.1, Composite{...}.1, Composite{...}.1, Composite{...}.1, Composite{...}.1, Composite{...}.1, Composite{...}.1, Composite{...}.1, Composite{...}.1, Composite{...}.1, loglikelihood)\nToposort index: 241\nInputs types: [TensorType(float64, shape=()), TensorType(float64, shape=()), TensorType(float64, shape=()), TensorType(float64, shape=()), TensorType(float64, shape=()), TensorType(float64, shape=()), TensorType(float64, shape=()), TensorType(float64, shape=()), TensorType(float64, shape=()), TensorType(float64, shape=()), TensorType(float64, shape=()), TensorType(float64, shape=()), TensorType(float64, shape=()), TensorType(float64, shape=()), TensorType(float64, shape=()), TensorType(float64, shape=()), TensorType(float64, shape=()), TensorType(float64, shape=()), TensorType(float64, shape=()), TensorType(float64, shape=()), TensorType(float64, shape=()), TensorType(float64, shape=()), TensorType(float64, shape=()), TensorType(float64, shape=()), TensorType(float64, shape=()), TensorType(float64, shape=()), TensorType(float64, shape=()), TensorType(float64, shape=()), TensorType(float64, shape=()), TensorType(float64, shape=()), TensorType(float64, shape=()), TensorType(float64, shape=()), TensorType(float32, shape=()), TensorType(float64, shape=()), TensorType(float64, shape=()), TensorType(float64, shape=()), TensorType(float32, shape=()), TensorType(float32, shape=()), TensorType(float32, shape=()), TensorType(float32, shape=()), TensorType(float64, shape=()), TensorType(float64, shape=()), TensorType(float64, shape=()), TensorType(float64, shape=()), TensorType(float64, shape=()), TensorType(float32, shape=()), TensorType(float64, shape=()), TensorType(float64, shape=()), TensorType(float64, shape=())]\nInputs shapes: [(), (), (), (), (), (), (), (), (), (), (), (), (), (), (), (), (), (), (), (), (), (), (), (), (), (), (), (), (), (), (), (), (), (), (), (), (), (), (), (), (), (), (), (), (), (), (), (), ()]\nInputs strides: [(), (), (), (), (), (), (), (), (), (), (), (), (), (), (), (), (), (), (), (), (), (), (), (), (), (), (), (), (), (), (), (), (), (), (), (), (), (), (), (), (), (), (), (), (), (), (), (), ()]\nInputs values: [array(2.09007558), array(-0.61166918), array(0.39651615), array(1.51741942), array(1.02275598), array(0.40408477), array(1.21288897), array(0.18164259), array(2.67679347), array(-1.03422503), array(5.25666423), array(-2.55339434), array(0.82690484), array(0.66937413), array(0.04979619), array(3.68048916), array(0.99557531), array(0.43838441), array(1.66711807), array(-0.26351382), array(2.36369194), array(-0.81553614), array(5.19600701), array(-2.52066662), array(0.46250752), array(1.3463855), array(4.22671189), array(-1.98457692), array(0.94561918), array(0.50336049), array(1.6358803), array(-0.23572627), array(-13.122363, dtype=float32), array(5.80914299), array(1.2039728), array(1.2039728), array(0.6931472, dtype=float32), array(-3.6888795, dtype=float32), array(-4.59512, dtype=float32), array(-2.944439, dtype=float32), array(2.17155683), array(4.01738352), array(2.19822508), array(1.99510039), array(2.30258509), array(-2.9957323, dtype=float32), array(1.89711998), array(1.60943791), array(-24.74704138)]\nOutputs clients: [[Sub(Add.0, Add.0)]]\n\nHINT: Re-running with most PyTensor optimizations disabled could provide a back-trace showing when this node was created. This can be done by setting the PyTensor flag 'optimizer=fast_compile'. If that does not work, PyTensor optimizations can be disabled with 'optimizer=None'.\nHINT: Use the PyTensor flag `exception_verbosity=high` for a debug print-out and storage map footprint of this Apply node."
     ]
    }
   ],
   "source": [
    "OUT_PATH = Path.cwd() / 'runs/r1004'\n",
    "draws= 3000\n",
    "tune = 1000\n",
    "calibrate(OUT_PATH,bcm, draws, tune)"
   ]
  },
  {
   "cell_type": "code",
   "execution_count": null,
   "metadata": {},
   "outputs": [],
   "source": [
    "# idata_raw"
   ]
  },
  {
   "cell_type": "code",
   "execution_count": null,
   "metadata": {},
   "outputs": [],
   "source": [
    "# draws = 100000\n",
    "# tune = 20000\n",
    "\n",
    "# commands = [\n",
    "#     'git clone --branch tb-covid https://github.com/longbui/tbdynamics.git',\n",
    "#     'pip install -e ./tbdynamics',\n",
    "# ]\n",
    "\n",
    "# mspec = springboard.EC2MachineSpec(6, 2, 'compute')\n",
    "# run_str = f'd{int(draws / 1000)}k-t{int(tune / 1000)}k-b{int(BURN_IN / 1000)}k'\n",
    "# tspec_args = {'bcm': bcm,'draws': draws, 'tune': tune}\n",
    "# tspec = springboard.TaskSpec(run_calibration, tspec_args)\n",
    "# run_path =  springboard.launch.get_autumn_project_run_path('tbdynamics', 's10043_calibration', run_str)\n",
    "# runner = springboard.launch.launch_synced_autumn_task(tspec, mspec, run_path, branch=None, extra_commands=commands)\n"
   ]
  },
  {
   "cell_type": "code",
   "execution_count": null,
   "metadata": {},
   "outputs": [],
   "source": [
    "# print(runner.tail())"
   ]
  },
  {
   "cell_type": "code",
   "execution_count": null,
   "metadata": {},
   "outputs": [],
   "source": [
    "# from autumn.infrastructure.remote import springboard\n",
    "# rts = springboard.task.RemoteTaskStore()\n",
    "# rts.cd('projects/tbdynamics/s10043_calibration')\n",
    "# rts.ls()\n",
    "\n",
    "# mt.get_log(\"crash\")"
   ]
  },
  {
   "cell_type": "code",
   "execution_count": null,
   "metadata": {},
   "outputs": [],
   "source": [
    "# mt = rts.get_managed_task('2024-04-11T2322-d100k-t20k-b20k')"
   ]
  },
  {
   "cell_type": "code",
   "execution_count": null,
   "metadata": {},
   "outputs": [],
   "source": [
    "# print(mt.get_log('crash'))"
   ]
  },
  {
   "cell_type": "code",
   "execution_count": null,
   "metadata": {},
   "outputs": [],
   "source": [
    "# print(runner.get_log(\"crash\"))"
   ]
  }
 ],
 "metadata": {
  "kernelspec": {
   "display_name": "tbdyn",
   "language": "python",
   "name": "python3"
  },
  "language_info": {
   "codemirror_mode": {
    "name": "ipython",
    "version": 3
   },
   "file_extension": ".py",
   "mimetype": "text/x-python",
   "name": "python",
   "nbconvert_exporter": "python",
   "pygments_lexer": "ipython3",
   "version": "3.10.13"
  }
 },
 "nbformat": 4,
 "nbformat_minor": 2
}
