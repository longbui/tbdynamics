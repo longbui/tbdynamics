{
 "cells": [
  {
   "cell_type": "code",
   "execution_count": null,
   "metadata": {
    "metadata": {}
   },
   "outputs": [],
   "source": [
    "import warnings\n",
    "warnings.filterwarnings(\"ignore\")\n",
    "import numpy as np\n",
    "from pathlib import Path\n",
    "import pymc as pm\n",
    "import arviz as az\n",
    "import multiprocessing as mp\n",
    "from estival.wrappers import pymc as epm\n",
    "from estival.sampling import tools as esamp\n",
    "from estival.wrappers import nevergrad as eng\n",
    "from estival.utils.parallel import map_parallel\n",
    "import nevergrad as ng\n",
    "\n",
    "from tbdynamics.constants import BURN_IN, OPTI_DRAWS\n",
    "from autumn.infrastructure.remote import springboard\n",
    "from tbdynamics.calib_utils import get_bcm\n",
    "import pandas as pd\n",
    "from estival.utils.sample import SampleTypes\n"
   ]
  },
  {
   "cell_type": "code",
   "execution_count": null,
   "metadata": {},
   "outputs": [],
   "source": [
    "params = {\n",
    "    \"start_population_size\": 2300000.0,\n",
    "    \"seed_time\": 1830.0,\n",
    "    \"seed_num\": 100.0,\n",
    "    \"seed_duration\": 20.0,\n",
    "    # \"contact_rate\": 0.02977583831288669,\n",
    "    # \"rr_infection_latent\": 0.20344010763518713,\n",
    "    # \"rr_infection_recovered\": 0.40580870889350107,\n",
    "    # \"progression_multiplier\": 0.8810860029360905,\n",
    "    # \"smear_positive_death_rate\": 0.4313851033562638,\n",
    "    # \"smear_negative_death_rate\": 0.03350161278620193,\n",
    "    # \"smear_positive_self_recovery\": 0.28604824197753914,\n",
    "    # \"smear_negative_self_recovery\": 0.15805647865361552,\n",
    "    \"screening_scaleup_shape\": 0.25,\n",
    "    # \"screening_inflection_time\": 1995.1487440977369,\n",
    "    # \"time_to_screening_end_asymp\": 1.111127871433536,\n",
    "    # \"detection_reduction\": 0.24351558358481182,\n",
    "    # \"contact_reduction\": 0.3813306382411676,\n",
    "}"
   ]
  },
  {
   "cell_type": "code",
   "execution_count": null,
   "metadata": {},
   "outputs": [],
   "source": [
    "def calibrate(out_path, params, draws, tune):\n",
    "    bcm = get_bcm(params)\n",
    "    def optimize_ng_with_idx(item):\n",
    "        idx, sample = item\n",
    "        opt = eng.optimize_model(bcm, budget=1000, opt_class=ng.optimizers.TwoPointsDE, suggested = sample, num_workers=8)\n",
    "        rec= opt.minimize(1000)\n",
    "        return idx, rec.value[1]\n",
    "\n",
    "    lhs_samples = bcm.sample.lhs(16, ci=0.67)\n",
    "    lhs_lle = esamp.likelihood_extras_for_samples(lhs_samples, bcm)\n",
    "    lhs_sorted = lhs_lle.sort_values(\"loglikelihood\", ascending=False)\n",
    "    opt_samples_idx = map_parallel(optimize_ng_with_idx, lhs_sorted.iterrows())\n",
    "    best_opt_samps = bcm.sample.convert(opt_samples_idx)\n",
    "    init_samps = best_opt_samps.convert(SampleTypes.LIST_OF_DICTS)[0:8]\n",
    "    n_chains = 8\n",
    "    n_samples = 500\n",
    "    with pm.Model() as pm_model:\n",
    "        variables = epm.use_model(bcm)\n",
    "        idata_raw = pm.sample(\n",
    "            step=[pm.DEMetropolisZ(variables, proposal_dist=pm.NormalProposal)],\n",
    "            draws=draws,\n",
    "            cores= 8,\n",
    "            tune=tune,\n",
    "            discard_tuned_samples=False,\n",
    "            chains=n_chains,\n",
    "            progressbar=True,\n",
    "            initvals=init_samps,\n",
    "        )\n",
    "    idata_raw.to_netcdf(str(out_path / \"calib_full_out.nc\"))\n",
    "\n",
    "    burnt_idata = idata_raw.sel(draw=np.s_[50000:])\n",
    "    idata_extract = az.extract(burnt_idata, num_samples=n_samples)\n",
    "    bcm.sample.convert(idata_extract).to_hdf5(out_path / \"calib_extract_out.h5\")\n",
    "\n",
    "    spaghetti_res = esamp.model_results_for_samples(idata_extract, bcm)\n",
    "    spaghetti_res.results.to_hdf(str(out_path / \"results.hdf\"), \"spaghetti\")\n",
    "\n",
    "    like_df = esamp.likelihood_extras_for_idata(idata_raw, bcm)\n",
    "    like_df.to_hdf(str(out_path / \"results.hdf\"), \"likelihood\")\n",
    "\n",
    "\n",
    "def run_calibration(bridge: springboard.task.TaskBridge, bcm, draws, tune):\n",
    "    import multiprocessing as mp\n",
    "    mp.set_start_method(\"forkserver\")\n",
    "    idata_raw = calibrate(bridge.out_path, bcm, draws, tune)\n",
    "    bridge.logger.info(\"Calibration complete\")"
   ]
  },
  {
   "cell_type": "code",
   "execution_count": null,
   "metadata": {},
   "outputs": [],
   "source": [
    "# def smc_calib():\n",
    "#     with pm.Model() as model:\n",
    "#         variables = epm.use_model(bcm)\n",
    "#         print(variables)\n",
    "#         idata_smc = pm.sample_smc(\n",
    "#             kernel=pm.smc.IMH,\n",
    "#             compute_convergence_checks=False,\n",
    "#             start=None,\n",
    "#             draws=15000,\n",
    "#             chains=4,\n",
    "#             threshold=0.1,\n",
    "#             correlation_threshold=0.6,\n",
    "#         )\n",
    "#     idata_smc.to_netcdf(str(\"runs/r1207/calib_full_out.nc\"))"
   ]
  },
  {
   "cell_type": "code",
   "execution_count": null,
   "metadata": {},
   "outputs": [],
   "source": [
    "# smc_calib()"
   ]
  },
  {
   "cell_type": "code",
   "execution_count": null,
   "metadata": {
    "metadata": {}
   },
   "outputs": [],
   "source": [
    "OUT_PATH = Path.cwd() / 'runs/r1207'\n",
    "draws= 100000\n",
    "tune = 50000\n",
    "calibrate(OUT_PATH,params, draws, tune)"
   ]
  },
  {
   "cell_type": "code",
   "execution_count": null,
   "metadata": {},
   "outputs": [],
   "source": [
    "# draws = 200000\n",
    "# tune = 100000\n",
    "\n",
    "# commands = [\n",
    "#     'git clone --branch tb-covid https://github.com/longbui/tbdynamics.git',\n",
    "#     'pip install -e ./tbdynamics',\n",
    "# ]\n",
    "\n",
    "# mspec = springboard.EC2MachineSpec(8, 2, 'compute')\n",
    "# run_str = f'd{int(draws / 1000)}k-t{int(tune / 1000)}k-b{int(BURN_IN / 1000)}k'\n",
    "# tspec_args = {'bcm': bcm,'draws': draws, 'tune': tune}\n",
    "# tspec = springboard.TaskSpec(run_calibration, tspec_args)\n",
    "# run_path =  springboard.launch.get_autumn_project_run_path('tbdynamics', 's3107_calibration', run_str)\n",
    "# runner = springboard.launch.launch_synced_autumn_task(tspec, mspec, run_path, branch=None, extra_commands=commands)\n"
   ]
  },
  {
   "cell_type": "code",
   "execution_count": null,
   "metadata": {},
   "outputs": [],
   "source": [
    "# runner.wait()"
   ]
  },
  {
   "cell_type": "code",
   "execution_count": null,
   "metadata": {},
   "outputs": [],
   "source": [
    "# runner.get_log(\"crash\")"
   ]
  },
  {
   "cell_type": "code",
   "execution_count": null,
   "metadata": {},
   "outputs": [],
   "source": [
    "# from autumn.infrastructure.remote import springboard\n",
    "# rts = springboard.task.RemoteTaskStore()\n",
    "# rts.cd('projects/tbdynamics/s3107_calibration')\n",
    "# rts.ls()\n",
    "\n"
   ]
  },
  {
   "cell_type": "code",
   "execution_count": null,
   "metadata": {},
   "outputs": [],
   "source": [
    "# mt = rts.get_managed_task('2024-08-01T1645-d100k-t50k-b50k')"
   ]
  },
  {
   "cell_type": "code",
   "execution_count": null,
   "metadata": {},
   "outputs": [],
   "source": [
    "# mt.download_all()"
   ]
  },
  {
   "cell_type": "code",
   "execution_count": null,
   "metadata": {},
   "outputs": [],
   "source": [
    "# print(runner.get_log(\"crash\"))"
   ]
  }
 ],
 "metadata": {
  "kernelspec": {
   "display_name": "tbdyn",
   "language": "python",
   "name": "python3"
  },
  "language_info": {
   "codemirror_mode": {
    "name": "ipython",
    "version": 3
   },
   "file_extension": ".py",
   "mimetype": "text/x-python",
   "name": "python",
   "nbconvert_exporter": "python",
   "pygments_lexer": "ipython3",
   "version": "3.10.0"
  }
 },
 "nbformat": 4,
 "nbformat_minor": 2
}
