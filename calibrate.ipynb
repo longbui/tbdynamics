{
 "cells": [
  {
   "cell_type": "code",
   "execution_count": 1,
   "metadata": {},
   "outputs": [
    {
     "name": "stderr",
     "output_type": "stream",
     "text": [
      "WARNING (pytensor.configdefaults): g++ not available, if using conda: `conda install m2w64-toolchain`\n",
      "WARNING (pytensor.configdefaults): g++ not detected!  PyTensor will be unable to compile C-implementations and will default to Python. Performance may be severely degraded. To remove this warning, set PyTensor flags cxx to an empty string.\n",
      "WARNING (pytensor.tensor.blas): Using NumPy C-API based implementation for BLAS functions.\n"
     ]
    }
   ],
   "source": [
    "import numpy as np\n",
    "from pathlib import Path\n",
    "import pymc as pm\n",
    "import arviz as az\n",
    "import multiprocessing as mp\n",
    "from estival.wrappers import pymc as epm\n",
    "from estival.sampling import tools as esamp\n",
    "from estival.wrappers import nevergrad as eng\n",
    "from estival.utils.parallel import map_parallel\n",
    "import nevergrad as ng\n",
    "\n",
    "from tbdynamics.constants import BURN_IN, OPTI_DRAWS\n",
    "from tbdynamics.inputs import load_targets\n",
    "from tbdynamics.utils import get_target_from_name\n",
    "from autumn.infrastructure.remote import springboard\n",
    "from tbdynamics.calib_utils import get_bcm\n",
    "import pandas as pd\n",
    "from tbdynamics.calib_utils import get_targets\n",
    "from tbdynamics.calib_utils import plot_spaghetti"
   ]
  },
  {
   "cell_type": "code",
   "execution_count": 2,
   "metadata": {},
   "outputs": [],
   "source": [
    "params = {\n",
    "    \"start_population_size\": 2300000.0,\n",
    "    \"seed_time\": 1810.0,\n",
    "    \"seed_num\": 10.0,\n",
    "    \"seed_duration\": 3.0,\n",
    "}\n",
    "\n",
    "bcm = get_bcm(params)"
   ]
  },
  {
   "cell_type": "code",
   "execution_count": 3,
   "metadata": {},
   "outputs": [],
   "source": [
    "def calibrate(out_path, bcm, draws, tune):\n",
    "    lhs_samples = bcm.sample.lhs(8, ci=0.67)\n",
    "    lhs_lle = esamp.likelihood_extras_for_samples(lhs_samples, bcm)\n",
    "    lhs_sorted = lhs_lle.sort_values(\"loglikelihood\", ascending=False)\n",
    "    start_lhs = lhs_samples[lhs_sorted.index].iloc[0:8]\n",
    "\n",
    "    def optimize_ng(idx_sample):\n",
    "        idx, sample = idx_sample\n",
    "        opt = eng.optimize_model(\n",
    "            bcm,\n",
    "            budget=100,\n",
    "            opt_class=ng.optimizers.TwoPointsDE,\n",
    "            obj_function=bcm.logposterior,\n",
    "            suggested=sample,\n",
    "            num_workers=4,\n",
    "            ci=0.67\n",
    "        )\n",
    "        rec = opt.minimize(OPTI_DRAWS)\n",
    "        return idx, rec.value[1]\n",
    "\n",
    "    opt_samples = map_parallel(\n",
    "        optimize_ng, start_lhs.iterrows(), n_workers=2, mode=\"process\"\n",
    "    )\n",
    "    opt_samples = bcm.sample.convert(opt_samples)\n",
    "    init_samps = opt_samples.iloc[0:8].convert(\"list_of_dicts\")\n",
    "    n_chains = 8\n",
    "    n_samples = 200\n",
    "    with pm.Model() as pm_model:\n",
    "        variables = epm.use_model(bcm)\n",
    "        idata_raw = pm.sample(\n",
    "            step=[pm.DEMetropolisZ(variables)],\n",
    "            draws=draws,\n",
    "            tune=tune,\n",
    "            cores=8,\n",
    "            discard_tuned_samples=False,\n",
    "            chains=n_chains,\n",
    "            progressbar=True,\n",
    "            initvals=init_samps,\n",
    "        )\n",
    "    idata_raw.to_netcdf(str(out_path / \"calib_full_out.nc\"))\n",
    "\n",
    "    burnt_idata = idata_raw.sel(draw=np.s_[BURN_IN:])\n",
    "    idata_extract = az.extract(burnt_idata, num_samples=n_samples)\n",
    "    bcm.sample.convert(idata_extract).to_hdf5(out_path / \"calib_extract_out.h5\")\n",
    "\n",
    "    spaghetti_res = esamp.model_results_for_samples(idata_extract, bcm)\n",
    "    spaghetti_res.results.to_hdf(str(out_path / \"results.hdf\"), \"spaghetti\")\n",
    "\n",
    "    like_df = esamp.likelihood_extras_for_idata(idata_raw, bcm)\n",
    "    like_df.to_hdf(str(out_path / \"results.hdf\"), \"likelihood\")\n",
    "\n",
    "\n",
    "def run_calibration(bridge: springboard.task.TaskBridge, bcm, draws, tune):\n",
    "    import multiprocessing as mp\n",
    "    mp.set_start_method(\"forkserver\")\n",
    "    idata_raw = calibrate(bridge.out_path, bcm, draws, tune)\n",
    "    bridge.logger.info(\"Calibration complete\")"
   ]
  },
  {
   "cell_type": "code",
   "execution_count": 4,
   "metadata": {},
   "outputs": [
    {
     "name": "stderr",
     "output_type": "stream",
     "text": [
      "Only 100 samples in chain.\n",
      "Multiprocess sampling (8 chains in 8 jobs)\n",
      "DEMetropolisZ: [contact_rate, rr_infection_latent, rr_infection_recovered, progression_multiplier, smear_positive_death_rate, smear_negative_death_rate, smear_positive_self_recovery, smear_negative_self_recovery, screening_scaleup_shape, screening_inflection_time, screening_end_asymp, detection_reduction]\n"
     ]
    },
    {
     "data": {
      "text/html": [
       "\n",
       "<style>\n",
       "    /* Turns off some styling */\n",
       "    progress {\n",
       "        /* gets rid of default border in Firefox and Opera. */\n",
       "        border: none;\n",
       "        /* Needs to be in here for Safari polyfill so background images work as expected. */\n",
       "        background-size: auto;\n",
       "    }\n",
       "    progress:not([value]), progress:not([value])::-webkit-progress-bar {\n",
       "        background: repeating-linear-gradient(45deg, #7e7e7e, #7e7e7e 10px, #5c5c5c 10px, #5c5c5c 20px);\n",
       "    }\n",
       "    .progress-bar-interrupted, .progress-bar-interrupted::-webkit-progress-bar {\n",
       "        background: #F44336;\n",
       "    }\n",
       "</style>\n"
      ],
      "text/plain": [
       "<IPython.core.display.HTML object>"
      ]
     },
     "metadata": {},
     "output_type": "display_data"
    },
    {
     "data": {
      "text/html": [
       "\n",
       "    <div>\n",
       "      <progress value='880' class='' max='880' style='width:300px; height:20px; vertical-align: middle;'></progress>\n",
       "      100.00% [880/880 00:49&lt;00:00 Sampling 8 chains, 0 divergences]\n",
       "    </div>\n",
       "    "
      ],
      "text/plain": [
       "<IPython.core.display.HTML object>"
      ]
     },
     "metadata": {},
     "output_type": "display_data"
    },
    {
     "name": "stderr",
     "output_type": "stream",
     "text": [
      "Sampling 8 chains for 10 tune and 100 draw iterations (80 + 800 draws total) took 84 seconds.\n",
      "The rhat statistic is larger than 1.01 for some parameters. This indicates problems during sampling. See https://arxiv.org/abs/1903.08008 for details\n",
      "The effective sample size per chain is smaller than 100 for some parameters.  A higher number is needed for reliable rhat and ess computation. See https://arxiv.org/abs/1903.08008 for details\n"
     ]
    }
   ],
   "source": [
    "\n",
    "OUT_PATH = Path.cwd() / 'runs/r0504'\n",
    "draws= 100\n",
    "tune = 10\n",
    "calibrate(OUT_PATH,bcm, draws, tune)\n"
   ]
  },
  {
   "cell_type": "code",
   "execution_count": 5,
   "metadata": {},
   "outputs": [
    {
     "name": "stderr",
     "output_type": "stream",
     "text": [
      "SSH connection still waiting, retrying 1/5\n",
      "SSH connection still waiting, retrying 2/5\n"
     ]
    }
   ],
   "source": [
    "draws = 50000\n",
    "tune = 100000\n",
    "\n",
    "commands = [\n",
    "    'git clone --branch tb-covid https://github.com/longbui/tbdynamics.git',\n",
    "    'pip install -e ./tbdynamics',\n",
    "]\n",
    "\n",
    "mspec = springboard.EC2MachineSpec(8, 2, 'compute')\n",
    "run_str = f'd{int(draws / 1000)}k-t{int(tune / 1000)}k-b{int(BURN_IN / 1000)}k'\n",
    "tspec_args = {'bcm': bcm,'draws': draws, 'tune': tune}\n",
    "tspec = springboard.TaskSpec(run_calibration, tspec_args)\n",
    "run_path =  springboard.launch.get_autumn_project_run_path('tbdynamics', 's1004_calibration', run_str)\n",
    "runner = springboard.launch.launch_synced_autumn_task(tspec, mspec, run_path, branch=None, extra_commands=commands)\n"
   ]
  },
  {
   "cell_type": "code",
   "execution_count": null,
   "metadata": {},
   "outputs": [],
   "source": [
    "# # from autumn.infrastructure.remote import springboard\n",
    "# rts = springboard.task.RemoteTaskStore()\n",
    "# rts.cd('projects/tbdynamics/s06043_calibration')\n",
    "# rts.ls()\n",
    "# mt = rts.get_managed_task('2024-04-05T1445-d500k-t100k-b25k')\n",
    "mt.get_log(\"crash\")"
   ]
  },
  {
   "cell_type": "code",
   "execution_count": 7,
   "metadata": {},
   "outputs": [
    {
     "name": "stdout",
     "output_type": "stream",
     "text": [
      "  \"accept\": np.exp(accept)\n",
      "/home/ubuntu/miniconda/envs/autumn310/lib/python3.10/site-packages/pymc/step_methods/metropolis.py:1020: RuntimeWarning: overflow encountered in ex\n",
      "  \"accept\": np.exp(accept)\n",
      "/home/ubuntu/miniconda/envs/autumn310/lib/python3.10/site-packages/pymc/step_methods/metropolis.py:1020: RuntimeWarning: overflow encountered in ex\n",
      "  \"accept\": np.exp(accept)\n",
      "/home/ubuntu/miniconda/envs/autumn310/lib/python3.10/site-packages/pymc/step_methods/metropolis.py:1020: RuntimeWarning: overflow encountered in ex\n",
      "  \"accept\": np.exp(accept)\n",
      "/home/ubuntu/miniconda/envs/autumn310/lib/python3.10/site-packages/pymc/step_methods/metropolis.py:1020: RuntimeWarning: overflow encountered in ex\n",
      "  \"accept\": np.exp(accept)\n",
      " |█--------------------------| 5.36% [257463/4800000 17:42<5:12:27 Sampling 8 chains, 0 divergences]\n",
      "\n"
     ]
    }
   ],
   "source": [
    "print(runner.tail())"
   ]
  },
  {
   "cell_type": "code",
   "execution_count": 8,
   "metadata": {},
   "outputs": [
    {
     "data": {
      "text/plain": [
       "CommandResult(complete=True, exit_status=None, stdout='', stderr='', host_output=\thost=13.239.38.45\n",
       "\talias=None\n",
       "\texit_code=None\n",
       "\tchannel=<ssh2.channel.Channel object at 0x0000020B45A9C8E0>\n",
       "\texception=None\n",
       "\tencoding=utf-8\n",
       "\tread_timeout=1.0)"
      ]
     },
     "execution_count": 8,
     "metadata": {},
     "output_type": "execute_result"
    }
   ],
   "source": [
    "runner.terminate()"
   ]
  },
  {
   "cell_type": "code",
   "execution_count": null,
   "metadata": {},
   "outputs": [],
   "source": [
    "files =runner.get_managed_task()"
   ]
  },
  {
   "cell_type": "code",
   "execution_count": null,
   "metadata": {},
   "outputs": [],
   "source": [
    "files.download_all()"
   ]
  }
 ],
 "metadata": {
  "kernelspec": {
   "display_name": "tbdyn",
   "language": "python",
   "name": "python3"
  },
  "language_info": {
   "codemirror_mode": {
    "name": "ipython",
    "version": 3
   },
   "file_extension": ".py",
   "mimetype": "text/x-python",
   "name": "python",
   "nbconvert_exporter": "python",
   "pygments_lexer": "ipython3",
   "version": "3.10.13"
  }
 },
 "nbformat": 4,
 "nbformat_minor": 2
}
