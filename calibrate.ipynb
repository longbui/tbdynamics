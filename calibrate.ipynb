{
 "cells": [
  {
   "cell_type": "code",
   "execution_count": null,
   "metadata": {},
   "outputs": [],
   "source": [
    "import warnings\n",
    "warnings.filterwarnings(\"ignore\")\n",
    "import numpy as np\n",
    "from pathlib import Path\n",
    "import pymc as pm\n",
    "import arviz as az\n",
    "import multiprocessing as mp\n",
    "from estival.wrappers import pymc as epm\n",
    "from estival.sampling import tools as esamp\n",
    "from estival.wrappers import nevergrad as eng\n",
    "from estival.utils.parallel import map_parallel\n",
    "import nevergrad as ng\n",
    "\n",
    "from tbdynamics.constants import BURN_IN, OPTI_DRAWS\n",
    "from autumn.infrastructure.remote import springboard\n",
    "from tbdynamics.calib_utils import get_bcm\n",
    "import pandas as pd\n",
    "from estival.utils.sample import SampleTypes\n"
   ]
  },
  {
   "cell_type": "code",
   "execution_count": null,
   "metadata": {},
   "outputs": [],
   "source": [
    "params = {\n",
    "    # \"contact_rate\": 0.007255277552812773,\n",
    "    # \"start_population_size\": 2200000,\n",
    "    # \"rr_infection_latent\": 0.4435087078206438,\n",
    "    # \"rr_infection_recovered\": 0.3726339126072788,\n",
    "    # \"progression_multiplier\": 1.71734470040371,\n",
    "    # \"seed_time\": 1810.0,\n",
    "    # \"seed_num\": 70.0,\n",
    "    # \"seed_duration\": 10.0,\n",
    "    # \"smear_positive_death_rate\": 0.3789083132417181,\n",
    "    # \"smear_negative_death_rate\": 0.023640460692223537,\n",
    "    # \"smear_positive_self_recovery\": 0.2064856493052769,\n",
    "    # \"smear_negative_self_recovery\": 0.11108908197816095,\n",
    "    # \"screening_scaleup_shape\": 0.1289863504422179,\n",
    "    # \"screening_inflection_time\": 1993.8078541156067,\n",
    "    # \"screening_end_asymp\": 0.5820504987396568,\n",
    "    # \"detection_reduction\": 0.7542772690107872,\n",
    "}\n",
    "bcm = get_bcm(params)"
   ]
  },
  {
   "cell_type": "code",
   "execution_count": null,
   "metadata": {},
   "outputs": [],
   "source": [
    "def calibrate(out_path, bcm, draws, tune):\n",
    "    def optimize_ng_with_idx(item):\n",
    "        idx, sample = item\n",
    "        opt = eng.optimize_model(bcm, budget=100, opt_class=ng.optimizers.TwoPointsDE, suggested = sample, num_workers=4)\n",
    "        rec= opt.minimize(100)\n",
    "        return idx, rec.value[1]\n",
    "\n",
    "    lhs_samples = bcm.sample.lhs(16, ci=0.67)\n",
    "    lhs_lle = esamp.likelihood_extras_for_samples(lhs_samples, bcm)\n",
    "    lhs_sorted = lhs_lle.sort_values(\"loglikelihood\", ascending=False)\n",
    "    opt_samples_idx = map_parallel(optimize_ng_with_idx, lhs_sorted.iterrows())\n",
    "    best_opt_samps = bcm.sample.convert(opt_samples_idx)\n",
    "    init_samps = best_opt_samps.convert(SampleTypes.LIST_OF_DICTS)[0:8]\n",
    "    n_chains = 8\n",
    "    n_samples = 200\n",
    "    with pm.Model() as pm_model:\n",
    "        variables = epm.use_model(bcm)\n",
    "        idata_raw = pm.sample(\n",
    "            step=[pm.DEMetropolisZ(variables)],\n",
    "            draws=draws,\n",
    "            tune=tune,\n",
    "            discard_tuned_samples=False,\n",
    "            chains=n_chains,\n",
    "            progressbar=True,\n",
    "            initvals=init_samps,\n",
    "        )\n",
    "    idata_raw.to_netcdf(str(out_path / \"calib_full_out.nc\"))\n",
    "\n",
    "    burnt_idata = idata_raw.sel(draw=np.s_[BURN_IN:])\n",
    "    idata_extract = az.extract(burnt_idata, num_samples=n_samples)\n",
    "    bcm.sample.convert(idata_extract).to_hdf5(out_path / \"calib_extract_out.h5\")\n",
    "\n",
    "    spaghetti_res = esamp.model_results_for_samples(idata_extract, bcm)\n",
    "    spaghetti_res.results.to_hdf(str(out_path / \"results.hdf\"), \"spaghetti\")\n",
    "\n",
    "    like_df = esamp.likelihood_extras_for_idata(idata_raw, bcm)\n",
    "    like_df.to_hdf(str(out_path / \"results.hdf\"), \"likelihood\")\n",
    "\n",
    "\n",
    "def run_calibration(bridge: springboard.task.TaskBridge, bcm, draws, tune):\n",
    "    import multiprocessing as mp\n",
    "    mp.set_start_method(\"forkserver\")\n",
    "    idata_raw = calibrate(bridge.out_path, bcm, draws, tune)\n",
    "    bridge.logger.info(\"Calibration complete\")"
   ]
  },
  {
   "cell_type": "code",
   "execution_count": null,
   "metadata": {},
   "outputs": [],
   "source": [
    "OUT_PATH = Path.cwd() / 'runs/r1004'\n",
    "draws= 100000\n",
    "tune = 25000\n",
    "calibrate(OUT_PATH,bcm, draws, tune)"
   ]
  },
  {
   "cell_type": "code",
   "execution_count": null,
   "metadata": {},
   "outputs": [],
   "source": [
    "# idata_raw"
   ]
  },
  {
   "cell_type": "code",
   "execution_count": null,
   "metadata": {},
   "outputs": [],
   "source": [
    "draws = 100000\n",
    "tune = 20000\n",
    "\n",
    "commands = [\n",
    "    'git clone --branch tb-covid https://github.com/longbui/tbdynamics.git',\n",
    "    'pip install -e ./tbdynamics',\n",
    "]\n",
    "\n",
    "mspec = springboard.EC2MachineSpec(6, 2, 'compute')\n",
    "run_str = f'd{int(draws / 1000)}k-t{int(tune / 1000)}k-b{int(BURN_IN / 1000)}k'\n",
    "tspec_args = {'bcm': bcm,'draws': draws, 'tune': tune}\n",
    "tspec = springboard.TaskSpec(run_calibration, tspec_args)\n",
    "run_path =  springboard.launch.get_autumn_project_run_path('tbdynamics', 's10043_calibration', run_str)\n",
    "runner = springboard.launch.launch_synced_autumn_task(tspec, mspec, run_path, branch=None, extra_commands=commands)\n"
   ]
  },
  {
   "cell_type": "code",
   "execution_count": null,
   "metadata": {},
   "outputs": [],
   "source": [
    "# print(runner.tail())"
   ]
  },
  {
   "cell_type": "code",
   "execution_count": null,
   "metadata": {},
   "outputs": [],
   "source": [
    "# from autumn.infrastructure.remote import springboard\n",
    "# rts = springboard.task.RemoteTaskStore()\n",
    "# rts.cd('projects/tbdynamics/s10043_calibration')\n",
    "# rts.ls()\n",
    "\n",
    "# mt.get_log(\"crash\")"
   ]
  },
  {
   "cell_type": "code",
   "execution_count": null,
   "metadata": {},
   "outputs": [],
   "source": [
    "# mt = rts.get_managed_task('2024-04-11T2322-d100k-t20k-b20k')"
   ]
  },
  {
   "cell_type": "code",
   "execution_count": null,
   "metadata": {},
   "outputs": [],
   "source": [
    "# print(mt.get_log('crash'))"
   ]
  },
  {
   "cell_type": "code",
   "execution_count": null,
   "metadata": {},
   "outputs": [],
   "source": [
    "# print(runner.get_log(\"crash\"))"
   ]
  }
 ],
 "metadata": {
  "kernelspec": {
   "display_name": "tbdyn",
   "language": "python",
   "name": "python3"
  },
  "language_info": {
   "codemirror_mode": {
    "name": "ipython",
    "version": 3
   },
   "file_extension": ".py",
   "mimetype": "text/x-python",
   "name": "python",
   "nbconvert_exporter": "python",
   "pygments_lexer": "ipython3",
   "version": "3.10.13"
  }
 },
 "nbformat": 4,
 "nbformat_minor": 2
}
