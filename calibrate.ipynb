{
 "cells": [
  {
   "cell_type": "code",
   "execution_count": null,
   "metadata": {},
   "outputs": [],
   "source": [
    "import numpy as np\n",
    "from pathlib import Path\n",
    "import pymc as pm\n",
    "import arviz as az\n",
    "import multiprocessing as mp\n",
    "from estival.wrappers import pymc as epm\n",
    "from estival.sampling import tools as esamp\n",
    "from estival.wrappers import nevergrad as eng\n",
    "from estival.utils.parallel import map_parallel\n",
    "import nevergrad as ng\n",
    "\n",
    "from tbdynamics.constants import BURN_IN, OPTI_DRAWS\n",
    "from tbdynamics.inputs import load_targets\n",
    "from tbdynamics.utils import get_target_from_name\n",
    "from autumn.infrastructure.remote import springboard\n",
    "from tbdynamics.calib_utils import get_bcm\n",
    "import pandas as pd\n",
    "from tbdynamics.calib_utils import get_targets\n",
    "from tbdynamics.calib_utils import plot_spaghetti"
   ]
  },
  {
   "cell_type": "code",
   "execution_count": null,
   "metadata": {},
   "outputs": [],
   "source": [
    "params = {\n",
    "}\n",
    "bcm = get_bcm(params)"
   ]
  },
  {
   "cell_type": "code",
   "execution_count": null,
   "metadata": {},
   "outputs": [],
   "source": [
    "def calibrate(out_path, bcm, draws, tune):\n",
    "    lhs_samples = bcm.sample.lhs(16, ci=0.67)\n",
    "    lhs_lle = esamp.likelihood_extras_for_samples(lhs_samples, bcm)\n",
    "    lhs_sorted = lhs_lle.sort_values(\"loglikelihood\", ascending=False)\n",
    "    start_lhs = lhs_samples[lhs_sorted.index].iloc[0:8]\n",
    "\n",
    "    def optimize_ng(idx_sample):\n",
    "        idx, sample = idx_sample\n",
    "        opt = eng.optimize_model(\n",
    "            bcm,\n",
    "            budget=100,\n",
    "            opt_class=ng.optimizers.TwoPointsDE,\n",
    "            obj_function=bcm.logposterior,\n",
    "            suggested=sample,\n",
    "            num_workers=4,\n",
    "            ci=0.67\n",
    "        )\n",
    "        rec = opt.minimize(OPTI_DRAWS)\n",
    "        return idx, rec.value[1]\n",
    "\n",
    "    opt_samples = map_parallel(\n",
    "        optimize_ng, start_lhs.iterrows(), n_workers=2, mode=\"process\"\n",
    "    )\n",
    "    opt_samples = bcm.sample.convert(opt_samples)\n",
    "    init_samps = opt_samples.iloc[0:8].convert(\"list_of_dicts\")\n",
    "    n_chains = 8\n",
    "    n_samples = 100\n",
    "    with pm.Model() as pm_model:\n",
    "        variables = epm.use_model(bcm)\n",
    "        idata_raw = pm.sample(\n",
    "            step=[pm.DEMetropolisZ(variables)],\n",
    "            draws=draws,\n",
    "            tune=tune,\n",
    "            cores=8,\n",
    "            discard_tuned_samples=False,\n",
    "            chains=n_chains,\n",
    "            progressbar=True,\n",
    "            initvals=init_samps,\n",
    "        )\n",
    "    idata_raw.to_netcdf(str(out_path / \"calib_full_out.nc\"))\n",
    "\n",
    "    burnt_idata = idata_raw.sel(draw=np.s_[BURN_IN:])\n",
    "    idata_extract = az.extract(burnt_idata, num_samples=n_samples)\n",
    "    bcm.sample.convert(idata_extract).to_hdf5(out_path / \"calib_extract_out.h5\")\n",
    "\n",
    "    spaghetti_res = esamp.model_results_for_samples(idata_extract, bcm)\n",
    "    spaghetti_res.results.to_hdf(str(out_path / \"results.hdf\"), \"spaghetti\")\n",
    "\n",
    "    like_df = esamp.likelihood_extras_for_idata(idata_raw, bcm)\n",
    "    like_df.to_hdf(str(out_path / \"results.hdf\"), \"likelihood\")\n",
    "\n",
    "\n",
    "def run_calibration(bridge: springboard.task.TaskBridge, bcm, draws, tune):\n",
    "    import multiprocessing as mp\n",
    "    mp.set_start_method(\"forkserver\")\n",
    "    idata_raw = calibrate(bridge.out_path, bcm, draws, tune)\n",
    "    bridge.logger.info(\"Calibration complete\")"
   ]
  },
  {
   "cell_type": "code",
   "execution_count": null,
   "metadata": {},
   "outputs": [],
   "source": [
    "\n",
    "OUT_PATH = Path.cwd() / 'runs/r0504'\n",
    "draws= 100\n",
    "tune = 100\n",
    "calibrate(OUT_PATH,bcm, draws, tune)\n"
   ]
  },
  {
   "cell_type": "code",
   "execution_count": null,
   "metadata": {},
   "outputs": [],
   "source": [
    "draws = 500000\n",
    "tune = 100000\n",
    "\n",
    "commands = [\n",
    "    'git clone --branch tb-calib https://github.com/longbui/tbdynamics.git',\n",
    "    'pip install -e ./tbdynamics',\n",
    "]\n",
    "\n",
    "mspec = springboard.EC2MachineSpec(8, 2, 'compute')\n",
    "run_str = f'd{int(draws / 1000)}k-t{int(tune / 1000)}k-b{int(BURN_IN / 1000)}k'\n",
    "tspec_args = {'bcm': bcm,'draws': draws, 'tune': tune}\n",
    "tspec = springboard.TaskSpec(run_calibration, tspec_args)\n",
    "run_path =  springboard.launch.get_autumn_project_run_path('tbdynamics', 's0604_calibration', run_str)\n",
    "runner = springboard.launch.launch_synced_autumn_task(tspec, mspec, run_path, branch=None, extra_commands=commands)\n"
   ]
  },
  {
   "cell_type": "code",
   "execution_count": null,
   "metadata": {},
   "outputs": [],
   "source": [
    "print(runner.tail())"
   ]
  },
  {
   "cell_type": "code",
   "execution_count": null,
   "metadata": {},
   "outputs": [],
   "source": [
    "runner.wait()"
   ]
  },
  {
   "cell_type": "code",
   "execution_count": null,
   "metadata": {},
   "outputs": [],
   "source": [
    "files =runner.get_managed_task()"
   ]
  },
  {
   "cell_type": "code",
   "execution_count": null,
   "metadata": {},
   "outputs": [],
   "source": [
    "files.download_all()"
   ]
  }
 ],
 "metadata": {
  "kernelspec": {
   "display_name": "tbdyn",
   "language": "python",
   "name": "python3"
  },
  "language_info": {
   "codemirror_mode": {
    "name": "ipython",
    "version": 3
   },
   "file_extension": ".py",
   "mimetype": "text/x-python",
   "name": "python",
   "nbconvert_exporter": "python",
   "pygments_lexer": "ipython3",
   "version": "3.10.0"
  }
 },
 "nbformat": 4,
 "nbformat_minor": 2
}
