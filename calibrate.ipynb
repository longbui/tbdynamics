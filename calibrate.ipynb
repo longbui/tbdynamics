{
 "cells": [
  {
   "cell_type": "code",
   "execution_count": null,
   "metadata": {},
   "outputs": [],
   "source": [
    "import warnings\n",
    "warnings.filterwarnings(\"ignore\")\n",
    "import numpy as np\n",
    "from pathlib import Path\n",
    "import pymc as pm\n",
    "import arviz as az\n",
    "import multiprocessing as mp\n",
    "from estival.wrappers import pymc as epm\n",
    "from estival.sampling import tools as esamp\n",
    "from estival.wrappers import nevergrad as eng\n",
    "from estival.utils.parallel import map_parallel\n",
    "import nevergrad as ng\n",
    "\n",
    "from tbdynamics.constants import BURN_IN, OPTI_DRAWS\n",
    "from autumn.infrastructure.remote import springboard\n",
    "from tbdynamics.calib_utils import get_bcm\n",
    "import pandas as pd\n",
    "from estival.utils.sample import SampleTypes\n"
   ]
  },
  {
   "cell_type": "code",
   "execution_count": null,
   "metadata": {},
   "outputs": [],
   "source": [
    "params = {\n",
    "    \"start_population_size\": 2300000.0,\n",
    "    \"seed_time\": 1810.0,\n",
    "    \"seed_num\": 10.0,\n",
    "    \"seed_duration\": 3.0,\n",
    "    \"screening_scaleup_shape\": 0.1,\n",
    "    \"screening_inflection_time\": 1993.0,\n",
    "    \"screening_end_asymp\": 0.65,\n",
    "}\n",
    "\n",
    "bcm = get_bcm(params)"
   ]
  },
  {
   "cell_type": "code",
   "execution_count": null,
   "metadata": {},
   "outputs": [],
   "source": [
    "def optimize_ng(sample):\n",
    "    opt = eng.optimize_model(bcm, budget=2000, opt_class=ng.optimizers.TwoPointsDE, suggested = sample, num_workers=4)\n",
    "    rec= opt.minimize(2000)\n",
    "    return rec.value[1]"
   ]
  },
  {
   "cell_type": "code",
   "execution_count": null,
   "metadata": {},
   "outputs": [],
   "source": [
    "opt_samples = map_parallel(optimize_ng, bcm.sample.sobol(16, SampleTypes.LIST_OF_DICTS), n_workers=4, mode=\"process\")"
   ]
  },
  {
   "cell_type": "code",
   "execution_count": null,
   "metadata": {},
   "outputs": [],
   "source": [
    "lle_samps = esamp.likelihood_extras_for_samples(opt_samples, bcm)\n",
    "lle_samps"
   ]
  },
  {
   "cell_type": "code",
   "execution_count": null,
   "metadata": {},
   "outputs": [],
   "source": [
    "best_ll_idx = lle_samps.sort_values(\"logposterior\",ascending=False).index"
   ]
  },
  {
   "cell_type": "code",
   "execution_count": null,
   "metadata": {},
   "outputs": [],
   "source": [
    "init_samps= bcm.sample.convert(opt_samples,SampleTypes.SAMPLEITERATOR)[best_ll_idx].convert(SampleTypes.LIST_OF_DICTS)[0:4]\n",
    "init_samps"
   ]
  },
  {
   "cell_type": "code",
   "execution_count": null,
   "metadata": {},
   "outputs": [],
   "source": [
    "init_samps[0]"
   ]
  },
  {
   "cell_type": "code",
   "execution_count": null,
   "metadata": {},
   "outputs": [],
   "source": [
    "# lhs_samples = bcm.sample.lhs(8, ci=0.67)\n",
    "# lhs_lle = esamp.likelihood_extras_for_samples(lhs_samples, bcm)\n",
    "# lhs_sorted = lhs_lle.sort_values(\"loglikelihood\", ascending=False)\n",
    "# start_lhs = lhs_samples[lhs_sorted.index].iloc[0:8]\n",
    "# def optimize_ng(idx_sample):\n",
    "#         idx, sample = idx_sample\n",
    "#         opt = eng.optimize_model(\n",
    "#             bcm,\n",
    "#             budget=100,\n",
    "#             opt_class=ng.optimizers.TwoPointsDE,\n",
    "#             obj_function=bcm.logposterior,\n",
    "#             suggested=sample,\n",
    "#             num_workers=4,\n",
    "#             ci=0.67\n",
    "#         )\n",
    "#         rec = opt.minimize(OPTI_DRAWS)\n",
    "#         return idx, rec.value[1]\n",
    "\n",
    "# opt_samples = map_parallel(\n",
    "#         optimize_ng, start_lhs.iterrows(), n_workers=2, mode=\"process\"\n",
    "#     )\n",
    "# opt_samples = bcm.sample.convert(opt_samples)\n",
    "# init_samps = opt_samples.convert(\"list_of_dicts\")[0]"
   ]
  },
  {
   "cell_type": "code",
   "execution_count": null,
   "metadata": {},
   "outputs": [],
   "source": [
    "# out_path = Path.cwd() / 'runs/r1004'\n",
    "# n_chains = 4\n",
    "# n_samples = 200\n",
    "# with pm.Model() as pm_model:\n",
    "#         variables = epm.use_model(bcm)\n",
    "#         idata_raw = pm.sample(\n",
    "#             step=[pm.DEMetropolisZ(variables)],\n",
    "#             draws=50000,\n",
    "#             tune=10000,\n",
    "#             cores=4,\n",
    "#             discard_tuned_samples=False,\n",
    "#             chains=n_chains,\n",
    "#             progressbar=True,\n",
    "#             initvals=init_samps[0:4],\n",
    "#     )\n",
    "# idata_raw.to_netcdf(str(out_path / \"calib_full_out.nc\"))\n",
    "\n",
    "# burnt_idata = idata_raw.sel(draw=np.s_[BURN_IN:])\n",
    "# idata_extract = az.extract(burnt_idata, num_samples=n_samples)\n",
    "# bcm.sample.convert(idata_extract).to_hdf5(out_path / \"calib_extract_out.h5\")\n",
    "\n",
    "# spaghetti_res = esamp.model_results_for_samples(idata_extract, bcm)\n",
    "# spaghetti_res.results.to_hdf(str(out_path / \"results.hdf\"), \"spaghetti\")\n",
    "\n",
    "# like_df = esamp.likelihood_extras_for_idata(idata_raw, bcm)\n",
    "# like_df.to_hdf(str(out_path / \"results.hdf\"), \"likelihood\")"
   ]
  },
  {
   "cell_type": "code",
   "execution_count": null,
   "metadata": {},
   "outputs": [],
   "source": [
    "def calibrate(out_path, bcm, draws, tune):\n",
    "    def optimize_ng_with_idx(item):\n",
    "        idx, sample = item\n",
    "        opt = eng.optimize_model(bcm, budget=100, opt_class=ng.optimizers.TwoPointsDE, suggested = sample, num_workers=4)\n",
    "        rec= opt.minimize(100)\n",
    "        return idx, rec.value[1]\n",
    "\n",
    "    lhs_samples = bcm.sample.lhs(16, ci=0.67)\n",
    "    lhs_lle = esamp.likelihood_extras_for_samples(lhs_samples, bcm)\n",
    "    lhs_sorted = lhs_lle.sort_values(\"loglikelihood\", ascending=False)\n",
    "    best8 = lhs_samples[lhs_sorted.index].iloc[0:8]\n",
    "    opt_samples_idx = map_parallel(optimize_ng_with_idx, best8.iterrows())\n",
    "    best_opt_samps = bcm.sample.convert(opt_samples_idx)\n",
    "    lle_samps = esamp.likelihood_extras_for_samples(opt_samples_idx, bcm)\n",
    "    init_samps = best_opt_samps.convert(SampleTypes.LIST_OF_DICTS)[0]\n",
    "    n_chains = 4\n",
    "    n_samples = 10\n",
    "    with pm.Model() as pm_model:\n",
    "        variables = epm.use_model(bcm)\n",
    "        idata_raw = pm.sample(\n",
    "            step=[pm.DEMetropolisZ(variables)],\n",
    "            draws=draws,\n",
    "            tune=tune,\n",
    "            cores=4,\n",
    "            discard_tuned_samples=False,\n",
    "            chains=n_chains,\n",
    "            progressbar=True,\n",
    "            initvals=init_samps,\n",
    "        )\n",
    "    idata_raw.to_netcdf(str(out_path / \"calib_full_out.nc\"))\n",
    "\n",
    "    burnt_idata = idata_raw.sel(draw=np.s_[20:])\n",
    "    idata_extract = az.extract(burnt_idata, num_samples=n_samples)\n",
    "    # bcm.sample.convert(idata_extract).to_hdf5(out_path / \"calib_extract_out.h5\")\n",
    "\n",
    "    spaghetti_res = esamp.model_results_for_samples(idata_extract, bcm)\n",
    "    spaghetti_res.results.to_hdf(str(out_path / \"results.hdf\"), \"spaghetti\")\n",
    "\n",
    "    like_df = esamp.likelihood_extras_for_idata(idata_raw, bcm)\n",
    "    like_df.to_hdf(str(out_path / \"results.hdf\"), \"likelihood\")\n",
    "\n",
    "\n",
    "def run_calibration(bridge: springboard.task.TaskBridge, bcm, draws, tune):\n",
    "    import multiprocessing as mp\n",
    "    mp.set_start_method(\"forkserver\")\n",
    "    idata_raw = calibrate(bridge.out_path, bcm, draws, tune)\n",
    "    bridge.logger.info(\"Calibration complete\")"
   ]
  },
  {
   "cell_type": "code",
   "execution_count": null,
   "metadata": {},
   "outputs": [],
   "source": [
    "OUT_PATH = Path.cwd() / 'runs/r1004'\n",
    "draws= 100\n",
    "tune = 10\n",
    "calibrate(OUT_PATH,bcm, draws, tune)\n"
   ]
  },
  {
   "cell_type": "code",
   "execution_count": null,
   "metadata": {},
   "outputs": [],
   "source": [
    "draws = 500000\n",
    "tune = 50000\n",
    "\n",
    "commands = [\n",
    "    'git clone --branch tb-covid https://github.com/longbui/tbdynamics.git',\n",
    "    'pip install -e ./tbdynamics',\n",
    "]\n",
    "\n",
    "mspec = springboard.EC2MachineSpec(8, 2, 'compute')\n",
    "run_str = f'd{int(draws / 1000)}k-t{int(tune / 1000)}k-b{int(BURN_IN / 1000)}k'\n",
    "tspec_args = {'bcm': bcm,'draws': draws, 'tune': tune}\n",
    "tspec = springboard.TaskSpec(run_calibration, tspec_args)\n",
    "run_path =  springboard.launch.get_autumn_project_run_path('tbdynamics', 's10042_calibration', run_str)\n",
    "runner = springboard.launch.launch_synced_autumn_task(tspec, mspec, run_path, branch=None, extra_commands=commands)\n"
   ]
  },
  {
   "cell_type": "code",
   "execution_count": null,
   "metadata": {},
   "outputs": [],
   "source": [
    "# # from autumn.infrastructure.remote import springboard\n",
    "# rts = springboard.task.RemoteTaskStore()\n",
    "# rts.cd('projects/tbdynamics/s06043_calibration')\n",
    "# rts.ls()\n",
    "# mt = rts.get_managed_task('2024-04-05T1445-d500k-t100k-b25k')\n",
    "# mt.get_log(\"crash\")"
   ]
  },
  {
   "cell_type": "code",
   "execution_count": null,
   "metadata": {},
   "outputs": [],
   "source": [
    "print(runner.get_log())"
   ]
  },
  {
   "cell_type": "code",
   "execution_count": null,
   "metadata": {},
   "outputs": [],
   "source": [
    "# files =runner.get_managed_task()"
   ]
  },
  {
   "cell_type": "code",
   "execution_count": null,
   "metadata": {},
   "outputs": [],
   "source": [
    "# files.download_all()"
   ]
  }
 ],
 "metadata": {
  "kernelspec": {
   "display_name": "tbdyn",
   "language": "python",
   "name": "python3"
  },
  "language_info": {
   "codemirror_mode": {
    "name": "ipython",
    "version": 3
   },
   "file_extension": ".py",
   "mimetype": "text/x-python",
   "name": "python",
   "nbconvert_exporter": "python",
   "pygments_lexer": "ipython3",
   "version": "3.10.0"
  }
 },
 "nbformat": 4,
 "nbformat_minor": 2
}
