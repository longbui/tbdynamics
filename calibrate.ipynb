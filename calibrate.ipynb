{
 "cells": [
  {
   "cell_type": "code",
   "execution_count": 1,
   "metadata": {},
   "outputs": [
    {
     "name": "stderr",
     "output_type": "stream",
     "text": [
      "WARNING (pytensor.configdefaults): g++ not available, if using conda: `conda install m2w64-toolchain`\n",
      "WARNING (pytensor.configdefaults): g++ not detected!  PyTensor will be unable to compile C-implementations and will default to Python. Performance may be severely degraded. To remove this warning, set PyTensor flags cxx to an empty string.\n",
      "WARNING (pytensor.tensor.blas): Using NumPy C-API based implementation for BLAS functions.\n"
     ]
    }
   ],
   "source": [
    "import warnings\n",
    "warnings.filterwarnings(\"ignore\")\n",
    "import numpy as np\n",
    "from pathlib import Path\n",
    "import pymc as pm\n",
    "import arviz as az\n",
    "import multiprocessing as mp\n",
    "from estival.wrappers import pymc as epm\n",
    "from estival.sampling import tools as esamp\n",
    "from estival.wrappers import nevergrad as eng\n",
    "from estival.utils.parallel import map_parallel\n",
    "import nevergrad as ng\n",
    "\n",
    "from tbdynamics.constants import BURN_IN, OPTI_DRAWS\n",
    "from autumn.infrastructure.remote import springboard\n",
    "from tbdynamics.calib_utils import get_bcm\n",
    "import pandas as pd\n",
    "from estival.utils.sample import SampleTypes\n"
   ]
  },
  {
   "cell_type": "code",
   "execution_count": 2,
   "metadata": {},
   "outputs": [
    {
     "ename": "GraphRunError",
     "evalue": "('parameters.progression_multiplier', KeyError('progression_multiplier'))",
     "output_type": "error",
     "traceback": [
      "\u001b[1;31m---------------------------------------------------------------------------\u001b[0m",
      "\u001b[1;31mKeyError\u001b[0m                                  Traceback (most recent call last)",
      "File \u001b[1;32mc:\\Users\\vbui0010\\Anaconda3\\envs\\tbdyn\\lib\\site-packages\\computegraph\\graph.py:103\u001b[0m, in \u001b[0;36mbuild_callable.<locals>.compute_from_params\u001b[1;34m(**sources)\u001b[0m\n\u001b[0;32m    102\u001b[0m \u001b[38;5;28;01mtry\u001b[39;00m:\n\u001b[1;32m--> 103\u001b[0m     out_p[node] \u001b[38;5;241m=\u001b[39m node_spec\u001b[38;5;241m.\u001b[39mevaluate(\u001b[38;5;241m*\u001b[39m\u001b[38;5;241m*\u001b[39msources)\n\u001b[0;32m    104\u001b[0m \u001b[38;5;28;01mexcept\u001b[39;00m \u001b[38;5;167;01mException\u001b[39;00m \u001b[38;5;28;01mas\u001b[39;00m e:\n",
      "File \u001b[1;32mc:\\Users\\vbui0010\\Anaconda3\\envs\\tbdyn\\lib\\site-packages\\computegraph\\types.py:133\u001b[0m, in \u001b[0;36mVariable.evaluate\u001b[1;34m(self, **sources)\u001b[0m\n\u001b[0;32m    132\u001b[0m \u001b[38;5;28;01mdef\u001b[39;00m \u001b[38;5;21mevaluate\u001b[39m(\u001b[38;5;28mself\u001b[39m, \u001b[38;5;241m*\u001b[39m\u001b[38;5;241m*\u001b[39msources):\n\u001b[1;32m--> 133\u001b[0m     \u001b[38;5;28;01mreturn\u001b[39;00m \u001b[43msources\u001b[49m\u001b[43m[\u001b[49m\u001b[38;5;28;43mself\u001b[39;49m\u001b[38;5;241;43m.\u001b[39;49m\u001b[43msource\u001b[49m\u001b[43m]\u001b[49m\u001b[43m[\u001b[49m\u001b[38;5;28;43mself\u001b[39;49m\u001b[38;5;241;43m.\u001b[39;49m\u001b[43mkey\u001b[49m\u001b[43m]\u001b[49m\n",
      "\u001b[1;31mKeyError\u001b[0m: 'progression_multiplier'",
      "\nDuring handling of the above exception, another exception occurred:\n",
      "\u001b[1;31mGraphRunError\u001b[0m                             Traceback (most recent call last)",
      "Cell \u001b[1;32mIn[2], line 11\u001b[0m\n\u001b[0;32m      1\u001b[0m params \u001b[38;5;241m=\u001b[39m {\n\u001b[0;32m      2\u001b[0m     \u001b[38;5;124m\"\u001b[39m\u001b[38;5;124mstart_population_size\u001b[39m\u001b[38;5;124m\"\u001b[39m: \u001b[38;5;241m2300000.0\u001b[39m,\n\u001b[0;32m      3\u001b[0m     \u001b[38;5;124m\"\u001b[39m\u001b[38;5;124mseed_time\u001b[39m\u001b[38;5;124m\"\u001b[39m: \u001b[38;5;241m1810.0\u001b[39m,\n\u001b[1;32m   (...)\u001b[0m\n\u001b[0;32m      8\u001b[0m     \u001b[38;5;124m\"\u001b[39m\u001b[38;5;124mscreening_end_asymp\u001b[39m\u001b[38;5;124m\"\u001b[39m: \u001b[38;5;241m0.65\u001b[39m,\n\u001b[0;32m      9\u001b[0m }\n\u001b[1;32m---> 11\u001b[0m bcm \u001b[38;5;241m=\u001b[39m \u001b[43mget_bcm\u001b[49m\u001b[43m(\u001b[49m\u001b[43mparams\u001b[49m\u001b[43m)\u001b[49m\n",
      "File \u001b[1;32mc:\\Users\\vbui0010\\tbdynamics\\tbdynamics\\calib_utils.py:53\u001b[0m, in \u001b[0;36mget_bcm\u001b[1;34m(params)\u001b[0m\n\u001b[0;32m     51\u001b[0m priors \u001b[38;5;241m=\u001b[39m get_all_priors()\n\u001b[0;32m     52\u001b[0m targets \u001b[38;5;241m=\u001b[39m get_targets()\n\u001b[1;32m---> 53\u001b[0m \u001b[38;5;28;01mreturn\u001b[39;00m \u001b[43mBayesianCompartmentalModel\u001b[49m\u001b[43m(\u001b[49m\u001b[43mtb_model\u001b[49m\u001b[43m,\u001b[49m\u001b[43m \u001b[49m\u001b[43mparams\u001b[49m\u001b[43m,\u001b[49m\u001b[43m \u001b[49m\u001b[43mpriors\u001b[49m\u001b[43m,\u001b[49m\u001b[43m \u001b[49m\u001b[43mtargets\u001b[49m\u001b[43m)\u001b[49m\n",
      "File \u001b[1;32mc:\\Users\\vbui0010\\Anaconda3\\envs\\tbdyn\\lib\\site-packages\\estival\\model.py:50\u001b[0m, in \u001b[0;36mBayesianCompartmentalModel.__init__\u001b[1;34m(self, model, parameters, priors, targets, extra_ll, backend_args, whitelist)\u001b[0m\n\u001b[0;32m     46\u001b[0m \u001b[38;5;28mself\u001b[39m\u001b[38;5;241m.\u001b[39mepoch \u001b[38;5;241m=\u001b[39m \u001b[38;5;28mself\u001b[39m\u001b[38;5;241m.\u001b[39mmodel\u001b[38;5;241m.\u001b[39mget_epoch()\n\u001b[0;32m     48\u001b[0m \u001b[38;5;28mself\u001b[39m\u001b[38;5;241m.\u001b[39m_extra_ll \u001b[38;5;241m=\u001b[39m extra_ll\n\u001b[1;32m---> 50\u001b[0m \u001b[38;5;28;43mself\u001b[39;49m\u001b[38;5;241;43m.\u001b[39;49m\u001b[43m_build_logll_funcs\u001b[49m\u001b[43m(\u001b[49m\u001b[43mbackend_args\u001b[49m\u001b[43m,\u001b[49m\u001b[43m \u001b[49m\u001b[43mwhitelist\u001b[49m\u001b[43m)\u001b[49m\n\u001b[0;32m     52\u001b[0m \u001b[38;5;28;01mfrom\u001b[39;00m \u001b[38;5;21;01m.\u001b[39;00m\u001b[38;5;21;01mutils\u001b[39;00m\u001b[38;5;21;01m.\u001b[39;00m\u001b[38;5;21;01msample\u001b[39;00m \u001b[38;5;28;01mimport\u001b[39;00m SampledPriorsManager\n\u001b[0;32m     54\u001b[0m \u001b[38;5;28mself\u001b[39m\u001b[38;5;241m.\u001b[39msample \u001b[38;5;241m=\u001b[39m SampledPriorsManager(\u001b[38;5;28mself\u001b[39m\u001b[38;5;241m.\u001b[39mpriors)\n",
      "File \u001b[1;32mc:\\Users\\vbui0010\\Anaconda3\\envs\\tbdyn\\lib\\site-packages\\estival\\model.py:80\u001b[0m, in \u001b[0;36mBayesianCompartmentalModel._build_logll_funcs\u001b[1;34m(self, backend_args, whitelist)\u001b[0m\n\u001b[0;32m     77\u001b[0m \u001b[38;5;28;01mif\u001b[39;00m whitelist \u001b[38;5;129;01mis\u001b[39;00m \u001b[38;5;28;01mNone\u001b[39;00m:\n\u001b[0;32m     78\u001b[0m     whitelist \u001b[38;5;241m=\u001b[39m []\n\u001b[1;32m---> 80\u001b[0m \u001b[38;5;28mself\u001b[39m\u001b[38;5;241m.\u001b[39m_ll_runner \u001b[38;5;241m=\u001b[39m \u001b[38;5;28mself\u001b[39m\u001b[38;5;241m.\u001b[39mmodel\u001b[38;5;241m.\u001b[39mget_runner(\n\u001b[0;32m     81\u001b[0m     \u001b[38;5;28mself\u001b[39m\u001b[38;5;241m.\u001b[39mparameters, dyn_params, include_full_outputs\u001b[38;5;241m=\u001b[39m\u001b[38;5;28;01mFalse\u001b[39;00m, \u001b[38;5;241m*\u001b[39m\u001b[38;5;241m*\u001b[39mbackend_args\n\u001b[0;32m     82\u001b[0m )\n\u001b[0;32m     84\u001b[0m \u001b[38;5;28mself\u001b[39m\u001b[38;5;241m.\u001b[39mmodel\u001b[38;5;241m.\u001b[39mset_derived_outputs_whitelist(whitelist)\n\u001b[0;32m     85\u001b[0m \u001b[38;5;28mself\u001b[39m\u001b[38;5;241m.\u001b[39m_full_runner \u001b[38;5;241m=\u001b[39m \u001b[38;5;28mself\u001b[39m\u001b[38;5;241m.\u001b[39mmodel\u001b[38;5;241m.\u001b[39mget_runner(\n\u001b[0;32m     86\u001b[0m     \u001b[38;5;28mself\u001b[39m\u001b[38;5;241m.\u001b[39mparameters, dyn_params, include_full_outputs\u001b[38;5;241m=\u001b[39m\u001b[38;5;28;01mFalse\u001b[39;00m, \u001b[38;5;241m*\u001b[39m\u001b[38;5;241m*\u001b[39mbackend_args\n\u001b[0;32m     87\u001b[0m )\n",
      "File \u001b[1;32mc:\\Users\\vbui0010\\Anaconda3\\envs\\tbdyn\\lib\\site-packages\\summer2\\model.py:976\u001b[0m, in \u001b[0;36mCompartmentalModel.get_runner\u001b[1;34m(self, parameters, dyn_params, jit, include_full_outputs, **backend_args)\u001b[0m\n\u001b[0;32m    973\u001b[0m \u001b[38;5;28;01mif\u001b[39;00m \u001b[38;5;28mself\u001b[39m\u001b[38;5;241m.\u001b[39mbuilder:\n\u001b[0;32m    974\u001b[0m     parameters \u001b[38;5;241m=\u001b[39m {k: \u001b[38;5;28mself\u001b[39m\u001b[38;5;241m.\u001b[39m_type_validators[k](v) \u001b[38;5;28;01mfor\u001b[39;00m k, v \u001b[38;5;129;01min\u001b[39;00m parameters\u001b[38;5;241m.\u001b[39mitems()}\n\u001b[1;32m--> 976\u001b[0m jax_run_func, jax_runner_dict \u001b[38;5;241m=\u001b[39m build_run_model(\n\u001b[0;32m    977\u001b[0m     \u001b[38;5;28mself\u001b[39m\u001b[38;5;241m.\u001b[39m_backend,\n\u001b[0;32m    978\u001b[0m     base_params\u001b[38;5;241m=\u001b[39mparameters,\n\u001b[0;32m    979\u001b[0m     dyn_params\u001b[38;5;241m=\u001b[39mdyn_params,\n\u001b[0;32m    980\u001b[0m     include_full_outputs\u001b[38;5;241m=\u001b[39minclude_full_outputs,\n\u001b[0;32m    981\u001b[0m     \u001b[38;5;241m*\u001b[39m\u001b[38;5;241m*\u001b[39mbackend_args,\n\u001b[0;32m    982\u001b[0m )\n\u001b[0;32m    983\u001b[0m \u001b[38;5;28;01mif\u001b[39;00m jit:\n\u001b[0;32m    984\u001b[0m     \u001b[38;5;28;01mfrom\u001b[39;00m \u001b[38;5;21;01mjax\u001b[39;00m \u001b[38;5;28;01mimport\u001b[39;00m jit \u001b[38;5;28;01mas\u001b[39;00m jjit\n",
      "File \u001b[1;32mc:\\Users\\vbui0010\\Anaconda3\\envs\\tbdyn\\lib\\site-packages\\summer2\\runner\\jax\\model_impl.py:441\u001b[0m, in \u001b[0;36mbuild_run_model\u001b[1;34m(runner, base_params, dyn_params, solver, solver_args, derived_outputs, include_full_outputs)\u001b[0m\n\u001b[0;32m    437\u001b[0m ts_vars \u001b[38;5;241m=\u001b[39m runner\u001b[38;5;241m.\u001b[39mmodel\u001b[38;5;241m.\u001b[39mgraph\u001b[38;5;241m.\u001b[39mquery(\u001b[38;5;124m\"\u001b[39m\u001b[38;5;124mmodel_variables\u001b[39m\u001b[38;5;124m\"\u001b[39m)\n\u001b[0;32m    439\u001b[0m dyn_params \u001b[38;5;241m=\u001b[39m \u001b[38;5;28mset\u001b[39m(dyn_params)\u001b[38;5;241m.\u001b[39munion(\u001b[38;5;28mset\u001b[39m(ts_vars))\n\u001b[1;32m--> 441\u001b[0m param_frozen_cg, _ \u001b[38;5;241m=\u001b[39m \u001b[43mrunner\u001b[49m\u001b[38;5;241;43m.\u001b[39;49m\u001b[43mmodel\u001b[49m\u001b[38;5;241;43m.\u001b[39;49m\u001b[43mgraph\u001b[49m\u001b[38;5;241;43m.\u001b[39;49m\u001b[43mfreeze\u001b[49m\u001b[43m(\u001b[49m\u001b[43mdyn_params\u001b[49m\u001b[43m,\u001b[49m\u001b[43m \u001b[49m\u001b[43msource_inputs\u001b[49m\u001b[43m)\u001b[49m\n\u001b[0;32m    443\u001b[0m \u001b[38;5;66;03m# static_cg = param_frozen_cg.filter(exclude=ts_vars)\u001b[39;00m\n\u001b[0;32m    444\u001b[0m \u001b[38;5;66;03m# static_graph_func = static_cg.get_callable()(parameters=base_params)\u001b[39;00m\n\u001b[0;32m    446\u001b[0m timestep_cg, static_cg \u001b[38;5;241m=\u001b[39m param_frozen_cg\u001b[38;5;241m.\u001b[39mfreeze(ts_vars)\n",
      "File \u001b[1;32mc:\\Users\\vbui0010\\Anaconda3\\envs\\tbdyn\\lib\\site-packages\\computegraph\\graph.py:171\u001b[0m, in \u001b[0;36mComputeGraph.freeze\u001b[1;34m(self, dynamic_inputs, input_variables, targets)\u001b[0m\n\u001b[0;32m    168\u001b[0m \u001b[38;5;28;01mif\u001b[39;00m targets \u001b[38;5;129;01mis\u001b[39;00m \u001b[38;5;28;01mNone\u001b[39;00m:\n\u001b[0;32m    169\u001b[0m     targets \u001b[38;5;241m=\u001b[39m \u001b[38;5;28mself\u001b[39m\u001b[38;5;241m.\u001b[39m_targets\n\u001b[1;32m--> 171\u001b[0m \u001b[38;5;28;01mreturn\u001b[39;00m \u001b[43mfreeze_graph\u001b[49m\u001b[43m(\u001b[49m\u001b[38;5;28;43mself\u001b[39;49m\u001b[43m,\u001b[49m\u001b[43m \u001b[49m\u001b[43mtargets\u001b[49m\u001b[43m,\u001b[49m\u001b[43m \u001b[49m\u001b[43mdynamic_inputs\u001b[49m\u001b[43m,\u001b[49m\u001b[43m \u001b[49m\u001b[43minput_variables\u001b[49m\u001b[43m)\u001b[49m\n",
      "File \u001b[1;32mc:\\Users\\vbui0010\\Anaconda3\\envs\\tbdyn\\lib\\site-packages\\computegraph\\dynamic.py:87\u001b[0m, in \u001b[0;36mfreeze_graph\u001b[1;34m(cg, targets, dyn_sources, fixed_in_values)\u001b[0m\n\u001b[0;32m     84\u001b[0m mixed_d \u001b[38;5;241m=\u001b[39m cgt_dyn\u001b[38;5;241m.\u001b[39mcopy()\n\u001b[0;32m     86\u001b[0m \u001b[38;5;28;01mif\u001b[39;00m fixed_in_values \u001b[38;5;129;01mis\u001b[39;00m \u001b[38;5;129;01mnot\u001b[39;00m \u001b[38;5;28;01mNone\u001b[39;00m:\n\u001b[1;32m---> 87\u001b[0m     static_d \u001b[38;5;241m=\u001b[39m static_cg\u001b[38;5;241m.\u001b[39mget_callable(output_all\u001b[38;5;241m=\u001b[39m\u001b[38;5;28;01mTrue\u001b[39;00m)(\u001b[38;5;241m*\u001b[39m\u001b[38;5;241m*\u001b[39mfixed_in_values)\n\u001b[0;32m     88\u001b[0m     \u001b[38;5;28;01mfor\u001b[39;00m k \u001b[38;5;129;01min\u001b[39;00m static_targets:\n\u001b[0;32m     89\u001b[0m         mixed_d[k] \u001b[38;5;241m=\u001b[39m Data(static_d[k])\n",
      "File \u001b[1;32mc:\\Users\\vbui0010\\Anaconda3\\envs\\tbdyn\\lib\\site-packages\\computegraph\\graph.py:105\u001b[0m, in \u001b[0;36mbuild_callable.<locals>.compute_from_params\u001b[1;34m(**sources)\u001b[0m\n\u001b[0;32m    103\u001b[0m         out_p[node] \u001b[38;5;241m=\u001b[39m node_spec\u001b[38;5;241m.\u001b[39mevaluate(\u001b[38;5;241m*\u001b[39m\u001b[38;5;241m*\u001b[39msources)\n\u001b[0;32m    104\u001b[0m     \u001b[38;5;28;01mexcept\u001b[39;00m \u001b[38;5;167;01mException\u001b[39;00m \u001b[38;5;28;01mas\u001b[39;00m e:\n\u001b[1;32m--> 105\u001b[0m         \u001b[38;5;28;01mraise\u001b[39;00m GraphRunError(node, e)\n\u001b[0;32m    107\u001b[0m \u001b[38;5;28;01mif\u001b[39;00m include_inputs:\n\u001b[0;32m    108\u001b[0m     out_p\u001b[38;5;241m.\u001b[39mupdate({k: v \u001b[38;5;28;01mfor\u001b[39;00m k, v \u001b[38;5;129;01min\u001b[39;00m sources\u001b[38;5;241m.\u001b[39mitems() \u001b[38;5;28;01mif\u001b[39;00m k \u001b[38;5;241m!=\u001b[39m \u001b[38;5;124m\"\u001b[39m\u001b[38;5;124mgraph_locals\u001b[39m\u001b[38;5;124m\"\u001b[39m})\n",
      "\u001b[1;31mGraphRunError\u001b[0m: ('parameters.progression_multiplier', KeyError('progression_multiplier'))"
     ]
    }
   ],
   "source": [
    "params = {\n",
    "    \"start_population_size\": 2300000.0,\n",
    "    \"seed_time\": 1810.0,\n",
    "    \"seed_num\": 10.0,\n",
    "    \"seed_duration\": 3.0,\n",
    "    \"progression_multiplier\": 1.8,\n",
    "    \"screening_scaleup_shape\": 0.1,\n",
    "    \"screening_inflection_time\": 1993.0,\n",
    "    \"screening_end_asymp\": 0.65,\n",
    "}\n",
    "\n",
    "bcm = get_bcm(params)"
   ]
  },
  {
   "cell_type": "code",
   "execution_count": null,
   "metadata": {},
   "outputs": [],
   "source": [
    "def calibrate(out_path, bcm, draws, tune):\n",
    "    def optimize_ng_with_idx(item):\n",
    "        idx, sample = item\n",
    "        opt = eng.optimize_model(bcm, budget=2000, opt_class=ng.optimizers.TwoPointsDE, suggested = sample, num_workers=4)\n",
    "        rec= opt.minimize(2000)\n",
    "        return idx, rec.value[1]\n",
    "\n",
    "    lhs_samples = bcm.sample.lhs(16, ci=0.67)\n",
    "    lhs_lle = esamp.likelihood_extras_for_samples(lhs_samples, bcm)\n",
    "    lhs_sorted = lhs_lle.sort_values(\"loglikelihood\", ascending=False)\n",
    "    best8 = lhs_samples[lhs_sorted.index].iloc[0:8]\n",
    "    opt_samples_idx = map_parallel(optimize_ng_with_idx, best8.iterrows())\n",
    "    best_opt_samps = bcm.sample.convert(opt_samples_idx)\n",
    "    init_samps = best_opt_samps.convert(SampleTypes.LIST_OF_DICTS)[0]\n",
    "    n_chains = 6\n",
    "    n_samples = 1000\n",
    "    with pm.Model() as pm_model:\n",
    "        variables = epm.use_model(bcm)\n",
    "        idata_raw = pm.sample(\n",
    "            step=[pm.DEMetropolisZ(variables)],\n",
    "            draws=draws,\n",
    "            tune=tune,\n",
    "            cores=6,\n",
    "            discard_tuned_samples=False,\n",
    "            chains=n_chains,\n",
    "            progressbar=True,\n",
    "            initvals=init_samps,\n",
    "        )\n",
    "    idata_raw.to_netcdf(str(out_path / \"calib_full_out.nc\"))\n",
    "\n",
    "    burnt_idata = idata_raw.sel(draw=np.s_[BURN_IN:])\n",
    "    idata_extract = az.extract(burnt_idata, num_samples=n_samples)\n",
    "    # bcm.sample.convert(idata_extract).to_hdf5(out_path / \"calib_extract_out.h5\")\n",
    "\n",
    "    spaghetti_res = esamp.model_results_for_samples(idata_extract, bcm)\n",
    "    spaghetti_res.results.to_hdf(str(out_path / \"results.hdf\"), \"spaghetti\")\n",
    "\n",
    "    like_df = esamp.likelihood_extras_for_idata(idata_raw, bcm)\n",
    "    like_df.to_hdf(str(out_path / \"results.hdf\"), \"likelihood\")\n",
    "\n",
    "\n",
    "def run_calibration(bridge: springboard.task.TaskBridge, bcm, draws, tune):\n",
    "    import multiprocessing as mp\n",
    "    mp.set_start_method(\"forkserver\")\n",
    "    idata_raw = calibrate(bridge.out_path, bcm, draws, tune)\n",
    "    bridge.logger.info(\"Calibration complete\")"
   ]
  },
  {
   "cell_type": "code",
   "execution_count": null,
   "metadata": {},
   "outputs": [],
   "source": [
    "OUT_PATH = Path.cwd() / 'runs/r1004'\n",
    "draws= 50000\n",
    "tune = 5000\n",
    "calibrate(OUT_PATH,bcm, draws, tune)"
   ]
  },
  {
   "cell_type": "code",
   "execution_count": null,
   "metadata": {},
   "outputs": [],
   "source": [
    "draws = 500000\n",
    "tune = 50000\n",
    "\n",
    "commands = [\n",
    "    'git clone --branch tb-covid https://github.com/longbui/tbdynamics.git',\n",
    "    'pip install -e ./tbdynamics',\n",
    "]\n",
    "\n",
    "mspec = springboard.EC2MachineSpec(6, 2, 'compute')\n",
    "run_str = f'd{int(draws / 1000)}k-t{int(tune / 1000)}k-b{int(BURN_IN / 1000)}k'\n",
    "tspec_args = {'bcm': bcm,'draws': draws, 'tune': tune}\n",
    "tspec = springboard.TaskSpec(run_calibration, tspec_args)\n",
    "run_path =  springboard.launch.get_autumn_project_run_path('tbdynamics', 's10042_calibration', run_str)\n",
    "runner = springboard.launch.launch_synced_autumn_task(tspec, mspec, run_path, branch=None, extra_commands=commands)\n"
   ]
  },
  {
   "cell_type": "code",
   "execution_count": null,
   "metadata": {},
   "outputs": [],
   "source": [
    "print(runner.tail())"
   ]
  },
  {
   "cell_type": "code",
   "execution_count": null,
   "metadata": {},
   "outputs": [],
   "source": [
    "# # from autumn.infrastructure.remote import springboard\n",
    "# rts = springboard.task.RemoteTaskStore()\n",
    "# rts.cd('projects/tbdynamics/s06043_calibration')\n",
    "# rts.ls()\n",
    "# mt = rts.get_managed_task('2024-04-05T1445-d500k-t100k-b25k')\n",
    "# mt.get_log(\"crash\")"
   ]
  },
  {
   "cell_type": "code",
   "execution_count": null,
   "metadata": {},
   "outputs": [],
   "source": [
    "print(runner.get_log())"
   ]
  },
  {
   "cell_type": "code",
   "execution_count": null,
   "metadata": {},
   "outputs": [],
   "source": [
    "import jax\n",
    "print(\"Devices:\", jax.devices())"
   ]
  },
  {
   "cell_type": "code",
   "execution_count": null,
   "metadata": {},
   "outputs": [],
   "source": [
    "# files =runner.get_managed_task()"
   ]
  },
  {
   "cell_type": "code",
   "execution_count": null,
   "metadata": {},
   "outputs": [],
   "source": [
    "# files.download_all()"
   ]
  }
 ],
 "metadata": {
  "kernelspec": {
   "display_name": "tbdyn",
   "language": "python",
   "name": "python3"
  },
  "language_info": {
   "codemirror_mode": {
    "name": "ipython",
    "version": 3
   },
   "file_extension": ".py",
   "mimetype": "text/x-python",
   "name": "python",
   "nbconvert_exporter": "python",
   "pygments_lexer": "ipython3",
   "version": "3.10.13"
  }
 },
 "nbformat": 4,
 "nbformat_minor": 2
}
