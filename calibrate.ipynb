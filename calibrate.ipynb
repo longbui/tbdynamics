{
 "cells": [
  {
   "cell_type": "code",
   "execution_count": 1,
   "metadata": {
    "metadata": {}
   },
   "outputs": [
    {
     "name": "stderr",
     "output_type": "stream",
     "text": [
      "WARNING (pytensor.configdefaults): g++ not available, if using conda: `conda install m2w64-toolchain`\n",
      "WARNING (pytensor.configdefaults): g++ not detected!  PyTensor will be unable to compile C-implementations and will default to Python. Performance may be severely degraded. To remove this warning, set PyTensor flags cxx to an empty string.\n",
      "WARNING (pytensor.tensor.blas): Using NumPy C-API based implementation for BLAS functions.\n"
     ]
    }
   ],
   "source": [
    "import warnings\n",
    "warnings.filterwarnings(\"ignore\")\n",
    "import numpy as np\n",
    "from pathlib import Path\n",
    "import pymc as pm\n",
    "import arviz as az\n",
    "import multiprocessing as mp\n",
    "from estival.wrappers import pymc as epm\n",
    "from estival.sampling import tools as esamp\n",
    "from estival.wrappers import nevergrad as eng\n",
    "from estival.utils.parallel import map_parallel\n",
    "import nevergrad as ng\n",
    "\n",
    "from tbdynamics.constants import BURN_IN, OPTI_DRAWS\n",
    "from autumn.infrastructure.remote import springboard\n",
    "from tbdynamics.calib_utils import get_bcm\n",
    "import pandas as pd\n",
    "from estival.utils.sample import SampleTypes\n"
   ]
  },
  {
   "cell_type": "code",
   "execution_count": 2,
   "metadata": {},
   "outputs": [
    {
     "ename": "GraphRunError",
     "evalue": "('parameters.start_population_size', KeyError('start_population_size'))",
     "output_type": "error",
     "traceback": [
      "\u001b[1;31m---------------------------------------------------------------------------\u001b[0m",
      "\u001b[1;31mKeyError\u001b[0m                                  Traceback (most recent call last)",
      "File \u001b[1;32m~\\AppData\\Roaming\\Python\\Python310\\site-packages\\computegraph\\graph.py:103\u001b[0m, in \u001b[0;36mbuild_callable.<locals>.compute_from_params\u001b[1;34m(**sources)\u001b[0m\n\u001b[0;32m    102\u001b[0m \u001b[38;5;28;01mtry\u001b[39;00m:\n\u001b[1;32m--> 103\u001b[0m     out_p[node] \u001b[38;5;241m=\u001b[39m node_spec\u001b[38;5;241m.\u001b[39mevaluate(\u001b[38;5;241m*\u001b[39m\u001b[38;5;241m*\u001b[39msources)\n\u001b[0;32m    104\u001b[0m \u001b[38;5;28;01mexcept\u001b[39;00m \u001b[38;5;167;01mException\u001b[39;00m \u001b[38;5;28;01mas\u001b[39;00m e:\n",
      "File \u001b[1;32m~\\AppData\\Roaming\\Python\\Python310\\site-packages\\computegraph\\types.py:133\u001b[0m, in \u001b[0;36mVariable.evaluate\u001b[1;34m(self, **sources)\u001b[0m\n\u001b[0;32m    132\u001b[0m \u001b[38;5;28;01mdef\u001b[39;00m \u001b[38;5;21mevaluate\u001b[39m(\u001b[38;5;28mself\u001b[39m, \u001b[38;5;241m*\u001b[39m\u001b[38;5;241m*\u001b[39msources):\n\u001b[1;32m--> 133\u001b[0m     \u001b[38;5;28;01mreturn\u001b[39;00m \u001b[43msources\u001b[49m\u001b[43m[\u001b[49m\u001b[38;5;28;43mself\u001b[39;49m\u001b[38;5;241;43m.\u001b[39;49m\u001b[43msource\u001b[49m\u001b[43m]\u001b[49m\u001b[43m[\u001b[49m\u001b[38;5;28;43mself\u001b[39;49m\u001b[38;5;241;43m.\u001b[39;49m\u001b[43mkey\u001b[49m\u001b[43m]\u001b[49m\n",
      "\u001b[1;31mKeyError\u001b[0m: 'start_population_size'",
      "\nDuring handling of the above exception, another exception occurred:\n",
      "\u001b[1;31mGraphRunError\u001b[0m                             Traceback (most recent call last)",
      "Cell \u001b[1;32mIn[2], line 20\u001b[0m\n\u001b[0;32m      1\u001b[0m params \u001b[38;5;241m=\u001b[39m {\n\u001b[0;32m      2\u001b[0m     \u001b[38;5;66;03m# \"start_population_size\": 2300000.0,\u001b[39;00m\n\u001b[0;32m      3\u001b[0m     \u001b[38;5;66;03m# \"seed_time\": 1830.0,\u001b[39;00m\n\u001b[1;32m   (...)\u001b[0m\n\u001b[0;32m     18\u001b[0m     \u001b[38;5;66;03m# \"contact_reduction\": 0.3813306382411676,\u001b[39;00m\n\u001b[0;32m     19\u001b[0m }\n\u001b[1;32m---> 20\u001b[0m bcm \u001b[38;5;241m=\u001b[39m \u001b[43mget_bcm\u001b[49m\u001b[43m(\u001b[49m\u001b[43mparams\u001b[49m\u001b[43m)\u001b[49m\n",
      "File \u001b[1;32me:\\tbdynamics\\tbdynamics\\calib_utils.py:72\u001b[0m, in \u001b[0;36mget_bcm\u001b[1;34m(params)\u001b[0m\n\u001b[0;32m     55\u001b[0m target_data \u001b[38;5;241m=\u001b[39m load_targets()\n\u001b[0;32m     57\u001b[0m targets\u001b[38;5;241m.\u001b[39mextend(\n\u001b[0;32m     58\u001b[0m     [\n\u001b[0;32m     59\u001b[0m         \u001b[38;5;66;03m# est.NormalTarget(\u001b[39;00m\n\u001b[1;32m   (...)\u001b[0m\n\u001b[0;32m     70\u001b[0m     ]\n\u001b[0;32m     71\u001b[0m )\n\u001b[1;32m---> 72\u001b[0m \u001b[38;5;28;01mreturn\u001b[39;00m \u001b[43mBayesianCompartmentalModel\u001b[49m\u001b[43m(\u001b[49m\u001b[43mtb_model\u001b[49m\u001b[43m,\u001b[49m\u001b[43m \u001b[49m\u001b[43mparams\u001b[49m\u001b[43m,\u001b[49m\u001b[43m \u001b[49m\u001b[43mpriors\u001b[49m\u001b[43m,\u001b[49m\u001b[43m \u001b[49m\u001b[43mtargets\u001b[49m\u001b[43m)\u001b[49m\n",
      "File \u001b[1;32mc:\\tools\\Anaconda3\\envs\\autumn\\lib\\site-packages\\estival\\model.py:50\u001b[0m, in \u001b[0;36mBayesianCompartmentalModel.__init__\u001b[1;34m(self, model, parameters, priors, targets, extra_ll, backend_args, whitelist)\u001b[0m\n\u001b[0;32m     46\u001b[0m \u001b[38;5;28mself\u001b[39m\u001b[38;5;241m.\u001b[39mepoch \u001b[38;5;241m=\u001b[39m \u001b[38;5;28mself\u001b[39m\u001b[38;5;241m.\u001b[39mmodel\u001b[38;5;241m.\u001b[39mget_epoch()\n\u001b[0;32m     48\u001b[0m \u001b[38;5;28mself\u001b[39m\u001b[38;5;241m.\u001b[39m_extra_ll \u001b[38;5;241m=\u001b[39m extra_ll\n\u001b[1;32m---> 50\u001b[0m \u001b[38;5;28;43mself\u001b[39;49m\u001b[38;5;241;43m.\u001b[39;49m\u001b[43m_build_logll_funcs\u001b[49m\u001b[43m(\u001b[49m\u001b[43mbackend_args\u001b[49m\u001b[43m,\u001b[49m\u001b[43m \u001b[49m\u001b[43mwhitelist\u001b[49m\u001b[43m)\u001b[49m\n\u001b[0;32m     52\u001b[0m \u001b[38;5;28;01mfrom\u001b[39;00m \u001b[38;5;21;01m.\u001b[39;00m\u001b[38;5;21;01mutils\u001b[39;00m\u001b[38;5;21;01m.\u001b[39;00m\u001b[38;5;21;01msample\u001b[39;00m \u001b[38;5;28;01mimport\u001b[39;00m SampledPriorsManager\n\u001b[0;32m     54\u001b[0m \u001b[38;5;28mself\u001b[39m\u001b[38;5;241m.\u001b[39msample \u001b[38;5;241m=\u001b[39m SampledPriorsManager(\u001b[38;5;28mself\u001b[39m\u001b[38;5;241m.\u001b[39mpriors)\n",
      "File \u001b[1;32mc:\\tools\\Anaconda3\\envs\\autumn\\lib\\site-packages\\estival\\model.py:80\u001b[0m, in \u001b[0;36mBayesianCompartmentalModel._build_logll_funcs\u001b[1;34m(self, backend_args, whitelist)\u001b[0m\n\u001b[0;32m     77\u001b[0m \u001b[38;5;28;01mif\u001b[39;00m whitelist \u001b[38;5;129;01mis\u001b[39;00m \u001b[38;5;28;01mNone\u001b[39;00m:\n\u001b[0;32m     78\u001b[0m     whitelist \u001b[38;5;241m=\u001b[39m []\n\u001b[1;32m---> 80\u001b[0m \u001b[38;5;28mself\u001b[39m\u001b[38;5;241m.\u001b[39m_ll_runner \u001b[38;5;241m=\u001b[39m \u001b[38;5;28mself\u001b[39m\u001b[38;5;241m.\u001b[39mmodel\u001b[38;5;241m.\u001b[39mget_runner(\n\u001b[0;32m     81\u001b[0m     \u001b[38;5;28mself\u001b[39m\u001b[38;5;241m.\u001b[39mparameters, dyn_params, include_full_outputs\u001b[38;5;241m=\u001b[39m\u001b[38;5;28;01mFalse\u001b[39;00m, \u001b[38;5;241m*\u001b[39m\u001b[38;5;241m*\u001b[39mbackend_args\n\u001b[0;32m     82\u001b[0m )\n\u001b[0;32m     84\u001b[0m \u001b[38;5;28mself\u001b[39m\u001b[38;5;241m.\u001b[39mmodel\u001b[38;5;241m.\u001b[39mset_derived_outputs_whitelist(whitelist)\n\u001b[0;32m     85\u001b[0m \u001b[38;5;28mself\u001b[39m\u001b[38;5;241m.\u001b[39m_full_runner \u001b[38;5;241m=\u001b[39m \u001b[38;5;28mself\u001b[39m\u001b[38;5;241m.\u001b[39mmodel\u001b[38;5;241m.\u001b[39mget_runner(\n\u001b[0;32m     86\u001b[0m     \u001b[38;5;28mself\u001b[39m\u001b[38;5;241m.\u001b[39mparameters, dyn_params, include_full_outputs\u001b[38;5;241m=\u001b[39m\u001b[38;5;28;01mFalse\u001b[39;00m, \u001b[38;5;241m*\u001b[39m\u001b[38;5;241m*\u001b[39mbackend_args\n\u001b[0;32m     87\u001b[0m )\n",
      "File \u001b[1;32m~\\AppData\\Roaming\\Python\\Python310\\site-packages\\summer2\\model.py:976\u001b[0m, in \u001b[0;36mCompartmentalModel.get_runner\u001b[1;34m(self, parameters, dyn_params, jit, include_full_outputs, **backend_args)\u001b[0m\n\u001b[0;32m    973\u001b[0m \u001b[38;5;28;01mif\u001b[39;00m \u001b[38;5;28mself\u001b[39m\u001b[38;5;241m.\u001b[39mbuilder:\n\u001b[0;32m    974\u001b[0m     parameters \u001b[38;5;241m=\u001b[39m {k: \u001b[38;5;28mself\u001b[39m\u001b[38;5;241m.\u001b[39m_type_validators[k](v) \u001b[38;5;28;01mfor\u001b[39;00m k, v \u001b[38;5;129;01min\u001b[39;00m parameters\u001b[38;5;241m.\u001b[39mitems()}\n\u001b[1;32m--> 976\u001b[0m jax_run_func, jax_runner_dict \u001b[38;5;241m=\u001b[39m build_run_model(\n\u001b[0;32m    977\u001b[0m     \u001b[38;5;28mself\u001b[39m\u001b[38;5;241m.\u001b[39m_backend,\n\u001b[0;32m    978\u001b[0m     base_params\u001b[38;5;241m=\u001b[39mparameters,\n\u001b[0;32m    979\u001b[0m     dyn_params\u001b[38;5;241m=\u001b[39mdyn_params,\n\u001b[0;32m    980\u001b[0m     include_full_outputs\u001b[38;5;241m=\u001b[39minclude_full_outputs,\n\u001b[0;32m    981\u001b[0m     \u001b[38;5;241m*\u001b[39m\u001b[38;5;241m*\u001b[39mbackend_args,\n\u001b[0;32m    982\u001b[0m )\n\u001b[0;32m    983\u001b[0m \u001b[38;5;28;01mif\u001b[39;00m jit:\n\u001b[0;32m    984\u001b[0m     \u001b[38;5;28;01mfrom\u001b[39;00m \u001b[38;5;21;01mjax\u001b[39;00m \u001b[38;5;28;01mimport\u001b[39;00m jit \u001b[38;5;28;01mas\u001b[39;00m jjit\n",
      "File \u001b[1;32m~\\AppData\\Roaming\\Python\\Python310\\site-packages\\summer2\\runner\\jax\\model_impl.py:441\u001b[0m, in \u001b[0;36mbuild_run_model\u001b[1;34m(runner, base_params, dyn_params, solver, solver_args, derived_outputs, include_full_outputs)\u001b[0m\n\u001b[0;32m    437\u001b[0m ts_vars \u001b[38;5;241m=\u001b[39m runner\u001b[38;5;241m.\u001b[39mmodel\u001b[38;5;241m.\u001b[39mgraph\u001b[38;5;241m.\u001b[39mquery(\u001b[38;5;124m\"\u001b[39m\u001b[38;5;124mmodel_variables\u001b[39m\u001b[38;5;124m\"\u001b[39m)\n\u001b[0;32m    439\u001b[0m dyn_params \u001b[38;5;241m=\u001b[39m \u001b[38;5;28mset\u001b[39m(dyn_params)\u001b[38;5;241m.\u001b[39munion(\u001b[38;5;28mset\u001b[39m(ts_vars))\n\u001b[1;32m--> 441\u001b[0m param_frozen_cg, _ \u001b[38;5;241m=\u001b[39m \u001b[43mrunner\u001b[49m\u001b[38;5;241;43m.\u001b[39;49m\u001b[43mmodel\u001b[49m\u001b[38;5;241;43m.\u001b[39;49m\u001b[43mgraph\u001b[49m\u001b[38;5;241;43m.\u001b[39;49m\u001b[43mfreeze\u001b[49m\u001b[43m(\u001b[49m\u001b[43mdyn_params\u001b[49m\u001b[43m,\u001b[49m\u001b[43m \u001b[49m\u001b[43msource_inputs\u001b[49m\u001b[43m)\u001b[49m\n\u001b[0;32m    443\u001b[0m \u001b[38;5;66;03m# static_cg = param_frozen_cg.filter(exclude=ts_vars)\u001b[39;00m\n\u001b[0;32m    444\u001b[0m \u001b[38;5;66;03m# static_graph_func = static_cg.get_callable()(parameters=base_params)\u001b[39;00m\n\u001b[0;32m    446\u001b[0m timestep_cg, static_cg \u001b[38;5;241m=\u001b[39m param_frozen_cg\u001b[38;5;241m.\u001b[39mfreeze(ts_vars)\n",
      "File \u001b[1;32m~\\AppData\\Roaming\\Python\\Python310\\site-packages\\computegraph\\graph.py:171\u001b[0m, in \u001b[0;36mComputeGraph.freeze\u001b[1;34m(self, dynamic_inputs, input_variables, targets)\u001b[0m\n\u001b[0;32m    168\u001b[0m \u001b[38;5;28;01mif\u001b[39;00m targets \u001b[38;5;129;01mis\u001b[39;00m \u001b[38;5;28;01mNone\u001b[39;00m:\n\u001b[0;32m    169\u001b[0m     targets \u001b[38;5;241m=\u001b[39m \u001b[38;5;28mself\u001b[39m\u001b[38;5;241m.\u001b[39m_targets\n\u001b[1;32m--> 171\u001b[0m \u001b[38;5;28;01mreturn\u001b[39;00m \u001b[43mfreeze_graph\u001b[49m\u001b[43m(\u001b[49m\u001b[38;5;28;43mself\u001b[39;49m\u001b[43m,\u001b[49m\u001b[43m \u001b[49m\u001b[43mtargets\u001b[49m\u001b[43m,\u001b[49m\u001b[43m \u001b[49m\u001b[43mdynamic_inputs\u001b[49m\u001b[43m,\u001b[49m\u001b[43m \u001b[49m\u001b[43minput_variables\u001b[49m\u001b[43m)\u001b[49m\n",
      "File \u001b[1;32m~\\AppData\\Roaming\\Python\\Python310\\site-packages\\computegraph\\dynamic.py:87\u001b[0m, in \u001b[0;36mfreeze_graph\u001b[1;34m(cg, targets, dyn_sources, fixed_in_values)\u001b[0m\n\u001b[0;32m     84\u001b[0m mixed_d \u001b[38;5;241m=\u001b[39m cgt_dyn\u001b[38;5;241m.\u001b[39mcopy()\n\u001b[0;32m     86\u001b[0m \u001b[38;5;28;01mif\u001b[39;00m fixed_in_values \u001b[38;5;129;01mis\u001b[39;00m \u001b[38;5;129;01mnot\u001b[39;00m \u001b[38;5;28;01mNone\u001b[39;00m:\n\u001b[1;32m---> 87\u001b[0m     static_d \u001b[38;5;241m=\u001b[39m static_cg\u001b[38;5;241m.\u001b[39mget_callable(output_all\u001b[38;5;241m=\u001b[39m\u001b[38;5;28;01mTrue\u001b[39;00m)(\u001b[38;5;241m*\u001b[39m\u001b[38;5;241m*\u001b[39mfixed_in_values)\n\u001b[0;32m     88\u001b[0m     \u001b[38;5;28;01mfor\u001b[39;00m k \u001b[38;5;129;01min\u001b[39;00m static_targets:\n\u001b[0;32m     89\u001b[0m         mixed_d[k] \u001b[38;5;241m=\u001b[39m Data(static_d[k])\n",
      "File \u001b[1;32m~\\AppData\\Roaming\\Python\\Python310\\site-packages\\computegraph\\graph.py:105\u001b[0m, in \u001b[0;36mbuild_callable.<locals>.compute_from_params\u001b[1;34m(**sources)\u001b[0m\n\u001b[0;32m    103\u001b[0m         out_p[node] \u001b[38;5;241m=\u001b[39m node_spec\u001b[38;5;241m.\u001b[39mevaluate(\u001b[38;5;241m*\u001b[39m\u001b[38;5;241m*\u001b[39msources)\n\u001b[0;32m    104\u001b[0m     \u001b[38;5;28;01mexcept\u001b[39;00m \u001b[38;5;167;01mException\u001b[39;00m \u001b[38;5;28;01mas\u001b[39;00m e:\n\u001b[1;32m--> 105\u001b[0m         \u001b[38;5;28;01mraise\u001b[39;00m GraphRunError(node, e)\n\u001b[0;32m    107\u001b[0m \u001b[38;5;28;01mif\u001b[39;00m include_inputs:\n\u001b[0;32m    108\u001b[0m     out_p\u001b[38;5;241m.\u001b[39mupdate({k: v \u001b[38;5;28;01mfor\u001b[39;00m k, v \u001b[38;5;129;01min\u001b[39;00m sources\u001b[38;5;241m.\u001b[39mitems() \u001b[38;5;28;01mif\u001b[39;00m k \u001b[38;5;241m!=\u001b[39m \u001b[38;5;124m\"\u001b[39m\u001b[38;5;124mgraph_locals\u001b[39m\u001b[38;5;124m\"\u001b[39m})\n",
      "\u001b[1;31mGraphRunError\u001b[0m: ('parameters.start_population_size', KeyError('start_population_size'))"
     ]
    }
   ],
   "source": [
    "params = {\n",
    "    # \"start_population_size\": 2300000.0,\n",
    "    # \"seed_time\": 1830.0,\n",
    "    # \"seed_num\": 100.0,\n",
    "    # \"seed_duration\": 20.0,\n",
    "    # \"contact_rate\": 0.02977583831288669,\n",
    "    # \"rr_infection_latent\": 0.20344010763518713,\n",
    "    # \"rr_infection_recovered\": 0.40580870889350107,\n",
    "    # \"progression_multiplier\": 0.8810860029360905,\n",
    "    # \"smear_positive_death_rate\": 0.4313851033562638,\n",
    "    # \"smear_negative_death_rate\": 0.03350161278620193,\n",
    "    # \"smear_positive_self_recovery\": 0.28604824197753914,\n",
    "    # \"smear_negative_self_recovery\": 0.15805647865361552,\n",
    "    # \"screening_scaleup_shape\": 0.2508963255953057,\n",
    "    # \"screening_inflection_time\": 1995.1487440977369,\n",
    "    # \"time_to_screening_end_asymp\": 1.111127871433536,\n",
    "    # \"detection_reduction\": 0.24351558358481182,\n",
    "    # \"contact_reduction\": 0.3813306382411676,\n",
    "}\n",
    "bcm = get_bcm(params)"
   ]
  },
  {
   "cell_type": "code",
   "execution_count": null,
   "metadata": {},
   "outputs": [],
   "source": [
    "def calibrate(out_path, bcm, draws, tune):\n",
    "    def optimize_ng_with_idx(item):\n",
    "        idx, sample = item\n",
    "        opt = eng.optimize_model(bcm, budget=1000, opt_class=ng.optimizers.TwoPointsDE, suggested = sample, num_workers=8)\n",
    "        rec= opt.minimize(1000)\n",
    "        return idx, rec.value[1]\n",
    "\n",
    "    lhs_samples = bcm.sample.lhs(16, ci=0.67)\n",
    "    lhs_lle = esamp.likelihood_extras_for_samples(lhs_samples, bcm)\n",
    "    lhs_sorted = lhs_lle.sort_values(\"loglikelihood\", ascending=False)\n",
    "    opt_samples_idx = map_parallel(optimize_ng_with_idx, lhs_sorted.iterrows())\n",
    "    best_opt_samps = bcm.sample.convert(opt_samples_idx)\n",
    "    init_samps = best_opt_samps.convert(SampleTypes.LIST_OF_DICTS)[0:8]\n",
    "    n_chains = 8\n",
    "    n_samples = 500\n",
    "    with pm.Model() as pm_model:\n",
    "        variables = epm.use_model(bcm)\n",
    "        idata_raw = pm.sample(\n",
    "            step=[pm.DEMetropolisZ(variables, proposal_dist=pm.NormalProposal)],\n",
    "            draws=draws,\n",
    "            cores= 8,\n",
    "            tune=tune,\n",
    "            discard_tuned_samples=False,\n",
    "            chains=n_chains,\n",
    "            progressbar=True,\n",
    "            initvals=init_samps,\n",
    "        )\n",
    "    idata_raw.to_netcdf(str(out_path / \"calib_full_out.nc\"))\n",
    "\n",
    "    burnt_idata = idata_raw.sel(draw=np.s_[50000:])\n",
    "    idata_extract = az.extract(burnt_idata, num_samples=n_samples)\n",
    "    bcm.sample.convert(idata_extract).to_hdf5(out_path / \"calib_extract_out.h5\")\n",
    "\n",
    "    spaghetti_res = esamp.model_results_for_samples(idata_extract, bcm)\n",
    "    spaghetti_res.results.to_hdf(str(out_path / \"results.hdf\"), \"spaghetti\")\n",
    "\n",
    "    like_df = esamp.likelihood_extras_for_idata(idata_raw, bcm)\n",
    "    like_df.to_hdf(str(out_path / \"results.hdf\"), \"likelihood\")\n",
    "\n",
    "\n",
    "def run_calibration(bridge: springboard.task.TaskBridge, bcm, draws, tune):\n",
    "    import multiprocessing as mp\n",
    "    mp.set_start_method(\"forkserver\")\n",
    "    idata_raw = calibrate(bridge.out_path, bcm, draws, tune)\n",
    "    bridge.logger.info(\"Calibration complete\")"
   ]
  },
  {
   "cell_type": "code",
   "execution_count": null,
   "metadata": {},
   "outputs": [],
   "source": [
    "# def smc_calib():\n",
    "#     with pm.Model() as model:\n",
    "#         variables = epm.use_model(bcm)\n",
    "#         print(variables)\n",
    "#         idata_smc = pm.sample_smc(\n",
    "#             kernel=pm.smc.IMH,\n",
    "#             compute_convergence_checks=False,\n",
    "#             start=None,\n",
    "#             draws=15000,\n",
    "#             chains=4,\n",
    "#             threshold=0.1,\n",
    "#             correlation_threshold=0.6,\n",
    "#         )\n",
    "#     idata_smc.to_netcdf(str(\"runs/r1207/calib_full_out.nc\"))"
   ]
  },
  {
   "cell_type": "code",
   "execution_count": null,
   "metadata": {},
   "outputs": [],
   "source": [
    "# smc_calib()"
   ]
  },
  {
   "cell_type": "code",
   "execution_count": null,
   "metadata": {
    "metadata": {}
   },
   "outputs": [],
   "source": [
    "OUT_PATH = Path.cwd() / 'runs/r1207'\n",
    "draws= 100000\n",
    "tune = 50000\n",
    "calibrate(OUT_PATH,bcm, draws, tune)"
   ]
  },
  {
   "cell_type": "code",
   "execution_count": null,
   "metadata": {},
   "outputs": [],
   "source": [
    "# draws = 100000\n",
    "# tune = 50000\n",
    "\n",
    "# commands = [\n",
    "#     'git clone --branch tb-covid https://github.com/longbui/tbdynamics.git',\n",
    "#     'pip install -e ./tbdynamics',\n",
    "# ]\n",
    "\n",
    "# mspec = springboard.EC2MachineSpec(8, 2, 'compute')\n",
    "# run_str = f'd{int(draws / 1000)}k-t{int(tune / 1000)}k-b{int(BURN_IN / 1000)}k'\n",
    "# tspec_args = {'bcm': bcm,'draws': draws, 'tune': tune}\n",
    "# tspec = springboard.TaskSpec(run_calibration, tspec_args)\n",
    "# run_path =  springboard.launch.get_autumn_project_run_path('tbdynamics', 's3007_calibration', run_str)\n",
    "# runner = springboard.launch.launch_synced_autumn_task(tspec, mspec, run_path, branch=None, extra_commands=commands)\n"
   ]
  },
  {
   "cell_type": "code",
   "execution_count": null,
   "metadata": {},
   "outputs": [],
   "source": [
    "# runner.wait()"
   ]
  },
  {
   "cell_type": "code",
   "execution_count": null,
   "metadata": {},
   "outputs": [],
   "source": [
    "# from autumn.infrastructure.remote import springboard\n",
    "# rts = springboard.task.RemoteTaskStore()\n",
    "# rts.cd('projects/tbdynamics/s10043_calibration')\n",
    "# rts.ls()\n",
    "\n",
    "# mt.get_log(\"crash\")"
   ]
  },
  {
   "cell_type": "code",
   "execution_count": null,
   "metadata": {},
   "outputs": [],
   "source": [
    "# mt = rts.get_managed_task('2024-04-11T2322-d100k-t20k-b20k')"
   ]
  },
  {
   "cell_type": "code",
   "execution_count": null,
   "metadata": {},
   "outputs": [],
   "source": [
    "# print(mt.get_log('crash'))"
   ]
  },
  {
   "cell_type": "code",
   "execution_count": null,
   "metadata": {},
   "outputs": [],
   "source": [
    "# print(runner.get_log(\"crash\"))"
   ]
  }
 ],
 "metadata": {
  "kernelspec": {
   "display_name": "tbdyn",
   "language": "python",
   "name": "python3"
  },
  "language_info": {
   "codemirror_mode": {
    "name": "ipython",
    "version": 3
   },
   "file_extension": ".py",
   "mimetype": "text/x-python",
   "name": "python",
   "nbconvert_exporter": "python",
   "pygments_lexer": "ipython3",
   "version": "3.10.0"
  }
 },
 "nbformat": 4,
 "nbformat_minor": 2
}
