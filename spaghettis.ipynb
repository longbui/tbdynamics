{
 "cells": [
  {
   "cell_type": "code",
   "execution_count": null,
   "metadata": {
    "metadata": {}
   },
   "outputs": [],
   "source": [
    "import warnings\n",
    "warnings.filterwarnings(\"ignore\")\n",
    "from pathlib import Path\n",
    "import pandas as pd\n",
    "from estival.sampling import tools as esamp\n",
    "from tbdynamics.calib_utils import plot_output_ranges\n",
    "from tbdynamics.inputs import load_targets\n",
    "import arviz as az\n",
    "from tbdynamics.calib_utils import get_bcm\n",
    "from numpyro.distributions.transforms import AffineTransform, ComposeTransform\n",
    "from numpyro.distributions import TransformedDistribution\n",
    "import numpyro.distributions.constraints as constraints"
   ]
  },
  {
   "cell_type": "code",
   "execution_count": null,
   "metadata": {
    "metadata": {}
   },
   "outputs": [],
   "source": [
    "OUT_PATH = Path.cwd() / 'runs/r1107'"
   ]
  },
  {
   "cell_type": "code",
   "execution_count": null,
   "metadata": {
    "metadata": {}
   },
   "outputs": [],
   "source": [
    "quantiles = [0.025, 0.25, 0.5, 0.75, 0.975]\n",
    "spaghetti = pd.read_hdf(OUT_PATH / 'results.hdf', 'spaghetti')\n",
    "quantile_outputs = esamp.quantiles_for_results(spaghetti, quantiles)\n",
    "targets = load_targets()"
   ]
  },
  {
   "cell_type": "code",
   "execution_count": null,
   "metadata": {
    "metadata": {}
   },
   "outputs": [],
   "source": [
    "# plot_spaghetti(spaghetti, ['total_population','notification'], 2, targets)"
   ]
  },
  {
   "cell_type": "code",
   "execution_count": null,
   "metadata": {
    "metadata": {}
   },
   "outputs": [],
   "source": [
    "# plot_spaghetti(spaghetti, ['prevalence_pulmonary','incidence'], 2, targets)"
   ]
  },
  {
   "cell_type": "code",
   "execution_count": null,
   "metadata": {
    "metadata": {}
   },
   "outputs": [],
   "source": [
    "plot_output_ranges(quantile_outputs,targets, ['total_population','notification'], quantiles, 1, 2010, 2025)"
   ]
  },
  {
   "cell_type": "code",
   "execution_count": null,
   "metadata": {
    "metadata": {}
   },
   "outputs": [],
   "source": [
    "plot_output_ranges(quantile_outputs,targets, ['prevalence_pulmonary','incidence', 'percentage_latent'], quantiles, 1, 2010, 2025)"
   ]
  },
  {
   "cell_type": "code",
   "execution_count": null,
   "metadata": {},
   "outputs": [],
   "source": [
    "plot_output_ranges(quantile_outputs,targets, ['mortality_raw'], quantiles, 1, 2010, 2025)"
   ]
  },
  {
   "cell_type": "code",
   "execution_count": null,
   "metadata": {
    "metadata": {}
   },
   "outputs": [],
   "source": [
    "idata = az.from_netcdf(OUT_PATH / 'calib_full_out.nc')"
   ]
  },
  {
   "cell_type": "code",
   "execution_count": null,
   "metadata": {
    "metadata": {}
   },
   "outputs": [],
   "source": [
    "idata = idata.sel(chain=[3,4,5,6])"
   ]
  },
  {
   "cell_type": "code",
   "execution_count": null,
   "metadata": {
    "metadata": {}
   },
   "outputs": [],
   "source": [
    "az.plot_trace(idata, figsize=(16,3.1*len(idata.posterior)))"
   ]
  },
  {
   "cell_type": "code",
   "execution_count": null,
   "metadata": {
    "metadata": {}
   },
   "outputs": [],
   "source": [
    "az.summary(idata)"
   ]
  },
  {
   "cell_type": "code",
   "execution_count": null,
   "metadata": {},
   "outputs": [],
   "source": [
    "import estival.priors as esp\n",
    "from numpyro import distributions as dist\n",
    "from typing import List\n",
    "import numpy as np\n",
    "import matplotlib.pyplot as plt"
   ]
  },
  {
   "cell_type": "code",
   "execution_count": null,
   "metadata": {},
   "outputs": [],
   "source": [
    "def convert_prior_to_numpyro(prior):\n",
    "    \"\"\"Converts a given prior to a corresponding Numpyro distribution based on its type.\"\"\"\n",
    "    if isinstance(prior, esp.UniformPrior):\n",
    "        return dist.Uniform(low=prior.start, high=prior.end), None\n",
    "    elif isinstance(prior, esp.TruncNormalPrior):\n",
    "         return dist.TruncatedNormal(loc=prior.mean, scale=prior.stdev, low=prior.trunc_range[0], high=prior.trunc_range[1]), (prior.trunc_range[0], prior.trunc_range[1])\n",
    "    elif isinstance(prior, esp.GammaPrior):\n",
    "        rate = 1.0 / prior.scale\n",
    "        return dist.Gamma(concentration=prior.shape, rate=rate), None\n",
    "    else:\n",
    "        raise TypeError(f\"Unsupported prior type: {type(prior).__name__}\")\n",
    "\n",
    "def convert_all_priors_to_numpyro(priors):\n",
    "    numpyro_priors = {}\n",
    "    for key, prior in priors.items():\n",
    "        numpyro_prior, _ = convert_prior_to_numpyro(prior)\n",
    "        numpyro_priors[key] = numpyro_prior\n",
    "    return numpyro_priors"
   ]
  },
  {
   "cell_type": "code",
   "execution_count": null,
   "metadata": {},
   "outputs": [],
   "source": [
    "# def convert_all_priors_to_numpyro(priors):\n",
    "#     numpyro_priors = {}\n",
    "#     for key, prior in priors.items():\n",
    "#         numpyro_priors[key] = convert_prior_to_numpyro(prior)\n",
    "#     return numpyro_priors"
   ]
  },
  {
   "cell_type": "code",
   "execution_count": null,
   "metadata": {},
   "outputs": [],
   "source": [
    "params = {\n",
    "    \"start_population_size\": 2300000.0,\n",
    "    \"seed_time\": 1830.0,\n",
    "    \"seed_num\": 100.0,\n",
    "    \"seed_duration\": 20.0,\n",
    "}"
   ]
  },
  {
   "cell_type": "code",
   "execution_count": null,
   "metadata": {},
   "outputs": [],
   "source": [
    "def normalize_prior_to_posterior(prior, posterior_samples, x_vals):\n",
    "    \"\"\"Normalize the prior density to match the area of the posterior density over the given range.\"\"\"\n",
    "    prior_density = np.exp(prior.log_prob(x_vals))\n",
    "    posterior_density, bin_edges = np.histogram(posterior_samples, bins=x_vals, density=True)\n",
    "    bin_centers = 0.5 * (bin_edges[:-1] + bin_edges[1:])\n",
    "    \n",
    "    area_prior = np.trapz(prior_density, x_vals)\n",
    "    area_posterior = np.trapz(posterior_density, bin_centers)\n",
    "    \n",
    "    scaling_factor = area_posterior / area_prior if area_prior != 0 else 1\n",
    "    normalized_prior_density = prior_density * scaling_factor\n",
    "    \n",
    "    return normalized_prior_density, bin_centers, posterior_density\n",
    "\n",
    "def plot_post_prior_comparison(\n",
    "    idata: az.InferenceData, \n",
    "    req_vars: list, \n",
    "    priors: list,\n",
    "):\n",
    "    \"\"\"Plot comparison of model posterior outputs against priors.\n",
    "\n",
    "    Args:\n",
    "        idata: Arviz inference data from calibration\n",
    "        req_vars: User-requested variables to plot\n",
    "        priors: List of Numpyro prior distribution objects\n",
    "\n",
    "    Returns:\n",
    "        The figure object\n",
    "    \"\"\"\n",
    "    num_vars = len(req_vars)\n",
    "    num_rows = (num_vars + 1) // 2  # This ensures an even distribution across two columns\n",
    "\n",
    "    plot = az.plot_density(\n",
    "        idata, \n",
    "        var_names=req_vars, \n",
    "        shade=0.3, \n",
    "        grid=(num_rows, 2)  # Set the grid to have num_rows rows and 2 columns\n",
    "    )\n",
    "\n",
    "    for i_ax, ax in enumerate(plot.ravel()):\n",
    "        if i_ax < len(req_vars):\n",
    "            var_name = req_vars[i_ax]\n",
    "            posterior_samples = idata.posterior[var_name].values.flatten()\n",
    "            low, high = np.percentile(posterior_samples, [2.5, 97.5])\n",
    "            x_vals = np.linspace(low, high, 100)\n",
    "\n",
    "            normalized_prior_density, bin_centers, posterior_density = normalize_prior_to_posterior(priors[i_ax], posterior_samples, x_vals)\n",
    "            ax.fill_between(x_vals, normalized_prior_density, color=\"k\", alpha=0.2, linewidth=2)\n",
    "            # ax.plot(x_vals, normalized_prior_density, color=\"k\", linewidth=1)  # Add a line plot for better visibility\n",
    "\n",
    "            # ax.plot(bin_centers, posterior_density, color=\"b\", linewidth=1, linestyle='dashed')  # Posterior density for comparison\n",
    "\n",
    "    plt.show()\n"
   ]
  },
  {
   "cell_type": "code",
   "execution_count": null,
   "metadata": {},
   "outputs": [],
   "source": [
    "numpyro_priors = convert_all_priors_to_numpyro(get_bcm(params).priors)"
   ]
  },
  {
   "cell_type": "code",
   "execution_count": null,
   "metadata": {},
   "outputs": [],
   "source": [
    "req_vars = list(numpyro_priors.keys())"
   ]
  },
  {
   "cell_type": "code",
   "execution_count": null,
   "metadata": {},
   "outputs": [],
   "source": [
    "plot_post_prior_comparison(idata, req_vars, [numpyro_priors[var] for var in req_vars])"
   ]
  }
 ],
 "metadata": {
  "kernelspec": {
   "display_name": "autumn",
   "language": "python",
   "name": "python3"
  },
  "language_info": {
   "codemirror_mode": {
    "name": "ipython",
    "version": 3
   },
   "file_extension": ".py",
   "mimetype": "text/x-python",
   "name": "python",
   "nbconvert_exporter": "python",
   "pygments_lexer": "ipython3",
   "version": "3.10.0"
  }
 },
 "nbformat": 4,
 "nbformat_minor": 2
}
