{
 "cells": [
  {
   "cell_type": "code",
   "execution_count": null,
   "metadata": {
    "metadata": {}
   },
   "outputs": [],
   "source": [
    "import warnings\n",
    "warnings.filterwarnings(\"ignore\")\n",
    "from pathlib import Path\n",
    "import pandas as pd\n",
    "from estival.sampling import tools as esamp\n",
    "from tbdynamics.calib_utils import plot_output_ranges\n",
    "from tbdynamics.inputs import load_targets\n",
    "import arviz as az\n",
    "from tbdynamics.calib_utils import get_bcm"
   ]
  },
  {
   "cell_type": "code",
   "execution_count": null,
   "metadata": {
    "metadata": {}
   },
   "outputs": [],
   "source": [
    "OUT_PATH = Path.cwd() / 'runs/r1206'"
   ]
  },
  {
   "cell_type": "code",
   "execution_count": null,
   "metadata": {
    "metadata": {}
   },
   "outputs": [],
   "source": [
    "quantiles = [0.025, 0.25, 0.5, 0.75, 0.975]\n",
    "spaghetti = pd.read_hdf(OUT_PATH / 'results.hdf', 'spaghetti')\n",
    "quantile_outputs = esamp.quantiles_for_results(spaghetti, quantiles)\n",
    "targets = load_targets()"
   ]
  },
  {
   "cell_type": "code",
   "execution_count": null,
   "metadata": {
    "metadata": {}
   },
   "outputs": [],
   "source": [
    "# plot_spaghetti(spaghetti, ['total_population','notification'], 2, targets)"
   ]
  },
  {
   "cell_type": "code",
   "execution_count": null,
   "metadata": {
    "metadata": {}
   },
   "outputs": [],
   "source": [
    "# plot_spaghetti(spaghetti, ['prevalence_pulmonary','incidence'], 2, targets)"
   ]
  },
  {
   "cell_type": "code",
   "execution_count": null,
   "metadata": {
    "metadata": {}
   },
   "outputs": [],
   "source": [
    "plot_output_ranges(quantile_outputs,targets, ['total_population','notification'], quantiles, 1, 2010, 2025)"
   ]
  },
  {
   "cell_type": "code",
   "execution_count": null,
   "metadata": {
    "metadata": {}
   },
   "outputs": [],
   "source": [
    "plot_output_ranges(quantile_outputs,targets, ['prevalence_pulmonary','incidence', 'percentage_latent'], quantiles, 1, 2010, 2025)"
   ]
  },
  {
   "cell_type": "code",
   "execution_count": null,
   "metadata": {
    "metadata": {}
   },
   "outputs": [],
   "source": [
    "plot_output_ranges(quantile_outputs,targets, ['case_detection_rate'], quantiles, 1, 2015, 2025)"
   ]
  },
  {
   "cell_type": "code",
   "execution_count": null,
   "metadata": {},
   "outputs": [],
   "source": [
    "plot_output_ranges(quantile_outputs,targets, ['mortality_raw'], quantiles, 1, 2010, 2025)"
   ]
  },
  {
   "cell_type": "code",
   "execution_count": null,
   "metadata": {
    "metadata": {}
   },
   "outputs": [],
   "source": [
    "idata = az.from_netcdf(OUT_PATH / 'calib_full_out.nc')"
   ]
  },
  {
   "cell_type": "code",
   "execution_count": null,
   "metadata": {
    "metadata": {}
   },
   "outputs": [],
   "source": [
    "idata = idata.sel(draw=slice(5000, None))"
   ]
  },
  {
   "cell_type": "code",
   "execution_count": null,
   "metadata": {
    "metadata": {}
   },
   "outputs": [],
   "source": [
    "az.plot_trace(idata, figsize=(16,3.1*len(idata.posterior)))"
   ]
  },
  {
   "cell_type": "code",
   "execution_count": null,
   "metadata": {
    "metadata": {}
   },
   "outputs": [],
   "source": [
    "az.summary(idata)"
   ]
  },
  {
   "cell_type": "code",
   "execution_count": null,
   "metadata": {},
   "outputs": [],
   "source": [
    "import estival.priors as esp\n",
    "from numpyro import distributions as dist\n",
    "from typing import List\n",
    "import numpy as np\n",
    "import matplotlib.pyplot as plt"
   ]
  },
  {
   "cell_type": "code",
   "execution_count": null,
   "metadata": {},
   "outputs": [],
   "source": [
    "def convert_prior_to_numpyro(prior):\n",
    "    \"\"\"Converts a given prior to a corresponding Numpyro distribution based on its type.\"\"\"\n",
    "    if isinstance(prior, esp.UniformPrior):\n",
    "        # Convert UniformPrior to Numpyro's Uniform distribution\n",
    "        return dist.Uniform(low=prior.start, high=prior.end)\n",
    "    \n",
    "    elif isinstance(prior, esp.TruncNormalPrior):\n",
    "        # Since Numpyro doesn't have a direct TruncatedNormal, use Normal and apply truncation\n",
    "        base_normal = dist.Normal(loc=prior.mean, scale=prior.stdev)\n",
    "        return dist.TruncatedDistribution(base_distribution=base_normal, low=prior.trunc_range[0], high=prior.trunc_range[1])\n",
    "    \n",
    "    elif isinstance(prior, esp.GammaPrior):\n",
    "        # Convert GammaPrior to Numpyro's Gamma distribution (Numpyro uses 'rate' instead of 'scale')\n",
    "        rate = 1.0 / prior.scale\n",
    "        return dist.Gamma(concentration=prior.shape, rate=rate)\n",
    "    \n",
    "    else:\n",
    "        raise TypeError(f\"Unsupported prior type: {type(prior).__name__}\")"
   ]
  },
  {
   "cell_type": "code",
   "execution_count": null,
   "metadata": {},
   "outputs": [],
   "source": [
    "def convert_all_priors_to_numpyro(priors):\n",
    "    numpyro_priors = {}\n",
    "    for key, prior in priors.items():\n",
    "        numpyro_priors[key] = convert_prior_to_numpyro(prior)\n",
    "    return numpyro_priors"
   ]
  },
  {
   "cell_type": "code",
   "execution_count": null,
   "metadata": {},
   "outputs": [],
   "source": [
    "numpyro_priors = convert_all_priors_to_numpyro(get_bcm().priors)"
   ]
  },
  {
   "cell_type": "code",
   "execution_count": null,
   "metadata": {},
   "outputs": [],
   "source": [
    "def plot_post_prior_comparison(\n",
    "    idata: az.InferenceData, \n",
    "    req_vars: List[str], \n",
    "    priors: List[dist.Distribution],\n",
    "):\n",
    "    \"\"\"Plot comparison of model posterior outputs against priors.\n",
    "\n",
    "    Args:\n",
    "        idata: Arviz inference data from calibration\n",
    "        req_vars: User-requested variables to plot\n",
    "        priors: List of Numpyro prior distribution objects\n",
    "\n",
    "    Returns:\n",
    "        The figure object\n",
    "    \"\"\"\n",
    "    # Determine the number of rows needed for two columns\n",
    "    num_vars = len(req_vars)\n",
    "    num_rows = (num_vars + 1) // 2  # This ensures an even distribution across two columns\n",
    "\n",
    "    # Create the density plot with specified grid dimensions\n",
    "    plot = az.plot_density(\n",
    "        idata, \n",
    "        var_names=req_vars, \n",
    "        shade=0.3, \n",
    "        grid=(num_rows, 2)  # Set the grid to have num_rows rows and 2 columns\n",
    "    )\n",
    "\n",
    "    # Overlay the prior distributions\n",
    "    for i_ax, ax in enumerate(plot.ravel()):\n",
    "        if i_ax < len(req_vars):  # Ensure we don't exceed the number of requested variables\n",
    "            ax_limits = ax.get_xlim()\n",
    "            x_vals = np.linspace(*ax_limits, 50)\n",
    "            y_vals = np.exp(priors[i_ax].log_prob(x_vals))\n",
    "            y_vals *= ax.get_ylim()[1] / max(y_vals)  # Normalize prior to the plot's y-axis\n",
    "            ax.fill_between(x_vals, y_vals, color=\"k\", alpha=0.2, linewidth=2)\n",
    "\n",
    "    plt.show()"
   ]
  },
  {
   "cell_type": "code",
   "execution_count": null,
   "metadata": {},
   "outputs": [],
   "source": [
    "plot_post_prior_comparison(idata, list(numpyro_priors.keys()), [numpyro_priors[var] for var in list(numpyro_priors.keys())])"
   ]
  }
 ],
 "metadata": {
  "kernelspec": {
   "display_name": "autumn",
   "language": "python",
   "name": "python3"
  },
  "language_info": {
   "codemirror_mode": {
    "name": "ipython",
    "version": 3
   },
   "file_extension": ".py",
   "mimetype": "text/x-python",
   "name": "python",
   "nbconvert_exporter": "python",
   "pygments_lexer": "ipython3",
   "version": "3.10.0"
  }
 },
 "nbformat": 4,
 "nbformat_minor": 2
}
