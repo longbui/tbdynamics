{
 "cells": [
  {
   "cell_type": "code",
   "execution_count": null,
   "metadata": {
    "metadata": {}
   },
   "outputs": [],
   "source": [
    "import warnings\n",
    "\n",
    "warnings.filterwarnings(\"ignore\")\n",
    "from pathlib import Path\n",
    "import numpy as np\n",
    "import arviz as az\n",
    "from tbdynamics.calibration.az_aux import (\n",
    "    tabulate_calib_results,\n",
    "    plot_post_prior_comparison,\n",
    "    plot_trace,\n",
    ")\n",
    "from tbdynamics.calibration.utils import get_bcm, get_all_priors\n",
    "from tbdynamics.constants import params_name"
   ]
  },
  {
   "cell_type": "code",
   "execution_count": null,
   "metadata": {},
   "outputs": [],
   "source": [
    "OUT_PATH = Path.cwd() / 'runs/r2608'\n",
    "idata = az.from_netcdf(OUT_PATH / 'calib_full_out.nc')\n",
    "burnt_idata = idata.sel(draw=np.s_[50000:])"
   ]
  },
  {
   "cell_type": "code",
   "execution_count": null,
   "metadata": {},
   "outputs": [],
   "source": [
    "params = {\n",
    "    \"start_population_size\": 2000000.0,\n",
    "    \"seed_time\": 1805.0,\n",
    "    \"seed_num\": 1.0,\n",
    "    \"seed_duration\": 1.0,\n",
    "}\n",
    "covid_effects = {\"detection_reduction\": True, \"contact_reduction\": True}\n",
    "bcm = get_bcm(params, covid_effects)"
   ]
  },
  {
   "cell_type": "code",
   "execution_count": null,
   "metadata": {},
   "outputs": [],
   "source": [
    "fig = plot_post_prior_comparison(burnt_idata, bcm.priors, params_name)"
   ]
  },
  {
   "cell_type": "code",
   "execution_count": null,
   "metadata": {},
   "outputs": [],
   "source": [
    "tabulate_calib_results(burnt_idata, params_name)"
   ]
  },
  {
   "cell_type": "code",
   "execution_count": null,
   "metadata": {},
   "outputs": [],
   "source": [
    "import matplotlib.pyplot as plt\n",
    "def plot_trace1(idata: az.InferenceData, params_name: dict):\n",
    "    \"\"\"\n",
    "    Plot trace plots for the InferenceData object, excluding parameters containing '_dispersion'.\n",
    "    Adds descriptive titles from `params_name`.\n",
    "\n",
    "    Args:\n",
    "        idata: InferenceData object from ArviZ containing calibration outputs.\n",
    "        params_name: Dictionary mapping parameter names to descriptive titles.\n",
    "\n",
    "    Returns:\n",
    "        trace_fig: The figure object containing trace plots.\n",
    "    \"\"\"\n",
    "    # Filter out parameters containing '_dispersion'\n",
    "    filtered_posterior = idata.posterior.drop_vars(\n",
    "        [var for var in idata.posterior.data_vars if \"_dispersion\" in var]\n",
    "    )\n",
    "\n",
    "    # Plot trace plots with the filtered parameters\n",
    "    az.plot_trace(\n",
    "        filtered_posterior, figsize=(16, 3.1 * len(filtered_posterior.data_vars))\n",
    "    )\n",
    "\n",
    "    # Get the current figure\n",
    "    trace_fig = plt.gcf()\n",
    "\n",
    "    # Set titles for each row of plots\n",
    "    var_names = list(filtered_posterior.data_vars.keys())  # Get the list of variable names\n",
    "    for i, var_name in enumerate(var_names):\n",
    "        row_axes = trace_fig.axes[i * 2:i * 2 + 2]  # Get the axes in the current row\n",
    "        title = params_name.get(var_name, var_name)  # Get the title from params_name or default to var_name\n",
    "        row_axes[0].set_title(title, fontsize=14, loc=\"center\")  # Set title for the first column\n",
    "        row_axes[1].set_title(\"\")  # Clear the title for the second column\n",
    "\n",
    "    plt.tight_layout()\n",
    "\n",
    "    return trace_fig  # Return the figure object"
   ]
  },
  {
   "cell_type": "code",
   "execution_count": null,
   "metadata": {},
   "outputs": [],
   "source": [
    "tracing = plot_trace1(burnt_idata,params_name)"
   ]
  },
  {
   "cell_type": "code",
   "execution_count": null,
   "metadata": {},
   "outputs": [],
   "source": [
    "tracing.savefig('docs/param_traces.png', dpi=300, bbox_inches='tight', format='png', pad_inches=0)"
   ]
  },
  {
   "cell_type": "code",
   "execution_count": null,
   "metadata": {},
   "outputs": [],
   "source": []
  },
  {
   "cell_type": "code",
   "execution_count": null,
   "metadata": {},
   "outputs": [],
   "source": []
  }
 ],
 "metadata": {
  "kernelspec": {
   "display_name": "autumn",
   "language": "python",
   "name": "python3"
  },
  "language_info": {
   "codemirror_mode": {
    "name": "ipython",
    "version": 3
   },
   "file_extension": ".py",
   "mimetype": "text/x-python",
   "name": "python",
   "nbconvert_exporter": "python",
   "pygments_lexer": "ipython3",
   "version": "3.10.0"
  }
 },
 "nbformat": 4,
 "nbformat_minor": 2
}
