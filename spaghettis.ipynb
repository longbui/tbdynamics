{
 "cells": [
  {
   "cell_type": "code",
   "execution_count": null,
   "metadata": {
    "metadata": {}
   },
   "outputs": [],
   "source": [
    "import warnings\n",
    "\n",
    "warnings.filterwarnings(\"ignore\")\n",
    "from pathlib import Path\n",
    "import pandas as pd\n",
    "from estival.sampling import tools as esamp\n",
    "from tbdynamics.calibration.utils import (\n",
    "    plot_output_ranges,\n",
    "    plot_post_prior_comparison,\n",
    "    tabulate_calib_results,\n",
    "    plot_trace,\n",
    ")\n",
    "from tbdynamics.inputs import load_targets\n",
    "from tbdynamics.constants import params_name\n",
    "import arviz as az\n",
    "from tbdynamics.calibration.utils import get_bcm"
   ]
  },
  {
   "cell_type": "code",
   "execution_count": null,
   "metadata": {
    "metadata": {}
   },
   "outputs": [],
   "source": [
    "OUT_PATH = Path.cwd() / 'runs/r1808'\n",
    "quantiles = [0.025, 0.25, 0.5, 0.75, 0.975]\n",
    "spaghetti = pd.read_hdf(OUT_PATH / 'results.hdf', 'spaghetti')\n",
    "quantile_outputs = esamp.quantiles_for_results(spaghetti, quantiles)\n",
    "targets = load_targets()"
   ]
  },
  {
   "cell_type": "code",
   "execution_count": null,
   "metadata": {
    "metadata": {}
   },
   "outputs": [],
   "source": [
    "plot_output_ranges(quantile_outputs,targets, ['total_population','notification','adults_prevalence_pulmonary','prevalence_smear_positive'], quantiles, 2, 2005, 2025)"
   ]
  },
  {
   "cell_type": "code",
   "execution_count": null,
   "metadata": {
    "metadata": {}
   },
   "outputs": [],
   "source": [
    "plot_output_ranges(quantile_outputs,targets, ['incidence','mortality_raw'], quantiles, 2, 2010, 2025)"
   ]
  },
  {
   "cell_type": "code",
   "execution_count": null,
   "metadata": {},
   "outputs": [],
   "source": [
    "plot_output_ranges(quantile_outputs,targets, ['detection_rate'], quantiles, 1, 1970, 2025)"
   ]
  },
  {
   "cell_type": "code",
   "execution_count": null,
   "metadata": {
    "metadata": {}
   },
   "outputs": [],
   "source": [
    "idata = az.from_netcdf(OUT_PATH / 'calib_full_out.nc')"
   ]
  },
  {
   "cell_type": "code",
   "execution_count": null,
   "metadata": {
    "metadata": {}
   },
   "outputs": [],
   "source": [
    "idata = idata.sel(draw=slice(50000,150000))"
   ]
  },
  {
   "cell_type": "code",
   "execution_count": null,
   "metadata": {
    "metadata": {}
   },
   "outputs": [],
   "source": [
    "plot_trace(idata, params_name)"
   ]
  },
  {
   "cell_type": "code",
   "execution_count": null,
   "metadata": {},
   "outputs": [],
   "source": [
    "params = {\n",
    "    \"start_population_size\": 2100000.0,\n",
    "    \"seed_time\": 1820.0,\n",
    "    \"seed_num\": 90.0,\n",
    "    \"seed_duration\": 15.0,\n",
    "}"
   ]
  },
  {
   "cell_type": "code",
   "execution_count": null,
   "metadata": {},
   "outputs": [],
   "source": [
    "priors = get_bcm(params).priors\n",
    "# req_vars = list(priors.keys())"
   ]
  },
  {
   "cell_type": "code",
   "execution_count": null,
   "metadata": {},
   "outputs": [],
   "source": [
    "az.summary(idata)"
   ]
  },
  {
   "cell_type": "code",
   "execution_count": null,
   "metadata": {},
   "outputs": [],
   "source": [
    "plot_post_prior_comparison(idata,priors, params_name)"
   ]
  },
  {
   "cell_type": "code",
   "execution_count": null,
   "metadata": {},
   "outputs": [],
   "source": [
    "tabulate_calib_results(idata, params_name)"
   ]
  }
 ],
 "metadata": {
  "kernelspec": {
   "display_name": "autumn",
   "language": "python",
   "name": "python3"
  },
  "language_info": {
   "codemirror_mode": {
    "name": "ipython",
    "version": 3
   },
   "file_extension": ".py",
   "mimetype": "text/x-python",
   "name": "python",
   "nbconvert_exporter": "python",
   "pygments_lexer": "ipython3",
   "version": "3.10.0"
  }
 },
 "nbformat": 4,
 "nbformat_minor": 2
}
