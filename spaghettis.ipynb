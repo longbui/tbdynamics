{
 "cells": [
  {
   "cell_type": "code",
   "execution_count": null,
   "metadata": {
    "metadata": {}
   },
   "outputs": [],
   "source": [
    "import warnings\n",
    "warnings.filterwarnings(\"ignore\")\n",
    "from pathlib import Path\n",
    "import pandas as pd\n",
    "from estival.sampling import tools as esamp\n",
    "from tbdynamics.calib_utils import plot_output_ranges, plot_quantiles_for_case_notifications\n",
    "from tbdynamics.inputs import load_targets\n",
    "import arviz as az\n",
    "from tbdynamics.calib_utils import get_bcm\n",
    "from scipy.stats import gaussian_kde"
   ]
  },
  {
   "cell_type": "code",
   "execution_count": null,
   "metadata": {
    "metadata": {}
   },
   "outputs": [],
   "source": [
    "OUT_PATH = Path.cwd() / 'runs/r1207'"
   ]
  },
  {
   "cell_type": "code",
   "execution_count": null,
   "metadata": {
    "metadata": {}
   },
   "outputs": [],
   "source": [
    "quantiles = [0.025, 0.25, 0.5, 0.75, 0.975]\n",
    "spaghetti = pd.read_hdf(OUT_PATH / 'results.hdf', 'spaghetti')\n",
    "quantile_outputs = esamp.quantiles_for_results(spaghetti, quantiles)\n",
    "targets = load_targets()"
   ]
  },
  {
   "cell_type": "code",
   "execution_count": null,
   "metadata": {
    "metadata": {}
   },
   "outputs": [],
   "source": [
    "# plot_spaghetti(spaghetti, ['total_population','notification'], 2, targets)"
   ]
  },
  {
   "cell_type": "code",
   "execution_count": null,
   "metadata": {
    "metadata": {}
   },
   "outputs": [],
   "source": [
    "# plot_spaghetti(spaghetti, ['prevalence_pulmonary','incidence'], 2, targets)"
   ]
  },
  {
   "cell_type": "code",
   "execution_count": null,
   "metadata": {
    "metadata": {}
   },
   "outputs": [],
   "source": [
    "plot_output_ranges(quantile_outputs,targets, ['total_population','notification'], quantiles, 1, 2010, 2025)"
   ]
  },
  {
   "cell_type": "code",
   "execution_count": null,
   "metadata": {
    "metadata": {}
   },
   "outputs": [],
   "source": [
    "plot_output_ranges(quantile_outputs,targets, ['prevalence_pulmonary','incidence', 'percentage_latent'], quantiles, 1, 2010, 2025)"
   ]
  },
  {
   "cell_type": "code",
   "execution_count": null,
   "metadata": {},
   "outputs": [],
   "source": [
    "plot_output_ranges(quantile_outputs,targets, ['mortality_raw'], quantiles, 1, 2010, 2025)"
   ]
  },
  {
   "cell_type": "code",
   "execution_count": null,
   "metadata": {},
   "outputs": [],
   "source": [
    "plot_quantiles_for_case_notifications(quantile_outputs['incidence_raw'], pd.Series(targets['notification']), quantiles, plot_end_date=2025)"
   ]
  },
  {
   "cell_type": "code",
   "execution_count": null,
   "metadata": {
    "metadata": {}
   },
   "outputs": [],
   "source": [
    "idata = az.from_netcdf(OUT_PATH / 'calib_full_out.nc')"
   ]
  },
  {
   "cell_type": "code",
   "execution_count": null,
   "metadata": {
    "metadata": {}
   },
   "outputs": [],
   "source": [
    "idata = idata.sel(chain=[0,1,2,3], draw=slice(50000,None))"
   ]
  },
  {
   "cell_type": "code",
   "execution_count": null,
   "metadata": {
    "metadata": {}
   },
   "outputs": [],
   "source": [
    "az.plot_trace(idata, figsize=(16,3.1*len(idata.posterior)))"
   ]
  },
  {
   "cell_type": "code",
   "execution_count": null,
   "metadata": {
    "metadata": {}
   },
   "outputs": [],
   "source": [
    "az.summary(idata)"
   ]
  },
  {
   "cell_type": "code",
   "execution_count": null,
   "metadata": {},
   "outputs": [],
   "source": [
    "import estival.priors as esp\n",
    "from numpyro import distributions as dist\n",
    "import numpy as np\n",
    "import matplotlib.pyplot as plt"
   ]
  },
  {
   "cell_type": "code",
   "execution_count": null,
   "metadata": {},
   "outputs": [],
   "source": [
    "params = {\n",
    "    \"start_population_size\": 2300000.0,\n",
    "    \"seed_time\": 1830.0,\n",
    "    \"seed_num\": 100.0,\n",
    "    \"seed_duration\": 20.0,\n",
    "    # \"contact_rate\": 0.02977583831288669,\n",
    "    # \"rr_infection_latent\": 0.20344010763518713,\n",
    "    # \"rr_infection_recovered\": 0.40580870889350107,\n",
    "    # \"progression_multiplier\": 0.8810860029360905,\n",
    "    # \"smear_positive_death_rate\": 0.4313851033562638,\n",
    "    # \"smear_negative_death_rate\": 0.03350161278620193,\n",
    "    # \"smear_positive_self_recovery\": 0.28604824197753914,\n",
    "    # \"smear_negative_self_recovery\": 0.15805647865361552,\n",
    "    \"screening_scaleup_shape\": 0.25,\n",
    "    # \"screening_inflection_time\": 1995.1487440977369,\n",
    "    # \"time_to_screening_end_asymp\": 1.111127871433536,\n",
    "    # \"detection_reduction\": 0.24351558358481182,\n",
    "    # \"contact_reduction\": 0.3813306382411676,\n",
    "}"
   ]
  },
  {
   "cell_type": "code",
   "execution_count": null,
   "metadata": {},
   "outputs": [],
   "source": [
    "def convert_prior_to_numpyro(prior):\n",
    "    \"\"\"\n",
    "    Converts a given custom prior to a corresponding Numpyro distribution and its bounds based on its type.\n",
    "    \n",
    "    Args:\n",
    "        prior: A custom prior object.\n",
    "        \n",
    "    Returns:\n",
    "        A tuple of (Numpyro distribution, bounds).\n",
    "    \"\"\"\n",
    "    if isinstance(prior, esp.UniformPrior):\n",
    "        return dist.Uniform(low=prior.start, high=prior.end), (prior.start, prior.end)\n",
    "    elif isinstance(prior, esp.TruncNormalPrior):\n",
    "        return dist.TruncatedNormal(loc=prior.mean, scale=prior.stdev, low=prior.trunc_range[0], high=prior.trunc_range[1]), (prior.trunc_range[0], prior.trunc_range[1])\n",
    "    elif isinstance(prior, esp.GammaPrior):\n",
    "        rate = 1.0 / prior.scale\n",
    "        return dist.Gamma(concentration=prior.shape, rate=rate), None\n",
    "    elif isinstance(prior, esp.BetaPrior):\n",
    "        return dist.Beta(concentration1=prior.a, concentration0=prior.b), (0, 1)\n",
    "    else:\n",
    "        raise TypeError(f\"Unsupported prior type: {type(prior).__name__}\")\n",
    "\n",
    "def convert_all_priors_to_numpyro(priors):\n",
    "    \"\"\"\n",
    "    Converts a dictionary of custom priors to a dictionary of corresponding Numpyro distributions.\n",
    "    \n",
    "    Args:\n",
    "        priors: Dictionary of custom prior objects.\n",
    "        \n",
    "    Returns:\n",
    "        Dictionary of Numpyro distributions.\n",
    "    \"\"\"\n",
    "    numpyro_priors = {}\n",
    "    for key, prior in priors.items():\n",
    "        numpyro_prior, _ = convert_prior_to_numpyro(prior)\n",
    "        numpyro_priors[key] = numpyro_prior\n",
    "    return numpyro_priors\n",
    "\n",
    "def normalize_prior_to_posterior(prior, posterior_samples, x_vals_prior, x_vals_posterior):\n",
    "    \"\"\"\n",
    "    Normalize the prior density to match the area of the posterior density over the given range.\n",
    "    \n",
    "    Args:\n",
    "        prior: Numpyro distribution object.\n",
    "        posterior_samples: Posterior samples array.\n",
    "        x_vals_prior: X values for the prior density.\n",
    "        x_vals_posterior: X values for the posterior density.\n",
    "        \n",
    "    Returns:\n",
    "        Tuple of normalized prior density, x values for prior, normalized posterior density, and x values for posterior.\n",
    "    \"\"\"\n",
    "    prior_density = np.exp(prior.log_prob(x_vals_prior))\n",
    "    posterior_kde = gaussian_kde(posterior_samples)\n",
    "    posterior_density = posterior_kde(x_vals_posterior)\n",
    "    \n",
    "    area_prior = np.trapz(prior_density, x_vals_prior)\n",
    "    area_posterior = np.trapz(posterior_density, x_vals_posterior)\n",
    "    \n",
    "    # Normalize prior density\n",
    "    normalized_prior_density = prior_density / area_prior if area_prior != 0 else prior_density\n",
    "    \n",
    "    # Scale posterior density to match the area of the prior\n",
    "    scaling_factor = area_prior / area_posterior if area_posterior != 0 else 1\n",
    "    normalized_posterior_density = posterior_density * scaling_factor\n",
    "    \n",
    "    # Verify areas for debugging\n",
    "    new_area_prior = np.trapz(normalized_prior_density, x_vals_prior)\n",
    "    new_area_posterior = np.trapz(normalized_posterior_density, x_vals_posterior)\n",
    "    print(f\"Normalized Prior Area: {new_area_prior}, Normalized Posterior Area: {new_area_posterior}\")\n",
    "\n",
    "    return normalized_prior_density, x_vals_prior, normalized_posterior_density, x_vals_posterior\n",
    "\n",
    "def plot_post_prior_comparison(idata, req_vars, priors):\n",
    "    \"\"\"\n",
    "    Plot comparison of model posterior outputs against priors.\n",
    "    \n",
    "    Args:\n",
    "        idata: Arviz inference data from calibration.\n",
    "        req_vars: User-requested variables to plot.\n",
    "        priors: Dictionary of custom prior objects.\n",
    "        \n",
    "    Returns:\n",
    "        The figure object.\n",
    "    \"\"\"\n",
    "    num_vars = len(req_vars)\n",
    "    num_rows = (num_vars + 1) // 2  # Ensure even distribution across two columns\n",
    "\n",
    "    fig, axs = plt.subplots(num_rows, 2, figsize=(10, 5*num_rows))\n",
    "    axs = axs.ravel()\n",
    "\n",
    "    for i_ax, ax in enumerate(axs):\n",
    "        if i_ax < len(req_vars):\n",
    "            var_name = req_vars[i_ax]\n",
    "            posterior_samples = idata.posterior[var_name].values.flatten()\n",
    "            low_post = np.min(posterior_samples)\n",
    "            high_post = np.max(posterior_samples)\n",
    "            x_vals_posterior = np.linspace(low_post, high_post, 100)\n",
    "            \n",
    "            numpyro_prior, prior_bounds = convert_prior_to_numpyro(priors[var_name])\n",
    "            if prior_bounds:\n",
    "                low_prior, high_prior = prior_bounds\n",
    "                x_vals_prior = np.linspace(low_prior, high_prior, 100)\n",
    "            else:\n",
    "                x_vals_prior = x_vals_posterior  # Fallback if no specific prior bounds are given\n",
    "\n",
    "            normalized_prior_density, x_vals_prior, normalized_posterior_density, x_vals_posterior = normalize_prior_to_posterior(\n",
    "                numpyro_prior, posterior_samples, x_vals_prior, x_vals_posterior)\n",
    "            \n",
    "            ax.fill_between(x_vals_prior, normalized_prior_density, color=\"k\", alpha=0.2, linewidth=2, label='Normalized Prior')\n",
    "            ax.plot(x_vals_posterior, normalized_posterior_density, color=\"b\", linewidth=1, linestyle='dashed', label='Normalized Posterior')\n",
    "            ax.set_title(f'{var_name}')\n",
    "            ax.legend()\n",
    "\n",
    "    plt.tight_layout()\n",
    "    plt.show()"
   ]
  },
  {
   "cell_type": "code",
   "execution_count": null,
   "metadata": {},
   "outputs": [],
   "source": [
    "priors = get_bcm(params).priors\n",
    "req_vars = list(priors.keys())"
   ]
  },
  {
   "cell_type": "code",
   "execution_count": null,
   "metadata": {},
   "outputs": [],
   "source": [
    "plot_post_prior_comparison(idata, req_vars, priors)"
   ]
  },
  {
   "cell_type": "code",
   "execution_count": null,
   "metadata": {},
   "outputs": [],
   "source": [
    "variables = list(idata.posterior.data_vars)\n",
    "n_variables = len(variables)\n",
    "\n",
    "# Calculate the number of rows needed for 2 columns\n",
    "nrows = (n_variables + 1) // 2\n",
    "\n",
    "fig, axes = plt.subplots(nrows=nrows, ncols=2, figsize=(12, nrows * 4))\n",
    "axes = axes.flatten()\n",
    "\n",
    "# Plot each variable\n",
    "for ax, var in zip(axes, variables):\n",
    "    az.plot_rank(idata, var_names=[var], kind=\"bars\", ax=ax)\n",
    "\n",
    "# Remove any empty subplots\n",
    "for i in range(n_variables, len(axes)):\n",
    "    fig.delaxes(axes[i])\n",
    "\n",
    "plt.tight_layout()\n",
    "plt.show()"
   ]
  }
 ],
 "metadata": {
  "kernelspec": {
   "display_name": "autumn",
   "language": "python",
   "name": "python3"
  },
  "language_info": {
   "codemirror_mode": {
    "name": "ipython",
    "version": 3
   },
   "file_extension": ".py",
   "mimetype": "text/x-python",
   "name": "python",
   "nbconvert_exporter": "python",
   "pygments_lexer": "ipython3",
   "version": "3.10.0"
  }
 },
 "nbformat": 4,
 "nbformat_minor": 2
}
