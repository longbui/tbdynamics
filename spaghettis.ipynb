{
 "cells": [
  {
   "cell_type": "code",
   "execution_count": null,
   "metadata": {
    "metadata": {}
   },
   "outputs": [],
   "source": [
    "import warnings\n",
    "warnings.filterwarnings(\"ignore\")\n",
    "from pathlib import Path\n",
    "import pandas as pd\n",
    "from estival.sampling import tools as esamp\n",
    "from tbdynamics.calibration.utils import plot_output_ranges, plot_post_prior_comparison, tabulate_calib_results\n",
    "from tbdynamics.inputs import load_targets\n",
    "import arviz as az\n",
    "from tbdynamics.calibration.utils import get_bcm\n",
    "import numpy as np"
   ]
  },
  {
   "cell_type": "code",
   "execution_count": null,
   "metadata": {},
   "outputs": [],
   "source": [
    "OUT_PATH = Path.cwd() / 'runs/r2308'\n",
    "# idata_raw = az.from_netcdf(OUT_PATH / 'calib_full_out.nc')\n",
    "# params = {\n",
    "#     \"start_population_size\": 2100000.0,\n",
    "#     \"seed_time\": 1830.0,\n",
    "#     \"seed_num\": 100.0,\n",
    "#     \"seed_duration\": 20.0,\n",
    "#     # \"screening_scaleup_shape\": 0.25,\n",
    "# }\n",
    "# bcm=get_bcm(params)"
   ]
  },
  {
   "cell_type": "code",
   "execution_count": null,
   "metadata": {},
   "outputs": [],
   "source": [
    "# burnt_idata = idata_raw.sel(draw=np.s_[75000:])\n",
    "# idata_extract = az.extract(burnt_idata, num_samples=500)\n",
    "# bcm.sample.convert(idata_extract).to_hdf5(OUT_PATH / \"calib_extract_out.h5\")\n",
    "# spaghetti_res = esamp.model_results_for_samples(idata_extract, bcm)\n",
    "# spaghetti_res.results.to_hdf(str(OUT_PATH / \"results.hdf\"), \"spaghetti\")"
   ]
  },
  {
   "cell_type": "code",
   "execution_count": null,
   "metadata": {
    "metadata": {}
   },
   "outputs": [],
   "source": [
    "\n",
    "quantiles = [0.025, 0.25, 0.5, 0.75, 0.975]\n",
    "spaghetti = pd.read_hdf(OUT_PATH / 'results.hdf', 'spaghetti')\n",
    "quantile_outputs = esamp.quantiles_for_results(spaghetti, quantiles)\n",
    "targets = load_targets()"
   ]
  },
  {
   "cell_type": "code",
   "execution_count": null,
   "metadata": {
    "metadata": {}
   },
   "outputs": [],
   "source": [
    "# plot_spaghetti(spaghetti, ['total_population','notification'], 2, targets)"
   ]
  },
  {
   "cell_type": "code",
   "execution_count": null,
   "metadata": {
    "metadata": {}
   },
   "outputs": [],
   "source": [
    "# plot_spaghetti(spaghetti, ['prevalence_pulmonary','incidence'], 2, targets)"
   ]
  },
  {
   "cell_type": "code",
   "execution_count": null,
   "metadata": {
    "metadata": {}
   },
   "outputs": [],
   "source": [
    "plot_output_ranges(quantile_outputs,targets, ['total_population','notification','adults_prevalence_pulmonary'], quantiles, 1, 2010, 2025)"
   ]
  },
  {
   "cell_type": "code",
   "execution_count": null,
   "metadata": {
    "metadata": {}
   },
   "outputs": [],
   "source": [
    "plot_output_ranges(quantile_outputs,targets, ['incidence'], quantiles, 1, 2010, 2025)"
   ]
  },
  {
   "cell_type": "code",
   "execution_count": null,
   "metadata": {},
   "outputs": [],
   "source": [
    "plot_output_ranges(quantile_outputs,targets, ['mortality_raw'], quantiles, 1, 2010, 2025)"
   ]
  },
  {
   "cell_type": "code",
   "execution_count": null,
   "metadata": {
    "metadata": {}
   },
   "outputs": [],
   "source": [
    "idata = az.from_netcdf(OUT_PATH / 'calib_full_out.nc')"
   ]
  },
  {
   "cell_type": "code",
   "execution_count": null,
   "metadata": {
    "metadata": {}
   },
   "outputs": [],
   "source": [
    "# idata = idata.sel(draw=slice(75000,100000))"
   ]
  },
  {
   "cell_type": "code",
   "execution_count": null,
   "metadata": {
    "metadata": {}
   },
   "outputs": [],
   "source": [
    "az.plot_trace(idata, figsize=(16,3.1*len(idata.posterior)))"
   ]
  },
  {
   "cell_type": "code",
   "execution_count": null,
   "metadata": {},
   "outputs": [],
   "source": [
    "import estival.priors as esp\n",
    "from numpyro import distributions as dist\n",
    "import numpy as np\n",
    "import matplotlib.pyplot as plt"
   ]
  },
  {
   "cell_type": "code",
   "execution_count": null,
   "metadata": {},
   "outputs": [],
   "source": [
    "params = {\n",
    "    \"start_population_size\": 2300000.0,\n",
    "    \"seed_time\": 1830.0,\n",
    "    \"seed_num\": 100.0,\n",
    "    \"seed_duration\": 20.0,\n",
    "    # \"screening_scaleup_shape\": 0.25,\n",
    "}"
   ]
  },
  {
   "cell_type": "code",
   "execution_count": null,
   "metadata": {},
   "outputs": [],
   "source": [
    "priors = get_bcm(params).priors\n",
    "req_vars = list(priors.keys())"
   ]
  },
  {
   "cell_type": "code",
   "execution_count": null,
   "metadata": {},
   "outputs": [],
   "source": [
    "tabulate_calib_results(idata, priors)"
   ]
  },
  {
   "cell_type": "code",
   "execution_count": null,
   "metadata": {},
   "outputs": [],
   "source": [
    "plot_post_prior_comparison(idata,priors)"
   ]
  },
  {
   "cell_type": "code",
   "execution_count": null,
   "metadata": {},
   "outputs": [],
   "source": [
    "az.summary(idata)"
   ]
  }
 ],
 "metadata": {
  "kernelspec": {
   "display_name": "autumn",
   "language": "python",
   "name": "python3"
  },
  "language_info": {
   "codemirror_mode": {
    "name": "ipython",
    "version": 3
   },
   "file_extension": ".py",
   "mimetype": "text/x-python",
   "name": "python",
   "nbconvert_exporter": "python",
   "pygments_lexer": "ipython3",
   "version": "3.10.0"
  }
 },
 "nbformat": 4,
 "nbformat_minor": 2
}
