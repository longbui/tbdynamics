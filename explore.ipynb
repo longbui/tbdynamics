{
 "cells": [
  {
   "cell_type": "code",
   "execution_count": 1,
   "metadata": {},
   "outputs": [
    {
     "name": "stderr",
     "output_type": "stream",
     "text": [
      "WARNING (pytensor.configdefaults): g++ not available, if using conda: `conda install m2w64-toolchain`\n",
      "WARNING (pytensor.configdefaults): g++ not detected!  PyTensor will be unable to compile C-implementations and will default to Python. Performance may be severely degraded. To remove this warning, set PyTensor flags cxx to an empty string.\n",
      "WARNING (pytensor.tensor.blas): Using NumPy C-API based implementation for BLAS functions.\n"
     ]
    }
   ],
   "source": [
    "import warnings\n",
    "\n",
    "warnings.filterwarnings(\"ignore\")\n",
    "from pathlib import Path\n",
    "import pandas as pd\n",
    "import numpy as np\n",
    "from tbdynamics.calibration.utils import (\n",
    "    get_bcm,\n",
    "    calculate_covid_diff_quantiles,\n",
    "    plot_covid_scenarios_comparison,\n",
    "    plot_output_ranges,\n",
    ")\n",
    "import arviz as az\n",
    "from tbdynamics.inputs import load_targets\n",
    "from tbdynamics.constants import  quantiles\n",
    "from estival.sampling import tools as esamp"
   ]
  },
  {
   "cell_type": "code",
   "execution_count": 2,
   "metadata": {},
   "outputs": [],
   "source": [
    "OUT_PATH = Path.cwd() / 'runs/best2208'\n",
    "idata = az.from_netcdf(OUT_PATH / 'calib_full_out.nc')\n",
    "burnt_idata = idata.sel(draw=np.s_[50000:])\n",
    "idata_extract = az.extract(burnt_idata, num_samples=300)"
   ]
  },
  {
   "cell_type": "code",
   "execution_count": 3,
   "metadata": {},
   "outputs": [],
   "source": [
    "params = {\n",
    "    \"start_population_size\": 2000000.0,\n",
    "    \"seed_time\": 1805.0,\n",
    "    \"seed_num\": 1.0,\n",
    "    \"seed_duration\": 1.0,\n",
    "}\n",
    "covid_effects = {\n",
    "    'detection_reduction':True,\n",
    "    'contact_reduction':True\n",
    "}"
   ]
  },
  {
   "cell_type": "code",
   "execution_count": 4,
   "metadata": {},
   "outputs": [
    {
     "ename": "TypeError",
     "evalue": "get_bcm() missing 1 required positional argument: 'improved_detection_multiplier'",
     "output_type": "error",
     "traceback": [
      "\u001b[1;31m---------------------------------------------------------------------------\u001b[0m",
      "\u001b[1;31mTypeError\u001b[0m                                 Traceback (most recent call last)",
      "Cell \u001b[1;32mIn[4], line 1\u001b[0m\n\u001b[1;32m----> 1\u001b[0m bcm \u001b[38;5;241m=\u001b[39m \u001b[43mget_bcm\u001b[49m\u001b[43m(\u001b[49m\u001b[43mparams\u001b[49m\u001b[43m,\u001b[49m\u001b[43m \u001b[49m\u001b[43mcovid_effects\u001b[49m\u001b[43m)\u001b[49m\n",
      "\u001b[1;31mTypeError\u001b[0m: get_bcm() missing 1 required positional argument: 'improved_detection_multiplier'"
     ]
    }
   ],
   "source": [
    "bcm = get_bcm(params, covid_effects)"
   ]
  },
  {
   "cell_type": "code",
   "execution_count": null,
   "metadata": {},
   "outputs": [],
   "source": [
    "# spaghetti = pd.read_hdf(OUT_PATH / 'results.hdf', 'spaghetti')\n",
    "# quantile_outputs = esamp.quantiles_for_results(spaghetti, quantiles)\n",
    "# targets = load_targets()"
   ]
  },
  {
   "cell_type": "code",
   "execution_count": null,
   "metadata": {},
   "outputs": [],
   "source": [
    "# quantile_ouputs_diff = calculate_covid_diff_quantiles(params, idata_extract, ['cumulative_diseased', 'cumulative_deaths'],[2021.0,2022.0],1)"
   ]
  },
  {
   "cell_type": "code",
   "execution_count": null,
   "metadata": {},
   "outputs": [],
   "source": [
    "# plot_covid_scenarios_comparison(quantile_ouputs_diff, ['cumulative_diseased', 'cumulative_deaths'], [2021.0,2022.0], \"abs\")"
   ]
  },
  {
   "cell_type": "code",
   "execution_count": null,
   "metadata": {},
   "outputs": [],
   "source": []
  }
 ],
 "metadata": {
  "kernelspec": {
   "display_name": "tbdyn",
   "language": "python",
   "name": "python3"
  },
  "language_info": {
   "codemirror_mode": {
    "name": "ipython",
    "version": 3
   },
   "file_extension": ".py",
   "mimetype": "text/x-python",
   "name": "python",
   "nbconvert_exporter": "python",
   "pygments_lexer": "ipython3",
   "version": "3.10.13"
  }
 },
 "nbformat": 4,
 "nbformat_minor": 2
}
