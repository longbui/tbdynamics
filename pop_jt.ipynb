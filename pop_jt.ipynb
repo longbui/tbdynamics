{
 "cells": [
  {
   "cell_type": "code",
   "execution_count": null,
   "metadata": {},
   "outputs": [],
   "source": [
    "import pandas as pd\n",
    "import plotly.express as px\n",
    "import numpy as np\n",
    "import warnings\n",
    "from plotly.graph_objects import Figure\n",
    "import plotly.graph_objects as go\n",
    "from plotly.subplots import make_subplots\n",
    "pd.options.plotting.backend = 'plotly'\n",
    "warnings.filterwarnings('ignore')"
   ]
  },
  {
   "cell_type": "code",
   "execution_count": null,
   "metadata": {},
   "outputs": [],
   "source": [
    "# Path to the CSV file\n",
    "file_path = './data/data.csv' #from UN Population\n",
    "\n",
    "# Read the CSV file into a pandas DataFrame\n",
    "data = pd.read_csv(file_path, usecols=['Age', 'Time', 'Population', 'Deaths'])\n",
    "data = data.set_index(['Age', 'Time'])\n",
    "data['Rates'] = data['Deaths'] / data['Population']"
   ]
  },
  {
   "cell_type": "code",
   "execution_count": null,
   "metadata": {},
   "outputs": [],
   "source": [
    "# Inspect raw death rates\n",
    "age_groups = set(data.index.get_level_values(0))\n",
    "rates_fig = Figure()\n",
    "for i, age in enumerate(set(data.index.get_level_values(0))):\n",
    "    rates_fig.add_trace(go.Scatter(x=data.loc[age].index, y=data.loc[age]['Rates'], name=age))\n",
    "rates_fig.update_layout(height=600, title='Death rates by age group and year')\n",
    "rates_fig.update_yaxes(type='log')"
   ]
  },
  {
   "cell_type": "code",
   "execution_count": null,
   "metadata": {},
   "outputs": [],
   "source": [
    "age_groups = {\n",
    "    '0-4': (0, 4),\n",
    "    '5-14': (5, 14),\n",
    "    '15-34': (15, 34),\n",
    "    '35-49': (35, 49),\n",
    "    '50+': (50, float('inf'))  # '50+' will be handled as 50 to infinity\n",
    "}\n",
    "\n",
    "# Function to check if a given age range falls within a specific age group\n",
    "def is_age_in_group(age_range, group_start, group_end):\n",
    "    if '+' in age_range:\n",
    "        age = int(age_range[:-1])\n",
    "        return age >= group_start\n",
    "    else:\n",
    "        start, end = map(int, age_range.split('-'))\n",
    "        return start >= group_start and end <= group_end\n",
    "\n",
    "# Function to aggregate data by age group and calculate the death rate\n",
    "def aggregate_data(data, age_groups):\n",
    "    # Create an empty DataFrame for the aggregated data\n",
    "    aggregated_data = []\n",
    "\n",
    "    # Iterate over each year and age group\n",
    "    for year in sorted(data['Time'].unique()):\n",
    "        for age_group, (start, end) in age_groups.items():\n",
    "            # Filter data for the current year and age group\n",
    "            filtered_data = data[(data['Time'] == year) & \n",
    "                                 data['Age'].apply(lambda x: is_age_in_group(x, start, end))]\n",
    "            \n",
    "            # Sum the population and deaths\n",
    "            total_population = filtered_data['Population'].sum()\n",
    "            total_deaths = filtered_data['Deaths'].sum()\n",
    "\n",
    "            # Calculate the death rate per 1000 population\n",
    "            death_rate = (total_deaths / total_population) if total_population else 0\n",
    "\n",
    "            # Append the aggregated data\n",
    "            aggregated_data.append({\n",
    "                'Year': year,\n",
    "                'AgeGroup': age_group,\n",
    "                'Population': total_population,\n",
    "                'Deaths': total_deaths,\n",
    "                'DeathRate': death_rate\n",
    "            })\n",
    "\n",
    "    # Convert the aggregated data to a DataFrame\n",
    "    return pd.DataFrame(aggregated_data)\n",
    "\n",
    "# Perform the aggregation and calculate the death rate\n",
    "df = aggregate_data(data, age_groups)\n",
    "df.head(10)"
   ]
  },
  {
   "cell_type": "code",
   "execution_count": null,
   "metadata": {},
   "outputs": [],
   "source": [
    "df.loc[df[\"AgeGroup\"] == \"0-4\", \"AgeGroup\"] = 0\n",
    "df.loc[df[\"AgeGroup\"] == \"5-14\", \"AgeGroup\"] = 5\n",
    "df.loc[df[\"AgeGroup\"] == \"15-34\", \"AgeGroup\"] = 15\n",
    "df.loc[df[\"AgeGroup\"] == \"35-49\", \"AgeGroup\"] = 35\n",
    "df.loc[df[\"AgeGroup\"] == \"50+\", \"AgeGroup\"] = 50"
   ]
  },
  {
   "cell_type": "code",
   "execution_count": null,
   "metadata": {},
   "outputs": [],
   "source": [
    "new_df = df[['Year','AgeGroup','DeathRate']].copy()\n",
    "raw_death_rates = new_df.pivot(index=\"AgeGroup\", columns=\"Year\", values=\"DeathRate\")\n",
    "raw_death_rates.rename_axis(None, axis=1, inplace=True)\n",
    "raw_death_rates.index.name = None"
   ]
  },
  {
   "cell_type": "code",
   "execution_count": null,
   "metadata": {},
   "outputs": [],
   "source": [
    "raw_death_rates"
   ]
  },
  {
   "cell_type": "code",
   "execution_count": null,
   "metadata": {},
   "outputs": [],
   "source": [
    "def adapt_death_rates_for_lifetable(\n",
    "    upper_age: int, \n",
    "    rates: pd.Series,\n",
    ") -> pd.Series:\n",
    "    \"\"\"Get the death rates applicable to each year of age.\n",
    "    \n",
    "    Args:\n",
    "        upper_age: The top year of age to consider\n",
    "        rates: The raw data for the death rates\n",
    "    \n",
    "    Returns:\n",
    "        The death rates by year of age\n",
    "        \n",
    "    \"\"\"\n",
    "    ages = range(upper_age)\n",
    "    revised_rates = pd.Series(index=ages)\n",
    "    revised_rates.index.name = 'age'\n",
    "    for a in ages:\n",
    "        idx = next((i for i, age in enumerate(rates.index) if age > a), 0)  # The zero is a trick to get the last element when one is subtracted\n",
    "        revised_rates.loc[a] = rates.iloc[idx - 1]\n",
    "    return revised_rates\n",
    "\n",
    "\n",
    "def get_lifetable_from_rates(\n",
    "    rates: pd.Series,\n",
    ") -> pd.Series:\n",
    "    \"\"\"Calculate cohort sizes - note this only works for increments of one year\n",
    "    (intended to be used with adapt_death_rates_for_lifetable above).\n",
    "    \n",
    "    Args:\n",
    "        rates: Annual death rates from adapt_death_rates_for_lifetable\n",
    "    \n",
    "    Returns:\n",
    "        The life table\n",
    "        \n",
    "    \"\"\"\n",
    "    lifetable = pd.Series(index=rates.index)\n",
    "    cohort_size = 100000\n",
    "    for a in rates.index:\n",
    "        lifetable[a] = cohort_size\n",
    "        cohort_size -= cohort_size * rates.loc[a]\n",
    "    return lifetable"
   ]
  },
  {
   "cell_type": "code",
   "execution_count": null,
   "metadata": {},
   "outputs": [],
   "source": [
    "years = df['Year'].unique()"
   ]
  },
  {
   "cell_type": "code",
   "execution_count": null,
   "metadata": {},
   "outputs": [],
   "source": [
    "all_rates = pd.DataFrame(columns=years)\n",
    "lifetables = pd.DataFrame(columns=all_rates.columns)\n",
    "for year in years:\n",
    "    all_rates[year] = adapt_death_rates_for_lifetable(100, raw_death_rates[year])\n",
    "    lifetables[year] = get_lifetable_from_rates(all_rates[year])"
   ]
  },
  {
   "cell_type": "code",
   "execution_count": null,
   "metadata": {},
   "outputs": [],
   "source": [
    "lifetables.plot(labels={'value': 'surviving'}, height=600, title='life tables by year')"
   ]
  }
 ],
 "metadata": {
  "kernelspec": {
   "display_name": "Python 3 (ipykernel)",
   "language": "python",
   "name": "python3"
  },
  "language_info": {
   "codemirror_mode": {
    "name": "ipython",
    "version": 3
   },
   "file_extension": ".py",
   "mimetype": "text/x-python",
   "name": "python",
   "nbconvert_exporter": "python",
   "pygments_lexer": "ipython3",
   "version": "3.10.11"
  }
 },
 "nbformat": 4,
 "nbformat_minor": 4
}
