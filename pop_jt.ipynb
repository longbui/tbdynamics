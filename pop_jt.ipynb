{
 "cells": [
  {
   "cell_type": "code",
   "execution_count": null,
   "metadata": {},
   "outputs": [],
   "source": [
    "import pandas as pd\n",
    "import plotly.express as px\n",
    "import numpy as np\n",
    "import warnings\n",
    "from plotly.graph_objects import Figure\n",
    "import plotly.graph_objects as go\n",
    "from plotly.subplots import make_subplots\n",
    "pd.options.plotting.backend = 'plotly'\n",
    "warnings.filterwarnings('ignore')"
   ]
  },
  {
   "cell_type": "code",
   "execution_count": null,
   "metadata": {},
   "outputs": [],
   "source": [
    "# Path to the CSV file\n",
    "file_path = './data/data.csv' #from UN Population\n",
    "\n",
    "# Read the CSV file into a pandas DataFrame\n",
    "data = pd.read_csv(file_path, usecols=['Age', 'Time', 'Population', 'Deaths'])\n",
    "data = data.set_index(['Age', 'Time'])\n",
    "data.index = data.index.swaplevel()\n",
    "age_groups = set(data.index.get_level_values(1))\n",
    "years = set(data.index.get_level_values(0))"
   ]
  },
  {
   "cell_type": "code",
   "execution_count": null,
   "metadata": {},
   "outputs": [],
   "source": [
    "def get_age_groups_in_range(age_groups, lower_limit, upper_limit):\n",
    "    return [i for i in age_groups if '+' not in i and lower_limit <= int(i.split('-')[0]) <= upper_limit]\n",
    "\n",
    "agegroup_request = [[0, 5], [5, 14], [15, 34], [35, 49], [50, 69], [70, 200]]\n",
    "agegroup_map = {low: get_age_groups_in_range(age_groups, low, up) for low, up in agegroup_request}\n",
    "agegroup_map[50].append('100+')"
   ]
  },
  {
   "cell_type": "code",
   "execution_count": null,
   "metadata": {},
   "outputs": [],
   "source": [
    "mapped_rates = pd.DataFrame()\n",
    "for year in years:\n",
    "    for agegroup in agegroup_map:\n",
    "        age_mask = [i in agegroup_map[agegroup] for i in data.index.get_level_values(1)]\n",
    "        age_year_data = data.loc[age_mask].loc[year, :]\n",
    "        total = age_year_data.sum()\n",
    "        mapped_rates.loc[year, agegroup] = total['Deaths'] / total['Population']"
   ]
  },
  {
   "cell_type": "code",
   "execution_count": null,
   "metadata": {},
   "outputs": [],
   "source": [
    "mapped_rates.plot().update_yaxes(type='log')"
   ]
  },
  {
   "cell_type": "code",
   "execution_count": null,
   "metadata": {},
   "outputs": [],
   "source": [
    "def adapt_death_rates_for_lifetable(\n",
    "    upper_age: int, \n",
    "    rates: pd.Series,\n",
    ") -> pd.Series:\n",
    "    \"\"\"Get the death rates applicable to each year of age.\n",
    "    \n",
    "    Args:\n",
    "        upper_age: The top year of age to consider\n",
    "        rates: The raw data for the death rates\n",
    "    \n",
    "    Returns:\n",
    "        The death rates by year of age\n",
    "        \n",
    "    \"\"\"\n",
    "    ages = range(upper_age)\n",
    "    revised_rates = pd.Series(index=ages)\n",
    "    revised_rates.index.name = 'age'\n",
    "    for a in ages:\n",
    "        idx = next((i for i, age in enumerate(rates.index) if age > a), 0)  # The zero is a trick to get the last element when one is subtracted\n",
    "        revised_rates.loc[a] = rates.iloc[idx - 1]\n",
    "    return revised_rates\n",
    "\n",
    "\n",
    "def get_lifetable_from_rates(\n",
    "    rates: pd.Series,\n",
    ") -> pd.Series:\n",
    "    \"\"\"Calculate cohort sizes - note this only works for increments of one year\n",
    "    (intended to be used with adapt_death_rates_for_lifetable above).\n",
    "    \n",
    "    Args:\n",
    "        rates: Annual death rates from adapt_death_rates_for_lifetable\n",
    "    \n",
    "    Returns:\n",
    "        The life table\n",
    "        \n",
    "    \"\"\"\n",
    "    lifetable = pd.Series(index=rates.index)\n",
    "    cohort_size = 100000\n",
    "    for a in rates.index:\n",
    "        lifetable[a] = cohort_size\n",
    "        cohort_size -= cohort_size * rates.loc[a]\n",
    "    return lifetable"
   ]
  },
  {
   "cell_type": "code",
   "execution_count": null,
   "metadata": {},
   "outputs": [],
   "source": [
    "all_rates = pd.DataFrame(columns=years)\n",
    "lifetables = pd.DataFrame(columns=all_rates.columns)\n",
    "for year in years:\n",
    "    all_rates[year] = adapt_death_rates_for_lifetable(100, mapped_rates.loc[year])\n",
    "    lifetables[year] = get_lifetable_from_rates(all_rates[year])"
   ]
  },
  {
   "cell_type": "code",
   "execution_count": null,
   "metadata": {},
   "outputs": [],
   "source": [
    "lifetables.plot(labels={'value': 'surviving'}, height=600, title='life tables by year')"
   ]
  }
 ],
 "metadata": {
  "kernelspec": {
   "display_name": "Python 3 (ipykernel)",
   "language": "python",
   "name": "python3"
  },
  "language_info": {
   "codemirror_mode": {
    "name": "ipython",
    "version": 3
   },
   "file_extension": ".py",
   "mimetype": "text/x-python",
   "name": "python",
   "nbconvert_exporter": "python",
   "pygments_lexer": "ipython3",
   "version": "3.10.11"
  }
 },
 "nbformat": 4,
 "nbformat_minor": 4
}
