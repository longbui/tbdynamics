{
 "cells": [
  {
   "cell_type": "code",
   "execution_count": null,
   "metadata": {},
   "outputs": [],
   "source": [
    "from estival.model import BayesianCompartmentalModel\n",
    "import estival.priors as esp\n",
    "import estival.targets as est\n",
    "import numpy as np\n",
    "from estival.wrappers import pymc as epm\n",
    "import pymc as pm\n",
    "from tbdynamics.utils import round_sigfig\n",
    "from tbdynamics.model import build_model\n",
    "from tbdynamics.inputs import load_params, load_targets, matrix\n",
    "from tbdynamics.constants import (\n",
    "    age_strata,\n",
    "    compartments,\n",
    "    latent_compartments,\n",
    "    infectious_compartments,\n",
    ")\n",
    "from tbdynamics.plotting import plot_model_vs_actual\n",
    "import arviz as az\n",
    "from estival.wrappers import pymc as epm\n",
    "from estival.sampling import tools as esamp\n",
    "from estival.wrappers import nevergrad as eng\n",
    "from estival.utils.parallel import map_parallel\n",
    "import nevergrad as ng"
   ]
  },
  {
   "cell_type": "code",
   "execution_count": null,
   "metadata": {},
   "outputs": [],
   "source": [
    "fixed_params = load_params()\n",
    "tb_model = build_model(\n",
    "        compartments,\n",
    "        latent_compartments,\n",
    "        infectious_compartments,\n",
    "        age_strata,\n",
    "        fixed_params,\n",
    "        matrix,\n",
    "    )\n",
    "\n",
    "params = {}\n",
    "priors = [\n",
    "        esp.UniformPrior(\"start_population_size\", (2000000.0, 2500000.0)),\n",
    "        esp.UniformPrior(\"contact_rate\", (0.005, 0.008)),\n",
    "        esp.UniformPrior(\"rr_infection_latent\", (0.2, 0.5)),\n",
    "        esp.UniformPrior(\"rr_infection_recovered\", (0.2, 0.5)),\n",
    "        esp.UniformPrior(\"progression_multiplier\", (1.5, 2.0)),\n",
    "        esp.UniformPrior(\"seed_time\", (1800.0, 1840.0)),\n",
    "        esp.UniformPrior(\"seed_num\", (1.0, 100.00)),\n",
    "        esp.UniformPrior(\"seed_duration\", (1.0, 20.0)),\n",
    "        esp.UniformPrior(\"smear_positive_death_rate\", (0.335, 0.449)),\n",
    "        esp.UniformPrior(\"smear_negative_death_rate\", (0.017, 0.035)),\n",
    "        esp.UniformPrior(\"smear_positive_self_recovery\", (0.177, 0.288)),\n",
    "        esp.UniformPrior(\"smear_negative_self_recovery\", (0.073, 0.209)),\n",
    "        esp.UniformPrior(\"screening_scaleup_shape\", (0.05, 0.15)),\n",
    "        esp.UniformPrior(\"screening_inflection_time\", (1990, 2010)),\n",
    "        esp.UniformPrior(\"screening_end_asymp\", (0.55, 0.7)),\n",
    "        esp.UniformPrior(\"detection_reduction\", (0.7, 0.9)),\n",
    "    ]\n",
    "target_data = load_targets()\n",
    "targets = [\n",
    "        est.NormalTarget(\"total_population\", target_data[\"total_population\"], stdev=10000.0),\n",
    "        # est.NormalTarget(\"incidence\", target_data[\"incidence\"], 1.0),\n",
    "        est.NormalTarget(\"notification\", target_data[\"notification\"], stdev=10.0),\n",
    "        # est.NormalTarget(\"percentage_latent\", target_data[\"percentage_latent\"], 1.0),\n",
    "        # est.NormalTarget(\"prevalence_pulmonary\", target_data[\"prevalence_pulmonary\"], 1.0),\n",
    "        #est.NormalTarget(\"cdr\", target_data[\"cdr\"], 0.1)\n",
    "    ]\n",
    "\n",
    "bcm =BayesianCompartmentalModel(tb_model, params, priors, targets)"
   ]
  },
  {
   "cell_type": "code",
   "execution_count": null,
   "metadata": {},
   "outputs": [],
   "source": [
    "with pm.Model() as pmc_model:\n",
    "    start_params = {k: np.clip(v, *bcm.priors[k].bounds(0.99)) for k, v in params.items() if k in bcm.priors}\n",
    "    variables = epm.use_model(bcm)\n",
    "    map_params = pm.find_MAP(start=start_params, vars=variables, include_transformed=False, maxeval=500)\n",
    "    map_params = {k: float(v) for k, v in map_params.items()}\n",
    "print('Best candidate parameters found:')\n",
    "for i_param, param in enumerate([p for p in map_params if '_dispersion' not in p]):\n",
    "    print(f'   {param}: {round_sigfig(map_params[param], 4)} (within bound {priors[i_param].bounds()}')\n",
    "print(map_params)\n",
    "params.update(map_params)\n",
    "tb_model.run(parameters=params)"
   ]
  },
  {
   "cell_type": "code",
   "execution_count": null,
   "metadata": {},
   "outputs": [],
   "source": [
    "derived_df_0 = tb_model.get_derived_outputs_df()"
   ]
  },
  {
   "cell_type": "code",
   "execution_count": null,
   "metadata": {},
   "outputs": [],
   "source": [
    "plot_model_vs_actual(\n",
    "    derived_df_0, target_data['total_population'], \"total_population\", \"Population\", \"Modelled vs Data\"\n",
    ")"
   ]
  },
  {
   "cell_type": "code",
   "execution_count": null,
   "metadata": {},
   "outputs": [],
   "source": [
    "plot_model_vs_actual(\n",
    "    derived_df_0, target_data['percentage_latent'], \"percentage_latent\", \"Percentage latent\", \"Modelled vs Data\"\n",
    ")"
   ]
  },
  {
   "cell_type": "code",
   "execution_count": null,
   "metadata": {},
   "outputs": [],
   "source": [
    "plot_model_vs_actual(derived_df_0, target_data['prevalence_pulmonary'], 'prevalence_pulmonary', 'Infectious prevalence', 'Modelled vs Estimation from 2017 prevalence survey')"
   ]
  },
  {
   "cell_type": "code",
   "execution_count": null,
   "metadata": {},
   "outputs": [],
   "source": [
    "plot_model_vs_actual(\n",
    "    derived_df_0, target_data['incidence'], \"incidence\", \"Incidence\", \"Modelled vs Data\"\n",
    ")"
   ]
  },
  {
   "cell_type": "code",
   "execution_count": null,
   "metadata": {},
   "outputs": [],
   "source": [
    "plot_model_vs_actual(\n",
    "    derived_df_0, target_data['notification'], \"notification\", \"Notifications\", \"Modelled vs Data\"\n",
    ")"
   ]
  },
  {
   "cell_type": "code",
   "execution_count": null,
   "metadata": {},
   "outputs": [],
   "source": [
    "nparams = {\n",
    "    \"start_population_size\": 2000000.000000584,\n",
    "    # \"contact_rate\": 0.00799998496434649,\n",
    "    \"rr_infection_latent\": 0.4685598987988698,\n",
    "    \"rr_infection_recovered\": 0.20745664581278986,\n",
    "    \"progression_multiplier\": 1.6720167708499327,\n",
    "    \"seed_time\": 1814.8853385094426,\n",
    "    \"seed_num\": 50.64888812259932,\n",
    "    \"seed_duration\": 10.491361094180998,\n",
    "    \"smear_positive_death_rate\": 0.38654199531405087,\n",
    "    \"smear_negative_death_rate\": 0.025755845817440722,\n",
    "    \"smear_positive_self_recovery\": 0.23321635702709886,\n",
    "    \"smear_negative_self_recovery\": 0.1421912984237043,\n",
    "    \"screening_scaleup_shape\": 0.05000000000000329,\n",
    "    \"screening_inflection_time\": 2003.1965223765128,\n",
    "    \"screening_end_asymp\": 0.550000000000232,\n",
    "    \"detection_reduction\": 0.7594960084213216,\n",
    "}\n",
    "npriors = [\n",
    "        # esp.UniformPrior(\"start_population_size\", (2000000.0, 2500000.0)),\n",
    "        esp.UniformPrior(\"contact_rate\", (0.005, 0.008)),\n",
    "        # esp.UniformPrior(\"rr_infection_latent\", (0.2, 0.5)),\n",
    "        # esp.UniformPrior(\"rr_infection_recovered\", (0.2, 0.5)),\n",
    "        # esp.UniformPrior(\"progression_multiplier\", (1.5, 2.0)),\n",
    "        # esp.UniformPrior(\"seed_time\", (1800.0, 1840.0)),\n",
    "        # esp.UniformPrior(\"seed_num\", (1.0, 100.00)),\n",
    "        # esp.UniformPrior(\"seed_duration\", (1.0, 20.0)),\n",
    "        # esp.UniformPrior(\"smear_positive_death_rate\", (0.335, 0.449)),\n",
    "        # esp.UniformPrior(\"smear_negative_death_rate\", (0.017, 0.035)),\n",
    "        # esp.UniformPrior(\"smear_positive_self_recovery\", (0.177, 0.288)),\n",
    "        # esp.UniformPrior(\"smear_negative_self_recovery\", (0.073, 0.209)),\n",
    "        # esp.UniformPrior(\"screening_scaleup_shape\", (0.05, 0.15)),\n",
    "        # esp.UniformPrior(\"screening_inflection_time\", (1990, 2010)),\n",
    "        # esp.UniformPrior(\"screening_end_asymp\", (0.55, 0.7)),\n",
    "        # esp.UniformPrior(\"detection_reduction\", (0.7, 0.9)),\n",
    "    ]"
   ]
  },
  {
   "cell_type": "code",
   "execution_count": null,
   "metadata": {},
   "outputs": [],
   "source": [
    "nbcm = BayesianCompartmentalModel(tb_model, nparams, npriors, targets)"
   ]
  },
  {
   "cell_type": "code",
   "execution_count": null,
   "metadata": {},
   "outputs": [],
   "source": [
    "with pm.Model() as model:\n",
    "    variables = epm.use_model(nbcm)\n",
    "    idata = pm.sample(step=[pm.DEMetropolis(variables)],draws=20000, tune=5000)"
   ]
  },
  {
   "cell_type": "code",
   "execution_count": null,
   "metadata": {},
   "outputs": [],
   "source": [
    "az.plot_trace(idata)"
   ]
  },
  {
   "cell_type": "code",
   "execution_count": null,
   "metadata": {},
   "outputs": [],
   "source": [
    "az.summary(idata)"
   ]
  }
 ],
 "metadata": {
  "kernelspec": {
   "display_name": "tbdyn",
   "language": "python",
   "name": "python3"
  },
  "language_info": {
   "codemirror_mode": {
    "name": "ipython",
    "version": 3
   },
   "file_extension": ".py",
   "mimetype": "text/x-python",
   "name": "python",
   "nbconvert_exporter": "python",
   "pygments_lexer": "ipython3",
   "version": "3.10.13"
  }
 },
 "nbformat": 4,
 "nbformat_minor": 2
}
