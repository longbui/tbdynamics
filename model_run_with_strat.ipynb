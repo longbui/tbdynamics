{
 "cells": [
  {
   "cell_type": "code",
   "execution_count": 1,
   "metadata": {},
   "outputs": [
    {
     "name": "stderr",
     "output_type": "stream",
     "text": [
      "WARNING (pytensor.configdefaults): g++ not available, if using conda: `conda install m2w64-toolchain`\n",
      "WARNING (pytensor.configdefaults): g++ not detected!  PyTensor will be unable to compile C-implementations and will default to Python. Performance may be severely degraded. To remove this warning, set PyTensor flags cxx to an empty string.\n",
      "WARNING (pytensor.tensor.blas): Using NumPy C-API based implementation for BLAS functions.\n"
     ]
    }
   ],
   "source": [
    "import pandas as pd\n",
    "from pathlib import Path\n",
    "import pylatex as pl\n",
    "from pylatex.utils import NoEscape\n",
    "import pymc as pm\n",
    "import arviz as az\n",
    "import nevergrad as ng\n",
    "import plotly.express as px\n",
    "import numpy as np\n",
    "import pandas as pd\n",
    "\n",
    "from estival.model import BayesianCompartmentalModel\n",
    "import estival.priors as esp\n",
    "import estival.targets as est\n",
    "from estival.wrappers import pymc as epm\n",
    "from tbdynamics import model\n",
    "from tbdynamics.inputs import fixed_parameters\n",
    "from tbdynamics.utils import build_contact_matrix, round_sigfig\n",
    "import plotly.graph_objects as go\n",
    "#from emutools.parameters import load_param_info\n",
    "#from emutools.calibration import round_sigfig\n",
    "# from general_utils.doc_utils import TextElement, TableElement, FigElement, add_element_to_document, \\\n",
    "#     save_pyplot_add_to_doc, save_plotly_add_to_doc, compile_doc, generate_doc\n",
    "from emutools.tex import StandardTexDoc\n"
   ]
  },
  {
   "cell_type": "code",
   "execution_count": 2,
   "metadata": {},
   "outputs": [],
   "source": [
    "pd.options.plotting.backend = \"plotly\"\n",
    "time_start = 1800\n",
    "time_end = 2020\n",
    "time_step = 1\n",
    "\n",
    "doc_sections = {}\n",
    "compartments = [\n",
    "    \"susceptible\",\n",
    "    \"early_latent\",\n",
    "    \"late_latent\",\n",
    "    \"infectious\",\n",
    "    \"on_treatment\",\n",
    "    \"recovered\",\n",
    "]\n",
    "infectious_compartments = [\n",
    "    \"infectious\",\n",
    "    \"on_treatment\",\n",
    "]\n",
    "\n",
    "latent_compartments = [\n",
    "    \"early_latent\",\n",
    "    \"late_latent\",\n",
    "]\n",
    "age_strata = [0,5,15,35,50]"
   ]
  },
  {
   "cell_type": "code",
   "execution_count": 3,
   "metadata": {},
   "outputs": [],
   "source": [
    "PROJECT_PATH = Path().resolve()\n",
    "DATA_PATH = PROJECT_PATH / 'data'\n",
    "SUPPLEMENT_PATH = PROJECT_PATH / 'supplement'"
   ]
  },
  {
   "cell_type": "code",
   "execution_count": 4,
   "metadata": {},
   "outputs": [],
   "source": [
    "params = {\n",
    "    \"contact_rate\": 0.009414102898074345,\n",
    "    \"start_population_size\": 227344.75719536067,\n",
    "    \"cdr_adjustment\": 0.6,\n",
    "    \"progression_multiplier\": 1.1,\n",
    "    \"infectious_seed\": 1,\n",
    "    \"rr_infection_latent\": 0.2,\n",
    "    \"rr_infection_recovered\": 0.2,\n",
    "    \"infect_death_rate_unstratified\": 0.21,\n",
    "    \"on_treatment_infect_multiplier\": 0.08,\n",
    "    'smear_positive_death_rate':0.364337776897486,\n",
    "    'smear_negative_death_rate': 0.027588310343242016, \n",
    "    'smear_positive_self_recovery': 0.20344728302826143,\n",
    "    'smear_negative_self_recovery': 0.22723824998716693,\n",
    "    'rr_progression_diabetes': 4.5\n",
    "}"
   ]
  },
  {
   "cell_type": "code",
   "execution_count": 5,
   "metadata": {},
   "outputs": [],
   "source": [
    "matrix = build_contact_matrix()"
   ]
  },
  {
   "cell_type": "code",
   "execution_count": 6,
   "metadata": {},
   "outputs": [],
   "source": [
    "app_doc = StandardTexDoc(PROJECT_PATH / 'supplement', 'supplement', \"TB dynamics Supplement\", 'tb')"
   ]
  },
  {
   "cell_type": "code",
   "execution_count": 7,
   "metadata": {},
   "outputs": [],
   "source": [
    "tb_model = model.build_model(\n",
    "    compartments,\n",
    "    infectious_compartments,\n",
    "    latent_compartments,\n",
    "    age_strata,\n",
    "    time_start,\n",
    "    time_end,\n",
    "    time_step,\n",
    "    matrix,\n",
    "    fixed_parameters,\n",
    "    app_doc\n",
    ")"
   ]
  },
  {
   "cell_type": "code",
   "execution_count": 8,
   "metadata": {},
   "outputs": [],
   "source": [
    "priors = [\n",
    "    esp.UniformPrior(\"start_population_size\", (1, 300000)),\n",
    "    esp.UniformPrior(\"contact_rate\", (0.0001, 0.02)),\n",
    "    esp.UniformPrior(\"rr_infection_latent\", (0.2, 0.5)),\n",
    "    esp.UniformPrior(\"rr_infection_recovered\", (0.1, 0.5)),\n",
    "    esp.UniformPrior(\"smear_positive_death_rate\", (0.335, 0.449)),\n",
    "    esp.UniformPrior(\"smear_negative_death_rate\", (0.017, 0.035)),\n",
    "    esp.UniformPrior(\"smear_positive_self_recovery\", (0.177, 0.288)),\n",
    "    esp.UniformPrior(\"smear_negative_self_recovery\", (0.073, 0.209)),\n",
    "    esp.UniformPrior(\"rr_progression_diabetes\", (2.0, 10.0)),\n",
    "    esp.UniformPrior(\"progression_multiplier\", (0.1, 2.0)),\n",
    "    esp.UniformPrior(\"acf_scaleup_shape\", (0.,0.1)),\n",
    "    esp.UniformPrior(\"acf_inflection_time\", (1980,2019)),\n",
    "    esp.UniformPrior(\"acf_start_asymp\", (0.,1.)),\n",
    "    esp.UniformPrior(\"acf_end_asymp\", (0.,10.)),\n",
    "    # UniformPrior(\"cdr_adjustment\", [0.6, 1.0]),\n",
    "    esp.UniformPrior(\"infect_death_rate_dict.smear_positive\", [0.335, 0.449]),\n",
    "    esp.UniformPrior(\"infect_death_rate_dict.smear_negative\", [0.017, 0.035]),\n",
    "    esp.UniformPrior(\"self_recovery_rate_dict.smear_positive\", [0.177, 0.288]),\n",
    "    esp.UniformPrior(\"self_recovery_rate_dict.smear_negative\", [0.073, 0.209]),\n",
    "    esp.UniformPrior(\"rr_progression_diabetes\", [1, 10]),\n",
    "]\n",
    "pop = pd.Series({2009: 1207100, 2019: 1194300})\n",
    "notif = pd.Series({2011: 1495,2012: 1485,2013: 1369,2014:1405,2015:1642, 2016:1555, 2017:1440, 2018:1468, 2019:1417})\n",
    "latent = pd.Series({2016:36})\n",
    "\n",
    "targets = [\n",
    "    est.NegativeBinomialTarget('total_population', pop, dispersion_param=2000),\n",
    "    # est.NegativeBinomialTarget('notifications', notif, dispersion_param=50),\n",
    "    est.NormalTarget('percentage_latent', latent, stdev=5)\n",
    "]\n",
    "calibration_model = BayesianCompartmentalModel(tb_model, params, priors, targets)"
   ]
  },
  {
   "cell_type": "code",
   "execution_count": 9,
   "metadata": {},
   "outputs": [
    {
     "ename": "TypeError",
     "evalue": "dot_general requires contracting dimensions to have the same shape, got (6,) and (5,).\nApply node that caused the error: BCMLogLike(start_population_size, contact_rate, rr_infection_latent, rr_infection_recovered, smear_positive_death_rate, smear_negative_death_rate, smear_positive_self_recovery, smear_negative_self_recovery, rr_progression_diabetes, progression_multiplier, acf_scaleup_shape, acf_inflection_time, acf_start_asymp, acf_end_asymp, infect_death_rate_dict.smear_positive, infect_death_rate_dict.smear_negative, self_recovery_rate_dict.smear_positive, self_recovery_rate_dict.smear_negative)\nToposort index: 18\nInputs types: [TensorType(float64, shape=()), TensorType(float64, shape=()), TensorType(float64, shape=()), TensorType(float64, shape=()), TensorType(float64, shape=()), TensorType(float64, shape=()), TensorType(float64, shape=()), TensorType(float64, shape=()), TensorType(float64, shape=()), TensorType(float64, shape=()), TensorType(float64, shape=()), TensorType(float64, shape=()), TensorType(float64, shape=()), TensorType(float64, shape=()), TensorType(float64, shape=()), TensorType(float64, shape=()), TensorType(float64, shape=()), TensorType(float64, shape=())]\nInputs shapes: [(), (), (), (), (), (), (), (), (), (), (), (), (), (), (), (), (), ()]\nInputs strides: [(), (), (), (), (), (), (), (), (), (), (), (), (), (), (), (), (), ()]\nInputs values: [array(227344.75719536), array(0.0094141), array(0.2015), array(0.2), array(0.36433778), array(0.02758831), array(0.20344728), array(0.20832), array(4.5), array(1.1), array(0.05), array(1999.5), array(0.5), array(5.), array(0.392), array(0.026), array(0.2325), array(0.141)]\nOutputs clients: [['output']]\n\nBacktrace when the node is created (use PyTensor flag traceback__limit=N to make it longer):\n  File \"c:\\Users\\vbui0010\\Anaconda3\\envs\\tbdyn\\lib\\site-packages\\IPython\\core\\interactiveshell.py\", line 3009, in run_cell\n    result = self._run_cell(\n  File \"c:\\Users\\vbui0010\\Anaconda3\\envs\\tbdyn\\lib\\site-packages\\IPython\\core\\interactiveshell.py\", line 3064, in _run_cell\n    result = runner(coro)\n  File \"c:\\Users\\vbui0010\\Anaconda3\\envs\\tbdyn\\lib\\site-packages\\IPython\\core\\async_helpers.py\", line 129, in _pseudo_sync_runner\n    coro.send(None)\n  File \"c:\\Users\\vbui0010\\Anaconda3\\envs\\tbdyn\\lib\\site-packages\\IPython\\core\\interactiveshell.py\", line 3269, in run_cell_async\n    has_raised = await self.run_ast_nodes(code_ast.body, cell_name,\n  File \"c:\\Users\\vbui0010\\Anaconda3\\envs\\tbdyn\\lib\\site-packages\\IPython\\core\\interactiveshell.py\", line 3448, in run_ast_nodes\n    if await self.run_code(code, result, async_=asy):\n  File \"c:\\Users\\vbui0010\\Anaconda3\\envs\\tbdyn\\lib\\site-packages\\IPython\\core\\interactiveshell.py\", line 3508, in run_code\n    exec(code_obj, self.user_global_ns, self.user_ns)\n  File \"C:\\Users\\vbui0010\\AppData\\Local\\Temp\\ipykernel_13020\\2541397363.py\", line 3, in <module>\n    variables = epm.use_model(calibration_model)\n  File \"c:\\Users\\vbui0010\\Anaconda3\\envs\\tbdyn\\lib\\site-packages\\estival\\wrappers\\pymc.py\", line 94, in use_model\n    ll = logl(*invars)\n\nHINT: Use the PyTensor flag `exception_verbosity=high` for a debug print-out and storage map footprint of this Apply node.",
     "output_type": "error",
     "traceback": [
      "\u001b[1;31m---------------------------------------------------------------------------\u001b[0m",
      "\u001b[1;31mTypeError\u001b[0m                                 Traceback (most recent call last)",
      "File \u001b[1;32mc:\\Users\\vbui0010\\Anaconda3\\envs\\tbdyn\\lib\\site-packages\\pytensor\\link\\vm.py:414\u001b[0m, in \u001b[0;36mLoop.__call__\u001b[1;34m(self)\u001b[0m\n\u001b[0;32m    411\u001b[0m \u001b[39mfor\u001b[39;00m thunk, node, old_storage \u001b[39min\u001b[39;00m zip_longest(\n\u001b[0;32m    412\u001b[0m     \u001b[39mself\u001b[39m\u001b[39m.\u001b[39mthunks, \u001b[39mself\u001b[39m\u001b[39m.\u001b[39mnodes, \u001b[39mself\u001b[39m\u001b[39m.\u001b[39mpost_thunk_clear, fillvalue\u001b[39m=\u001b[39m()\n\u001b[0;32m    413\u001b[0m ):\n\u001b[1;32m--> 414\u001b[0m     thunk()\n\u001b[0;32m    415\u001b[0m     \u001b[39mfor\u001b[39;00m old_s \u001b[39min\u001b[39;00m old_storage:\n",
      "File \u001b[1;32mc:\\Users\\vbui0010\\Anaconda3\\envs\\tbdyn\\lib\\site-packages\\pytensor\\graph\\op.py:552\u001b[0m, in \u001b[0;36mOp.make_py_thunk.<locals>.rval\u001b[1;34m(p, i, o, n, params)\u001b[0m\n\u001b[0;32m    548\u001b[0m \u001b[39m@is_thunk_type\u001b[39m\n\u001b[0;32m    549\u001b[0m \u001b[39mdef\u001b[39;00m \u001b[39mrval\u001b[39m(\n\u001b[0;32m    550\u001b[0m     p\u001b[39m=\u001b[39mp, i\u001b[39m=\u001b[39mnode_input_storage, o\u001b[39m=\u001b[39mnode_output_storage, n\u001b[39m=\u001b[39mnode, params\u001b[39m=\u001b[39m\u001b[39mNone\u001b[39;00m\n\u001b[0;32m    551\u001b[0m ):\n\u001b[1;32m--> 552\u001b[0m     r \u001b[39m=\u001b[39m p(n, [x[\u001b[39m0\u001b[39;49m] \u001b[39mfor\u001b[39;49;00m x \u001b[39min\u001b[39;49;00m i], o)\n\u001b[0;32m    553\u001b[0m     \u001b[39mfor\u001b[39;00m o \u001b[39min\u001b[39;00m node\u001b[39m.\u001b[39moutputs:\n",
      "File \u001b[1;32mc:\\Users\\vbui0010\\Anaconda3\\envs\\tbdyn\\lib\\site-packages\\estival\\wrappers\\pymc.py:62\u001b[0m, in \u001b[0;36mget_wrapped_ll.<locals>.BCMLogLike.perform\u001b[1;34m(self, node, inputs, outputs)\u001b[0m\n\u001b[0;32m     61\u001b[0m \u001b[39m# call the log-likelihood function\u001b[39;00m\n\u001b[1;32m---> 62\u001b[0m logl \u001b[39m=\u001b[39m \u001b[39mself\u001b[39m\u001b[39m.\u001b[39mbcm\u001b[39m.\u001b[39mloglikelihood(\u001b[39m*\u001b[39m\u001b[39m*\u001b[39mkwargs)\n\u001b[0;32m     64\u001b[0m outputs[\u001b[39m0\u001b[39m][\u001b[39m0\u001b[39m] \u001b[39m=\u001b[39m np\u001b[39m.\u001b[39marray(logl)\n",
      "    \u001b[1;31m[... skipping hidden 12 frame]\u001b[0m\n",
      "File \u001b[1;32mc:\\Users\\vbui0010\\Anaconda3\\envs\\tbdyn\\lib\\site-packages\\estival\\model.py:67\u001b[0m, in \u001b[0;36mBayesianCompartmentalModel._build_logll_funcs.<locals>.logll\u001b[1;34m(**kwargs)\u001b[0m\n\u001b[0;32m     66\u001b[0m dict_args \u001b[39m=\u001b[39m capture_model_kwargs(\u001b[39mself\u001b[39m\u001b[39m.\u001b[39mmodel, \u001b[39m*\u001b[39m\u001b[39m*\u001b[39mkwargs)\n\u001b[1;32m---> 67\u001b[0m res \u001b[39m=\u001b[39m \u001b[39mself\u001b[39;49m\u001b[39m.\u001b[39;49m_ll_runner\u001b[39m.\u001b[39;49m_run_func(dict_args)[\u001b[39m\"\u001b[39m\u001b[39mderived_outputs\u001b[39m\u001b[39m\"\u001b[39m]\n\u001b[0;32m     69\u001b[0m logdens \u001b[39m=\u001b[39m \u001b[39m0.0\u001b[39m\n",
      "    \u001b[1;31m[... skipping hidden 12 frame]\u001b[0m\n",
      "File \u001b[1;32mc:\\Users\\vbui0010\\Anaconda3\\envs\\tbdyn\\lib\\site-packages\\summer2\\runner\\jax\\model_impl.py:555\u001b[0m, in \u001b[0;36mbuild_run_model.<locals>.run_model\u001b[1;34m(parameters)\u001b[0m\n\u001b[0;32m    550\u001b[0m model_data \u001b[39m=\u001b[39m {\n\u001b[0;32m    551\u001b[0m     \u001b[39m\"\u001b[39m\u001b[39mcompartment_infectiousness\u001b[39m\u001b[39m\"\u001b[39m: compartment_infectiousness,\n\u001b[0;32m    552\u001b[0m     \u001b[39m\"\u001b[39m\u001b[39mstatic_flow_weights\u001b[39m\u001b[39m\"\u001b[39m: static_flow_weights,\n\u001b[0;32m    553\u001b[0m }\n\u001b[1;32m--> 555\u001b[0m outputs \u001b[39m=\u001b[39m get_ode_solution(initial_population, times, static_graph_vals, model_data)\n\u001b[0;32m    557\u001b[0m \u001b[39m# # Empty array to kick-start flow rates from outputs\u001b[39;00m\n\u001b[0;32m    558\u001b[0m \u001b[39m# flow_rates_full = jnp.empty((len(m.times), len(m.flows)))\u001b[39;00m\n\u001b[0;32m    559\u001b[0m \n\u001b[1;32m   (...)\u001b[0m\n\u001b[0;32m    575\u001b[0m \u001b[39m#     f, (flow_rates_full, cv_out), jnp.array(range(len(m.times)))\u001b[39;00m\n\u001b[0;32m    576\u001b[0m \u001b[39m# )\u001b[39;00m\n",
      "File \u001b[1;32mc:\\Users\\vbui0010\\Anaconda3\\envs\\tbdyn\\lib\\site-packages\\summer2\\runner\\jax\\model_impl.py:460\u001b[0m, in \u001b[0;36mbuild_run_model.<locals>.get_ode_solution\u001b[1;34m(initial_population, times, static_graph_vals, model_data)\u001b[0m\n\u001b[0;32m    459\u001b[0m \u001b[39mdef\u001b[39;00m \u001b[39mget_ode_solution\u001b[39m(initial_population, times, static_graph_vals, model_data):\n\u001b[1;32m--> 460\u001b[0m     \u001b[39mreturn\u001b[39;00m ode\u001b[39m.\u001b[39modeint(\n\u001b[0;32m    461\u001b[0m         get_comp_rates,\n\u001b[0;32m    462\u001b[0m         initial_population,\n\u001b[0;32m    463\u001b[0m         times,\n\u001b[0;32m    464\u001b[0m         static_graph_vals,\n\u001b[0;32m    465\u001b[0m         model_data,\n\u001b[0;32m    466\u001b[0m         \u001b[39m*\u001b[39m\u001b[39m*\u001b[39msolver_args,\n\u001b[0;32m    467\u001b[0m     )\n",
      "File \u001b[1;32mc:\\Users\\vbui0010\\Anaconda3\\envs\\tbdyn\\lib\\site-packages\\summer2\\runner\\jax\\ode.py:216\u001b[0m, in \u001b[0;36modeint\u001b[1;34m(func, y0, t, rtol, atol, mxstep, max_step, *args)\u001b[0m\n\u001b[0;32m    214\u001b[0m     \u001b[39mraise\u001b[39;00m \u001b[39mTypeError\u001b[39;00m(\u001b[39mf\u001b[39m\u001b[39m\"\u001b[39m\u001b[39mt must be an array of floats, but got \u001b[39m\u001b[39m{\u001b[39;00mt\u001b[39m}\u001b[39;00m\u001b[39m.\u001b[39m\u001b[39m\"\u001b[39m)\n\u001b[1;32m--> 216\u001b[0m converted, consts \u001b[39m=\u001b[39m custom_derivatives\u001b[39m.\u001b[39;49mclosure_convert(func, y0, t[\u001b[39m0\u001b[39;49m], \u001b[39m*\u001b[39;49margs)\n\u001b[0;32m    217\u001b[0m \u001b[39mreturn\u001b[39;00m _odeint_wrapper(converted, rtol, atol, mxstep, max_step, y0, t, \u001b[39m*\u001b[39margs, \u001b[39m*\u001b[39mconsts)\n",
      "    \u001b[1;31m[... skipping hidden 8 frame]\u001b[0m\n",
      "File \u001b[1;32mc:\\Users\\vbui0010\\Anaconda3\\envs\\tbdyn\\lib\\site-packages\\summer2\\runner\\jax\\model_impl.py:447\u001b[0m, in \u001b[0;36mbuild_run_model.<locals>.get_comp_rates\u001b[1;34m(comp_vals, t, static_graph_vals, model_data)\u001b[0m\n\u001b[0;32m    446\u001b[0m \u001b[39mdef\u001b[39;00m \u001b[39mget_comp_rates\u001b[39m(comp_vals, t, static_graph_vals, model_data):\n\u001b[1;32m--> 447\u001b[0m     \u001b[39mreturn\u001b[39;00m get_rates(comp_vals, t, static_graph_vals, model_data)[\u001b[39m1\u001b[39m]\n",
      "File \u001b[1;32mc:\\Users\\vbui0010\\Anaconda3\\envs\\tbdyn\\lib\\site-packages\\summer2\\runner\\jax\\model_impl.py:277\u001b[0m, in \u001b[0;36mbuild_get_rates.<locals>.get_rates\u001b[1;34m(compartment_values, time, static_graph_vals, model_data)\u001b[0m\n\u001b[0;32m    276\u001b[0m \u001b[39mdef\u001b[39;00m \u001b[39mget_rates\u001b[39m(compartment_values, time, static_graph_vals, model_data):\n\u001b[1;32m--> 277\u001b[0m     flow_rates, _ \u001b[39m=\u001b[39m get_flow_rates(compartment_values, time, static_graph_vals, model_data)\n\u001b[0;32m    278\u001b[0m     comp_rates \u001b[39m=\u001b[39m get_compartment_rates(compartment_values, flow_rates)\n",
      "File \u001b[1;32mc:\\Users\\vbui0010\\Anaconda3\\envs\\tbdyn\\lib\\site-packages\\summer2\\runner\\jax\\model_impl.py:222\u001b[0m, in \u001b[0;36mbuild_get_flow_rates.<locals>.get_flow_rates\u001b[1;34m(compartment_values, time, static_graph_vals, model_data)\u001b[0m\n\u001b[0;32m    221\u001b[0m \u001b[39mif\u001b[39;00m infect_proc_type:\n\u001b[1;32m--> 222\u001b[0m     infect_mul \u001b[39m=\u001b[39m get_infectious_multipliers(\n\u001b[0;32m    223\u001b[0m         time,\n\u001b[0;32m    224\u001b[0m         compartment_values,\n\u001b[0;32m    225\u001b[0m         ts_graph_vals,\n\u001b[0;32m    226\u001b[0m         model_data[\u001b[39m\"\u001b[39;49m\u001b[39mcompartment_infectiousness\u001b[39;49m\u001b[39m\"\u001b[39;49m],\n\u001b[0;32m    227\u001b[0m     )\n\u001b[0;32m    228\u001b[0m     \u001b[39m# flow_rates = flow_rates.at[infectious_flow_indices].mul(infect_mul)\u001b[39;00m\n",
      "File \u001b[1;32mc:\\Users\\vbui0010\\Anaconda3\\envs\\tbdyn\\lib\\site-packages\\summer2\\runner\\jax\\model_impl.py:94\u001b[0m, in \u001b[0;36mbuild_get_infectious_multipliers.<locals>.get_infectious_multipliers\u001b[1;34m(time, compartment_values, cur_graph_outputs, compartment_infectiousness)\u001b[0m\n\u001b[0;32m     93\u001b[0m strain_infectious_values \u001b[39m=\u001b[39m compartment_values[strain_infectious_idx]\n\u001b[1;32m---> 94\u001b[0m strain_values \u001b[39m=\u001b[39m get_force_of_infection(\n\u001b[0;32m     95\u001b[0m     strain_infectious_values,\n\u001b[0;32m     96\u001b[0m     strain_compartment_infectiousness,\n\u001b[0;32m     97\u001b[0m     strain_category_indexer,\n\u001b[0;32m     98\u001b[0m     mixing_matrix,\n\u001b[0;32m     99\u001b[0m     category_populations,\n\u001b[0;32m    100\u001b[0m )\n\u001b[0;32m    101\u001b[0m infection_frequency[strain] \u001b[39m=\u001b[39m strain_values[\u001b[39m\"\u001b[39m\u001b[39minfection_frequency\u001b[39m\u001b[39m\"\u001b[39m]\n",
      "File \u001b[1;32mc:\\Users\\vbui0010\\Anaconda3\\envs\\tbdyn\\lib\\site-packages\\summer2\\runner\\jax\\model_impl.py:53\u001b[0m, in \u001b[0;36mget_force_of_infection\u001b[1;34m(strain_infectious_values, strain_compartment_infectiousness, strain_category_indexer, mixing_matrix, category_populations)\u001b[0m\n\u001b[0;32m     52\u001b[0m infectious_populations \u001b[39m=\u001b[39m jnp\u001b[39m.\u001b[39msum(infected_values[strain_category_indexer], axis\u001b[39m=\u001b[39m\u001b[39m-\u001b[39m\u001b[39m1\u001b[39m)\n\u001b[1;32m---> 53\u001b[0m infection_density \u001b[39m=\u001b[39m mixing_matrix \u001b[39m@\u001b[39;49m infectious_populations\n\u001b[0;32m     54\u001b[0m category_prevalence \u001b[39m=\u001b[39m infectious_populations \u001b[39m/\u001b[39m category_populations\n",
      "File \u001b[1;32mc:\\Users\\vbui0010\\Anaconda3\\envs\\tbdyn\\lib\\site-packages\\jax\\_src\\numpy\\array_methods.py:791\u001b[0m, in \u001b[0;36m_forward_operator_to_aval.<locals>.op\u001b[1;34m(self, *args)\u001b[0m\n\u001b[0;32m    790\u001b[0m \u001b[39mdef\u001b[39;00m \u001b[39mop\u001b[39m(\u001b[39mself\u001b[39m, \u001b[39m*\u001b[39margs):\n\u001b[1;32m--> 791\u001b[0m   \u001b[39mreturn\u001b[39;00m \u001b[39mgetattr\u001b[39;49m(\u001b[39mself\u001b[39;49m\u001b[39m.\u001b[39;49maval, \u001b[39mf\u001b[39;49m\u001b[39m\"\u001b[39;49m\u001b[39m_\u001b[39;49m\u001b[39m{\u001b[39;49;00mname\u001b[39m}\u001b[39;49;00m\u001b[39m\"\u001b[39;49m)(\u001b[39mself\u001b[39;49m, \u001b[39m*\u001b[39;49margs)\n",
      "File \u001b[1;32mc:\\Users\\vbui0010\\Anaconda3\\envs\\tbdyn\\lib\\site-packages\\jax\\_src\\numpy\\array_methods.py:258\u001b[0m, in \u001b[0;36m_defer_to_unrecognized_arg.<locals>.deferring_binary_op\u001b[1;34m(self, other)\u001b[0m\n\u001b[0;32m    257\u001b[0m \u001b[39mif\u001b[39;00m \u001b[39misinstance\u001b[39m(other, _accepted_binop_types):\n\u001b[1;32m--> 258\u001b[0m   \u001b[39mreturn\u001b[39;00m binary_op(\u001b[39m*\u001b[39;49margs)\n\u001b[0;32m    259\u001b[0m \u001b[39mif\u001b[39;00m \u001b[39misinstance\u001b[39m(other, _rejected_binop_types):\n",
      "    \u001b[1;31m[... skipping hidden 12 frame]\u001b[0m\n",
      "File \u001b[1;32mc:\\Users\\vbui0010\\Anaconda3\\envs\\tbdyn\\lib\\site-packages\\jax\\_src\\numpy\\lax_numpy.py:3127\u001b[0m, in \u001b[0;36mmatmul\u001b[1;34m(a, b, precision)\u001b[0m\n\u001b[0;32m   3126\u001b[0m b \u001b[39m=\u001b[39m lax\u001b[39m.\u001b[39msqueeze(b, \u001b[39mtuple\u001b[39m(b_squeeze))\n\u001b[1;32m-> 3127\u001b[0m out \u001b[39m=\u001b[39m lax\u001b[39m.\u001b[39;49mdot_general(\n\u001b[0;32m   3128\u001b[0m   a, b, (((ndim(a) \u001b[39m-\u001b[39;49m \u001b[39m1\u001b[39;49m,), (ndim(b) \u001b[39m-\u001b[39;49m \u001b[39m1\u001b[39;49m \u001b[39m-\u001b[39;49m b_is_mat,)), (a_batch, b_batch)),\n\u001b[0;32m   3129\u001b[0m   precision\u001b[39m=\u001b[39;49mprecision)\n\u001b[0;32m   3130\u001b[0m \u001b[39mreturn\u001b[39;00m lax\u001b[39m.\u001b[39mtranspose(out, perm)\n",
      "    \u001b[1;31m[... skipping hidden 7 frame]\u001b[0m\n",
      "File \u001b[1;32mc:\\Users\\vbui0010\\Anaconda3\\envs\\tbdyn\\lib\\site-packages\\jax\\_src\\lax\\lax.py:2500\u001b[0m, in \u001b[0;36m_dot_general_shape_rule\u001b[1;34m(lhs, rhs, dimension_numbers, precision, preferred_element_type)\u001b[0m\n\u001b[0;32m   2498\u001b[0m   msg \u001b[39m=\u001b[39m (\u001b[39m\"\u001b[39m\u001b[39mdot_general requires contracting dimensions to have the same \u001b[39m\u001b[39m\"\u001b[39m\n\u001b[0;32m   2499\u001b[0m          \u001b[39m\"\u001b[39m\u001b[39mshape, got \u001b[39m\u001b[39m{}\u001b[39;00m\u001b[39m and \u001b[39m\u001b[39m{}\u001b[39;00m\u001b[39m.\u001b[39m\u001b[39m\"\u001b[39m)\n\u001b[1;32m-> 2500\u001b[0m   \u001b[39mraise\u001b[39;00m \u001b[39mTypeError\u001b[39;00m(msg\u001b[39m.\u001b[39mformat(lhs_contracting_shape, rhs_contracting_shape))\n\u001b[0;32m   2502\u001b[0m \u001b[39mreturn\u001b[39;00m _dot_general_shape_computation(lhs\u001b[39m.\u001b[39mshape, rhs\u001b[39m.\u001b[39mshape, dimension_numbers)\n",
      "\u001b[1;31mTypeError\u001b[0m: dot_general requires contracting dimensions to have the same shape, got (6,) and (5,).",
      "\nDuring handling of the above exception, another exception occurred:\n",
      "\u001b[1;31mTypeError\u001b[0m                                 Traceback (most recent call last)",
      "\u001b[1;32mc:\\Users\\vbui0010\\tbdynamics\\model_run_with_strat.ipynb Cell 9\u001b[0m line \u001b[0;36m4\n\u001b[0;32m      <a href='vscode-notebook-cell:/c%3A/Users/vbui0010/tbdynamics/model_run_with_strat.ipynb#X11sZmlsZQ%3D%3D?line=1'>2</a>\u001b[0m start_params \u001b[39m=\u001b[39m {k: np\u001b[39m.\u001b[39mclip(v, \u001b[39m*\u001b[39mcalibration_model\u001b[39m.\u001b[39mpriors[k]\u001b[39m.\u001b[39mbounds(\u001b[39m0.99\u001b[39m)) \u001b[39mfor\u001b[39;00m k, v \u001b[39min\u001b[39;00m params\u001b[39m.\u001b[39mitems() \u001b[39mif\u001b[39;00m k \u001b[39min\u001b[39;00m calibration_model\u001b[39m.\u001b[39mpriors}\n\u001b[0;32m      <a href='vscode-notebook-cell:/c%3A/Users/vbui0010/tbdynamics/model_run_with_strat.ipynb#X11sZmlsZQ%3D%3D?line=2'>3</a>\u001b[0m variables \u001b[39m=\u001b[39m epm\u001b[39m.\u001b[39muse_model(calibration_model)\n\u001b[1;32m----> <a href='vscode-notebook-cell:/c%3A/Users/vbui0010/tbdynamics/model_run_with_strat.ipynb#X11sZmlsZQ%3D%3D?line=3'>4</a>\u001b[0m map_params \u001b[39m=\u001b[39m pm\u001b[39m.\u001b[39;49mfind_MAP(start\u001b[39m=\u001b[39;49mstart_params, \u001b[39mvars\u001b[39;49m\u001b[39m=\u001b[39;49mvariables, include_transformed\u001b[39m=\u001b[39;49m\u001b[39mFalse\u001b[39;49;00m)\n\u001b[0;32m      <a href='vscode-notebook-cell:/c%3A/Users/vbui0010/tbdynamics/model_run_with_strat.ipynb#X11sZmlsZQ%3D%3D?line=4'>5</a>\u001b[0m map_params \u001b[39m=\u001b[39m {k: \u001b[39mfloat\u001b[39m(v) \u001b[39mfor\u001b[39;00m k, v \u001b[39min\u001b[39;00m map_params\u001b[39m.\u001b[39mitems()}\n\u001b[0;32m      <a href='vscode-notebook-cell:/c%3A/Users/vbui0010/tbdynamics/model_run_with_strat.ipynb#X11sZmlsZQ%3D%3D?line=5'>6</a>\u001b[0m \u001b[39mprint\u001b[39m(\u001b[39m'\u001b[39m\u001b[39mBest calibration parameters found:\u001b[39m\u001b[39m'\u001b[39m)\n",
      "File \u001b[1;32mc:\\Users\\vbui0010\\Anaconda3\\envs\\tbdyn\\lib\\site-packages\\pymc\\tuning\\starting.py:125\u001b[0m, in \u001b[0;36mfind_MAP\u001b[1;34m(start, vars, method, return_raw, include_transformed, progressbar, maxeval, model, seed, *args, **kwargs)\u001b[0m\n\u001b[0;32m    118\u001b[0m ipfn \u001b[39m=\u001b[39m make_initial_point_fn(\n\u001b[0;32m    119\u001b[0m     model\u001b[39m=\u001b[39mmodel,\n\u001b[0;32m    120\u001b[0m     jitter_rvs\u001b[39m=\u001b[39m\u001b[39mset\u001b[39m(),\n\u001b[0;32m    121\u001b[0m     return_transformed\u001b[39m=\u001b[39m\u001b[39mTrue\u001b[39;00m,\n\u001b[0;32m    122\u001b[0m     overrides\u001b[39m=\u001b[39mstart,\n\u001b[0;32m    123\u001b[0m )\n\u001b[0;32m    124\u001b[0m start \u001b[39m=\u001b[39m ipfn(seed)\n\u001b[1;32m--> 125\u001b[0m model\u001b[39m.\u001b[39;49mcheck_start_vals(start)\n\u001b[0;32m    127\u001b[0m vars_dict \u001b[39m=\u001b[39m {var\u001b[39m.\u001b[39mname: var \u001b[39mfor\u001b[39;00m var \u001b[39min\u001b[39;00m \u001b[39mvars\u001b[39m}\n\u001b[0;32m    128\u001b[0m x0 \u001b[39m=\u001b[39m DictToArrayBijection\u001b[39m.\u001b[39mmap(\n\u001b[0;32m    129\u001b[0m     {var_name: value \u001b[39mfor\u001b[39;00m var_name, value \u001b[39min\u001b[39;00m start\u001b[39m.\u001b[39mitems() \u001b[39mif\u001b[39;00m var_name \u001b[39min\u001b[39;00m vars_dict}\n\u001b[0;32m    130\u001b[0m )\n",
      "File \u001b[1;32mc:\\Users\\vbui0010\\Anaconda3\\envs\\tbdyn\\lib\\site-packages\\pymc\\model.py:1697\u001b[0m, in \u001b[0;36mModel.check_start_vals\u001b[1;34m(self, start)\u001b[0m\n\u001b[0;32m   1691\u001b[0m     valid_keys \u001b[39m=\u001b[39m \u001b[39m\"\u001b[39m\u001b[39m, \u001b[39m\u001b[39m\"\u001b[39m\u001b[39m.\u001b[39mjoin(value_names_set)\n\u001b[0;32m   1692\u001b[0m     \u001b[39mraise\u001b[39;00m \u001b[39mKeyError\u001b[39;00m(\n\u001b[0;32m   1693\u001b[0m         \u001b[39m\"\u001b[39m\u001b[39mSome start parameters do not appear in the model!\u001b[39m\u001b[39m\\n\u001b[39;00m\u001b[39m\"\u001b[39m\n\u001b[0;32m   1694\u001b[0m         \u001b[39mf\u001b[39m\u001b[39m\"\u001b[39m\u001b[39mValid keys are: \u001b[39m\u001b[39m{\u001b[39;00mvalid_keys\u001b[39m}\u001b[39;00m\u001b[39m, but \u001b[39m\u001b[39m{\u001b[39;00mextra_keys\u001b[39m}\u001b[39;00m\u001b[39m was supplied\u001b[39m\u001b[39m\"\u001b[39m\n\u001b[0;32m   1695\u001b[0m     )\n\u001b[1;32m-> 1697\u001b[0m initial_eval \u001b[39m=\u001b[39m \u001b[39mself\u001b[39;49m\u001b[39m.\u001b[39;49mpoint_logps(point\u001b[39m=\u001b[39;49melem)\n\u001b[0;32m   1699\u001b[0m \u001b[39mif\u001b[39;00m \u001b[39mnot\u001b[39;00m \u001b[39mall\u001b[39m(np\u001b[39m.\u001b[39misfinite(v) \u001b[39mfor\u001b[39;00m v \u001b[39min\u001b[39;00m initial_eval\u001b[39m.\u001b[39mvalues()):\n\u001b[0;32m   1700\u001b[0m     \u001b[39mraise\u001b[39;00m SamplingError(\n\u001b[0;32m   1701\u001b[0m         \u001b[39m\"\u001b[39m\u001b[39mInitial evaluation of model at starting point failed!\u001b[39m\u001b[39m\\n\u001b[39;00m\u001b[39m\"\u001b[39m\n\u001b[0;32m   1702\u001b[0m         \u001b[39mf\u001b[39m\u001b[39m\"\u001b[39m\u001b[39mStarting values:\u001b[39m\u001b[39m\\n\u001b[39;00m\u001b[39m{\u001b[39;00melem\u001b[39m}\u001b[39;00m\u001b[39m\\n\u001b[39;00m\u001b[39m\\n\u001b[39;00m\u001b[39m\"\u001b[39m\n\u001b[0;32m   1703\u001b[0m         \u001b[39mf\u001b[39m\u001b[39m\"\u001b[39m\u001b[39mLogp initial evaluation results:\u001b[39m\u001b[39m\\n\u001b[39;00m\u001b[39m{\u001b[39;00minitial_eval\u001b[39m}\u001b[39;00m\u001b[39m\\n\u001b[39;00m\u001b[39m\"\u001b[39m\n\u001b[0;32m   1704\u001b[0m         \u001b[39m\"\u001b[39m\u001b[39mYou can call `model.debug()` for more details.\u001b[39m\u001b[39m\"\u001b[39m\n\u001b[0;32m   1705\u001b[0m     )\n",
      "File \u001b[1;32mc:\\Users\\vbui0010\\Anaconda3\\envs\\tbdyn\\lib\\site-packages\\pymc\\model.py:1732\u001b[0m, in \u001b[0;36mModel.point_logps\u001b[1;34m(self, point, round_vals)\u001b[0m\n\u001b[0;32m   1726\u001b[0m factors \u001b[39m=\u001b[39m \u001b[39mself\u001b[39m\u001b[39m.\u001b[39mbasic_RVs \u001b[39m+\u001b[39m \u001b[39mself\u001b[39m\u001b[39m.\u001b[39mpotentials\n\u001b[0;32m   1727\u001b[0m factor_logps_fn \u001b[39m=\u001b[39m [pt\u001b[39m.\u001b[39msum(factor) \u001b[39mfor\u001b[39;00m factor \u001b[39min\u001b[39;00m \u001b[39mself\u001b[39m\u001b[39m.\u001b[39mlogp(factors, \u001b[39msum\u001b[39m\u001b[39m=\u001b[39m\u001b[39mFalse\u001b[39;00m)]\n\u001b[0;32m   1728\u001b[0m \u001b[39mreturn\u001b[39;00m {\n\u001b[0;32m   1729\u001b[0m     factor\u001b[39m.\u001b[39mname: np\u001b[39m.\u001b[39mround(np\u001b[39m.\u001b[39masarray(factor_logp), round_vals)\n\u001b[0;32m   1730\u001b[0m     \u001b[39mfor\u001b[39;00m factor, factor_logp \u001b[39min\u001b[39;00m \u001b[39mzip\u001b[39m(\n\u001b[0;32m   1731\u001b[0m         factors,\n\u001b[1;32m-> 1732\u001b[0m         \u001b[39mself\u001b[39;49m\u001b[39m.\u001b[39;49mcompile_fn(factor_logps_fn)(point),\n\u001b[0;32m   1733\u001b[0m     )\n\u001b[0;32m   1734\u001b[0m }\n",
      "File \u001b[1;32mc:\\Users\\vbui0010\\Anaconda3\\envs\\tbdyn\\lib\\site-packages\\pymc\\pytensorf.py:762\u001b[0m, in \u001b[0;36mPointFunc.__call__\u001b[1;34m(self, state)\u001b[0m\n\u001b[0;32m    761\u001b[0m \u001b[39mdef\u001b[39;00m \u001b[39m__call__\u001b[39m(\u001b[39mself\u001b[39m, state):\n\u001b[1;32m--> 762\u001b[0m     \u001b[39mreturn\u001b[39;00m \u001b[39mself\u001b[39m\u001b[39m.\u001b[39mf(\u001b[39m*\u001b[39m\u001b[39m*\u001b[39mstate)\n",
      "File \u001b[1;32mc:\\Users\\vbui0010\\Anaconda3\\envs\\tbdyn\\lib\\site-packages\\pytensor\\compile\\function\\types.py:970\u001b[0m, in \u001b[0;36mFunction.__call__\u001b[1;34m(self, *args, **kwargs)\u001b[0m\n\u001b[0;32m    967\u001b[0m t0_fn \u001b[39m=\u001b[39m time\u001b[39m.\u001b[39mperf_counter()\n\u001b[0;32m    968\u001b[0m \u001b[39mtry\u001b[39;00m:\n\u001b[0;32m    969\u001b[0m     outputs \u001b[39m=\u001b[39m (\n\u001b[1;32m--> 970\u001b[0m         \u001b[39mself\u001b[39;49m\u001b[39m.\u001b[39;49mvm()\n\u001b[0;32m    971\u001b[0m         \u001b[39mif\u001b[39;00m output_subset \u001b[39mis\u001b[39;00m \u001b[39mNone\u001b[39;00m\n\u001b[0;32m    972\u001b[0m         \u001b[39melse\u001b[39;00m \u001b[39mself\u001b[39m\u001b[39m.\u001b[39mvm(output_subset\u001b[39m=\u001b[39moutput_subset)\n\u001b[0;32m    973\u001b[0m     )\n\u001b[0;32m    974\u001b[0m \u001b[39mexcept\u001b[39;00m \u001b[39mException\u001b[39;00m:\n\u001b[0;32m    975\u001b[0m     restore_defaults()\n",
      "File \u001b[1;32mc:\\Users\\vbui0010\\Anaconda3\\envs\\tbdyn\\lib\\site-packages\\pytensor\\link\\vm.py:418\u001b[0m, in \u001b[0;36mLoop.__call__\u001b[1;34m(self)\u001b[0m\n\u001b[0;32m    416\u001b[0m                 old_s[\u001b[39m0\u001b[39m] \u001b[39m=\u001b[39m \u001b[39mNone\u001b[39;00m\n\u001b[0;32m    417\u001b[0m     \u001b[39mexcept\u001b[39;00m \u001b[39mException\u001b[39;00m:\n\u001b[1;32m--> 418\u001b[0m         raise_with_op(\u001b[39mself\u001b[39;49m\u001b[39m.\u001b[39;49mfgraph, node, thunk)\n\u001b[0;32m    420\u001b[0m \u001b[39mreturn\u001b[39;00m \u001b[39mself\u001b[39m\u001b[39m.\u001b[39mperform_updates()\n",
      "File \u001b[1;32mc:\\Users\\vbui0010\\Anaconda3\\envs\\tbdyn\\lib\\site-packages\\pytensor\\link\\utils.py:535\u001b[0m, in \u001b[0;36mraise_with_op\u001b[1;34m(fgraph, node, thunk, exc_info, storage_map)\u001b[0m\n\u001b[0;32m    530\u001b[0m     warnings\u001b[39m.\u001b[39mwarn(\n\u001b[0;32m    531\u001b[0m         \u001b[39mf\u001b[39m\u001b[39m\"\u001b[39m\u001b[39m{\u001b[39;00mexc_type\u001b[39m}\u001b[39;00m\u001b[39m error does not allow us to add an extra error message\u001b[39m\u001b[39m\"\u001b[39m\n\u001b[0;32m    532\u001b[0m     )\n\u001b[0;32m    533\u001b[0m     \u001b[39m# Some exception need extra parameter in inputs. So forget the\u001b[39;00m\n\u001b[0;32m    534\u001b[0m     \u001b[39m# extra long error message in that case.\u001b[39;00m\n\u001b[1;32m--> 535\u001b[0m \u001b[39mraise\u001b[39;00m exc_value\u001b[39m.\u001b[39mwith_traceback(exc_trace)\n",
      "File \u001b[1;32mc:\\Users\\vbui0010\\Anaconda3\\envs\\tbdyn\\lib\\site-packages\\pytensor\\link\\vm.py:414\u001b[0m, in \u001b[0;36mLoop.__call__\u001b[1;34m(self)\u001b[0m\n\u001b[0;32m    410\u001b[0m \u001b[39mtry\u001b[39;00m:\n\u001b[0;32m    411\u001b[0m     \u001b[39mfor\u001b[39;00m thunk, node, old_storage \u001b[39min\u001b[39;00m zip_longest(\n\u001b[0;32m    412\u001b[0m         \u001b[39mself\u001b[39m\u001b[39m.\u001b[39mthunks, \u001b[39mself\u001b[39m\u001b[39m.\u001b[39mnodes, \u001b[39mself\u001b[39m\u001b[39m.\u001b[39mpost_thunk_clear, fillvalue\u001b[39m=\u001b[39m()\n\u001b[0;32m    413\u001b[0m     ):\n\u001b[1;32m--> 414\u001b[0m         thunk()\n\u001b[0;32m    415\u001b[0m         \u001b[39mfor\u001b[39;00m old_s \u001b[39min\u001b[39;00m old_storage:\n\u001b[0;32m    416\u001b[0m             old_s[\u001b[39m0\u001b[39m] \u001b[39m=\u001b[39m \u001b[39mNone\u001b[39;00m\n",
      "File \u001b[1;32mc:\\Users\\vbui0010\\Anaconda3\\envs\\tbdyn\\lib\\site-packages\\pytensor\\graph\\op.py:552\u001b[0m, in \u001b[0;36mOp.make_py_thunk.<locals>.rval\u001b[1;34m(p, i, o, n, params)\u001b[0m\n\u001b[0;32m    548\u001b[0m \u001b[39m@is_thunk_type\u001b[39m\n\u001b[0;32m    549\u001b[0m \u001b[39mdef\u001b[39;00m \u001b[39mrval\u001b[39m(\n\u001b[0;32m    550\u001b[0m     p\u001b[39m=\u001b[39mp, i\u001b[39m=\u001b[39mnode_input_storage, o\u001b[39m=\u001b[39mnode_output_storage, n\u001b[39m=\u001b[39mnode, params\u001b[39m=\u001b[39m\u001b[39mNone\u001b[39;00m\n\u001b[0;32m    551\u001b[0m ):\n\u001b[1;32m--> 552\u001b[0m     r \u001b[39m=\u001b[39m p(n, [x[\u001b[39m0\u001b[39;49m] \u001b[39mfor\u001b[39;49;00m x \u001b[39min\u001b[39;49;00m i], o)\n\u001b[0;32m    553\u001b[0m     \u001b[39mfor\u001b[39;00m o \u001b[39min\u001b[39;00m node\u001b[39m.\u001b[39moutputs:\n\u001b[0;32m    554\u001b[0m         compute_map[o][\u001b[39m0\u001b[39m] \u001b[39m=\u001b[39m \u001b[39mTrue\u001b[39;00m\n",
      "File \u001b[1;32mc:\\Users\\vbui0010\\Anaconda3\\envs\\tbdyn\\lib\\site-packages\\estival\\wrappers\\pymc.py:62\u001b[0m, in \u001b[0;36mget_wrapped_ll.<locals>.BCMLogLike.perform\u001b[1;34m(self, node, inputs, outputs)\u001b[0m\n\u001b[0;32m     59\u001b[0m kwargs \u001b[39m=\u001b[39m {k: params[i] \u001b[39mfor\u001b[39;00m i, k \u001b[39min\u001b[39;00m \u001b[39menumerate\u001b[39m(\u001b[39mself\u001b[39m\u001b[39m.\u001b[39mbcm\u001b[39m.\u001b[39mpriors)}\n\u001b[0;32m     61\u001b[0m \u001b[39m# call the log-likelihood function\u001b[39;00m\n\u001b[1;32m---> 62\u001b[0m logl \u001b[39m=\u001b[39m \u001b[39mself\u001b[39m\u001b[39m.\u001b[39mbcm\u001b[39m.\u001b[39mloglikelihood(\u001b[39m*\u001b[39m\u001b[39m*\u001b[39mkwargs)\n\u001b[0;32m     64\u001b[0m outputs[\u001b[39m0\u001b[39m][\u001b[39m0\u001b[39m] \u001b[39m=\u001b[39m np\u001b[39m.\u001b[39marray(logl)\n",
      "    \u001b[1;31m[... skipping hidden 12 frame]\u001b[0m\n",
      "File \u001b[1;32mc:\\Users\\vbui0010\\Anaconda3\\envs\\tbdyn\\lib\\site-packages\\estival\\model.py:67\u001b[0m, in \u001b[0;36mBayesianCompartmentalModel._build_logll_funcs.<locals>.logll\u001b[1;34m(**kwargs)\u001b[0m\n\u001b[0;32m     64\u001b[0m \u001b[39m@jit\u001b[39m\n\u001b[0;32m     65\u001b[0m \u001b[39mdef\u001b[39;00m \u001b[39mlogll\u001b[39m(\u001b[39m*\u001b[39m\u001b[39m*\u001b[39mkwargs):\n\u001b[0;32m     66\u001b[0m     dict_args \u001b[39m=\u001b[39m capture_model_kwargs(\u001b[39mself\u001b[39m\u001b[39m.\u001b[39mmodel, \u001b[39m*\u001b[39m\u001b[39m*\u001b[39mkwargs)\n\u001b[1;32m---> 67\u001b[0m     res \u001b[39m=\u001b[39m \u001b[39mself\u001b[39;49m\u001b[39m.\u001b[39;49m_ll_runner\u001b[39m.\u001b[39;49m_run_func(dict_args)[\u001b[39m\"\u001b[39m\u001b[39mderived_outputs\u001b[39m\u001b[39m\"\u001b[39m]\n\u001b[0;32m     69\u001b[0m     logdens \u001b[39m=\u001b[39m \u001b[39m0.0\u001b[39m\n\u001b[0;32m     70\u001b[0m     \u001b[39mfor\u001b[39;00m tk, te \u001b[39min\u001b[39;00m \u001b[39mself\u001b[39m\u001b[39m.\u001b[39m_evaluators\u001b[39m.\u001b[39mitems():\n",
      "    \u001b[1;31m[... skipping hidden 12 frame]\u001b[0m\n",
      "File \u001b[1;32mc:\\Users\\vbui0010\\Anaconda3\\envs\\tbdyn\\lib\\site-packages\\summer2\\runner\\jax\\model_impl.py:555\u001b[0m, in \u001b[0;36mbuild_run_model.<locals>.run_model\u001b[1;34m(parameters)\u001b[0m\n\u001b[0;32m    549\u001b[0m compartment_infectiousness \u001b[39m=\u001b[39m get_compartment_infectiousness(static_graph_vals)\n\u001b[0;32m    550\u001b[0m model_data \u001b[39m=\u001b[39m {\n\u001b[0;32m    551\u001b[0m     \u001b[39m\"\u001b[39m\u001b[39mcompartment_infectiousness\u001b[39m\u001b[39m\"\u001b[39m: compartment_infectiousness,\n\u001b[0;32m    552\u001b[0m     \u001b[39m\"\u001b[39m\u001b[39mstatic_flow_weights\u001b[39m\u001b[39m\"\u001b[39m: static_flow_weights,\n\u001b[0;32m    553\u001b[0m }\n\u001b[1;32m--> 555\u001b[0m outputs \u001b[39m=\u001b[39m get_ode_solution(initial_population, times, static_graph_vals, model_data)\n\u001b[0;32m    557\u001b[0m \u001b[39m# # Empty array to kick-start flow rates from outputs\u001b[39;00m\n\u001b[0;32m    558\u001b[0m \u001b[39m# flow_rates_full = jnp.empty((len(m.times), len(m.flows)))\u001b[39;00m\n\u001b[0;32m    559\u001b[0m \n\u001b[1;32m   (...)\u001b[0m\n\u001b[0;32m    575\u001b[0m \u001b[39m#     f, (flow_rates_full, cv_out), jnp.array(range(len(m.times)))\u001b[39;00m\n\u001b[0;32m    576\u001b[0m \u001b[39m# )\u001b[39;00m\n\u001b[0;32m    578\u001b[0m out_flows, out_cv \u001b[39m=\u001b[39m get_flows_for_outputs(outputs, static_graph_vals, model_data)\n",
      "File \u001b[1;32mc:\\Users\\vbui0010\\Anaconda3\\envs\\tbdyn\\lib\\site-packages\\summer2\\runner\\jax\\model_impl.py:460\u001b[0m, in \u001b[0;36mbuild_run_model.<locals>.get_ode_solution\u001b[1;34m(initial_population, times, static_graph_vals, model_data)\u001b[0m\n\u001b[0;32m    459\u001b[0m \u001b[39mdef\u001b[39;00m \u001b[39mget_ode_solution\u001b[39m(initial_population, times, static_graph_vals, model_data):\n\u001b[1;32m--> 460\u001b[0m     \u001b[39mreturn\u001b[39;00m ode\u001b[39m.\u001b[39modeint(\n\u001b[0;32m    461\u001b[0m         get_comp_rates,\n\u001b[0;32m    462\u001b[0m         initial_population,\n\u001b[0;32m    463\u001b[0m         times,\n\u001b[0;32m    464\u001b[0m         static_graph_vals,\n\u001b[0;32m    465\u001b[0m         model_data,\n\u001b[0;32m    466\u001b[0m         \u001b[39m*\u001b[39m\u001b[39m*\u001b[39msolver_args,\n\u001b[0;32m    467\u001b[0m     )\n",
      "File \u001b[1;32mc:\\Users\\vbui0010\\Anaconda3\\envs\\tbdyn\\lib\\site-packages\\summer2\\runner\\jax\\ode.py:216\u001b[0m, in \u001b[0;36modeint\u001b[1;34m(func, y0, t, rtol, atol, mxstep, max_step, *args)\u001b[0m\n\u001b[0;32m    213\u001b[0m \u001b[39mif\u001b[39;00m \u001b[39mnot\u001b[39;00m jnp\u001b[39m.\u001b[39missubdtype(t\u001b[39m.\u001b[39mdtype, jnp\u001b[39m.\u001b[39mfloating):\n\u001b[0;32m    214\u001b[0m     \u001b[39mraise\u001b[39;00m \u001b[39mTypeError\u001b[39;00m(\u001b[39mf\u001b[39m\u001b[39m\"\u001b[39m\u001b[39mt must be an array of floats, but got \u001b[39m\u001b[39m{\u001b[39;00mt\u001b[39m}\u001b[39;00m\u001b[39m.\u001b[39m\u001b[39m\"\u001b[39m)\n\u001b[1;32m--> 216\u001b[0m converted, consts \u001b[39m=\u001b[39m custom_derivatives\u001b[39m.\u001b[39;49mclosure_convert(func, y0, t[\u001b[39m0\u001b[39;49m], \u001b[39m*\u001b[39;49margs)\n\u001b[0;32m    217\u001b[0m \u001b[39mreturn\u001b[39;00m _odeint_wrapper(converted, rtol, atol, mxstep, max_step, y0, t, \u001b[39m*\u001b[39margs, \u001b[39m*\u001b[39mconsts)\n",
      "    \u001b[1;31m[... skipping hidden 8 frame]\u001b[0m\n",
      "File \u001b[1;32mc:\\Users\\vbui0010\\Anaconda3\\envs\\tbdyn\\lib\\site-packages\\summer2\\runner\\jax\\model_impl.py:447\u001b[0m, in \u001b[0;36mbuild_run_model.<locals>.get_comp_rates\u001b[1;34m(comp_vals, t, static_graph_vals, model_data)\u001b[0m\n\u001b[0;32m    446\u001b[0m \u001b[39mdef\u001b[39;00m \u001b[39mget_comp_rates\u001b[39m(comp_vals, t, static_graph_vals, model_data):\n\u001b[1;32m--> 447\u001b[0m     \u001b[39mreturn\u001b[39;00m get_rates(comp_vals, t, static_graph_vals, model_data)[\u001b[39m1\u001b[39m]\n",
      "File \u001b[1;32mc:\\Users\\vbui0010\\Anaconda3\\envs\\tbdyn\\lib\\site-packages\\summer2\\runner\\jax\\model_impl.py:277\u001b[0m, in \u001b[0;36mbuild_get_rates.<locals>.get_rates\u001b[1;34m(compartment_values, time, static_graph_vals, model_data)\u001b[0m\n\u001b[0;32m    276\u001b[0m \u001b[39mdef\u001b[39;00m \u001b[39mget_rates\u001b[39m(compartment_values, time, static_graph_vals, model_data):\n\u001b[1;32m--> 277\u001b[0m     flow_rates, _ \u001b[39m=\u001b[39m get_flow_rates(compartment_values, time, static_graph_vals, model_data)\n\u001b[0;32m    278\u001b[0m     comp_rates \u001b[39m=\u001b[39m get_compartment_rates(compartment_values, flow_rates)\n\u001b[0;32m    280\u001b[0m     \u001b[39mreturn\u001b[39;00m flow_rates, comp_rates\n",
      "File \u001b[1;32mc:\\Users\\vbui0010\\Anaconda3\\envs\\tbdyn\\lib\\site-packages\\summer2\\runner\\jax\\model_impl.py:222\u001b[0m, in \u001b[0;36mbuild_get_flow_rates.<locals>.get_flow_rates\u001b[1;34m(compartment_values, time, static_graph_vals, model_data)\u001b[0m\n\u001b[0;32m    220\u001b[0m \u001b[39m# Calculate infection flows\u001b[39;00m\n\u001b[0;32m    221\u001b[0m \u001b[39mif\u001b[39;00m infect_proc_type:\n\u001b[1;32m--> 222\u001b[0m     infect_mul \u001b[39m=\u001b[39m get_infectious_multipliers(\n\u001b[0;32m    223\u001b[0m         time,\n\u001b[0;32m    224\u001b[0m         compartment_values,\n\u001b[0;32m    225\u001b[0m         ts_graph_vals,\n\u001b[0;32m    226\u001b[0m         model_data[\u001b[39m\"\u001b[39;49m\u001b[39mcompartment_infectiousness\u001b[39;49m\u001b[39m\"\u001b[39;49m],\n\u001b[0;32m    227\u001b[0m     )\n\u001b[0;32m    228\u001b[0m     \u001b[39m# flow_rates = flow_rates.at[infectious_flow_indices].mul(infect_mul)\u001b[39;00m\n\u001b[0;32m    229\u001b[0m     flow_rates \u001b[39m=\u001b[39m flow_rates\u001b[39m.\u001b[39mat[infectious_flow_indices]\u001b[39m.\u001b[39mset(\n\u001b[0;32m    230\u001b[0m         flow_rates[infectious_flow_indices] \u001b[39m*\u001b[39m infect_mul\n\u001b[0;32m    231\u001b[0m     )\n",
      "File \u001b[1;32mc:\\Users\\vbui0010\\Anaconda3\\envs\\tbdyn\\lib\\site-packages\\summer2\\runner\\jax\\model_impl.py:94\u001b[0m, in \u001b[0;36mbuild_get_infectious_multipliers.<locals>.get_infectious_multipliers\u001b[1;34m(time, compartment_values, cur_graph_outputs, compartment_infectiousness)\u001b[0m\n\u001b[0;32m     91\u001b[0m strain_category_indexer \u001b[39m=\u001b[39m runner\u001b[39m.\u001b[39m_strain_category_indexers[strain]\n\u001b[0;32m     93\u001b[0m strain_infectious_values \u001b[39m=\u001b[39m compartment_values[strain_infectious_idx]\n\u001b[1;32m---> 94\u001b[0m strain_values \u001b[39m=\u001b[39m get_force_of_infection(\n\u001b[0;32m     95\u001b[0m     strain_infectious_values,\n\u001b[0;32m     96\u001b[0m     strain_compartment_infectiousness,\n\u001b[0;32m     97\u001b[0m     strain_category_indexer,\n\u001b[0;32m     98\u001b[0m     mixing_matrix,\n\u001b[0;32m     99\u001b[0m     category_populations,\n\u001b[0;32m    100\u001b[0m )\n\u001b[0;32m    101\u001b[0m infection_frequency[strain] \u001b[39m=\u001b[39m strain_values[\u001b[39m\"\u001b[39m\u001b[39minfection_frequency\u001b[39m\u001b[39m\"\u001b[39m]\n\u001b[0;32m    102\u001b[0m infection_density[strain] \u001b[39m=\u001b[39m strain_values[\u001b[39m\"\u001b[39m\u001b[39minfection_density\u001b[39m\u001b[39m\"\u001b[39m]\n",
      "File \u001b[1;32mc:\\Users\\vbui0010\\Anaconda3\\envs\\tbdyn\\lib\\site-packages\\summer2\\runner\\jax\\model_impl.py:53\u001b[0m, in \u001b[0;36mget_force_of_infection\u001b[1;34m(strain_infectious_values, strain_compartment_infectiousness, strain_category_indexer, mixing_matrix, category_populations)\u001b[0m\n\u001b[0;32m     51\u001b[0m infected_values \u001b[39m=\u001b[39m strain_infectious_values \u001b[39m*\u001b[39m strain_compartment_infectiousness\n\u001b[0;32m     52\u001b[0m infectious_populations \u001b[39m=\u001b[39m jnp\u001b[39m.\u001b[39msum(infected_values[strain_category_indexer], axis\u001b[39m=\u001b[39m\u001b[39m-\u001b[39m\u001b[39m1\u001b[39m)\n\u001b[1;32m---> 53\u001b[0m infection_density \u001b[39m=\u001b[39m mixing_matrix \u001b[39m@\u001b[39;49m infectious_populations\n\u001b[0;32m     54\u001b[0m category_prevalence \u001b[39m=\u001b[39m infectious_populations \u001b[39m/\u001b[39m category_populations\n\u001b[0;32m     55\u001b[0m infection_frequency \u001b[39m=\u001b[39m mixing_matrix \u001b[39m@\u001b[39m category_prevalence\n",
      "File \u001b[1;32mc:\\Users\\vbui0010\\Anaconda3\\envs\\tbdyn\\lib\\site-packages\\jax\\_src\\numpy\\array_methods.py:791\u001b[0m, in \u001b[0;36m_forward_operator_to_aval.<locals>.op\u001b[1;34m(self, *args)\u001b[0m\n\u001b[0;32m    790\u001b[0m \u001b[39mdef\u001b[39;00m \u001b[39mop\u001b[39m(\u001b[39mself\u001b[39m, \u001b[39m*\u001b[39margs):\n\u001b[1;32m--> 791\u001b[0m   \u001b[39mreturn\u001b[39;00m \u001b[39mgetattr\u001b[39;49m(\u001b[39mself\u001b[39;49m\u001b[39m.\u001b[39;49maval, \u001b[39mf\u001b[39;49m\u001b[39m\"\u001b[39;49m\u001b[39m_\u001b[39;49m\u001b[39m{\u001b[39;49;00mname\u001b[39m}\u001b[39;49;00m\u001b[39m\"\u001b[39;49m)(\u001b[39mself\u001b[39;49m, \u001b[39m*\u001b[39;49margs)\n",
      "File \u001b[1;32mc:\\Users\\vbui0010\\Anaconda3\\envs\\tbdyn\\lib\\site-packages\\jax\\_src\\numpy\\array_methods.py:258\u001b[0m, in \u001b[0;36m_defer_to_unrecognized_arg.<locals>.deferring_binary_op\u001b[1;34m(self, other)\u001b[0m\n\u001b[0;32m    256\u001b[0m args \u001b[39m=\u001b[39m (other, \u001b[39mself\u001b[39m) \u001b[39mif\u001b[39;00m swap \u001b[39melse\u001b[39;00m (\u001b[39mself\u001b[39m, other)\n\u001b[0;32m    257\u001b[0m \u001b[39mif\u001b[39;00m \u001b[39misinstance\u001b[39m(other, _accepted_binop_types):\n\u001b[1;32m--> 258\u001b[0m   \u001b[39mreturn\u001b[39;00m binary_op(\u001b[39m*\u001b[39;49margs)\n\u001b[0;32m    259\u001b[0m \u001b[39mif\u001b[39;00m \u001b[39misinstance\u001b[39m(other, _rejected_binop_types):\n\u001b[0;32m    260\u001b[0m   \u001b[39mraise\u001b[39;00m \u001b[39mTypeError\u001b[39;00m(\u001b[39mf\u001b[39m\u001b[39m\"\u001b[39m\u001b[39munsupported operand type(s) for \u001b[39m\u001b[39m{\u001b[39;00mopchar\u001b[39m}\u001b[39;00m\u001b[39m: \u001b[39m\u001b[39m\"\u001b[39m\n\u001b[0;32m    261\u001b[0m                   \u001b[39mf\u001b[39m\u001b[39m\"\u001b[39m\u001b[39m{\u001b[39;00m\u001b[39mtype\u001b[39m(args[\u001b[39m0\u001b[39m])\u001b[39m.\u001b[39m\u001b[39m__name__\u001b[39m\u001b[39m!r}\u001b[39;00m\u001b[39m and \u001b[39m\u001b[39m{\u001b[39;00m\u001b[39mtype\u001b[39m(args[\u001b[39m1\u001b[39m])\u001b[39m.\u001b[39m\u001b[39m__name__\u001b[39m\u001b[39m!r}\u001b[39;00m\u001b[39m\"\u001b[39m)\n",
      "    \u001b[1;31m[... skipping hidden 12 frame]\u001b[0m\n",
      "File \u001b[1;32mc:\\Users\\vbui0010\\Anaconda3\\envs\\tbdyn\\lib\\site-packages\\jax\\_src\\numpy\\lax_numpy.py:3127\u001b[0m, in \u001b[0;36mmatmul\u001b[1;34m(a, b, precision)\u001b[0m\n\u001b[0;32m   3125\u001b[0m a \u001b[39m=\u001b[39m lax\u001b[39m.\u001b[39msqueeze(a, \u001b[39mtuple\u001b[39m(a_squeeze))\n\u001b[0;32m   3126\u001b[0m b \u001b[39m=\u001b[39m lax\u001b[39m.\u001b[39msqueeze(b, \u001b[39mtuple\u001b[39m(b_squeeze))\n\u001b[1;32m-> 3127\u001b[0m out \u001b[39m=\u001b[39m lax\u001b[39m.\u001b[39;49mdot_general(\n\u001b[0;32m   3128\u001b[0m   a, b, (((ndim(a) \u001b[39m-\u001b[39;49m \u001b[39m1\u001b[39;49m,), (ndim(b) \u001b[39m-\u001b[39;49m \u001b[39m1\u001b[39;49m \u001b[39m-\u001b[39;49m b_is_mat,)), (a_batch, b_batch)),\n\u001b[0;32m   3129\u001b[0m   precision\u001b[39m=\u001b[39;49mprecision)\n\u001b[0;32m   3130\u001b[0m \u001b[39mreturn\u001b[39;00m lax\u001b[39m.\u001b[39mtranspose(out, perm)\n",
      "    \u001b[1;31m[... skipping hidden 7 frame]\u001b[0m\n",
      "File \u001b[1;32mc:\\Users\\vbui0010\\Anaconda3\\envs\\tbdyn\\lib\\site-packages\\jax\\_src\\lax\\lax.py:2500\u001b[0m, in \u001b[0;36m_dot_general_shape_rule\u001b[1;34m(lhs, rhs, dimension_numbers, precision, preferred_element_type)\u001b[0m\n\u001b[0;32m   2497\u001b[0m \u001b[39mif\u001b[39;00m \u001b[39mnot\u001b[39;00m core\u001b[39m.\u001b[39msymbolic_equal_shape(lhs_contracting_shape, rhs_contracting_shape):\n\u001b[0;32m   2498\u001b[0m   msg \u001b[39m=\u001b[39m (\u001b[39m\"\u001b[39m\u001b[39mdot_general requires contracting dimensions to have the same \u001b[39m\u001b[39m\"\u001b[39m\n\u001b[0;32m   2499\u001b[0m          \u001b[39m\"\u001b[39m\u001b[39mshape, got \u001b[39m\u001b[39m{}\u001b[39;00m\u001b[39m and \u001b[39m\u001b[39m{}\u001b[39;00m\u001b[39m.\u001b[39m\u001b[39m\"\u001b[39m)\n\u001b[1;32m-> 2500\u001b[0m   \u001b[39mraise\u001b[39;00m \u001b[39mTypeError\u001b[39;00m(msg\u001b[39m.\u001b[39mformat(lhs_contracting_shape, rhs_contracting_shape))\n\u001b[0;32m   2502\u001b[0m \u001b[39mreturn\u001b[39;00m _dot_general_shape_computation(lhs\u001b[39m.\u001b[39mshape, rhs\u001b[39m.\u001b[39mshape, dimension_numbers)\n",
      "\u001b[1;31mTypeError\u001b[0m: dot_general requires contracting dimensions to have the same shape, got (6,) and (5,).\nApply node that caused the error: BCMLogLike(start_population_size, contact_rate, rr_infection_latent, rr_infection_recovered, smear_positive_death_rate, smear_negative_death_rate, smear_positive_self_recovery, smear_negative_self_recovery, rr_progression_diabetes, progression_multiplier, acf_scaleup_shape, acf_inflection_time, acf_start_asymp, acf_end_asymp, infect_death_rate_dict.smear_positive, infect_death_rate_dict.smear_negative, self_recovery_rate_dict.smear_positive, self_recovery_rate_dict.smear_negative)\nToposort index: 18\nInputs types: [TensorType(float64, shape=()), TensorType(float64, shape=()), TensorType(float64, shape=()), TensorType(float64, shape=()), TensorType(float64, shape=()), TensorType(float64, shape=()), TensorType(float64, shape=()), TensorType(float64, shape=()), TensorType(float64, shape=()), TensorType(float64, shape=()), TensorType(float64, shape=()), TensorType(float64, shape=()), TensorType(float64, shape=()), TensorType(float64, shape=()), TensorType(float64, shape=()), TensorType(float64, shape=()), TensorType(float64, shape=()), TensorType(float64, shape=())]\nInputs shapes: [(), (), (), (), (), (), (), (), (), (), (), (), (), (), (), (), (), ()]\nInputs strides: [(), (), (), (), (), (), (), (), (), (), (), (), (), (), (), (), (), ()]\nInputs values: [array(227344.75719536), array(0.0094141), array(0.2015), array(0.2), array(0.36433778), array(0.02758831), array(0.20344728), array(0.20832), array(4.5), array(1.1), array(0.05), array(1999.5), array(0.5), array(5.), array(0.392), array(0.026), array(0.2325), array(0.141)]\nOutputs clients: [['output']]\n\nBacktrace when the node is created (use PyTensor flag traceback__limit=N to make it longer):\n  File \"c:\\Users\\vbui0010\\Anaconda3\\envs\\tbdyn\\lib\\site-packages\\IPython\\core\\interactiveshell.py\", line 3009, in run_cell\n    result = self._run_cell(\n  File \"c:\\Users\\vbui0010\\Anaconda3\\envs\\tbdyn\\lib\\site-packages\\IPython\\core\\interactiveshell.py\", line 3064, in _run_cell\n    result = runner(coro)\n  File \"c:\\Users\\vbui0010\\Anaconda3\\envs\\tbdyn\\lib\\site-packages\\IPython\\core\\async_helpers.py\", line 129, in _pseudo_sync_runner\n    coro.send(None)\n  File \"c:\\Users\\vbui0010\\Anaconda3\\envs\\tbdyn\\lib\\site-packages\\IPython\\core\\interactiveshell.py\", line 3269, in run_cell_async\n    has_raised = await self.run_ast_nodes(code_ast.body, cell_name,\n  File \"c:\\Users\\vbui0010\\Anaconda3\\envs\\tbdyn\\lib\\site-packages\\IPython\\core\\interactiveshell.py\", line 3448, in run_ast_nodes\n    if await self.run_code(code, result, async_=asy):\n  File \"c:\\Users\\vbui0010\\Anaconda3\\envs\\tbdyn\\lib\\site-packages\\IPython\\core\\interactiveshell.py\", line 3508, in run_code\n    exec(code_obj, self.user_global_ns, self.user_ns)\n  File \"C:\\Users\\vbui0010\\AppData\\Local\\Temp\\ipykernel_13020\\2541397363.py\", line 3, in <module>\n    variables = epm.use_model(calibration_model)\n  File \"c:\\Users\\vbui0010\\Anaconda3\\envs\\tbdyn\\lib\\site-packages\\estival\\wrappers\\pymc.py\", line 94, in use_model\n    ll = logl(*invars)\n\nHINT: Use the PyTensor flag `exception_verbosity=high` for a debug print-out and storage map footprint of this Apply node."
     ]
    }
   ],
   "source": [
    "with pm.Model() as pmc_model:\n",
    "    start_params = {k: np.clip(v, *calibration_model.priors[k].bounds(0.99)) for k, v in params.items() if k in calibration_model.priors}\n",
    "    variables = epm.use_model(calibration_model)\n",
    "    map_params = pm.find_MAP(start=start_params, vars=variables, include_transformed=False)\n",
    "    map_params = {k: float(v) for k, v in map_params.items()}\n",
    "    print('Best calibration parameters found:')\n",
    "for i_param, param in enumerate(map_params):\n",
    "    print(f'   {param}: {round_sigfig(map_params[param], 4)} (within bound {priors[i_param].bounds()}')"
   ]
  },
  {
   "cell_type": "code",
   "execution_count": null,
   "metadata": {},
   "outputs": [],
   "source": [
    "params.update(map_params)\n",
    "tb_model.run(params)"
   ]
  },
  {
   "cell_type": "code",
   "execution_count": null,
   "metadata": {},
   "outputs": [],
   "source": [
    "derived_df_0 = tb_model.get_derived_outputs_df()"
   ]
  },
  {
   "cell_type": "code",
   "execution_count": null,
   "metadata": {},
   "outputs": [],
   "source": [
    "plots = {\"total_population\": {\n",
    "      \"title\": \"Population size\",\n",
    "      \"output_key\": \"total_population\",\n",
    "      \"times\": [2009.0, 2019.0],\n",
    "      \"values\": [1207100, 1194300],\n",
    "      \"quantiles\": [0.025, 0.25, 0.5, 0.75, 0.975]\n",
    "    },\n",
    "     \"notifications\": {\n",
    "      \"title\": \"Notifications\",\n",
    "      \"output_key\": \"notifications\",\n",
    "      \"times\": [2011.0, 2012.0, 2013.0, 2014.0, 2015.0, 2016.0, 2017.0, 2018.0, 2019.0],\n",
    "      \"values\": [1495, 1485, 1369, 1405, 1642, 1555, 1440, 1468, 1417],\n",
    "      \"quantiles\": [0.025, 0.25, 0.5, 0.75, 0.975]\n",
    "    },\n",
    "    \"percentage_latent\": {\n",
    "      \"title\": \"Percentage Latent\",\n",
    "      \"output_key\": \"percentage_latent\",\n",
    "      \"times\": [2016.0],\n",
    "      \"values\": [30.8],\n",
    "      \"quantiles\": [0.025, 0.25, 0.5, 0.75, 0.975]\n",
    "    },\n",
    "    \n",
    "    }"
   ]
  },
  {
   "cell_type": "code",
   "execution_count": null,
   "metadata": {},
   "outputs": [],
   "source": [
    "fig2_1 = px.line(\n",
    "    derived_df_0,\n",
    "    x=derived_df_0.index,\n",
    "    y=\"total_population\",\n",
    ")\n",
    "fig2_2 = px.scatter(x= plots['total_population']['times'], y = plots['total_population']['values'])\n",
    "fig2_2.update_traces(marker=dict(color=\"red\"))\n",
    "fig2_3 = go.Figure(\n",
    "    data=fig2_1.data + fig2_2.data,\n",
    ")\n",
    "fig2_3.update_layout(\n",
    "    title=\"Modelled vs Data\", title_x=0.5, xaxis_title=\"Year\", yaxis_title=\"Population\"\n",
    ")\n",
    "fig2_3.show()\n"
   ]
  },
  {
   "cell_type": "code",
   "execution_count": null,
   "metadata": {},
   "outputs": [],
   "source": [
    "notif_1 = px.line(\n",
    "    derived_df_0,\n",
    "    x=derived_df_0.index,\n",
    "    y=\"notifications\",\n",
    ")\n",
    "notif_2 = px.scatter(x= plots['notifications']['times'], y = plots['notifications']['values'])\n",
    "notif_2.update_traces(marker=dict(color=\"red\"))\n",
    "notif_plot = go.Figure(\n",
    "    data=notif_1.data + notif_2.data,\n",
    ")\n",
    "notif_plot.update_layout(\n",
    "    title=\"Modelled vs Data\", title_x=0.5, xaxis_title=\"Year\", yaxis_title=\"Notifications\"\n",
    ")\n",
    "notif_plot.show()\n",
    "# notif_fig_name = \"notifications.jpg\"\n",
    "# notif_plot.write_image(SUPPLEMENT_PATH / notif_fig_name)"
   ]
  },
  {
   "cell_type": "code",
   "execution_count": null,
   "metadata": {},
   "outputs": [],
   "source": [
    "prev_plot = px.line(\n",
    "    derived_df_0,\n",
    "    x=derived_df_0.index,\n",
    "    y=\"prevalence_infectious\",\n",
    ")\n",
    "prev_plot.show()\n",
    "# prev_plot.write_image(str(SUPPLEMENT_PATH) + \"/prevalance.jpg\")"
   ]
  },
  {
   "cell_type": "code",
   "execution_count": null,
   "metadata": {},
   "outputs": [],
   "source": [
    "inci_plot = px.line(\n",
    "    derived_df_0,\n",
    "    x=derived_df_0.index,\n",
    "    y=\"incidence\",\n",
    ")\n",
    "inci_plot.show()\n",
    "# inci_plot.write_image(str(SUPPLEMENT_PATH) + \"/incidence.jpg\")"
   ]
  },
  {
   "cell_type": "code",
   "execution_count": null,
   "metadata": {},
   "outputs": [],
   "source": [
    "latent_1 = px.line(\n",
    "    derived_df_0,\n",
    "    x=derived_df_0.index,\n",
    "    y=\"percentage_latent\",\n",
    ")\n",
    "latent_2 = px.scatter(x= plots['percentage_latent']['times'], y = plots['percentage_latent']['values'])\n",
    "latent_2.update_traces(marker=dict(color=\"red\"))\n",
    "latent_plot = go.Figure(\n",
    "    data=latent_1.data + latent_2.data,\n",
    ")\n",
    "latent_plot.update_layout(\n",
    "    title=\"Modelled vs Data\", title_x=0.5, xaxis_title=\"Year\", yaxis_title=\"Percentage latent\"\n",
    ")\n",
    "latent_plot.show()\n",
    "# latent_plot.write_image(str(SUPPLEMENT_PATH) + \"/latent.jpg\")"
   ]
  },
  {
   "cell_type": "code",
   "execution_count": null,
   "metadata": {},
   "outputs": [],
   "source": [
    "section_order = [\n",
    "    'Model Structure', \n",
    "    'Population', \n",
    "    'Stratification', \n",
    "]"
   ]
  },
  {
   "cell_type": "code",
   "execution_count": null,
   "metadata": {},
   "outputs": [],
   "source": [
    "app_doc.write_doc(order=section_order)"
   ]
  }
 ],
 "metadata": {
  "kernelspec": {
   "display_name": "tbdyn",
   "language": "python",
   "name": "python3"
  },
  "language_info": {
   "codemirror_mode": {
    "name": "ipython",
    "version": 3
   },
   "file_extension": ".py",
   "mimetype": "text/x-python",
   "name": "python",
   "nbconvert_exporter": "python",
   "pygments_lexer": "ipython3",
   "version": "3.10.0"
  },
  "orig_nbformat": 4
 },
 "nbformat": 4,
 "nbformat_minor": 2
}
