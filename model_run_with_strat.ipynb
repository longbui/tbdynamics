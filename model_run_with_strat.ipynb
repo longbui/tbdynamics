{
 "cells": [
  {
   "cell_type": "code",
   "execution_count": 1,
   "metadata": {},
   "outputs": [
    {
     "name": "stderr",
     "output_type": "stream",
     "text": [
      "WARNING (pytensor.configdefaults): g++ not available, if using conda: `conda install m2w64-toolchain`\n",
      "WARNING (pytensor.configdefaults): g++ not detected!  PyTensor will be unable to compile C-implementations and will default to Python. Performance may be severely degraded. To remove this warning, set PyTensor flags cxx to an empty string.\n",
      "WARNING (pytensor.tensor.blas): Using NumPy C-API based implementation for BLAS functions.\n"
     ]
    }
   ],
   "source": [
    "import pandas as pd\n",
    "from pathlib import Path\n",
    "import pylatex as pl\n",
    "from pylatex.utils import NoEscape\n",
    "import pymc as pm\n",
    "import arviz as az\n",
    "import nevergrad as ng\n",
    "import plotly.express as px\n",
    "import numpy as np\n",
    "import pandas as pd\n",
    "\n",
    "from estival.model import BayesianCompartmentalModel\n",
    "import estival.priors as esp\n",
    "import estival.targets as est\n",
    "from estival.wrappers import pymc as epm\n",
    "from tbdynamics import model\n",
    "from tbdynamics.inputs import fixed_parameters\n",
    "from tbdynamics.utils import build_contact_matrix, round_sigfig\n",
    "import plotly.graph_objects as go\n",
    "#from emutools.parameters import load_param_info\n",
    "#from emutools.calibration import round_sigfig\n",
    "# from general_utils.doc_utils import TextElement, TableElement, FigElement, add_element_to_document, \\\n",
    "#     save_pyplot_add_to_doc, save_plotly_add_to_doc, compile_doc, generate_doc\n",
    "from emutools.tex import StandardTexDoc\n"
   ]
  },
  {
   "cell_type": "code",
   "execution_count": 2,
   "metadata": {},
   "outputs": [],
   "source": [
    "pd.options.plotting.backend = \"plotly\"\n",
    "time_start = 1800\n",
    "time_end = 2020\n",
    "time_step = 1\n",
    "\n",
    "doc_sections = {}\n",
    "compartments = [\n",
    "    \"susceptible\",\n",
    "    \"early_latent\",\n",
    "    \"late_latent\",\n",
    "    \"infectious\",\n",
    "    \"on_treatment\",\n",
    "    \"recovered\",\n",
    "]\n",
    "infectious_compartments = [\n",
    "    \"infectious\",\n",
    "    \"on_treatment\",\n",
    "]\n",
    "\n",
    "latent_compartments = [\n",
    "    \"early_latent\",\n",
    "    \"late_latent\",\n",
    "]\n",
    "age_strata = [0,5,15,35,50]"
   ]
  },
  {
   "cell_type": "code",
   "execution_count": 3,
   "metadata": {},
   "outputs": [],
   "source": [
    "PROJECT_PATH = Path().resolve()\n",
    "DATA_PATH = PROJECT_PATH / 'data'\n",
    "SUPPLEMENT_PATH = PROJECT_PATH / 'supplement'"
   ]
  },
  {
   "cell_type": "code",
   "execution_count": 4,
   "metadata": {},
   "outputs": [],
   "source": [
    "params = {\n",
    "    \"contact_rate\": 0.009414102898074345,\n",
    "    \"start_population_size\": 227344.75719536067,\n",
    "    \"cdr_adjustment\": 0.6,\n",
    "    \"progression_multiplier\": 1.1,\n",
    "    \"infectious_seed\": 1,\n",
    "    \"rr_infection_latent\": 0.2,\n",
    "    \"rr_infection_recovered\": 0.2,\n",
    "    \"infect_death_rate_unstratified\": 0.21,\n",
    "    \"on_treatment_infect_multiplier\": 0.08,\n",
    "    'smear_positive_death_rate':0.364337776897486,\n",
    "    'smear_negative_death_rate': 0.027588310343242016, \n",
    "    'smear_positive_self_recovery': 0.20344728302826143,\n",
    "    'smear_negative_self_recovery': 0.22723824998716693,\n",
    "    'rr_progression_diabetes': 4.5\n",
    "}"
   ]
  },
  {
   "cell_type": "code",
   "execution_count": 5,
   "metadata": {},
   "outputs": [],
   "source": [
    "matrix = build_contact_matrix()"
   ]
  },
  {
   "cell_type": "code",
   "execution_count": 6,
   "metadata": {},
   "outputs": [],
   "source": [
    "app_doc = StandardTexDoc(PROJECT_PATH / 'supplement', 'supplement', \"TB dynamics Supplement\", 'tb')"
   ]
  },
  {
   "cell_type": "code",
   "execution_count": 7,
   "metadata": {},
   "outputs": [],
   "source": [
    "tb_model = model.build_model(\n",
    "    compartments,\n",
    "    infectious_compartments,\n",
    "    latent_compartments,\n",
    "    age_strata,\n",
    "    time_start,\n",
    "    time_end,\n",
    "    time_step,\n",
    "    matrix,\n",
    "    fixed_parameters,\n",
    "    app_doc\n",
    ")"
   ]
  },
  {
   "cell_type": "code",
   "execution_count": 8,
   "metadata": {},
   "outputs": [
    {
     "ename": "NetworkXError",
     "evalue": "The node notifications is not in the digraph.",
     "output_type": "error",
     "traceback": [
      "\u001b[1;31m---------------------------------------------------------------------------\u001b[0m",
      "\u001b[1;31mKeyError\u001b[0m                                  Traceback (most recent call last)",
      "File \u001b[1;32m~\\AppData\\Roaming\\Python\\Python310\\site-packages\\networkx\\classes\\digraph.py:882\u001b[0m, in \u001b[0;36mDiGraph.predecessors\u001b[1;34m(self, n)\u001b[0m\n\u001b[0;32m    881\u001b[0m \u001b[39mtry\u001b[39;00m:\n\u001b[1;32m--> 882\u001b[0m     \u001b[39mreturn\u001b[39;00m \u001b[39miter\u001b[39m(\u001b[39mself\u001b[39;49m\u001b[39m.\u001b[39;49m_pred[n])\n\u001b[0;32m    883\u001b[0m \u001b[39mexcept\u001b[39;00m \u001b[39mKeyError\u001b[39;00m \u001b[39mas\u001b[39;00m err:\n",
      "\u001b[1;31mKeyError\u001b[0m: 'notifications'",
      "\nThe above exception was the direct cause of the following exception:\n",
      "\u001b[1;31mNetworkXError\u001b[0m                             Traceback (most recent call last)",
      "\u001b[1;32mc:\\Users\\vbui0010\\tbdynamics\\model_run_with_strat.ipynb Cell 8\u001b[0m line \u001b[0;36m3\n\u001b[0;32m     <a href='vscode-notebook-cell:/c%3A/Users/vbui0010/tbdynamics/model_run_with_strat.ipynb#X10sZmlsZQ%3D%3D?line=24'>25</a>\u001b[0m latent \u001b[39m=\u001b[39m pd\u001b[39m.\u001b[39mSeries({\u001b[39m2016\u001b[39m:\u001b[39m36\u001b[39m})\n\u001b[0;32m     <a href='vscode-notebook-cell:/c%3A/Users/vbui0010/tbdynamics/model_run_with_strat.ipynb#X10sZmlsZQ%3D%3D?line=26'>27</a>\u001b[0m targets \u001b[39m=\u001b[39m [\n\u001b[0;32m     <a href='vscode-notebook-cell:/c%3A/Users/vbui0010/tbdynamics/model_run_with_strat.ipynb#X10sZmlsZQ%3D%3D?line=27'>28</a>\u001b[0m     est\u001b[39m.\u001b[39mNegativeBinomialTarget(\u001b[39m'\u001b[39m\u001b[39mtotal_population\u001b[39m\u001b[39m'\u001b[39m, pop, dispersion_param\u001b[39m=\u001b[39m\u001b[39m2000\u001b[39m),\n\u001b[0;32m     <a href='vscode-notebook-cell:/c%3A/Users/vbui0010/tbdynamics/model_run_with_strat.ipynb#X10sZmlsZQ%3D%3D?line=28'>29</a>\u001b[0m     est\u001b[39m.\u001b[39mNegativeBinomialTarget(\u001b[39m'\u001b[39m\u001b[39mnotifications\u001b[39m\u001b[39m'\u001b[39m, notif, dispersion_param\u001b[39m=\u001b[39m\u001b[39m50\u001b[39m),\n\u001b[0;32m     <a href='vscode-notebook-cell:/c%3A/Users/vbui0010/tbdynamics/model_run_with_strat.ipynb#X10sZmlsZQ%3D%3D?line=29'>30</a>\u001b[0m     est\u001b[39m.\u001b[39mNormalTarget(\u001b[39m'\u001b[39m\u001b[39mpercentage_latent\u001b[39m\u001b[39m'\u001b[39m, latent, stdev\u001b[39m=\u001b[39m\u001b[39m5\u001b[39m)\n\u001b[0;32m     <a href='vscode-notebook-cell:/c%3A/Users/vbui0010/tbdynamics/model_run_with_strat.ipynb#X10sZmlsZQ%3D%3D?line=30'>31</a>\u001b[0m ]\n\u001b[1;32m---> <a href='vscode-notebook-cell:/c%3A/Users/vbui0010/tbdynamics/model_run_with_strat.ipynb#X10sZmlsZQ%3D%3D?line=31'>32</a>\u001b[0m calibration_model \u001b[39m=\u001b[39m BayesianCompartmentalModel(tb_model, params, priors, targets)\n",
      "File \u001b[1;32mc:\\Users\\vbui0010\\Anaconda3\\envs\\tbdyn\\lib\\site-packages\\estival\\model.py:43\u001b[0m, in \u001b[0;36mBayesianCompartmentalModel.__init__\u001b[1;34m(self, model, parameters, priors, targets, extra_ll)\u001b[0m\n\u001b[0;32m     40\u001b[0m     \u001b[39mself\u001b[39m\u001b[39m.\u001b[39m_ref_idx \u001b[39m=\u001b[39m pd\u001b[39m.\u001b[39mIndex(\u001b[39mself\u001b[39m\u001b[39m.\u001b[39m_ref_idx)\n\u001b[0;32m     41\u001b[0m \u001b[39mself\u001b[39m\u001b[39m.\u001b[39mepoch \u001b[39m=\u001b[39m \u001b[39mself\u001b[39m\u001b[39m.\u001b[39mmodel\u001b[39m.\u001b[39mget_epoch()\n\u001b[1;32m---> 43\u001b[0m \u001b[39mself\u001b[39;49m\u001b[39m.\u001b[39;49m_build_logll_funcs(extra_ll)\n",
      "File \u001b[1;32mc:\\Users\\vbui0010\\Anaconda3\\envs\\tbdyn\\lib\\site-packages\\estival\\model.py:50\u001b[0m, in \u001b[0;36mBayesianCompartmentalModel._build_logll_funcs\u001b[1;34m(self, extra_ll)\u001b[0m\n\u001b[0;32m     47\u001b[0m dyn_params \u001b[39m=\u001b[39m \u001b[39mlist\u001b[39m(model_params\u001b[39m.\u001b[39mintersection(\u001b[39mset\u001b[39m(\u001b[39mself\u001b[39m\u001b[39m.\u001b[39mpriors)))\n\u001b[0;32m     48\u001b[0m \u001b[39mself\u001b[39m\u001b[39m.\u001b[39mmodel\u001b[39m.\u001b[39mset_derived_outputs_whitelist(\u001b[39mlist\u001b[39m(\u001b[39mself\u001b[39m\u001b[39m.\u001b[39mtargets))\n\u001b[1;32m---> 50\u001b[0m \u001b[39mself\u001b[39m\u001b[39m.\u001b[39m_ll_runner \u001b[39m=\u001b[39m \u001b[39mself\u001b[39;49m\u001b[39m.\u001b[39;49mmodel\u001b[39m.\u001b[39;49mget_runner(\n\u001b[0;32m     51\u001b[0m     \u001b[39mself\u001b[39;49m\u001b[39m.\u001b[39;49mparameters, dyn_params, include_full_outputs\u001b[39m=\u001b[39;49m\u001b[39mFalse\u001b[39;49;00m\n\u001b[0;32m     52\u001b[0m )\n\u001b[0;32m     54\u001b[0m \u001b[39mself\u001b[39m\u001b[39m.\u001b[39mmodel\u001b[39m.\u001b[39mset_derived_outputs_whitelist([])\n\u001b[0;32m     55\u001b[0m \u001b[39mself\u001b[39m\u001b[39m.\u001b[39m_full_runner \u001b[39m=\u001b[39m \u001b[39mself\u001b[39m\u001b[39m.\u001b[39mmodel\u001b[39m.\u001b[39mget_runner(\n\u001b[0;32m     56\u001b[0m     \u001b[39mself\u001b[39m\u001b[39m.\u001b[39mparameters, dyn_params, include_full_outputs\u001b[39m=\u001b[39m\u001b[39mFalse\u001b[39;00m\n\u001b[0;32m     57\u001b[0m )\n",
      "File \u001b[1;32mc:\\Users\\vbui0010\\Anaconda3\\envs\\tbdyn\\lib\\site-packages\\summer2\\model.py:945\u001b[0m, in \u001b[0;36mCompartmentalModel.get_runner\u001b[1;34m(self, parameters, dyn_params, jit, include_full_outputs, **backend_args)\u001b[0m\n\u001b[0;32m    942\u001b[0m \u001b[39mif\u001b[39;00m \u001b[39mself\u001b[39m\u001b[39m.\u001b[39mbuilder:\n\u001b[0;32m    943\u001b[0m     parameters \u001b[39m=\u001b[39m {k: \u001b[39mself\u001b[39m\u001b[39m.\u001b[39m_type_validators[k](v) \u001b[39mfor\u001b[39;00m k, v \u001b[39min\u001b[39;00m parameters\u001b[39m.\u001b[39mitems()}\n\u001b[1;32m--> 945\u001b[0m jax_run_func, jax_runner_dict \u001b[39m=\u001b[39m build_run_model(\n\u001b[0;32m    946\u001b[0m     \u001b[39mself\u001b[39m\u001b[39m.\u001b[39m_backend,\n\u001b[0;32m    947\u001b[0m     base_params\u001b[39m=\u001b[39mparameters,\n\u001b[0;32m    948\u001b[0m     dyn_params\u001b[39m=\u001b[39mdyn_params,\n\u001b[0;32m    949\u001b[0m     include_full_outputs\u001b[39m=\u001b[39minclude_full_outputs,\n\u001b[0;32m    950\u001b[0m     \u001b[39m*\u001b[39m\u001b[39m*\u001b[39mbackend_args,\n\u001b[0;32m    951\u001b[0m )\n\u001b[0;32m    952\u001b[0m \u001b[39mif\u001b[39;00m jit:\n\u001b[0;32m    953\u001b[0m     \u001b[39mfrom\u001b[39;00m \u001b[39mjax\u001b[39;00m \u001b[39mimport\u001b[39;00m jit \u001b[39mas\u001b[39;00m jjit\n",
      "File \u001b[1;32mc:\\Users\\vbui0010\\Anaconda3\\envs\\tbdyn\\lib\\site-packages\\summer2\\runner\\jax\\model_impl.py:491\u001b[0m, in \u001b[0;36mbuild_run_model\u001b[1;34m(runner, base_params, dyn_params, solver, solver_args, derived_outputs, include_full_outputs)\u001b[0m\n\u001b[0;32m    488\u001b[0m calc_initial_pop \u001b[39m=\u001b[39m get_calculate_initial_pop(runner\u001b[39m.\u001b[39mmodel)\n\u001b[0;32m    489\u001b[0m get_compartment_infectiousness \u001b[39m=\u001b[39m build_get_compartment_infectiousness(runner\u001b[39m.\u001b[39mmodel)\n\u001b[1;32m--> 491\u001b[0m do_cg, calc_derived_outputs \u001b[39m=\u001b[39m build_derived_outputs_runner(\n\u001b[0;32m    492\u001b[0m     runner\u001b[39m.\u001b[39;49mmodel, whitelist\u001b[39m=\u001b[39;49mderived_outputs\n\u001b[0;32m    493\u001b[0m )\n\u001b[0;32m    495\u001b[0m m \u001b[39m=\u001b[39m runner\u001b[39m.\u001b[39mmodel\n\u001b[0;32m    496\u001b[0m dag_keys \u001b[39m=\u001b[39m \u001b[39mlist\u001b[39m(m\u001b[39m.\u001b[39mgraph\u001b[39m.\u001b[39mdag)\n",
      "File \u001b[1;32mc:\\Users\\vbui0010\\Anaconda3\\envs\\tbdyn\\lib\\site-packages\\summer2\\runner\\jax\\derived_outputs.py:147\u001b[0m, in \u001b[0;36mbuild_derived_outputs_runner\u001b[1;34m(model, whitelist, jit_compile)\u001b[0m\n\u001b[0;32m    145\u001b[0m \u001b[39mif\u001b[39;00m whitelist:\n\u001b[0;32m    146\u001b[0m     out_keys \u001b[39m=\u001b[39m whitelist\n\u001b[1;32m--> 147\u001b[0m     cg \u001b[39m=\u001b[39m cg\u001b[39m.\u001b[39;49mfilter(targets\u001b[39m=\u001b[39;49mout_keys)\n\u001b[0;32m    149\u001b[0m out_func \u001b[39m=\u001b[39m cg\u001b[39m.\u001b[39mget_callable(targets\u001b[39m=\u001b[39mout_keys)\n\u001b[0;32m    150\u001b[0m \u001b[39mif\u001b[39;00m jit_compile:\n",
      "File \u001b[1;32mc:\\Users\\vbui0010\\Anaconda3\\envs\\tbdyn\\lib\\site-packages\\computegraph\\graph.py:178\u001b[0m, in \u001b[0;36mComputeGraph.filter\u001b[1;34m(self, targets, sources, exclude, ptargets)\u001b[0m\n\u001b[0;32m    176\u001b[0m \u001b[39mif\u001b[39;00m ptargets \u001b[39mis\u001b[39;00m \u001b[39mNone\u001b[39;00m:\n\u001b[0;32m    177\u001b[0m     ptargets \u001b[39m=\u001b[39m targets\n\u001b[1;32m--> 178\u001b[0m \u001b[39mreturn\u001b[39;00m filter_graph(\u001b[39mself\u001b[39;49m, targets, sources, exclude, ptargets)\n",
      "File \u001b[1;32mc:\\Users\\vbui0010\\Anaconda3\\envs\\tbdyn\\lib\\site-packages\\computegraph\\utils.py:378\u001b[0m, in \u001b[0;36mfilter_graph\u001b[1;34m(cg, targets, sources, exclude, ptargets)\u001b[0m\n\u001b[0;32m    376\u001b[0m     nodes \u001b[39m=\u001b[39m nodes\u001b[39m.\u001b[39munion(nx\u001b[39m.\u001b[39mdescendants(cg\u001b[39m.\u001b[39mdag, s))\n\u001b[0;32m    377\u001b[0m \u001b[39mfor\u001b[39;00m n \u001b[39min\u001b[39;00m \u001b[39mlist\u001b[39m(nodes):\n\u001b[1;32m--> 378\u001b[0m     nodes \u001b[39m=\u001b[39m nodes\u001b[39m.\u001b[39munion(nx\u001b[39m.\u001b[39;49mancestors(cg\u001b[39m.\u001b[39;49mdag, n))\n\u001b[0;32m    380\u001b[0m \u001b[39mfor\u001b[39;00m t \u001b[39min\u001b[39;00m targets:\n\u001b[0;32m    381\u001b[0m     nodes \u001b[39m=\u001b[39m nodes\u001b[39m.\u001b[39munion(nx\u001b[39m.\u001b[39mancestors(cg\u001b[39m.\u001b[39mdag, t))\n",
      "File \u001b[1;32m~\\AppData\\Roaming\\Python\\Python310\\site-packages\\networkx\\algorithms\\dag.py:97\u001b[0m, in \u001b[0;36mancestors\u001b[1;34m(G, source)\u001b[0m\n\u001b[0;32m     69\u001b[0m \u001b[39mdef\u001b[39;00m \u001b[39mancestors\u001b[39m(G, source):\n\u001b[0;32m     70\u001b[0m \u001b[39m    \u001b[39m\u001b[39m\"\"\"Returns all nodes having a path to `source` in `G`.\u001b[39;00m\n\u001b[0;32m     71\u001b[0m \n\u001b[0;32m     72\u001b[0m \u001b[39m    Parameters\u001b[39;00m\n\u001b[1;32m   (...)\u001b[0m\n\u001b[0;32m     95\u001b[0m \u001b[39m    descendants\u001b[39;00m\n\u001b[0;32m     96\u001b[0m \u001b[39m    \"\"\"\u001b[39;00m\n\u001b[1;32m---> 97\u001b[0m     \u001b[39mreturn\u001b[39;00m {child \u001b[39mfor\u001b[39;00m parent, child \u001b[39min\u001b[39;00m nx\u001b[39m.\u001b[39mbfs_edges(G, source, reverse\u001b[39m=\u001b[39m\u001b[39mTrue\u001b[39;00m)}\n",
      "File \u001b[1;32m~\\AppData\\Roaming\\Python\\Python310\\site-packages\\networkx\\algorithms\\dag.py:97\u001b[0m, in \u001b[0;36m<setcomp>\u001b[1;34m(.0)\u001b[0m\n\u001b[0;32m     69\u001b[0m \u001b[39mdef\u001b[39;00m \u001b[39mancestors\u001b[39m(G, source):\n\u001b[0;32m     70\u001b[0m \u001b[39m    \u001b[39m\u001b[39m\"\"\"Returns all nodes having a path to `source` in `G`.\u001b[39;00m\n\u001b[0;32m     71\u001b[0m \n\u001b[0;32m     72\u001b[0m \u001b[39m    Parameters\u001b[39;00m\n\u001b[1;32m   (...)\u001b[0m\n\u001b[0;32m     95\u001b[0m \u001b[39m    descendants\u001b[39;00m\n\u001b[0;32m     96\u001b[0m \u001b[39m    \"\"\"\u001b[39;00m\n\u001b[1;32m---> 97\u001b[0m     \u001b[39mreturn\u001b[39;00m {child \u001b[39mfor\u001b[39;00m parent, child \u001b[39min\u001b[39;00m nx\u001b[39m.\u001b[39mbfs_edges(G, source, reverse\u001b[39m=\u001b[39m\u001b[39mTrue\u001b[39;00m)}\n",
      "File \u001b[1;32m~\\AppData\\Roaming\\Python\\Python310\\site-packages\\networkx\\algorithms\\traversal\\breadth_first_search.py:169\u001b[0m, in \u001b[0;36mbfs_edges\u001b[1;34m(G, source, reverse, depth_limit, sort_neighbors)\u001b[0m\n\u001b[0;32m    167\u001b[0m \u001b[39melse\u001b[39;00m:\n\u001b[0;32m    168\u001b[0m     successors \u001b[39m=\u001b[39m G\u001b[39m.\u001b[39mneighbors\n\u001b[1;32m--> 169\u001b[0m \u001b[39myield from\u001b[39;00m generic_bfs_edges(G, source, successors, depth_limit, sort_neighbors)\n",
      "File \u001b[1;32m~\\AppData\\Roaming\\Python\\Python310\\site-packages\\networkx\\algorithms\\traversal\\breadth_first_search.py:77\u001b[0m, in \u001b[0;36mgeneric_bfs_edges\u001b[1;34m(G, source, neighbors, depth_limit, sort_neighbors)\u001b[0m\n\u001b[0;32m     75\u001b[0m \u001b[39mif\u001b[39;00m depth_limit \u001b[39mis\u001b[39;00m \u001b[39mNone\u001b[39;00m:\n\u001b[0;32m     76\u001b[0m     depth_limit \u001b[39m=\u001b[39m \u001b[39mlen\u001b[39m(G)\n\u001b[1;32m---> 77\u001b[0m queue \u001b[39m=\u001b[39m deque([(source, depth_limit, neighbors(source))])\n\u001b[0;32m     78\u001b[0m \u001b[39mwhile\u001b[39;00m queue:\n\u001b[0;32m     79\u001b[0m     parent, depth_now, children \u001b[39m=\u001b[39m queue[\u001b[39m0\u001b[39m]\n",
      "File \u001b[1;32m~\\AppData\\Roaming\\Python\\Python310\\site-packages\\networkx\\classes\\digraph.py:884\u001b[0m, in \u001b[0;36mDiGraph.predecessors\u001b[1;34m(self, n)\u001b[0m\n\u001b[0;32m    882\u001b[0m     \u001b[39mreturn\u001b[39;00m \u001b[39miter\u001b[39m(\u001b[39mself\u001b[39m\u001b[39m.\u001b[39m_pred[n])\n\u001b[0;32m    883\u001b[0m \u001b[39mexcept\u001b[39;00m \u001b[39mKeyError\u001b[39;00m \u001b[39mas\u001b[39;00m err:\n\u001b[1;32m--> 884\u001b[0m     \u001b[39mraise\u001b[39;00m NetworkXError(\u001b[39mf\u001b[39m\u001b[39m\"\u001b[39m\u001b[39mThe node \u001b[39m\u001b[39m{\u001b[39;00mn\u001b[39m}\u001b[39;00m\u001b[39m is not in the digraph.\u001b[39m\u001b[39m\"\u001b[39m) \u001b[39mfrom\u001b[39;00m \u001b[39merr\u001b[39;00m\n",
      "\u001b[1;31mNetworkXError\u001b[0m: The node notifications is not in the digraph."
     ]
    }
   ],
   "source": [
    "priors = [\n",
    "    esp.UniformPrior(\"start_population_size\", (1, 300000)),\n",
    "    esp.UniformPrior(\"contact_rate\", (0.0001, 0.02)),\n",
    "    esp.UniformPrior(\"rr_infection_latent\", (0.2, 0.5)),\n",
    "    esp.UniformPrior(\"rr_infection_recovered\", (0.1, 0.5)),\n",
    "    esp.UniformPrior(\"smear_positive_death_rate\", (0.335, 0.449)),\n",
    "    esp.UniformPrior(\"smear_negative_death_rate\", (0.017, 0.035)),\n",
    "    esp.UniformPrior(\"smear_positive_self_recovery\", (0.177, 0.288)),\n",
    "    esp.UniformPrior(\"smear_negative_self_recovery\", (0.073, 0.209)),\n",
    "    esp.UniformPrior(\"rr_progression_diabetes\", (2.0, 10.0)),\n",
    "    esp.UniformPrior(\"progression_multiplier\", (0.1, 2.0)),\n",
    "    esp.UniformPrior(\"acf_scaleup_shape\", (0.,0.1)),\n",
    "    esp.UniformPrior(\"acf_inflection_time\", (1980,2019)),\n",
    "    esp.UniformPrior(\"acf_start_asymp\", (0.,1.)),\n",
    "    esp.UniformPrior(\"acf_end_asymp\", (0.,10.)),\n",
    "    # UniformPrior(\"cdr_adjustment\", [0.6, 1.0]),\n",
    "    esp.UniformPrior(\"infect_death_rate_dict.smear_positive\", [0.335, 0.449]),\n",
    "    esp.UniformPrior(\"infect_death_rate_dict.smear_negative\", [0.017, 0.035]),\n",
    "    esp.UniformPrior(\"self_recovery_rate_dict.smear_positive\", [0.177, 0.288]),\n",
    "    esp.UniformPrior(\"self_recovery_rate_dict.smear_negative\", [0.073, 0.209]),\n",
    "    esp.UniformPrior(\"rr_progression_diabetes\", [1, 10]),\n",
    "]\n",
    "pop = pd.Series({2009: 1207100, 2019: 1194300})\n",
    "notif = pd.Series({2011: 1495,2012: 1485,2013: 1369,2014:1405,2015:1642, 2016:1555, 2017:1440, 2018:1468, 2019:1417})\n",
    "latent = pd.Series({2016:36})\n",
    "\n",
    "targets = [\n",
    "    est.NegativeBinomialTarget('total_population', pop, dispersion_param=2000),\n",
    "    # est.NegativeBinomialTarget('notifications', notif, dispersion_param=50),\n",
    "    est.NormalTarget('percentage_latent', latent, stdev=5)\n",
    "]\n",
    "calibration_model = BayesianCompartmentalModel(tb_model, params, priors, targets)"
   ]
  },
  {
   "cell_type": "code",
   "execution_count": null,
   "metadata": {},
   "outputs": [],
   "source": [
    "with pm.Model() as pmc_model:\n",
    "    start_params = {k: np.clip(v, *calibration_model.priors[k].bounds(0.99)) for k, v in params.items() if k in calibration_model.priors}\n",
    "    variables = epm.use_model(calibration_model)\n",
    "    map_params = pm.find_MAP(start=start_params, vars=variables, include_transformed=False)\n",
    "    map_params = {k: float(v) for k, v in map_params.items()}\n",
    "    print('Best calibration parameters found:')\n",
    "for i_param, param in enumerate(map_params):\n",
    "    print(f'   {param}: {round_sigfig(map_params[param], 4)} (within bound {priors[i_param].bounds()}')"
   ]
  },
  {
   "cell_type": "code",
   "execution_count": null,
   "metadata": {},
   "outputs": [],
   "source": [
    "params.update(map_params)\n",
    "tb_model.run(params)"
   ]
  },
  {
   "cell_type": "code",
   "execution_count": null,
   "metadata": {},
   "outputs": [],
   "source": [
    "derived_df_0 = tb_model.get_derived_outputs_df()"
   ]
  },
  {
   "cell_type": "code",
   "execution_count": null,
   "metadata": {},
   "outputs": [],
   "source": [
    "plots = {\"total_population\": {\n",
    "      \"title\": \"Population size\",\n",
    "      \"output_key\": \"total_population\",\n",
    "      \"times\": [2009.0, 2019.0],\n",
    "      \"values\": [1207100, 1194300],\n",
    "      \"quantiles\": [0.025, 0.25, 0.5, 0.75, 0.975]\n",
    "    },\n",
    "     \"notifications\": {\n",
    "      \"title\": \"Notifications\",\n",
    "      \"output_key\": \"notifications\",\n",
    "      \"times\": [2011.0, 2012.0, 2013.0, 2014.0, 2015.0, 2016.0, 2017.0, 2018.0, 2019.0],\n",
    "      \"values\": [1495, 1485, 1369, 1405, 1642, 1555, 1440, 1468, 1417],\n",
    "      \"quantiles\": [0.025, 0.25, 0.5, 0.75, 0.975]\n",
    "    },\n",
    "    \"percentage_latent\": {\n",
    "      \"title\": \"Percentage Latent\",\n",
    "      \"output_key\": \"percentage_latent\",\n",
    "      \"times\": [2016.0],\n",
    "      \"values\": [30.8],\n",
    "      \"quantiles\": [0.025, 0.25, 0.5, 0.75, 0.975]\n",
    "    },\n",
    "    \n",
    "    }"
   ]
  },
  {
   "cell_type": "code",
   "execution_count": null,
   "metadata": {},
   "outputs": [],
   "source": [
    "fig2_1 = px.line(\n",
    "    derived_df_0,\n",
    "    x=derived_df_0.index,\n",
    "    y=\"total_population\",\n",
    ")\n",
    "fig2_2 = px.scatter(x= plots['total_population']['times'], y = plots['total_population']['values'])\n",
    "fig2_2.update_traces(marker=dict(color=\"red\"))\n",
    "fig2_3 = go.Figure(\n",
    "    data=fig2_1.data + fig2_2.data,\n",
    ")\n",
    "fig2_3.update_layout(\n",
    "    title=\"Modelled vs Data\", title_x=0.5, xaxis_title=\"Year\", yaxis_title=\"Population\"\n",
    ")\n",
    "fig2_3.show()\n"
   ]
  },
  {
   "cell_type": "code",
   "execution_count": null,
   "metadata": {},
   "outputs": [],
   "source": [
    "notif_1 = px.line(\n",
    "    derived_df_0,\n",
    "    x=derived_df_0.index,\n",
    "    y=\"notifications\",\n",
    ")\n",
    "notif_2 = px.scatter(x= plots['notifications']['times'], y = plots['notifications']['values'])\n",
    "notif_2.update_traces(marker=dict(color=\"red\"))\n",
    "notif_plot = go.Figure(\n",
    "    data=notif_1.data + notif_2.data,\n",
    ")\n",
    "notif_plot.update_layout(\n",
    "    title=\"Modelled vs Data\", title_x=0.5, xaxis_title=\"Year\", yaxis_title=\"Notifications\"\n",
    ")\n",
    "notif_plot.show()\n",
    "# notif_fig_name = \"notifications.jpg\"\n",
    "# notif_plot.write_image(SUPPLEMENT_PATH / notif_fig_name)"
   ]
  },
  {
   "cell_type": "code",
   "execution_count": null,
   "metadata": {},
   "outputs": [],
   "source": [
    "prev_plot = px.line(\n",
    "    derived_df_0,\n",
    "    x=derived_df_0.index,\n",
    "    y=\"prevalence_infectious\",\n",
    ")\n",
    "prev_plot.show()\n",
    "# prev_plot.write_image(str(SUPPLEMENT_PATH) + \"/prevalance.jpg\")"
   ]
  },
  {
   "cell_type": "code",
   "execution_count": null,
   "metadata": {},
   "outputs": [],
   "source": [
    "inci_plot = px.line(\n",
    "    derived_df_0,\n",
    "    x=derived_df_0.index,\n",
    "    y=\"incidence\",\n",
    ")\n",
    "inci_plot.show()\n",
    "# inci_plot.write_image(str(SUPPLEMENT_PATH) + \"/incidence.jpg\")"
   ]
  },
  {
   "cell_type": "code",
   "execution_count": null,
   "metadata": {},
   "outputs": [],
   "source": [
    "latent_1 = px.line(\n",
    "    derived_df_0,\n",
    "    x=derived_df_0.index,\n",
    "    y=\"percentage_latent\",\n",
    ")\n",
    "latent_2 = px.scatter(x= plots['percentage_latent']['times'], y = plots['percentage_latent']['values'])\n",
    "latent_2.update_traces(marker=dict(color=\"red\"))\n",
    "latent_plot = go.Figure(\n",
    "    data=latent_1.data + latent_2.data,\n",
    ")\n",
    "latent_plot.update_layout(\n",
    "    title=\"Modelled vs Data\", title_x=0.5, xaxis_title=\"Year\", yaxis_title=\"Percentage latent\"\n",
    ")\n",
    "latent_plot.show()\n",
    "# latent_plot.write_image(str(SUPPLEMENT_PATH) + \"/latent.jpg\")"
   ]
  },
  {
   "cell_type": "code",
   "execution_count": null,
   "metadata": {},
   "outputs": [],
   "source": [
    "section_order = [\n",
    "    'Model Structure', \n",
    "    'Population', \n",
    "    'Stratification', \n",
    "]"
   ]
  },
  {
   "cell_type": "code",
   "execution_count": null,
   "metadata": {},
   "outputs": [],
   "source": [
    "app_doc.write_doc(order=section_order)"
   ]
  }
 ],
 "metadata": {
  "kernelspec": {
   "display_name": "tbdyn",
   "language": "python",
   "name": "python3"
  },
  "language_info": {
   "codemirror_mode": {
    "name": "ipython",
    "version": 3
   },
   "file_extension": ".py",
   "mimetype": "text/x-python",
   "name": "python",
   "nbconvert_exporter": "python",
   "pygments_lexer": "ipython3",
   "version": "3.10.0"
  },
  "orig_nbformat": 4
 },
 "nbformat": 4,
 "nbformat_minor": 2
}
