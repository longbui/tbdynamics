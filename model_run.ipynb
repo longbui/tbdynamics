{
 "cells": [
  {
   "cell_type": "code",
   "execution_count": null,
   "metadata": {},
   "outputs": [],
   "source": [
    "import pandas as pd\n",
    "from tbdynamics.constants import (\n",
    "    age_strata,\n",
    "    organ_strata,\n",
    "    compartments,\n",
    "\n",
    ")\n",
    "from tbdynamics.plotting import plot_model_vs_actual\n",
    "import nevergrad as ng\n",
    "\n",
    "# Import our convenience wrapper\n",
    "from estival.wrappers.nevergrad import optimize_model\n",
    "from tbdynamics.calib_utils import get_bcm, load_targets\n",
    "from multiprocessing import cpu_count"
   ]
  },
  {
   "cell_type": "code",
   "execution_count": null,
   "metadata": {},
   "outputs": [],
   "source": [
    "pd.options.plotting.backend = \"plotly\""
   ]
  },
  {
   "cell_type": "markdown",
   "metadata": {},
   "source": [
    "## Define Model"
   ]
  },
  {
   "cell_type": "markdown",
   "metadata": {},
   "source": [
    "### Params and calibration targets"
   ]
  },
  {
   "cell_type": "code",
   "execution_count": null,
   "metadata": {},
   "outputs": [],
   "source": [
    "params = {\n",
    "    'treatment_duration': 0.5, # 6 months\n",
    "    'screening_start_asymp': 0.,\n",
    "}\n",
    "\n",
    "bcm = get_bcm(params)"
   ]
  },
  {
   "cell_type": "markdown",
   "metadata": {},
   "source": [
    "### Running Optimization"
   ]
  },
  {
   "cell_type": "code",
   "execution_count": null,
   "metadata": {},
   "outputs": [],
   "source": [
    "# self_recovery_constraint = lambda params: params[\"smear_negative_self_recovery\"] - params[\"smear_positive_self_recovery\"]\n",
    "# # Create a suggested dictionary with constraints\n",
    "# suggested = {\n",
    "#     'constraint_self_recovery': self_recovery_constraint\n",
    "# }\n",
    "# # Get the number of CPU cores\n",
    "# num_cores = cpu_count()\n",
    "# # Set the number of workers for parallel optimization\n",
    "# num_workers = num_cores\n",
    "# opt_class = ng.optimizers.TwoPointsDE\n",
    "# orunner = optimize_model(bcm, opt_class=opt_class,suggested=suggested, num_workers=num_cores)\n",
    "# for i in range(8):\n",
    "#     rec = orunner.minimize(1000)\n",
    "# mle_params = rec.value[1]\n",
    "# mle_params\n",
    "   "
   ]
  },
  {
   "cell_type": "code",
   "execution_count": null,
   "metadata": {},
   "outputs": [],
   "source": [
    " mle_params = {'start_population_size': 2000286.9833452152,\n",
    " 'contact_rate': 0.006049616464180551,\n",
    " 'rr_infection_latent': 0.23006954238214838,\n",
    " 'rr_infection_recovered': 0.22466566363600388,\n",
    " 'progression_multiplier': 1.2487696283456124,\n",
    " 'seed_time': 1890.1388496601014,\n",
    " 'seed_num': 86.29293425240547,\n",
    " 'seed_duration': 1.2831367062620362,\n",
    " 'smear_positive_death_rate': 0.34122555603279875,\n",
    " 'smear_negative_death_rate': 0.030757277091233527,\n",
    " 'smear_positive_self_recovery': 0.20944123090302655,\n",
    " 'smear_negative_self_recovery': 0.10857850614221899,\n",
    " 'screening_scaleup_shape': 0.08878607354436534,\n",
    " 'screening_inflection_time': 1993.4152158420968,\n",
    " 'screening_end_asymp': 0.635603639378687}"
   ]
  },
  {
   "cell_type": "code",
   "execution_count": null,
   "metadata": {},
   "outputs": [],
   "source": [
    "res = bcm.run(mle_params)\n",
    "derived_df_0 = res.derived_outputs\n",
    "targets = load_targets()"
   ]
  },
  {
   "cell_type": "markdown",
   "metadata": {},
   "source": [
    "### Outputs"
   ]
  },
  {
   "cell_type": "code",
   "execution_count": null,
   "metadata": {},
   "outputs": [],
   "source": [
    "plot_model_vs_actual(\n",
    "    derived_df_0, targets['pop'], \"total_population\", \"Population\", \"Modelled vs Data\"\n",
    ")"
   ]
  },
  {
   "cell_type": "code",
   "execution_count": null,
   "metadata": {},
   "outputs": [],
   "source": [
    "derived_df_0[[f\"total_populationXage_{i}\" for i in age_strata]].plot(\n",
    "    title=\"Modelled populatation by age group\", kind=\"area\"\n",
    ")"
   ]
  },
  {
   "cell_type": "code",
   "execution_count": null,
   "metadata": {},
   "outputs": [],
   "source": [
    "\n",
    "plot_model_vs_actual(\n",
    "    derived_df_0, targets['incidence'], \"incidence\", \"Incidence\", \"Modelled vs Data\"\n",
    ")"
   ]
  },
  {
   "cell_type": "code",
   "execution_count": null,
   "metadata": {},
   "outputs": [],
   "source": [
    "derived_df_0[[f\"prop_{compartment}\" for compartment in compartments]].plot(kind=\"area\")"
   ]
  },
  {
   "cell_type": "code",
   "execution_count": null,
   "metadata": {},
   "outputs": [],
   "source": [
    "derived_df_0[[f\"total_populationXorgan_{i}\" for i in organ_strata]].plot(\n",
    "    title=\"Modelled populatation by organ status\", kind=\"area\"\n",
    ")"
   ]
  },
  {
   "cell_type": "code",
   "execution_count": null,
   "metadata": {},
   "outputs": [],
   "source": [
    "plot_model_vs_actual(\n",
    "    derived_df_0, targets['notifs'], \"notification\", \"Notification\", \"Modelled vs Data\"\n",
    ")"
   ]
  },
  {
   "cell_type": "code",
   "execution_count": null,
   "metadata": {},
   "outputs": [],
   "source": [
    "plot_model_vs_actual(\n",
    "    derived_df_0, targets['percentage_latent'], \"percentage_latent\", \"Percentage latent\", \"Modelled vs Data\"\n",
    ")"
   ]
  },
  {
   "cell_type": "code",
   "execution_count": null,
   "metadata": {},
   "outputs": [],
   "source": [
    "derived_df_0['cdr'].plot()"
   ]
  },
  {
   "cell_type": "code",
   "execution_count": null,
   "metadata": {},
   "outputs": [],
   "source": [
    "plot_model_vs_actual(derived_df_0, targets['prevalence_pulmonary'], 'prevalence_infectious', 'Infectious prevalence', 'Modelled vs Estimation from 2017 prevalence survey')\n"
   ]
  }
 ],
 "metadata": {
  "kernelspec": {
   "display_name": "tbdyn",
   "language": "python",
   "name": "python3"
  },
  "language_info": {
   "codemirror_mode": {
    "name": "ipython",
    "version": 3
   },
   "file_extension": ".py",
   "mimetype": "text/x-python",
   "name": "python",
   "nbconvert_exporter": "python",
   "pygments_lexer": "ipython3",
   "version": "3.10.13"
  }
 },
 "nbformat": 4,
 "nbformat_minor": 2
}
