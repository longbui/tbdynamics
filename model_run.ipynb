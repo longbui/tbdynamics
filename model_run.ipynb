{
 "cells": [
  {
   "cell_type": "code",
   "execution_count": null,
   "metadata": {},
   "outputs": [],
   "source": [
    "import pandas as pd\n",
    "from pathlib import Path\n",
    "import pylatex as pl\n",
    "from pylatex.utils import NoEscape\n",
    "import pymc as pm\n",
    "import arviz as az\n",
    "import nevergrad as ng\n",
    "import plotly.express as px\n",
    "import numpy as np\n",
    "import pandas as pd\n",
    "\n",
    "from estival.model import BayesianCompartmentalModel\n",
    "import estival.priors as esp\n",
    "import estival.targets as est\n",
    "from estival.wrappers import pymc as epm\n",
    "from tbdynamics import model\n",
    "from tbdynamics.inputs import *\n",
    "from tbdynamics.utils import build_contact_matrix\n",
    "import plotly.graph_objects as go\n",
    "from general_utils.parameter_utils import load_param_info\n",
    "from general_utils.calibration_utils import round_sigfig\n",
    "from general_utils.doc_utils import TextElement, TableElement, FigElement, add_element_to_document, \\\n",
    "    save_pyplot_add_to_doc, save_plotly_add_to_doc, compile_doc, generate_doc\n",
    "from general_utils.tex_utils import StandardTexDoc\n"
   ]
  },
  {
   "cell_type": "code",
   "execution_count": null,
   "metadata": {},
   "outputs": [],
   "source": [
    "pd.options.plotting.backend = \"plotly\"\n",
    "time_start = 1800\n",
    "time_end = 2020\n",
    "time_step = 1\n",
    "\n",
    "doc_sections = {}\n",
    "compartments = [\n",
    "    \"susceptible\",\n",
    "    \"early_latent\",\n",
    "    \"late_latent\",\n",
    "    \"infectious\",\n",
    "    \"on_treatment\",\n",
    "    \"recovered\",\n",
    "]\n",
    "infectious_compartments = [\n",
    "    \"infectious\",\n",
    "    \"on_treatment\",\n",
    "]\n",
    "\n",
    "latent_compartments = [\n",
    "    \"early_latent\",\n",
    "    \"late_latent\",\n",
    "]\n",
    "age_strata = [0,5,15,35,50]"
   ]
  },
  {
   "cell_type": "code",
   "execution_count": null,
   "metadata": {},
   "outputs": [],
   "source": [
    "PROJECT_PATH = Path().resolve()\n",
    "DATA_PATH = PROJECT_PATH / 'data'\n",
    "SUPPLEMENT_PATH = PROJECT_PATH / 'supplement'"
   ]
  },
  {
   "cell_type": "code",
   "execution_count": null,
   "metadata": {},
   "outputs": [],
   "source": [
    "params = {\n",
    "    \"contact_rate\": 0.009414102898074345,\n",
    "    \"start_population_size\": 227344.75719536067,\n",
    "    \"cdr_adjustment\": 0.6,\n",
    "    \"progression_multiplier\": 1.1,\n",
    "    \"infectious_seed\": 1,\n",
    "    \"rr_infection_latent\": 0.2,\n",
    "    \"rr_infection_recovered\": 0.2,\n",
    "    \"infect_death_rate_unstratified\": 0.21,\n",
    "    \"on_treatment_infect_multiplier\": 0.08,\n",
    "    'smear_positive_death_rate':0.364337776897486,\n",
    "    'smear_negative_death_rate': 0.027588310343242016, \n",
    "    'smear_positive_self_recovery': 0.20344728302826143,\n",
    "    'smear_negative_self_recovery': 0.22723824998716693,\n",
    "    'rr_progression_diabetes': 4.5\n",
    "}"
   ]
  },
  {
   "cell_type": "code",
   "execution_count": null,
   "metadata": {},
   "outputs": [],
   "source": [
    "matrix = build_contact_matrix()"
   ]
  },
  {
   "cell_type": "code",
   "execution_count": null,
   "metadata": {},
   "outputs": [],
   "source": [
    "app_doc = StandardTexDoc(PROJECT_PATH / 'supplement', 'supplement', \"TB dynamics Supplement\", 'austcovid')"
   ]
  },
  {
   "cell_type": "code",
   "execution_count": null,
   "metadata": {},
   "outputs": [],
   "source": [
    "tb_model = model.build_model(\n",
    "    compartments,\n",
    "    infectious_compartments,\n",
    "    latent_compartments,\n",
    "    age_strata,\n",
    "    time_start,\n",
    "    time_end,\n",
    "    time_step,\n",
    "    matrix,\n",
    "    fixed_parameters,\n",
    "    app_doc\n",
    ")"
   ]
  },
  {
   "cell_type": "code",
   "execution_count": null,
   "metadata": {},
   "outputs": [],
   "source": [
    "priors = [\n",
    "    esp.UniformPrior(\"start_population_size\", (150000, 300000)),\n",
    "    esp.UniformPrior(\"contact_rate\", (0.0001, 0.02)),\n",
    "    #UniformPrior(\"infectious_seed\", [100, 2000]),\n",
    "    esp.UniformPrior(\"rr_infection_latent\", (0.2, 0.5)),\n",
    "    esp.UniformPrior(\"rr_infection_recovered\", (0.1, 0.5)),\n",
    "    esp.UniformPrior(\"smear_positive_death_rate\", (0.335, 0.449)),\n",
    "    esp.UniformPrior(\"smear_negative_death_rate\", (0.017, 0.035)),\n",
    "    esp.UniformPrior(\"smear_positive_self_recovery\", (0.177, 0.288)),\n",
    "    esp.UniformPrior(\"smear_negative_self_recovery\", (0.073, 0.209)),\n",
    "    esp.UniformPrior(\"cdr_adjustment\", (0.6, 1.0)),\\\n",
    "    esp. UniformPrior(\"rr_progression_diabetes\", (2.0, 6.0))\n",
    "    # UniformPrior(\"progression_multiplier\", (0.1, 2.0)),\n",
    "    # UniformPrior(\"cdr_adjustment\", [0.6, 1.0]),\n",
    "    # UniformPrior(\"infect_death_rate_dict.smear_positive\", [0.335, 0.449]),\n",
    "    # UniformPrior(\"infect_death_rate_dict.smear_negative\", [0.017, 0.035]),\n",
    "    # UniformPrior(\"self_recovery_rate_dict.smear_positive\", [0.177, 0.288]),\n",
    "    # UniformPrior(\"self_recovery_rate_dict.smear_negative\", [0.073, 0.209]),\n",
    "    # UniformPrior(\"rr_progression_diabetes\", [1, 10]),\n",
    "]\n",
    "pop = pd.Series({2009: 1207100, 2019: 1194300})\n",
    "notif = pd.Series({2011: 1495,2012: 1485,2013: 1369,2014:1405,2015:1642, 2016:1555, 2017:1440, 2018:1468, 2019:1417})\n",
    "latent = pd.Series({2016:36})\n",
    "\n",
    "targets = [\n",
    "    est.NegativeBinomialTarget('notifications', notif, dispersion_param=50),\n",
    "]\n",
    "calibration_model = BayesianCompartmentalModel(tb_model, params, priors, targets)"
   ]
  },
  {
   "cell_type": "code",
   "execution_count": null,
   "metadata": {},
   "outputs": [],
   "source": [
    "with pm.Model() as pmc_model:\n",
    "    start_params = {k: np.clip(v, *calibration_model.priors[k].bounds(0.99)) for k, v in params.items() if k in calibration_model.priors}\n",
    "    variables = epm.use_model(calibration_model)\n",
    "    map_params = pm.find_MAP(start=start_params, vars=variables, include_transformed=False)\n",
    "    map_params = {k: float(v) for k, v in map_params.items()}\n",
    "    print('Best calibration parameters found:')\n",
    "for i_param, param in enumerate(map_params):\n",
    "    print(f'   {param}: {round_sigfig(map_params[param], 4)} (within bound {priors[i_param].bounds()}')"
   ]
  },
  {
   "cell_type": "code",
   "execution_count": null,
   "metadata": {},
   "outputs": [],
   "source": [
    "params.update(map_params)\n",
    "tb_model.run(params)"
   ]
  },
  {
   "cell_type": "code",
   "execution_count": null,
   "metadata": {},
   "outputs": [],
   "source": [
    "derived_df_0 = tb_model.get_derived_outputs_df()"
   ]
  },
  {
   "cell_type": "code",
   "execution_count": null,
   "metadata": {},
   "outputs": [],
   "source": [
    "plots = {\"total_population\": {\n",
    "      \"title\": \"Population size\",\n",
    "      \"output_key\": \"total_population\",\n",
    "      \"times\": [2009.0, 2019.0],\n",
    "      \"values\": [1207100, 1194300],\n",
    "      \"quantiles\": [0.025, 0.25, 0.5, 0.75, 0.975]\n",
    "    },\n",
    "     \"notifications\": {\n",
    "      \"title\": \"Notifications\",\n",
    "      \"output_key\": \"notifications\",\n",
    "      \"times\": [2011.0, 2012.0, 2013.0, 2014.0, 2015.0, 2016.0, 2017.0, 2018.0, 2019.0],\n",
    "      \"values\": [1495, 1485, 1369, 1405, 1642, 1555, 1440, 1468, 1417],\n",
    "      \"quantiles\": [0.025, 0.25, 0.5, 0.75, 0.975]\n",
    "    },\n",
    "    \"percentage_latent\": {\n",
    "      \"title\": \"Percentage Latent\",\n",
    "      \"output_key\": \"percentage_latent\",\n",
    "      \"times\": [2016.0],\n",
    "      \"values\": [30.8],\n",
    "      \"quantiles\": [0.025, 0.25, 0.5, 0.75, 0.975]\n",
    "    },\n",
    "    \n",
    "    }"
   ]
  },
  {
   "cell_type": "code",
   "execution_count": null,
   "metadata": {},
   "outputs": [],
   "source": [
    "fig2_1 = px.line(\n",
    "    derived_df_0,\n",
    "    x=derived_df_0.index,\n",
    "    y=\"total_population\",\n",
    ")\n",
    "fig2_2 = px.scatter(x= plots['total_population']['times'], y = plots['total_population']['values'])\n",
    "fig2_2.update_traces(marker=dict(color=\"red\"))\n",
    "fig2_3 = go.Figure(\n",
    "    data=fig2_1.data + fig2_2.data,\n",
    ")\n",
    "fig2_3.update_layout(\n",
    "    title=\"Modelled vs Data\", title_x=0.5, xaxis_title=\"Year\", yaxis_title=\"Population\"\n",
    ")\n",
    "fig2_3.show()\n"
   ]
  },
  {
   "cell_type": "code",
   "execution_count": null,
   "metadata": {},
   "outputs": [],
   "source": [
    "notif_1 = px.line(\n",
    "    derived_df_0,\n",
    "    x=derived_df_0.index,\n",
    "    y=\"notifications\",\n",
    ")\n",
    "notif_2 = px.scatter(x= plots['notifications']['times'], y = plots['notifications']['values'])\n",
    "notif_2.update_traces(marker=dict(color=\"red\"))\n",
    "notif_plot = go.Figure(\n",
    "    data=notif_1.data + notif_2.data,\n",
    ")\n",
    "notif_plot.update_layout(\n",
    "    title=\"Modelled vs Data\", title_x=0.5, xaxis_title=\"Year\", yaxis_title=\"Notifications\"\n",
    ")\n",
    "notif_plot.show()\n",
    "# notif_fig_name = \"notifications.jpg\"\n",
    "# notif_plot.write_image(SUPPLEMENT_PATH / notif_fig_name)"
   ]
  },
  {
   "cell_type": "code",
   "execution_count": null,
   "metadata": {},
   "outputs": [],
   "source": [
    "prev_plot = px.line(\n",
    "    derived_df_0,\n",
    "    x=derived_df_0.index,\n",
    "    y=\"prevalence_infectious\",\n",
    ")\n",
    "prev_plot.show()\n",
    "# prev_plot.write_image(str(SUPPLEMENT_PATH) + \"/prevalance.jpg\")"
   ]
  },
  {
   "cell_type": "code",
   "execution_count": null,
   "metadata": {},
   "outputs": [],
   "source": [
    "inci_plot = px.line(\n",
    "    derived_df_0,\n",
    "    x=derived_df_0.index,\n",
    "    y=\"incidence\",\n",
    ")\n",
    "inci_plot.show()\n",
    "# inci_plot.write_image(str(SUPPLEMENT_PATH) + \"/incidence.jpg\")"
   ]
  },
  {
   "cell_type": "code",
   "execution_count": null,
   "metadata": {},
   "outputs": [],
   "source": [
    "latent_1 = px.line(\n",
    "    derived_df_0,\n",
    "    x=derived_df_0.index,\n",
    "    y=\"percentage_latent\",\n",
    ")\n",
    "latent_2 = px.scatter(x= plots['percentage_latent']['times'], y = plots['percentage_latent']['values'])\n",
    "latent_2.update_traces(marker=dict(color=\"red\"))\n",
    "latent_plot = go.Figure(\n",
    "    data=latent_1.data + latent_2.data,\n",
    ")\n",
    "latent_plot.update_layout(\n",
    "    title=\"Modelled vs Data\", title_x=0.5, xaxis_title=\"Year\", yaxis_title=\"Percentage latent\"\n",
    ")\n",
    "latent_plot.show()\n",
    "# latent_plot.write_image(str(SUPPLEMENT_PATH) + \"/latent.jpg\")"
   ]
  },
  {
   "cell_type": "code",
   "execution_count": null,
   "metadata": {},
   "outputs": [],
   "source": [
    "import multiprocessing as mp\n",
    "import platform\n",
    "\n",
    "if platform.system() != \"Windows\":\n",
    "    mp.set_start_method('forkserver')"
   ]
  },
  {
   "cell_type": "code",
   "execution_count": null,
   "metadata": {},
   "outputs": [],
   "source": [
    "with pm.Model() as model:\n",
    "    \n",
    "    # This is all you need - a single call to use_model\n",
    "    variables = epm.use_model(calibration_model)\n",
    "    \n",
    "    # The log-posterior value can also be output, but may incur additional overhead\n",
    "    # Use jacobian=False to get the unwarped value (ie just the 'native' density of the priors\n",
    "    # without transformation correction factors)\n",
    "    # pm.Deterministic(\"logp\", model.logp(jacobian=False))\n",
    "    \n",
    "    # Now call a sampler using the variables from use_model\n",
    "    # In this case we use the Differential Evolution Metropolis sampler\n",
    "    # See the PyMC docs for more details\n",
    "    idata = pm.sample(step=[pm.DEMetropolis(variables)], draws=4000, tune=0,cores=4,chains=4)"
   ]
  },
  {
   "cell_type": "code",
   "execution_count": null,
   "metadata": {},
   "outputs": [],
   "source": [
    "import arviz as az"
   ]
  },
  {
   "cell_type": "code",
   "execution_count": null,
   "metadata": {},
   "outputs": [],
   "source": [
    "az.plot_trace(idata, figsize=(16,3.2*len(idata.posterior)),compact=False);#, lines=[(\"m\", {}, mtrue), (\"c\", {}, ctrue)]);\n",
    "az.plot_posterior(idata);"
   ]
  }
 ],
 "metadata": {
  "kernelspec": {
   "display_name": "tbdyn",
   "language": "python",
   "name": "python3"
  },
  "language_info": {
   "codemirror_mode": {
    "name": "ipython",
    "version": 3
   },
   "file_extension": ".py",
   "mimetype": "text/x-python",
   "name": "python",
   "nbconvert_exporter": "python",
   "pygments_lexer": "ipython3",
   "version": "3.10.0"
  },
  "orig_nbformat": 4
 },
 "nbformat": 4,
 "nbformat_minor": 2
}
