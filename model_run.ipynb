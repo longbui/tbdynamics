{
 "cells": [
  {
   "cell_type": "code",
   "execution_count": 1,
   "metadata": {},
   "outputs": [
    {
     "name": "stderr",
     "output_type": "stream",
     "text": [
      "WARNING (pytensor.tensor.blas): Using NumPy C-API based implementation for BLAS functions.\n"
     ]
    }
   ],
   "source": [
    "import pandas as pd\n",
    "from pathlib import Path\n",
    "import pylatex as pl\n",
    "from pylatex.utils import NoEscape\n",
    "import pymc as pm\n",
    "import arviz as az\n",
    "import nevergrad as ng\n",
    "import plotly.express as px\n",
    "import numpy as np\n",
    "import pandas as pd\n",
    "\n",
    "from estival.model import BayesianCompartmentalModel\n",
    "import estival.priors as esp\n",
    "import estival.targets as est\n",
    "from estival.wrappers import pymc as epm\n",
    "from tbdynamics import model\n",
    "from tbdynamics.inputs import *\n",
    "from tbdynamics.utils import build_contact_matrix\n",
    "import plotly.graph_objects as go\n",
    "from general_utils.parameter_utils import load_param_info\n",
    "from general_utils.calibration_utils import round_sigfig\n",
    "from general_utils.doc_utils import TextElement, TableElement, FigElement, add_element_to_document, \\\n",
    "    save_pyplot_add_to_doc, save_plotly_add_to_doc, compile_doc, generate_doc\n"
   ]
  },
  {
   "cell_type": "code",
   "execution_count": null,
   "metadata": {},
   "outputs": [],
   "source": []
  },
  {
   "cell_type": "code",
   "execution_count": 2,
   "metadata": {},
   "outputs": [],
   "source": [
    "pd.options.plotting.backend = \"plotly\"\n",
    "time_start = 1800\n",
    "time_end = 2020\n",
    "time_step = 1\n",
    "\n",
    "doc_sections = {}\n",
    "compartments = [\n",
    "    \"susceptible\",\n",
    "    \"early_latent\",\n",
    "    \"late_latent\",\n",
    "    \"infectious\",\n",
    "    \"on_treatment\",\n",
    "    \"recovered\",\n",
    "]\n",
    "infectious_compartments = [\n",
    "    \"infectious\",\n",
    "    \"on_treatment\",\n",
    "]\n",
    "\n",
    "latent_compartments = [\n",
    "    \"early_latent\",\n",
    "    \"late_latent\",\n",
    "]\n",
    "age_strata = [0,5,15,35,50]"
   ]
  },
  {
   "cell_type": "code",
   "execution_count": 3,
   "metadata": {},
   "outputs": [],
   "source": [
    "params = {\n",
    "    \"contact_rate\": 0.009414102898074345,\n",
    "    \"start_population_size\": 227344.75719536067,\n",
    "    \"cdr_adjustment\": 0.6,\n",
    "    \"progression_multiplier\": 1.1,\n",
    "    \"infectious_seed\": 1,\n",
    "    \"rr_infection_latent\": 0.2,\n",
    "    \"rr_infection_recovered\": 0.2,\n",
    "    \"infect_death_rate_unstratified\": 0.21,\n",
    "    \"on_treatment_infect_multiplier\": 0.08,\n",
    "    'smear_positive_death_rate':0.364337776897486,\n",
    "    'smear_negative_death_rate': 0.027588310343242016, \n",
    "    'smear_positive_self_recovery': 0.20344728302826143,\n",
    "    'smear_negative_self_recovery': 0.22723824998716693,\n",
    "    'rr_progression_diabetes': 4.5\n",
    "}"
   ]
  },
  {
   "cell_type": "code",
   "execution_count": 4,
   "metadata": {},
   "outputs": [],
   "source": [
    "matrix = build_contact_matrix()"
   ]
  },
  {
   "cell_type": "code",
   "execution_count": 5,
   "metadata": {},
   "outputs": [
    {
     "ename": "TypeError",
     "evalue": "build_model() missing 1 required positional argument: 'tex_doc'",
     "output_type": "error",
     "traceback": [
      "\u001b[1;31m---------------------------------------------------------------------------\u001b[0m",
      "\u001b[1;31mTypeError\u001b[0m                                 Traceback (most recent call last)",
      "Cell \u001b[1;32mIn[5], line 1\u001b[0m\n\u001b[1;32m----> 1\u001b[0m tb_model \u001b[39m=\u001b[39m model\u001b[39m.\u001b[39;49mbuild_model(\n\u001b[0;32m      2\u001b[0m     compartments,\n\u001b[0;32m      3\u001b[0m     infectious_compartments,\n\u001b[0;32m      4\u001b[0m     latent_compartments,\n\u001b[0;32m      5\u001b[0m     age_strata,\n\u001b[0;32m      6\u001b[0m     time_start,\n\u001b[0;32m      7\u001b[0m     time_end,\n\u001b[0;32m      8\u001b[0m     time_step,\n\u001b[0;32m      9\u001b[0m     matrix,\n\u001b[0;32m     10\u001b[0m     fixed_parameters\n\u001b[0;32m     11\u001b[0m )\n",
      "\u001b[1;31mTypeError\u001b[0m: build_model() missing 1 required positional argument: 'tex_doc'"
     ]
    }
   ],
   "source": [
    "tb_model = model.build_model(\n",
    "    compartments,\n",
    "    infectious_compartments,\n",
    "    latent_compartments,\n",
    "    age_strata,\n",
    "    time_start,\n",
    "    time_end,\n",
    "    time_step,\n",
    "    matrix,\n",
    "    fixed_parameters\n",
    ")"
   ]
  },
  {
   "cell_type": "code",
   "execution_count": 6,
   "metadata": {},
   "outputs": [],
   "source": [
    "tb_model.run(params)"
   ]
  },
  {
   "cell_type": "code",
   "execution_count": 7,
   "metadata": {},
   "outputs": [
    {
     "data": {
      "text/html": [
       "<div>\n",
       "<style scoped>\n",
       "    .dataframe tbody tr th:only-of-type {\n",
       "        vertical-align: middle;\n",
       "    }\n",
       "\n",
       "    .dataframe tbody tr th {\n",
       "        vertical-align: top;\n",
       "    }\n",
       "\n",
       "    .dataframe thead th {\n",
       "        text-align: right;\n",
       "    }\n",
       "</style>\n",
       "<table border=\"1\" class=\"dataframe\">\n",
       "  <thead>\n",
       "    <tr style=\"text-align: right;\">\n",
       "      <th></th>\n",
       "      <th>susceptibleXage_0</th>\n",
       "      <th>susceptibleXage_5</th>\n",
       "      <th>susceptibleXage_15</th>\n",
       "      <th>susceptibleXage_35</th>\n",
       "      <th>susceptibleXage_50</th>\n",
       "      <th>early_latentXage_0</th>\n",
       "      <th>early_latentXage_5</th>\n",
       "      <th>early_latentXage_15</th>\n",
       "      <th>early_latentXage_35</th>\n",
       "      <th>early_latentXage_50</th>\n",
       "      <th>...</th>\n",
       "      <th>on_treatmentXage_35Xorgan_smear_negative</th>\n",
       "      <th>on_treatmentXage_35Xorgan_extrapulmonary</th>\n",
       "      <th>on_treatmentXage_50Xorgan_smear_positive</th>\n",
       "      <th>on_treatmentXage_50Xorgan_smear_negative</th>\n",
       "      <th>on_treatmentXage_50Xorgan_extrapulmonary</th>\n",
       "      <th>recoveredXage_0</th>\n",
       "      <th>recoveredXage_5</th>\n",
       "      <th>recoveredXage_15</th>\n",
       "      <th>recoveredXage_35</th>\n",
       "      <th>recoveredXage_50</th>\n",
       "    </tr>\n",
       "  </thead>\n",
       "  <tbody>\n",
       "    <tr>\n",
       "      <th>1800.0</th>\n",
       "      <td>45468.751439</td>\n",
       "      <td>45468.751439</td>\n",
       "      <td>45468.751439</td>\n",
       "      <td>45468.751439</td>\n",
       "      <td>45468.751439</td>\n",
       "      <td>0.000000</td>\n",
       "      <td>0.000000</td>\n",
       "      <td>0.000000</td>\n",
       "      <td>0.000000</td>\n",
       "      <td>0.000000</td>\n",
       "      <td>...</td>\n",
       "      <td>0.000000</td>\n",
       "      <td>0.000000</td>\n",
       "      <td>0.000000</td>\n",
       "      <td>0.000000</td>\n",
       "      <td>0.000000</td>\n",
       "      <td>0.000000</td>\n",
       "      <td>0.000000</td>\n",
       "      <td>0.000000</td>\n",
       "      <td>0.000000</td>\n",
       "      <td>0.000000</td>\n",
       "    </tr>\n",
       "    <tr>\n",
       "      <th>1801.0</th>\n",
       "      <td>43449.793912</td>\n",
       "      <td>49336.200918</td>\n",
       "      <td>47742.505398</td>\n",
       "      <td>44380.262668</td>\n",
       "      <td>42249.029760</td>\n",
       "      <td>0.051564</td>\n",
       "      <td>0.142818</td>\n",
       "      <td>0.833813</td>\n",
       "      <td>0.966561</td>\n",
       "      <td>1.096797</td>\n",
       "      <td>...</td>\n",
       "      <td>0.002632</td>\n",
       "      <td>0.001850</td>\n",
       "      <td>0.003729</td>\n",
       "      <td>0.002577</td>\n",
       "      <td>0.001804</td>\n",
       "      <td>0.001618</td>\n",
       "      <td>0.002166</td>\n",
       "      <td>0.001976</td>\n",
       "      <td>0.001853</td>\n",
       "      <td>0.001804</td>\n",
       "    </tr>\n",
       "    <tr>\n",
       "      <th>1802.0</th>\n",
       "      <td>41878.700824</td>\n",
       "      <td>52477.062934</td>\n",
       "      <td>50237.557766</td>\n",
       "      <td>43485.898575</td>\n",
       "      <td>39392.497914</td>\n",
       "      <td>0.071791</td>\n",
       "      <td>0.220817</td>\n",
       "      <td>1.346890</td>\n",
       "      <td>1.482029</td>\n",
       "      <td>1.620565</td>\n",
       "      <td>...</td>\n",
       "      <td>0.004410</td>\n",
       "      <td>0.002972</td>\n",
       "      <td>0.007138</td>\n",
       "      <td>0.004266</td>\n",
       "      <td>0.002846</td>\n",
       "      <td>0.004900</td>\n",
       "      <td>0.008371</td>\n",
       "      <td>0.007320</td>\n",
       "      <td>0.006474</td>\n",
       "      <td>0.006183</td>\n",
       "    </tr>\n",
       "    <tr>\n",
       "      <th>1803.0</th>\n",
       "      <td>40673.487220</td>\n",
       "      <td>55040.740696</td>\n",
       "      <td>52878.603003</td>\n",
       "      <td>42779.563136</td>\n",
       "      <td>36862.486200</td>\n",
       "      <td>0.103025</td>\n",
       "      <td>0.346207</td>\n",
       "      <td>2.124031</td>\n",
       "      <td>2.204382</td>\n",
       "      <td>2.312761</td>\n",
       "      <td>...</td>\n",
       "      <td>0.006211</td>\n",
       "      <td>0.003975</td>\n",
       "      <td>0.011386</td>\n",
       "      <td>0.005934</td>\n",
       "      <td>0.003744</td>\n",
       "      <td>0.008944</td>\n",
       "      <td>0.018677</td>\n",
       "      <td>0.016309</td>\n",
       "      <td>0.013676</td>\n",
       "      <td>0.012796</td>\n",
       "    </tr>\n",
       "    <tr>\n",
       "      <th>1804.0</th>\n",
       "      <td>39768.628406</td>\n",
       "      <td>57147.676297</td>\n",
       "      <td>55607.076264</td>\n",
       "      <td>42252.296941</td>\n",
       "      <td>34626.674603</td>\n",
       "      <td>0.150229</td>\n",
       "      <td>0.540456</td>\n",
       "      <td>3.361239</td>\n",
       "      <td>3.291152</td>\n",
       "      <td>3.300843</td>\n",
       "      <td>...</td>\n",
       "      <td>0.008576</td>\n",
       "      <td>0.005210</td>\n",
       "      <td>0.017123</td>\n",
       "      <td>0.008056</td>\n",
       "      <td>0.004820</td>\n",
       "      <td>0.013858</td>\n",
       "      <td>0.034008</td>\n",
       "      <td>0.030229</td>\n",
       "      <td>0.024160</td>\n",
       "      <td>0.022073</td>\n",
       "    </tr>\n",
       "    <tr>\n",
       "      <th>...</th>\n",
       "      <td>...</td>\n",
       "      <td>...</td>\n",
       "      <td>...</td>\n",
       "      <td>...</td>\n",
       "      <td>...</td>\n",
       "      <td>...</td>\n",
       "      <td>...</td>\n",
       "      <td>...</td>\n",
       "      <td>...</td>\n",
       "      <td>...</td>\n",
       "      <td>...</td>\n",
       "      <td>...</td>\n",
       "      <td>...</td>\n",
       "      <td>...</td>\n",
       "      <td>...</td>\n",
       "      <td>...</td>\n",
       "      <td>...</td>\n",
       "      <td>...</td>\n",
       "      <td>...</td>\n",
       "      <td>...</td>\n",
       "      <td>...</td>\n",
       "    </tr>\n",
       "    <tr>\n",
       "      <th>2016.0</th>\n",
       "      <td>226767.409688</td>\n",
       "      <td>422899.915185</td>\n",
       "      <td>421464.698488</td>\n",
       "      <td>139903.060403</td>\n",
       "      <td>48468.538673</td>\n",
       "      <td>66.270454</td>\n",
       "      <td>326.016823</td>\n",
       "      <td>6766.120747</td>\n",
       "      <td>4465.380856</td>\n",
       "      <td>2851.367439</td>\n",
       "      <td>...</td>\n",
       "      <td>288.575364</td>\n",
       "      <td>203.497408</td>\n",
       "      <td>416.094421</td>\n",
       "      <td>214.942212</td>\n",
       "      <td>151.802687</td>\n",
       "      <td>416.844556</td>\n",
       "      <td>9484.782238</td>\n",
       "      <td>48990.143830</td>\n",
       "      <td>40348.615576</td>\n",
       "      <td>29665.446471</td>\n",
       "    </tr>\n",
       "    <tr>\n",
       "      <th>2017.0</th>\n",
       "      <td>226664.043081</td>\n",
       "      <td>424036.940250</td>\n",
       "      <td>431170.445216</td>\n",
       "      <td>145721.433965</td>\n",
       "      <td>51588.008946</td>\n",
       "      <td>67.180867</td>\n",
       "      <td>323.175691</td>\n",
       "      <td>6678.737941</td>\n",
       "      <td>4534.412130</td>\n",
       "      <td>2923.320941</td>\n",
       "      <td>...</td>\n",
       "      <td>288.297312</td>\n",
       "      <td>201.890396</td>\n",
       "      <td>421.918107</td>\n",
       "      <td>217.451073</td>\n",
       "      <td>152.580393</td>\n",
       "      <td>395.670569</td>\n",
       "      <td>8901.982560</td>\n",
       "      <td>48020.802581</td>\n",
       "      <td>40356.793404</td>\n",
       "      <td>30179.451573</td>\n",
       "    </tr>\n",
       "    <tr>\n",
       "      <th>2018.0</th>\n",
       "      <td>226823.902118</td>\n",
       "      <td>425520.041598</td>\n",
       "      <td>443365.940710</td>\n",
       "      <td>152931.363577</td>\n",
       "      <td>55367.132792</td>\n",
       "      <td>35.022037</td>\n",
       "      <td>188.686116</td>\n",
       "      <td>4669.825691</td>\n",
       "      <td>3302.147353</td>\n",
       "      <td>2150.731833</td>\n",
       "      <td>...</td>\n",
       "      <td>490.001904</td>\n",
       "      <td>406.297955</td>\n",
       "      <td>630.798379</td>\n",
       "      <td>371.393733</td>\n",
       "      <td>308.117154</td>\n",
       "      <td>407.642703</td>\n",
       "      <td>8491.378888</td>\n",
       "      <td>47507.442633</td>\n",
       "      <td>40719.592462</td>\n",
       "      <td>30968.672378</td>\n",
       "    </tr>\n",
       "    <tr>\n",
       "      <th>2019.0</th>\n",
       "      <td>227116.984899</td>\n",
       "      <td>427361.435005</td>\n",
       "      <td>458026.794261</td>\n",
       "      <td>161674.592968</td>\n",
       "      <td>59919.748668</td>\n",
       "      <td>25.757460</td>\n",
       "      <td>118.397436</td>\n",
       "      <td>3050.988379</td>\n",
       "      <td>2253.940308</td>\n",
       "      <td>1485.070044</td>\n",
       "      <td>...</td>\n",
       "      <td>449.165685</td>\n",
       "      <td>372.242910</td>\n",
       "      <td>633.604961</td>\n",
       "      <td>346.960688</td>\n",
       "      <td>287.591572</td>\n",
       "      <td>416.604748</td>\n",
       "      <td>8145.484265</td>\n",
       "      <td>47184.098193</td>\n",
       "      <td>41241.467368</td>\n",
       "      <td>31900.274105</td>\n",
       "    </tr>\n",
       "    <tr>\n",
       "      <th>2020.0</th>\n",
       "      <td>227410.917116</td>\n",
       "      <td>429067.461652</td>\n",
       "      <td>471427.270656</td>\n",
       "      <td>170123.125756</td>\n",
       "      <td>64460.575655</td>\n",
       "      <td>35.317527</td>\n",
       "      <td>153.283347</td>\n",
       "      <td>3564.322938</td>\n",
       "      <td>2579.204162</td>\n",
       "      <td>1714.557970</td>\n",
       "      <td>...</td>\n",
       "      <td>268.973838</td>\n",
       "      <td>210.432479</td>\n",
       "      <td>438.021938</td>\n",
       "      <td>213.646081</td>\n",
       "      <td>167.288056</td>\n",
       "      <td>392.464450</td>\n",
       "      <td>7705.270151</td>\n",
       "      <td>46456.138934</td>\n",
       "      <td>41406.816944</td>\n",
       "      <td>32566.461190</td>\n",
       "    </tr>\n",
       "  </tbody>\n",
       "</table>\n",
       "<p>221 rows × 50 columns</p>\n",
       "</div>"
      ],
      "text/plain": [
       "        susceptibleXage_0  susceptibleXage_5  susceptibleXage_15  \\\n",
       "1800.0       45468.751439       45468.751439        45468.751439   \n",
       "1801.0       43449.793912       49336.200918        47742.505398   \n",
       "1802.0       41878.700824       52477.062934        50237.557766   \n",
       "1803.0       40673.487220       55040.740696        52878.603003   \n",
       "1804.0       39768.628406       57147.676297        55607.076264   \n",
       "...                   ...                ...                 ...   \n",
       "2016.0      226767.409688      422899.915185       421464.698488   \n",
       "2017.0      226664.043081      424036.940250       431170.445216   \n",
       "2018.0      226823.902118      425520.041598       443365.940710   \n",
       "2019.0      227116.984899      427361.435005       458026.794261   \n",
       "2020.0      227410.917116      429067.461652       471427.270656   \n",
       "\n",
       "        susceptibleXage_35  susceptibleXage_50  early_latentXage_0  \\\n",
       "1800.0        45468.751439        45468.751439            0.000000   \n",
       "1801.0        44380.262668        42249.029760            0.051564   \n",
       "1802.0        43485.898575        39392.497914            0.071791   \n",
       "1803.0        42779.563136        36862.486200            0.103025   \n",
       "1804.0        42252.296941        34626.674603            0.150229   \n",
       "...                    ...                 ...                 ...   \n",
       "2016.0       139903.060403        48468.538673           66.270454   \n",
       "2017.0       145721.433965        51588.008946           67.180867   \n",
       "2018.0       152931.363577        55367.132792           35.022037   \n",
       "2019.0       161674.592968        59919.748668           25.757460   \n",
       "2020.0       170123.125756        64460.575655           35.317527   \n",
       "\n",
       "        early_latentXage_5  early_latentXage_15  early_latentXage_35  \\\n",
       "1800.0            0.000000             0.000000             0.000000   \n",
       "1801.0            0.142818             0.833813             0.966561   \n",
       "1802.0            0.220817             1.346890             1.482029   \n",
       "1803.0            0.346207             2.124031             2.204382   \n",
       "1804.0            0.540456             3.361239             3.291152   \n",
       "...                    ...                  ...                  ...   \n",
       "2016.0          326.016823          6766.120747          4465.380856   \n",
       "2017.0          323.175691          6678.737941          4534.412130   \n",
       "2018.0          188.686116          4669.825691          3302.147353   \n",
       "2019.0          118.397436          3050.988379          2253.940308   \n",
       "2020.0          153.283347          3564.322938          2579.204162   \n",
       "\n",
       "        early_latentXage_50  ...  on_treatmentXage_35Xorgan_smear_negative  \\\n",
       "1800.0             0.000000  ...                                  0.000000   \n",
       "1801.0             1.096797  ...                                  0.002632   \n",
       "1802.0             1.620565  ...                                  0.004410   \n",
       "1803.0             2.312761  ...                                  0.006211   \n",
       "1804.0             3.300843  ...                                  0.008576   \n",
       "...                     ...  ...                                       ...   \n",
       "2016.0          2851.367439  ...                                288.575364   \n",
       "2017.0          2923.320941  ...                                288.297312   \n",
       "2018.0          2150.731833  ...                                490.001904   \n",
       "2019.0          1485.070044  ...                                449.165685   \n",
       "2020.0          1714.557970  ...                                268.973838   \n",
       "\n",
       "        on_treatmentXage_35Xorgan_extrapulmonary  \\\n",
       "1800.0                                  0.000000   \n",
       "1801.0                                  0.001850   \n",
       "1802.0                                  0.002972   \n",
       "1803.0                                  0.003975   \n",
       "1804.0                                  0.005210   \n",
       "...                                          ...   \n",
       "2016.0                                203.497408   \n",
       "2017.0                                201.890396   \n",
       "2018.0                                406.297955   \n",
       "2019.0                                372.242910   \n",
       "2020.0                                210.432479   \n",
       "\n",
       "        on_treatmentXage_50Xorgan_smear_positive  \\\n",
       "1800.0                                  0.000000   \n",
       "1801.0                                  0.003729   \n",
       "1802.0                                  0.007138   \n",
       "1803.0                                  0.011386   \n",
       "1804.0                                  0.017123   \n",
       "...                                          ...   \n",
       "2016.0                                416.094421   \n",
       "2017.0                                421.918107   \n",
       "2018.0                                630.798379   \n",
       "2019.0                                633.604961   \n",
       "2020.0                                438.021938   \n",
       "\n",
       "        on_treatmentXage_50Xorgan_smear_negative  \\\n",
       "1800.0                                  0.000000   \n",
       "1801.0                                  0.002577   \n",
       "1802.0                                  0.004266   \n",
       "1803.0                                  0.005934   \n",
       "1804.0                                  0.008056   \n",
       "...                                          ...   \n",
       "2016.0                                214.942212   \n",
       "2017.0                                217.451073   \n",
       "2018.0                                371.393733   \n",
       "2019.0                                346.960688   \n",
       "2020.0                                213.646081   \n",
       "\n",
       "        on_treatmentXage_50Xorgan_extrapulmonary  recoveredXage_0  \\\n",
       "1800.0                                  0.000000         0.000000   \n",
       "1801.0                                  0.001804         0.001618   \n",
       "1802.0                                  0.002846         0.004900   \n",
       "1803.0                                  0.003744         0.008944   \n",
       "1804.0                                  0.004820         0.013858   \n",
       "...                                          ...              ...   \n",
       "2016.0                                151.802687       416.844556   \n",
       "2017.0                                152.580393       395.670569   \n",
       "2018.0                                308.117154       407.642703   \n",
       "2019.0                                287.591572       416.604748   \n",
       "2020.0                                167.288056       392.464450   \n",
       "\n",
       "        recoveredXage_5  recoveredXage_15  recoveredXage_35  recoveredXage_50  \n",
       "1800.0         0.000000          0.000000          0.000000          0.000000  \n",
       "1801.0         0.002166          0.001976          0.001853          0.001804  \n",
       "1802.0         0.008371          0.007320          0.006474          0.006183  \n",
       "1803.0         0.018677          0.016309          0.013676          0.012796  \n",
       "1804.0         0.034008          0.030229          0.024160          0.022073  \n",
       "...                 ...               ...               ...               ...  \n",
       "2016.0      9484.782238      48990.143830      40348.615576      29665.446471  \n",
       "2017.0      8901.982560      48020.802581      40356.793404      30179.451573  \n",
       "2018.0      8491.378888      47507.442633      40719.592462      30968.672378  \n",
       "2019.0      8145.484265      47184.098193      41241.467368      31900.274105  \n",
       "2020.0      7705.270151      46456.138934      41406.816944      32566.461190  \n",
       "\n",
       "[221 rows x 50 columns]"
      ]
     },
     "execution_count": 7,
     "metadata": {},
     "output_type": "execute_result"
    }
   ],
   "source": [
    "tb_model.get_outputs_df()"
   ]
  },
  {
   "cell_type": "code",
   "execution_count": 8,
   "metadata": {},
   "outputs": [],
   "source": [
    "priors = [\n",
    "    esp.UniformPrior(\"start_population_size\", (150000, 300000)),\n",
    "    esp.UniformPrior(\"contact_rate\", (0.0001, 0.02)),\n",
    "    #UniformPrior(\"infectious_seed\", [100, 2000]),\n",
    "    esp.UniformPrior(\"rr_infection_latent\", (0.2, 0.5)),\n",
    "    esp.UniformPrior(\"rr_infection_recovered\", (0.1, 0.5)),\n",
    "    esp.UniformPrior(\"smear_positive_death_rate\", (0.335, 0.449)),\n",
    "    esp.UniformPrior(\"smear_negative_death_rate\", (0.017, 0.035)),\n",
    "    esp.UniformPrior(\"smear_positive_self_recovery\", (0.177, 0.288)),\n",
    "    esp.UniformPrior(\"smear_negative_self_recovery\", (0.073, 0.209)),\n",
    "    esp.UniformPrior(\"cdr_adjustment\", (0.6, 1.0)),\\\n",
    "    esp. UniformPrior(\"rr_progression_diabetes\", (2.0, 6.0))\n",
    "    # UniformPrior(\"progression_multiplier\", (0.1, 2.0)),\n",
    "    # UniformPrior(\"cdr_adjustment\", [0.6, 1.0]),\n",
    "    # UniformPrior(\"infect_death_rate_dict.smear_positive\", [0.335, 0.449]),\n",
    "    # UniformPrior(\"infect_death_rate_dict.smear_negative\", [0.017, 0.035]),\n",
    "    # UniformPrior(\"self_recovery_rate_dict.smear_positive\", [0.177, 0.288]),\n",
    "    # UniformPrior(\"self_recovery_rate_dict.smear_negative\", [0.073, 0.209]),\n",
    "    # UniformPrior(\"rr_progression_diabetes\", [1, 10]),\n",
    "]\n",
    "pop = pd.Series({2009: 1207100, 2019: 1194300})\n",
    "notif = pd.Series({2011: 1495,2012: 1485,2013: 1369,2014:1405,2015:1642, 2016:1555, 2017:1440, 2018:1468, 2019:1417})\n",
    "latent = pd.Series({2016:36})\n",
    "\n",
    "targets = [\n",
    "    est.NegativeBinomialTarget('notifications', notif, dispersion_param=50),\n",
    "]\n",
    "calibration_model = BayesianCompartmentalModel(tb_model, params, priors, targets)"
   ]
  },
  {
   "cell_type": "code",
   "execution_count": 9,
   "metadata": {},
   "outputs": [
    {
     "name": "stderr",
     "output_type": "stream",
     "text": [
      "Warning: gradient not available.(E.g. vars contains discrete variables). MAP estimates may not be accurate for the default parameters. Defaulting to non-gradient minimization 'Powell'.\n"
     ]
    },
    {
     "data": {
      "text/html": [
       "\n",
       "<style>\n",
       "    /* Turns off some styling */\n",
       "    progress {\n",
       "        /* gets rid of default border in Firefox and Opera. */\n",
       "        border: none;\n",
       "        /* Needs to be in here for Safari polyfill so background images work as expected. */\n",
       "        background-size: auto;\n",
       "    }\n",
       "    progress:not([value]), progress:not([value])::-webkit-progress-bar {\n",
       "        background: repeating-linear-gradient(45deg, #7e7e7e, #7e7e7e 10px, #5c5c5c 10px, #5c5c5c 20px);\n",
       "    }\n",
       "    .progress-bar-interrupted, .progress-bar-interrupted::-webkit-progress-bar {\n",
       "        background: #F44336;\n",
       "    }\n",
       "</style>\n"
      ],
      "text/plain": [
       "<IPython.core.display.HTML object>"
      ]
     },
     "metadata": {},
     "output_type": "display_data"
    },
    {
     "data": {
      "text/html": [
       "\n",
       "    <div>\n",
       "      <progress value='1035' class='' max='1035' style='width:300px; height:20px; vertical-align: middle;'></progress>\n",
       "      100.00% [1035/1035 00:17&lt;00:00 logp = -2.6549]\n",
       "    </div>\n",
       "    "
      ],
      "text/plain": [
       "<IPython.core.display.HTML object>"
      ]
     },
     "metadata": {},
     "output_type": "display_data"
    },
    {
     "name": "stdout",
     "output_type": "stream",
     "text": [
      "\n",
      "Best calibration parameters found:\n",
      "   start_population_size: 150000.0 (within bound (150000.0, 300000.0)\n",
      "   contact_rate: 0.01153 (within bound (0.0001, 0.02)\n",
      "   rr_infection_latent: 0.2015 (within bound (0.2, 0.5)\n",
      "   rr_infection_recovered: 0.201 (within bound (0.1, 0.5)\n",
      "   smear_positive_death_rate: 0.3643 (within bound (0.335, 0.449)\n",
      "   smear_negative_death_rate: 0.02483 (within bound (0.017, 0.035)\n",
      "   smear_positive_self_recovery: 0.2034 (within bound (0.177, 0.288)\n",
      "   smear_negative_self_recovery: 0.2083 (within bound (0.073, 0.20900000000000002)\n",
      "   cdr_adjustment: 0.602 (within bound (0.6, 1.0)\n",
      "   rr_progression_diabetes: 5.999 (within bound (2.0, 6.0)\n"
     ]
    }
   ],
   "source": [
    "with pm.Model() as pmc_model:\n",
    "    start_params = {k: np.clip(v, *calibration_model.priors[k].bounds(0.99)) for k, v in params.items() if k in calibration_model.priors}\n",
    "    variables = epm.use_model(calibration_model)\n",
    "    map_params = pm.find_MAP(start=start_params, vars=variables, include_transformed=False)\n",
    "    map_params = {k: float(v) for k, v in map_params.items()}\n",
    "    print('Best calibration parameters found:')\n",
    "for i_param, param in enumerate(map_params):\n",
    "    print(f'   {param}: {round_sigfig(map_params[param], 4)} (within bound {priors[i_param].bounds()}')"
   ]
  },
  {
   "cell_type": "code",
   "execution_count": 10,
   "metadata": {},
   "outputs": [],
   "source": [
    "params.update(map_params)\n",
    "tb_model.run(params)"
   ]
  },
  {
   "cell_type": "code",
   "execution_count": 11,
   "metadata": {},
   "outputs": [],
   "source": [
    "tb_model.run(parameters=params)\n",
    "derived_df_0 = tb_model.get_derived_outputs_df()"
   ]
  },
  {
   "cell_type": "code",
   "execution_count": null,
   "metadata": {},
   "outputs": [],
   "source": [
    "derived_df_0"
   ]
  },
  {
   "cell_type": "code",
   "execution_count": 12,
   "metadata": {},
   "outputs": [],
   "source": [
    "plots = {\"total_population\": {\n",
    "      \"title\": \"Population size\",\n",
    "      \"output_key\": \"total_population\",\n",
    "      \"times\": [2009.0, 2019.0],\n",
    "      \"values\": [1207100, 1194300],\n",
    "      \"quantiles\": [0.025, 0.25, 0.5, 0.75, 0.975]\n",
    "    },\n",
    "     \"notifications\": {\n",
    "      \"title\": \"Notifications\",\n",
    "      \"output_key\": \"notifications\",\n",
    "      \"times\": [2011.0, 2012.0, 2013.0, 2014.0, 2015.0, 2016.0, 2017.0, 2018.0, 2019.0],\n",
    "      \"values\": [1495, 1485, 1369, 1405, 1642, 1555, 1440, 1468, 1417],\n",
    "      \"quantiles\": [0.025, 0.25, 0.5, 0.75, 0.975]\n",
    "    },\n",
    "    \"percentage_latent\": {\n",
    "      \"title\": \"Percentage Latent\",\n",
    "      \"output_key\": \"percentage_latent\",\n",
    "      \"times\": [2016.0],\n",
    "      \"values\": [30.8],\n",
    "      \"quantiles\": [0.025, 0.25, 0.5, 0.75, 0.975]\n",
    "    },\n",
    "    \n",
    "    }"
   ]
  },
  {
   "cell_type": "code",
   "execution_count": 13,
   "metadata": {},
   "outputs": [
    {
     "data": {
      "application/vnd.plotly.v1+json": {
       "config": {
        "plotlyServerURL": "https://plot.ly"
       },
       "data": [
        {
         "hovertemplate": "index=%{x}<br>total_population=%{y}<extra></extra>",
         "legendgroup": "",
         "line": {
          "color": "#636efa",
          "dash": "solid"
         },
         "marker": {
          "symbol": "circle"
         },
         "mode": "lines",
         "name": "",
         "orientation": "v",
         "showlegend": false,
         "type": "scatter",
         "x": [
          1800,
          1801,
          1802,
          1803,
          1804,
          1805,
          1806,
          1807,
          1808,
          1809,
          1810,
          1811,
          1812,
          1813,
          1814,
          1815,
          1816,
          1817,
          1818,
          1819,
          1820,
          1821,
          1822,
          1823,
          1824,
          1825,
          1826,
          1827,
          1828,
          1829,
          1830,
          1831,
          1832,
          1833,
          1834,
          1835,
          1836,
          1837,
          1838,
          1839,
          1840,
          1841,
          1842,
          1843,
          1844,
          1845,
          1846,
          1847,
          1848,
          1849,
          1850,
          1851,
          1852,
          1853,
          1854,
          1855,
          1856,
          1857,
          1858,
          1859,
          1860,
          1861,
          1862,
          1863,
          1864,
          1865,
          1866,
          1867,
          1868,
          1869,
          1870,
          1871,
          1872,
          1873,
          1874,
          1875,
          1876,
          1877,
          1878,
          1879,
          1880,
          1881,
          1882,
          1883,
          1884,
          1885,
          1886,
          1887,
          1888,
          1889,
          1890,
          1891,
          1892,
          1893,
          1894,
          1895,
          1896,
          1897,
          1898,
          1899,
          1900,
          1901,
          1902,
          1903,
          1904,
          1905,
          1906,
          1907,
          1908,
          1909,
          1910,
          1911,
          1912,
          1913,
          1914,
          1915,
          1916,
          1917,
          1918,
          1919,
          1920,
          1921,
          1922,
          1923,
          1924,
          1925,
          1926,
          1927,
          1928,
          1929,
          1930,
          1931,
          1932,
          1933,
          1934,
          1935,
          1936,
          1937,
          1938,
          1939,
          1940,
          1941,
          1942,
          1943,
          1944,
          1945,
          1946,
          1947,
          1948,
          1949,
          1950,
          1951,
          1952,
          1953,
          1954,
          1955,
          1956,
          1957,
          1958,
          1959,
          1960,
          1961,
          1962,
          1963,
          1964,
          1965,
          1966,
          1967,
          1968,
          1969,
          1970,
          1971,
          1972,
          1973,
          1974,
          1975,
          1976,
          1977,
          1978,
          1979,
          1980,
          1981,
          1982,
          1983,
          1984,
          1985,
          1986,
          1987,
          1988,
          1989,
          1990,
          1991,
          1992,
          1993,
          1994,
          1995,
          1996,
          1997,
          1998,
          1999,
          2000,
          2001,
          2002,
          2003,
          2004,
          2005,
          2006,
          2007,
          2008,
          2009,
          2010,
          2011,
          2012,
          2013,
          2014,
          2015,
          2016,
          2017,
          2018,
          2019,
          2020
         ],
         "xaxis": "x",
         "y": [
          150000.00000000047,
          149882.1580483903,
          150095.70849545655,
          150608.59652015823,
          151392.73894437874,
          152423.36537425657,
          153678.4554066166,
          155138.22361150428,
          156784.60095513516,
          158600.64624561797,
          160569.79495627186,
          162674.82153005418,
          164896.37313726213,
          167210.99623518751,
          169588.86203001722,
          171992.14708958787,
          174376.1447818206,
          176695.61124775384,
          178916.25131416018,
          181025.63200181865,
          183035.6731213133,
          184974.97125622543,
          186877.22725448466,
          188772.4482902775,
          190683.02643158563,
          192623.44765556176,
          194601.73519341944,
          196621.22515969301,
          198682.193068227,
          200783.06544931652,
          202921.28289050068,
          205093.8725118143,
          207297.81223431867,
          209530.22754906735,
          211788.55195189352,
          214070.52999063066,
          216374.27212294264,
          218698.22868927565,
          221041.17092693396,
          223402.16360063432,
          225780.53282900466,
          228175.82774392105,
          230587.79920180424,
          233016.346224061,
          235461.52057957734,
          237923.46709828556,
          240402.43023100318,
          242898.7249588244,
          245412.7084730593,
          247944.80414213546,
          250495.44101049218,
          253065.08426382084,
          255654.20430585844,
          258263.2791266036,
          260892.79038757755,
          263543.21756167273,
          266215.0386661838,
          268908.7312194662,
          271624.7556960826,
          274363.5778305644,
          277125.6393288166,
          279911.38527352986,
          282721.24701971724,
          285555.64302990335,
          288414.9959976611,
          291299.72535048367,
          294210.22094649397,
          297146.8955029612,
          300110.126641175,
          303100.30645875545,
          306117.818060371,
          309163.02440580894,
          312236.32185551536,
          315338.0660142692,
          318468.63667694596,
          321628.39630949305,
          324817.70815252844,
          328036.93515164615,
          331286.4364117877,
          334566.5730147394,
          337877.7130826676,
          341220.210748167,
          344594.438770184,
          348000.74670537707,
          351439.5039759169,
          354911.06958676863,
          358415.79788323655,
          361954.0708942429,
          365526.2426300066,
          369132.69392118545,
          372773.79009820527,
          376449.90018048865,
          380161.40507641045,
          383908.6778160155,
          387692.077886298,
          391512.0176500839,
          395368.85593191895,
          399262.99764764926,
          403194.8243363034,
          407164.7269158874,
          411173.09996564407,
          415220.33667279314,
          419306.8361275245,
          423433.01125181967,
          427599.25946508057,
          431806.00748561457,
          436053.6511430412,
          440342.61968986806,
          444673.3257904479,
          449046.1819386154,
          453461.63637418125,
          457920.10074609687,
          462422.02960306336,
          466967.85278392694,
          471558.01420877746,
          476192.9597066711,
          480873.1342819288,
          485598.9891691748,
          490370.9898406058,
          495189.59452295554,
          500055.2826680739,
          504968.5113118826,
          509929.7666036189,
          514939.5175941333,
          519998.24776320625,
          525106.4416379739,
          530264.6042290148,
          535473.2195964332,
          540732.8140275569,
          546043.8677864209,
          551406.9126126523,
          556822.4518503102,
          562290.9935109919,
          567813.090588874,
          573389.2441432598,
          579020.0209976627,
          584705.9471120746,
          590447.5728167503,
          596245.448716158,
          602100.1246011184,
          608012.158170468,
          613982.1242316377,
          620010.5900407896,
          626098.1512507175,
          632245.3719069996,
          638452.8596627068,
          644721.1933392978,
          651050.9681478958,
          657442.8037328944,
          663897.2902769747,
          670415.069034314,
          676996.7734796046,
          683643.0035676449,
          690355.4088684868,
          697179.4497985893,
          704851.8923447375,
          715039.1486410729,
          726149.9287159791,
          737449.0867035469,
          748897.6184831694,
          760489.4269498095,
          772205.2908099086,
          784086.9814635142,
          796156.135363698,
          808400.4574611972,
          820492.0425994638,
          831669.7886966459,
          842642.4629178434,
          853747.5371431586,
          864979.456482644,
          875825.3544464293,
          885118.2544202516,
          893974.4278776586,
          902911.4786883806,
          911975.0319849703,
          921392.5204488713,
          931639.6772767776,
          942141.7897514307,
          952659.9563517648,
          963184.8278942029,
          973652.1779468626,
          983892.945161345,
          994037.9154256802,
          1004159.5164931818,
          1014265.2233467769,
          1024288.7770557995,
          1034056.1895788582,
          1043755.988509503,
          1053807.7508512174,
          1064382.3629691105,
          1075185.2213483483,
          1085407.4696215352,
          1095816.8777638185,
          1106823.8914697429,
          1118363.523171725,
          1129058.5505533235,
          1135910.6282375215,
          1141687.3596060174,
          1147525.8835277536,
          1153387.650764898,
          1158922.218350843,
          1163394.219735951,
          1167401.6158530496,
          1171212.3297832683,
          1174847.724420695,
          1178454.9023567892,
          1182374.0028483013,
          1186247.3258985125,
          1189907.0457747201,
          1193349.0921272947,
          1196710.7589007718,
          1200299.254334238,
          1203814.9610171611,
          1207116.518061981,
          1210198.5280765088,
          1213023.7162600318,
          1215492.6340152964,
          1217715.5456691508,
          1219916.6992956665,
          1222099.627281207,
          1224090.2918521534
         ],
         "yaxis": "y"
        },
        {
         "hovertemplate": "x=%{x}<br>y=%{y}<extra></extra>",
         "legendgroup": "",
         "marker": {
          "color": "red",
          "symbol": "circle"
         },
         "mode": "markers",
         "name": "",
         "orientation": "v",
         "showlegend": false,
         "type": "scatter",
         "x": [
          2009,
          2019
         ],
         "xaxis": "x",
         "y": [
          1207100,
          1194300
         ],
         "yaxis": "y"
        }
       ],
       "layout": {
        "template": {
         "data": {
          "bar": [
           {
            "error_x": {
             "color": "#2a3f5f"
            },
            "error_y": {
             "color": "#2a3f5f"
            },
            "marker": {
             "line": {
              "color": "#E5ECF6",
              "width": 0.5
             },
             "pattern": {
              "fillmode": "overlay",
              "size": 10,
              "solidity": 0.2
             }
            },
            "type": "bar"
           }
          ],
          "barpolar": [
           {
            "marker": {
             "line": {
              "color": "#E5ECF6",
              "width": 0.5
             },
             "pattern": {
              "fillmode": "overlay",
              "size": 10,
              "solidity": 0.2
             }
            },
            "type": "barpolar"
           }
          ],
          "carpet": [
           {
            "aaxis": {
             "endlinecolor": "#2a3f5f",
             "gridcolor": "white",
             "linecolor": "white",
             "minorgridcolor": "white",
             "startlinecolor": "#2a3f5f"
            },
            "baxis": {
             "endlinecolor": "#2a3f5f",
             "gridcolor": "white",
             "linecolor": "white",
             "minorgridcolor": "white",
             "startlinecolor": "#2a3f5f"
            },
            "type": "carpet"
           }
          ],
          "choropleth": [
           {
            "colorbar": {
             "outlinewidth": 0,
             "ticks": ""
            },
            "type": "choropleth"
           }
          ],
          "contour": [
           {
            "colorbar": {
             "outlinewidth": 0,
             "ticks": ""
            },
            "colorscale": [
             [
              0,
              "#0d0887"
             ],
             [
              0.1111111111111111,
              "#46039f"
             ],
             [
              0.2222222222222222,
              "#7201a8"
             ],
             [
              0.3333333333333333,
              "#9c179e"
             ],
             [
              0.4444444444444444,
              "#bd3786"
             ],
             [
              0.5555555555555556,
              "#d8576b"
             ],
             [
              0.6666666666666666,
              "#ed7953"
             ],
             [
              0.7777777777777778,
              "#fb9f3a"
             ],
             [
              0.8888888888888888,
              "#fdca26"
             ],
             [
              1,
              "#f0f921"
             ]
            ],
            "type": "contour"
           }
          ],
          "contourcarpet": [
           {
            "colorbar": {
             "outlinewidth": 0,
             "ticks": ""
            },
            "type": "contourcarpet"
           }
          ],
          "heatmap": [
           {
            "colorbar": {
             "outlinewidth": 0,
             "ticks": ""
            },
            "colorscale": [
             [
              0,
              "#0d0887"
             ],
             [
              0.1111111111111111,
              "#46039f"
             ],
             [
              0.2222222222222222,
              "#7201a8"
             ],
             [
              0.3333333333333333,
              "#9c179e"
             ],
             [
              0.4444444444444444,
              "#bd3786"
             ],
             [
              0.5555555555555556,
              "#d8576b"
             ],
             [
              0.6666666666666666,
              "#ed7953"
             ],
             [
              0.7777777777777778,
              "#fb9f3a"
             ],
             [
              0.8888888888888888,
              "#fdca26"
             ],
             [
              1,
              "#f0f921"
             ]
            ],
            "type": "heatmap"
           }
          ],
          "heatmapgl": [
           {
            "colorbar": {
             "outlinewidth": 0,
             "ticks": ""
            },
            "colorscale": [
             [
              0,
              "#0d0887"
             ],
             [
              0.1111111111111111,
              "#46039f"
             ],
             [
              0.2222222222222222,
              "#7201a8"
             ],
             [
              0.3333333333333333,
              "#9c179e"
             ],
             [
              0.4444444444444444,
              "#bd3786"
             ],
             [
              0.5555555555555556,
              "#d8576b"
             ],
             [
              0.6666666666666666,
              "#ed7953"
             ],
             [
              0.7777777777777778,
              "#fb9f3a"
             ],
             [
              0.8888888888888888,
              "#fdca26"
             ],
             [
              1,
              "#f0f921"
             ]
            ],
            "type": "heatmapgl"
           }
          ],
          "histogram": [
           {
            "marker": {
             "pattern": {
              "fillmode": "overlay",
              "size": 10,
              "solidity": 0.2
             }
            },
            "type": "histogram"
           }
          ],
          "histogram2d": [
           {
            "colorbar": {
             "outlinewidth": 0,
             "ticks": ""
            },
            "colorscale": [
             [
              0,
              "#0d0887"
             ],
             [
              0.1111111111111111,
              "#46039f"
             ],
             [
              0.2222222222222222,
              "#7201a8"
             ],
             [
              0.3333333333333333,
              "#9c179e"
             ],
             [
              0.4444444444444444,
              "#bd3786"
             ],
             [
              0.5555555555555556,
              "#d8576b"
             ],
             [
              0.6666666666666666,
              "#ed7953"
             ],
             [
              0.7777777777777778,
              "#fb9f3a"
             ],
             [
              0.8888888888888888,
              "#fdca26"
             ],
             [
              1,
              "#f0f921"
             ]
            ],
            "type": "histogram2d"
           }
          ],
          "histogram2dcontour": [
           {
            "colorbar": {
             "outlinewidth": 0,
             "ticks": ""
            },
            "colorscale": [
             [
              0,
              "#0d0887"
             ],
             [
              0.1111111111111111,
              "#46039f"
             ],
             [
              0.2222222222222222,
              "#7201a8"
             ],
             [
              0.3333333333333333,
              "#9c179e"
             ],
             [
              0.4444444444444444,
              "#bd3786"
             ],
             [
              0.5555555555555556,
              "#d8576b"
             ],
             [
              0.6666666666666666,
              "#ed7953"
             ],
             [
              0.7777777777777778,
              "#fb9f3a"
             ],
             [
              0.8888888888888888,
              "#fdca26"
             ],
             [
              1,
              "#f0f921"
             ]
            ],
            "type": "histogram2dcontour"
           }
          ],
          "mesh3d": [
           {
            "colorbar": {
             "outlinewidth": 0,
             "ticks": ""
            },
            "type": "mesh3d"
           }
          ],
          "parcoords": [
           {
            "line": {
             "colorbar": {
              "outlinewidth": 0,
              "ticks": ""
             }
            },
            "type": "parcoords"
           }
          ],
          "pie": [
           {
            "automargin": true,
            "type": "pie"
           }
          ],
          "scatter": [
           {
            "fillpattern": {
             "fillmode": "overlay",
             "size": 10,
             "solidity": 0.2
            },
            "type": "scatter"
           }
          ],
          "scatter3d": [
           {
            "line": {
             "colorbar": {
              "outlinewidth": 0,
              "ticks": ""
             }
            },
            "marker": {
             "colorbar": {
              "outlinewidth": 0,
              "ticks": ""
             }
            },
            "type": "scatter3d"
           }
          ],
          "scattercarpet": [
           {
            "marker": {
             "colorbar": {
              "outlinewidth": 0,
              "ticks": ""
             }
            },
            "type": "scattercarpet"
           }
          ],
          "scattergeo": [
           {
            "marker": {
             "colorbar": {
              "outlinewidth": 0,
              "ticks": ""
             }
            },
            "type": "scattergeo"
           }
          ],
          "scattergl": [
           {
            "marker": {
             "colorbar": {
              "outlinewidth": 0,
              "ticks": ""
             }
            },
            "type": "scattergl"
           }
          ],
          "scattermapbox": [
           {
            "marker": {
             "colorbar": {
              "outlinewidth": 0,
              "ticks": ""
             }
            },
            "type": "scattermapbox"
           }
          ],
          "scatterpolar": [
           {
            "marker": {
             "colorbar": {
              "outlinewidth": 0,
              "ticks": ""
             }
            },
            "type": "scatterpolar"
           }
          ],
          "scatterpolargl": [
           {
            "marker": {
             "colorbar": {
              "outlinewidth": 0,
              "ticks": ""
             }
            },
            "type": "scatterpolargl"
           }
          ],
          "scatterternary": [
           {
            "marker": {
             "colorbar": {
              "outlinewidth": 0,
              "ticks": ""
             }
            },
            "type": "scatterternary"
           }
          ],
          "surface": [
           {
            "colorbar": {
             "outlinewidth": 0,
             "ticks": ""
            },
            "colorscale": [
             [
              0,
              "#0d0887"
             ],
             [
              0.1111111111111111,
              "#46039f"
             ],
             [
              0.2222222222222222,
              "#7201a8"
             ],
             [
              0.3333333333333333,
              "#9c179e"
             ],
             [
              0.4444444444444444,
              "#bd3786"
             ],
             [
              0.5555555555555556,
              "#d8576b"
             ],
             [
              0.6666666666666666,
              "#ed7953"
             ],
             [
              0.7777777777777778,
              "#fb9f3a"
             ],
             [
              0.8888888888888888,
              "#fdca26"
             ],
             [
              1,
              "#f0f921"
             ]
            ],
            "type": "surface"
           }
          ],
          "table": [
           {
            "cells": {
             "fill": {
              "color": "#EBF0F8"
             },
             "line": {
              "color": "white"
             }
            },
            "header": {
             "fill": {
              "color": "#C8D4E3"
             },
             "line": {
              "color": "white"
             }
            },
            "type": "table"
           }
          ]
         },
         "layout": {
          "annotationdefaults": {
           "arrowcolor": "#2a3f5f",
           "arrowhead": 0,
           "arrowwidth": 1
          },
          "autotypenumbers": "strict",
          "coloraxis": {
           "colorbar": {
            "outlinewidth": 0,
            "ticks": ""
           }
          },
          "colorscale": {
           "diverging": [
            [
             0,
             "#8e0152"
            ],
            [
             0.1,
             "#c51b7d"
            ],
            [
             0.2,
             "#de77ae"
            ],
            [
             0.3,
             "#f1b6da"
            ],
            [
             0.4,
             "#fde0ef"
            ],
            [
             0.5,
             "#f7f7f7"
            ],
            [
             0.6,
             "#e6f5d0"
            ],
            [
             0.7,
             "#b8e186"
            ],
            [
             0.8,
             "#7fbc41"
            ],
            [
             0.9,
             "#4d9221"
            ],
            [
             1,
             "#276419"
            ]
           ],
           "sequential": [
            [
             0,
             "#0d0887"
            ],
            [
             0.1111111111111111,
             "#46039f"
            ],
            [
             0.2222222222222222,
             "#7201a8"
            ],
            [
             0.3333333333333333,
             "#9c179e"
            ],
            [
             0.4444444444444444,
             "#bd3786"
            ],
            [
             0.5555555555555556,
             "#d8576b"
            ],
            [
             0.6666666666666666,
             "#ed7953"
            ],
            [
             0.7777777777777778,
             "#fb9f3a"
            ],
            [
             0.8888888888888888,
             "#fdca26"
            ],
            [
             1,
             "#f0f921"
            ]
           ],
           "sequentialminus": [
            [
             0,
             "#0d0887"
            ],
            [
             0.1111111111111111,
             "#46039f"
            ],
            [
             0.2222222222222222,
             "#7201a8"
            ],
            [
             0.3333333333333333,
             "#9c179e"
            ],
            [
             0.4444444444444444,
             "#bd3786"
            ],
            [
             0.5555555555555556,
             "#d8576b"
            ],
            [
             0.6666666666666666,
             "#ed7953"
            ],
            [
             0.7777777777777778,
             "#fb9f3a"
            ],
            [
             0.8888888888888888,
             "#fdca26"
            ],
            [
             1,
             "#f0f921"
            ]
           ]
          },
          "colorway": [
           "#636efa",
           "#EF553B",
           "#00cc96",
           "#ab63fa",
           "#FFA15A",
           "#19d3f3",
           "#FF6692",
           "#B6E880",
           "#FF97FF",
           "#FECB52"
          ],
          "font": {
           "color": "#2a3f5f"
          },
          "geo": {
           "bgcolor": "white",
           "lakecolor": "white",
           "landcolor": "#E5ECF6",
           "showlakes": true,
           "showland": true,
           "subunitcolor": "white"
          },
          "hoverlabel": {
           "align": "left"
          },
          "hovermode": "closest",
          "mapbox": {
           "style": "light"
          },
          "paper_bgcolor": "white",
          "plot_bgcolor": "#E5ECF6",
          "polar": {
           "angularaxis": {
            "gridcolor": "white",
            "linecolor": "white",
            "ticks": ""
           },
           "bgcolor": "#E5ECF6",
           "radialaxis": {
            "gridcolor": "white",
            "linecolor": "white",
            "ticks": ""
           }
          },
          "scene": {
           "xaxis": {
            "backgroundcolor": "#E5ECF6",
            "gridcolor": "white",
            "gridwidth": 2,
            "linecolor": "white",
            "showbackground": true,
            "ticks": "",
            "zerolinecolor": "white"
           },
           "yaxis": {
            "backgroundcolor": "#E5ECF6",
            "gridcolor": "white",
            "gridwidth": 2,
            "linecolor": "white",
            "showbackground": true,
            "ticks": "",
            "zerolinecolor": "white"
           },
           "zaxis": {
            "backgroundcolor": "#E5ECF6",
            "gridcolor": "white",
            "gridwidth": 2,
            "linecolor": "white",
            "showbackground": true,
            "ticks": "",
            "zerolinecolor": "white"
           }
          },
          "shapedefaults": {
           "line": {
            "color": "#2a3f5f"
           }
          },
          "ternary": {
           "aaxis": {
            "gridcolor": "white",
            "linecolor": "white",
            "ticks": ""
           },
           "baxis": {
            "gridcolor": "white",
            "linecolor": "white",
            "ticks": ""
           },
           "bgcolor": "#E5ECF6",
           "caxis": {
            "gridcolor": "white",
            "linecolor": "white",
            "ticks": ""
           }
          },
          "title": {
           "x": 0.05
          },
          "xaxis": {
           "automargin": true,
           "gridcolor": "white",
           "linecolor": "white",
           "ticks": "",
           "title": {
            "standoff": 15
           },
           "zerolinecolor": "white",
           "zerolinewidth": 2
          },
          "yaxis": {
           "automargin": true,
           "gridcolor": "white",
           "linecolor": "white",
           "ticks": "",
           "title": {
            "standoff": 15
           },
           "zerolinecolor": "white",
           "zerolinewidth": 2
          }
         }
        },
        "title": {
         "text": "Modelled vs Data",
         "x": 0.5
        },
        "xaxis": {
         "title": {
          "text": "Year"
         }
        },
        "yaxis": {
         "title": {
          "text": "Population"
         }
        }
       }
      }
     },
     "metadata": {},
     "output_type": "display_data"
    },
    {
     "ename": "NameError",
     "evalue": "name 'SUPPLEMENT_PATH' is not defined",
     "output_type": "error",
     "traceback": [
      "\u001b[1;31m---------------------------------------------------------------------------\u001b[0m",
      "\u001b[1;31mNameError\u001b[0m                                 Traceback (most recent call last)",
      "Cell \u001b[1;32mIn[13], line 16\u001b[0m\n\u001b[0;32m     14\u001b[0m fig2_3\u001b[39m.\u001b[39mshow()\n\u001b[0;32m     15\u001b[0m total_fig_name \u001b[39m=\u001b[39m \u001b[39m\"\u001b[39m\u001b[39mtotal.jpg\u001b[39m\u001b[39m\"\u001b[39m\n\u001b[1;32m---> 16\u001b[0m fig2_3\u001b[39m.\u001b[39mwrite_image(SUPPLEMENT_PATH \u001b[39m/\u001b[39mtotal_fig_name)\n",
      "\u001b[1;31mNameError\u001b[0m: name 'SUPPLEMENT_PATH' is not defined"
     ]
    }
   ],
   "source": [
    "fig2_1 = px.line(\n",
    "    derived_df_0,\n",
    "    x=derived_df_0.index,\n",
    "    y=\"total_population\",\n",
    ")\n",
    "fig2_2 = px.scatter(x= plots['total_population']['times'], y = plots['total_population']['values'])\n",
    "fig2_2.update_traces(marker=dict(color=\"red\"))\n",
    "fig2_3 = go.Figure(\n",
    "    data=fig2_1.data + fig2_2.data,\n",
    ")\n",
    "fig2_3.update_layout(\n",
    "    title=\"Modelled vs Data\", title_x=0.5, xaxis_title=\"Year\", yaxis_title=\"Population\"\n",
    ")\n",
    "fig2_3.show()\n",
    "total_fig_name = \"total.jpg\"\n",
    "fig2_3.write_image(SUPPLEMENT_PATH /total_fig_name)"
   ]
  },
  {
   "cell_type": "code",
   "execution_count": null,
   "metadata": {},
   "outputs": [],
   "source": [
    "add_element_to_document(\"Outputs\",FigElement(total_fig_name, caption=\"Notifications\"), doc_sections)"
   ]
  },
  {
   "cell_type": "code",
   "execution_count": null,
   "metadata": {},
   "outputs": [],
   "source": [
    "notif_1 = px.line(\n",
    "    derived_df_0,\n",
    "    x=derived_df_0.index,\n",
    "    y=\"notifications\",\n",
    ")\n",
    "notif_2 = px.scatter(x= plots['notifications']['times'], y = plots['notifications']['values'])\n",
    "notif_2.update_traces(marker=dict(color=\"red\"))\n",
    "notif_plot = go.Figure(\n",
    "    data=notif_1.data + notif_2.data,\n",
    ")\n",
    "notif_plot.update_layout(\n",
    "    title=\"Modelled vs Data\", title_x=0.5, xaxis_title=\"Year\", yaxis_title=\"Notifications\"\n",
    ")\n",
    "notif_plot.show()\n",
    "notif_fig_name = \"notifications.jpg\"\n",
    "notif_plot.write_image(SUPPLEMENT_PATH / notif_fig_name)"
   ]
  },
  {
   "cell_type": "code",
   "execution_count": null,
   "metadata": {},
   "outputs": [],
   "source": [
    "add_element_to_document(\"Outputs\",FigElement(notif_fig_name, caption=\"Notifications\"), doc_sections)"
   ]
  },
  {
   "cell_type": "code",
   "execution_count": null,
   "metadata": {},
   "outputs": [],
   "source": [
    "prev_plot = px.line(\n",
    "    derived_df_0,\n",
    "    x=derived_df_0.index,\n",
    "    y=\"prevalence_infectious\",\n",
    ")\n",
    "prev_plot.show()\n",
    "# prev_plot.write_image(str(SUPPLEMENT_PATH) + \"/prevalance.jpg\")"
   ]
  },
  {
   "cell_type": "code",
   "execution_count": 14,
   "metadata": {},
   "outputs": [
    {
     "data": {
      "application/vnd.plotly.v1+json": {
       "config": {
        "plotlyServerURL": "https://plot.ly"
       },
       "data": [
        {
         "hovertemplate": "index=%{x}<br>incidence=%{y}<extra></extra>",
         "legendgroup": "",
         "line": {
          "color": "#636efa",
          "dash": "solid"
         },
         "marker": {
          "symbol": "circle"
         },
         "mode": "lines",
         "name": "",
         "orientation": "v",
         "showlegend": false,
         "type": "scatter",
         "x": [
          1800,
          1801,
          1802,
          1803,
          1804,
          1805,
          1806,
          1807,
          1808,
          1809,
          1810,
          1811,
          1812,
          1813,
          1814,
          1815,
          1816,
          1817,
          1818,
          1819,
          1820,
          1821,
          1822,
          1823,
          1824,
          1825,
          1826,
          1827,
          1828,
          1829,
          1830,
          1831,
          1832,
          1833,
          1834,
          1835,
          1836,
          1837,
          1838,
          1839,
          1840,
          1841,
          1842,
          1843,
          1844,
          1845,
          1846,
          1847,
          1848,
          1849,
          1850,
          1851,
          1852,
          1853,
          1854,
          1855,
          1856,
          1857,
          1858,
          1859,
          1860,
          1861,
          1862,
          1863,
          1864,
          1865,
          1866,
          1867,
          1868,
          1869,
          1870,
          1871,
          1872,
          1873,
          1874,
          1875,
          1876,
          1877,
          1878,
          1879,
          1880,
          1881,
          1882,
          1883,
          1884,
          1885,
          1886,
          1887,
          1888,
          1889,
          1890,
          1891,
          1892,
          1893,
          1894,
          1895,
          1896,
          1897,
          1898,
          1899,
          1900,
          1901,
          1902,
          1903,
          1904,
          1905,
          1906,
          1907,
          1908,
          1909,
          1910,
          1911,
          1912,
          1913,
          1914,
          1915,
          1916,
          1917,
          1918,
          1919,
          1920,
          1921,
          1922,
          1923,
          1924,
          1925,
          1926,
          1927,
          1928,
          1929,
          1930,
          1931,
          1932,
          1933,
          1934,
          1935,
          1936,
          1937,
          1938,
          1939,
          1940,
          1941,
          1942,
          1943,
          1944,
          1945,
          1946,
          1947,
          1948,
          1949,
          1950,
          1951,
          1952,
          1953,
          1954,
          1955,
          1956,
          1957,
          1958,
          1959,
          1960,
          1961,
          1962,
          1963,
          1964,
          1965,
          1966,
          1967,
          1968,
          1969,
          1970,
          1971,
          1972,
          1973,
          1974,
          1975,
          1976,
          1977,
          1978,
          1979,
          1980,
          1981,
          1982,
          1983,
          1984,
          1985,
          1986,
          1987,
          1988,
          1989,
          1990,
          1991,
          1992,
          1993,
          1994,
          1995,
          1996,
          1997,
          1998,
          1999,
          2000,
          2001,
          2002,
          2003,
          2004,
          2005,
          2006,
          2007,
          2008,
          2009,
          2010,
          2011,
          2012,
          2013,
          2014,
          2015,
          2016,
          2017,
          2018,
          2019,
          2020
         ],
         "xaxis": "x",
         "y": [
          0,
          0.24342039425773654,
          0.6586173133940425,
          1.1200328422576467,
          1.9021550911478564,
          3.232813154454106,
          5.4938885354355715,
          9.324685954061538,
          15.799489316038807,
          26.69874158162128,
          44.916013956211614,
          75.02168851213973,
          123.87311967489099,
          200.74780920659086,
          316.0668780093855,
          476.75953670195975,
          677.7735363233782,
          895.0222665444094,
          1089.5235883315902,
          1226.5838808072308,
          1293.9309167581255,
          1303.1881158115043,
          1277.3858715234974,
          1236.7734360245709,
          1193.597144058123,
          1154.1830251298204,
          1120.6584699119774,
          1093.1698737707325,
          1071.3880582072577,
          1054.4668331468217,
          1041.738422668044,
          1032.5872043519917,
          1026.2472869546002,
          1022.5151839211975,
          1020.6780290581127,
          1020.0318643297684,
          1020.4989247164613,
          1021.6718567870547,
          1023.4562069875144,
          1025.8010510214872,
          1028.5500309357867,
          1031.6050959921,
          1034.6535570915692,
          1037.6757569250285,
          1040.5657013707544,
          1043.2509332226814,
          1045.9637677908895,
          1048.5209843939779,
          1051.232212355697,
          1053.90294643963,
          1056.3142337467134,
          1058.5890792789253,
          1060.5678204249582,
          1062.3861871051508,
          1064.128262153612,
          1065.885801563469,
          1067.7179769266731,
          1069.4286259052462,
          1071.0148055174266,
          1072.3796794490227,
          1073.5337246176468,
          1074.6320711168164,
          1075.6137368755922,
          1076.768505455932,
          1078.1409135972438,
          1079.250725807311,
          1080.2519142054196,
          1081.0904490510509,
          1081.72555273478,
          1082.4288110695218,
          1082.9843348043346,
          1083.8205082879037,
          1084.706595746127,
          1085.4425307712102,
          1086.1634007970742,
          1086.6507284582442,
          1087.066510878029,
          1087.4594141564023,
          1087.9253839987498,
          1088.5599436878597,
          1089.1673115257936,
          1089.7407790272255,
          1090.1463901564805,
          1090.3978487246995,
          1090.6287104072528,
          1090.753023409432,
          1091.1440886587402,
          1091.6118801812825,
          1092.053485514023,
          1092.4801901933347,
          1092.697953491463,
          1092.9148602715575,
          1093.0370703921876,
          1092.979230941782,
          1093.3000216168937,
          1093.6866143845807,
          1093.973412759615,
          1094.3030039940015,
          1094.3980176277412,
          1094.4513808132617,
          1094.4765440718747,
          1094.5690255589213,
          1094.854786233081,
          1095.1470270511566,
          1095.445342831564,
          1095.5860615622778,
          1095.5921852907236,
          1095.5773591526452,
          1095.4356909278279,
          1095.573255326795,
          1095.7779043153732,
          1096.0152964796664,
          1096.2742596323924,
          1096.3240593807066,
          1096.3141062137195,
          1096.2214066611284,
          1096.158704677887,
          1096.2847076325947,
          1096.5090621244976,
          1096.7678031808082,
          1096.890089462858,
          1096.8940871107432,
          1096.8314066774435,
          1096.6884862494412,
          1096.6627913168531,
          1096.8228633472283,
          1097.0067495733579,
          1097.2296012290028,
          1097.2910058600235,
          1097.2283977230761,
          1097.146401259648,
          1096.9116860954068,
          1096.965456497439,
          1097.0568248255115,
          1097.2258102907977,
          1097.4465152338187,
          1097.450575337773,
          1097.413738690122,
          1097.2740493242163,
          1097.1466247020298,
          1097.1963827721486,
          1097.3570833714687,
          1097.5836376261907,
          1097.6797977775948,
          1097.6727240076987,
          1097.5752491444596,
          1097.3471295078614,
          1097.300665389102,
          1097.3075673888316,
          1097.4849694079064,
          1097.8037942326073,
          1097.7901358998095,
          1097.7366027458293,
          1097.6493746477627,
          1097.381058188043,
          1097.454394157084,
          1099.1510168229515,
          1105.0365394324142,
          1111.9491450884002,
          1117.8984915474173,
          1123.092671802524,
          1127.1461834826757,
          1129.7371895036208,
          1131.8427990164225,
          1133.752062114549,
          1135.5852221103391,
          1136.1917169015016,
          1134.1428687339799,
          1131.3434990002854,
          1128.6448716819812,
          1126.4134055139275,
          1124.3771850222577,
          1120.9534958748932,
          1117.4015069591544,
          1114.1751732449118,
          1110.8299201238963,
          1105.6444746845095,
          1099.031583136526,
          1092.6238682891387,
          1087.0468767104976,
          1082.2304129239965,
          1077.3991309278308,
          1072.0878535251784,
          1067.143390706144,
          1062.7522076627565,
          1058.5922620186961,
          1053.091969081149,
          1030.0722206150504,
          959.7923163047328,
          858.057049586816,
          770.9150726082906,
          704.2935394903565,
          643.9759425996778,
          584.9022480583747,
          523.2189900091897,
          465.31554088229336,
          405.5462963446649,
          344.4304807728943,
          303.8410345566257,
          272.42474684379874,
          246.10156221426777,
          226.84838716335113,
          209.72519703205458,
          195.2005937118862,
          182.09576636742986,
          178.60855543433107,
          174.9913467832713,
          168.7088908003751,
          168.63430010620036,
          169.1003070180882,
          167.01590861162967,
          162.75847773044467,
          160.21943079112793,
          159.81944380298978,
          160.5669905669858,
          160.30863456321543,
          158.78038903426008,
          158.3318189007352,
          143.13956664663598,
          118.11735391130179,
          110.9121361801445
         ],
         "yaxis": "y"
        }
       ],
       "layout": {
        "legend": {
         "tracegroupgap": 0
        },
        "margin": {
         "t": 60
        },
        "template": {
         "data": {
          "bar": [
           {
            "error_x": {
             "color": "#2a3f5f"
            },
            "error_y": {
             "color": "#2a3f5f"
            },
            "marker": {
             "line": {
              "color": "#E5ECF6",
              "width": 0.5
             },
             "pattern": {
              "fillmode": "overlay",
              "size": 10,
              "solidity": 0.2
             }
            },
            "type": "bar"
           }
          ],
          "barpolar": [
           {
            "marker": {
             "line": {
              "color": "#E5ECF6",
              "width": 0.5
             },
             "pattern": {
              "fillmode": "overlay",
              "size": 10,
              "solidity": 0.2
             }
            },
            "type": "barpolar"
           }
          ],
          "carpet": [
           {
            "aaxis": {
             "endlinecolor": "#2a3f5f",
             "gridcolor": "white",
             "linecolor": "white",
             "minorgridcolor": "white",
             "startlinecolor": "#2a3f5f"
            },
            "baxis": {
             "endlinecolor": "#2a3f5f",
             "gridcolor": "white",
             "linecolor": "white",
             "minorgridcolor": "white",
             "startlinecolor": "#2a3f5f"
            },
            "type": "carpet"
           }
          ],
          "choropleth": [
           {
            "colorbar": {
             "outlinewidth": 0,
             "ticks": ""
            },
            "type": "choropleth"
           }
          ],
          "contour": [
           {
            "colorbar": {
             "outlinewidth": 0,
             "ticks": ""
            },
            "colorscale": [
             [
              0,
              "#0d0887"
             ],
             [
              0.1111111111111111,
              "#46039f"
             ],
             [
              0.2222222222222222,
              "#7201a8"
             ],
             [
              0.3333333333333333,
              "#9c179e"
             ],
             [
              0.4444444444444444,
              "#bd3786"
             ],
             [
              0.5555555555555556,
              "#d8576b"
             ],
             [
              0.6666666666666666,
              "#ed7953"
             ],
             [
              0.7777777777777778,
              "#fb9f3a"
             ],
             [
              0.8888888888888888,
              "#fdca26"
             ],
             [
              1,
              "#f0f921"
             ]
            ],
            "type": "contour"
           }
          ],
          "contourcarpet": [
           {
            "colorbar": {
             "outlinewidth": 0,
             "ticks": ""
            },
            "type": "contourcarpet"
           }
          ],
          "heatmap": [
           {
            "colorbar": {
             "outlinewidth": 0,
             "ticks": ""
            },
            "colorscale": [
             [
              0,
              "#0d0887"
             ],
             [
              0.1111111111111111,
              "#46039f"
             ],
             [
              0.2222222222222222,
              "#7201a8"
             ],
             [
              0.3333333333333333,
              "#9c179e"
             ],
             [
              0.4444444444444444,
              "#bd3786"
             ],
             [
              0.5555555555555556,
              "#d8576b"
             ],
             [
              0.6666666666666666,
              "#ed7953"
             ],
             [
              0.7777777777777778,
              "#fb9f3a"
             ],
             [
              0.8888888888888888,
              "#fdca26"
             ],
             [
              1,
              "#f0f921"
             ]
            ],
            "type": "heatmap"
           }
          ],
          "heatmapgl": [
           {
            "colorbar": {
             "outlinewidth": 0,
             "ticks": ""
            },
            "colorscale": [
             [
              0,
              "#0d0887"
             ],
             [
              0.1111111111111111,
              "#46039f"
             ],
             [
              0.2222222222222222,
              "#7201a8"
             ],
             [
              0.3333333333333333,
              "#9c179e"
             ],
             [
              0.4444444444444444,
              "#bd3786"
             ],
             [
              0.5555555555555556,
              "#d8576b"
             ],
             [
              0.6666666666666666,
              "#ed7953"
             ],
             [
              0.7777777777777778,
              "#fb9f3a"
             ],
             [
              0.8888888888888888,
              "#fdca26"
             ],
             [
              1,
              "#f0f921"
             ]
            ],
            "type": "heatmapgl"
           }
          ],
          "histogram": [
           {
            "marker": {
             "pattern": {
              "fillmode": "overlay",
              "size": 10,
              "solidity": 0.2
             }
            },
            "type": "histogram"
           }
          ],
          "histogram2d": [
           {
            "colorbar": {
             "outlinewidth": 0,
             "ticks": ""
            },
            "colorscale": [
             [
              0,
              "#0d0887"
             ],
             [
              0.1111111111111111,
              "#46039f"
             ],
             [
              0.2222222222222222,
              "#7201a8"
             ],
             [
              0.3333333333333333,
              "#9c179e"
             ],
             [
              0.4444444444444444,
              "#bd3786"
             ],
             [
              0.5555555555555556,
              "#d8576b"
             ],
             [
              0.6666666666666666,
              "#ed7953"
             ],
             [
              0.7777777777777778,
              "#fb9f3a"
             ],
             [
              0.8888888888888888,
              "#fdca26"
             ],
             [
              1,
              "#f0f921"
             ]
            ],
            "type": "histogram2d"
           }
          ],
          "histogram2dcontour": [
           {
            "colorbar": {
             "outlinewidth": 0,
             "ticks": ""
            },
            "colorscale": [
             [
              0,
              "#0d0887"
             ],
             [
              0.1111111111111111,
              "#46039f"
             ],
             [
              0.2222222222222222,
              "#7201a8"
             ],
             [
              0.3333333333333333,
              "#9c179e"
             ],
             [
              0.4444444444444444,
              "#bd3786"
             ],
             [
              0.5555555555555556,
              "#d8576b"
             ],
             [
              0.6666666666666666,
              "#ed7953"
             ],
             [
              0.7777777777777778,
              "#fb9f3a"
             ],
             [
              0.8888888888888888,
              "#fdca26"
             ],
             [
              1,
              "#f0f921"
             ]
            ],
            "type": "histogram2dcontour"
           }
          ],
          "mesh3d": [
           {
            "colorbar": {
             "outlinewidth": 0,
             "ticks": ""
            },
            "type": "mesh3d"
           }
          ],
          "parcoords": [
           {
            "line": {
             "colorbar": {
              "outlinewidth": 0,
              "ticks": ""
             }
            },
            "type": "parcoords"
           }
          ],
          "pie": [
           {
            "automargin": true,
            "type": "pie"
           }
          ],
          "scatter": [
           {
            "fillpattern": {
             "fillmode": "overlay",
             "size": 10,
             "solidity": 0.2
            },
            "type": "scatter"
           }
          ],
          "scatter3d": [
           {
            "line": {
             "colorbar": {
              "outlinewidth": 0,
              "ticks": ""
             }
            },
            "marker": {
             "colorbar": {
              "outlinewidth": 0,
              "ticks": ""
             }
            },
            "type": "scatter3d"
           }
          ],
          "scattercarpet": [
           {
            "marker": {
             "colorbar": {
              "outlinewidth": 0,
              "ticks": ""
             }
            },
            "type": "scattercarpet"
           }
          ],
          "scattergeo": [
           {
            "marker": {
             "colorbar": {
              "outlinewidth": 0,
              "ticks": ""
             }
            },
            "type": "scattergeo"
           }
          ],
          "scattergl": [
           {
            "marker": {
             "colorbar": {
              "outlinewidth": 0,
              "ticks": ""
             }
            },
            "type": "scattergl"
           }
          ],
          "scattermapbox": [
           {
            "marker": {
             "colorbar": {
              "outlinewidth": 0,
              "ticks": ""
             }
            },
            "type": "scattermapbox"
           }
          ],
          "scatterpolar": [
           {
            "marker": {
             "colorbar": {
              "outlinewidth": 0,
              "ticks": ""
             }
            },
            "type": "scatterpolar"
           }
          ],
          "scatterpolargl": [
           {
            "marker": {
             "colorbar": {
              "outlinewidth": 0,
              "ticks": ""
             }
            },
            "type": "scatterpolargl"
           }
          ],
          "scatterternary": [
           {
            "marker": {
             "colorbar": {
              "outlinewidth": 0,
              "ticks": ""
             }
            },
            "type": "scatterternary"
           }
          ],
          "surface": [
           {
            "colorbar": {
             "outlinewidth": 0,
             "ticks": ""
            },
            "colorscale": [
             [
              0,
              "#0d0887"
             ],
             [
              0.1111111111111111,
              "#46039f"
             ],
             [
              0.2222222222222222,
              "#7201a8"
             ],
             [
              0.3333333333333333,
              "#9c179e"
             ],
             [
              0.4444444444444444,
              "#bd3786"
             ],
             [
              0.5555555555555556,
              "#d8576b"
             ],
             [
              0.6666666666666666,
              "#ed7953"
             ],
             [
              0.7777777777777778,
              "#fb9f3a"
             ],
             [
              0.8888888888888888,
              "#fdca26"
             ],
             [
              1,
              "#f0f921"
             ]
            ],
            "type": "surface"
           }
          ],
          "table": [
           {
            "cells": {
             "fill": {
              "color": "#EBF0F8"
             },
             "line": {
              "color": "white"
             }
            },
            "header": {
             "fill": {
              "color": "#C8D4E3"
             },
             "line": {
              "color": "white"
             }
            },
            "type": "table"
           }
          ]
         },
         "layout": {
          "annotationdefaults": {
           "arrowcolor": "#2a3f5f",
           "arrowhead": 0,
           "arrowwidth": 1
          },
          "autotypenumbers": "strict",
          "coloraxis": {
           "colorbar": {
            "outlinewidth": 0,
            "ticks": ""
           }
          },
          "colorscale": {
           "diverging": [
            [
             0,
             "#8e0152"
            ],
            [
             0.1,
             "#c51b7d"
            ],
            [
             0.2,
             "#de77ae"
            ],
            [
             0.3,
             "#f1b6da"
            ],
            [
             0.4,
             "#fde0ef"
            ],
            [
             0.5,
             "#f7f7f7"
            ],
            [
             0.6,
             "#e6f5d0"
            ],
            [
             0.7,
             "#b8e186"
            ],
            [
             0.8,
             "#7fbc41"
            ],
            [
             0.9,
             "#4d9221"
            ],
            [
             1,
             "#276419"
            ]
           ],
           "sequential": [
            [
             0,
             "#0d0887"
            ],
            [
             0.1111111111111111,
             "#46039f"
            ],
            [
             0.2222222222222222,
             "#7201a8"
            ],
            [
             0.3333333333333333,
             "#9c179e"
            ],
            [
             0.4444444444444444,
             "#bd3786"
            ],
            [
             0.5555555555555556,
             "#d8576b"
            ],
            [
             0.6666666666666666,
             "#ed7953"
            ],
            [
             0.7777777777777778,
             "#fb9f3a"
            ],
            [
             0.8888888888888888,
             "#fdca26"
            ],
            [
             1,
             "#f0f921"
            ]
           ],
           "sequentialminus": [
            [
             0,
             "#0d0887"
            ],
            [
             0.1111111111111111,
             "#46039f"
            ],
            [
             0.2222222222222222,
             "#7201a8"
            ],
            [
             0.3333333333333333,
             "#9c179e"
            ],
            [
             0.4444444444444444,
             "#bd3786"
            ],
            [
             0.5555555555555556,
             "#d8576b"
            ],
            [
             0.6666666666666666,
             "#ed7953"
            ],
            [
             0.7777777777777778,
             "#fb9f3a"
            ],
            [
             0.8888888888888888,
             "#fdca26"
            ],
            [
             1,
             "#f0f921"
            ]
           ]
          },
          "colorway": [
           "#636efa",
           "#EF553B",
           "#00cc96",
           "#ab63fa",
           "#FFA15A",
           "#19d3f3",
           "#FF6692",
           "#B6E880",
           "#FF97FF",
           "#FECB52"
          ],
          "font": {
           "color": "#2a3f5f"
          },
          "geo": {
           "bgcolor": "white",
           "lakecolor": "white",
           "landcolor": "#E5ECF6",
           "showlakes": true,
           "showland": true,
           "subunitcolor": "white"
          },
          "hoverlabel": {
           "align": "left"
          },
          "hovermode": "closest",
          "mapbox": {
           "style": "light"
          },
          "paper_bgcolor": "white",
          "plot_bgcolor": "#E5ECF6",
          "polar": {
           "angularaxis": {
            "gridcolor": "white",
            "linecolor": "white",
            "ticks": ""
           },
           "bgcolor": "#E5ECF6",
           "radialaxis": {
            "gridcolor": "white",
            "linecolor": "white",
            "ticks": ""
           }
          },
          "scene": {
           "xaxis": {
            "backgroundcolor": "#E5ECF6",
            "gridcolor": "white",
            "gridwidth": 2,
            "linecolor": "white",
            "showbackground": true,
            "ticks": "",
            "zerolinecolor": "white"
           },
           "yaxis": {
            "backgroundcolor": "#E5ECF6",
            "gridcolor": "white",
            "gridwidth": 2,
            "linecolor": "white",
            "showbackground": true,
            "ticks": "",
            "zerolinecolor": "white"
           },
           "zaxis": {
            "backgroundcolor": "#E5ECF6",
            "gridcolor": "white",
            "gridwidth": 2,
            "linecolor": "white",
            "showbackground": true,
            "ticks": "",
            "zerolinecolor": "white"
           }
          },
          "shapedefaults": {
           "line": {
            "color": "#2a3f5f"
           }
          },
          "ternary": {
           "aaxis": {
            "gridcolor": "white",
            "linecolor": "white",
            "ticks": ""
           },
           "baxis": {
            "gridcolor": "white",
            "linecolor": "white",
            "ticks": ""
           },
           "bgcolor": "#E5ECF6",
           "caxis": {
            "gridcolor": "white",
            "linecolor": "white",
            "ticks": ""
           }
          },
          "title": {
           "x": 0.05
          },
          "xaxis": {
           "automargin": true,
           "gridcolor": "white",
           "linecolor": "white",
           "ticks": "",
           "title": {
            "standoff": 15
           },
           "zerolinecolor": "white",
           "zerolinewidth": 2
          },
          "yaxis": {
           "automargin": true,
           "gridcolor": "white",
           "linecolor": "white",
           "ticks": "",
           "title": {
            "standoff": 15
           },
           "zerolinecolor": "white",
           "zerolinewidth": 2
          }
         }
        },
        "xaxis": {
         "anchor": "y",
         "domain": [
          0,
          1
         ],
         "title": {
          "text": "index"
         }
        },
        "yaxis": {
         "anchor": "x",
         "domain": [
          0,
          1
         ],
         "title": {
          "text": "incidence"
         }
        }
       }
      }
     },
     "metadata": {},
     "output_type": "display_data"
    }
   ],
   "source": [
    "inci_plot = px.line(\n",
    "    derived_df_0,\n",
    "    x=derived_df_0.index,\n",
    "    y=\"incidence\",\n",
    ")\n",
    "inci_plot.show()\n",
    "# inci_plot.write_image(str(SUPPLEMENT_PATH) + \"/incidence.jpg\")"
   ]
  },
  {
   "cell_type": "code",
   "execution_count": 15,
   "metadata": {},
   "outputs": [
    {
     "data": {
      "application/vnd.plotly.v1+json": {
       "config": {
        "plotlyServerURL": "https://plot.ly"
       },
       "data": [
        {
         "hovertemplate": "index=%{x}<br>percentage_latent=%{y}<extra></extra>",
         "legendgroup": "",
         "line": {
          "color": "#636efa",
          "dash": "solid"
         },
         "marker": {
          "symbol": "circle"
         },
         "mode": "lines",
         "name": "",
         "orientation": "v",
         "showlegend": false,
         "type": "scatter",
         "x": [
          1800,
          1801,
          1802,
          1803,
          1804,
          1805,
          1806,
          1807,
          1808,
          1809,
          1810,
          1811,
          1812,
          1813,
          1814,
          1815,
          1816,
          1817,
          1818,
          1819,
          1820,
          1821,
          1822,
          1823,
          1824,
          1825,
          1826,
          1827,
          1828,
          1829,
          1830,
          1831,
          1832,
          1833,
          1834,
          1835,
          1836,
          1837,
          1838,
          1839,
          1840,
          1841,
          1842,
          1843,
          1844,
          1845,
          1846,
          1847,
          1848,
          1849,
          1850,
          1851,
          1852,
          1853,
          1854,
          1855,
          1856,
          1857,
          1858,
          1859,
          1860,
          1861,
          1862,
          1863,
          1864,
          1865,
          1866,
          1867,
          1868,
          1869,
          1870,
          1871,
          1872,
          1873,
          1874,
          1875,
          1876,
          1877,
          1878,
          1879,
          1880,
          1881,
          1882,
          1883,
          1884,
          1885,
          1886,
          1887,
          1888,
          1889,
          1890,
          1891,
          1892,
          1893,
          1894,
          1895,
          1896,
          1897,
          1898,
          1899,
          1900,
          1901,
          1902,
          1903,
          1904,
          1905,
          1906,
          1907,
          1908,
          1909,
          1910,
          1911,
          1912,
          1913,
          1914,
          1915,
          1916,
          1917,
          1918,
          1919,
          1920,
          1921,
          1922,
          1923,
          1924,
          1925,
          1926,
          1927,
          1928,
          1929,
          1930,
          1931,
          1932,
          1933,
          1934,
          1935,
          1936,
          1937,
          1938,
          1939,
          1940,
          1941,
          1942,
          1943,
          1944,
          1945,
          1946,
          1947,
          1948,
          1949,
          1950,
          1951,
          1952,
          1953,
          1954,
          1955,
          1956,
          1957,
          1958,
          1959,
          1960,
          1961,
          1962,
          1963,
          1964,
          1965,
          1966,
          1967,
          1968,
          1969,
          1970,
          1971,
          1972,
          1973,
          1974,
          1975,
          1976,
          1977,
          1978,
          1979,
          1980,
          1981,
          1982,
          1983,
          1984,
          1985,
          1986,
          1987,
          1988,
          1989,
          1990,
          1991,
          1992,
          1993,
          1994,
          1995,
          1996,
          1997,
          1998,
          1999,
          2000,
          2001,
          2002,
          2003,
          2004,
          2005,
          2006,
          2007,
          2008,
          2009,
          2010,
          2011,
          2012,
          2013,
          2014,
          2015,
          2016,
          2017,
          2018,
          2019,
          2020
         ],
         "xaxis": "x",
         "y": [
          0,
          0.006188394810376175,
          0.015375018571988756,
          0.030547868171032635,
          0.05593353192092823,
          0.09867022392440605,
          0.17085703352551593,
          0.2929417975312225,
          0.4992966984868006,
          0.8471573329487955,
          1.4303192388154256,
          2.3983353876253526,
          3.978636545545767,
          6.48934173883165,
          10.31142040615579,
          15.769258574787578,
          22.897584947952417,
          31.213179032680543,
          39.76187686573698,
          47.538107266107495,
          53.93009776464431,
          58.82076117470448,
          62.40204306499366,
          64.9622348719998,
          66.76896515043047,
          68.03303469368268,
          68.90926258028901,
          69.5089219397438,
          69.9114116803579,
          70.1737604480315,
          70.33720241758883,
          70.4317188354762,
          70.47912588317674,
          70.49550837643532,
          70.49219892779094,
          70.47760294425301,
          70.45749926357746,
          70.43589392382925,
          70.41544265016796,
          70.39777795992896,
          70.38377494135054,
          70.37382316475747,
          70.3678515736506,
          70.36573675246859,
          70.36700225778605,
          70.3713096498568,
          70.37816663073276,
          70.38708605403083,
          70.397748427866,
          70.40958435804845,
          70.42234775793247,
          70.43566474615922,
          70.44929925313718,
          70.46305567792623,
          70.4767673053662,
          70.49031681683516,
          70.50359514151098,
          70.51646793960428,
          70.52893103848254,
          70.54086453626256,
          70.55232766744143,
          70.56327136626544,
          70.57371181875165,
          70.58371954831166,
          70.5932521096354,
          70.6022347734193,
          70.61081662320416,
          70.6188688104611,
          70.62654424245385,
          70.63380957660402,
          70.64067385480404,
          70.64729208773343,
          70.65348133150937,
          70.65940096192594,
          70.66496788967535,
          70.67023414259498,
          70.67522743959891,
          70.67996472758949,
          70.68448572879494,
          70.68880583597257,
          70.69287782448973,
          70.69677020098375,
          70.70039828128577,
          70.70387086061963,
          70.70713893816372,
          70.71024444054622,
          70.71327236859491,
          70.71609946261711,
          70.71883317578111,
          70.72138502055657,
          70.72379970213261,
          70.72610678675925,
          70.72826189922786,
          70.73029569185327,
          70.73235209208651,
          70.73420763850734,
          70.73604510628684,
          70.73773457943908,
          70.73933255477553,
          70.7408479188295,
          70.74228382663117,
          70.74367268210788,
          70.74502644008088,
          70.74628555223407,
          70.74751538810273,
          70.74860959854152,
          70.749686097028,
          70.75066693670438,
          70.75160367443708,
          70.75256897026841,
          70.75343369471737,
          70.75432023615903,
          70.75510848582127,
          70.75585407272852,
          70.75654949161107,
          70.75719917909514,
          70.75783522475928,
          70.75847559210611,
          70.75907928939972,
          70.75967125154298,
          70.76017975569519,
          70.76068386946356,
          70.76112299025148,
          70.76155563797093,
          70.76198392114502,
          70.76242801593938,
          70.76282274724329,
          70.76323909510091,
          70.7635501362435,
          70.76389430635788,
          70.76416683538642,
          70.76443414959357,
          70.76476095987998,
          70.76501136912444,
          70.76533304330235,
          70.7655735438971,
          70.7658066691208,
          70.76601191196552,
          70.76619262567911,
          70.7663802214312,
          70.76659282572889,
          70.76679412310938,
          70.76700783583154,
          70.76715402378886,
          70.76732062492391,
          70.76742512183364,
          70.76753822691553,
          70.76768190505582,
          70.76779761296464,
          70.76797820193816,
          70.76812386227388,
          70.7681955406481,
          70.76831797061182,
          70.76829283700296,
          70.76476260256585,
          70.70249722566113,
          70.46762267154358,
          70.20125428294342,
          69.96410685297916,
          69.76048565834726,
          69.60135869230344,
          69.50910639724957,
          69.44999285338947,
          69.40763577435162,
          69.37988381526773,
          69.3959737251407,
          69.51965517640156,
          69.66847825869391,
          69.80544470182238,
          69.92783719406627,
          70.0518790562475,
          70.21316844256596,
          70.37130519230953,
          70.50896525777661,
          70.62830246950656,
          70.76888768864349,
          71.01015676504011,
          71.25652886239972,
          71.46866211286576,
          71.64785585800107,
          71.816320465866,
          72.0169713509123,
          72.20500488244785,
          72.3630787224127,
          72.4943984334672,
          72.62325263591727,
          72.79472057815381,
          72.91542065236978,
          72.8108403294406,
          72.47947670973757,
          72.0367611184007,
          71.61128292114918,
          71.11601760632435,
          70.5127601560278,
          69.78639559635441,
          69.05728623284884,
          68.45523120230271,
          67.77151648415581,
          67.02016416157133,
          66.19008876813275,
          65.35649975086974,
          64.57747318142701,
          63.79324400217288,
          62.988695446963305,
          62.1664252535885,
          61.36958264949896,
          60.57702929636568,
          59.79006865131927,
          59.041267393587,
          58.32826557319147,
          57.63368238397142,
          56.93874749822171,
          56.2510982657194,
          55.58972839755185,
          54.96358209920857,
          54.36374074212297,
          53.7866122499536,
          53.22433398273726,
          52.437294925253504,
          51.447663978055694,
          50.5323601843891
         ],
         "yaxis": "y"
        },
        {
         "hovertemplate": "x=%{x}<br>y=%{y}<extra></extra>",
         "legendgroup": "",
         "marker": {
          "color": "red",
          "symbol": "circle"
         },
         "mode": "markers",
         "name": "",
         "orientation": "v",
         "showlegend": false,
         "type": "scatter",
         "x": [
          2016
         ],
         "xaxis": "x",
         "y": [
          30.8
         ],
         "yaxis": "y"
        }
       ],
       "layout": {
        "template": {
         "data": {
          "bar": [
           {
            "error_x": {
             "color": "#2a3f5f"
            },
            "error_y": {
             "color": "#2a3f5f"
            },
            "marker": {
             "line": {
              "color": "#E5ECF6",
              "width": 0.5
             },
             "pattern": {
              "fillmode": "overlay",
              "size": 10,
              "solidity": 0.2
             }
            },
            "type": "bar"
           }
          ],
          "barpolar": [
           {
            "marker": {
             "line": {
              "color": "#E5ECF6",
              "width": 0.5
             },
             "pattern": {
              "fillmode": "overlay",
              "size": 10,
              "solidity": 0.2
             }
            },
            "type": "barpolar"
           }
          ],
          "carpet": [
           {
            "aaxis": {
             "endlinecolor": "#2a3f5f",
             "gridcolor": "white",
             "linecolor": "white",
             "minorgridcolor": "white",
             "startlinecolor": "#2a3f5f"
            },
            "baxis": {
             "endlinecolor": "#2a3f5f",
             "gridcolor": "white",
             "linecolor": "white",
             "minorgridcolor": "white",
             "startlinecolor": "#2a3f5f"
            },
            "type": "carpet"
           }
          ],
          "choropleth": [
           {
            "colorbar": {
             "outlinewidth": 0,
             "ticks": ""
            },
            "type": "choropleth"
           }
          ],
          "contour": [
           {
            "colorbar": {
             "outlinewidth": 0,
             "ticks": ""
            },
            "colorscale": [
             [
              0,
              "#0d0887"
             ],
             [
              0.1111111111111111,
              "#46039f"
             ],
             [
              0.2222222222222222,
              "#7201a8"
             ],
             [
              0.3333333333333333,
              "#9c179e"
             ],
             [
              0.4444444444444444,
              "#bd3786"
             ],
             [
              0.5555555555555556,
              "#d8576b"
             ],
             [
              0.6666666666666666,
              "#ed7953"
             ],
             [
              0.7777777777777778,
              "#fb9f3a"
             ],
             [
              0.8888888888888888,
              "#fdca26"
             ],
             [
              1,
              "#f0f921"
             ]
            ],
            "type": "contour"
           }
          ],
          "contourcarpet": [
           {
            "colorbar": {
             "outlinewidth": 0,
             "ticks": ""
            },
            "type": "contourcarpet"
           }
          ],
          "heatmap": [
           {
            "colorbar": {
             "outlinewidth": 0,
             "ticks": ""
            },
            "colorscale": [
             [
              0,
              "#0d0887"
             ],
             [
              0.1111111111111111,
              "#46039f"
             ],
             [
              0.2222222222222222,
              "#7201a8"
             ],
             [
              0.3333333333333333,
              "#9c179e"
             ],
             [
              0.4444444444444444,
              "#bd3786"
             ],
             [
              0.5555555555555556,
              "#d8576b"
             ],
             [
              0.6666666666666666,
              "#ed7953"
             ],
             [
              0.7777777777777778,
              "#fb9f3a"
             ],
             [
              0.8888888888888888,
              "#fdca26"
             ],
             [
              1,
              "#f0f921"
             ]
            ],
            "type": "heatmap"
           }
          ],
          "heatmapgl": [
           {
            "colorbar": {
             "outlinewidth": 0,
             "ticks": ""
            },
            "colorscale": [
             [
              0,
              "#0d0887"
             ],
             [
              0.1111111111111111,
              "#46039f"
             ],
             [
              0.2222222222222222,
              "#7201a8"
             ],
             [
              0.3333333333333333,
              "#9c179e"
             ],
             [
              0.4444444444444444,
              "#bd3786"
             ],
             [
              0.5555555555555556,
              "#d8576b"
             ],
             [
              0.6666666666666666,
              "#ed7953"
             ],
             [
              0.7777777777777778,
              "#fb9f3a"
             ],
             [
              0.8888888888888888,
              "#fdca26"
             ],
             [
              1,
              "#f0f921"
             ]
            ],
            "type": "heatmapgl"
           }
          ],
          "histogram": [
           {
            "marker": {
             "pattern": {
              "fillmode": "overlay",
              "size": 10,
              "solidity": 0.2
             }
            },
            "type": "histogram"
           }
          ],
          "histogram2d": [
           {
            "colorbar": {
             "outlinewidth": 0,
             "ticks": ""
            },
            "colorscale": [
             [
              0,
              "#0d0887"
             ],
             [
              0.1111111111111111,
              "#46039f"
             ],
             [
              0.2222222222222222,
              "#7201a8"
             ],
             [
              0.3333333333333333,
              "#9c179e"
             ],
             [
              0.4444444444444444,
              "#bd3786"
             ],
             [
              0.5555555555555556,
              "#d8576b"
             ],
             [
              0.6666666666666666,
              "#ed7953"
             ],
             [
              0.7777777777777778,
              "#fb9f3a"
             ],
             [
              0.8888888888888888,
              "#fdca26"
             ],
             [
              1,
              "#f0f921"
             ]
            ],
            "type": "histogram2d"
           }
          ],
          "histogram2dcontour": [
           {
            "colorbar": {
             "outlinewidth": 0,
             "ticks": ""
            },
            "colorscale": [
             [
              0,
              "#0d0887"
             ],
             [
              0.1111111111111111,
              "#46039f"
             ],
             [
              0.2222222222222222,
              "#7201a8"
             ],
             [
              0.3333333333333333,
              "#9c179e"
             ],
             [
              0.4444444444444444,
              "#bd3786"
             ],
             [
              0.5555555555555556,
              "#d8576b"
             ],
             [
              0.6666666666666666,
              "#ed7953"
             ],
             [
              0.7777777777777778,
              "#fb9f3a"
             ],
             [
              0.8888888888888888,
              "#fdca26"
             ],
             [
              1,
              "#f0f921"
             ]
            ],
            "type": "histogram2dcontour"
           }
          ],
          "mesh3d": [
           {
            "colorbar": {
             "outlinewidth": 0,
             "ticks": ""
            },
            "type": "mesh3d"
           }
          ],
          "parcoords": [
           {
            "line": {
             "colorbar": {
              "outlinewidth": 0,
              "ticks": ""
             }
            },
            "type": "parcoords"
           }
          ],
          "pie": [
           {
            "automargin": true,
            "type": "pie"
           }
          ],
          "scatter": [
           {
            "fillpattern": {
             "fillmode": "overlay",
             "size": 10,
             "solidity": 0.2
            },
            "type": "scatter"
           }
          ],
          "scatter3d": [
           {
            "line": {
             "colorbar": {
              "outlinewidth": 0,
              "ticks": ""
             }
            },
            "marker": {
             "colorbar": {
              "outlinewidth": 0,
              "ticks": ""
             }
            },
            "type": "scatter3d"
           }
          ],
          "scattercarpet": [
           {
            "marker": {
             "colorbar": {
              "outlinewidth": 0,
              "ticks": ""
             }
            },
            "type": "scattercarpet"
           }
          ],
          "scattergeo": [
           {
            "marker": {
             "colorbar": {
              "outlinewidth": 0,
              "ticks": ""
             }
            },
            "type": "scattergeo"
           }
          ],
          "scattergl": [
           {
            "marker": {
             "colorbar": {
              "outlinewidth": 0,
              "ticks": ""
             }
            },
            "type": "scattergl"
           }
          ],
          "scattermapbox": [
           {
            "marker": {
             "colorbar": {
              "outlinewidth": 0,
              "ticks": ""
             }
            },
            "type": "scattermapbox"
           }
          ],
          "scatterpolar": [
           {
            "marker": {
             "colorbar": {
              "outlinewidth": 0,
              "ticks": ""
             }
            },
            "type": "scatterpolar"
           }
          ],
          "scatterpolargl": [
           {
            "marker": {
             "colorbar": {
              "outlinewidth": 0,
              "ticks": ""
             }
            },
            "type": "scatterpolargl"
           }
          ],
          "scatterternary": [
           {
            "marker": {
             "colorbar": {
              "outlinewidth": 0,
              "ticks": ""
             }
            },
            "type": "scatterternary"
           }
          ],
          "surface": [
           {
            "colorbar": {
             "outlinewidth": 0,
             "ticks": ""
            },
            "colorscale": [
             [
              0,
              "#0d0887"
             ],
             [
              0.1111111111111111,
              "#46039f"
             ],
             [
              0.2222222222222222,
              "#7201a8"
             ],
             [
              0.3333333333333333,
              "#9c179e"
             ],
             [
              0.4444444444444444,
              "#bd3786"
             ],
             [
              0.5555555555555556,
              "#d8576b"
             ],
             [
              0.6666666666666666,
              "#ed7953"
             ],
             [
              0.7777777777777778,
              "#fb9f3a"
             ],
             [
              0.8888888888888888,
              "#fdca26"
             ],
             [
              1,
              "#f0f921"
             ]
            ],
            "type": "surface"
           }
          ],
          "table": [
           {
            "cells": {
             "fill": {
              "color": "#EBF0F8"
             },
             "line": {
              "color": "white"
             }
            },
            "header": {
             "fill": {
              "color": "#C8D4E3"
             },
             "line": {
              "color": "white"
             }
            },
            "type": "table"
           }
          ]
         },
         "layout": {
          "annotationdefaults": {
           "arrowcolor": "#2a3f5f",
           "arrowhead": 0,
           "arrowwidth": 1
          },
          "autotypenumbers": "strict",
          "coloraxis": {
           "colorbar": {
            "outlinewidth": 0,
            "ticks": ""
           }
          },
          "colorscale": {
           "diverging": [
            [
             0,
             "#8e0152"
            ],
            [
             0.1,
             "#c51b7d"
            ],
            [
             0.2,
             "#de77ae"
            ],
            [
             0.3,
             "#f1b6da"
            ],
            [
             0.4,
             "#fde0ef"
            ],
            [
             0.5,
             "#f7f7f7"
            ],
            [
             0.6,
             "#e6f5d0"
            ],
            [
             0.7,
             "#b8e186"
            ],
            [
             0.8,
             "#7fbc41"
            ],
            [
             0.9,
             "#4d9221"
            ],
            [
             1,
             "#276419"
            ]
           ],
           "sequential": [
            [
             0,
             "#0d0887"
            ],
            [
             0.1111111111111111,
             "#46039f"
            ],
            [
             0.2222222222222222,
             "#7201a8"
            ],
            [
             0.3333333333333333,
             "#9c179e"
            ],
            [
             0.4444444444444444,
             "#bd3786"
            ],
            [
             0.5555555555555556,
             "#d8576b"
            ],
            [
             0.6666666666666666,
             "#ed7953"
            ],
            [
             0.7777777777777778,
             "#fb9f3a"
            ],
            [
             0.8888888888888888,
             "#fdca26"
            ],
            [
             1,
             "#f0f921"
            ]
           ],
           "sequentialminus": [
            [
             0,
             "#0d0887"
            ],
            [
             0.1111111111111111,
             "#46039f"
            ],
            [
             0.2222222222222222,
             "#7201a8"
            ],
            [
             0.3333333333333333,
             "#9c179e"
            ],
            [
             0.4444444444444444,
             "#bd3786"
            ],
            [
             0.5555555555555556,
             "#d8576b"
            ],
            [
             0.6666666666666666,
             "#ed7953"
            ],
            [
             0.7777777777777778,
             "#fb9f3a"
            ],
            [
             0.8888888888888888,
             "#fdca26"
            ],
            [
             1,
             "#f0f921"
            ]
           ]
          },
          "colorway": [
           "#636efa",
           "#EF553B",
           "#00cc96",
           "#ab63fa",
           "#FFA15A",
           "#19d3f3",
           "#FF6692",
           "#B6E880",
           "#FF97FF",
           "#FECB52"
          ],
          "font": {
           "color": "#2a3f5f"
          },
          "geo": {
           "bgcolor": "white",
           "lakecolor": "white",
           "landcolor": "#E5ECF6",
           "showlakes": true,
           "showland": true,
           "subunitcolor": "white"
          },
          "hoverlabel": {
           "align": "left"
          },
          "hovermode": "closest",
          "mapbox": {
           "style": "light"
          },
          "paper_bgcolor": "white",
          "plot_bgcolor": "#E5ECF6",
          "polar": {
           "angularaxis": {
            "gridcolor": "white",
            "linecolor": "white",
            "ticks": ""
           },
           "bgcolor": "#E5ECF6",
           "radialaxis": {
            "gridcolor": "white",
            "linecolor": "white",
            "ticks": ""
           }
          },
          "scene": {
           "xaxis": {
            "backgroundcolor": "#E5ECF6",
            "gridcolor": "white",
            "gridwidth": 2,
            "linecolor": "white",
            "showbackground": true,
            "ticks": "",
            "zerolinecolor": "white"
           },
           "yaxis": {
            "backgroundcolor": "#E5ECF6",
            "gridcolor": "white",
            "gridwidth": 2,
            "linecolor": "white",
            "showbackground": true,
            "ticks": "",
            "zerolinecolor": "white"
           },
           "zaxis": {
            "backgroundcolor": "#E5ECF6",
            "gridcolor": "white",
            "gridwidth": 2,
            "linecolor": "white",
            "showbackground": true,
            "ticks": "",
            "zerolinecolor": "white"
           }
          },
          "shapedefaults": {
           "line": {
            "color": "#2a3f5f"
           }
          },
          "ternary": {
           "aaxis": {
            "gridcolor": "white",
            "linecolor": "white",
            "ticks": ""
           },
           "baxis": {
            "gridcolor": "white",
            "linecolor": "white",
            "ticks": ""
           },
           "bgcolor": "#E5ECF6",
           "caxis": {
            "gridcolor": "white",
            "linecolor": "white",
            "ticks": ""
           }
          },
          "title": {
           "x": 0.05
          },
          "xaxis": {
           "automargin": true,
           "gridcolor": "white",
           "linecolor": "white",
           "ticks": "",
           "title": {
            "standoff": 15
           },
           "zerolinecolor": "white",
           "zerolinewidth": 2
          },
          "yaxis": {
           "automargin": true,
           "gridcolor": "white",
           "linecolor": "white",
           "ticks": "",
           "title": {
            "standoff": 15
           },
           "zerolinecolor": "white",
           "zerolinewidth": 2
          }
         }
        },
        "title": {
         "text": "Modelled vs Data",
         "x": 0.5
        },
        "xaxis": {
         "title": {
          "text": "Year"
         }
        },
        "yaxis": {
         "title": {
          "text": "Percentage latent"
         }
        }
       }
      }
     },
     "metadata": {},
     "output_type": "display_data"
    },
    {
     "ename": "NameError",
     "evalue": "name 'SUPPLEMENT_PATH' is not defined",
     "output_type": "error",
     "traceback": [
      "\u001b[1;31m---------------------------------------------------------------------------\u001b[0m",
      "\u001b[1;31mNameError\u001b[0m                                 Traceback (most recent call last)",
      "Cell \u001b[1;32mIn[15], line 15\u001b[0m\n\u001b[0;32m     11\u001b[0m latent_plot\u001b[39m.\u001b[39mupdate_layout(\n\u001b[0;32m     12\u001b[0m     title\u001b[39m=\u001b[39m\u001b[39m\"\u001b[39m\u001b[39mModelled vs Data\u001b[39m\u001b[39m\"\u001b[39m, title_x\u001b[39m=\u001b[39m\u001b[39m0.5\u001b[39m, xaxis_title\u001b[39m=\u001b[39m\u001b[39m\"\u001b[39m\u001b[39mYear\u001b[39m\u001b[39m\"\u001b[39m, yaxis_title\u001b[39m=\u001b[39m\u001b[39m\"\u001b[39m\u001b[39mPercentage latent\u001b[39m\u001b[39m\"\u001b[39m\n\u001b[0;32m     13\u001b[0m )\n\u001b[0;32m     14\u001b[0m latent_plot\u001b[39m.\u001b[39mshow()\n\u001b[1;32m---> 15\u001b[0m latent_plot\u001b[39m.\u001b[39mwrite_image(\u001b[39mstr\u001b[39m(SUPPLEMENT_PATH) \u001b[39m+\u001b[39m \u001b[39m\"\u001b[39m\u001b[39m/latent.jpg\u001b[39m\u001b[39m\"\u001b[39m)\n",
      "\u001b[1;31mNameError\u001b[0m: name 'SUPPLEMENT_PATH' is not defined"
     ]
    }
   ],
   "source": [
    "latent_1 = px.line(\n",
    "    derived_df_0,\n",
    "    x=derived_df_0.index,\n",
    "    y=\"percentage_latent\",\n",
    ")\n",
    "latent_2 = px.scatter(x= plots['percentage_latent']['times'], y = plots['percentage_latent']['values'])\n",
    "latent_2.update_traces(marker=dict(color=\"red\"))\n",
    "latent_plot = go.Figure(\n",
    "    data=latent_1.data + latent_2.data,\n",
    ")\n",
    "latent_plot.update_layout(\n",
    "    title=\"Modelled vs Data\", title_x=0.5, xaxis_title=\"Year\", yaxis_title=\"Percentage latent\"\n",
    ")\n",
    "latent_plot.show()\n",
    "# latent_plot.write_image(str(SUPPLEMENT_PATH) + \"/latent.jpg\")"
   ]
  },
  {
   "cell_type": "code",
   "execution_count": null,
   "metadata": {},
   "outputs": [],
   "source": [
    "supplement = generate_doc(\"Supplemental Appendix\", \"austcovid\")\n",
    "compile_doc(doc_sections, supplement)"
   ]
  },
  {
   "cell_type": "code",
   "execution_count": null,
   "metadata": {},
   "outputs": [],
   "source": [
    "# iterations = 20000\n",
    "# burn_in = 2000\n",
    "# n_chains = 20\n",
    "# if new_calibration:\n",
    "#     with pm.Model() as pm_model:\n",
    "#         variables = epm.use_model(calibration_model)\n",
    "#         idata_raw = pm.sample(step=[pm.DEMetropolis(variables)], draws=iterations, tune=0, cores=16, chains=n_chains)\n",
    "#     idata_raw.to_netcdf(OUTPUT_PATH / \"calibration_out.nc\")\n",
    "# else:\n",
    "#     idata_raw = az.from_netcdf(OUTPUT_PATH / \"calibration_out.nc\")\n",
    "\n",
    "# idata = idata_raw.sel(draw=range(burn_in, iterations))  # Discard burn-in"
   ]
  },
  {
   "cell_type": "code",
   "execution_count": null,
   "metadata": {},
   "outputs": [],
   "source": [
    "idata_raw.posterior.isel(draw=0).to_dataframe()"
   ]
  },
  {
   "cell_type": "code",
   "execution_count": null,
   "metadata": {},
   "outputs": [],
   "source": [
    "(idata.sample_stats.accepted.sum(axis=1) / idata.sample_stats.coords[\"draw\"].size).to_dataframe()"
   ]
  }
 ],
 "metadata": {
  "kernelspec": {
   "display_name": "tbdyn",
   "language": "python",
   "name": "python3"
  },
  "language_info": {
   "codemirror_mode": {
    "name": "ipython",
    "version": 3
   },
   "file_extension": ".py",
   "mimetype": "text/x-python",
   "name": "python",
   "nbconvert_exporter": "python",
   "pygments_lexer": "ipython3",
   "version": "3.10.11"
  },
  "orig_nbformat": 4
 },
 "nbformat": 4,
 "nbformat_minor": 2
}
