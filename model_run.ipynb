{
 "cells": [
  {
   "cell_type": "code",
   "execution_count": null,
   "metadata": {},
   "outputs": [],
   "source": [
    "import pandas as pd\n",
    "from pathlib import Path\n",
    "import pymc as pm\n",
    "import plotly.express as px\n",
    "import numpy as np\n",
    "import pandas as pd\n",
    "\n",
    "from estival.model import BayesianCompartmentalModel\n",
    "import estival.priors as esp\n",
    "import estival.targets as est\n",
    "from estival.wrappers import pymc as epm\n",
    "from tbdynamics import model\n",
    "from tbdynamics.utils import round_sigfig\n",
    "from tbdynamics.inputs import fixed_parameters\n",
    "import plotly.graph_objects as go\n",
    "from plotly.subplots import make_subplots"
   ]
  },
  {
   "cell_type": "markdown",
   "metadata": {},
   "source": [
    "## Define variables"
   ]
  },
  {
   "cell_type": "code",
   "execution_count": null,
   "metadata": {},
   "outputs": [],
   "source": [
    "PROJECT_PATH = Path().resolve()\n",
    "DATA_PATH = PROJECT_PATH / 'data'\n",
    "pd.options.plotting.backend = \"plotly\"\n",
    "\n",
    "time_start = 1700.0\n",
    "time_end = 2023.0\n",
    "time_step = 0.1\n",
    "\n",
    "compartments = [\n",
    "    \"susceptible\",\n",
    "    \"early_latent\",\n",
    "    \"late_latent\",\n",
    "    \"infectious\",\n",
    "    \"on_treatment\",\n",
    "    \"recovered\",\n",
    "]\n",
    "\n",
    "latent_compartments = [\n",
    "    \"early_latent\",\n",
    "    \"late_latent\",\n",
    "]\n",
    "infectious_compartments = [\n",
    "    \"infectious\",\n",
    "    \"on_treatment\",\n",
    "]\n",
    "\n",
    "\n",
    "age_strata = [0,5,15,35,50,70] \n",
    "matrix = np.ones((6, 6)) # Homo mixing"
   ]
  },
  {
   "cell_type": "markdown",
   "metadata": {},
   "source": [
    "## Define Model"
   ]
  },
  {
   "cell_type": "markdown",
   "metadata": {},
   "source": [
    "### Base model"
   ]
  },
  {
   "cell_type": "code",
   "execution_count": null,
   "metadata": {},
   "outputs": [],
   "source": [
    "tb_model = model.build_model(\n",
    "    compartments,\n",
    "    latent_compartments,\n",
    "    infectious_compartments,\n",
    "    age_strata,\n",
    "    time_start,\n",
    "    time_end,\n",
    "    time_step,\n",
    "    fixed_parameters,\n",
    "    matrix\n",
    ")"
   ]
  },
  {
   "cell_type": "markdown",
   "metadata": {},
   "source": [
    "### Params and calibration targets"
   ]
  },
  {
   "cell_type": "code",
   "execution_count": null,
   "metadata": {},
   "outputs": [],
   "source": [
    "params = {\n",
    "    \"smear_positive_death_rate\":0.364337776897486,\n",
    "    \"smear_negative_death_rate\": 0.027588310343242016, \n",
    "    \"smear_positive_self_recovery\": 0.20344728302826143,\n",
    "    \"smear_negative_self_recovery\": 0.22723824998716693,\n",
    "}\n",
    "\n",
    "\n",
    "priors = [\n",
    "    esp.UniformPrior(\"start_population_size\", (100000, 30000000)),\n",
    "    esp.UniformPrior(\"contact_rate\", (0, 10)),  # multiplied with eigenvalue\n",
    "    esp.UniformPrior(\"rr_infection_latent\", (0.2, 0.5)),\n",
    "    esp.UniformPrior(\"rr_infection_recovered\", (0.1, 0.5)),\n",
    "    esp.UniformPrior(\"progression_multiplier\", (1.0, 5.0)),\n",
    "    esp.UniformPrior(\"seed_time\", [1700.0, 1900.0]),\n",
    "    esp.UniformPrior(\"seed_duration\", [1.0, 5.0]),\n",
    "    esp.UniformPrior(\"seed_num\", [1.0, 1000.0]),\n",
    "    esp.UniformPrior(\"smear_positive_death_rate\", (0.335, 0.449)),\n",
    "    esp.UniformPrior(\"smear_negative_death_rate\", (0.017, 0.035)),\n",
    "    esp.UniformPrior(\"smear_positive_self_recovery\", (0.177, 0.288)),\n",
    "    esp.UniformPrior(\"smear_negative_self_recovery\", (0.073, 0.209)),\n",
    "\n",
    "]\n",
    "\n",
    "pop = pd.Series(\n",
    "    {\n",
    "        2009: 86025000,\n",
    "        2019: 96484000,\n",
    "\n",
    "    }\n",
    ")\n",
    "\n",
    "targets = [\n",
    "    est.NormalTarget(\"total_population\", pop, stdev=100000),\n",
    "]\n",
    "\n",
    "calibration_model = BayesianCompartmentalModel(tb_model, params, priors, targets)"
   ]
  },
  {
   "cell_type": "markdown",
   "metadata": {},
   "source": [
    "### Running Calibration"
   ]
  },
  {
   "cell_type": "code",
   "execution_count": null,
   "metadata": {},
   "outputs": [],
   "source": [
    "with pm.Model() as pmc_model:\n",
    "    start_params = {k: np.clip(v, *calibration_model.priors[k].bounds(0.99)) for k, v in params.items() if k in calibration_model.priors}\n",
    "    variables = epm.use_model(calibration_model)\n",
    "    map_params = pm.find_MAP(start=start_params, vars=variables, maxeval= 1000,include_transformed=False)\n",
    "    map_params = {k: float(v) for k, v in map_params.items()}\n",
    "    print('Best calibration parameters found:')\n",
    "for i_param, param in enumerate(map_params):\n",
    "    print(f'   {param}: {round_sigfig(map_params[param], 4)} (within bound {priors[i_param].bounds()}')"
   ]
  },
  {
   "cell_type": "code",
   "execution_count": null,
   "metadata": {},
   "outputs": [],
   "source": [
    "params.update(map_params)\n",
    "tb_model.run(params)\n",
    "derived_df_0 = tb_model.get_derived_outputs_df()"
   ]
  },
  {
   "cell_type": "markdown",
   "metadata": {},
   "source": [
    "### Population output"
   ]
  },
  {
   "cell_type": "code",
   "execution_count": null,
   "metadata": {},
   "outputs": [],
   "source": [
    "fig2_1 = px.line(\n",
    "    derived_df_0,\n",
    "    x=derived_df_0.index,\n",
    "    y=\"total_population\",\n",
    ")\n",
    "fig2_2 = px.scatter(x= pop.index, y = pop.values)\n",
    "fig2_2.update_traces(marker=dict(color=\"red\"))\n",
    "fig2_3 = go.Figure(\n",
    "    data=fig2_1.data + fig2_2.data,\n",
    ")\n",
    "fig2_3.update_layout(\n",
    "    title=\"Modelled vs Data\", title_x=0.5, xaxis_title=\"Year\", yaxis_title=\"Population\"\n",
    ")\n",
    "fig2_3.show()"
   ]
  },
  {
   "cell_type": "code",
   "execution_count": null,
   "metadata": {},
   "outputs": [],
   "source": [
    "derived_df_0[[f'total_populationXage_{i}' for i in age_strata]].plot(title='Modelled populatation by age group', kind ='area')"
   ]
  },
  {
   "cell_type": "code",
   "execution_count": null,
   "metadata": {},
   "outputs": [],
   "source": [
    "derived_df_0['percentage_latent'].plot()"
   ]
  },
  {
   "cell_type": "code",
   "execution_count": null,
   "metadata": {},
   "outputs": [],
   "source": [
    "derived_df_0['prevalence_infectious'].plot()"
   ]
  },
  {
   "cell_type": "code",
   "execution_count": null,
   "metadata": {},
   "outputs": [],
   "source": [
    "def plot_faceted_population_chart(df, selected_years, age_groups):\n",
    "    \"\"\"\n",
    "    Plot a faceted chart with each facet for one selected year, arranged in 2 columns.\n",
    "    Each chart shows the total population for each age group beside the infectious population.\n",
    "    \n",
    "    Parameters:\n",
    "    - df: DataFrame with population data.\n",
    "    - selected_years: List of years to plot.\n",
    "    - age_groups: List of age groups.\n",
    "    \"\"\"\n",
    "    # Determine the number of rows needed for the subplots, given 2 columns\n",
    "    rows = int(np.ceil(len(selected_years) / 2))\n",
    "    \n",
    "    # Create subplots with 2 columns\n",
    "    fig = make_subplots(rows=rows, cols=2,\n",
    "                        subplot_titles=[f'Year {year}' for year in selected_years],\n",
    "                        shared_xaxes=True)\n",
    "    \n",
    "    total_legend_shown = False\n",
    "    latent_legend_shown = False\n",
    "    \n",
    "    # Adjust subplot indexing for 2-column layout\n",
    "    subplot_index = [(i, j) for i in range(1, rows + 1) for j in range(1, 3)]\n",
    "\n",
    "    for count, year in enumerate(selected_years):\n",
    "        # Calculate row and col based on count\n",
    "        row, col = subplot_index[count]\n",
    "        year_df = df.loc[round(year,1)]  # Adjust this line as necessary for your DataFrame's index\n",
    "\n",
    "        for age in age_groups:\n",
    "            total_pop = year_df[f'total_populationXage_{age}']\n",
    "            latent_pop = year_df[f'latent_population_sizeXage_{age}']\n",
    "            \n",
    "            # Total population bar\n",
    "            fig.add_trace(go.Bar(name='Total Population', x=[f'Age {age}'], y=[total_pop],\n",
    "                                 marker=dict(color='rgba(100, 150, 240, 0.6)'),\n",
    "                                 legendgroup='Total', showlegend=not total_legend_shown), row=row, col=col)\n",
    "            \n",
    "            # Infectious population bar, plotted beside the total population\n",
    "            fig.add_trace(go.Bar(name='Infectious Population', x=[f'Age {age}'], y=[latent_pop],\n",
    "                                 marker=dict(color='rgba(255, 100, 100, 0.6)'),\n",
    "                                 legendgroup='Latent', showlegend=not latent_legend_shown), row=row, col=col)\n",
    "            \n",
    "            if not total_legend_shown:\n",
    "                total_legend_shown = True\n",
    "            if not latent_legend_shown:\n",
    "                latent_legend_shown = True\n",
    "\n",
    "    # Update layout to make bars thicker and set the ticks for each age group\n",
    "    fig.update_layout(height=300*rows, width=700,\n",
    "                      title_text=\"Total vs Latent Population by Age Group and Year\",\n",
    "                      barmode='group',\n",
    "                      xaxis_tickangle=-45,\n",
    "                      legend=dict(\n",
    "                          orientation=\"h\",\n",
    "                          yanchor=\"bottom\",\n",
    "                          y=1.02,\n",
    "                          xanchor=\"right\",\n",
    "                          x=1\n",
    "                      ),\n",
    "                      bargap=0.005, # Reduce gap between bars to make them thicker\n",
    "                      )\n",
    "    \n",
    "    fig.show()"
   ]
  },
  {
   "cell_type": "code",
   "execution_count": null,
   "metadata": {},
   "outputs": [],
   "source": [
    "plot_faceted_population_chart(derived_df_0, np.arange(1990,2020,5), age_strata)"
   ]
  }
 ],
 "metadata": {
  "kernelspec": {
   "display_name": "tbdyn",
   "language": "python",
   "name": "python3"
  },
  "language_info": {
   "codemirror_mode": {
    "name": "ipython",
    "version": 3
   },
   "file_extension": ".py",
   "mimetype": "text/x-python",
   "name": "python",
   "nbconvert_exporter": "python",
   "pygments_lexer": "ipython3",
   "version": "3.10.0"
  }
 },
 "nbformat": 4,
 "nbformat_minor": 2
}
