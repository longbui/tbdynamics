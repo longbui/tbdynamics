{
 "cells": [
  {
   "cell_type": "code",
   "execution_count": 1,
   "metadata": {},
   "outputs": [
    {
     "name": "stderr",
     "output_type": "stream",
     "text": [
      "WARNING (pytensor.tensor.blas): Using NumPy C-API based implementation for BLAS functions.\n"
     ]
    }
   ],
   "source": [
    "import pandas as pd\n",
    "pd.options.plotting.backend = \"plotly\"\n",
    "from datetime import datetime, date\n",
    "import pylatex as pl\n",
    "from pylatex.utils import NoEscape\n",
    "import pymc as pm\n",
    "import arviz as az\n",
    "import nevergrad as ng\n",
    "import plotly.express as px\n",
    "\n",
    "from estival.model import BayesianCompartmentalModel\n",
    "from estival.optimization.nevergrad import optimize_model\n",
    "from estival.priors import UniformPrior\n",
    "from estival.targets import NegativeBinomialTarget, CustomTarget\n",
    "from estival.calibration import pymc as epm\n",
    "from tbdynamics import model\n",
    "from tbdynamics.inputs import *"
   ]
  },
  {
   "cell_type": "code",
   "execution_count": 2,
   "metadata": {},
   "outputs": [],
   "source": [
    "time_start = 1800\n",
    "time_end = 2020\n",
    "time_step = 0.1"
   ]
  },
  {
   "cell_type": "code",
   "execution_count": 3,
   "metadata": {},
   "outputs": [],
   "source": [
    "compartments = [\n",
    "    \"susceptible\",\n",
    "    \"early_latent\",\n",
    "    \"late_latent\",\n",
    "    \"infectious\",\n",
    "    \"on_treatment\",\n",
    "    \"recovered\",\n",
    "]\n",
    "infectious_compartments = [\n",
    "    \"infectious\",\n",
    "    \"on_treatment\",\n",
    "]\n",
    "\n",
    "latent_compartments = [\n",
    "    \"early_latent\",\n",
    "    \"late_latent\",\n",
    "]"
   ]
  },
  {
   "cell_type": "code",
   "execution_count": 4,
   "metadata": {},
   "outputs": [],
   "source": [
    "params = {\n",
    "    \"contact_rate\": 0.009414102898074345,\n",
    "    \"start_population_size\": 280000,\n",
    "    \"progression_multiplier\": 1.1,\n",
    "    \"infectious_seed\": 1,\n",
    "    \"rr_infection_latent\": 0.2,\n",
    "    \"rr_infection_recovered\": 0.2,\n",
    "    \"infect_death_rate_unstratified\": 0.21,\n",
    "    \"on_treatment_infect_multiplier\": 0.4,\n",
    "}"
   ]
  },
  {
   "cell_type": "code",
   "execution_count": 5,
   "metadata": {},
   "outputs": [],
   "source": [
    "tb_model, build_text = model.build_base_model(compartments, infectious_compartments, time_start, time_end, time_step)"
   ]
  },
  {
   "cell_type": "code",
   "execution_count": 6,
   "metadata": {},
   "outputs": [
    {
     "data": {
      "text/plain": [
       "'The simulation starts with Parameter start_population_size million fully susceptible persons, with infectious persons introduced later through strain seeding as described below. '"
      ]
     },
     "execution_count": 6,
     "metadata": {},
     "output_type": "execute_result"
    }
   ],
   "source": [
    "model.set_starting_conditions(tb_model)\n"
   ]
  },
  {
   "cell_type": "code",
   "execution_count": 7,
   "metadata": {},
   "outputs": [
    {
     "name": "stdout",
     "output_type": "stream",
     "text": [
      "Function: 'scaled_curve', args=(ModelVariable time, Function: 'ge...,), kwargs={})), kwargs={})\n"
     ]
    },
    {
     "data": {
      "text/plain": [
       "'The birth process add newborns to the model'"
      ]
     },
     "execution_count": 7,
     "metadata": {},
     "output_type": "execute_result"
    }
   ],
   "source": [
    "model.add_entry_flow(tb_model)"
   ]
  },
  {
   "cell_type": "code",
   "execution_count": 8,
   "metadata": {},
   "outputs": [],
   "source": [
    "model.add_natural_death_flow(tb_model)"
   ]
  },
  {
   "cell_type": "code",
   "execution_count": 9,
   "metadata": {},
   "outputs": [
    {
     "data": {
      "text/plain": [
       "('The infection process moves people from the susceptible compartment to the early_latent compartment, under the frequency-dependent transmission assumption. ',\n",
       " 'The infection_from_latent process moves people from the late_latent compartment to the early_latent compartment, under the frequency-dependent transmission assumption. ',\n",
       " 'The infection_from_recovered process moves people from the recovered compartment to the early_latent compartment, under the frequency-dependent transmission assumption. ')"
      ]
     },
     "execution_count": 9,
     "metadata": {},
     "output_type": "execute_result"
    }
   ],
   "source": [
    "model.add_infection(tb_model)"
   ]
  },
  {
   "cell_type": "code",
   "execution_count": 10,
   "metadata": {},
   "outputs": [
    {
     "data": {
      "text/plain": [
       "('The stabilisation process moves people from the early_latent compartment to the late_latent compartment, under the frequency-dependent transmission assumption. ',\n",
       " 'The early_activation process moves people from the early_latent compartment to the infectious compartment, under the frequency-dependent transmission assumption. ',\n",
       " 'The late_activation process moves people from the late_latent compartment to the infectious compartment, under the frequency-dependent transmission assumption. ')"
      ]
     },
     "execution_count": 10,
     "metadata": {},
     "output_type": "execute_result"
    }
   ],
   "source": [
    "model.add_latency(tb_model)"
   ]
  },
  {
   "cell_type": "code",
   "execution_count": 11,
   "metadata": {},
   "outputs": [],
   "source": [
    "model.add_infect_death(tb_model)"
   ]
  },
  {
   "cell_type": "code",
   "execution_count": 12,
   "metadata": {},
   "outputs": [
    {
     "data": {
      "text/plain": [
       "'The detection process moves people from the infectious compartment to the on_treatment compartment, under the frequency-dependent transmission assumption. '"
      ]
     },
     "execution_count": 12,
     "metadata": {},
     "output_type": "execute_result"
    }
   ],
   "source": [
    "model.add_detection(tb_model)"
   ]
  },
  {
   "cell_type": "code",
   "execution_count": 13,
   "metadata": {},
   "outputs": [
    {
     "data": {
      "text/plain": [
       "('The treatment_recovery process moves people from the on_treatment compartment to the recovered compartment, under the frequency-dependent transmission assumption. ',\n",
       " 'The treatment_death process moves people from the on_treatment compartment to the death, under the frequency-dependent transmission assumption. ',\n",
       " 'The early_activation process moves people from the on_treatment compartment to the infectious compartment, under the frequency-dependent transmission assumption. ')"
      ]
     },
     "execution_count": 13,
     "metadata": {},
     "output_type": "execute_result"
    }
   ],
   "source": [
    "model.add_treatment_related_outcomes(tb_model)"
   ]
  },
  {
   "cell_type": "code",
   "execution_count": 14,
   "metadata": {},
   "outputs": [],
   "source": [
    "age_strata = [0,5,15,35,50]"
   ]
  },
  {
   "cell_type": "code",
   "execution_count": 15,
   "metadata": {},
   "outputs": [],
   "source": [
    "matrix = model.build_contact_matrix()"
   ]
  },
  {
   "cell_type": "code",
   "execution_count": 16,
   "metadata": {},
   "outputs": [],
   "source": [
    "strat = model.add_age_strat(compartments, infectious_compartments, [0,5,15,35,50], matrix, fixed_parameters)"
   ]
  },
  {
   "cell_type": "code",
   "execution_count": 17,
   "metadata": {},
   "outputs": [],
   "source": [
    "tb_model.stratify_with(strat)"
   ]
  },
  {
   "cell_type": "code",
   "execution_count": 18,
   "metadata": {},
   "outputs": [],
   "source": [
    "model.request_output(tb_model, compartments,  latent_compartments, infectious_compartments)"
   ]
  },
  {
   "cell_type": "code",
   "execution_count": 19,
   "metadata": {},
   "outputs": [],
   "source": [
    "tb_model.run(parameters=params)"
   ]
  },
  {
   "cell_type": "code",
   "execution_count": 21,
   "metadata": {},
   "outputs": [
    {
     "data": {
      "text/html": [
       "<div>\n",
       "<style scoped>\n",
       "    .dataframe tbody tr th:only-of-type {\n",
       "        vertical-align: middle;\n",
       "    }\n",
       "\n",
       "    .dataframe tbody tr th {\n",
       "        vertical-align: top;\n",
       "    }\n",
       "\n",
       "    .dataframe thead th {\n",
       "        text-align: right;\n",
       "    }\n",
       "</style>\n",
       "<table border=\"1\" class=\"dataframe\">\n",
       "  <thead>\n",
       "    <tr style=\"text-align: right;\">\n",
       "      <th></th>\n",
       "      <th>susceptibleXage_0</th>\n",
       "      <th>susceptibleXage_5</th>\n",
       "      <th>susceptibleXage_15</th>\n",
       "      <th>susceptibleXage_35</th>\n",
       "      <th>susceptibleXage_50</th>\n",
       "      <th>early_latentXage_0</th>\n",
       "      <th>early_latentXage_5</th>\n",
       "      <th>early_latentXage_15</th>\n",
       "      <th>early_latentXage_35</th>\n",
       "      <th>early_latentXage_50</th>\n",
       "      <th>...</th>\n",
       "      <th>on_treatmentXage_0</th>\n",
       "      <th>on_treatmentXage_5</th>\n",
       "      <th>on_treatmentXage_15</th>\n",
       "      <th>on_treatmentXage_35</th>\n",
       "      <th>on_treatmentXage_50</th>\n",
       "      <th>recoveredXage_0</th>\n",
       "      <th>recoveredXage_5</th>\n",
       "      <th>recoveredXage_15</th>\n",
       "      <th>recoveredXage_35</th>\n",
       "      <th>recoveredXage_50</th>\n",
       "    </tr>\n",
       "  </thead>\n",
       "  <tbody>\n",
       "    <tr>\n",
       "      <th>1800.0</th>\n",
       "      <td>55999.800000</td>\n",
       "      <td>55999.800000</td>\n",
       "      <td>55999.800000</td>\n",
       "      <td>55999.800000</td>\n",
       "      <td>55999.800000</td>\n",
       "      <td>0.000000</td>\n",
       "      <td>0.000000</td>\n",
       "      <td>0.000000</td>\n",
       "      <td>0.000000</td>\n",
       "      <td>0.000000</td>\n",
       "      <td>...</td>\n",
       "      <td>0.000000</td>\n",
       "      <td>0.000000</td>\n",
       "      <td>0.000000</td>\n",
       "      <td>0.000000</td>\n",
       "      <td>0.000000</td>\n",
       "      <td>0.000000</td>\n",
       "      <td>0.000000</td>\n",
       "      <td>0.000000</td>\n",
       "      <td>0.000000</td>\n",
       "      <td>0.000000</td>\n",
       "    </tr>\n",
       "    <tr>\n",
       "      <th>1800.1</th>\n",
       "      <td>55722.900537</td>\n",
       "      <td>56522.426390</td>\n",
       "      <td>56264.203225</td>\n",
       "      <td>55854.599090</td>\n",
       "      <td>55581.400175</td>\n",
       "      <td>0.057901</td>\n",
       "      <td>0.118947</td>\n",
       "      <td>0.386481</td>\n",
       "      <td>0.464600</td>\n",
       "      <td>0.547165</td>\n",
       "      <td>...</td>\n",
       "      <td>0.018218</td>\n",
       "      <td>0.018768</td>\n",
       "      <td>0.018526</td>\n",
       "      <td>0.018406</td>\n",
       "      <td>0.018360</td>\n",
       "      <td>0.000185</td>\n",
       "      <td>0.000192</td>\n",
       "      <td>0.000190</td>\n",
       "      <td>0.000189</td>\n",
       "      <td>0.000188</td>\n",
       "    </tr>\n",
       "    <tr>\n",
       "      <th>1800.2</th>\n",
       "      <td>55452.623154</td>\n",
       "      <td>57034.123760</td>\n",
       "      <td>56532.385310</td>\n",
       "      <td>55711.852176</td>\n",
       "      <td>55167.969592</td>\n",
       "      <td>0.082575</td>\n",
       "      <td>0.183136</td>\n",
       "      <td>0.681718</td>\n",
       "      <td>0.816363</td>\n",
       "      <td>0.956994</td>\n",
       "      <td>...</td>\n",
       "      <td>0.033854</td>\n",
       "      <td>0.035859</td>\n",
       "      <td>0.034600</td>\n",
       "      <td>0.034190</td>\n",
       "      <td>0.034068</td>\n",
       "      <td>0.000700</td>\n",
       "      <td>0.000744</td>\n",
       "      <td>0.000727</td>\n",
       "      <td>0.000718</td>\n",
       "      <td>0.000713</td>\n",
       "    </tr>\n",
       "    <tr>\n",
       "      <th>1800.3</th>\n",
       "      <td>55188.829660</td>\n",
       "      <td>57535.133556</td>\n",
       "      <td>56804.207960</td>\n",
       "      <td>55571.546017</td>\n",
       "      <td>54759.438610</td>\n",
       "      <td>0.093457</td>\n",
       "      <td>0.218949</td>\n",
       "      <td>0.912345</td>\n",
       "      <td>1.088676</td>\n",
       "      <td>1.270655</td>\n",
       "      <td>...</td>\n",
       "      <td>0.047970</td>\n",
       "      <td>0.052096</td>\n",
       "      <td>0.048836</td>\n",
       "      <td>0.048042</td>\n",
       "      <td>0.047878</td>\n",
       "      <td>0.001493</td>\n",
       "      <td>0.001634</td>\n",
       "      <td>0.001570</td>\n",
       "      <td>0.001540</td>\n",
       "      <td>0.001527</td>\n",
       "    </tr>\n",
       "    <tr>\n",
       "      <th>1800.4</th>\n",
       "      <td>54931.385489</td>\n",
       "      <td>58025.693007</td>\n",
       "      <td>57079.538677</td>\n",
       "      <td>55433.670319</td>\n",
       "      <td>54355.742861</td>\n",
       "      <td>0.097862</td>\n",
       "      <td>0.239846</td>\n",
       "      <td>1.097509</td>\n",
       "      <td>1.305172</td>\n",
       "      <td>1.517086</td>\n",
       "      <td>...</td>\n",
       "      <td>0.060943</td>\n",
       "      <td>0.067859</td>\n",
       "      <td>0.061701</td>\n",
       "      <td>0.060469</td>\n",
       "      <td>0.060331</td>\n",
       "      <td>0.002535</td>\n",
       "      <td>0.002850</td>\n",
       "      <td>0.002688</td>\n",
       "      <td>0.002622</td>\n",
       "      <td>0.002596</td>\n",
       "    </tr>\n",
       "    <tr>\n",
       "      <th>...</th>\n",
       "      <td>...</td>\n",
       "      <td>...</td>\n",
       "      <td>...</td>\n",
       "      <td>...</td>\n",
       "      <td>...</td>\n",
       "      <td>...</td>\n",
       "      <td>...</td>\n",
       "      <td>...</td>\n",
       "      <td>...</td>\n",
       "      <td>...</td>\n",
       "      <td>...</td>\n",
       "      <td>...</td>\n",
       "      <td>...</td>\n",
       "      <td>...</td>\n",
       "      <td>...</td>\n",
       "      <td>...</td>\n",
       "      <td>...</td>\n",
       "      <td>...</td>\n",
       "      <td>...</td>\n",
       "      <td>...</td>\n",
       "      <td>...</td>\n",
       "    </tr>\n",
       "    <tr>\n",
       "      <th>2019.6</th>\n",
       "      <td>353911.747406</td>\n",
       "      <td>618616.197210</td>\n",
       "      <td>460809.062264</td>\n",
       "      <td>115369.790467</td>\n",
       "      <td>31736.053527</td>\n",
       "      <td>269.686433</td>\n",
       "      <td>1130.638503</td>\n",
       "      <td>20875.032017</td>\n",
       "      <td>13799.712680</td>\n",
       "      <td>9499.182161</td>\n",
       "      <td>...</td>\n",
       "      <td>653.466327</td>\n",
       "      <td>2368.569193</td>\n",
       "      <td>5737.043525</td>\n",
       "      <td>4190.623524</td>\n",
       "      <td>3124.814606</td>\n",
       "      <td>1652.420853</td>\n",
       "      <td>24421.238543</td>\n",
       "      <td>105588.933369</td>\n",
       "      <td>81985.233560</td>\n",
       "      <td>58435.483516</td>\n",
       "    </tr>\n",
       "    <tr>\n",
       "      <th>2019.7</th>\n",
       "      <td>353933.265056</td>\n",
       "      <td>618939.435804</td>\n",
       "      <td>461674.323067</td>\n",
       "      <td>115744.868945</td>\n",
       "      <td>31878.376426</td>\n",
       "      <td>269.555967</td>\n",
       "      <td>1125.060055</td>\n",
       "      <td>21034.776345</td>\n",
       "      <td>13818.291260</td>\n",
       "      <td>9516.388320</td>\n",
       "      <td>...</td>\n",
       "      <td>654.004487</td>\n",
       "      <td>2361.013286</td>\n",
       "      <td>5730.918086</td>\n",
       "      <td>4192.869530</td>\n",
       "      <td>3129.475594</td>\n",
       "      <td>1647.958381</td>\n",
       "      <td>24303.265352</td>\n",
       "      <td>105385.666503</td>\n",
       "      <td>81972.628113</td>\n",
       "      <td>58514.041979</td>\n",
       "    </tr>\n",
       "    <tr>\n",
       "      <th>2019.8</th>\n",
       "      <td>353955.802924</td>\n",
       "      <td>619260.724974</td>\n",
       "      <td>462511.100900</td>\n",
       "      <td>116117.763913</td>\n",
       "      <td>32020.314743</td>\n",
       "      <td>269.092183</td>\n",
       "      <td>1120.771875</td>\n",
       "      <td>21186.136769</td>\n",
       "      <td>13837.615905</td>\n",
       "      <td>9533.710399</td>\n",
       "      <td>...</td>\n",
       "      <td>654.641577</td>\n",
       "      <td>2353.457587</td>\n",
       "      <td>5725.106911</td>\n",
       "      <td>4195.099168</td>\n",
       "      <td>3134.118093</td>\n",
       "      <td>1643.614498</td>\n",
       "      <td>24186.110481</td>\n",
       "      <td>105182.299996</td>\n",
       "      <td>81959.199629</td>\n",
       "      <td>58591.882965</td>\n",
       "    </tr>\n",
       "    <tr>\n",
       "      <th>2019.9</th>\n",
       "      <td>353980.115660</td>\n",
       "      <td>619579.102849</td>\n",
       "      <td>463337.750099</td>\n",
       "      <td>116488.367177</td>\n",
       "      <td>32161.843993</td>\n",
       "      <td>268.014502</td>\n",
       "      <td>1118.380583</td>\n",
       "      <td>21314.990076</td>\n",
       "      <td>13857.572910</td>\n",
       "      <td>9551.184862</td>\n",
       "      <td>...</td>\n",
       "      <td>655.370973</td>\n",
       "      <td>2345.937555</td>\n",
       "      <td>5719.693666</td>\n",
       "      <td>4197.317943</td>\n",
       "      <td>3138.741212</td>\n",
       "      <td>1639.388488</td>\n",
       "      <td>24069.764136</td>\n",
       "      <td>104978.847054</td>\n",
       "      <td>81944.945391</td>\n",
       "      <td>58669.001587</td>\n",
       "    </tr>\n",
       "    <tr>\n",
       "      <th>2020.0</th>\n",
       "      <td>354010.087467</td>\n",
       "      <td>619894.614160</td>\n",
       "      <td>464156.399593</td>\n",
       "      <td>116856.621138</td>\n",
       "      <td>32302.942791</td>\n",
       "      <td>263.779497</td>\n",
       "      <td>1116.907548</td>\n",
       "      <td>21423.976773</td>\n",
       "      <td>13878.036952</td>\n",
       "      <td>9568.842125</td>\n",
       "      <td>...</td>\n",
       "      <td>656.110080</td>\n",
       "      <td>2338.454259</td>\n",
       "      <td>5714.740465</td>\n",
       "      <td>4199.530630</td>\n",
       "      <td>3143.344714</td>\n",
       "      <td>1635.282599</td>\n",
       "      <td>23954.222336</td>\n",
       "      <td>104775.322617</td>\n",
       "      <td>81929.864893</td>\n",
       "      <td>58745.393981</td>\n",
       "    </tr>\n",
       "  </tbody>\n",
       "</table>\n",
       "<p>2201 rows × 30 columns</p>\n",
       "</div>"
      ],
      "text/plain": [
       "        susceptibleXage_0  susceptibleXage_5  susceptibleXage_15  \\\n",
       "1800.0       55999.800000       55999.800000        55999.800000   \n",
       "1800.1       55722.900537       56522.426390        56264.203225   \n",
       "1800.2       55452.623154       57034.123760        56532.385310   \n",
       "1800.3       55188.829660       57535.133556        56804.207960   \n",
       "1800.4       54931.385489       58025.693007        57079.538677   \n",
       "...                   ...                ...                 ...   \n",
       "2019.6      353911.747406      618616.197210       460809.062264   \n",
       "2019.7      353933.265056      618939.435804       461674.323067   \n",
       "2019.8      353955.802924      619260.724974       462511.100900   \n",
       "2019.9      353980.115660      619579.102849       463337.750099   \n",
       "2020.0      354010.087467      619894.614160       464156.399593   \n",
       "\n",
       "        susceptibleXage_35  susceptibleXage_50  early_latentXage_0  \\\n",
       "1800.0        55999.800000        55999.800000            0.000000   \n",
       "1800.1        55854.599090        55581.400175            0.057901   \n",
       "1800.2        55711.852176        55167.969592            0.082575   \n",
       "1800.3        55571.546017        54759.438610            0.093457   \n",
       "1800.4        55433.670319        54355.742861            0.097862   \n",
       "...                    ...                 ...                 ...   \n",
       "2019.6       115369.790467        31736.053527          269.686433   \n",
       "2019.7       115744.868945        31878.376426          269.555967   \n",
       "2019.8       116117.763913        32020.314743          269.092183   \n",
       "2019.9       116488.367177        32161.843993          268.014502   \n",
       "2020.0       116856.621138        32302.942791          263.779497   \n",
       "\n",
       "        early_latentXage_5  early_latentXage_15  early_latentXage_35  \\\n",
       "1800.0            0.000000             0.000000             0.000000   \n",
       "1800.1            0.118947             0.386481             0.464600   \n",
       "1800.2            0.183136             0.681718             0.816363   \n",
       "1800.3            0.218949             0.912345             1.088676   \n",
       "1800.4            0.239846             1.097509             1.305172   \n",
       "...                    ...                  ...                  ...   \n",
       "2019.6         1130.638503         20875.032017         13799.712680   \n",
       "2019.7         1125.060055         21034.776345         13818.291260   \n",
       "2019.8         1120.771875         21186.136769         13837.615905   \n",
       "2019.9         1118.380583         21314.990076         13857.572910   \n",
       "2020.0         1116.907548         21423.976773         13878.036952   \n",
       "\n",
       "        early_latentXage_50  ...  on_treatmentXage_0  on_treatmentXage_5  \\\n",
       "1800.0             0.000000  ...            0.000000            0.000000   \n",
       "1800.1             0.547165  ...            0.018218            0.018768   \n",
       "1800.2             0.956994  ...            0.033854            0.035859   \n",
       "1800.3             1.270655  ...            0.047970            0.052096   \n",
       "1800.4             1.517086  ...            0.060943            0.067859   \n",
       "...                     ...  ...                 ...                 ...   \n",
       "2019.6          9499.182161  ...          653.466327         2368.569193   \n",
       "2019.7          9516.388320  ...          654.004487         2361.013286   \n",
       "2019.8          9533.710399  ...          654.641577         2353.457587   \n",
       "2019.9          9551.184862  ...          655.370973         2345.937555   \n",
       "2020.0          9568.842125  ...          656.110080         2338.454259   \n",
       "\n",
       "        on_treatmentXage_15  on_treatmentXage_35  on_treatmentXage_50  \\\n",
       "1800.0             0.000000             0.000000             0.000000   \n",
       "1800.1             0.018526             0.018406             0.018360   \n",
       "1800.2             0.034600             0.034190             0.034068   \n",
       "1800.3             0.048836             0.048042             0.047878   \n",
       "1800.4             0.061701             0.060469             0.060331   \n",
       "...                     ...                  ...                  ...   \n",
       "2019.6          5737.043525          4190.623524          3124.814606   \n",
       "2019.7          5730.918086          4192.869530          3129.475594   \n",
       "2019.8          5725.106911          4195.099168          3134.118093   \n",
       "2019.9          5719.693666          4197.317943          3138.741212   \n",
       "2020.0          5714.740465          4199.530630          3143.344714   \n",
       "\n",
       "        recoveredXage_0  recoveredXage_5  recoveredXage_15  recoveredXage_35  \\\n",
       "1800.0         0.000000         0.000000          0.000000          0.000000   \n",
       "1800.1         0.000185         0.000192          0.000190          0.000189   \n",
       "1800.2         0.000700         0.000744          0.000727          0.000718   \n",
       "1800.3         0.001493         0.001634          0.001570          0.001540   \n",
       "1800.4         0.002535         0.002850          0.002688          0.002622   \n",
       "...                 ...              ...               ...               ...   \n",
       "2019.6      1652.420853     24421.238543     105588.933369      81985.233560   \n",
       "2019.7      1647.958381     24303.265352     105385.666503      81972.628113   \n",
       "2019.8      1643.614498     24186.110481     105182.299996      81959.199629   \n",
       "2019.9      1639.388488     24069.764136     104978.847054      81944.945391   \n",
       "2020.0      1635.282599     23954.222336     104775.322617      81929.864893   \n",
       "\n",
       "        recoveredXage_50  \n",
       "1800.0          0.000000  \n",
       "1800.1          0.000188  \n",
       "1800.2          0.000713  \n",
       "1800.3          0.001527  \n",
       "1800.4          0.002596  \n",
       "...                  ...  \n",
       "2019.6      58435.483516  \n",
       "2019.7      58514.041979  \n",
       "2019.8      58591.882965  \n",
       "2019.9      58669.001587  \n",
       "2020.0      58745.393981  \n",
       "\n",
       "[2201 rows x 30 columns]"
      ]
     },
     "execution_count": 21,
     "metadata": {},
     "output_type": "execute_result"
    }
   ],
   "source": [
    "tb_model.get_outputs_df()"
   ]
  },
  {
   "cell_type": "code",
   "execution_count": null,
   "metadata": {},
   "outputs": [],
   "source": []
  }
 ],
 "metadata": {
  "kernelspec": {
   "display_name": "tbdyn",
   "language": "python",
   "name": "python3"
  },
  "language_info": {
   "codemirror_mode": {
    "name": "ipython",
    "version": 3
   },
   "file_extension": ".py",
   "mimetype": "text/x-python",
   "name": "python",
   "nbconvert_exporter": "python",
   "pygments_lexer": "ipython3",
   "version": "3.10.11"
  },
  "orig_nbformat": 4
 },
 "nbformat": 4,
 "nbformat_minor": 2
}
