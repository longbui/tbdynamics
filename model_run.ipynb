{
 "cells": [
  {
   "cell_type": "code",
   "execution_count": null,
   "metadata": {},
   "outputs": [],
   "source": [
    "import pandas as pd\n",
    "from pathlib import Path\n",
    "import pymc as pm\n",
    "import numpy as np\n",
    "import pandas as pd\n",
    "import plotly.graph_objects as go\n",
    "\n",
    "from estival.model import BayesianCompartmentalModel\n",
    "import estival.priors as esp\n",
    "import estival.targets as est\n",
    "from estival.wrappers import pymc as epm\n",
    "from estival.wrappers import pymc as epm\n",
    "# from estival.wrappers import nevergrad as eng\n",
    "# from estival.sampling import tools as esamp\n",
    "# from estival.utils.parallel import map_parallel\n",
    "import multiprocessing as mp\n",
    "import nevergrad as ng\n",
    "from tbdynamics import model\n",
    "from tbdynamics.utils import round_sigfig\n",
    "from tbdynamics.inputs import load_params, matrix, conmat\n",
    "from tbdynamics.constants import (\n",
    "    age_strata,\n",
    "    organ_strata,\n",
    "    compartments,\n",
    "    latent_compartments,\n",
    "    infectious_compartments,\n",
    ")\n",
    "from tbdynamics.plotting import plot_model_vs_actual\n",
    "import arviz as az"
   ]
  },
  {
   "cell_type": "markdown",
   "metadata": {},
   "source": [
    "## Define variables"
   ]
  },
  {
   "cell_type": "code",
   "execution_count": null,
   "metadata": {},
   "outputs": [],
   "source": [
    "PROJECT_PATH = Path().resolve()\n",
    "DATA_PATH = PROJECT_PATH / \"data\"\n",
    "OUT_PATH = PROJECT_PATH / \"output\"\n",
    "pd.options.plotting.backend = \"plotly\"\n",
    "\n",
    "time_start = 1800.0\n",
    "time_end = 2023.0\n",
    "time_step = 0.1\n",
    "matrix_homo = np.ones((6, 6))  # Homo mixing"
   ]
  },
  {
   "cell_type": "code",
   "execution_count": null,
   "metadata": {},
   "outputs": [],
   "source": [
    "fixed_parameters = load_params(PROJECT_PATH / \"tbdynamics/params.yml\")"
   ]
  },
  {
   "cell_type": "markdown",
   "metadata": {},
   "source": [
    "## Define Model"
   ]
  },
  {
   "cell_type": "markdown",
   "metadata": {},
   "source": [
    "### Base model"
   ]
  },
  {
   "cell_type": "code",
   "execution_count": null,
   "metadata": {},
   "outputs": [],
   "source": [
    "tb_model = model.build_model(\n",
    "    compartments,\n",
    "    latent_compartments,\n",
    "    infectious_compartments,\n",
    "    age_strata,\n",
    "    time_start,\n",
    "    time_end,\n",
    "    time_step,\n",
    "    fixed_parameters,\n",
    "    conmat,\n",
    ")"
   ]
  },
  {
   "cell_type": "markdown",
   "metadata": {},
   "source": [
    "### Params and calibration targets"
   ]
  },
  {
   "cell_type": "code",
   "execution_count": null,
   "metadata": {},
   "outputs": [],
   "source": [
    "params = {\n",
    "    'smear_positive_death_rate': 0.339,\n",
    "    'smear_negative_death_rate': 0.025,\n",
    "    'smear_positive_self_recovery': 0.0192,\n",
    "    'smear_negative_self_recovery': 0.073,\n",
    "    'seed_num': 1.0, \n",
    "    'seed_duration': 1.0,\n",
    "    'progression_multiplier':1.0\n",
    "}\n",
    "\n",
    "\n",
    "priors = [\n",
    "    esp.UniformPrior(\"start_population_size\", (2000000, 10000000)),\n",
    "    esp.UniformPrior(\"contact_rate\", (0.0001, 0.2)),  \n",
    "    esp.UniformPrior(\"rr_infection_latent\", (0.2, 0.5)),\n",
    "    esp.UniformPrior(\"rr_infection_recovered\", (0.1, 0.5)),\n",
    "    esp.UniformPrior(\"progression_multiplier\", (1.0, 5.0)),\n",
    "    esp.UniformPrior(\"seed_time\", (1890.0, 1950.0)),\n",
    "    esp.UniformPrior(\"seed_num\", (1.0, 100.00)),\n",
    "    esp.UniformPrior(\"seed_duration\", (1.0, 5.0)),\n",
    "    esp.UniformPrior(\"smear_positive_death_rate\", (0.335, 0.449)),\n",
    "    esp.UniformPrior(\"smear_negative_death_rate\", (0.017, 0.035)),\n",
    "    esp.UniformPrior(\"smear_positive_self_recovery\", (0.177, 0.288)),\n",
    "    esp.UniformPrior(\"smear_negative_self_recovery\", (0.073, 0.209)),\n",
    "]\n",
    "\n",
    "pop = pd.Series(\n",
    "    {\n",
    "        2009: 86025000,\n",
    "        2019: 96484000,\n",
    "    }\n",
    ")\n",
    "\n",
    "notifs = pd.Series(\n",
    "    {\n",
    "        1986: 8737,\n",
    "        2010: 99022,\n",
    "        2011: 100518,\n",
    "        2012: 103906,\n",
    "        2013: 102196,\n",
    "        2014: 102087,\n",
    "        2015: 102676,\n",
    "        2016: 102527,\n",
    "        2017: 105733,\n",
    "        2018: 102171,\n",
    "        2019: 104505,\n",
    "        2020: 101795,\n",
    "    }\n",
    ")\n",
    "\n",
    "prop_smear_positive = pd.Series({2022: 0.83})\n",
    "incidence = pd.Series({2022: 176})\n",
    "percentage_latent= pd.Series({2022: 43.0})\n",
    "\n",
    "targets = [\n",
    "    est.NormalTarget(\"total_population\", pop, stdev=100000.0),\n",
    "    est.NormalTarget(\"notification\", notifs, stdev=1000.0),\n",
    "    est.NormalTarget(\"prop_smear_positive\", prop_smear_positive, stdev=0.5),\n",
    "    est.NormalTarget(\"incidence\", incidence, stdev=33.0),\n",
    "    est.NormalTarget(\"percentage_latent\", percentage_latent, stdev=5.0),\n",
    "]\n",
    "\n",
    "calibration_model = BayesianCompartmentalModel(tb_model, params, priors, targets)"
   ]
  },
  {
   "cell_type": "markdown",
   "metadata": {},
   "source": [
    "### Running Calibration"
   ]
  },
  {
   "cell_type": "code",
   "execution_count": null,
   "metadata": {},
   "outputs": [],
   "source": [
    "with pm.Model() as pmc_model:\n",
    "    start_params = {\n",
    "        k: np.clip(v, *calibration_model.priors[k].bounds(0.99))\n",
    "        for k, v in params.items()\n",
    "        if k in calibration_model.priors\n",
    "    }\n",
    "    variables = epm.use_model(calibration_model)\n",
    "    map_params = pm.find_MAP(\n",
    "        start=start_params, vars=variables, maxeval=20000, include_transformed=False\n",
    "    )\n",
    "    map_params = {k: float(v) for k, v in map_params.items()}\n",
    "    print(\"Best calibration parameters found:\")\n",
    "for i_param, param in enumerate(map_params):\n",
    "    print(\n",
    "        f\"   {param}: {round_sigfig(map_params[param], 4)} (within bound {priors[i_param].bounds()}\"\n",
    "    )"
   ]
  },
  {
   "cell_type": "code",
   "execution_count": null,
   "metadata": {},
   "outputs": [],
   "source": [
    "params.update(map_params)\n",
    "tb_model.run(params)\n",
    "derived_df_0 = tb_model.get_derived_outputs_df()\n"
   ]
  },
  {
   "cell_type": "markdown",
   "metadata": {},
   "source": [
    "### Population output"
   ]
  },
  {
   "cell_type": "code",
   "execution_count": null,
   "metadata": {},
   "outputs": [],
   "source": [
    "plot_model_vs_actual(\n",
    "    derived_df_0, pop, \"total_population\", \"Population\", \"Modelled vs Data\"\n",
    ")"
   ]
  },
  {
   "cell_type": "code",
   "execution_count": null,
   "metadata": {},
   "outputs": [],
   "source": [
    "derived_df_0[[f\"total_populationXage_{i}\" for i in age_strata]].plot(\n",
    "    title=\"Modelled populatation by age group\", kind=\"area\"\n",
    ")"
   ]
  },
  {
   "cell_type": "code",
   "execution_count": null,
   "metadata": {},
   "outputs": [],
   "source": [
    "plot_model_vs_actual(\n",
    "    derived_df_0, incidence, \"incidence\", \"Incidence\", \"Modelled vs Data\"\n",
    ")"
   ]
  },
  {
   "cell_type": "code",
   "execution_count": null,
   "metadata": {},
   "outputs": [],
   "source": [
    "derived_df_0[\"prevalence_infectious\"].plot()"
   ]
  },
  {
   "cell_type": "code",
   "execution_count": null,
   "metadata": {},
   "outputs": [],
   "source": [
    "derived_df_0[[f\"prop_{compartment}\" for compartment in compartments]].plot(kind=\"area\")"
   ]
  },
  {
   "cell_type": "code",
   "execution_count": null,
   "metadata": {},
   "outputs": [],
   "source": [
    "derived_df_0[[f\"total_populationXorgan_{i}\" for i in organ_strata]].plot(\n",
    "    title=\"Modelled populatation by organ status\", kind=\"area\"\n",
    ")"
   ]
  },
  {
   "cell_type": "code",
   "execution_count": null,
   "metadata": {},
   "outputs": [],
   "source": [
    "derived_df_0[[f\"prop_{organ_stratum}\" for organ_stratum in organ_strata]].plot(\n",
    "    kind=\"area\"\n",
    ")"
   ]
  },
  {
   "cell_type": "code",
   "execution_count": null,
   "metadata": {},
   "outputs": [],
   "source": [
    "plot_model_vs_actual(\n",
    "    derived_df_0, notifs, \"notification\", \"Notification\", \"Modelled vs Data\"\n",
    ")"
   ]
  },
  {
   "cell_type": "code",
   "execution_count": null,
   "metadata": {},
   "outputs": [],
   "source": [
    "plot_model_vs_actual(\n",
    "    derived_df_0, percentage_latent, \"percentage_latent\", \"Percentage latent\", \"Modelled vs Data\"\n",
    ")"
   ]
  },
  {
   "cell_type": "code",
   "execution_count": null,
   "metadata": {},
   "outputs": [],
   "source": [
    "derived_df_0[[f\"cdr_{organ_stratum}\" for organ_stratum in organ_strata]].plot()"
   ]
  },
  {
   "cell_type": "code",
   "execution_count": null,
   "metadata": {},
   "outputs": [],
   "source": [
    "# with pm.Model() as pm_model:\n",
    "#     variables = epm.use_model(calibration_model)\n",
    "#     idata_raw = pm.sample(step=[pm.DEMetropolisZ(variables)], draws=5000, tune=1000, discard_tuned_samples=True)"
   ]
  },
  {
   "cell_type": "code",
   "execution_count": null,
   "metadata": {},
   "outputs": [],
   "source": [
    "#az.plot_trace(idata_raw)"
   ]
  },
  {
   "cell_type": "code",
   "execution_count": null,
   "metadata": {},
   "outputs": [],
   "source": [
    "# def calibrate(out_path, bcm, draws, tune):\n",
    "#     def get_acceptable_start_params(n_params_target, ci=1.0):\n",
    "#         params = []\n",
    "#         n_cores = mp.cpu_count()\n",
    "#         while len(params) < n_params_target:\n",
    "#             new_samples = bcm.sample.lhs(n_cores).convert('list_of_dicts')\n",
    "#             lle = esamp.likelihood_extras_for_samples(new_samples, bcm)\n",
    "#         return bcm.sample.convert(params)\n",
    "\n",
    "#     CI = 0.67\n",
    "#     start_lhs = get_acceptable_start_params(8, ci=CI)\n",
    "    \n",
    "#     def optimize_ng(idx_sample):\n",
    "#         idx, sample = idx_sample\n",
    "#         opt = eng.optimize_model(bcm, budget=100, opt_class=ng.optimizers.TwoPointsDE, obj_function=bcm.logposterior, suggested=sample, num_workers=4, ci=CI)\n",
    "#         rec = opt.minimize(100)\n",
    "#         return idx, rec.value[1]\n",
    "\n",
    "#     opt_samples = map_parallel(optimize_ng, start_lhs.iterrows(), n_workers=2, mode='process')\n",
    "#     opt_samples = bcm.sample.convert(opt_samples).iloc[0: 8].convert('list_of_dicts')\n",
    "    \n",
    "#     n_chains = 8\n",
    "#     n_samples = 100\n",
    "#     with pm.Model() as pm_model:\n",
    "#         variables = epm.use_model(bcm)\n",
    "#         idata_raw = pm.sample(step=[pm.DEMetropolisZ(variables)], draws=draws, tune=tune, cores=4, discard_tuned_samples=False, chains=n_chains, progressbar=True, initvals=opt_samples)\n",
    "#     idata_raw.to_netcdf(str(out_path / 'calib_full_out.nc'))\n",
    "    \n",
    "#     burnt_idata = idata_raw.sel(draw=np.s_[2000:])\n",
    "#     idata_extract = az.extract(burnt_idata, num_samples=n_samples)\n",
    "    \n",
    "#     bcm.sample.convert(idata_extract).to_hdf5(out_path / 'calib_extract_out.h5')\n",
    "    \n",
    "#     spaghetti_res = esamp.model_results_for_samples(idata_extract, bcm)\n",
    "#     spaghetti_res.results.to_hdf(str(out_path / 'results.hdf'), 'spaghetti')\n",
    "\n",
    "#     like_df = esamp.likelihood_extras_for_idata(idata_raw, bcm)\n",
    "#     like_df.to_hdf(str(out_path / 'results.hdf'), 'likelihood')"
   ]
  },
  {
   "cell_type": "code",
   "execution_count": null,
   "metadata": {},
   "outputs": [],
   "source": [
    "# draws = 10000\n",
    "# tune = 2000\n",
    "# def run_calibration():\n",
    "#     idata_raw = calibrate(OUT_PATH,calibration_model, draws,tune)\n"
   ]
  },
  {
   "cell_type": "code",
   "execution_count": null,
   "metadata": {},
   "outputs": [],
   "source": [
    "#run_calibration()"
   ]
  }
 ],
 "metadata": {
  "kernelspec": {
   "display_name": "tbdyn",
   "language": "python",
   "name": "python3"
  },
  "language_info": {
   "codemirror_mode": {
    "name": "ipython",
    "version": 3
   },
   "file_extension": ".py",
   "mimetype": "text/x-python",
   "name": "python",
   "nbconvert_exporter": "python",
   "pygments_lexer": "ipython3",
   "version": "3.10.0"
  }
 },
 "nbformat": 4,
 "nbformat_minor": 2
}
