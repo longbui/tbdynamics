{
 "cells": [
  {
   "cell_type": "code",
   "execution_count": 1,
   "metadata": {},
   "outputs": [
    {
     "name": "stderr",
     "output_type": "stream",
     "text": [
      "WARNING (pytensor.tensor.blas): Using NumPy C-API based implementation for BLAS functions.\n"
     ]
    }
   ],
   "source": [
    "import pandas as pd\n",
    "\n",
    "import pylatex as pl\n",
    "from pylatex.utils import NoEscape\n",
    "import pymc as pm\n",
    "import arviz as az\n",
    "import nevergrad as ng\n",
    "import plotly.express as px\n",
    "\n",
    "from estival.model import BayesianCompartmentalModel\n",
    "from estival.optimization.nevergrad import optimize_model\n",
    "from estival.priors import UniformPrior\n",
    "from estival.targets import NegativeBinomialTarget, CustomTarget\n",
    "from estival.calibration import pymc as epm\n",
    "from tbdynamics import model\n",
    "from tbdynamics.inputs import *\n",
    "from tbdynamics.utils import build_contact_matrix\n",
    "import plotly.graph_objects as go\n",
    "from general_utils.parameter_utils import load_param_info\n",
    "from general_utils.doc_utils import TextElement, TableElement, FigElement, add_element_to_document, \\\n",
    "    save_pyplot_add_to_doc, save_plotly_add_to_doc, compile_doc, generate_doc\n"
   ]
  },
  {
   "cell_type": "code",
   "execution_count": 2,
   "metadata": {},
   "outputs": [],
   "source": [
    "pd.options.plotting.backend = \"plotly\"\n",
    "time_start = 1800\n",
    "time_end = 2020\n",
    "time_step = 1\n",
    "\n",
    "doc_sections = {}\n",
    "compartments = [\n",
    "    \"susceptible\",\n",
    "    \"early_latent\",\n",
    "    \"late_latent\",\n",
    "    \"infectious\",\n",
    "    \"on_treatment\",\n",
    "    \"recovered\",\n",
    "]\n",
    "infectious_compartments = [\n",
    "    \"infectious\",\n",
    "    \"on_treatment\",\n",
    "]\n",
    "\n",
    "latent_compartments = [\n",
    "    \"early_latent\",\n",
    "    \"late_latent\",\n",
    "]\n",
    "age_strata = [0,5,15,35,50]"
   ]
  },
  {
   "cell_type": "code",
   "execution_count": 3,
   "metadata": {},
   "outputs": [],
   "source": [
    "params = {\n",
    "    \"contact_rate\": 0.009414102898074345,\n",
    "    \"start_population_size\": 227344.75719536067,\n",
    "    \"cdr_adjustment\": 0.6,\n",
    "    \"progression_multiplier\": 1.1,\n",
    "    \"infectious_seed\": 1,\n",
    "    \"rr_infection_latent\": 0.2,\n",
    "    \"rr_infection_recovered\": 0.2,\n",
    "    \"infect_death_rate_unstratified\": 0.21,\n",
    "    \"on_treatment_infect_multiplier\": 0.08,\n",
    "    'smear_positive_death_rate':0.364337776897486,\n",
    "    'smear_negative_death_rate': 0.027588310343242016, \n",
    "    'smear_positive_self_recovery': 0.20344728302826143,\n",
    "    'smear_negative_self_recovery': 0.22723824998716693,\n",
    "    'rr_progression_diabetes': 4.5\n",
    "}"
   ]
  },
  {
   "cell_type": "code",
   "execution_count": 4,
   "metadata": {},
   "outputs": [
    {
     "data": {
      "text/plain": [
       "\"The base model consists of 6 states, representing the following states: susceptible, early_latent, late_latent, infectious, on_treatment, recovered. Only the ['infectious', 'on_treatment'] compartment contributes to the force of infection. The model is run from 1800 to 2020. \""
      ]
     },
     "execution_count": 4,
     "metadata": {},
     "output_type": "execute_result"
    }
   ],
   "source": [
    "tb_model, build_text = model.build_base_model(compartments, infectious_compartments, time_start, time_end, time_step)\n",
    "add_element_to_document(\"Model construction\", TextElement(build_text), doc_sections)\n",
    "build_text"
   ]
  },
  {
   "cell_type": "code",
   "execution_count": 6,
   "metadata": {},
   "outputs": [
    {
     "data": {
      "text/plain": [
       "'The simulation starts with Parameter start_population_size million fully susceptible persons, with infectious persons introduced later through strain seeding as described below. '"
      ]
     },
     "execution_count": 6,
     "metadata": {},
     "output_type": "execute_result"
    }
   ],
   "source": [
    "start_text = model.set_starting_conditions(tb_model)\n",
    "add_element_to_document(\"Model construction\", TextElement(start_text), doc_sections)\n",
    "start_text"
   ]
  },
  {
   "cell_type": "code",
   "execution_count": 7,
   "metadata": {},
   "outputs": [
    {
     "data": {
      "text/plain": [
       "'The birth process add newborns to the susceptible compartment of the model'"
      ]
     },
     "execution_count": 7,
     "metadata": {},
     "output_type": "execute_result"
    }
   ],
   "source": [
    "entry_text = model.add_entry_flow(tb_model)\n",
    "add_element_to_document(\"Model construction\", TextElement(entry_text), doc_sections)\n",
    "entry_text"
   ]
  },
  {
   "cell_type": "code",
   "execution_count": 8,
   "metadata": {},
   "outputs": [
    {
     "data": {
      "text/plain": [
       "'The universal_death process add universal death to the model.'"
      ]
     },
     "execution_count": 8,
     "metadata": {},
     "output_type": "execute_result"
    }
   ],
   "source": [
    "ndeath_text = model.add_natural_death_flow(tb_model)\n",
    "add_element_to_document(\"Model construction\", TextElement(ndeath_text), doc_sections)\n",
    "ndeath_text"
   ]
  },
  {
   "cell_type": "code",
   "execution_count": 9,
   "metadata": {},
   "outputs": [
    {
     "data": {
      "text/plain": [
       "('The infection process moves people from the susceptible compartment to the early_latent compartment, under the frequency-dependent transmission assumption. ',\n",
       " 'The infection_from_latent process moves people from the late_latent compartment to the early_latent compartment, under the frequency-dependent transmission assumption. ',\n",
       " 'The infection_from_recovered process moves people from the recovered compartment to the early_latent compartment, under the frequency-dependent transmission assumption. ')"
      ]
     },
     "execution_count": 9,
     "metadata": {},
     "output_type": "execute_result"
    }
   ],
   "source": [
    "infect_text = model.add_infection(tb_model)\n",
    "for text in infect_text:\n",
    "    add_element_to_document(\"Model construction\", TextElement(text), doc_sections)\n",
    "infect_text"
   ]
  },
  {
   "cell_type": "code",
   "execution_count": 10,
   "metadata": {},
   "outputs": [
    {
     "data": {
      "text/plain": [
       "('The stabilisation process moves people from the early_latent compartment to the late_latent compartment, under the frequency-dependent transmission assumption. ',\n",
       " 'The early_activation process moves people from the early_latent compartment to the infectious compartment, under the frequency-dependent transmission assumption. ',\n",
       " 'The late_activation process moves people from the late_latent compartment to the infectious compartment, under the frequency-dependent transmission assumption. ')"
      ]
     },
     "execution_count": 10,
     "metadata": {},
     "output_type": "execute_result"
    }
   ],
   "source": [
    "latency_text = model.add_latency(tb_model)\n",
    "for text in latency_text:\n",
    "    add_element_to_document(\"Model construction\", TextElement(text), doc_sections)\n",
    "latency_text"
   ]
  },
  {
   "cell_type": "code",
   "execution_count": 11,
   "metadata": {},
   "outputs": [
    {
     "data": {
      "text/plain": [
       "'The infect_death process moves people from the infectious'"
      ]
     },
     "execution_count": 11,
     "metadata": {},
     "output_type": "execute_result"
    }
   ],
   "source": [
    "ideath_text = model.add_infect_death(tb_model)\n",
    "add_element_to_document(\"Model construction\", TextElement(ideath_text), doc_sections)\n",
    "ideath_text"
   ]
  },
  {
   "cell_type": "code",
   "execution_count": 12,
   "metadata": {},
   "outputs": [
    {
     "data": {
      "text/plain": [
       "'The self_recovery process moves people from the on_treatment compartment to the recovered, under the frequency-dependent transmission assumption. '"
      ]
     },
     "execution_count": 12,
     "metadata": {},
     "output_type": "execute_result"
    }
   ],
   "source": [
    "sr_text = model.add_self_recovery(tb_model)\n",
    "add_element_to_document(\"Model construction\", TextElement(sr_text), doc_sections)\n",
    "sr_text"
   ]
  },
  {
   "cell_type": "code",
   "execution_count": 13,
   "metadata": {},
   "outputs": [
    {
     "data": {
      "text/plain": [
       "'The detection process moves people from the infectious compartment to the on_treatment compartment, under the frequency-dependent transmission assumption. '"
      ]
     },
     "execution_count": 13,
     "metadata": {},
     "output_type": "execute_result"
    }
   ],
   "source": [
    "detection_text = model.add_detection(tb_model)\n",
    "add_element_to_document(\"Model construction\", TextElement(detection_text), doc_sections)\n",
    "detection_text"
   ]
  },
  {
   "cell_type": "code",
   "execution_count": 14,
   "metadata": {},
   "outputs": [
    {
     "name": "stdout",
     "output_type": "stream",
     "text": [
      "[2017, 2017.01, 2018.0, 2018.01, 2019.0, 2019.01]\n",
      "[0.0, 0.9750000000000001, 0.9750000000000001, 1.275, 1.275, 0.0]\n"
     ]
    },
    {
     "data": {
      "text/plain": [
       "'The acf_detection process moves people from the infectious compartment to the on_treatment, under the frequency-dependent transmission assumption. '"
      ]
     },
     "execution_count": 14,
     "metadata": {},
     "output_type": "execute_result"
    }
   ],
   "source": [
    "acf_text = model.add_acf(tb_model, fixed_parameters)\n",
    "add_element_to_document(\"Model construction\", TextElement(acf_text), doc_sections)\n",
    "acf_text"
   ]
  },
  {
   "cell_type": "code",
   "execution_count": 15,
   "metadata": {},
   "outputs": [
    {
     "data": {
      "text/plain": [
       "('The treatment_recovery process moves people from the on_treatment compartment to the recovered compartment, under the frequency-dependent transmission assumption. ',\n",
       " 'The treatment_death process moves people from the on_treatment compartment to the death, under the frequency-dependent transmission assumption. ',\n",
       " 'The early_activation process moves people from the on_treatment compartment to the infectious compartment, under the frequency-dependent transmission assumption. ')"
      ]
     },
     "execution_count": 15,
     "metadata": {},
     "output_type": "execute_result"
    }
   ],
   "source": [
    "treatment_text = model.add_treatment_related_outcomes(tb_model)\n",
    "for text in treatment_text:\n",
    "    add_element_to_document(\"Model construction\", TextElement(text), doc_sections)\n",
    "treatment_text"
   ]
  },
  {
   "cell_type": "code",
   "execution_count": null,
   "metadata": {},
   "outputs": [],
   "source": [
    "matrix, matrix_text = build_contact_matrix(age_strata, \"matrix.jpg\")"
   ]
  },
  {
   "cell_type": "code",
   "execution_count": null,
   "metadata": {},
   "outputs": [],
   "source": [
    "age_strat, age_strat_text = model.add_age_strat(compartments, infectious_compartments, age_strata, matrix, fixed_parameters)\n",
    "add_element_to_document(\"Model construction\", TextElement(age_strat_text), doc_sections, subsection_name=\"Stratifications\")"
   ]
  },
  {
   "cell_type": "code",
   "execution_count": null,
   "metadata": {},
   "outputs": [],
   "source": [
    "tb_model.stratify_with(age_strat)"
   ]
  },
  {
   "cell_type": "code",
   "execution_count": null,
   "metadata": {},
   "outputs": [],
   "source": [
    "organ, organ_text = model.add_organ_strat(fixed_parameters,infectious_compartments)\n",
    "add_element_to_document(\"Model construction\", TextElement(organ_text), doc_sections, subsection_name=\"Stratifications\")"
   ]
  },
  {
   "cell_type": "code",
   "execution_count": null,
   "metadata": {},
   "outputs": [],
   "source": [
    "tb_model.stratify_with(organ)"
   ]
  },
  {
   "cell_type": "code",
   "execution_count": null,
   "metadata": {},
   "outputs": [],
   "source": [
    "#gender = model.add_gender_strat(tb_model, age_strata, compartments, fixed_parameters)"
   ]
  },
  {
   "cell_type": "code",
   "execution_count": null,
   "metadata": {},
   "outputs": [],
   "source": [
    "model.request_output(tb_model, compartments,  latent_compartments, infectious_compartments)"
   ]
  },
  {
   "cell_type": "code",
   "execution_count": null,
   "metadata": {},
   "outputs": [],
   "source": [
    "priors = [\n",
    "    UniformPrior(\"start_population_size\", (150000, 300000)),\n",
    "    UniformPrior(\"contact_rate\", (0.0001, 0.02)),\n",
    "    #UniformPrior(\"infectious_seed\", [100, 2000]),\n",
    "    UniformPrior(\"rr_infection_latent\", (0.2, 0.5)),\n",
    "    UniformPrior(\"rr_infection_recovered\", (0.1, 0.5)),\n",
    "    UniformPrior(\"smear_positive_death_rate\", (0.335, 0.449)),\n",
    "    UniformPrior(\"smear_negative_death_rate\", (0.017, 0.035)),\n",
    "    UniformPrior(\"smear_positive_self_recovery\", (0.177, 0.288)),\n",
    "    UniformPrior(\"smear_negative_self_recovery\", (0.073, 0.209)),\n",
    "    UniformPrior(\"cdr_adjustment\", (0.6, 1.0)),\\\n",
    "    UniformPrior(\"rr_progression_diabetes\", (2.0, 6.0))\n",
    "    # UniformPrior(\"progression_multiplier\", (0.1, 2.0)),\n",
    "    # UniformPrior(\"cdr_adjustment\", [0.6, 1.0]),\n",
    "    # UniformPrior(\"infect_death_rate_dict.smear_positive\", [0.335, 0.449]),\n",
    "    # UniformPrior(\"infect_death_rate_dict.smear_negative\", [0.017, 0.035]),\n",
    "    # UniformPrior(\"self_recovery_rate_dict.smear_positive\", [0.177, 0.288]),\n",
    "    # UniformPrior(\"self_recovery_rate_dict.smear_negative\", [0.073, 0.209]),\n",
    "    # UniformPrior(\"rr_progression_diabetes\", [1, 10]),\n",
    "]\n",
    "pop = pd.Series({2009: 1207100, 2019: 1194300})\n",
    "notif = pd.Series({2011: 1495,2012: 1485,2013: 1369,2014:1405,2015:1642, 2016:1555, 2017:1440, 2018:1468, 2019:1417})\n",
    "latent = pd.Series({2016:36})\n",
    "\n",
    "def least_squares(modelled, obs, parameters, time_weights):\n",
    "    return 0.0 - (((modelled - obs) ** 2.0)).sum()\n",
    "targets = [\n",
    "    CustomTarget(\"total_population\", pop, least_squares),\n",
    "   # CustomTarget(\"notifications\", notif, least_squares),\n",
    "    NegativeBinomialTarget(\"notifications\", notif, 20.0),\n",
    "    CustomTarget(\"percentage_latent\", latent, least_squares)\n",
    "]\n",
    "binom_targets = [\n",
    "    NegativeBinomialTarget(\"total_population\", pop, 20.0),\n",
    "]\n",
    "calibration_model = BayesianCompartmentalModel(tb_model, params, priors, targets)"
   ]
  },
  {
   "cell_type": "code",
   "execution_count": null,
   "metadata": {},
   "outputs": [],
   "source": [
    "optimise_model = True\n",
    "if optimise_model:\n",
    "    print(\"Optimising with nevergrad \\n Progression of loss function values:\")\n",
    "    optim_runner = optimize_model(calibration_model)\n",
    "    for i in range(10):\n",
    "        rec = optim_runner.minimize(100)\n",
    "        print(rec.loss)\n",
    "    optim_params = rec.value[1]\n",
    "    params.update(optim_params)\n",
    "    tb_model.run(parameters=params)\n",
    "    print(\"Best calibration parameters found:\")\n",
    "    print(optim_params)"
   ]
  },
  {
   "cell_type": "code",
   "execution_count": null,
   "metadata": {},
   "outputs": [],
   "source": [
    "tb_model.run(parameters=params)\n",
    "derived_df_0 = tb_model.get_derived_outputs_df()"
   ]
  },
  {
   "cell_type": "code",
   "execution_count": null,
   "metadata": {},
   "outputs": [],
   "source": [
    "plots = {\"total_population\": {\n",
    "      \"title\": \"Population size\",\n",
    "      \"output_key\": \"total_population\",\n",
    "      \"times\": [2009.0, 2019.0],\n",
    "      \"values\": [1207100, 1194300],\n",
    "      \"quantiles\": [0.025, 0.25, 0.5, 0.75, 0.975]\n",
    "    },\n",
    "     \"notifications\": {\n",
    "      \"title\": \"Notifications\",\n",
    "      \"output_key\": \"notifications\",\n",
    "      \"times\": [2011.0, 2012.0, 2013.0, 2014.0, 2015.0, 2016.0, 2017.0, 2018.0, 2019.0],\n",
    "      \"values\": [1495, 1485, 1369, 1405, 1642, 1555, 1440, 1468, 1417],\n",
    "      \"quantiles\": [0.025, 0.25, 0.5, 0.75, 0.975]\n",
    "    },\n",
    "    \"percentage_latent\": {\n",
    "      \"title\": \"Percentage Latent\",\n",
    "      \"output_key\": \"percentage_latent\",\n",
    "      \"times\": [2016.0],\n",
    "      \"values\": [30.8],\n",
    "      \"quantiles\": [0.025, 0.25, 0.5, 0.75, 0.975]\n",
    "    },\n",
    "    \n",
    "    }"
   ]
  },
  {
   "cell_type": "code",
   "execution_count": null,
   "metadata": {},
   "outputs": [],
   "source": [
    "fig2_1 = px.line(\n",
    "    derived_df_0,\n",
    "    x=derived_df_0.index,\n",
    "    y=\"total_population\",\n",
    ")\n",
    "fig2_2 = px.scatter(x= plots['total_population']['times'], y = plots['total_population']['values'])\n",
    "fig2_2.update_traces(marker=dict(color=\"red\"))\n",
    "fig2_3 = go.Figure(\n",
    "    data=fig2_1.data + fig2_2.data,\n",
    ")\n",
    "fig2_3.update_layout(\n",
    "    title=\"Modelled vs Data\", title_x=0.5, xaxis_title=\"Year\", yaxis_title=\"Population\"\n",
    ")\n",
    "fig2_3.show()"
   ]
  },
  {
   "cell_type": "code",
   "execution_count": null,
   "metadata": {},
   "outputs": [],
   "source": [
    "notif_1 = px.line(\n",
    "    derived_df_0,\n",
    "    x=derived_df_0.index,\n",
    "    y=\"notifications\",\n",
    ")\n",
    "notif_2 = px.scatter(x= plots['notifications']['times'], y = plots['notifications']['values'])\n",
    "notif_2.update_traces(marker=dict(color=\"red\"))\n",
    "notif_plot = go.Figure(\n",
    "    data=notif_1.data + notif_2.data,\n",
    ")\n",
    "notif_plot.update_layout(\n",
    "    title=\"Modelled vs Data\", title_x=0.5, xaxis_title=\"Year\", yaxis_title=\"Notifications\"\n",
    ")\n",
    "notif_plot.show()"
   ]
  },
  {
   "cell_type": "code",
   "execution_count": null,
   "metadata": {},
   "outputs": [],
   "source": [
    "derived_df_0['prevalence_infectious'].plot()"
   ]
  },
  {
   "cell_type": "code",
   "execution_count": null,
   "metadata": {},
   "outputs": [],
   "source": [
    "derived_df_0['incidence'].plot()"
   ]
  },
  {
   "cell_type": "code",
   "execution_count": null,
   "metadata": {},
   "outputs": [],
   "source": [
    "latent_1 = px.line(\n",
    "    derived_df_0,\n",
    "    x=derived_df_0.index,\n",
    "    y=\"percentage_latent\",\n",
    ")\n",
    "latent_2 = px.scatter(x= plots['percentage_latent']['times'], y = plots['percentage_latent']['values'])\n",
    "latent_2.update_traces(marker=dict(color=\"red\"))\n",
    "latent_plot = go.Figure(\n",
    "    data=latent_1.data + latent_2.data,\n",
    ")\n",
    "latent_plot.update_layout(\n",
    "    title=\"Modelled vs Data\", title_x=0.5, xaxis_title=\"Year\", yaxis_title=\"Percentage latent\"\n",
    ")\n",
    "latent_plot.show()"
   ]
  },
  {
   "cell_type": "code",
   "execution_count": null,
   "metadata": {},
   "outputs": [],
   "source": [
    "derived_df_0['incidence']"
   ]
  }
 ],
 "metadata": {
  "kernelspec": {
   "display_name": "tbdyn",
   "language": "python",
   "name": "python3"
  },
  "language_info": {
   "codemirror_mode": {
    "name": "ipython",
    "version": 3
   },
   "file_extension": ".py",
   "mimetype": "text/x-python",
   "name": "python",
   "nbconvert_exporter": "python",
   "pygments_lexer": "ipython3",
   "version": "3.10.11"
  },
  "orig_nbformat": 4
 },
 "nbformat": 4,
 "nbformat_minor": 2
}
