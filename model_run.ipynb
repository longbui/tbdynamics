{
 "cells": [
  {
   "cell_type": "code",
   "execution_count": null,
   "metadata": {},
   "outputs": [],
   "source": [
    "import pandas as pd\n",
    "from pathlib import Path\n",
    "import pymc as pm\n",
    "import plotly.express as px\n",
    "import numpy as np\n",
    "import pandas as pd\n",
    "\n",
    "from estival.model import BayesianCompartmentalModel\n",
    "import estival.priors as esp\n",
    "import estival.targets as est\n",
    "from estival.wrappers import pymc as epm\n",
    "from tbdynamics import model\n",
    "from tbdynamics.utils import round_sigfig\n",
    "from tbdynamics.inputs import fixed_parameters\n",
    "import plotly.graph_objects as go\n",
    "from tbdynamics.constants import age_strata, organ_strata, compartments, latent_compartments, infectious_compartments"
   ]
  },
  {
   "cell_type": "markdown",
   "metadata": {},
   "source": [
    "## Define variables"
   ]
  },
  {
   "cell_type": "code",
   "execution_count": null,
   "metadata": {},
   "outputs": [],
   "source": [
    "PROJECT_PATH = Path().resolve()\n",
    "DATA_PATH = PROJECT_PATH / 'data'\n",
    "pd.options.plotting.backend = \"plotly\"\n",
    "\n",
    "time_start = 1700.0\n",
    "time_end = 2023.0\n",
    "time_step = 0.1\n",
    "matrix = np.ones((6, 6)) # Homo mixing\n"
   ]
  },
  {
   "cell_type": "markdown",
   "metadata": {},
   "source": [
    "## Define Model"
   ]
  },
  {
   "cell_type": "markdown",
   "metadata": {},
   "source": [
    "### Base model"
   ]
  },
  {
   "cell_type": "code",
   "execution_count": null,
   "metadata": {},
   "outputs": [],
   "source": [
    "tb_model = model.build_model(\n",
    "    compartments,\n",
    "    latent_compartments,\n",
    "    infectious_compartments,\n",
    "    age_strata,\n",
    "    time_start,\n",
    "    time_end,\n",
    "    time_step,\n",
    "    fixed_parameters,\n",
    "    matrix\n",
    ")"
   ]
  },
  {
   "cell_type": "markdown",
   "metadata": {},
   "source": [
    "### Params and calibration targets"
   ]
  },
  {
   "cell_type": "code",
   "execution_count": null,
   "metadata": {},
   "outputs": [],
   "source": [
    "params = {}\n",
    "\n",
    "\n",
    "priors = [\n",
    "    esp.UniformPrior(\"start_population_size\", (100000, 30000000)),\n",
    "    esp.UniformPrior(\"contact_rate\", (0, 10)),  # multiplied with eigenvalue\n",
    "    esp.UniformPrior(\"rr_infection_latent\", (0.2, 0.5)),\n",
    "    esp.UniformPrior(\"rr_infection_recovered\", (0.1, 0.5)),\n",
    "    esp.UniformPrior(\"progression_multiplier\", (1.0, 5.0)),\n",
    "    esp.UniformPrior(\"seed_time\", [1700.0, 1900.0]),\n",
    "    esp.UniformPrior(\"seed_duration\", [1.0, 5.0]),\n",
    "    esp.UniformPrior(\"seed_num\", [1.0, 1000.0]),\n",
    "    esp.UniformPrior(\"smear_positive_death_rate\", (0.335, 0.449)),\n",
    "    esp.UniformPrior(\"smear_negative_death_rate\", (0.017, 0.035)),\n",
    "    esp.UniformPrior(\"smear_positive_self_recovery\", (0.177, 0.288)),\n",
    "    esp.UniformPrior(\"smear_negative_self_recovery\", (0.073, 0.209)),\n",
    "]\n",
    "\n",
    "pop = pd.Series(\n",
    "    {\n",
    "        2009: 86025000,\n",
    "        2019: 96484000,\n",
    "    }\n",
    ")\n",
    "\n",
    "notifs = pd.Series(\n",
    "    {\n",
    "        2010: 99022,\n",
    "        2011: 100518,\n",
    "        2012: 103906,\n",
    "        2013: 102196,\n",
    "        2014: 102087,\n",
    "        2015: 102676,\n",
    "        2016: 102527,\n",
    "        2017: 105733,\n",
    "        2018: 102171,\n",
    "        2019: 104505,\n",
    "        2020: 101795,\n",
    "        2021: 78935,\n",
    "        2022: 103804,\n",
    "    }\n",
    ")\n",
    "\n",
    "targets = [\n",
    "    est.NormalTarget(\"total_population\", pop, stdev=100000),\n",
    "    est.NormalTarget(\"notification\", notifs, stdev=1000),\n",
    "]\n",
    "\n",
    "calibration_model = BayesianCompartmentalModel(tb_model, params, priors, targets)"
   ]
  },
  {
   "cell_type": "markdown",
   "metadata": {},
   "source": [
    "### Running Calibration"
   ]
  },
  {
   "cell_type": "code",
   "execution_count": null,
   "metadata": {},
   "outputs": [],
   "source": [
    "with pm.Model() as pmc_model:\n",
    "    start_params = {k: np.clip(v, *calibration_model.priors[k].bounds(0.99)) for k, v in params.items() if k in calibration_model.priors}\n",
    "    variables = epm.use_model(calibration_model)\n",
    "    map_params = pm.find_MAP(start=start_params, vars=variables, maxeval= 10000,include_transformed=False)\n",
    "    map_params = {k: float(v) for k, v in map_params.items()}\n",
    "    print('Best calibration parameters found:')\n",
    "for i_param, param in enumerate(map_params):\n",
    "    print(f'   {param}: {round_sigfig(map_params[param], 4)} (within bound {priors[i_param].bounds()}')"
   ]
  },
  {
   "cell_type": "code",
   "execution_count": null,
   "metadata": {},
   "outputs": [],
   "source": [
    "params.update(map_params)\n",
    "tb_model.run(params)\n",
    "derived_df_0 = tb_model.get_derived_outputs_df()"
   ]
  },
  {
   "cell_type": "markdown",
   "metadata": {},
   "source": [
    "### Population output"
   ]
  },
  {
   "cell_type": "code",
   "execution_count": null,
   "metadata": {},
   "outputs": [],
   "source": [
    "line_trace = go.Scatter(\n",
    "    x=derived_df_0.index,\n",
    "    y=derived_df_0[\"total_population\"],\n",
    "    mode=\"lines\",\n",
    "    name=\"Modeled Data\",\n",
    ")\n",
    "# Create a scatter plot for the actual data\n",
    "scatter_trace = go.Scatter(\n",
    "    x=pop.index,\n",
    "    y=pop.values,\n",
    "    mode=\"markers\",\n",
    "    marker=dict(color=\"red\"),\n",
    "    name=\"Actual Data\",\n",
    ")\n",
    "\n",
    "# Combine the traces into one figure\n",
    "fig = go.Figure(data=[line_trace, scatter_trace])\n",
    "\n",
    "# Update the layout for the combined figure\n",
    "fig.update_layout(\n",
    "    title=\"Modelled vs Data\", title_x=0.5, xaxis_title=\"Year\", yaxis_title=\"Population\"\n",
    ")\n",
    "\n",
    "# Show the figure\n",
    "fig.show()"
   ]
  },
  {
   "cell_type": "code",
   "execution_count": null,
   "metadata": {},
   "outputs": [],
   "source": [
    "derived_df_0[[f'total_populationXage_{i}' for i in age_strata]].plot(title='Modelled populatation by age group', kind ='area')"
   ]
  },
  {
   "cell_type": "code",
   "execution_count": null,
   "metadata": {},
   "outputs": [],
   "source": [
    "derived_df_0['prevalence_infectious'].plot()"
   ]
  },
  {
   "cell_type": "code",
   "execution_count": null,
   "metadata": {},
   "outputs": [],
   "source": [
    "derived_df_0[[f\"prop_{compartment}\" for compartment in compartments]].plot(kind=\"area\")"
   ]
  },
  {
   "cell_type": "code",
   "execution_count": null,
   "metadata": {},
   "outputs": [],
   "source": [
    "derived_df_0[[f'total_populationXorgan_{i}' for i in organ_strata]].plot(title='Modelled populatation by organ status', kind ='area')"
   ]
  },
  {
   "cell_type": "code",
   "execution_count": null,
   "metadata": {},
   "outputs": [],
   "source": [
    "derived_df_0[[f\"prop_{organ_stratum}\" for organ_stratum in organ_strata]].plot(kind=\"area\")"
   ]
  },
  {
   "cell_type": "code",
   "execution_count": null,
   "metadata": {},
   "outputs": [],
   "source": [
    "line_trace = go.Scatter(\n",
    "    x=derived_df_0.index,\n",
    "    y=derived_df_0[\"notification\"],\n",
    "    mode=\"lines\",\n",
    "    name=\"Modeled Data\",\n",
    ")\n",
    "# Create a scatter plot for the actual data\n",
    "scatter_trace = go.Scatter(\n",
    "    x=notifs.index,\n",
    "    y=notifs.values,\n",
    "    mode=\"markers\",\n",
    "    marker=dict(color=\"red\"),\n",
    "    name=\"Actual Data\",\n",
    ")\n",
    "\n",
    "# Combine the traces into one figure\n",
    "fig = go.Figure(data=[line_trace, scatter_trace])\n",
    "\n",
    "# Update the layout for the combined figure\n",
    "fig.update_layout(\n",
    "    title=\"Modelled vs Data\", title_x=0.5, xaxis_title=\"Year\", yaxis_title=\"Notifications\"\n",
    ")\n",
    "\n",
    "# Show the figure\n",
    "fig.show()"
   ]
  }
 ],
 "metadata": {
  "kernelspec": {
   "display_name": "tbdyn",
   "language": "python",
   "name": "python3"
  },
  "language_info": {
   "codemirror_mode": {
    "name": "ipython",
    "version": 3
   },
   "file_extension": ".py",
   "mimetype": "text/x-python",
   "name": "python",
   "nbconvert_exporter": "python",
   "pygments_lexer": "ipython3",
   "version": "3.10.0"
  }
 },
 "nbformat": 4,
 "nbformat_minor": 2
}
