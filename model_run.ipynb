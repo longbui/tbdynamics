{
 "cells": [
  {
   "cell_type": "code",
   "execution_count": 1,
   "metadata": {},
   "outputs": [
    {
     "name": "stderr",
     "output_type": "stream",
     "text": [
      "WARNING (pytensor.tensor.blas): Using NumPy C-API based implementation for BLAS functions.\n"
     ]
    }
   ],
   "source": [
    "import pandas as pd\n",
    "pd.options.plotting.backend = \"plotly\"\n",
    "from datetime import datetime, date\n",
    "import pylatex as pl\n",
    "from pylatex.utils import NoEscape\n",
    "import pymc as pm\n",
    "import arviz as az\n",
    "import nevergrad as ng\n",
    "import plotly.express as px\n",
    "\n",
    "from estival.model import BayesianCompartmentalModel\n",
    "from estival.optimization.nevergrad import optimize_model\n",
    "from estival.priors import UniformPrior\n",
    "from estival.targets import NegativeBinomialTarget, CustomTarget\n",
    "from estival.calibration import pymc as epm\n",
    "from tbdynamics import model"
   ]
  },
  {
   "cell_type": "code",
   "execution_count": 2,
   "metadata": {},
   "outputs": [],
   "source": [
    "time_start = 1800\n",
    "time_end = 2020\n",
    "time_step = 1"
   ]
  },
  {
   "cell_type": "code",
   "execution_count": 3,
   "metadata": {},
   "outputs": [],
   "source": [
    "compartments = [\n",
    "    \"susceptible\",\n",
    "    \"early_latent\",\n",
    "    \"late_latent\",\n",
    "    \"infectious\",\n",
    "    \"on_treatment\",\n",
    "    \"recovered\",\n",
    "]\n",
    "infectious_compartments = [\n",
    "    \"infectious\",\n",
    "    \"on_treatment\",\n",
    "]"
   ]
  },
  {
   "cell_type": "code",
   "execution_count": 18,
   "metadata": {},
   "outputs": [],
   "source": [
    "params = {\n",
    "    \"contact_rate\": 0.009,\n",
    "    \"start_population_size\": 200000,\n",
    "    \"progression_multiplier\": 2,\n",
    "    \"seed\": 1,\n",
    "    \"rr_infection_latent\": 0.5,\n",
    "    \"rr_infection_recovered\": 0.5,\n",
    "    \"infect_death_rate_unstratified\": 0.21\n",
    "}"
   ]
  },
  {
   "cell_type": "code",
   "execution_count": 5,
   "metadata": {},
   "outputs": [],
   "source": [
    "tb_model, build_text = model.build_base_model(compartments, infectious_compartments, time_start, time_end, time_step)"
   ]
  },
  {
   "cell_type": "code",
   "execution_count": 6,
   "metadata": {},
   "outputs": [
    {
     "data": {
      "text/plain": [
       "\"The base model consists of 6 states, representing the following states: susceptible, early_latent, late_latent, infectious, on_treatment, recovered. Only the ['infectious', 'on_treatment'] compartment contributes to the force of infection. The model is run from 1800 to 2020. \""
      ]
     },
     "execution_count": 6,
     "metadata": {},
     "output_type": "execute_result"
    }
   ],
   "source": [
    "build_text"
   ]
  },
  {
   "cell_type": "code",
   "execution_count": 7,
   "metadata": {},
   "outputs": [
    {
     "data": {
      "text/plain": [
       "'The simulation starts with 0.2 million fully susceptible persons, with infectious persons introduced later through strain seeding as described below. '"
      ]
     },
     "execution_count": 7,
     "metadata": {},
     "output_type": "execute_result"
    }
   ],
   "source": [
    "model.set_starting_conditions(tb_model, params[\"start_population_size\"], params[\"seed\"])\n",
    "\n"
   ]
  },
  {
   "cell_type": "code",
   "execution_count": 8,
   "metadata": {},
   "outputs": [
    {
     "data": {
      "text/plain": [
       "('The infection process moves people from the susceptible compartment to the early_latent compartment, under the frequency-dependent transmission assumption. ',\n",
       " 'The infection_from_latent process moves people from the late_latent compartment to the early_latent compartment, under the frequency-dependent transmission assumption. ',\n",
       " 'The infection_from_recovered process moves people from the late_latent compartment to the early_latent compartment, under the frequency-dependent transmission assumption. ')"
      ]
     },
     "execution_count": 8,
     "metadata": {},
     "output_type": "execute_result"
    }
   ],
   "source": [
    "model.add_infection(tb_model)"
   ]
  },
  {
   "cell_type": "code",
   "execution_count": 9,
   "metadata": {},
   "outputs": [
    {
     "data": {
      "text/plain": [
       "('The stabilisation process moves people from the susceptible compartment to the early_latent compartment, under the frequency-dependent transmission assumption. ',\n",
       " 'The early_activation process moves people from the susceptible compartment to the early_latent compartment, under the frequency-dependent transmission assumption. ',\n",
       " 'The late_activation process moves people from the late_latent compartment to the infectious compartment, under the frequency-dependent transmission assumption. ')"
      ]
     },
     "execution_count": 9,
     "metadata": {},
     "output_type": "execute_result"
    }
   ],
   "source": [
    "model.add_latency(tb_model)"
   ]
  },
  {
   "cell_type": "code",
   "execution_count": 10,
   "metadata": {},
   "outputs": [
    {
     "data": {
      "text/plain": [
       "('The early_activation process moves people from the on_treatment compartment to the recovered compartment, under the frequency-dependent transmission assumption. ',\n",
       " 'The death_flow process moves people from the on_treatment compartment to the death, under the frequency-dependent transmission assumption. ',\n",
       " 'The early_activation process moves people from the on_treatment compartment to the infectious compartment, under the frequency-dependent transmission assumption. ')"
      ]
     },
     "execution_count": 10,
     "metadata": {},
     "output_type": "execute_result"
    }
   ],
   "source": [
    "model.add_treatment(tb_model)"
   ]
  },
  {
   "cell_type": "code",
   "execution_count": 11,
   "metadata": {},
   "outputs": [],
   "source": [
    "model.add_entry_flow(tb_model)"
   ]
  },
  {
   "cell_type": "code",
   "execution_count": 12,
   "metadata": {},
   "outputs": [],
   "source": [
    "model.add_natural_death_flow(tb_model)"
   ]
  },
  {
   "cell_type": "code",
   "execution_count": 19,
   "metadata": {},
   "outputs": [
    {
     "data": {
      "text/plain": [
       "{'contact_rate': 0.009,\n",
       " 'start_population_size': 200000,\n",
       " 'progression_multiplier': 2,\n",
       " 'seed': 1,\n",
       " 'rr_infection_latent': 0.5,\n",
       " 'rr_infection_recovered': 0.5,\n",
       " 'infect_death_rate_unstratified': 0.21}"
      ]
     },
     "execution_count": 19,
     "metadata": {},
     "output_type": "execute_result"
    }
   ],
   "source": [
    "params"
   ]
  },
  {
   "cell_type": "code",
   "execution_count": 20,
   "metadata": {},
   "outputs": [],
   "source": [
    "tb_model.run(parameters=params)"
   ]
  },
  {
   "cell_type": "code",
   "execution_count": 22,
   "metadata": {},
   "outputs": [
    {
     "data": {
      "text/html": [
       "<div>\n",
       "<style scoped>\n",
       "    .dataframe tbody tr th:only-of-type {\n",
       "        vertical-align: middle;\n",
       "    }\n",
       "\n",
       "    .dataframe tbody tr th {\n",
       "        vertical-align: top;\n",
       "    }\n",
       "\n",
       "    .dataframe thead th {\n",
       "        text-align: right;\n",
       "    }\n",
       "</style>\n",
       "<table border=\"1\" class=\"dataframe\">\n",
       "  <thead>\n",
       "    <tr style=\"text-align: right;\">\n",
       "      <th></th>\n",
       "      <th>susceptible</th>\n",
       "      <th>early_latent</th>\n",
       "      <th>late_latent</th>\n",
       "      <th>infectious</th>\n",
       "      <th>on_treatment</th>\n",
       "      <th>recovered</th>\n",
       "    </tr>\n",
       "  </thead>\n",
       "  <tbody>\n",
       "    <tr>\n",
       "      <th>1800.0</th>\n",
       "      <td>1.999990e+05</td>\n",
       "      <td>0.000000e+00</td>\n",
       "      <td>0.0</td>\n",
       "      <td>1.000000e+00</td>\n",
       "      <td>0.0</td>\n",
       "      <td>0.0</td>\n",
       "    </tr>\n",
       "    <tr>\n",
       "      <th>1801.0</th>\n",
       "      <td>9.959095e+03</td>\n",
       "      <td>6.361933e+04</td>\n",
       "      <td>0.0</td>\n",
       "      <td>3.678793e-01</td>\n",
       "      <td>0.0</td>\n",
       "      <td>0.0</td>\n",
       "    </tr>\n",
       "    <tr>\n",
       "      <th>1802.0</th>\n",
       "      <td>4.966724e+02</td>\n",
       "      <td>2.657241e+04</td>\n",
       "      <td>0.0</td>\n",
       "      <td>1.353353e-01</td>\n",
       "      <td>0.0</td>\n",
       "      <td>0.0</td>\n",
       "    </tr>\n",
       "    <tr>\n",
       "      <th>1803.0</th>\n",
       "      <td>2.492060e+01</td>\n",
       "      <td>9.933639e+03</td>\n",
       "      <td>0.0</td>\n",
       "      <td>4.978711e-02</td>\n",
       "      <td>0.0</td>\n",
       "      <td>0.0</td>\n",
       "    </tr>\n",
       "    <tr>\n",
       "      <th>1804.0</th>\n",
       "      <td>1.304975e+00</td>\n",
       "      <td>3.662393e+03</td>\n",
       "      <td>0.0</td>\n",
       "      <td>1.831567e-02</td>\n",
       "      <td>0.0</td>\n",
       "      <td>0.0</td>\n",
       "    </tr>\n",
       "    <tr>\n",
       "      <th>...</th>\n",
       "      <td>...</td>\n",
       "      <td>...</td>\n",
       "      <td>...</td>\n",
       "      <td>...</td>\n",
       "      <td>...</td>\n",
       "      <td>...</td>\n",
       "    </tr>\n",
       "    <tr>\n",
       "      <th>2016.0</th>\n",
       "      <td>7.254125e-94</td>\n",
       "      <td>4.041821e-89</td>\n",
       "      <td>0.0</td>\n",
       "      <td>2.000899e-94</td>\n",
       "      <td>0.0</td>\n",
       "      <td>0.0</td>\n",
       "    </tr>\n",
       "    <tr>\n",
       "      <th>2017.0</th>\n",
       "      <td>2.661830e-94</td>\n",
       "      <td>1.488769e-89</td>\n",
       "      <td>0.0</td>\n",
       "      <td>7.369977e-95</td>\n",
       "      <td>0.0</td>\n",
       "      <td>0.0</td>\n",
       "    </tr>\n",
       "    <tr>\n",
       "      <th>2018.0</th>\n",
       "      <td>9.799295e-95</td>\n",
       "      <td>5.483751e-90</td>\n",
       "      <td>0.0</td>\n",
       "      <td>2.714608e-95</td>\n",
       "      <td>0.0</td>\n",
       "      <td>0.0</td>\n",
       "    </tr>\n",
       "    <tr>\n",
       "      <th>2019.0</th>\n",
       "      <td>3.609246e-95</td>\n",
       "      <td>2.019892e-90</td>\n",
       "      <td>0.0</td>\n",
       "      <td>9.998807e-96</td>\n",
       "      <td>0.0</td>\n",
       "      <td>0.0</td>\n",
       "    </tr>\n",
       "    <tr>\n",
       "      <th>2020.0</th>\n",
       "      <td>1.329423e-95</td>\n",
       "      <td>7.440093e-91</td>\n",
       "      <td>0.0</td>\n",
       "      <td>3.682894e-96</td>\n",
       "      <td>0.0</td>\n",
       "      <td>0.0</td>\n",
       "    </tr>\n",
       "  </tbody>\n",
       "</table>\n",
       "<p>221 rows × 6 columns</p>\n",
       "</div>"
      ],
      "text/plain": [
       "         susceptible  early_latent  late_latent    infectious  on_treatment  \\\n",
       "1800.0  1.999990e+05  0.000000e+00          0.0  1.000000e+00           0.0   \n",
       "1801.0  9.959095e+03  6.361933e+04          0.0  3.678793e-01           0.0   \n",
       "1802.0  4.966724e+02  2.657241e+04          0.0  1.353353e-01           0.0   \n",
       "1803.0  2.492060e+01  9.933639e+03          0.0  4.978711e-02           0.0   \n",
       "1804.0  1.304975e+00  3.662393e+03          0.0  1.831567e-02           0.0   \n",
       "...              ...           ...          ...           ...           ...   \n",
       "2016.0  7.254125e-94  4.041821e-89          0.0  2.000899e-94           0.0   \n",
       "2017.0  2.661830e-94  1.488769e-89          0.0  7.369977e-95           0.0   \n",
       "2018.0  9.799295e-95  5.483751e-90          0.0  2.714608e-95           0.0   \n",
       "2019.0  3.609246e-95  2.019892e-90          0.0  9.998807e-96           0.0   \n",
       "2020.0  1.329423e-95  7.440093e-91          0.0  3.682894e-96           0.0   \n",
       "\n",
       "        recovered  \n",
       "1800.0        0.0  \n",
       "1801.0        0.0  \n",
       "1802.0        0.0  \n",
       "1803.0        0.0  \n",
       "1804.0        0.0  \n",
       "...           ...  \n",
       "2016.0        0.0  \n",
       "2017.0        0.0  \n",
       "2018.0        0.0  \n",
       "2019.0        0.0  \n",
       "2020.0        0.0  \n",
       "\n",
       "[221 rows x 6 columns]"
      ]
     },
     "execution_count": 22,
     "metadata": {},
     "output_type": "execute_result"
    }
   ],
   "source": [
    "tb_model.get_outputs_df()"
   ]
  }
 ],
 "metadata": {
  "kernelspec": {
   "display_name": "tbdyn",
   "language": "python",
   "name": "python3"
  },
  "language_info": {
   "codemirror_mode": {
    "name": "ipython",
    "version": 3
   },
   "file_extension": ".py",
   "mimetype": "text/x-python",
   "name": "python",
   "nbconvert_exporter": "python",
   "pygments_lexer": "ipython3",
   "version": "3.10.11"
  },
  "orig_nbformat": 4
 },
 "nbformat": 4,
 "nbformat_minor": 2
}
