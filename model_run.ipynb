{
 "cells": [
  {
   "cell_type": "code",
   "execution_count": 1,
   "metadata": {},
   "outputs": [
    {
     "name": "stderr",
     "output_type": "stream",
     "text": [
      "WARNING (pytensor.configdefaults): g++ not available, if using conda: `conda install m2w64-toolchain`\n",
      "WARNING (pytensor.configdefaults): g++ not detected!  PyTensor will be unable to compile C-implementations and will default to Python. Performance may be severely degraded. To remove this warning, set PyTensor flags cxx to an empty string.\n",
      "WARNING (pytensor.tensor.blas): Using NumPy C-API based implementation for BLAS functions.\n"
     ]
    }
   ],
   "source": [
    "import pandas as pd\n",
    "from pathlib import Path\n",
    "import pymc as pm\n",
    "import plotly.express as px\n",
    "import numpy as np\n",
    "import pandas as pd\n",
    "\n",
    "from estival.model import BayesianCompartmentalModel\n",
    "import estival.priors as esp\n",
    "import estival.targets as est\n",
    "from estival.wrappers import pymc as epm\n",
    "from tbdynamics import model\n",
    "from tbdynamics.utils import round_sigfig\n",
    "from tbdynamics.inputs import fixed_parameters\n",
    "import plotly.graph_objects as go\n",
    "from tbdynamics.custompriors import NormalPrior"
   ]
  },
  {
   "cell_type": "markdown",
   "metadata": {},
   "source": [
    "## Define variables"
   ]
  },
  {
   "cell_type": "code",
   "execution_count": 2,
   "metadata": {},
   "outputs": [],
   "source": [
    "PROJECT_PATH = Path().resolve()\n",
    "DATA_PATH = PROJECT_PATH / 'data'\n",
    "pd.options.plotting.backend = \"plotly\"\n",
    "\n",
    "time_start = 1700.0\n",
    "time_end = 2023.0\n",
    "time_step = 0.1\n",
    "\n",
    "compartments = [\n",
    "    \"susceptible\",\n",
    "    \"early_latent\",\n",
    "    \"late_latent\",\n",
    "    \"infectious\",\n",
    "    \"on_treatment\",\n",
    "    \"recovered\",\n",
    "]\n",
    "\n",
    "latent_compartments = [\n",
    "    \"early_latent\",\n",
    "    \"late_latent\",\n",
    "]\n",
    "infectious_compartments = [\n",
    "    \"infectious\",\n",
    "    \"on_treatment\",\n",
    "]\n",
    "\n",
    "\n",
    "age_strata = [0,5,15,35,50,70] \n",
    "matrix = np.ones((6, 6)) # Homo mixing"
   ]
  },
  {
   "cell_type": "markdown",
   "metadata": {},
   "source": [
    "## Define Model"
   ]
  },
  {
   "cell_type": "markdown",
   "metadata": {},
   "source": [
    "### Base model"
   ]
  },
  {
   "cell_type": "code",
   "execution_count": 3,
   "metadata": {},
   "outputs": [],
   "source": [
    "tb_model = model.build_model(\n",
    "    compartments,\n",
    "    latent_compartments,\n",
    "    infectious_compartments,\n",
    "    age_strata,\n",
    "    time_start,\n",
    "    time_end,\n",
    "    time_step,\n",
    "    fixed_parameters,\n",
    "    matrix\n",
    ")"
   ]
  },
  {
   "cell_type": "markdown",
   "metadata": {},
   "source": [
    "### Params and calibration targets"
   ]
  },
  {
   "cell_type": "code",
   "execution_count": 4,
   "metadata": {},
   "outputs": [
    {
     "ename": "TypeError",
     "evalue": "TruncNormalPrior.__init__() missing 2 required positional arguments: 'stdev' and 'trunc_range'",
     "output_type": "error",
     "traceback": [
      "\u001b[1;31m---------------------------------------------------------------------------\u001b[0m",
      "\u001b[1;31mTypeError\u001b[0m                                 Traceback (most recent call last)",
      "Cell \u001b[1;32mIn[4], line 14\u001b[0m\n\u001b[0;32m      1\u001b[0m params \u001b[38;5;241m=\u001b[39m {\n\u001b[0;32m      2\u001b[0m }\n\u001b[0;32m      5\u001b[0m priors \u001b[38;5;241m=\u001b[39m [\n\u001b[0;32m      6\u001b[0m     esp\u001b[38;5;241m.\u001b[39mUniformPrior(\u001b[38;5;124m\"\u001b[39m\u001b[38;5;124mstart_population_size\u001b[39m\u001b[38;5;124m\"\u001b[39m, (\u001b[38;5;241m100000\u001b[39m, \u001b[38;5;241m30000000\u001b[39m)),\n\u001b[0;32m      7\u001b[0m     esp\u001b[38;5;241m.\u001b[39mUniformPrior(\u001b[38;5;124m\"\u001b[39m\u001b[38;5;124mcontact_rate\u001b[39m\u001b[38;5;124m\"\u001b[39m, (\u001b[38;5;241m0\u001b[39m, \u001b[38;5;241m10\u001b[39m)),  \u001b[38;5;66;03m# multiplied with eigenvalue\u001b[39;00m\n\u001b[0;32m      8\u001b[0m     esp\u001b[38;5;241m.\u001b[39mUniformPrior(\u001b[38;5;124m\"\u001b[39m\u001b[38;5;124mrr_infection_latent\u001b[39m\u001b[38;5;124m\"\u001b[39m, (\u001b[38;5;241m0.2\u001b[39m, \u001b[38;5;241m0.5\u001b[39m)),\n\u001b[0;32m      9\u001b[0m     esp\u001b[38;5;241m.\u001b[39mUniformPrior(\u001b[38;5;124m\"\u001b[39m\u001b[38;5;124mrr_infection_recovered\u001b[39m\u001b[38;5;124m\"\u001b[39m, (\u001b[38;5;241m0.1\u001b[39m, \u001b[38;5;241m0.5\u001b[39m)),\n\u001b[0;32m     10\u001b[0m     esp\u001b[38;5;241m.\u001b[39mUniformPrior(\u001b[38;5;124m\"\u001b[39m\u001b[38;5;124mprogression_multiplier\u001b[39m\u001b[38;5;124m\"\u001b[39m, (\u001b[38;5;241m1.0\u001b[39m, \u001b[38;5;241m5.0\u001b[39m)),\n\u001b[0;32m     11\u001b[0m     esp\u001b[38;5;241m.\u001b[39mUniformPrior(\u001b[38;5;124m\"\u001b[39m\u001b[38;5;124mseed_time\u001b[39m\u001b[38;5;124m\"\u001b[39m, [\u001b[38;5;241m1700.0\u001b[39m, \u001b[38;5;241m1900.0\u001b[39m]),\n\u001b[0;32m     12\u001b[0m     esp\u001b[38;5;241m.\u001b[39mUniformPrior(\u001b[38;5;124m\"\u001b[39m\u001b[38;5;124mseed_duration\u001b[39m\u001b[38;5;124m\"\u001b[39m, [\u001b[38;5;241m1.0\u001b[39m, \u001b[38;5;241m5.0\u001b[39m]),\n\u001b[0;32m     13\u001b[0m     esp\u001b[38;5;241m.\u001b[39mUniformPrior(\u001b[38;5;124m\"\u001b[39m\u001b[38;5;124mseed_num\u001b[39m\u001b[38;5;124m\"\u001b[39m, [\u001b[38;5;241m1.0\u001b[39m, \u001b[38;5;241m1000.0\u001b[39m]),\n\u001b[1;32m---> 14\u001b[0m     \u001b[43mesp\u001b[49m\u001b[38;5;241;43m.\u001b[39;49m\u001b[43mTruncNormalPrior\u001b[49m\u001b[43m(\u001b[49m\u001b[38;5;124;43m\"\u001b[39;49m\u001b[38;5;124;43msmear_positive_death_rate\u001b[39;49m\u001b[38;5;124;43m\"\u001b[39;49m\u001b[43m,\u001b[49m\u001b[43m \u001b[49m\u001b[43m(\u001b[49m\u001b[38;5;241;43m0.335\u001b[39;49m\u001b[43m,\u001b[49m\u001b[43m \u001b[49m\u001b[38;5;241;43m0.449\u001b[39;49m\u001b[43m)\u001b[49m\u001b[43m)\u001b[49m,\n\u001b[0;32m     15\u001b[0m     esp\u001b[38;5;241m.\u001b[39mTruncNormalPrior(\u001b[38;5;124m\"\u001b[39m\u001b[38;5;124msmear_negative_death_rate\u001b[39m\u001b[38;5;124m\"\u001b[39m, (\u001b[38;5;241m0.017\u001b[39m, \u001b[38;5;241m0.035\u001b[39m)),\n\u001b[0;32m     16\u001b[0m     esp\u001b[38;5;241m.\u001b[39mTruncNormalPrior(\u001b[38;5;124m\"\u001b[39m\u001b[38;5;124msmear_positive_self_recovery\u001b[39m\u001b[38;5;124m\"\u001b[39m, (\u001b[38;5;241m0.177\u001b[39m, \u001b[38;5;241m0.288\u001b[39m)),\n\u001b[0;32m     17\u001b[0m     esp\u001b[38;5;241m.\u001b[39mTruncNormalPrior(\u001b[38;5;124m\"\u001b[39m\u001b[38;5;124msmear_negative_self_recovery\u001b[39m\u001b[38;5;124m\"\u001b[39m, (\u001b[38;5;241m0.073\u001b[39m, \u001b[38;5;241m0.209\u001b[39m)),\n\u001b[0;32m     18\u001b[0m \n\u001b[0;32m     19\u001b[0m ]\n\u001b[0;32m     21\u001b[0m pop \u001b[38;5;241m=\u001b[39m pd\u001b[38;5;241m.\u001b[39mSeries(\n\u001b[0;32m     22\u001b[0m     {\n\u001b[0;32m     23\u001b[0m         \u001b[38;5;241m2009\u001b[39m: \u001b[38;5;241m86025000\u001b[39m,\n\u001b[1;32m   (...)\u001b[0m\n\u001b[0;32m     26\u001b[0m     }\n\u001b[0;32m     27\u001b[0m )\n\u001b[0;32m     29\u001b[0m targets \u001b[38;5;241m=\u001b[39m [\n\u001b[0;32m     30\u001b[0m     est\u001b[38;5;241m.\u001b[39mNormalTarget(\u001b[38;5;124m\"\u001b[39m\u001b[38;5;124mtotal_population\u001b[39m\u001b[38;5;124m\"\u001b[39m, pop, stdev\u001b[38;5;241m=\u001b[39m\u001b[38;5;241m100000\u001b[39m),\n\u001b[0;32m     31\u001b[0m ]\n",
      "\u001b[1;31mTypeError\u001b[0m: TruncNormalPrior.__init__() missing 2 required positional arguments: 'stdev' and 'trunc_range'"
     ]
    }
   ],
   "source": [
    "params = {\n",
    "}\n",
    "\n",
    "\n",
    "priors = [\n",
    "    esp.UniformPrior(\"start_population_size\", (100000, 30000000)),\n",
    "    esp.UniformPrior(\"contact_rate\", (0, 10)),  # multiplied with eigenvalue\n",
    "    esp.UniformPrior(\"rr_infection_latent\", (0.2, 0.5)),\n",
    "    esp.UniformPrior(\"rr_infection_recovered\", (0.1, 0.5)),\n",
    "    esp.UniformPrior(\"progression_multiplier\", (1.0, 5.0)),\n",
    "    esp.UniformPrior(\"seed_time\", [1700.0, 1900.0]),\n",
    "    esp.UniformPrior(\"seed_duration\", [1.0, 5.0]),\n",
    "    esp.UniformPrior(\"seed_num\", [1.0, 1000.0]),\n",
    "    esp.UniformPrior(\"smear_positive_death_rate\", (0.335, 0.449)),\n",
    "    esp.UniformPrior(\"smear_negative_death_rate\", (0.017, 0.035)),\n",
    "    esp.UniformPrior(\"smear_positive_self_recovery\", (0.177, 0.288)),\n",
    "    esp.UniformPrior(\"smear_negative_self_recovery\", (0.073, 0.209)),\n",
    "\n",
    "]\n",
    "\n",
    "pop = pd.Series(\n",
    "    {\n",
    "        2009: 86025000,\n",
    "        2019: 96484000,\n",
    "\n",
    "    }\n",
    ")\n",
    "\n",
    "targets = [\n",
    "    est.NormalTarget(\"total_population\", pop, stdev=100000),\n",
    "]\n",
    "\n",
    "calibration_model = BayesianCompartmentalModel(tb_model, params, priors, targets)"
   ]
  },
  {
   "cell_type": "markdown",
   "metadata": {},
   "source": [
    "### Running Calibration"
   ]
  },
  {
   "cell_type": "code",
   "execution_count": null,
   "metadata": {},
   "outputs": [],
   "source": [
    "with pm.Model() as pmc_model:\n",
    "    start_params = {k: np.clip(v, *calibration_model.priors[k].bounds(0.99)) for k, v in params.items() if k in calibration_model.priors}\n",
    "    variables = epm.use_model(calibration_model)\n",
    "    map_params = pm.find_MAP(start=start_params, vars=variables, maxeval= 1000,include_transformed=False)\n",
    "    map_params = {k: float(v) for k, v in map_params.items()}\n",
    "    print('Best calibration parameters found:')\n",
    "for i_param, param in enumerate(map_params):\n",
    "    print(f'   {param}: {round_sigfig(map_params[param], 4)} (within bound {priors[i_param].bounds()}')"
   ]
  },
  {
   "cell_type": "code",
   "execution_count": null,
   "metadata": {},
   "outputs": [],
   "source": [
    "params.update(map_params)\n",
    "tb_model.run(params)\n",
    "derived_df_0 = tb_model.get_derived_outputs_df()"
   ]
  },
  {
   "cell_type": "markdown",
   "metadata": {},
   "source": [
    "### Population output"
   ]
  },
  {
   "cell_type": "code",
   "execution_count": null,
   "metadata": {},
   "outputs": [],
   "source": [
    "fig2_1 = px.line(\n",
    "    derived_df_0,\n",
    "    x=derived_df_0.index,\n",
    "    y=\"total_population\",\n",
    ")\n",
    "fig2_2 = px.scatter(x= pop.index, y = pop.values)\n",
    "fig2_2.update_traces(marker=dict(color=\"red\"))\n",
    "fig2_3 = go.Figure(\n",
    "    data=fig2_1.data + fig2_2.data,\n",
    ")\n",
    "fig2_3.update_layout(\n",
    "    title=\"Modelled vs Data\", title_x=0.5, xaxis_title=\"Year\", yaxis_title=\"Population\"\n",
    ")\n",
    "fig2_3.show()"
   ]
  },
  {
   "cell_type": "code",
   "execution_count": null,
   "metadata": {},
   "outputs": [],
   "source": [
    "derived_df_0[[f'total_populationXage_{i}' for i in age_strata]].plot(title='Modelled populatation by age group', kind ='area')"
   ]
  },
  {
   "cell_type": "code",
   "execution_count": null,
   "metadata": {},
   "outputs": [],
   "source": [
    "derived_df_0['prevalence_infectious'].plot()"
   ]
  },
  {
   "cell_type": "code",
   "execution_count": null,
   "metadata": {},
   "outputs": [],
   "source": [
    "derived_df_0[[f\"prop_{compartment}\" for compartment in compartments]].plot(kind=\"area\")"
   ]
  }
 ],
 "metadata": {
  "kernelspec": {
   "display_name": "tbdyn",
   "language": "python",
   "name": "python3"
  },
  "language_info": {
   "codemirror_mode": {
    "name": "ipython",
    "version": 3
   },
   "file_extension": ".py",
   "mimetype": "text/x-python",
   "name": "python",
   "nbconvert_exporter": "python",
   "pygments_lexer": "ipython3",
   "version": "3.10.0"
  }
 },
 "nbformat": 4,
 "nbformat_minor": 2
}
