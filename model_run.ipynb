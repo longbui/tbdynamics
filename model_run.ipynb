{
 "cells": [
  {
   "cell_type": "code",
   "execution_count": null,
   "metadata": {},
   "outputs": [],
   "source": [
    "import pandas as pd\n",
    "from pathlib import Path\n",
    "import pymc as pm\n",
    "import plotly.express as px\n",
    "import numpy as np\n",
    "import pandas as pd\n",
    "\n",
    "from estival.model import BayesianCompartmentalModel\n",
    "import estival.priors as esp\n",
    "import estival.targets as est\n",
    "from estival.wrappers import pymc as epm\n",
    "from tbdynamics import model\n",
    "from tbdynamics.utils import round_sigfig\n",
    "from tbdynamics.inputs import load_params\n",
    "from tbdynamics.constants import age_strata, organ_strata, compartments, latent_compartments, infectious_compartments\n",
    "from tbdynamics.plotting import plot_model_vs_actual"
   ]
  },
  {
   "cell_type": "markdown",
   "metadata": {},
   "source": [
    "## Define variables"
   ]
  },
  {
   "cell_type": "code",
   "execution_count": null,
   "metadata": {},
   "outputs": [],
   "source": [
    "PROJECT_PATH = Path().resolve()\n",
    "DATA_PATH = PROJECT_PATH / 'data'\n",
    "pd.options.plotting.backend = \"plotly\"\n",
    "\n",
    "time_start = 1700.0\n",
    "time_end = 2023.0\n",
    "time_step = 0.1\n",
    "matrix = np.ones((6, 6)) # Homo mixing\n"
   ]
  },
  {
   "cell_type": "code",
   "execution_count": null,
   "metadata": {},
   "outputs": [],
   "source": [
    "fixed_parameters = load_params(PROJECT_PATH / 'tbdynamics/params.yml')"
   ]
  },
  {
   "cell_type": "markdown",
   "metadata": {},
   "source": [
    "## Define Model"
   ]
  },
  {
   "cell_type": "markdown",
   "metadata": {},
   "source": [
    "### Base model"
   ]
  },
  {
   "cell_type": "code",
   "execution_count": null,
   "metadata": {},
   "outputs": [],
   "source": [
    "tb_model = model.build_model(\n",
    "    compartments,\n",
    "    latent_compartments,\n",
    "    infectious_compartments,\n",
    "    age_strata,\n",
    "    time_start,\n",
    "    time_end,\n",
    "    time_step,\n",
    "    fixed_parameters,\n",
    "    matrix\n",
    ")"
   ]
  },
  {
   "cell_type": "markdown",
   "metadata": {},
   "source": [
    "### Params and calibration targets"
   ]
  },
  {
   "cell_type": "code",
   "execution_count": null,
   "metadata": {},
   "outputs": [],
   "source": [
    "params = {}\n",
    "\n",
    "\n",
    "priors = [\n",
    "    esp.UniformPrior(\"start_population_size\", (100000, 30000000)),\n",
    "    esp.UniformPrior(\"contact_rate\", (0.1, 130)),  # multiplied with eigenvalue\n",
    "    esp.UniformPrior(\"rr_infection_latent\", (0.2, 0.5)),\n",
    "    esp.UniformPrior(\"rr_infection_recovered\", (0.1, 0.5)),\n",
    "    esp.UniformPrior(\"progression_multiplier\", (0.1, 10.0)),\n",
    "    esp.UniformPrior(\"seed_time\", [1700.0, 1900.0]),\n",
    "    esp.UniformPrior(\"seed_duration\", [1.0, 5.0]),\n",
    "    esp.UniformPrior(\"seed_num\", [1.0, 1500.0]),\n",
    "    esp.UniformPrior(\"smear_positive_death_rate\", (0.335, 0.449)),\n",
    "    esp.UniformPrior(\"smear_negative_death_rate\", (0.017, 0.035)),\n",
    "    esp.UniformPrior(\"smear_positive_self_recovery\", (0.177, 0.288)),\n",
    "    esp.UniformPrior(\"smear_negative_self_recovery\", (0.073, 0.209)),\n",
    "]\n",
    "\n",
    "pop = pd.Series(\n",
    "    {\n",
    "        2009: 86025000,\n",
    "        2019: 96484000,\n",
    "    }\n",
    ")\n",
    "\n",
    "notifs = pd.Series(\n",
    "    {\n",
    "        2010: 99022,\n",
    "        2011: 100518,\n",
    "        2012: 103906,\n",
    "        2013: 102196,\n",
    "        2014: 102087,\n",
    "        2015: 102676,\n",
    "        2016: 102527,\n",
    "        2017: 105733,\n",
    "        2018: 102171,\n",
    "        2019: 104505,\n",
    "        2020: 101795,\n",
    "        2021: 78935,\n",
    "        2022: 103804,\n",
    "    }\n",
    ")\n",
    "\n",
    "prop_smear_positive = pd.Series({2022: .83})\n",
    "incidence = pd.Series({2022: 176})\n",
    "\n",
    "targets = [\n",
    "    est.NormalTarget(\"total_population\", pop, stdev=100000.0),\n",
    "    est.NormalTarget(\"notification\", notifs, stdev=1000.0),\n",
    "    est.NormalTarget(\"prop_smear_positive\", prop_smear_positive, stdev=.5),\n",
    "    est.NormalTarget(\"incidence\", incidence, stdev=33.0),\n",
    "]\n",
    "\n",
    "calibration_model = BayesianCompartmentalModel(tb_model, params, priors, targets)"
   ]
  },
  {
   "cell_type": "markdown",
   "metadata": {},
   "source": [
    "### Running Calibration"
   ]
  },
  {
   "cell_type": "code",
   "execution_count": null,
   "metadata": {},
   "outputs": [],
   "source": [
    "with pm.Model() as pmc_model:\n",
    "    start_params = {k: np.clip(v, *calibration_model.priors[k].bounds(0.99)) for k, v in params.items() if k in calibration_model.priors}\n",
    "    variables = epm.use_model(calibration_model)\n",
    "    map_params = pm.find_MAP(start=start_params, vars=variables, maxeval= 10000,include_transformed=False)\n",
    "    map_params = {k: float(v) for k, v in map_params.items()}\n",
    "    print('Best calibration parameters found:')\n",
    "for i_param, param in enumerate(map_params):\n",
    "    print(f'   {param}: {round_sigfig(map_params[param], 4)} (within bound {priors[i_param].bounds()}')"
   ]
  },
  {
   "cell_type": "code",
   "execution_count": null,
   "metadata": {},
   "outputs": [],
   "source": [
    "params.update(map_params)\n",
    "tb_model.run(params)\n",
    "derived_df_0 = tb_model.get_derived_outputs_df()"
   ]
  },
  {
   "cell_type": "markdown",
   "metadata": {},
   "source": [
    "### Population output"
   ]
  },
  {
   "cell_type": "code",
   "execution_count": null,
   "metadata": {},
   "outputs": [],
   "source": [
    "plot_model_vs_actual(derived_df_0, pop, 'total_population', 'Population', 'Modelled vs Data')"
   ]
  },
  {
   "cell_type": "code",
   "execution_count": null,
   "metadata": {},
   "outputs": [],
   "source": [
    "derived_df_0[[f'total_populationXage_{i}' for i in age_strata]].plot(title='Modelled populatation by age group', kind ='area')"
   ]
  },
  {
   "cell_type": "code",
   "execution_count": null,
   "metadata": {},
   "outputs": [],
   "source": [
    "derived_df_0['incidence'].plot()"
   ]
  },
  {
   "cell_type": "code",
   "execution_count": null,
   "metadata": {},
   "outputs": [],
   "source": [
    "derived_df_0['prevalence_infectious'].plot()"
   ]
  },
  {
   "cell_type": "code",
   "execution_count": null,
   "metadata": {},
   "outputs": [],
   "source": [
    "derived_df_0[[f\"prop_{compartment}\" for compartment in compartments]].plot(kind=\"area\")"
   ]
  },
  {
   "cell_type": "code",
   "execution_count": null,
   "metadata": {},
   "outputs": [],
   "source": [
    "derived_df_0[[f'total_populationXorgan_{i}' for i in organ_strata]].plot(title='Modelled populatation by organ status', kind ='area')"
   ]
  },
  {
   "cell_type": "code",
   "execution_count": null,
   "metadata": {},
   "outputs": [],
   "source": [
    "derived_df_0[[f\"prop_{organ_stratum}\" for organ_stratum in organ_strata]].plot(kind=\"area\")"
   ]
  },
  {
   "cell_type": "code",
   "execution_count": null,
   "metadata": {},
   "outputs": [],
   "source": [
    "plot_model_vs_actual(derived_df_0, notifs, 'notification', 'Notification', 'Modelled vs Data')"
   ]
  }
 ],
 "metadata": {
  "kernelspec": {
   "display_name": "tbdyn",
   "language": "python",
   "name": "python3"
  },
  "language_info": {
   "codemirror_mode": {
    "name": "ipython",
    "version": 3
   },
   "file_extension": ".py",
   "mimetype": "text/x-python",
   "name": "python",
   "nbconvert_exporter": "python",
   "pygments_lexer": "ipython3",
   "version": "3.10.11"
  }
 },
 "nbformat": 4,
 "nbformat_minor": 2
}
