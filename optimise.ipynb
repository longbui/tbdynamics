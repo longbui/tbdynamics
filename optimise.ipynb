{
 "cells": [
  {
   "cell_type": "code",
   "execution_count": null,
   "metadata": {},
   "outputs": [],
   "source": [
    "import pandas as pd\n",
    "from tbdynamics.plotting import plot_model_vs_actual\n",
    "import nevergrad as ng\n",
    "\n",
    "# Import our convenience wrapper\n",
    "from estival.wrappers.nevergrad import optimize_model\n",
    "from tbdynamics.calib_utils import get_bcm, load_targets\n",
    "from multiprocessing import cpu_count\n",
    "import pymc as pm\n",
    "import numpy as np\n",
    "from estival.wrappers import pymc as epm\n",
    "from tbdynamics.utils import round_sigfig"
   ]
  },
  {
   "cell_type": "code",
   "execution_count": null,
   "metadata": {},
   "outputs": [],
   "source": [
    "pd.options.plotting.backend = \"plotly\""
   ]
  },
  {
   "cell_type": "code",
   "execution_count": null,
   "metadata": {},
   "outputs": [],
   "source": [
    "params = {\n",
    "    # \"contact_rate\": 0.007255277552812773,\n",
    "    # \"start_population_size\": 2200000,\n",
    "    # \"rr_infection_latent\": 0.4435087078206438,\n",
    "    # \"rr_infection_recovered\": 0.3726339126072788,\n",
    "    # \"progression_multiplier\": 1.71734470040371,\n",
    "    # \"seed_time\": 1810.0,\n",
    "    # \"seed_num\": 70.0,\n",
    "    # \"seed_duration\": 10.0,\n",
    "    # \"smear_positive_death_rate\": 0.3789083132417181,\n",
    "    # \"smear_negative_death_rate\": 0.023640460692223537,\n",
    "    # \"smear_positive_self_recovery\": 0.2064856493052769,\n",
    "    # \"smear_negative_self_recovery\": 0.11108908197816095,\n",
    "    # \"screening_scaleup_shape\": 0.07019338853789103,\n",
    "    # \"screening_inflection_time\": 1994.2958903597957,\n",
    "    # \"screening_end_asymp\": 0.5881461121229823,\n",
    "    # \"detection_reduction\": 0.7542772690107872,\n",
    "}\n",
    "bcm = get_bcm(params)"
   ]
  },
  {
   "cell_type": "code",
   "execution_count": null,
   "metadata": {},
   "outputs": [],
   "source": [
    "num_cores = cpu_count()\n",
    "# Set the number of workers for parallel optimization\n",
    "opt_class = ng.optimizers.TwoPointsDE\n",
    "orunner = optimize_model(bcm, opt_class=opt_class, num_workers=num_cores)\n",
    "for i in range(8):\n",
    "    rec = orunner.minimize(1000)\n",
    "mle_params = rec.value[1]\n",
    "mle_params"
   ]
  },
  {
   "cell_type": "code",
   "execution_count": null,
   "metadata": {},
   "outputs": [],
   "source": [
    "mle_params = {'contact_rate': 0.010031304902786675,\n",
    " 'start_population_size': 2005339.2118720335,\n",
    " 'rr_infection_latent': 0.3301721468405893,\n",
    " 'rr_infection_recovered': 0.27078325770665934,\n",
    " 'progression_multiplier': 1.1262387464490249,\n",
    " 'seed_time': 1817.7529279147298,\n",
    " 'seed_num': 50.4817926792365,\n",
    " 'seed_duration': 10.614352725414532,\n",
    " 'smear_positive_death_rate': 0.44247614742411967,\n",
    " 'smear_negative_death_rate': 0.033904747997486426,\n",
    " 'smear_positive_self_recovery': 0.28160698200193296,\n",
    " 'smear_negative_self_recovery': 0.084808988407536,\n",
    " 'screening_scaleup_shape': 0.12154685018376989,\n",
    " 'screening_inflection_time': 1995.6168715249032,\n",
    " 'screening_end_asymp': 0.6818112874993197,\n",
    " 'detection_reduction': 0.7523522142574105}"
   ]
  },
  {
   "cell_type": "code",
   "execution_count": null,
   "metadata": {},
   "outputs": [],
   "source": [
    "res = bcm.run(mle_params)\n",
    "derived_df_0 = res.derived_outputs\n",
    "targets = load_targets()"
   ]
  },
  {
   "cell_type": "code",
   "execution_count": null,
   "metadata": {},
   "outputs": [],
   "source": [
    "plot_model_vs_actual(\n",
    "    derived_df_0, targets['total_population'], \"total_population\", \"Population\", \"Modelled vs Data\"\n",
    ")"
   ]
  },
  {
   "cell_type": "code",
   "execution_count": null,
   "metadata": {},
   "outputs": [],
   "source": [
    "plot_model_vs_actual(\n",
    "    derived_df_0, targets['percentage_latent'], \"percentage_latent\", \"Percentage latent\", \"Modelled vs Data\"\n",
    ")"
   ]
  },
  {
   "cell_type": "code",
   "execution_count": null,
   "metadata": {},
   "outputs": [],
   "source": [
    "plot_model_vs_actual(derived_df_0, targets['prevalence_pulmonary'], 'prevalence_pulmonary', 'Infectious prevalence', 'Modelled vs Estimation from 2017 prevalence survey')"
   ]
  },
  {
   "cell_type": "code",
   "execution_count": null,
   "metadata": {},
   "outputs": [],
   "source": [
    "plot_model_vs_actual(\n",
    "    derived_df_0, targets['incidence'], \"incidence\", \"Incidence\", \"Modelled vs Data\"\n",
    ")"
   ]
  },
  {
   "cell_type": "code",
   "execution_count": null,
   "metadata": {},
   "outputs": [],
   "source": [
    "plot_model_vs_actual(\n",
    "    derived_df_0, targets['notification'], \"notification\", \"Notifications\", \"Modelled vs Data\"\n",
    ")"
   ]
  },
  {
   "cell_type": "code",
   "execution_count": null,
   "metadata": {},
   "outputs": [],
   "source": [
    "plot_model_vs_actual(\n",
    "    derived_df_0, targets['mortality_raw'], \"mortality_raw\", \"Mortality raw\", \"Modelled vs Data\"\n",
    ")"
   ]
  }
 ],
 "metadata": {
  "kernelspec": {
   "display_name": "tbdyn",
   "language": "python",
   "name": "python3"
  },
  "language_info": {
   "codemirror_mode": {
    "name": "ipython",
    "version": 3
   },
   "file_extension": ".py",
   "mimetype": "text/x-python",
   "name": "python",
   "nbconvert_exporter": "python",
   "pygments_lexer": "ipython3",
   "version": "3.10.13"
  }
 },
 "nbformat": 4,
 "nbformat_minor": 2
}
