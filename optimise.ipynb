{
 "cells": [
  {
   "cell_type": "code",
   "execution_count": null,
   "metadata": {},
   "outputs": [],
   "source": [
    "import pandas as pd\n",
    "from tbdynamics.constants import (\n",
    "    age_strata,\n",
    "    organ_strata,\n",
    "    compartments,\n",
    "\n",
    ")\n",
    "from tbdynamics.plotting import plot_model_vs_actual\n",
    "import nevergrad as ng\n",
    "\n",
    "# Import our convenience wrapper\n",
    "from estival.wrappers.nevergrad import optimize_model\n",
    "from tbdynamics.calib_utils import get_bcm, load_targets\n",
    "from multiprocessing import cpu_count"
   ]
  },
  {
   "cell_type": "code",
   "execution_count": null,
   "metadata": {},
   "outputs": [],
   "source": [
    "pd.options.plotting.backend = \"plotly\""
   ]
  },
  {
   "cell_type": "code",
   "execution_count": null,
   "metadata": {},
   "outputs": [],
   "source": [
    "params = {\n",
    "    \"seed_time\": 1810.,\n",
    "    \"start_population_size\": 2300000.,\n",
    "    \"seed_num\": 10.,\n",
    "    \"seed_duration\": 3.,\n",
    "    \"screening_scaleup_shape\": 0.1,\n",
    "    \"screening_inflection_time\": 1993.,\n",
    "    \"screening_end_asymp\": 0.6,\n",
    "}\n",
    "\n",
    "bcm = get_bcm(params)"
   ]
  },
  {
   "cell_type": "code",
   "execution_count": null,
   "metadata": {},
   "outputs": [],
   "source": [
    "num_cores = cpu_count()\n",
    "# Set the number of workers for parallel optimization\n",
    "num_workers = num_cores\n",
    "opt_class = ng.optimizers.TwoPointsDE\n",
    "orunner = optimize_model(bcm, opt_class=opt_class, num_workers=num_cores, ci=0.67)\n",
    "for i in range(8):\n",
    "    rec = orunner.minimize(1000)\n",
    "mle_params = rec.value[1]\n",
    "mle_params\n",
    "   "
   ]
  },
  {
   "cell_type": "code",
   "execution_count": null,
   "metadata": {},
   "outputs": [],
   "source": [
    "res = bcm.run(mle_params)\n",
    "derived_df_0 = res.derived_outputs\n",
    "targets = load_targets()"
   ]
  },
  {
   "cell_type": "code",
   "execution_count": null,
   "metadata": {},
   "outputs": [],
   "source": [
    "plot_model_vs_actual(\n",
    "    derived_df_0, targets['total_population'], \"total_population\", \"Population\", \"Modelled vs Data\"\n",
    ")"
   ]
  },
  {
   "cell_type": "code",
   "execution_count": null,
   "metadata": {},
   "outputs": [],
   "source": [
    "plot_model_vs_actual(\n",
    "    derived_df_0, targets['percentage_latent'], \"percentage_latent\", \"Percentage latent\", \"Modelled vs Data\"\n",
    ")"
   ]
  },
  {
   "cell_type": "code",
   "execution_count": null,
   "metadata": {},
   "outputs": [],
   "source": [
    "plot_model_vs_actual(derived_df_0, targets['prevalence_pulmonary'], 'prevalence_pulmonary', 'Infectious prevalence', 'Modelled vs Estimation from 2017 prevalence survey')"
   ]
  },
  {
   "cell_type": "code",
   "execution_count": null,
   "metadata": {},
   "outputs": [],
   "source": [
    "plot_model_vs_actual(\n",
    "    derived_df_0, targets['incidence'], \"incidence\", \"Incidence\", \"Modelled vs Data\"\n",
    ")"
   ]
  }
 ],
 "metadata": {
  "kernelspec": {
   "display_name": "tbdyn",
   "language": "python",
   "name": "python3"
  },
  "language_info": {
   "codemirror_mode": {
    "name": "ipython",
    "version": 3
   },
   "file_extension": ".py",
   "mimetype": "text/x-python",
   "name": "python",
   "nbconvert_exporter": "python",
   "pygments_lexer": "ipython3",
   "version": "3.10.13"
  }
 },
 "nbformat": 4,
 "nbformat_minor": 2
}
