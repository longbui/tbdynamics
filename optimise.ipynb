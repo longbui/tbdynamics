{
 "cells": [
  {
   "cell_type": "code",
   "execution_count": null,
   "metadata": {},
   "outputs": [],
   "source": [
    "import pandas as pd\n",
    "from tbdynamics.plotting import plot_model_vs_actual\n",
    "import nevergrad as ng\n",
    "\n",
    "# Import our convenience wrapper\n",
    "from estival.wrappers.nevergrad import optimize_model\n",
    "from tbdynamics.calib_utils import get_bcm, load_targets\n",
    "from multiprocessing import cpu_count\n",
    "import pymc as pm\n",
    "import numpy as np"
   ]
  },
  {
   "cell_type": "code",
   "execution_count": null,
   "metadata": {},
   "outputs": [],
   "source": [
    "pd.options.plotting.backend = \"plotly\""
   ]
  },
  {
   "cell_type": "code",
   "execution_count": null,
   "metadata": {},
   "outputs": [],
   "source": [
    "params = {\n",
    "    \"start_population_size\": 2300000.,\n",
    "    \"seed_time\": 1810.,\n",
    "    \"seed_num\": 10.,\n",
    "    \"seed_duration\": 3.,\n",
    "    \"screening_scaleup_shape\": 0.1,\n",
    "    \"screening_inflection_time\": 1993.,\n",
    "    \"screening_end_asymp\": 0.65,\n",
    "}\n",
    "\n",
    "bcm = get_bcm(params)"
   ]
  },
  {
   "cell_type": "code",
   "execution_count": null,
   "metadata": {},
   "outputs": [],
   "source": [
    "num_cores = cpu_count()\n",
    "# Set the number of workers for parallel optimization\n",
    "opt_class = ng.optimizers.TwoPointsDE\n",
    "orunner = optimize_model(bcm, opt_class=opt_class, num_workers=num_cores, ci=0.67)\n",
    "for i in range(8):\n",
    "    rec = orunner.minimize(1000)\n",
    "mle_params = rec.value[1]\n",
    "mle_params\n",
    "   "
   ]
  },
  {
   "cell_type": "code",
   "execution_count": null,
   "metadata": {},
   "outputs": [],
   "source": [
    "res = bcm.run(mle_params)\n",
    "derived_df_0 = res.derived_outputs\n",
    "targets = load_targets()"
   ]
  },
  {
   "cell_type": "code",
   "execution_count": null,
   "metadata": {},
   "outputs": [],
   "source": [
    "plot_model_vs_actual(\n",
    "    derived_df_0, targets['total_population'], \"total_population\", \"Population\", \"Modelled vs Data\"\n",
    ")"
   ]
  },
  {
   "cell_type": "code",
   "execution_count": null,
   "metadata": {},
   "outputs": [],
   "source": [
    "plot_model_vs_actual(\n",
    "    derived_df_0, targets['percentage_latent'], \"percentage_latent\", \"Percentage latent\", \"Modelled vs Data\"\n",
    ")"
   ]
  },
  {
   "cell_type": "code",
   "execution_count": null,
   "metadata": {},
   "outputs": [],
   "source": [
    "plot_model_vs_actual(derived_df_0, targets['prevalence_pulmonary'], 'prevalence_pulmonary', 'Infectious prevalence', 'Modelled vs Estimation from 2017 prevalence survey')"
   ]
  },
  {
   "cell_type": "code",
   "execution_count": null,
   "metadata": {},
   "outputs": [],
   "source": [
    "plot_model_vs_actual(\n",
    "    derived_df_0, targets['incidence'], \"incidence\", \"Incidence\", \"Modelled vs Data\"\n",
    ")"
   ]
  },
  {
   "cell_type": "code",
   "execution_count": null,
   "metadata": {},
   "outputs": [],
   "source": [
    "plot_model_vs_actual(\n",
    "    derived_df_0, targets['notification'], \"notification\", \"Notifications\", \"Modelled vs Data\"\n",
    ")"
   ]
  },
  {
   "cell_type": "code",
   "execution_count": null,
   "metadata": {},
   "outputs": [],
   "source": [
    "derived_df_0['cdr'].plot()"
   ]
  },
  {
   "cell_type": "code",
   "execution_count": null,
   "metadata": {},
   "outputs": [],
   "source": [
    "from autumn.infrastructure.remote import springboard\n",
    "rts = springboard.task.RemoteTaskStore()\n",
    "rts.cd('projects/tbdynamics/s10041_calibration')\n",
    "rts.ls()\n",
    "mt = rts.get_managed_task('2024-04-10T1335-d50k-t20k-b20k')\n",
    "mt.download_all()"
   ]
  },
  {
   "cell_type": "code",
   "execution_count": null,
   "metadata": {},
   "outputs": [],
   "source": []
  },
  {
   "cell_type": "code",
   "execution_count": null,
   "metadata": {},
   "outputs": [],
   "source": []
  }
 ],
 "metadata": {
  "kernelspec": {
   "display_name": "tbdyn",
   "language": "python",
   "name": "python3"
  },
  "language_info": {
   "codemirror_mode": {
    "name": "ipython",
    "version": 3
   },
   "file_extension": ".py",
   "mimetype": "text/x-python",
   "name": "python",
   "nbconvert_exporter": "python",
   "pygments_lexer": "ipython3",
   "version": "3.10.0"
  }
 },
 "nbformat": 4,
 "nbformat_minor": 2
}
