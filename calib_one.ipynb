{
 "cells": [
  {
   "cell_type": "code",
   "execution_count": 16,
   "metadata": {},
   "outputs": [],
   "source": [
    "import warnings\n",
    "warnings.filterwarnings(\"ignore\")\n",
    "import numpy as np\n",
    "import pymc as pm\n",
    "import arviz as az\n",
    "import multiprocessing as mp\n",
    "from estival.wrappers import pymc as epm\n",
    "from estival.sampling import tools as esamp\n",
    "from estival.wrappers import nevergrad as eng\n",
    "import estival.priors as esp\n",
    "from estival.utils.parallel import map_parallel\n",
    "from estival.utils.sample import SampleTypes\n",
    "import nevergrad as ng\n",
    "import pandas as pd\n",
    "from estival.model import BayesianCompartmentalModel\n",
    "from tbdynamics.model import build_model\n",
    "from tbdynamics.constants import (\n",
    "    age_strata,\n",
    "    compartments,\n",
    "    latent_compartments,\n",
    "    infectious_compartments\n",
    ")\n",
    "from tbdynamics.inputs import load_params, load_targets, matrix\n",
    "from tbdynamics.calib_utils import get_targets\n",
    "from tbdynamics.utils import round_sigfig\n"
   ]
  },
  {
   "cell_type": "code",
   "execution_count": 12,
   "metadata": {},
   "outputs": [],
   "source": [
    "fixed_params = load_params()\n",
    "model = build_model(\n",
    "        compartments,\n",
    "        latent_compartments,\n",
    "        infectious_compartments,\n",
    "        age_strata,\n",
    "        fixed_params,\n",
    "        matrix,\n",
    "    )"
   ]
  },
  {
   "cell_type": "code",
   "execution_count": 18,
   "metadata": {},
   "outputs": [],
   "source": [
    "params = {\n",
    "    \"start_population_size\": 2000000.000000584,\n",
    "    # \"contact_rate\": 0.00799998496434649,\n",
    "    \"rr_infection_latent\": 0.4685598987988698,\n",
    "    \"rr_infection_recovered\": 0.20745664581278986,\n",
    "    \"progression_multiplier\": 1.6720167708499327,\n",
    "    \"seed_time\": 1814.8853385094426,\n",
    "    \"seed_num\": 50.64888812259932,\n",
    "    \"seed_duration\": 10.491361094180998,\n",
    "    \"smear_positive_death_rate\": 0.38654199531405087,\n",
    "    \"smear_negative_death_rate\": 0.025755845817440722,\n",
    "    \"smear_positive_self_recovery\": 0.23321635702709886,\n",
    "    \"smear_negative_self_recovery\": 0.1421912984237043,\n",
    "    \"screening_scaleup_shape\": 0.05000000000000329,\n",
    "    \"screening_inflection_time\": 2003.1965223765128,\n",
    "    \"screening_end_asymp\": 0.550000000000232,\n",
    "    \"detection_reduction\": 0.7594960084213216,\n",
    "}\n",
    "priors = [\n",
    "        # esp.UniformPrior(\"start_population_size\", (2000000.0, 2500000.0)),\n",
    "        esp.UniformPrior(\"contact_rate\", (0.005, 0.010)),\n",
    "        # esp.UniformPrior(\"rr_infection_latent\", (0.2, 0.5)),\n",
    "        # esp.UniformPrior(\"rr_infection_recovered\", (0.2, 0.5)),\n",
    "        # esp.UniformPrior(\"progression_multiplier\", (1.5, 2.0)),\n",
    "        # esp.UniformPrior(\"seed_time\", (1800.0, 1840.0)),\n",
    "        # esp.UniformPrior(\"seed_num\", (1.0, 100.00)),\n",
    "        # esp.UniformPrior(\"seed_duration\", (1.0, 20.0)),\n",
    "        # esp.UniformPrior(\"smear_positive_death_rate\", (0.335, 0.449)),\n",
    "        # esp.UniformPrior(\"smear_negative_death_rate\", (0.017, 0.035)),\n",
    "        # esp.UniformPrior(\"smear_positive_self_recovery\", (0.177, 0.288)),\n",
    "        # esp.UniformPrior(\"smear_negative_self_recovery\", (0.073, 0.209)),\n",
    "        # esp.UniformPrior(\"screening_scaleup_shape\", (0.05, 0.15)),\n",
    "        # esp.UniformPrior(\"screening_inflection_time\", (1990, 2010)),\n",
    "        # esp.UniformPrior(\"screening_end_asymp\", (0.55, 0.7)),\n",
    "        # esp.UniformPrior(\"detection_reduction\", (0.7, 0.9)),\n",
    "    ]\n",
    "\n",
    "targets = get_targets()"
   ]
  },
  {
   "cell_type": "code",
   "execution_count": 19,
   "metadata": {},
   "outputs": [],
   "source": [
    "bcm = BayesianCompartmentalModel(model, params, priors, targets)"
   ]
  },
  {
   "cell_type": "code",
   "execution_count": 20,
   "metadata": {},
   "outputs": [
    {
     "name": "stderr",
     "output_type": "stream",
     "text": [
      "Warning: gradient not available.(E.g. vars contains discrete variables). MAP estimates may not be accurate for the default parameters. Defaulting to non-gradient minimization 'Powell'.\n"
     ]
    },
    {
     "data": {
      "application/vnd.jupyter.widget-view+json": {
       "model_id": "b30cd84dc0794bf994a31aefa4eff589",
       "version_major": 2,
       "version_minor": 0
      },
      "text/plain": [
       "Output()"
      ]
     },
     "metadata": {},
     "output_type": "display_data"
    },
    {
     "data": {
      "text/html": [
       "<pre style=\"white-space:pre;overflow-x:auto;line-height:normal;font-family:Menlo,'DejaVu Sans Mono',consolas,'Courier New',monospace\">\n",
       "</pre>\n"
      ],
      "text/plain": [
       "\n"
      ]
     },
     "metadata": {},
     "output_type": "display_data"
    },
    {
     "data": {
      "text/html": [
       "<pre style=\"white-space:pre;overflow-x:auto;line-height:normal;font-family:Menlo,'DejaVu Sans Mono',consolas,'Courier New',monospace\"></pre>\n"
      ],
      "text/plain": []
     },
     "metadata": {},
     "output_type": "display_data"
    },
    {
     "data": {
      "text/html": [
       "<pre style=\"white-space:pre;overflow-x:auto;line-height:normal;font-family:Menlo,'DejaVu Sans Mono',consolas,'Courier New',monospace\">\n",
       "</pre>\n"
      ],
      "text/plain": [
       "\n"
      ]
     },
     "metadata": {},
     "output_type": "display_data"
    },
    {
     "name": "stdout",
     "output_type": "stream",
     "text": [
      "Best candidate parameters found:\n",
      "   contact_rate: 0.008003 (within bound (0.005, 0.01)\n",
      "{'contact_rate': 0.008002758090207309}\n"
     ]
    }
   ],
   "source": [
    "with pm.Model() as pmc_model:\n",
    "    start_params = {k: np.clip(v, *bcm.priors[k].bounds(0.99)) for k, v in params.items() if k in bcm.priors}\n",
    "    variables = epm.use_model(bcm)\n",
    "    map_params = pm.find_MAP(start=start_params, vars=variables, include_transformed=False, maxeval=500)\n",
    "    map_params = {k: float(v) for k, v in map_params.items()}\n",
    "print('Best candidate parameters found:')\n",
    "for i_param, param in enumerate([p for p in map_params if '_dispersion' not in p]):\n",
    "    print(f'   {param}: {round_sigfig(map_params[param], 4)} (within bound {priors[i_param].bounds()}')\n",
    "print(map_params)\n",
    "params.update(map_params)\n",
    "model.run(parameters=params)"
   ]
  },
  {
   "cell_type": "code",
   "execution_count": 23,
   "metadata": {},
   "outputs": [
    {
     "name": "stderr",
     "output_type": "stream",
     "text": [
      "Multiprocess sampling (4 chains in 4 jobs)\n",
      "DEMetropolisZ: [contact_rate]\n"
     ]
    },
    {
     "data": {
      "application/vnd.jupyter.widget-view+json": {
       "model_id": "e84eda99520d4b79b1c3e92f2ce0f5b5",
       "version_major": 2,
       "version_minor": 0
      },
      "text/plain": [
       "Output()"
      ]
     },
     "metadata": {},
     "output_type": "display_data"
    },
    {
     "data": {
      "text/html": [
       "<pre style=\"white-space:pre;overflow-x:auto;line-height:normal;font-family:Menlo,'DejaVu Sans Mono',consolas,'Courier New',monospace\"></pre>\n"
      ],
      "text/plain": []
     },
     "metadata": {},
     "output_type": "display_data"
    },
    {
     "data": {
      "text/html": [
       "<pre style=\"white-space:pre;overflow-x:auto;line-height:normal;font-family:Menlo,'DejaVu Sans Mono',consolas,'Courier New',monospace\">\n",
       "</pre>\n"
      ],
      "text/plain": [
       "\n"
      ]
     },
     "metadata": {},
     "output_type": "display_data"
    },
    {
     "name": "stderr",
     "output_type": "stream",
     "text": [
      "Sampling 4 chains for 1_000 tune and 4_000 draw iterations (4_000 + 16_000 draws total) took 426 seconds.\n",
      "The rhat statistic is larger than 1.01 for some parameters. This indicates problems during sampling. See https://arxiv.org/abs/1903.08008 for details\n",
      "The effective sample size per chain is smaller than 100 for some parameters.  A higher number is needed for reliable rhat and ess computation. See https://arxiv.org/abs/1903.08008 for details\n"
     ]
    }
   ],
   "source": [
    "def optimize_ng_with_idx(item):\n",
    "    idx, sample = item\n",
    "    opt = eng.optimize_model(\n",
    "        bcm,\n",
    "        budget=100,\n",
    "        opt_class=ng.optimizers.TwoPointsDE,\n",
    "        suggested=sample,\n",
    "        num_workers=4,\n",
    "    )\n",
    "    rec = opt.minimize(100)\n",
    "    return idx, rec.value[1]\n",
    "\n",
    "\n",
    "lhs_samples = bcm.sample.lhs(4, ci=0.67)\n",
    "lhs_lle = esamp.likelihood_extras_for_samples(lhs_samples, bcm)\n",
    "lhs_sorted = lhs_lle.sort_values(\"loglikelihood\", ascending=False)\n",
    "opt_samples_idx = map_parallel(optimize_ng_with_idx, lhs_sorted.iterrows())\n",
    "best_opt_samps = bcm.sample.convert(opt_samples_idx)\n",
    "init_samps = best_opt_samps.convert(SampleTypes.LIST_OF_DICTS)[0:4]\n",
    "n_chains = 4\n",
    "n_samples = 200\n",
    "with pm.Model() as pm_model:\n",
    "    variables = epm.use_model(bcm)\n",
    "    idata_raw = pm.sample(\n",
    "        step=[pm.DEMetropolisZ(variables)],\n",
    "        draws=4000,\n",
    "        tune=1000,\n",
    "        cores=4,\n",
    "        discard_tuned_samples=False,\n",
    "        chains=n_chains,\n",
    "        progressbar=True,\n",
    "        initvals=init_samps,\n",
    "    )"
   ]
  },
  {
   "cell_type": "code",
   "execution_count": 24,
   "metadata": {},
   "outputs": [],
   "source": [
    "idata = idata_raw.sel(draw=np.s_[1000:])"
   ]
  },
  {
   "cell_type": "code",
   "execution_count": 25,
   "metadata": {},
   "outputs": [
    {
     "data": {
      "text/plain": [
       "array([[<AxesSubplot: title={'center': 'contact_rate'}>,\n",
       "        <AxesSubplot: title={'center': 'contact_rate'}>]], dtype=object)"
      ]
     },
     "execution_count": 25,
     "metadata": {},
     "output_type": "execute_result"
    },
    {
     "data": {
      "image/png": "[encoded data removed]",
      "text/plain": [
       "<Figure size 1200x200 with 2 Axes>"
      ]
     },
     "metadata": {},
     "output_type": "display_data"
    }
   ],
   "source": [
    "az.plot_trace(idata)"
   ]
  }
 ],
 "metadata": {
  "kernelspec": {
   "display_name": "tbdyn",
   "language": "python",
   "name": "python3"
  },
  "language_info": {
   "codemirror_mode": {
    "name": "ipython",
    "version": 3
   },
   "file_extension": ".py",
   "mimetype": "text/x-python",
   "name": "python",
   "nbconvert_exporter": "python",
   "pygments_lexer": "ipython3",
   "version": "3.10.13"
  }
 },
 "nbformat": 4,
 "nbformat_minor": 2
}
