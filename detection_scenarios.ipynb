{
 "cells": [
  {
   "cell_type": "code",
   "execution_count": null,
   "metadata": {},
   "outputs": [],
   "source": [
    "import warnings\n",
    "\n",
    "warnings.filterwarnings(\"ignore\")\n",
    "from pathlib import Path\n",
    "import pandas as pd\n",
    "import numpy as np\n",
    "from tbdynamics.calibration.utils import calculate_scenario_and_diff_outputs\n",
    "from tbdynamics.calibration.plotting import (\n",
    "    plot_detection_scenario_comparison,\n",
    "    plot_scenario_output_ranges,\n",
    "    plot_output_ranges\n",
    ")\n",
    "from tbdynamics.inputs import load_targets\n",
    "import arviz as az"
   ]
  },
  {
   "cell_type": "code",
   "execution_count": null,
   "metadata": {},
   "outputs": [],
   "source": [
    "# OUT_PATH = Path.cwd() / 'runs/r2508'\n",
    "loaded_inference_data = az.from_netcdf('inference_data.nc')\n",
    "targets = load_targets()"
   ]
  },
  {
   "cell_type": "code",
   "execution_count": null,
   "metadata": {},
   "outputs": [],
   "source": [
    "params = {\n",
    "    \"start_population_size\": 2000000.0,\n",
    "    \"seed_time\": 1805.0,\n",
    "    \"seed_num\": 1.0,\n",
    "    \"seed_duration\": 1.0,\n",
    "}\n",
    "covid_effects = {\n",
    "    'detection_reduction':True,\n",
    "    'contact_reduction':True\n",
    "}"
   ]
  },
  {
   "cell_type": "code",
   "execution_count": null,
   "metadata": {},
   "outputs": [],
   "source": [
    "quantile_ouputs = calculate_scenario_and_diff_outputs(params, loaded_inference_data, ['cumulative_diseased', 'cumulative_deaths'],[2035.0],[2.0, 5.0, 10.0])"
   ]
  },
  {
   "cell_type": "code",
   "execution_count": null,
   "metadata": {},
   "outputs": [],
   "source": [
    "# print(quantile_ouputs_diff['detection_diff_results'])"
   ]
  },
  {
   "cell_type": "code",
   "execution_count": null,
   "metadata": {},
   "outputs": [],
   "source": [
    "plot_detection_scenario_comparison(quantile_ouputs['detection_diff_results'], ['cumulative_diseased', 'cumulative_deaths'])"
   ]
  },
  {
   "cell_type": "code",
   "execution_count": null,
   "metadata": {},
   "outputs": [],
   "source": [
    "plot_scenario_output_ranges(quantile_ouputs['scenario_outputs'],['incidence','mortality_raw'],1,2023,2035)"
   ]
  },
  {
   "cell_type": "code",
   "execution_count": null,
   "metadata": {},
   "outputs": [],
   "source": [
    "# plot_output_ranges(quantile_ouputs['scenario_outputs']['base_scenario'],targets,['incidence','mortality_raw'],1,2010,2035)"
   ]
  },
  {
   "cell_type": "code",
   "execution_count": null,
   "metadata": {},
   "outputs": [],
   "source": [
    "plot_output_ranges(quantile_ouputs['scenario_outputs']['base_scenario'],targets,['total_population','notification','adults_prevalence_pulmonary'],1,2010,2025)"
   ]
  }
 ],
 "metadata": {
  "kernelspec": {
   "display_name": "autumn",
   "language": "python",
   "name": "python3"
  },
  "language_info": {
   "codemirror_mode": {
    "name": "ipython",
    "version": 3
   },
   "file_extension": ".py",
   "mimetype": "text/x-python",
   "name": "python",
   "nbconvert_exporter": "python",
   "pygments_lexer": "ipython3",
   "version": "3.10.13"
  }
 },
 "nbformat": 4,
 "nbformat_minor": 2
}
