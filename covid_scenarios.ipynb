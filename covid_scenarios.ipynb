{
 "cells": [
  {
   "cell_type": "code",
   "execution_count": null,
   "metadata": {},
   "outputs": [],
   "source": [
    "import warnings\n",
    "\n",
    "warnings.filterwarnings(\"ignore\")\n",
    "from pathlib import Path\n",
    "import pandas as pd\n",
    "import numpy as np\n",
    "from tbdynamics.calibration.utils import calculate_covid_diff_quantiles\n",
    "from tbdynamics.calibration.plotting import plot_covid_scenarios_comparison\n",
    "import arviz as az\n",
    "import xarray as xr"
   ]
  },
  {
   "cell_type": "code",
   "execution_count": null,
   "metadata": {},
   "outputs": [],
   "source": [
    "OUT_PATH = Path.cwd() / 'runs/r2508'\n",
    "idata = az.from_netcdf(OUT_PATH / 'calib_full_out.nc')\n",
    "burnt_idata = idata.sel(draw=np.s_[50000:])\n",
    "idata_extract = az.extract(burnt_idata, num_samples=1000)\n",
    "inference_data = az.convert_to_inference_data(idata_extract.reset_index('sample'))\n",
    "az.to_netcdf(inference_data, 'inference_data1.nc')"
   ]
  },
  {
   "cell_type": "code",
   "execution_count": null,
   "metadata": {},
   "outputs": [],
   "source": [
    "# loaded_inference_data = az.from_netcdf('inference_data.nc')\n",
    "# extracted_dataset = xr.Dataset(idata_extract)\n",
    "# extracted_idata = az.InferenceData(posterior=extracted_dataset)\n",
    "loaded_inference_data = az.from_netcdf('inference_data1.nc')"
   ]
  },
  {
   "cell_type": "code",
   "execution_count": null,
   "metadata": {},
   "outputs": [],
   "source": [
    "params = {\n",
    "    \"start_population_size\": 2000000.0,\n",
    "    \"seed_time\": 1805.0,\n",
    "    \"seed_num\": 1.0,\n",
    "    \"seed_duration\": 1.0,\n",
    "}\n",
    "covid_effects = {\n",
    "    'detection_reduction':True,\n",
    "    'contact_reduction':True\n",
    "}"
   ]
  },
  {
   "cell_type": "code",
   "execution_count": null,
   "metadata": {},
   "outputs": [],
   "source": [
    "quantile_ouputs_diff = calculate_covid_diff_quantiles(params, loaded_inference_data, ['cumulative_diseased', 'cumulative_deaths'],[2021.0,2022.0, 2025.0, 2035.0],1)\n"
   ]
  },
  {
   "cell_type": "code",
   "execution_count": null,
   "metadata": {},
   "outputs": [],
   "source": [
    "quantile_ouputs_diff"
   ]
  },
  {
   "cell_type": "code",
   "execution_count": null,
   "metadata": {},
   "outputs": [],
   "source": [
    "plot_covid_scenarios_comparison(quantile_ouputs_diff, ['cumulative_diseased', 'cumulative_deaths'], [2021.0, 2022.0, 2025.0, 2035.0])"
   ]
  }
 ],
 "metadata": {
  "kernelspec": {
   "display_name": "tbdyn",
   "language": "python",
   "name": "python3"
  },
  "language_info": {
   "codemirror_mode": {
    "name": "ipython",
    "version": 3
   },
   "file_extension": ".py",
   "mimetype": "text/x-python",
   "name": "python",
   "nbconvert_exporter": "python",
   "pygments_lexer": "ipython3",
   "version": "3.10.0"
  }
 },
 "nbformat": 4,
 "nbformat_minor": 2
}
