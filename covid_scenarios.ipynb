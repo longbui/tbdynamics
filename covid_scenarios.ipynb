{
 "cells": [
  {
   "cell_type": "code",
   "execution_count": null,
   "metadata": {},
   "outputs": [],
   "source": [
    "import warnings\n",
    "\n",
    "warnings.filterwarnings(\"ignore\")\n",
    "from pathlib import Path\n",
    "import pandas as pd\n",
    "import numpy as np\n",
    "from tbdynamics.calibration.utils import (\n",
    "    calculate_covid_diff_quantiles,\n",
    "    calculate_outputs_for_covid_configs,\n",
    "    calculate_dic_for_scenarios,\n",
    "    calculate_loo_for_scenarios,\n",
    "    calculate_covid_diff_cum_quantiles,\n",
    "    calculate_scenario_diff_cum_quantiles,\n",
    ")\n",
    "from tbdynamics.calibration.plotting import (\n",
    "    plot_covid_scenarios_comparison,\n",
    "    plot_output_ranges,\n",
    "    plot_covid_scenarios_comparison_combined,\n",
    "    plot_outputs_for_covid,\n",
    ")\n",
    "import arviz as az\n",
    "import pickle\n",
    "from tbdynamics.inputs import load_targets\n",
    "\n",
    "# import xarray as xr"
   ]
  },
  {
   "cell_type": "code",
   "execution_count": null,
   "metadata": {},
   "outputs": [],
   "source": [
    "# OUT_PATH = Path.cwd() / 'runs/r2508'\n",
    "# idata = az.from_netcdf(OUT_PATH / 'calib_full_out.nc')\n",
    "# burnt_idata = idata.sel(draw=np.s_[50000:])\n",
    "# idata_extract = az.extract(burnt_idata, num_samples=500)\n",
    "# inference_data = az.convert_to_inference_data(idata_extract.reset_index('sample'))\n",
    "# az.to_netcdf(inference_data, 'inference_data1.nc')"
   ]
  },
  {
   "cell_type": "code",
   "execution_count": null,
   "metadata": {},
   "outputs": [],
   "source": [
    "# loaded_inference_data = az.from_netcdf('inference_data.nc')\n",
    "# extracted_dataset = xr.Dataset(idata_extract)\n",
    "# extracted_idata = az.InferenceData(posterior=extracted_dataset)\n",
    "idata = az.from_netcdf('inference_data.nc')\n",
    "targets = load_targets()"
   ]
  },
  {
   "cell_type": "code",
   "execution_count": null,
   "metadata": {},
   "outputs": [],
   "source": [
    "params = {\n",
    "    \"start_population_size\": 2000000.0,\n",
    "    \"seed_time\": 1805.0,\n",
    "    \"seed_num\": 1.0,\n",
    "    \"seed_duration\": 1.0,\n",
    "}\n",
    "# covid_effects = {\n",
    "#     'detection_reduction':True,\n",
    "#     'contact_reduction':True\n",
    "# }"
   ]
  },
  {
   "cell_type": "code",
   "execution_count": null,
   "metadata": {},
   "outputs": [],
   "source": [
    "# with open('covid_outputs_with_ll.pkl', 'rb') as f:\n",
    "#     covid_outputs = pickle.load(f)"
   ]
  },
  {
   "cell_type": "code",
   "execution_count": null,
   "metadata": {},
   "outputs": [],
   "source": [
    "# covid_outputs = calculate_outputs_for_covid_configs(params, loaded_inference_data,['notification'])"
   ]
  },
  {
   "cell_type": "code",
   "execution_count": null,
   "metadata": {},
   "outputs": [],
   "source": [
    "# loo_results = calculate_loo_for_scenarios(covid_outputs)\n",
    "# # covid_outputs['no_covid']['ll_res']"
   ]
  },
  {
   "cell_type": "code",
   "execution_count": null,
   "metadata": {},
   "outputs": [],
   "source": [
    "# for scenario, loo_value in loo_results.items():\n",
    "#     print(f\"Scenario: {scenario}, LOO-IC: {loo_value}\")"
   ]
  },
  {
   "cell_type": "code",
   "execution_count": null,
   "metadata": {},
   "outputs": [],
   "source": [
    "# dic_results = calculate_dic_for_scenarios(covid_outputs)"
   ]
  },
  {
   "cell_type": "code",
   "execution_count": null,
   "metadata": {},
   "outputs": [],
   "source": [
    "# for scenario, loo_value in dic_results.items():\n",
    "#     print(f\"Scenario: {scenario}, DIC: {loo_value}\")"
   ]
  },
  {
   "cell_type": "code",
   "execution_count": null,
   "metadata": {},
   "outputs": [],
   "source": [
    "# with open('covid_outputs_for_scenarios.pkl', 'wb') as f:\n",
    "#     pickle.dump(covid_outputs, f)"
   ]
  },
  {
   "cell_type": "code",
   "execution_count": null,
   "metadata": {},
   "outputs": [],
   "source": [
    "# plot_outputs_for_covid(covid_outputs,targets)"
   ]
  },
  {
   "cell_type": "code",
   "execution_count": null,
   "metadata": {},
   "outputs": [],
   "source": [
    "# quantile_outputs = calculate_covid_diff_quantiles(params, loaded_inference_data, ['cumulative_diseased', 'cumulative_deaths'],[2021.0,2022.0, 2025.0, 2035.0],2)\n",
    "# with open('quantile_covid_outputs.pkl', 'wb') as f:\n",
    "#     pickle.dump(quantile_outputs, f)"
   ]
  },
  {
   "cell_type": "code",
   "execution_count": null,
   "metadata": {},
   "outputs": [],
   "source": [
    "# with open('quantile_covid_outputs.pkl', 'rb') as f:\n",
    "#     quantile_outputs = pickle.load(f)"
   ]
  },
  {
   "cell_type": "code",
   "execution_count": null,
   "metadata": {},
   "outputs": [],
   "source": [
    "# covid_cum_outputs = calculate_covid_diff_cum_quantiles(params, idata)"
   ]
  },
  {
   "cell_type": "code",
   "execution_count": null,
   "metadata": {},
   "outputs": [],
   "source": [
    "# covid_comparison = plot_covid_scenarios_comparison_combined(covid_cum_outputs)"
   ]
  },
  {
   "cell_type": "code",
   "execution_count": null,
   "metadata": {},
   "outputs": [],
   "source": [
    "# covid_comparison.write_image('docs/covid_comparison.png', scale = 3)"
   ]
  },
  {
   "cell_type": "code",
   "execution_count": null,
   "metadata": {},
   "outputs": [],
   "source": [
    "calculate_scenario_diff_cum_quantiles(params, idata, [2.0, 5.0, 12.0])"
   ]
  }
 ],
 "metadata": {
  "kernelspec": {
   "display_name": "tbdyn",
   "language": "python",
   "name": "python3"
  },
  "language_info": {
   "codemirror_mode": {
    "name": "ipython",
    "version": 3
   },
   "file_extension": ".py",
   "mimetype": "text/x-python",
   "name": "python",
   "nbconvert_exporter": "python",
   "pygments_lexer": "ipython3",
   "version": "3.10.0"
  }
 },
 "nbformat": 4,
 "nbformat_minor": 2
}
