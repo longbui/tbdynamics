{
 "cells": [
  {
   "cell_type": "code",
   "execution_count": null,
   "metadata": {},
   "outputs": [],
   "source": [
    "import pandas as pd\n",
    "import plotly.express as px\n",
    "import numpy as np\n",
    "import warnings\n",
    "pd.options.plotting.backend = 'plotly'\n",
    "warnings.filterwarnings('ignore')\n",
    "\n",
    "# Path to the CSV file\n",
    "file_path = '../data/data.csv'\n",
    "# Read the CSV file into a pandas DataFrame\n",
    "data = pd.read_csv(file_path)"
   ]
  },
  {
   "cell_type": "code",
   "execution_count": null,
   "metadata": {},
   "outputs": [],
   "source": [
    "age_groups = {\n",
    "    '0-4': (0, 4),\n",
    "    '5-14': (5, 14),\n",
    "    '15-34': (15, 34),\n",
    "    '35-49': (35, 49),\n",
    "    '50+': (50, float('inf'))  # '50+' will be handled as 50 to infinity\n",
    "}\n",
    "\n",
    "# Function to check if a given age range falls within a specific age group\n",
    "def is_age_in_group(age_range, group_start, group_end):\n",
    "    if '+' in age_range:\n",
    "        age = int(age_range[:-1])\n",
    "        return age >= group_start\n",
    "    else:\n",
    "        start, end = map(int, age_range.split('-'))\n",
    "        return start >= group_start and end <= group_end\n",
    "\n",
    "# Function to aggregate data by age group and calculate the death rate\n",
    "def aggregate_data(data, age_groups):\n",
    "    # Create an empty DataFrame for the aggregated data\n",
    "    aggregated_data = []\n",
    "\n",
    "    # Iterate over each year and age group\n",
    "    for year in sorted(data['Time'].unique()):\n",
    "        for age_group, (start, end) in age_groups.items():\n",
    "            # Filter data for the current year and age group\n",
    "            filtered_data = data[(data['Time'] == year) & \n",
    "                                 data['Age'].apply(lambda x: is_age_in_group(x, start, end))]\n",
    "            \n",
    "            # Sum the population and deaths\n",
    "            total_population = filtered_data['Population'].sum()\n",
    "            total_deaths = filtered_data['Deaths'].sum()\n",
    "\n",
    "            # Calculate the death rate per 1000 population\n",
    "            death_rate = (total_deaths / total_population) if total_population else 0\n",
    "\n",
    "            # Append the aggregated data\n",
    "            aggregated_data.append({\n",
    "                'Year': year,\n",
    "                'AgeGroup': age_group,\n",
    "                'Population': total_population,\n",
    "                'Deaths': total_deaths,\n",
    "                'DeathRate': death_rate\n",
    "            })\n",
    "\n",
    "    # Convert the aggregated data to a DataFrame\n",
    "    return pd.DataFrame(aggregated_data)\n",
    "\n",
    "# Perform the aggregation and calculate the death rate\n",
    "df = aggregate_data(data, age_groups)\n",
    "df.head(10)"
   ]
  },
  {
   "cell_type": "code",
   "execution_count": null,
   "metadata": {},
   "outputs": [],
   "source": [
    "fig = px.line(df, \n",
    "              x='Year', \n",
    "              y='DeathRate', \n",
    "              color='AgeGroup', \n",
    "              title='Death Rate by Age Group and Year',\n",
    "              labels={'DeathRate': 'Death Rate'})\n",
    "\n",
    "fig.show()"
   ]
  },
  {
   "cell_type": "code",
   "execution_count": null,
   "metadata": {},
   "outputs": [],
   "source": [
    "death_rates = pd.Series(\n",
    "    [0.041511, 0.004729,  0.008426,  0.011559, 0.034005], \n",
    "    index=[0, 5, 15, 35, 50]\n",
    ") #year of 1950"
   ]
  },
  {
   "cell_type": "code",
   "execution_count": null,
   "metadata": {},
   "outputs": [],
   "source": [
    "upper_age = 100\n",
    "ages = range(upper_age)"
   ]
  },
  {
   "cell_type": "code",
   "execution_count": null,
   "metadata": {},
   "outputs": [],
   "source": [
    "# Get the death rates applicable to each age\n",
    "life_table = pd.DataFrame(index=ages, columns=['death_rate'])\n",
    "for a in ages:\n",
    "    idx = next((i for i, age in enumerate(death_rates.index) if age > a), 0)  # The zero is a trick to get the last element when one is subtracted\n",
    "    life_table.loc[a, 'death_rate'] = death_rates.iloc[idx - 1]"
   ]
  },
  {
   "cell_type": "code",
   "execution_count": null,
   "metadata": {},
   "outputs": [],
   "source": [
    "df = life_table.reset_index()\n",
    "df = df.rename(columns={'index': 'age', 'death_rate': 'qx'}) \n",
    "# qx: is the probability that a person aged exactly x dies before exact age (x+1), i.e., the probability of dying in the next year. Hence: qx= dx / lx\n",
    "# lx: is the number of persons alive aged x in a life table.\n",
    "df['lx'] = 100000\n",
    "# dx: is the number of persons who die aged x last birthday.\n",
    "for i in range(1, len(df)):\n",
    "    df.loc[i, 'lx'] = df.loc[i - 1, 'lx'] - (df.loc[i - 1, 'qx'] * df.loc[i - 1, 'lx'])\n",
    "    df[\"dx\"] = 0\n",
    "for x in range(100):\n",
    "    if x >=99:\n",
    "        df[\"dx\"][x] = df[\"lx\"][x]\n",
    "    else:\n",
    "        df[\"dx\"][x] = df[\"lx\"][x]-df[\"lx\"][x+1]\n",
    "#μx: is the force of mortality, i.e., represents the instantaneous rate at which people are dying.\n",
    "df[\"μx\"] = 0\n",
    "df[\"μx\"][0] = 2.0692602739726 * df[\"dx\"][0] /(2*df[\"lx\"][0])\n",
    "for x in range(1,100):\n",
    "    df[\"μx\"][x] = (df[\"dx\"][x-1]+df[\"dx\"][x])/(2*df[\"lx\"][x])\n",
    "\n",
    "#Tx: is the total years of life to be lived by those aged exactly x (not the random variable Tx) until they all die\n",
    "df[\"Tx\"] = 0.000\n",
    "for x in range(100):\n",
    "    df[\"Tx\"][x] = 0\n",
    "    for y in range(x,100):\n",
    "        df[\"Tx\"][x] += df[\"lx\"][y]\n",
    "# e0x: is the complete expectation of life, i.e., the expectation of life allowing for the whole of the lifetime of the individual (years and days).\n",
    "df[\"e0x\"] = df[\"Tx\"]/df[\"lx\"] - 0.5\n",
    "# total life expectancy, Lx: is the number of years of life lived between ages x and (x+1) of those currently aged x.\n",
    "df[\"Lx\"] = 0.000\n",
    "for x in range(100):\n",
    "    df[\"Lx\"][x] = df[\"Tx\"][x]-df[\"lx\"][x]\n",
    "# ex: is the curtate expectation of life, i.e., the expectation of life where only complete years of life count.\n",
    "df[\"ex\"] = df[\"Lx\"]/df[\"lx\"]\n",
    "df"
   ]
  }
 ],
 "metadata": {
  "kernelspec": {
   "display_name": "tbdyn",
   "language": "python",
   "name": "python3"
  },
  "language_info": {
   "codemirror_mode": {
    "name": "ipython",
    "version": 3
   },
   "file_extension": ".py",
   "mimetype": "text/x-python",
   "name": "python",
   "nbconvert_exporter": "python",
   "pygments_lexer": "ipython3",
   "version": "3.10.0"
  }
 },
 "nbformat": 4,
 "nbformat_minor": 2
}
