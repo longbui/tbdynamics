{
 "cells": [
  {
   "cell_type": "code",
   "execution_count": null,
   "metadata": {
    "metadata": {}
   },
   "outputs": [],
   "source": [
    "import warnings\n",
    "\n",
    "warnings.filterwarnings(\"ignore\")\n",
    "from pathlib import Path\n",
    "import numpy as np\n",
    "import arviz as az\n",
    "from tbdynamics.calibration.az_aux import (\n",
    "    tabulate_calib_results,\n",
    "    plot_post_prior_comparison,\n",
    "    plot_trace\n",
    ")\n",
    "from tbdynamics.calibration.utils import get_bcm\n",
    "from tbdynamics.constants import params_name"
   ]
  },
  {
   "cell_type": "code",
   "execution_count": 2,
   "metadata": {},
   "outputs": [],
   "source": [
    "OUT_PATH = Path.cwd().parent / 'runs/best2208'\n",
    "idata = az.from_netcdf(OUT_PATH / 'calib_full_out.nc')\n",
    "burnt_idata = idata.sel(draw=np.s_[50000:])"
   ]
  },
  {
   "cell_type": "code",
   "execution_count": 3,
   "metadata": {},
   "outputs": [],
   "source": [
    "params = {\n",
    "    \"start_population_size\": 2000000.0,\n",
    "    \"seed_time\": 1805.0,\n",
    "    \"seed_num\": 1.0,\n",
    "    \"seed_duration\": 1.0,\n",
    "}\n",
    "covid_effects = {\"detection_reduction\": True, \"contact_reduction\": True}\n",
    "bcm = get_bcm(params, covid_effects)"
   ]
  },
  {
   "cell_type": "code",
   "execution_count": null,
   "metadata": {},
   "outputs": [],
   "source": [
    "fig = plot_post_prior_comparison(burnt_idata, bcm.priors, params_name)"
   ]
  },
  {
   "cell_type": "code",
   "execution_count": null,
   "metadata": {},
   "outputs": [],
   "source": [
    "tabulate_calib_results(burnt_idata, params_name)"
   ]
  },
  {
   "cell_type": "code",
   "execution_count": 6,
   "metadata": {},
   "outputs": [],
   "source": [
    "tracing = plot_trace(idata, params_name)"
   ]
  },
  {
   "cell_type": "code",
   "execution_count": null,
   "metadata": {},
   "outputs": [],
   "source": [
    "tracing"
   ]
  },
  {
   "cell_type": "code",
   "execution_count": 8,
   "metadata": {},
   "outputs": [],
   "source": [
    "# tracing.savefig('../docs/param_traces.png', dpi=300, bbox_inches='tight', format='png', pad_inches=0)"
   ]
  }
 ],
 "metadata": {
  "kernelspec": {
   "display_name": "autumn",
   "language": "python",
   "name": "python3"
  },
  "language_info": {
   "codemirror_mode": {
    "name": "ipython",
    "version": 3
   },
   "file_extension": ".py",
   "mimetype": "text/x-python",
   "name": "python",
   "nbconvert_exporter": "python",
   "pygments_lexer": "ipython3",
   "version": "3.10.13"
  }
 },
 "nbformat": 4,
 "nbformat_minor": 2
}
