{
 "cells": [
  {
   "cell_type": "code",
   "execution_count": null,
   "metadata": {},
   "outputs": [],
   "source": [
    "import warnings\n",
    "\n",
    "warnings.filterwarnings(\"ignore\")\n",
    "from pathlib import Path\n",
    "import arviz as az\n",
    "\n",
    "from tbdynamics.calibration.plotting import plot_output_ranges\n",
    "from tbdynamics.calibration.utils import get_bcm\n",
    "from tbdynamics.inputs import load_targets, DATA_PATH, DOCS_PATH\n",
    "import pickle\n",
    "from tbdynamics.constants import quantiles\n",
    "from typing import List, Dict\n",
    "from estival.sampling import tools as esamp\n",
    "import pandas as pd\n"
   ]
  },
  {
   "cell_type": "code",
   "execution_count": 2,
   "metadata": {},
   "outputs": [],
   "source": [
    "OUT_PATH = DATA_PATH / 'outputs'\n",
    "# loaded_inference_data = az.from_netcdf(OUT_PATH / 'inference_data1.nc')\n",
    "idata = az.from_netcdf(OUT_PATH / 'inference_data1.nc')\n",
    "params = {\n",
    "    \"start_population_size\": 2000000.0,\n",
    "    \"seed_time\": 1805.0,\n",
    "    \"seed_num\": 1.0,\n",
    "    \"seed_duration\": 1.0,\n",
    "}\n",
    "targets = load_targets()"
   ]
  },
  {
   "cell_type": "code",
   "execution_count": 3,
   "metadata": {},
   "outputs": [],
   "source": [
    "def calculate_scenario_outputs(\n",
    "    params: Dict[str, float],\n",
    "    idata_extract: az.InferenceData,\n",
    "    indicators: List[str] = [\"incidence\", \"mortality_raw\"],\n",
    "    detection_multipliers: List[float] = [2.0, 5.0, 12.0],\n",
    ") -> Dict[str, Dict[str, pd.DataFrame]]:\n",
    "    \"\"\"\n",
    "    Calculate the model results for each scenario with different detection multipliers\n",
    "    and return the baseline and scenario outputs.\n",
    "\n",
    "    Args:\n",
    "        params: Dictionary containing model parameters.\n",
    "        idata_extract: InferenceData object containing the model data.\n",
    "        indicators: List of indicators to return for the other scenarios (default: ['incidence', 'mortality_raw']).\n",
    "        detection_multipliers: List of multipliers for improved detection to loop through (default: [2.0, 5.0, 12.0]).\n",
    "\n",
    "    Returns:\n",
    "        A dictionary containing results for the baseline and each scenario.\n",
    "    \"\"\"\n",
    "\n",
    "    # Fixed scenario configuration\n",
    "    scenario_config = {\"detection_reduction\": True, \"contact_reduction\": False}\n",
    "\n",
    "    # Base scenario (calculate outputs for all indicators)\n",
    "    bcm = get_bcm(params, scenario_config)\n",
    "    base_results = esamp.model_results_for_samples(idata_extract, bcm).results\n",
    "    base_quantiles = esamp.quantiles_for_results(base_results, quantiles)\n",
    "\n",
    "    # Store results for the baseline scenario\n",
    "    scenario_outputs = {\"base_scenario\": base_quantiles}\n",
    "\n",
    "    # Calculate quantiles for each detection multiplier scenario\n",
    "    for multiplier in detection_multipliers:\n",
    "        bcm = get_bcm(params, scenario_config, multiplier)\n",
    "        scenario_result = esamp.model_results_for_samples(idata_extract, bcm).results\n",
    "        scenario_quantiles = esamp.quantiles_for_results(scenario_result, quantiles)\n",
    "\n",
    "        # Store the results for this scenario\n",
    "        scenario_key = f\"increase_case_detection_by_{multiplier}\".replace(\".\", \"_\")\n",
    "        scenario_outputs[scenario_key] = scenario_quantiles\n",
    "\n",
    "    # Extract only the relevant indicators for each scenario\n",
    "    for scenario_key in scenario_outputs:\n",
    "        if scenario_key != \"base_scenario\":\n",
    "            scenario_outputs[scenario_key] = scenario_outputs[scenario_key][indicators]\n",
    "\n",
    "    return scenario_outputs"
   ]
  },
  {
   "cell_type": "code",
   "execution_count": 4,
   "metadata": {},
   "outputs": [],
   "source": [
    "outputs = calculate_scenario_outputs(params, idata)\n",
    "# with open(OUT_PATH / 'quant_outputs.pkl', 'wb') as f:\n",
    "#      pickle.dump(outputs, f)"
   ]
  },
  {
   "cell_type": "code",
   "execution_count": 5,
   "metadata": {},
   "outputs": [],
   "source": [
    "# with open(OUT_PATH /'quant_outputs.pkl', 'rb') as f:\n",
    "#     outputs = pickle.load(f)"
   ]
  },
  {
   "cell_type": "code",
   "execution_count": 6,
   "metadata": {},
   "outputs": [],
   "source": [
    "target_plot = plot_output_ranges(outputs['base_scenario'],targets,['total_population','notification','adults_prevalence_pulmonary'],1,2010,2025)"
   ]
  },
  {
   "cell_type": "code",
   "execution_count": null,
   "metadata": {},
   "outputs": [],
   "source": [
    "target_plot"
   ]
  },
  {
   "cell_type": "code",
   "execution_count": 8,
   "metadata": {},
   "outputs": [],
   "source": [
    "# target_plot.write_image(DOCS_PATH / \"targets1.png\", scale=3)"
   ]
  },
  {
   "cell_type": "code",
   "execution_count": 9,
   "metadata": {},
   "outputs": [],
   "source": [
    "target_plot_history = plot_output_ranges(outputs['base_scenario'],targets,['total_population','notification','adults_prevalence_pulmonary'],1,1800,2010, history =True)"
   ]
  },
  {
   "cell_type": "code",
   "execution_count": null,
   "metadata": {},
   "outputs": [],
   "source": [
    "target_plot_history"
   ]
  },
  {
   "cell_type": "code",
   "execution_count": 11,
   "metadata": {},
   "outputs": [],
   "source": [
    "# target_plot_history.write_image(DOCS_PATH / 'targets_history.png', scale=3)"
   ]
  },
  {
   "cell_type": "code",
   "execution_count": 12,
   "metadata": {},
   "outputs": [],
   "source": [
    "compare_target_plot = plot_output_ranges(outputs['base_scenario'],targets,['incidence','mortality_raw','prevalence_smear_positive', 'percentage_latent'],2,2010,2025)"
   ]
  },
  {
   "cell_type": "code",
   "execution_count": 13,
   "metadata": {},
   "outputs": [],
   "source": [
    "# compare_target_plot.write_image(DOCS_PATH / \"non_targets.png\", scale='3')"
   ]
  },
  {
   "cell_type": "code",
   "execution_count": null,
   "metadata": {},
   "outputs": [],
   "source": [
    "compare_target_plot"
   ]
  },
  {
   "cell_type": "code",
   "execution_count": 15,
   "metadata": {},
   "outputs": [],
   "source": [
    "screening_plot=plot_output_ranges(outputs['base_scenario'],targets,['detection_rate'],1,1981,2025, show_title=False)"
   ]
  },
  {
   "cell_type": "code",
   "execution_count": 16,
   "metadata": {},
   "outputs": [],
   "source": [
    "# screening_plot.write_image(DOCS_PATH / 'screening_plot.png', scale =3)"
   ]
  },
  {
   "cell_type": "code",
   "execution_count": null,
   "metadata": {},
   "outputs": [],
   "source": [
    "screening_plot"
   ]
  }
 ],
 "metadata": {
  "kernelspec": {
   "display_name": "tbdyn",
   "language": "python",
   "name": "python3"
  },
  "language_info": {
   "codemirror_mode": {
    "name": "ipython",
    "version": 3
   },
   "file_extension": ".py",
   "mimetype": "text/x-python",
   "name": "python",
   "nbconvert_exporter": "python",
   "pygments_lexer": "ipython3",
   "version": "3.10.13"
  }
 },
 "nbformat": 4,
 "nbformat_minor": 2
}
