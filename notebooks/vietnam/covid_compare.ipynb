{
 "cells": [
  {
   "cell_type": "code",
   "execution_count": 109,
   "metadata": {},
   "outputs": [],
   "source": [
    "from typing import List, Dict\n",
    "import arviz as az\n",
    "import estival.priors as esp\n",
    "from estival.sampling import tools as esamp\n",
    "import plotly.graph_objects as go\n",
    "import plotly.express as px\n",
    "from tbdynamics.tools.utils import round_sigfig\n",
    "import pandas as pd\n",
    "from tbdynamics.settings import OUT_PATH\n",
    "from tbdynamics.vietnam.calibration.utils import get_bcm\n",
    "from plotly.subplots import make_subplots\n",
    "\n",
    "pd.options.plotting.backend = \"plotly\"\n",
    "\n",
    "from tbdynamics.settings import OUT_PATH"
   ]
  },
  {
   "cell_type": "code",
   "execution_count": 110,
   "metadata": {},
   "outputs": [],
   "source": [
    "def calculate_covid_cum_diff(\n",
    "    params: Dict[str, float],\n",
    "    idata_extract: az.InferenceData,\n",
    "    cumulative_start_time: float = 2020.0,\n",
    "    years: List[float] = [2021.0, 2022.0, 2025.0, 2030.0, 2035.0],\n",
    ") -> Dict[str, Dict[str, pd.DataFrame]]:\n",
    "    \"\"\"\n",
    "    Run the models for the specified scenarios, calculate cumulative diseased and death values,\n",
    "    and return both the raw values and differences for detection reduction only - no covid.\n",
    "\n",
    "    Args:\n",
    "        params: Dictionary containing model parameters.\n",
    "        idata_extract: InferenceData object containing the model data.\n",
    "        cumulative_start_time: Year to start calculating the cumulative values.\n",
    "        years: List of years for which to calculate the differences.\n",
    "\n",
    "    Returns:\n",
    "        A dictionary containing cumulative diseased and deaths, incidence, and mortality raw data for each scenario,\n",
    "        as well as the differences between \"detection\" and \"no_covid\".\n",
    "    \"\"\"\n",
    "\n",
    "    # Define the scenarios with scenario names as keys\n",
    "    covid_configs = {\n",
    "        \"no_covid\": {\"detection_reduction\": False, \"contact_reduction\": False},  # No reduction\n",
    "        \"detection\": {\"detection_reduction\": True, \"contact_reduction\": False},  # Detection reduction only\n",
    "    }\n",
    "\n",
    "    scenario_results = {}\n",
    "\n",
    "    for scenario_name, covid_effects in covid_configs.items():\n",
    "        # Get the model results\n",
    "        bcm = get_bcm(params, covid_effects)\n",
    "        spaghetti_res = esamp.model_results_for_samples(idata_extract, bcm).results\n",
    "\n",
    "        # Filter the results to include only the rows where the index (year) is an integer\n",
    "        yearly_data = spaghetti_res.loc[\n",
    "            (spaghetti_res.index >= cumulative_start_time) & (spaghetti_res.index % 1 == 0)\n",
    "        ]\n",
    "\n",
    "        # Calculate cumulative sums for each sample\n",
    "        cumulative_diseased_yearly = yearly_data[\"incidence_raw\"].cumsum()\n",
    "        cumulative_deaths_yearly = yearly_data[\"mortality_raw\"].cumsum()\n",
    "\n",
    "        # Extract results for specified years\n",
    "        cumulative_diseased_results = cumulative_diseased_yearly.loc[years]\n",
    "        cumulative_deaths_results = cumulative_deaths_yearly.loc[years]\n",
    "\n",
    "        # Store all relevant results in the dictionary under the scenario name\n",
    "        scenario_results[scenario_name] = {\n",
    "            \"cumulative_diseased_yearly\": cumulative_diseased_yearly,\n",
    "            \"cumulative_deaths_yearly\": cumulative_deaths_yearly,\n",
    "            \"incidence_raw\": yearly_data[\"incidence_raw\"],\n",
    "            \"mortality_raw\": yearly_data[\"mortality_raw\"],\n",
    "        }\n",
    "\n",
    "    # Calculate the differences between \"detection\" and \"no_covid\" for cumulative values only\n",
    "    diff_results = {\n",
    "        \"cumulative_diseased_yearly_diff\": (\n",
    "            scenario_results[\"detection\"][\"cumulative_diseased_yearly\"]\n",
    "            - scenario_results[\"no_covid\"][\"cumulative_diseased_yearly\"]\n",
    "        ),\n",
    "        \"cumulative_deaths_yearly_diff\": (\n",
    "            scenario_results[\"detection\"][\"cumulative_deaths_yearly\"]\n",
    "            - scenario_results[\"no_covid\"][\"cumulative_deaths_yearly\"]\n",
    "        ),\n",
    "    }\n",
    "\n",
    "    # Combine both raw scenario results and the differences into the final output\n",
    "    return {\"scenario_results\": scenario_results, \"diff_results\": diff_results}\n"
   ]
  },
  {
   "cell_type": "code",
   "execution_count": 111,
   "metadata": {},
   "outputs": [],
   "source": [
    "idata = az.from_netcdf(OUT_PATH / 'vietnam/idata/idata_detection.nc')\n",
    "params = {\n",
    "    \"start_population_size\": 2000000.0,\n",
    "    \"seed_time\": 1805.0,\n",
    "    \"seed_num\": 1.0,\n",
    "    \"seed_duration\": 1.0,\n",
    "}"
   ]
  },
  {
   "cell_type": "code",
   "execution_count": 112,
   "metadata": {},
   "outputs": [],
   "source": [
    "covid_diff = calculate_covid_cum_diff(params, idata)"
   ]
  },
  {
   "cell_type": "code",
   "execution_count": 113,
   "metadata": {},
   "outputs": [],
   "source": [
    "def plot_diff(results: Dict[str, Dict[str, pd.DataFrame]], idata: az.InferenceData):\n",
    "    \"\"\"\n",
    "    Plot the differences for cumulative diseased and cumulative deaths between\n",
    "    'detection only' and 'no covid' scenarios, using only the columns with the \n",
    "    lowest and highest values in the last row.\n",
    "\n",
    "    Args:\n",
    "        results: Dictionary containing the difference DataFrames for cumulative diseased and deaths.\n",
    "        idata: InferenceData object containing the posterior parameter values.\n",
    "    \"\"\"\n",
    "    diff_results = results[\"diff_results\"]\n",
    "    indicators = [\"cumulative_diseased_yearly_diff\", \"cumulative_deaths_yearly_diff\"]\n",
    "    posterior_samples = idata.posterior\n",
    "\n",
    "    # Create subplots for differences\n",
    "    fig = make_subplots(\n",
    "        rows=1, cols=2,\n",
    "        subplot_titles=[\"Cumulative Diseased Yearly Difference\", \"Cumulative Deaths Yearly Difference\"]\n",
    "    )\n",
    "\n",
    "    for idx, indicator in enumerate(indicators, start=1):\n",
    "        diff_df = diff_results[indicator]\n",
    "        last_row = diff_df.iloc[-1]\n",
    "        min_col = last_row.idxmin()\n",
    "        max_col = last_row.idxmax()\n",
    "\n",
    "        # Plot only the min and max columns for differences\n",
    "        for col in [min_col, max_col]:\n",
    "            sample_idx = int(col)\n",
    "            param_info = posterior_samples.isel(sample=sample_idx)\n",
    "            legend_label = \"<br>\".join(\n",
    "                f\"{param}: {round(float(value.values), 3)}\"\n",
    "                for param, value in param_info.items()\n",
    "            )\n",
    "            fig.add_trace(\n",
    "                go.Scatter(\n",
    "                    x=diff_df.index,\n",
    "                    y=diff_df[col],\n",
    "                    mode='lines',\n",
    "                    name=legend_label,\n",
    "                    line=dict(width=2)\n",
    "                ),\n",
    "                row=1,\n",
    "                col=idx\n",
    "            )\n",
    "\n",
    "    # Customize axes\n",
    "    for i in range(1, 3):\n",
    "        fig.update_xaxes(title_text=\"Year\", row=1, col=i)\n",
    "        # fig.update_yaxes(title_text=f\"{indicators[i-1].replace('_', ' ').capitalize()} (Difference)\", row=1, col=i)\n",
    "\n",
    "    # Update layout with a central legend at the bottom\n",
    "    fig.update_layout(\n",
    "        title=\"COVID Scenario Differences: Cumulative Diseased and Deaths\",\n",
    "        showlegend=True,\n",
    "        legend=dict(\n",
    "            title=\"Parameter Sets\",\n",
    "            x=0.5,\n",
    "            y=-0.5,\n",
    "            xanchor=\"center\",\n",
    "            orientation=\"h\"\n",
    "        ),\n",
    "        height=680,\n",
    "        template=\"plotly_white\"\n",
    "    )\n",
    "\n",
    "    fig.show()\n",
    "\n"
   ]
  },
  {
   "cell_type": "code",
   "execution_count": 114,
   "metadata": {},
   "outputs": [
    {
     "data": {
      "application/vnd.plotly.v1+json": {
       "config": {
        "plotlyServerURL": "https://plot.ly"
       },
       "data": [
        {
         "line": {
          "width": 2
         },
         "mode": "lines",
         "name": "contact_rate: 0.031<br>rr_infection_latent: 0.038<br>rr_infection_recovered: 0.142<br>progression_multiplier: 0.89<br>smear_positive_death_rate: 0.43<br>smear_negative_death_rate: 0.026<br>smear_positive_self_recovery: 0.227<br>smear_negative_self_recovery: 0.115<br>screening_scaleup_shape: 0.216<br>screening_inflection_time: 1997.09<br>time_to_screening_end_asymp: 1.818<br>detection_reduction: 0.012<br>notif_dispersion: 12225.984<br>prev_dispersion: 40.463<br>loglike: -27.993",
         "type": "scatter",
         "x": [
          2020,
          2021,
          2022,
          2023,
          2024,
          2025,
          2026,
          2027,
          2028,
          2029,
          2030,
          2031,
          2032,
          2033,
          2034,
          2035,
          2036,
          2037,
          2038,
          2039,
          2040,
          2041,
          2042,
          2043,
          2044,
          2045,
          2046,
          2047,
          2048,
          2049,
          2050
         ],
         "xaxis": "x",
         "y": [
          0.032726595702115446,
          86.71674795378931,
          308.86375978629803,
          470.76504922658205,
          589.4893343495205,
          673.8972782727797,
          737.3666741427733,
          783.6401526648551,
          818.6353746836539,
          845.3730783178471,
          864.1188497298863,
          877.1797613485251,
          884.605098156957,
          888.3261294704862,
          890.4011549027637,
          889.1565068690106,
          882.8021987029351,
          875.314162503928,
          862.816346516367,
          848.4876694562845,
          832.8419072316028,
          818.4612876693718,
          805.7385850530118,
          817.0817004963756,
          798.6595100229606,
          801.1676323637366,
          772.743778697215,
          755.0115319825709,
          739.3299706988037,
          719.9257180206478,
          707.8047454645857
         ],
         "yaxis": "y"
        },
        {
         "line": {
          "width": 2
         },
         "mode": "lines",
         "name": "contact_rate: 0.032<br>rr_infection_latent: 0.079<br>rr_infection_recovered: 0.251<br>progression_multiplier: 0.876<br>smear_positive_death_rate: 0.345<br>smear_negative_death_rate: 0.024<br>smear_positive_self_recovery: 0.247<br>smear_negative_self_recovery: 0.145<br>screening_scaleup_shape: 0.448<br>screening_inflection_time: 1994.028<br>time_to_screening_end_asymp: 1.684<br>detection_reduction: 0.794<br>notif_dispersion: 14930.887<br>prev_dispersion: 32.47<br>loglike: -28.521",
         "type": "scatter",
         "x": [
          2020,
          2021,
          2022,
          2023,
          2024,
          2025,
          2026,
          2027,
          2028,
          2029,
          2030,
          2031,
          2032,
          2033,
          2034,
          2035,
          2036,
          2037,
          2038,
          2039,
          2040,
          2041,
          2042,
          2043,
          2044,
          2045,
          2046,
          2047,
          2048,
          2049,
          2050
         ],
         "xaxis": "x",
         "y": [
          2.5527102623600513,
          7903.444742491352,
          30506.847246219462,
          47100.21838207939,
          59186.72758857848,
          67695.33422495658,
          74068.95868587564,
          78849.2124779704,
          82282.44190365449,
          84814.16938415798,
          86545.61724603968,
          87613.6897120832,
          88148.50789558841,
          88242.12457670271,
          87979.56751349289,
          87438.43221914954,
          86651.91193014104,
          85683.52295617666,
          84575.01894050837,
          83358.4274339173,
          82073.96075385856,
          80751.0102893142,
          79407.35261794925,
          78042.4971605856,
          76726.22463414073,
          75410.60258234758,
          74163.4578918023,
          72947.49681599345,
          71781.80018714909,
          70680.55844164081,
          69638.67371036392
         ],
         "yaxis": "y"
        },
        {
         "line": {
          "width": 2
         },
         "mode": "lines",
         "name": "contact_rate: 0.028<br>rr_infection_latent: 0.109<br>rr_infection_recovered: 0.258<br>progression_multiplier: 1.167<br>smear_positive_death_rate: 0.372<br>smear_negative_death_rate: 0.027<br>smear_positive_self_recovery: 0.242<br>smear_negative_self_recovery: 0.163<br>screening_scaleup_shape: 0.13<br>screening_inflection_time: 1995.661<br>time_to_screening_end_asymp: 1.054<br>detection_reduction: 0.013<br>notif_dispersion: 14539.442<br>prev_dispersion: 52.954<br>loglike: -28.819",
         "type": "scatter",
         "x": [
          2020,
          2021,
          2022,
          2023,
          2024,
          2025,
          2026,
          2027,
          2028,
          2029,
          2030,
          2031,
          2032,
          2033,
          2034,
          2035,
          2036,
          2037,
          2038,
          2039,
          2040,
          2041,
          2042,
          2043,
          2044,
          2045,
          2046,
          2047,
          2048,
          2049,
          2050
         ],
         "xaxis": "x2",
         "y": [
          0.0030033647435629973,
          55.095154443755746,
          124.74955413023417,
          159.24735466481798,
          179.2804270657507,
          191.84429625538178,
          200.26110714414972,
          206.11060108336096,
          210.2976607955643,
          213.3943443969183,
          215.72633077926002,
          217.4968104698928,
          218.83739014770254,
          219.87202467219322,
          220.6730555461545,
          221.29175552385277,
          221.76643606944708,
          222.15570510394173,
          222.42701901320834,
          222.63553583278554,
          222.74254213355016,
          222.75826316408347,
          222.75843350891955,
          222.72081079072086,
          222.65893784706714,
          222.56701830477687,
          222.47506877378328,
          222.32164996111533,
          222.07384142978117,
          221.72760300087975,
          221.63064769370249
         ],
         "yaxis": "y2"
        },
        {
         "line": {
          "width": 2
         },
         "mode": "lines",
         "name": "contact_rate: 0.027<br>rr_infection_latent: 0.164<br>rr_infection_recovered: 0.342<br>progression_multiplier: 0.686<br>smear_positive_death_rate: 0.395<br>smear_negative_death_rate: 0.027<br>smear_positive_self_recovery: 0.221<br>smear_negative_self_recovery: 0.197<br>screening_scaleup_shape: 0.47<br>screening_inflection_time: 1998.993<br>time_to_screening_end_asymp: 3.521<br>detection_reduction: 0.692<br>notif_dispersion: 12305.423<br>prev_dispersion: 45.395<br>loglike: -30.475",
         "type": "scatter",
         "x": [
          2020,
          2021,
          2022,
          2023,
          2024,
          2025,
          2026,
          2027,
          2028,
          2029,
          2030,
          2031,
          2032,
          2033,
          2034,
          2035,
          2036,
          2037,
          2038,
          2039,
          2040,
          2041,
          2042,
          2043,
          2044,
          2045,
          2046,
          2047,
          2048,
          2049,
          2050
         ],
         "xaxis": "x2",
         "y": [
          -0.23432258877073764,
          2195.4493136140954,
          6096.528029232781,
          8957.289995689265,
          11209.626121140172,
          13037.10947848449,
          14534.806690041703,
          15783.94542085973,
          16829.00361802033,
          17700.730930025806,
          18430.902220682707,
          19034.974884955853,
          19526.881463520695,
          19919.233649973816,
          20223.445474091102,
          20449.76965186093,
          20607.273247760837,
          20703.051789804245,
          20745.723226207425,
          20741.958884027554,
          20698.180258199223,
          20620.948001681245,
          20515.469263170846,
          20386.663542775554,
          20239.4345903449,
          20077.027330346173,
          19904.12957534159,
          19722.54444052116,
          19537.404006146593,
          19350.150323324837,
          19163.990186248673
         ],
         "yaxis": "y2"
        }
       ],
       "layout": {
        "annotations": [
         {
          "font": {
           "size": 16
          },
          "showarrow": false,
          "text": "Cumulative Diseased Yearly Difference",
          "x": 0.225,
          "xanchor": "center",
          "xref": "paper",
          "y": 1,
          "yanchor": "bottom",
          "yref": "paper"
         },
         {
          "font": {
           "size": 16
          },
          "showarrow": false,
          "text": "Cumulative Deaths Yearly Difference",
          "x": 0.775,
          "xanchor": "center",
          "xref": "paper",
          "y": 1,
          "yanchor": "bottom",
          "yref": "paper"
         }
        ],
        "height": 680,
        "legend": {
         "orientation": "h",
         "title": {
          "text": "Parameter Sets"
         },
         "x": 0.5,
         "xanchor": "center",
         "y": -0.5
        },
        "showlegend": true,
        "template": {
         "data": {
          "bar": [
           {
            "error_x": {
             "color": "#2a3f5f"
            },
            "error_y": {
             "color": "#2a3f5f"
            },
            "marker": {
             "line": {
              "color": "white",
              "width": 0.5
             },
             "pattern": {
              "fillmode": "overlay",
              "size": 10,
              "solidity": 0.2
             }
            },
            "type": "bar"
           }
          ],
          "barpolar": [
           {
            "marker": {
             "line": {
              "color": "white",
              "width": 0.5
             },
             "pattern": {
              "fillmode": "overlay",
              "size": 10,
              "solidity": 0.2
             }
            },
            "type": "barpolar"
           }
          ],
          "carpet": [
           {
            "aaxis": {
             "endlinecolor": "#2a3f5f",
             "gridcolor": "#C8D4E3",
             "linecolor": "#C8D4E3",
             "minorgridcolor": "#C8D4E3",
             "startlinecolor": "#2a3f5f"
            },
            "baxis": {
             "endlinecolor": "#2a3f5f",
             "gridcolor": "#C8D4E3",
             "linecolor": "#C8D4E3",
             "minorgridcolor": "#C8D4E3",
             "startlinecolor": "#2a3f5f"
            },
            "type": "carpet"
           }
          ],
          "choropleth": [
           {
            "colorbar": {
             "outlinewidth": 0,
             "ticks": ""
            },
            "type": "choropleth"
           }
          ],
          "contour": [
           {
            "colorbar": {
             "outlinewidth": 0,
             "ticks": ""
            },
            "colorscale": [
             [
              0,
              "#0d0887"
             ],
             [
              0.1111111111111111,
              "#46039f"
             ],
             [
              0.2222222222222222,
              "#7201a8"
             ],
             [
              0.3333333333333333,
              "#9c179e"
             ],
             [
              0.4444444444444444,
              "#bd3786"
             ],
             [
              0.5555555555555556,
              "#d8576b"
             ],
             [
              0.6666666666666666,
              "#ed7953"
             ],
             [
              0.7777777777777778,
              "#fb9f3a"
             ],
             [
              0.8888888888888888,
              "#fdca26"
             ],
             [
              1,
              "#f0f921"
             ]
            ],
            "type": "contour"
           }
          ],
          "contourcarpet": [
           {
            "colorbar": {
             "outlinewidth": 0,
             "ticks": ""
            },
            "type": "contourcarpet"
           }
          ],
          "heatmap": [
           {
            "colorbar": {
             "outlinewidth": 0,
             "ticks": ""
            },
            "colorscale": [
             [
              0,
              "#0d0887"
             ],
             [
              0.1111111111111111,
              "#46039f"
             ],
             [
              0.2222222222222222,
              "#7201a8"
             ],
             [
              0.3333333333333333,
              "#9c179e"
             ],
             [
              0.4444444444444444,
              "#bd3786"
             ],
             [
              0.5555555555555556,
              "#d8576b"
             ],
             [
              0.6666666666666666,
              "#ed7953"
             ],
             [
              0.7777777777777778,
              "#fb9f3a"
             ],
             [
              0.8888888888888888,
              "#fdca26"
             ],
             [
              1,
              "#f0f921"
             ]
            ],
            "type": "heatmap"
           }
          ],
          "heatmapgl": [
           {
            "colorbar": {
             "outlinewidth": 0,
             "ticks": ""
            },
            "colorscale": [
             [
              0,
              "#0d0887"
             ],
             [
              0.1111111111111111,
              "#46039f"
             ],
             [
              0.2222222222222222,
              "#7201a8"
             ],
             [
              0.3333333333333333,
              "#9c179e"
             ],
             [
              0.4444444444444444,
              "#bd3786"
             ],
             [
              0.5555555555555556,
              "#d8576b"
             ],
             [
              0.6666666666666666,
              "#ed7953"
             ],
             [
              0.7777777777777778,
              "#fb9f3a"
             ],
             [
              0.8888888888888888,
              "#fdca26"
             ],
             [
              1,
              "#f0f921"
             ]
            ],
            "type": "heatmapgl"
           }
          ],
          "histogram": [
           {
            "marker": {
             "pattern": {
              "fillmode": "overlay",
              "size": 10,
              "solidity": 0.2
             }
            },
            "type": "histogram"
           }
          ],
          "histogram2d": [
           {
            "colorbar": {
             "outlinewidth": 0,
             "ticks": ""
            },
            "colorscale": [
             [
              0,
              "#0d0887"
             ],
             [
              0.1111111111111111,
              "#46039f"
             ],
             [
              0.2222222222222222,
              "#7201a8"
             ],
             [
              0.3333333333333333,
              "#9c179e"
             ],
             [
              0.4444444444444444,
              "#bd3786"
             ],
             [
              0.5555555555555556,
              "#d8576b"
             ],
             [
              0.6666666666666666,
              "#ed7953"
             ],
             [
              0.7777777777777778,
              "#fb9f3a"
             ],
             [
              0.8888888888888888,
              "#fdca26"
             ],
             [
              1,
              "#f0f921"
             ]
            ],
            "type": "histogram2d"
           }
          ],
          "histogram2dcontour": [
           {
            "colorbar": {
             "outlinewidth": 0,
             "ticks": ""
            },
            "colorscale": [
             [
              0,
              "#0d0887"
             ],
             [
              0.1111111111111111,
              "#46039f"
             ],
             [
              0.2222222222222222,
              "#7201a8"
             ],
             [
              0.3333333333333333,
              "#9c179e"
             ],
             [
              0.4444444444444444,
              "#bd3786"
             ],
             [
              0.5555555555555556,
              "#d8576b"
             ],
             [
              0.6666666666666666,
              "#ed7953"
             ],
             [
              0.7777777777777778,
              "#fb9f3a"
             ],
             [
              0.8888888888888888,
              "#fdca26"
             ],
             [
              1,
              "#f0f921"
             ]
            ],
            "type": "histogram2dcontour"
           }
          ],
          "mesh3d": [
           {
            "colorbar": {
             "outlinewidth": 0,
             "ticks": ""
            },
            "type": "mesh3d"
           }
          ],
          "parcoords": [
           {
            "line": {
             "colorbar": {
              "outlinewidth": 0,
              "ticks": ""
             }
            },
            "type": "parcoords"
           }
          ],
          "pie": [
           {
            "automargin": true,
            "type": "pie"
           }
          ],
          "scatter": [
           {
            "fillpattern": {
             "fillmode": "overlay",
             "size": 10,
             "solidity": 0.2
            },
            "type": "scatter"
           }
          ],
          "scatter3d": [
           {
            "line": {
             "colorbar": {
              "outlinewidth": 0,
              "ticks": ""
             }
            },
            "marker": {
             "colorbar": {
              "outlinewidth": 0,
              "ticks": ""
             }
            },
            "type": "scatter3d"
           }
          ],
          "scattercarpet": [
           {
            "marker": {
             "colorbar": {
              "outlinewidth": 0,
              "ticks": ""
             }
            },
            "type": "scattercarpet"
           }
          ],
          "scattergeo": [
           {
            "marker": {
             "colorbar": {
              "outlinewidth": 0,
              "ticks": ""
             }
            },
            "type": "scattergeo"
           }
          ],
          "scattergl": [
           {
            "marker": {
             "colorbar": {
              "outlinewidth": 0,
              "ticks": ""
             }
            },
            "type": "scattergl"
           }
          ],
          "scattermapbox": [
           {
            "marker": {
             "colorbar": {
              "outlinewidth": 0,
              "ticks": ""
             }
            },
            "type": "scattermapbox"
           }
          ],
          "scatterpolar": [
           {
            "marker": {
             "colorbar": {
              "outlinewidth": 0,
              "ticks": ""
             }
            },
            "type": "scatterpolar"
           }
          ],
          "scatterpolargl": [
           {
            "marker": {
             "colorbar": {
              "outlinewidth": 0,
              "ticks": ""
             }
            },
            "type": "scatterpolargl"
           }
          ],
          "scatterternary": [
           {
            "marker": {
             "colorbar": {
              "outlinewidth": 0,
              "ticks": ""
             }
            },
            "type": "scatterternary"
           }
          ],
          "surface": [
           {
            "colorbar": {
             "outlinewidth": 0,
             "ticks": ""
            },
            "colorscale": [
             [
              0,
              "#0d0887"
             ],
             [
              0.1111111111111111,
              "#46039f"
             ],
             [
              0.2222222222222222,
              "#7201a8"
             ],
             [
              0.3333333333333333,
              "#9c179e"
             ],
             [
              0.4444444444444444,
              "#bd3786"
             ],
             [
              0.5555555555555556,
              "#d8576b"
             ],
             [
              0.6666666666666666,
              "#ed7953"
             ],
             [
              0.7777777777777778,
              "#fb9f3a"
             ],
             [
              0.8888888888888888,
              "#fdca26"
             ],
             [
              1,
              "#f0f921"
             ]
            ],
            "type": "surface"
           }
          ],
          "table": [
           {
            "cells": {
             "fill": {
              "color": "#EBF0F8"
             },
             "line": {
              "color": "white"
             }
            },
            "header": {
             "fill": {
              "color": "#C8D4E3"
             },
             "line": {
              "color": "white"
             }
            },
            "type": "table"
           }
          ]
         },
         "layout": {
          "annotationdefaults": {
           "arrowcolor": "#2a3f5f",
           "arrowhead": 0,
           "arrowwidth": 1
          },
          "autotypenumbers": "strict",
          "coloraxis": {
           "colorbar": {
            "outlinewidth": 0,
            "ticks": ""
           }
          },
          "colorscale": {
           "diverging": [
            [
             0,
             "#8e0152"
            ],
            [
             0.1,
             "#c51b7d"
            ],
            [
             0.2,
             "#de77ae"
            ],
            [
             0.3,
             "#f1b6da"
            ],
            [
             0.4,
             "#fde0ef"
            ],
            [
             0.5,
             "#f7f7f7"
            ],
            [
             0.6,
             "#e6f5d0"
            ],
            [
             0.7,
             "#b8e186"
            ],
            [
             0.8,
             "#7fbc41"
            ],
            [
             0.9,
             "#4d9221"
            ],
            [
             1,
             "#276419"
            ]
           ],
           "sequential": [
            [
             0,
             "#0d0887"
            ],
            [
             0.1111111111111111,
             "#46039f"
            ],
            [
             0.2222222222222222,
             "#7201a8"
            ],
            [
             0.3333333333333333,
             "#9c179e"
            ],
            [
             0.4444444444444444,
             "#bd3786"
            ],
            [
             0.5555555555555556,
             "#d8576b"
            ],
            [
             0.6666666666666666,
             "#ed7953"
            ],
            [
             0.7777777777777778,
             "#fb9f3a"
            ],
            [
             0.8888888888888888,
             "#fdca26"
            ],
            [
             1,
             "#f0f921"
            ]
           ],
           "sequentialminus": [
            [
             0,
             "#0d0887"
            ],
            [
             0.1111111111111111,
             "#46039f"
            ],
            [
             0.2222222222222222,
             "#7201a8"
            ],
            [
             0.3333333333333333,
             "#9c179e"
            ],
            [
             0.4444444444444444,
             "#bd3786"
            ],
            [
             0.5555555555555556,
             "#d8576b"
            ],
            [
             0.6666666666666666,
             "#ed7953"
            ],
            [
             0.7777777777777778,
             "#fb9f3a"
            ],
            [
             0.8888888888888888,
             "#fdca26"
            ],
            [
             1,
             "#f0f921"
            ]
           ]
          },
          "colorway": [
           "#636efa",
           "#EF553B",
           "#00cc96",
           "#ab63fa",
           "#FFA15A",
           "#19d3f3",
           "#FF6692",
           "#B6E880",
           "#FF97FF",
           "#FECB52"
          ],
          "font": {
           "color": "#2a3f5f"
          },
          "geo": {
           "bgcolor": "white",
           "lakecolor": "white",
           "landcolor": "white",
           "showlakes": true,
           "showland": true,
           "subunitcolor": "#C8D4E3"
          },
          "hoverlabel": {
           "align": "left"
          },
          "hovermode": "closest",
          "mapbox": {
           "style": "light"
          },
          "paper_bgcolor": "white",
          "plot_bgcolor": "white",
          "polar": {
           "angularaxis": {
            "gridcolor": "#EBF0F8",
            "linecolor": "#EBF0F8",
            "ticks": ""
           },
           "bgcolor": "white",
           "radialaxis": {
            "gridcolor": "#EBF0F8",
            "linecolor": "#EBF0F8",
            "ticks": ""
           }
          },
          "scene": {
           "xaxis": {
            "backgroundcolor": "white",
            "gridcolor": "#DFE8F3",
            "gridwidth": 2,
            "linecolor": "#EBF0F8",
            "showbackground": true,
            "ticks": "",
            "zerolinecolor": "#EBF0F8"
           },
           "yaxis": {
            "backgroundcolor": "white",
            "gridcolor": "#DFE8F3",
            "gridwidth": 2,
            "linecolor": "#EBF0F8",
            "showbackground": true,
            "ticks": "",
            "zerolinecolor": "#EBF0F8"
           },
           "zaxis": {
            "backgroundcolor": "white",
            "gridcolor": "#DFE8F3",
            "gridwidth": 2,
            "linecolor": "#EBF0F8",
            "showbackground": true,
            "ticks": "",
            "zerolinecolor": "#EBF0F8"
           }
          },
          "shapedefaults": {
           "line": {
            "color": "#2a3f5f"
           }
          },
          "ternary": {
           "aaxis": {
            "gridcolor": "#DFE8F3",
            "linecolor": "#A2B1C6",
            "ticks": ""
           },
           "baxis": {
            "gridcolor": "#DFE8F3",
            "linecolor": "#A2B1C6",
            "ticks": ""
           },
           "bgcolor": "white",
           "caxis": {
            "gridcolor": "#DFE8F3",
            "linecolor": "#A2B1C6",
            "ticks": ""
           }
          },
          "title": {
           "x": 0.05
          },
          "xaxis": {
           "automargin": true,
           "gridcolor": "#EBF0F8",
           "linecolor": "#EBF0F8",
           "ticks": "",
           "title": {
            "standoff": 15
           },
           "zerolinecolor": "#EBF0F8",
           "zerolinewidth": 2
          },
          "yaxis": {
           "automargin": true,
           "gridcolor": "#EBF0F8",
           "linecolor": "#EBF0F8",
           "ticks": "",
           "title": {
            "standoff": 15
           },
           "zerolinecolor": "#EBF0F8",
           "zerolinewidth": 2
          }
         }
        },
        "title": {
         "text": "COVID Scenario Differences: Cumulative Diseased and Deaths"
        },
        "xaxis": {
         "anchor": "y",
         "domain": [
          0,
          0.45
         ],
         "title": {
          "text": "Year"
         }
        },
        "xaxis2": {
         "anchor": "y2",
         "domain": [
          0.55,
          1
         ],
         "title": {
          "text": "Year"
         }
        },
        "yaxis": {
         "anchor": "x",
         "domain": [
          0,
          1
         ]
        },
        "yaxis2": {
         "anchor": "x2",
         "domain": [
          0,
          1
         ]
        }
       }
      }
     },
     "metadata": {},
     "output_type": "display_data"
    }
   ],
   "source": [
    "plot_diff(covid_diff, idata)"
   ]
  },
  {
   "cell_type": "code",
   "execution_count": 115,
   "metadata": {},
   "outputs": [],
   "source": [
    "def plot_raw(results: Dict[str, Dict[str, pd.DataFrame]], idata: az.InferenceData):\n",
    "    \"\"\"\n",
    "    Plot the raw results for cumulative diseased and cumulative deaths for each scenario,\n",
    "    with parameter set details from `idata`. Only the first unique minimum and maximum \n",
    "    values are used if there are duplicates. The legend is grouped by scenario name, \n",
    "    with each parameter set in columns under each scenario.\n",
    "\n",
    "    Args:\n",
    "        results: Dictionary containing raw data for cumulative diseased and deaths for each scenario.\n",
    "        idata: InferenceData object containing the posterior parameter values.\n",
    "    \"\"\"\n",
    "    scenario_results = results[\"scenario_results\"]\n",
    "    indicators = [\"incidence_raw\", \"mortality_raw\"]\n",
    "    posterior_samples = idata.posterior\n",
    "\n",
    "    # Create subplots for raw results\n",
    "    fig = make_subplots(\n",
    "        rows=1, cols=2,\n",
    "        subplot_titles=[\"Incidence (Raw)\", \"Mortality (Raw)\"]\n",
    "    )\n",
    "\n",
    "    for idx, indicator in enumerate(indicators, start=1):\n",
    "        raw_df_no_covid = scenario_results[\"no_covid\"][indicator]\n",
    "        raw_df_detection = scenario_results[\"detection\"][indicator]\n",
    "\n",
    "        # Get only the first occurrence of the min and max columns for each scenario\n",
    "        min_col_no_covid = raw_df_no_covid.iloc[-1].idxmin()\n",
    "        max_col_no_covid = raw_df_no_covid.iloc[-1].idxmax()\n",
    "        \n",
    "        min_col_detection = raw_df_detection.iloc[-1].idxmin()\n",
    "        max_col_detection = raw_df_detection.iloc[-1].idxmax()\n",
    "\n",
    "        # Plot the first unique min and max for No COVID scenario\n",
    "        for i, col in enumerate([min_col_no_covid, max_col_no_covid]):\n",
    "            sample_idx = int(col)\n",
    "            param_info = posterior_samples.isel(sample=sample_idx)\n",
    "            legend_label = \"<br>\".join(\n",
    "                f\"{param}: {round(float(value.values), 3)}\"\n",
    "                for param, value in param_info.items()\n",
    "            )\n",
    "            fig.add_trace(\n",
    "                go.Scatter(\n",
    "                    x=raw_df_no_covid.index,\n",
    "                    y=raw_df_no_covid[col],\n",
    "                    mode='lines',\n",
    "                    name=f\"<b>No COVID</b><br>{legend_label}\",\n",
    "                    legendgroup=\"No COVID\",\n",
    "                    showlegend=(i == 0),\n",
    "                    line=dict(color='blue', width=2)\n",
    "                ),\n",
    "                row=1,\n",
    "                col=idx\n",
    "            )\n",
    "\n",
    "        # Plot the first unique min and max for Detection Only scenario\n",
    "        for i, col in enumerate([min_col_detection, max_col_detection]):\n",
    "            sample_idx = int(col)\n",
    "            param_info = posterior_samples.isel(sample=sample_idx)\n",
    "            legend_label = \"<br>\".join(\n",
    "                f\"{param}: {round(float(value.values), 3)}\"\n",
    "                for param, value in param_info.items()\n",
    "            )\n",
    "            fig.add_trace(\n",
    "                go.Scatter(\n",
    "                    x=raw_df_detection.index,\n",
    "                    y=raw_df_detection[col],\n",
    "                    mode='lines',\n",
    "                    name=f\"<b>Detection Only</b><br>{legend_label}\",\n",
    "                    legendgroup=\"Detection Only\",\n",
    "                    showlegend=(i == 0),\n",
    "                    line=dict(color='green', width=2)\n",
    "                ),\n",
    "                row=1,\n",
    "                col=idx\n",
    "            )\n",
    "\n",
    "    # Customize axes\n",
    "    for i in range(1, 3):\n",
    "        fig.update_xaxes(title_text=\"Year\", row=1, col=i)\n",
    "        fig.update_yaxes(title_text=f\"{indicators[i-1].replace('_', ' ').capitalize()} (Raw)\", row=1, col=i)\n",
    "\n",
    "    # Update layout with a structured legend, grouping by scenario name\n",
    "    fig.update_layout(\n",
    "        title=\"COVID Scenario Raw Results: Diseased and Deaths\",\n",
    "        showlegend=True,\n",
    "        legend=dict(\n",
    "            title_text=\"Scenario<br><span style='font-size:12px'>Grouped by scenario with parameter sets in columns</span>\",\n",
    "            orientation=\"h\",\n",
    "            x=0.5,\n",
    "            y=-0.5,\n",
    "            xanchor=\"center\",\n",
    "            font=dict(size=10),\n",
    "            traceorder=\"normal\",\n",
    "            itemwidth=200\n",
    "        ),\n",
    "        height=800,\n",
    "        template=\"plotly_white\"\n",
    "    )\n",
    "\n",
    "    fig.show()\n"
   ]
  },
  {
   "cell_type": "code",
   "execution_count": 116,
   "metadata": {},
   "outputs": [
    {
     "data": {
      "application/vnd.plotly.v1+json": {
       "config": {
        "plotlyServerURL": "https://plot.ly"
       },
       "data": [
        {
         "legendgroup": "No COVID",
         "line": {
          "color": "blue",
          "width": 2
         },
         "mode": "lines",
         "name": "<b>No COVID</b><br>contact_rate: 0.017<br>rr_infection_latent: 0.23<br>rr_infection_recovered: 0.201<br>progression_multiplier: 1.197<br>smear_positive_death_rate: 0.387<br>smear_negative_death_rate: 0.027<br>smear_positive_self_recovery: 0.25<br>smear_negative_self_recovery: 0.13<br>screening_scaleup_shape: 0.162<br>screening_inflection_time: 2003.896<br>time_to_screening_end_asymp: 0.612<br>detection_reduction: 0.492<br>notif_dispersion: 5741.993<br>prev_dispersion: 68.634<br>loglike: -28.834",
         "showlegend": true,
         "type": "scatter",
         "x": [
          2020,
          2021,
          2022,
          2023,
          2024,
          2025,
          2026,
          2027,
          2028,
          2029,
          2030,
          2031,
          2032,
          2033,
          2034,
          2035,
          2036,
          2037,
          2038,
          2039,
          2040,
          2041,
          2042,
          2043,
          2044,
          2045,
          2046,
          2047,
          2048,
          2049,
          2050
         ],
         "xaxis": "x",
         "y": [
          104096.18889003541,
          104460.19328310099,
          102845.55173854175,
          102194.38018599166,
          101861.34548424109,
          99903.7447700265,
          99193.79812191316,
          98568.63434426294,
          97109.76185847801,
          97093.37939884266,
          96365.95311295104,
          95531.27763224987,
          94710.73596384926,
          93852.31763513957,
          92958.71526420758,
          92079.54113467259,
          91480.00754452733,
          90675.40205646597,
          89795.03233630673,
          89061.60130157672,
          88189.42245240786,
          87369.33057467459,
          86642.94240626163,
          85816.84065274657,
          85105.15678733878,
          84434.5220456639,
          83717.51188038308,
          82986.9498722266,
          82259.30270399022,
          81535.6942015595,
          80816.80473786758
         ],
         "yaxis": "y"
        },
        {
         "legendgroup": "No COVID",
         "line": {
          "color": "blue",
          "width": 2
         },
         "mode": "lines",
         "name": "<b>No COVID</b><br>contact_rate: 0.029<br>rr_infection_latent: 0.144<br>rr_infection_recovered: 0.18<br>progression_multiplier: 0.868<br>smear_positive_death_rate: 0.404<br>smear_negative_death_rate: 0.025<br>smear_positive_self_recovery: 0.205<br>smear_negative_self_recovery: 0.199<br>screening_scaleup_shape: 0.459<br>screening_inflection_time: 2001.963<br>time_to_screening_end_asymp: 3.299<br>detection_reduction: 0.553<br>notif_dispersion: 12253.415<br>prev_dispersion: 45.687<br>loglike: -31.281",
         "showlegend": false,
         "type": "scatter",
         "x": [
          2020,
          2021,
          2022,
          2023,
          2024,
          2025,
          2026,
          2027,
          2028,
          2029,
          2030,
          2031,
          2032,
          2033,
          2034,
          2035,
          2036,
          2037,
          2038,
          2039,
          2040,
          2041,
          2042,
          2043,
          2044,
          2045,
          2046,
          2047,
          2048,
          2049,
          2050
         ],
         "xaxis": "x",
         "y": [
          201206.04639399497,
          209730.25642819138,
          209213.50491814298,
          212815.88912597625,
          218518.56225411972,
          215510.9375400518,
          219855.27382115886,
          224279.11622564006,
          223710.01491851185,
          232218.1968117248,
          236536.5449446371,
          240276.31510102178,
          244113.54204601914,
          247747.6685515109,
          251099.50495768042,
          254375.14441231827,
          258880.88185371843,
          262639.26986601454,
          265777.08572633273,
          269474.23082426126,
          272401.5396813258,
          275310.98360610777,
          278567.4624992028,
          281240.8136585376,
          284289.1358942634,
          287555.67850989837,
          290426.8375191444,
          293172.0473021712,
          295742.72289468505,
          298182.13708281715,
          300497.39638796245
         ],
         "yaxis": "y"
        },
        {
         "legendgroup": "Detection Only",
         "line": {
          "color": "green",
          "width": 2
         },
         "mode": "lines",
         "name": "<b>Detection Only</b><br>contact_rate: 0.017<br>rr_infection_latent: 0.23<br>rr_infection_recovered: 0.201<br>progression_multiplier: 1.197<br>smear_positive_death_rate: 0.387<br>smear_negative_death_rate: 0.027<br>smear_positive_self_recovery: 0.25<br>smear_negative_self_recovery: 0.13<br>screening_scaleup_shape: 0.162<br>screening_inflection_time: 2003.896<br>time_to_screening_end_asymp: 0.612<br>detection_reduction: 0.492<br>notif_dispersion: 5741.993<br>prev_dispersion: 68.634<br>loglike: -28.834",
         "showlegend": true,
         "type": "scatter",
         "x": [
          2020,
          2021,
          2022,
          2023,
          2024,
          2025,
          2026,
          2027,
          2028,
          2029,
          2030,
          2031,
          2032,
          2033,
          2034,
          2035,
          2036,
          2037,
          2038,
          2039,
          2040,
          2041,
          2042,
          2043,
          2044,
          2045,
          2046,
          2047,
          2048,
          2049,
          2050
         ],
         "xaxis": "x",
         "y": [
          104097.52835992229,
          107424.08115976503,
          109304.10466967357,
          104946.78135763324,
          103132.84086621836,
          100595.8379540692,
          99661.12635389806,
          98924.52071488828,
          97405.74389239067,
          97353.89781060048,
          96603.79611149081,
          95749.26603621236,
          94922.8425920461,
          94048.98604364219,
          93149.65432411109,
          92256.50014636529,
          91657.13692232757,
          90845.57498535034,
          89970.73352484495,
          89237.73615631432,
          88366.38757130422,
          87539.28866246951,
          86805.95643493571,
          85977.22992661627,
          85263.02363823944,
          84588.33915906085,
          83874.31474078297,
          83143.498070815,
          82416.09732342645,
          81692.40947473909,
          80966.58281435742
         ],
         "yaxis": "y"
        },
        {
         "legendgroup": "Detection Only",
         "line": {
          "color": "green",
          "width": 2
         },
         "mode": "lines",
         "name": "<b>Detection Only</b><br>contact_rate: 0.039<br>rr_infection_latent: 0.059<br>rr_infection_recovered: 0.154<br>progression_multiplier: 0.888<br>smear_positive_death_rate: 0.394<br>smear_negative_death_rate: 0.029<br>smear_positive_self_recovery: 0.189<br>smear_negative_self_recovery: 0.184<br>screening_scaleup_shape: 0.373<br>screening_inflection_time: 1996.011<br>time_to_screening_end_asymp: 2.702<br>detection_reduction: 0.336<br>notif_dispersion: 5781.051<br>prev_dispersion: 37.151<br>loglike: -28.301",
         "showlegend": false,
         "type": "scatter",
         "x": [
          2020,
          2021,
          2022,
          2023,
          2024,
          2025,
          2026,
          2027,
          2028,
          2029,
          2030,
          2031,
          2032,
          2033,
          2034,
          2035,
          2036,
          2037,
          2038,
          2039,
          2040,
          2041,
          2042,
          2043,
          2044,
          2045,
          2046,
          2047,
          2048,
          2049,
          2050
         ],
         "xaxis": "x",
         "y": [
          202708.5498227487,
          218102.28986039976,
          223947.0475626019,
          227442.0197565001,
          233698.05822084908,
          228957.00191651355,
          233595.8077484824,
          238390.35079991148,
          236768.0948903524,
          246536.47830672082,
          250968.74834244666,
          254556.81999044798,
          258151.6007450766,
          261380.38436988834,
          264160.7589344315,
          266769.86422962474,
          270705.58293846133,
          273817.2865840192,
          276076.6584484813,
          278909.14699273487,
          280895.58560016856,
          282788.0547683188,
          285089.92112732085,
          286790.25178078574,
          288875.52807385917,
          291274.62350361765,
          293279.60984984535,
          295158.89098129806,
          296896.5781845884,
          298532.2035837716,
          300084.39127334114
         ],
         "yaxis": "y"
        },
        {
         "legendgroup": "No COVID",
         "line": {
          "color": "blue",
          "width": 2
         },
         "mode": "lines",
         "name": "<b>No COVID</b><br>contact_rate: 0.017<br>rr_infection_latent: 0.23<br>rr_infection_recovered: 0.201<br>progression_multiplier: 1.197<br>smear_positive_death_rate: 0.387<br>smear_negative_death_rate: 0.027<br>smear_positive_self_recovery: 0.25<br>smear_negative_self_recovery: 0.13<br>screening_scaleup_shape: 0.162<br>screening_inflection_time: 2003.896<br>time_to_screening_end_asymp: 0.612<br>detection_reduction: 0.492<br>notif_dispersion: 5741.993<br>prev_dispersion: 68.634<br>loglike: -28.834",
         "showlegend": true,
         "type": "scatter",
         "x": [
          2020,
          2021,
          2022,
          2023,
          2024,
          2025,
          2026,
          2027,
          2028,
          2029,
          2030,
          2031,
          2032,
          2033,
          2034,
          2035,
          2036,
          2037,
          2038,
          2039,
          2040,
          2041,
          2042,
          2043,
          2044,
          2045,
          2046,
          2047,
          2048,
          2049,
          2050
         ],
         "xaxis": "x2",
         "y": [
          7279.42175026562,
          7215.216511039474,
          7194.694714725339,
          7090.9587414596,
          7047.687414169558,
          6969.27070140589,
          6873.288709759641,
          6817.266997988337,
          6746.948697226885,
          6687.780567432713,
          6657.265188770266,
          6602.469387576687,
          6544.987251423314,
          6485.970956364756,
          6424.103069875233,
          6361.35580314887,
          6306.603863496708,
          6260.599952935337,
          6198.079640287637,
          6142.489763586039,
          6087.317672777952,
          6025.788067996906,
          5971.785993997126,
          5917.769911828929,
          5861.876366895661,
          5814.421601155179,
          5765.028533004792,
          5714.548184656417,
          5663.703232992328,
          5612.952056418821,
          5562.493289143287
         ],
         "yaxis": "y2"
        },
        {
         "legendgroup": "No COVID",
         "line": {
          "color": "blue",
          "width": 2
         },
         "mode": "lines",
         "name": "<b>No COVID</b><br>contact_rate: 0.029<br>rr_infection_latent: 0.144<br>rr_infection_recovered: 0.18<br>progression_multiplier: 0.868<br>smear_positive_death_rate: 0.404<br>smear_negative_death_rate: 0.025<br>smear_positive_self_recovery: 0.205<br>smear_negative_self_recovery: 0.199<br>screening_scaleup_shape: 0.459<br>screening_inflection_time: 2001.963<br>time_to_screening_end_asymp: 3.299<br>detection_reduction: 0.553<br>notif_dispersion: 12253.415<br>prev_dispersion: 45.687<br>loglike: -31.281",
         "showlegend": false,
         "type": "scatter",
         "x": [
          2020,
          2021,
          2022,
          2023,
          2024,
          2025,
          2026,
          2027,
          2028,
          2029,
          2030,
          2031,
          2032,
          2033,
          2034,
          2035,
          2036,
          2037,
          2038,
          2039,
          2040,
          2041,
          2042,
          2043,
          2044,
          2045,
          2046,
          2047,
          2048,
          2049,
          2050
         ],
         "xaxis": "x2",
         "y": [
          34474.46249772772,
          34562.21522823809,
          35461.05315668603,
          35630.013119495125,
          36179.56377630206,
          36633.53057085542,
          36782.40144235536,
          37281.69451481612,
          37742.22673432138,
          38194.868750130816,
          39076.56839444319,
          39817.36748669394,
          40504.54399617556,
          41164.69173306077,
          41788.08235901481,
          42378.06423666846,
          42990.150540609546,
          43698.96230196475,
          44301.19291569425,
          44901.98576855715,
          45499.58703092564,
          46017.31643435342,
          46549.384474360726,
          47076.02020596736,
          47560.035010355445,
          48092.17944959188,
          48618.313515899084,
          49119.013285179004,
          49593.449214430526,
          50041.70531557913,
          50465.39778626611
         ],
         "yaxis": "y2"
        },
        {
         "legendgroup": "Detection Only",
         "line": {
          "color": "green",
          "width": 2
         },
         "mode": "lines",
         "name": "<b>Detection Only</b><br>contact_rate: 0.017<br>rr_infection_latent: 0.23<br>rr_infection_recovered: 0.201<br>progression_multiplier: 1.197<br>smear_positive_death_rate: 0.387<br>smear_negative_death_rate: 0.027<br>smear_positive_self_recovery: 0.25<br>smear_negative_self_recovery: 0.13<br>screening_scaleup_shape: 0.162<br>screening_inflection_time: 2003.896<br>time_to_screening_end_asymp: 0.612<br>detection_reduction: 0.492<br>notif_dispersion: 5741.993<br>prev_dispersion: 68.634<br>loglike: -28.834",
         "showlegend": true,
         "type": "scatter",
         "x": [
          2020,
          2021,
          2022,
          2023,
          2024,
          2025,
          2026,
          2027,
          2028,
          2029,
          2030,
          2031,
          2032,
          2033,
          2034,
          2035,
          2036,
          2037,
          2038,
          2039,
          2040,
          2041,
          2042,
          2043,
          2044,
          2045,
          2046,
          2047,
          2048,
          2049,
          2050
         ],
         "xaxis": "x2",
         "y": [
          7279.618934298139,
          8900.198031315764,
          8795.19328175034,
          7559.386373653156,
          7237.579372000035,
          7064.0943603897695,
          6929.642379959395,
          6856.011661954498,
          6775.9143258307895,
          6711.501226283055,
          6677.390675508949,
          6620.251440383846,
          6560.95719978881,
          6500.943401334095,
          6438.184495912877,
          6375.063409697789,
          6319.514234978756,
          6273.12752278348,
          6210.263205352698,
          6154.427002354058,
          6099.062204580286,
          6037.443775292307,
          5983.417753375521,
          5929.301199918542,
          5873.203909103003,
          5825.673978695203,
          5776.036549051749,
          5725.392281262698,
          5674.370140714115,
          5623.451931075207,
          5573.008630086802
         ],
         "yaxis": "y2"
        },
        {
         "legendgroup": "Detection Only",
         "line": {
          "color": "green",
          "width": 2
         },
         "mode": "lines",
         "name": "<b>Detection Only</b><br>contact_rate: 0.029<br>rr_infection_latent: 0.144<br>rr_infection_recovered: 0.18<br>progression_multiplier: 0.868<br>smear_positive_death_rate: 0.404<br>smear_negative_death_rate: 0.025<br>smear_positive_self_recovery: 0.205<br>smear_negative_self_recovery: 0.199<br>screening_scaleup_shape: 0.459<br>screening_inflection_time: 2001.963<br>time_to_screening_end_asymp: 3.299<br>detection_reduction: 0.553<br>notif_dispersion: 12253.415<br>prev_dispersion: 45.687<br>loglike: -31.281",
         "showlegend": false,
         "type": "scatter",
         "x": [
          2020,
          2021,
          2022,
          2023,
          2024,
          2025,
          2026,
          2027,
          2028,
          2029,
          2030,
          2031,
          2032,
          2033,
          2034,
          2035,
          2036,
          2037,
          2038,
          2039,
          2040,
          2041,
          2042,
          2043,
          2044,
          2045,
          2046,
          2047,
          2048,
          2049,
          2050
         ],
         "xaxis": "x2",
         "y": [
          34474.25679854433,
          36600.20532659409,
          38991.860400195466,
          38132.52916859585,
          38084.53607549141,
          38131.23335263345,
          37973.86308099771,
          38246.68421421413,
          38526.83930537819,
          38830.19568203986,
          39591.74868283569,
          40228.356968024964,
          40825.137709767354,
          41406.94325189564,
          41962.75784949937,
          42494.59081672067,
          43056.70219680714,
          43722.61024701846,
          44287.674438225375,
          44858.046092616394,
          45429.65173290233,
          45926.70196318979,
          46442.747263398924,
          46957.0637639384,
          47431.746341978906,
          47958.99051612696,
          48479.94643825774,
          48980.61953444476,
          49454.82807329155,
          49906.20792838292,
          50333.43271805032
         ],
         "yaxis": "y2"
        }
       ],
       "layout": {
        "annotations": [
         {
          "font": {
           "size": 16
          },
          "showarrow": false,
          "text": "Incidence (Raw)",
          "x": 0.225,
          "xanchor": "center",
          "xref": "paper",
          "y": 1,
          "yanchor": "bottom",
          "yref": "paper"
         },
         {
          "font": {
           "size": 16
          },
          "showarrow": false,
          "text": "Mortality (Raw)",
          "x": 0.775,
          "xanchor": "center",
          "xref": "paper",
          "y": 1,
          "yanchor": "bottom",
          "yref": "paper"
         }
        ],
        "height": 800,
        "legend": {
         "font": {
          "size": 10
         },
         "itemwidth": 200,
         "orientation": "h",
         "title": {
          "text": "Scenario<br><span style='font-size:12px'>Grouped by scenario with parameter sets in columns</span>"
         },
         "traceorder": "normal",
         "x": 0.5,
         "xanchor": "center",
         "y": -0.5
        },
        "showlegend": true,
        "template": {
         "data": {
          "bar": [
           {
            "error_x": {
             "color": "#2a3f5f"
            },
            "error_y": {
             "color": "#2a3f5f"
            },
            "marker": {
             "line": {
              "color": "white",
              "width": 0.5
             },
             "pattern": {
              "fillmode": "overlay",
              "size": 10,
              "solidity": 0.2
             }
            },
            "type": "bar"
           }
          ],
          "barpolar": [
           {
            "marker": {
             "line": {
              "color": "white",
              "width": 0.5
             },
             "pattern": {
              "fillmode": "overlay",
              "size": 10,
              "solidity": 0.2
             }
            },
            "type": "barpolar"
           }
          ],
          "carpet": [
           {
            "aaxis": {
             "endlinecolor": "#2a3f5f",
             "gridcolor": "#C8D4E3",
             "linecolor": "#C8D4E3",
             "minorgridcolor": "#C8D4E3",
             "startlinecolor": "#2a3f5f"
            },
            "baxis": {
             "endlinecolor": "#2a3f5f",
             "gridcolor": "#C8D4E3",
             "linecolor": "#C8D4E3",
             "minorgridcolor": "#C8D4E3",
             "startlinecolor": "#2a3f5f"
            },
            "type": "carpet"
           }
          ],
          "choropleth": [
           {
            "colorbar": {
             "outlinewidth": 0,
             "ticks": ""
            },
            "type": "choropleth"
           }
          ],
          "contour": [
           {
            "colorbar": {
             "outlinewidth": 0,
             "ticks": ""
            },
            "colorscale": [
             [
              0,
              "#0d0887"
             ],
             [
              0.1111111111111111,
              "#46039f"
             ],
             [
              0.2222222222222222,
              "#7201a8"
             ],
             [
              0.3333333333333333,
              "#9c179e"
             ],
             [
              0.4444444444444444,
              "#bd3786"
             ],
             [
              0.5555555555555556,
              "#d8576b"
             ],
             [
              0.6666666666666666,
              "#ed7953"
             ],
             [
              0.7777777777777778,
              "#fb9f3a"
             ],
             [
              0.8888888888888888,
              "#fdca26"
             ],
             [
              1,
              "#f0f921"
             ]
            ],
            "type": "contour"
           }
          ],
          "contourcarpet": [
           {
            "colorbar": {
             "outlinewidth": 0,
             "ticks": ""
            },
            "type": "contourcarpet"
           }
          ],
          "heatmap": [
           {
            "colorbar": {
             "outlinewidth": 0,
             "ticks": ""
            },
            "colorscale": [
             [
              0,
              "#0d0887"
             ],
             [
              0.1111111111111111,
              "#46039f"
             ],
             [
              0.2222222222222222,
              "#7201a8"
             ],
             [
              0.3333333333333333,
              "#9c179e"
             ],
             [
              0.4444444444444444,
              "#bd3786"
             ],
             [
              0.5555555555555556,
              "#d8576b"
             ],
             [
              0.6666666666666666,
              "#ed7953"
             ],
             [
              0.7777777777777778,
              "#fb9f3a"
             ],
             [
              0.8888888888888888,
              "#fdca26"
             ],
             [
              1,
              "#f0f921"
             ]
            ],
            "type": "heatmap"
           }
          ],
          "heatmapgl": [
           {
            "colorbar": {
             "outlinewidth": 0,
             "ticks": ""
            },
            "colorscale": [
             [
              0,
              "#0d0887"
             ],
             [
              0.1111111111111111,
              "#46039f"
             ],
             [
              0.2222222222222222,
              "#7201a8"
             ],
             [
              0.3333333333333333,
              "#9c179e"
             ],
             [
              0.4444444444444444,
              "#bd3786"
             ],
             [
              0.5555555555555556,
              "#d8576b"
             ],
             [
              0.6666666666666666,
              "#ed7953"
             ],
             [
              0.7777777777777778,
              "#fb9f3a"
             ],
             [
              0.8888888888888888,
              "#fdca26"
             ],
             [
              1,
              "#f0f921"
             ]
            ],
            "type": "heatmapgl"
           }
          ],
          "histogram": [
           {
            "marker": {
             "pattern": {
              "fillmode": "overlay",
              "size": 10,
              "solidity": 0.2
             }
            },
            "type": "histogram"
           }
          ],
          "histogram2d": [
           {
            "colorbar": {
             "outlinewidth": 0,
             "ticks": ""
            },
            "colorscale": [
             [
              0,
              "#0d0887"
             ],
             [
              0.1111111111111111,
              "#46039f"
             ],
             [
              0.2222222222222222,
              "#7201a8"
             ],
             [
              0.3333333333333333,
              "#9c179e"
             ],
             [
              0.4444444444444444,
              "#bd3786"
             ],
             [
              0.5555555555555556,
              "#d8576b"
             ],
             [
              0.6666666666666666,
              "#ed7953"
             ],
             [
              0.7777777777777778,
              "#fb9f3a"
             ],
             [
              0.8888888888888888,
              "#fdca26"
             ],
             [
              1,
              "#f0f921"
             ]
            ],
            "type": "histogram2d"
           }
          ],
          "histogram2dcontour": [
           {
            "colorbar": {
             "outlinewidth": 0,
             "ticks": ""
            },
            "colorscale": [
             [
              0,
              "#0d0887"
             ],
             [
              0.1111111111111111,
              "#46039f"
             ],
             [
              0.2222222222222222,
              "#7201a8"
             ],
             [
              0.3333333333333333,
              "#9c179e"
             ],
             [
              0.4444444444444444,
              "#bd3786"
             ],
             [
              0.5555555555555556,
              "#d8576b"
             ],
             [
              0.6666666666666666,
              "#ed7953"
             ],
             [
              0.7777777777777778,
              "#fb9f3a"
             ],
             [
              0.8888888888888888,
              "#fdca26"
             ],
             [
              1,
              "#f0f921"
             ]
            ],
            "type": "histogram2dcontour"
           }
          ],
          "mesh3d": [
           {
            "colorbar": {
             "outlinewidth": 0,
             "ticks": ""
            },
            "type": "mesh3d"
           }
          ],
          "parcoords": [
           {
            "line": {
             "colorbar": {
              "outlinewidth": 0,
              "ticks": ""
             }
            },
            "type": "parcoords"
           }
          ],
          "pie": [
           {
            "automargin": true,
            "type": "pie"
           }
          ],
          "scatter": [
           {
            "fillpattern": {
             "fillmode": "overlay",
             "size": 10,
             "solidity": 0.2
            },
            "type": "scatter"
           }
          ],
          "scatter3d": [
           {
            "line": {
             "colorbar": {
              "outlinewidth": 0,
              "ticks": ""
             }
            },
            "marker": {
             "colorbar": {
              "outlinewidth": 0,
              "ticks": ""
             }
            },
            "type": "scatter3d"
           }
          ],
          "scattercarpet": [
           {
            "marker": {
             "colorbar": {
              "outlinewidth": 0,
              "ticks": ""
             }
            },
            "type": "scattercarpet"
           }
          ],
          "scattergeo": [
           {
            "marker": {
             "colorbar": {
              "outlinewidth": 0,
              "ticks": ""
             }
            },
            "type": "scattergeo"
           }
          ],
          "scattergl": [
           {
            "marker": {
             "colorbar": {
              "outlinewidth": 0,
              "ticks": ""
             }
            },
            "type": "scattergl"
           }
          ],
          "scattermapbox": [
           {
            "marker": {
             "colorbar": {
              "outlinewidth": 0,
              "ticks": ""
             }
            },
            "type": "scattermapbox"
           }
          ],
          "scatterpolar": [
           {
            "marker": {
             "colorbar": {
              "outlinewidth": 0,
              "ticks": ""
             }
            },
            "type": "scatterpolar"
           }
          ],
          "scatterpolargl": [
           {
            "marker": {
             "colorbar": {
              "outlinewidth": 0,
              "ticks": ""
             }
            },
            "type": "scatterpolargl"
           }
          ],
          "scatterternary": [
           {
            "marker": {
             "colorbar": {
              "outlinewidth": 0,
              "ticks": ""
             }
            },
            "type": "scatterternary"
           }
          ],
          "surface": [
           {
            "colorbar": {
             "outlinewidth": 0,
             "ticks": ""
            },
            "colorscale": [
             [
              0,
              "#0d0887"
             ],
             [
              0.1111111111111111,
              "#46039f"
             ],
             [
              0.2222222222222222,
              "#7201a8"
             ],
             [
              0.3333333333333333,
              "#9c179e"
             ],
             [
              0.4444444444444444,
              "#bd3786"
             ],
             [
              0.5555555555555556,
              "#d8576b"
             ],
             [
              0.6666666666666666,
              "#ed7953"
             ],
             [
              0.7777777777777778,
              "#fb9f3a"
             ],
             [
              0.8888888888888888,
              "#fdca26"
             ],
             [
              1,
              "#f0f921"
             ]
            ],
            "type": "surface"
           }
          ],
          "table": [
           {
            "cells": {
             "fill": {
              "color": "#EBF0F8"
             },
             "line": {
              "color": "white"
             }
            },
            "header": {
             "fill": {
              "color": "#C8D4E3"
             },
             "line": {
              "color": "white"
             }
            },
            "type": "table"
           }
          ]
         },
         "layout": {
          "annotationdefaults": {
           "arrowcolor": "#2a3f5f",
           "arrowhead": 0,
           "arrowwidth": 1
          },
          "autotypenumbers": "strict",
          "coloraxis": {
           "colorbar": {
            "outlinewidth": 0,
            "ticks": ""
           }
          },
          "colorscale": {
           "diverging": [
            [
             0,
             "#8e0152"
            ],
            [
             0.1,
             "#c51b7d"
            ],
            [
             0.2,
             "#de77ae"
            ],
            [
             0.3,
             "#f1b6da"
            ],
            [
             0.4,
             "#fde0ef"
            ],
            [
             0.5,
             "#f7f7f7"
            ],
            [
             0.6,
             "#e6f5d0"
            ],
            [
             0.7,
             "#b8e186"
            ],
            [
             0.8,
             "#7fbc41"
            ],
            [
             0.9,
             "#4d9221"
            ],
            [
             1,
             "#276419"
            ]
           ],
           "sequential": [
            [
             0,
             "#0d0887"
            ],
            [
             0.1111111111111111,
             "#46039f"
            ],
            [
             0.2222222222222222,
             "#7201a8"
            ],
            [
             0.3333333333333333,
             "#9c179e"
            ],
            [
             0.4444444444444444,
             "#bd3786"
            ],
            [
             0.5555555555555556,
             "#d8576b"
            ],
            [
             0.6666666666666666,
             "#ed7953"
            ],
            [
             0.7777777777777778,
             "#fb9f3a"
            ],
            [
             0.8888888888888888,
             "#fdca26"
            ],
            [
             1,
             "#f0f921"
            ]
           ],
           "sequentialminus": [
            [
             0,
             "#0d0887"
            ],
            [
             0.1111111111111111,
             "#46039f"
            ],
            [
             0.2222222222222222,
             "#7201a8"
            ],
            [
             0.3333333333333333,
             "#9c179e"
            ],
            [
             0.4444444444444444,
             "#bd3786"
            ],
            [
             0.5555555555555556,
             "#d8576b"
            ],
            [
             0.6666666666666666,
             "#ed7953"
            ],
            [
             0.7777777777777778,
             "#fb9f3a"
            ],
            [
             0.8888888888888888,
             "#fdca26"
            ],
            [
             1,
             "#f0f921"
            ]
           ]
          },
          "colorway": [
           "#636efa",
           "#EF553B",
           "#00cc96",
           "#ab63fa",
           "#FFA15A",
           "#19d3f3",
           "#FF6692",
           "#B6E880",
           "#FF97FF",
           "#FECB52"
          ],
          "font": {
           "color": "#2a3f5f"
          },
          "geo": {
           "bgcolor": "white",
           "lakecolor": "white",
           "landcolor": "white",
           "showlakes": true,
           "showland": true,
           "subunitcolor": "#C8D4E3"
          },
          "hoverlabel": {
           "align": "left"
          },
          "hovermode": "closest",
          "mapbox": {
           "style": "light"
          },
          "paper_bgcolor": "white",
          "plot_bgcolor": "white",
          "polar": {
           "angularaxis": {
            "gridcolor": "#EBF0F8",
            "linecolor": "#EBF0F8",
            "ticks": ""
           },
           "bgcolor": "white",
           "radialaxis": {
            "gridcolor": "#EBF0F8",
            "linecolor": "#EBF0F8",
            "ticks": ""
           }
          },
          "scene": {
           "xaxis": {
            "backgroundcolor": "white",
            "gridcolor": "#DFE8F3",
            "gridwidth": 2,
            "linecolor": "#EBF0F8",
            "showbackground": true,
            "ticks": "",
            "zerolinecolor": "#EBF0F8"
           },
           "yaxis": {
            "backgroundcolor": "white",
            "gridcolor": "#DFE8F3",
            "gridwidth": 2,
            "linecolor": "#EBF0F8",
            "showbackground": true,
            "ticks": "",
            "zerolinecolor": "#EBF0F8"
           },
           "zaxis": {
            "backgroundcolor": "white",
            "gridcolor": "#DFE8F3",
            "gridwidth": 2,
            "linecolor": "#EBF0F8",
            "showbackground": true,
            "ticks": "",
            "zerolinecolor": "#EBF0F8"
           }
          },
          "shapedefaults": {
           "line": {
            "color": "#2a3f5f"
           }
          },
          "ternary": {
           "aaxis": {
            "gridcolor": "#DFE8F3",
            "linecolor": "#A2B1C6",
            "ticks": ""
           },
           "baxis": {
            "gridcolor": "#DFE8F3",
            "linecolor": "#A2B1C6",
            "ticks": ""
           },
           "bgcolor": "white",
           "caxis": {
            "gridcolor": "#DFE8F3",
            "linecolor": "#A2B1C6",
            "ticks": ""
           }
          },
          "title": {
           "x": 0.05
          },
          "xaxis": {
           "automargin": true,
           "gridcolor": "#EBF0F8",
           "linecolor": "#EBF0F8",
           "ticks": "",
           "title": {
            "standoff": 15
           },
           "zerolinecolor": "#EBF0F8",
           "zerolinewidth": 2
          },
          "yaxis": {
           "automargin": true,
           "gridcolor": "#EBF0F8",
           "linecolor": "#EBF0F8",
           "ticks": "",
           "title": {
            "standoff": 15
           },
           "zerolinecolor": "#EBF0F8",
           "zerolinewidth": 2
          }
         }
        },
        "title": {
         "text": "COVID Scenario Raw Results: Diseased and Deaths"
        },
        "xaxis": {
         "anchor": "y",
         "domain": [
          0,
          0.45
         ],
         "title": {
          "text": "Year"
         }
        },
        "xaxis2": {
         "anchor": "y2",
         "domain": [
          0.55,
          1
         ],
         "title": {
          "text": "Year"
         }
        },
        "yaxis": {
         "anchor": "x",
         "domain": [
          0,
          1
         ],
         "title": {
          "text": "Incidence raw (Raw)"
         }
        },
        "yaxis2": {
         "anchor": "x2",
         "domain": [
          0,
          1
         ],
         "title": {
          "text": "Mortality raw (Raw)"
         }
        }
       }
      }
     },
     "metadata": {},
     "output_type": "display_data"
    }
   ],
   "source": [
    "plot_raw(covid_diff, idata)"
   ]
  },
  {
   "cell_type": "code",
   "execution_count": 117,
   "metadata": {},
   "outputs": [],
   "source": [
    "def plot_cumulative(results: Dict[str, Dict[str, pd.DataFrame]], idata: az.InferenceData):\n",
    "    \"\"\"\n",
    "    Plot the raw results for cumulative diseased and cumulative deaths for each scenario,\n",
    "    with parameter set details from `idata`. Only the first unique minimum and maximum \n",
    "    values are used if there are duplicates. The legend is grouped by scenario name, \n",
    "    with each parameter set in columns under each scenario.\n",
    "\n",
    "    Args:\n",
    "        results: Dictionary containing raw data for cumulative diseased and deaths for each scenario.\n",
    "        idata: InferenceData object containing the posterior parameter values.\n",
    "    \"\"\"\n",
    "    scenario_results = results[\"scenario_results\"]\n",
    "    indicators = [\"cumulative_diseased_yearly\", \"cumulative_deaths_yearly\"]\n",
    "    posterior_samples = idata.posterior\n",
    "\n",
    "    # Create subplots for raw results\n",
    "    fig = make_subplots(\n",
    "        rows=1, cols=2,\n",
    "        subplot_titles=[\"Incidence (Raw)\", \"Mortality (Raw)\"]\n",
    "    )\n",
    "\n",
    "    for idx, indicator in enumerate(indicators, start=1):\n",
    "        raw_df_no_covid = scenario_results[\"no_covid\"][indicator]\n",
    "        raw_df_detection = scenario_results[\"detection\"][indicator]\n",
    "\n",
    "        # Get only the first occurrence of the min and max columns for each scenario\n",
    "        min_col_no_covid = raw_df_no_covid.iloc[-1].idxmin()\n",
    "        max_col_no_covid = raw_df_no_covid.iloc[-1].idxmax()\n",
    "        \n",
    "        min_col_detection = raw_df_detection.iloc[-1].idxmin()\n",
    "        max_col_detection = raw_df_detection.iloc[-1].idxmax()\n",
    "\n",
    "        # Plot the first unique min and max for No COVID scenario\n",
    "        for i, col in enumerate([min_col_no_covid, max_col_no_covid]):\n",
    "            sample_idx = int(col)\n",
    "            param_info = posterior_samples.isel(sample=sample_idx)\n",
    "            legend_label = \"<br>\".join(\n",
    "                f\"{param}: {round(float(value.values), 3)}\"\n",
    "                for param, value in param_info.items()\n",
    "            )\n",
    "            fig.add_trace(\n",
    "                go.Scatter(\n",
    "                    x=raw_df_no_covid.index,\n",
    "                    y=raw_df_no_covid[col],\n",
    "                    mode='lines',\n",
    "                    name=f\"<b>No COVID</b><br>{legend_label}\",\n",
    "                    legendgroup=\"No COVID\",\n",
    "                    showlegend=(i == 0),\n",
    "                    line=dict(color='blue', width=2)\n",
    "                ),\n",
    "                row=1,\n",
    "                col=idx\n",
    "            )\n",
    "\n",
    "        # Plot the first unique min and max for Detection Only scenario\n",
    "        for i, col in enumerate([min_col_detection, max_col_detection]):\n",
    "            sample_idx = int(col)\n",
    "            param_info = posterior_samples.isel(sample=sample_idx)\n",
    "            legend_label = \"<br>\".join(\n",
    "                f\"{param}: {round(float(value.values), 3)}\"\n",
    "                for param, value in param_info.items()\n",
    "            )\n",
    "            fig.add_trace(\n",
    "                go.Scatter(\n",
    "                    x=raw_df_detection.index,\n",
    "                    y=raw_df_detection[col],\n",
    "                    mode='lines',\n",
    "                    name=f\"<b>Detection Only</b><br>{legend_label}\",\n",
    "                    legendgroup=\"Detection Only\",\n",
    "                    showlegend=(i == 0),\n",
    "                    line=dict(color='green', width=2)\n",
    "                ),\n",
    "                row=1,\n",
    "                col=idx\n",
    "            )\n",
    "\n",
    "    # Customize axes\n",
    "    for i in range(1, 3):\n",
    "        fig.update_xaxes(title_text=\"Year\", row=1, col=i)\n",
    "        fig.update_yaxes(title_text=f\"{indicators[i-1].replace('_', ' ').capitalize()} (Cumulative)\", row=1, col=i)\n",
    "\n",
    "    # Update layout with a structured legend, grouping by scenario name\n",
    "    fig.update_layout(\n",
    "        title=\"COVID Scenario Raw Results: Cumulative Diseased and Deaths\",\n",
    "        showlegend=True,\n",
    "        legend=dict(\n",
    "            title_text=\"Scenario<br><span style='font-size:12px'>Grouped by scenario with parameter sets in columns</span>\",\n",
    "            orientation=\"h\",\n",
    "            x=0.5,\n",
    "            y=-0.5,\n",
    "            xanchor=\"center\",\n",
    "            font=dict(size=10),\n",
    "            traceorder=\"normal\",\n",
    "            itemwidth=200\n",
    "        ),\n",
    "        height=800,\n",
    "        template=\"plotly_white\"\n",
    "    )\n",
    "\n",
    "    fig.show()\n"
   ]
  },
  {
   "cell_type": "code",
   "execution_count": 118,
   "metadata": {},
   "outputs": [
    {
     "data": {
      "application/vnd.plotly.v1+json": {
       "config": {
        "plotlyServerURL": "https://plot.ly"
       },
       "data": [
        {
         "legendgroup": "No COVID",
         "line": {
          "color": "blue",
          "width": 2
         },
         "mode": "lines",
         "name": "<b>No COVID</b><br>contact_rate: 0.016<br>rr_infection_latent: 0.244<br>rr_infection_recovered: 0.271<br>progression_multiplier: 1.054<br>smear_positive_death_rate: 0.392<br>smear_negative_death_rate: 0.024<br>smear_positive_self_recovery: 0.242<br>smear_negative_self_recovery: 0.123<br>screening_scaleup_shape: 0.261<br>screening_inflection_time: 2004.742<br>time_to_screening_end_asymp: 0.786<br>detection_reduction: 0.438<br>notif_dispersion: 8226.006<br>prev_dispersion: 68.635<br>loglike: -29.355",
         "showlegend": true,
         "type": "scatter",
         "x": [
          2020,
          2021,
          2022,
          2023,
          2024,
          2025,
          2026,
          2027,
          2028,
          2029,
          2030,
          2031,
          2032,
          2033,
          2034,
          2035,
          2036,
          2037,
          2038,
          2039,
          2040,
          2041,
          2042,
          2043,
          2044,
          2045,
          2046,
          2047,
          2048,
          2049,
          2050
         ],
         "xaxis": "x",
         "y": [
          103100.83083341774,
          206609.07558023525,
          308556.80456088815,
          409891.1945201897,
          510950.96427400125,
          610051.0145433177,
          708515.5145645263,
          806416.6280834215,
          902869.8663217721,
          999407.677216095,
          1095280.5745665852,
          1190372.343722958,
          1284702.330362575,
          1378226.592595402,
          1470910.44894406,
          1562757.564551847,
          1654071.7161258026,
          1744624.3897569515,
          1834355.170031132,
          1923407.6046996128,
          2011636.7032053804,
          2099091.634951143,
          2185867.612423121,
          2271863.7831880525,
          2357198.8833197164,
          2441912.5746712065,
          2525964.149616421,
          2609334.08119446,
          2692030.2738797935,
          2774049.441061511,
          2855396.846323625
         ],
         "yaxis": "y"
        },
        {
         "legendgroup": "No COVID",
         "line": {
          "color": "blue",
          "width": 2
         },
         "mode": "lines",
         "name": "<b>No COVID</b><br>contact_rate: 0.039<br>rr_infection_latent: 0.059<br>rr_infection_recovered: 0.154<br>progression_multiplier: 0.888<br>smear_positive_death_rate: 0.394<br>smear_negative_death_rate: 0.029<br>smear_positive_self_recovery: 0.189<br>smear_negative_self_recovery: 0.184<br>screening_scaleup_shape: 0.373<br>screening_inflection_time: 1996.011<br>time_to_screening_end_asymp: 2.702<br>detection_reduction: 0.336<br>notif_dispersion: 5781.051<br>prev_dispersion: 37.151<br>loglike: -28.301",
         "showlegend": false,
         "type": "scatter",
         "x": [
          2020,
          2021,
          2022,
          2023,
          2024,
          2025,
          2026,
          2027,
          2028,
          2029,
          2030,
          2031,
          2032,
          2033,
          2034,
          2035,
          2036,
          2037,
          2038,
          2039,
          2040,
          2041,
          2042,
          2043,
          2044,
          2045,
          2046,
          2047,
          2048,
          2049,
          2050
         ],
         "xaxis": "x",
         "y": [
          202707.51821445627,
          417663.29730728036,
          632942.7808824969,
          853620.4338533285,
          1082144.7007218692,
          1307365.7257894087,
          1538134.2983036563,
          1774419.5999946948,
          2009730.6072519922,
          2255299.8367560776,
          2505706.6109645357,
          2760059.4995542034,
          3018223.419413184,
          3279884.690354725,
          3544522.029715603,
          3811947.8345634066,
          4083496.522055111,
          4358139.307583348,
          4635125.154404324,
          4914912.189915991,
          5196667.7789115235,
          5480256.741929225,
          5766088.804166362,
          6053644.983483001,
          6343289.709843945,
          6635256.560480068,
          6929267.114855698,
          7225012.9164471645,
          7522442.358277923,
          7821382.215431315,
          8121803.243747632
         ],
         "yaxis": "y"
        },
        {
         "legendgroup": "Detection Only",
         "line": {
          "color": "green",
          "width": 2
         },
         "mode": "lines",
         "name": "<b>Detection Only</b><br>contact_rate: 0.016<br>rr_infection_latent: 0.244<br>rr_infection_recovered: 0.271<br>progression_multiplier: 1.054<br>smear_positive_death_rate: 0.392<br>smear_negative_death_rate: 0.024<br>smear_positive_self_recovery: 0.242<br>smear_negative_self_recovery: 0.123<br>screening_scaleup_shape: 0.261<br>screening_inflection_time: 2004.742<br>time_to_screening_end_asymp: 0.786<br>detection_reduction: 0.438<br>notif_dispersion: 8226.006<br>prev_dispersion: 68.635<br>loglike: -29.355",
         "showlegend": true,
         "type": "scatter",
         "x": [
          2020,
          2021,
          2022,
          2023,
          2024,
          2025,
          2026,
          2027,
          2028,
          2029,
          2030,
          2031,
          2032,
          2033,
          2034,
          2035,
          2036,
          2037,
          2038,
          2039,
          2040,
          2041,
          2042,
          2043,
          2044,
          2045,
          2046,
          2047,
          2048,
          2049,
          2050
         ],
         "xaxis": "x",
         "y": [
          103101.62506406251,
          208952.00462308852,
          316356.50117349613,
          420377.5983518924,
          522796.476235439,
          622653.4873889663,
          721610.6070985085,
          819870.7265708081,
          916603.4335837275,
          1013375.831187005,
          1109451.4112211394,
          1204723.944786559,
          1299220.9617684716,
          1392900.3278570666,
          1485731.6111166736,
          1577719.3500279766,
          1669168.1991232412,
          1759853.3582524145,
          1849713.9519384697,
          1938894.114732765,
          2027249.221949727,
          2114828.0458588847,
          2201725.8888957626,
          2287842.051515893,
          2373295.4361050515,
          2458126.028209097,
          2542293.5766360527,
          2625778.563069315,
          2708588.4067128366,
          2790720.5536547834,
          2872178.760666478
         ],
         "yaxis": "y"
        },
        {
         "legendgroup": "Detection Only",
         "line": {
          "color": "green",
          "width": 2
         },
         "mode": "lines",
         "name": "<b>Detection Only</b><br>contact_rate: 0.039<br>rr_infection_latent: 0.059<br>rr_infection_recovered: 0.154<br>progression_multiplier: 0.888<br>smear_positive_death_rate: 0.394<br>smear_negative_death_rate: 0.029<br>smear_positive_self_recovery: 0.189<br>smear_negative_self_recovery: 0.184<br>screening_scaleup_shape: 0.373<br>screening_inflection_time: 1996.011<br>time_to_screening_end_asymp: 2.702<br>detection_reduction: 0.336<br>notif_dispersion: 5781.051<br>prev_dispersion: 37.151<br>loglike: -28.301",
         "showlegend": false,
         "type": "scatter",
         "x": [
          2020,
          2021,
          2022,
          2023,
          2024,
          2025,
          2026,
          2027,
          2028,
          2029,
          2030,
          2031,
          2032,
          2033,
          2034,
          2035,
          2036,
          2037,
          2038,
          2039,
          2040,
          2041,
          2042,
          2043,
          2044,
          2045,
          2046,
          2047,
          2048,
          2049,
          2050
         ],
         "xaxis": "x",
         "y": [
          202708.5498227487,
          420810.8396831484,
          644757.8872457503,
          872199.9070022504,
          1105897.9652230996,
          1334854.967139613,
          1568450.7748880954,
          1806841.1256880069,
          2043609.2205783592,
          2290145.69888508,
          2541114.4472275265,
          2795671.2672179746,
          3053822.8679630514,
          3315203.2523329398,
          3579364.0112673715,
          3846133.875496996,
          4116839.458435457,
          4390656.745019477,
          4666733.403467958,
          4945642.5504606925,
          5226538.136060861,
          5509326.19082918,
          5794416.111956501,
          6081206.363737287,
          6370081.891811146,
          6661356.515314764,
          6954636.125164609,
          7249795.016145907,
          7546691.594330496,
          7845223.7979142675,
          8145308.189187609
         ],
         "yaxis": "y"
        },
        {
         "legendgroup": "No COVID",
         "line": {
          "color": "blue",
          "width": 2
         },
         "mode": "lines",
         "name": "<b>No COVID</b><br>contact_rate: 0.017<br>rr_infection_latent: 0.23<br>rr_infection_recovered: 0.201<br>progression_multiplier: 1.197<br>smear_positive_death_rate: 0.387<br>smear_negative_death_rate: 0.027<br>smear_positive_self_recovery: 0.25<br>smear_negative_self_recovery: 0.13<br>screening_scaleup_shape: 0.162<br>screening_inflection_time: 2003.896<br>time_to_screening_end_asymp: 0.612<br>detection_reduction: 0.492<br>notif_dispersion: 5741.993<br>prev_dispersion: 68.634<br>loglike: -28.834",
         "showlegend": true,
         "type": "scatter",
         "x": [
          2020,
          2021,
          2022,
          2023,
          2024,
          2025,
          2026,
          2027,
          2028,
          2029,
          2030,
          2031,
          2032,
          2033,
          2034,
          2035,
          2036,
          2037,
          2038,
          2039,
          2040,
          2041,
          2042,
          2043,
          2044,
          2045,
          2046,
          2047,
          2048,
          2049,
          2050
         ],
         "xaxis": "x2",
         "y": [
          7279.42175026562,
          14494.638261305096,
          21689.332976030433,
          28780.291717490032,
          35827.97913165959,
          42797.24983306548,
          49670.53854282512,
          56487.80554081345,
          63234.75423804034,
          69922.53480547306,
          76579.79999424332,
          83182.26938182,
          89727.25663324332,
          96213.22758960808,
          102637.33065948331,
          108998.68646263218,
          115305.29032612889,
          121565.89027906423,
          127763.96991935186,
          133906.4596829379,
          139993.77735571584,
          146019.56542371275,
          151991.35141770987,
          157909.1213295388,
          163770.99769643444,
          169585.41929758963,
          175350.44783059444,
          181064.99601525086,
          186728.69924824318,
          192341.651304662,
          197904.14459380528
         ],
         "yaxis": "y2"
        },
        {
         "legendgroup": "No COVID",
         "line": {
          "color": "blue",
          "width": 2
         },
         "mode": "lines",
         "name": "<b>No COVID</b><br>contact_rate: 0.039<br>rr_infection_latent: 0.059<br>rr_infection_recovered: 0.154<br>progression_multiplier: 0.888<br>smear_positive_death_rate: 0.394<br>smear_negative_death_rate: 0.029<br>smear_positive_self_recovery: 0.189<br>smear_negative_self_recovery: 0.184<br>screening_scaleup_shape: 0.373<br>screening_inflection_time: 1996.011<br>time_to_screening_end_asymp: 2.702<br>detection_reduction: 0.336<br>notif_dispersion: 5781.051<br>prev_dispersion: 37.151<br>loglike: -28.301",
         "showlegend": false,
         "type": "scatter",
         "x": [
          2020,
          2021,
          2022,
          2023,
          2024,
          2025,
          2026,
          2027,
          2028,
          2029,
          2030,
          2031,
          2032,
          2033,
          2034,
          2035,
          2036,
          2037,
          2038,
          2039,
          2040,
          2041,
          2042,
          2043,
          2044,
          2045,
          2046,
          2047,
          2048,
          2049,
          2050
         ],
         "xaxis": "x2",
         "y": [
          33513.834748763715,
          67529.38014233159,
          102952.02178600794,
          138815.41280707312,
          175552.90721378475,
          212997.929951441,
          250726.48675415452,
          289128.27749969455,
          328118.7078484307,
          367652.32093567407,
          408231.019422411,
          449645.90792205604,
          491801.64324247156,
          534633.3354313816,
          578068.980640015,
          622042.1966968604,
          666554.5336886893,
          711701.5940848246,
          757340.1322894931,
          803451.6279851682,
          850019.7629245837,
          896945.2694535101,
          944236.9592113843,
          991884.4860732598,
          1039841.0121350319,
          1088161.4639748894,
          1136840.1151787038,
          1185856.5934265328,
          1235184.5425375404,
          1284803.346051741,
          1334693.0785143487
         ],
         "yaxis": "y2"
        },
        {
         "legendgroup": "Detection Only",
         "line": {
          "color": "green",
          "width": 2
         },
         "mode": "lines",
         "name": "<b>Detection Only</b><br>contact_rate: 0.017<br>rr_infection_latent: 0.23<br>rr_infection_recovered: 0.201<br>progression_multiplier: 1.197<br>smear_positive_death_rate: 0.387<br>smear_negative_death_rate: 0.027<br>smear_positive_self_recovery: 0.25<br>smear_negative_self_recovery: 0.13<br>screening_scaleup_shape: 0.162<br>screening_inflection_time: 2003.896<br>time_to_screening_end_asymp: 0.612<br>detection_reduction: 0.492<br>notif_dispersion: 5741.993<br>prev_dispersion: 68.634<br>loglike: -28.834",
         "showlegend": true,
         "type": "scatter",
         "x": [
          2020,
          2021,
          2022,
          2023,
          2024,
          2025,
          2026,
          2027,
          2028,
          2029,
          2030,
          2031,
          2032,
          2033,
          2034,
          2035,
          2036,
          2037,
          2038,
          2039,
          2040,
          2041,
          2042,
          2043,
          2044,
          2045,
          2046,
          2047,
          2048,
          2049,
          2050
         ],
         "xaxis": "x2",
         "y": [
          7279.618934298139,
          16179.816965613903,
          24975.010247364244,
          32534.3966210174,
          39771.97599301743,
          46836.0703534072,
          53765.7127333666,
          60621.7243953211,
          67397.63872115189,
          74109.13994743495,
          80786.5306229439,
          87406.78206332774,
          93967.73926311656,
          100468.68266445065,
          106906.86716036353,
          113281.93057006132,
          119601.44480504007,
          125874.57232782355,
          132084.83553317626,
          138239.26253553032,
          144338.3247401106,
          150375.76851540292,
          156359.18626877843,
          162288.48746869699,
          168161.6913778,
          173987.3653564952,
          179763.40190554695,
          185488.79418680965,
          191163.16432752376,
          196786.61625859895,
          202359.62488868576
         ],
         "yaxis": "y2"
        },
        {
         "legendgroup": "Detection Only",
         "line": {
          "color": "green",
          "width": 2
         },
         "mode": "lines",
         "name": "<b>Detection Only</b><br>contact_rate: 0.039<br>rr_infection_latent: 0.059<br>rr_infection_recovered: 0.154<br>progression_multiplier: 0.888<br>smear_positive_death_rate: 0.394<br>smear_negative_death_rate: 0.029<br>smear_positive_self_recovery: 0.189<br>smear_negative_self_recovery: 0.184<br>screening_scaleup_shape: 0.373<br>screening_inflection_time: 1996.011<br>time_to_screening_end_asymp: 2.702<br>detection_reduction: 0.336<br>notif_dispersion: 5781.051<br>prev_dispersion: 37.151<br>loglike: -28.301",
         "showlegend": false,
         "type": "scatter",
         "x": [
          2020,
          2021,
          2022,
          2023,
          2024,
          2025,
          2026,
          2027,
          2028,
          2029,
          2030,
          2031,
          2032,
          2033,
          2034,
          2035,
          2036,
          2037,
          2038,
          2039,
          2040,
          2041,
          2042,
          2043,
          2044,
          2045,
          2046,
          2047,
          2048,
          2049,
          2050
         ],
         "xaxis": "x2",
         "y": [
          33513.803158777926,
          68981.02059696734,
          106914.13273378243,
          144536.6154454312,
          182588.07825029982,
          221036.73462105013,
          259531.52040008397,
          298522.54892423865,
          337962.7024115906,
          377829.2558462682,
          418643.9571197714,
          460213.7886042043,
          502454.3651721685,
          545314.903131526,
          588733.4042961334,
          632653.2839983944,
          677083.6757896001,
          722124.4499523675,
          767641.794517321,
          813620.2316673204,
          860047.7593628028,
          906829.6327456122,
          953977.7196383602,
          1001486.6848661037,
          1049311.587977874,
          1097506.6311125814,
          1146069.7002405622,
          1194977.382319159,
          1244205.7937762795,
          1293733.0144771321,
          1343540.2397778737
         ],
         "yaxis": "y2"
        }
       ],
       "layout": {
        "annotations": [
         {
          "font": {
           "size": 16
          },
          "showarrow": false,
          "text": "Incidence (Raw)",
          "x": 0.225,
          "xanchor": "center",
          "xref": "paper",
          "y": 1,
          "yanchor": "bottom",
          "yref": "paper"
         },
         {
          "font": {
           "size": 16
          },
          "showarrow": false,
          "text": "Mortality (Raw)",
          "x": 0.775,
          "xanchor": "center",
          "xref": "paper",
          "y": 1,
          "yanchor": "bottom",
          "yref": "paper"
         }
        ],
        "height": 800,
        "legend": {
         "font": {
          "size": 10
         },
         "itemwidth": 200,
         "orientation": "h",
         "title": {
          "text": "Scenario<br><span style='font-size:12px'>Grouped by scenario with parameter sets in columns</span>"
         },
         "traceorder": "normal",
         "x": 0.5,
         "xanchor": "center",
         "y": -0.5
        },
        "showlegend": true,
        "template": {
         "data": {
          "bar": [
           {
            "error_x": {
             "color": "#2a3f5f"
            },
            "error_y": {
             "color": "#2a3f5f"
            },
            "marker": {
             "line": {
              "color": "white",
              "width": 0.5
             },
             "pattern": {
              "fillmode": "overlay",
              "size": 10,
              "solidity": 0.2
             }
            },
            "type": "bar"
           }
          ],
          "barpolar": [
           {
            "marker": {
             "line": {
              "color": "white",
              "width": 0.5
             },
             "pattern": {
              "fillmode": "overlay",
              "size": 10,
              "solidity": 0.2
             }
            },
            "type": "barpolar"
           }
          ],
          "carpet": [
           {
            "aaxis": {
             "endlinecolor": "#2a3f5f",
             "gridcolor": "#C8D4E3",
             "linecolor": "#C8D4E3",
             "minorgridcolor": "#C8D4E3",
             "startlinecolor": "#2a3f5f"
            },
            "baxis": {
             "endlinecolor": "#2a3f5f",
             "gridcolor": "#C8D4E3",
             "linecolor": "#C8D4E3",
             "minorgridcolor": "#C8D4E3",
             "startlinecolor": "#2a3f5f"
            },
            "type": "carpet"
           }
          ],
          "choropleth": [
           {
            "colorbar": {
             "outlinewidth": 0,
             "ticks": ""
            },
            "type": "choropleth"
           }
          ],
          "contour": [
           {
            "colorbar": {
             "outlinewidth": 0,
             "ticks": ""
            },
            "colorscale": [
             [
              0,
              "#0d0887"
             ],
             [
              0.1111111111111111,
              "#46039f"
             ],
             [
              0.2222222222222222,
              "#7201a8"
             ],
             [
              0.3333333333333333,
              "#9c179e"
             ],
             [
              0.4444444444444444,
              "#bd3786"
             ],
             [
              0.5555555555555556,
              "#d8576b"
             ],
             [
              0.6666666666666666,
              "#ed7953"
             ],
             [
              0.7777777777777778,
              "#fb9f3a"
             ],
             [
              0.8888888888888888,
              "#fdca26"
             ],
             [
              1,
              "#f0f921"
             ]
            ],
            "type": "contour"
           }
          ],
          "contourcarpet": [
           {
            "colorbar": {
             "outlinewidth": 0,
             "ticks": ""
            },
            "type": "contourcarpet"
           }
          ],
          "heatmap": [
           {
            "colorbar": {
             "outlinewidth": 0,
             "ticks": ""
            },
            "colorscale": [
             [
              0,
              "#0d0887"
             ],
             [
              0.1111111111111111,
              "#46039f"
             ],
             [
              0.2222222222222222,
              "#7201a8"
             ],
             [
              0.3333333333333333,
              "#9c179e"
             ],
             [
              0.4444444444444444,
              "#bd3786"
             ],
             [
              0.5555555555555556,
              "#d8576b"
             ],
             [
              0.6666666666666666,
              "#ed7953"
             ],
             [
              0.7777777777777778,
              "#fb9f3a"
             ],
             [
              0.8888888888888888,
              "#fdca26"
             ],
             [
              1,
              "#f0f921"
             ]
            ],
            "type": "heatmap"
           }
          ],
          "heatmapgl": [
           {
            "colorbar": {
             "outlinewidth": 0,
             "ticks": ""
            },
            "colorscale": [
             [
              0,
              "#0d0887"
             ],
             [
              0.1111111111111111,
              "#46039f"
             ],
             [
              0.2222222222222222,
              "#7201a8"
             ],
             [
              0.3333333333333333,
              "#9c179e"
             ],
             [
              0.4444444444444444,
              "#bd3786"
             ],
             [
              0.5555555555555556,
              "#d8576b"
             ],
             [
              0.6666666666666666,
              "#ed7953"
             ],
             [
              0.7777777777777778,
              "#fb9f3a"
             ],
             [
              0.8888888888888888,
              "#fdca26"
             ],
             [
              1,
              "#f0f921"
             ]
            ],
            "type": "heatmapgl"
           }
          ],
          "histogram": [
           {
            "marker": {
             "pattern": {
              "fillmode": "overlay",
              "size": 10,
              "solidity": 0.2
             }
            },
            "type": "histogram"
           }
          ],
          "histogram2d": [
           {
            "colorbar": {
             "outlinewidth": 0,
             "ticks": ""
            },
            "colorscale": [
             [
              0,
              "#0d0887"
             ],
             [
              0.1111111111111111,
              "#46039f"
             ],
             [
              0.2222222222222222,
              "#7201a8"
             ],
             [
              0.3333333333333333,
              "#9c179e"
             ],
             [
              0.4444444444444444,
              "#bd3786"
             ],
             [
              0.5555555555555556,
              "#d8576b"
             ],
             [
              0.6666666666666666,
              "#ed7953"
             ],
             [
              0.7777777777777778,
              "#fb9f3a"
             ],
             [
              0.8888888888888888,
              "#fdca26"
             ],
             [
              1,
              "#f0f921"
             ]
            ],
            "type": "histogram2d"
           }
          ],
          "histogram2dcontour": [
           {
            "colorbar": {
             "outlinewidth": 0,
             "ticks": ""
            },
            "colorscale": [
             [
              0,
              "#0d0887"
             ],
             [
              0.1111111111111111,
              "#46039f"
             ],
             [
              0.2222222222222222,
              "#7201a8"
             ],
             [
              0.3333333333333333,
              "#9c179e"
             ],
             [
              0.4444444444444444,
              "#bd3786"
             ],
             [
              0.5555555555555556,
              "#d8576b"
             ],
             [
              0.6666666666666666,
              "#ed7953"
             ],
             [
              0.7777777777777778,
              "#fb9f3a"
             ],
             [
              0.8888888888888888,
              "#fdca26"
             ],
             [
              1,
              "#f0f921"
             ]
            ],
            "type": "histogram2dcontour"
           }
          ],
          "mesh3d": [
           {
            "colorbar": {
             "outlinewidth": 0,
             "ticks": ""
            },
            "type": "mesh3d"
           }
          ],
          "parcoords": [
           {
            "line": {
             "colorbar": {
              "outlinewidth": 0,
              "ticks": ""
             }
            },
            "type": "parcoords"
           }
          ],
          "pie": [
           {
            "automargin": true,
            "type": "pie"
           }
          ],
          "scatter": [
           {
            "fillpattern": {
             "fillmode": "overlay",
             "size": 10,
             "solidity": 0.2
            },
            "type": "scatter"
           }
          ],
          "scatter3d": [
           {
            "line": {
             "colorbar": {
              "outlinewidth": 0,
              "ticks": ""
             }
            },
            "marker": {
             "colorbar": {
              "outlinewidth": 0,
              "ticks": ""
             }
            },
            "type": "scatter3d"
           }
          ],
          "scattercarpet": [
           {
            "marker": {
             "colorbar": {
              "outlinewidth": 0,
              "ticks": ""
             }
            },
            "type": "scattercarpet"
           }
          ],
          "scattergeo": [
           {
            "marker": {
             "colorbar": {
              "outlinewidth": 0,
              "ticks": ""
             }
            },
            "type": "scattergeo"
           }
          ],
          "scattergl": [
           {
            "marker": {
             "colorbar": {
              "outlinewidth": 0,
              "ticks": ""
             }
            },
            "type": "scattergl"
           }
          ],
          "scattermapbox": [
           {
            "marker": {
             "colorbar": {
              "outlinewidth": 0,
              "ticks": ""
             }
            },
            "type": "scattermapbox"
           }
          ],
          "scatterpolar": [
           {
            "marker": {
             "colorbar": {
              "outlinewidth": 0,
              "ticks": ""
             }
            },
            "type": "scatterpolar"
           }
          ],
          "scatterpolargl": [
           {
            "marker": {
             "colorbar": {
              "outlinewidth": 0,
              "ticks": ""
             }
            },
            "type": "scatterpolargl"
           }
          ],
          "scatterternary": [
           {
            "marker": {
             "colorbar": {
              "outlinewidth": 0,
              "ticks": ""
             }
            },
            "type": "scatterternary"
           }
          ],
          "surface": [
           {
            "colorbar": {
             "outlinewidth": 0,
             "ticks": ""
            },
            "colorscale": [
             [
              0,
              "#0d0887"
             ],
             [
              0.1111111111111111,
              "#46039f"
             ],
             [
              0.2222222222222222,
              "#7201a8"
             ],
             [
              0.3333333333333333,
              "#9c179e"
             ],
             [
              0.4444444444444444,
              "#bd3786"
             ],
             [
              0.5555555555555556,
              "#d8576b"
             ],
             [
              0.6666666666666666,
              "#ed7953"
             ],
             [
              0.7777777777777778,
              "#fb9f3a"
             ],
             [
              0.8888888888888888,
              "#fdca26"
             ],
             [
              1,
              "#f0f921"
             ]
            ],
            "type": "surface"
           }
          ],
          "table": [
           {
            "cells": {
             "fill": {
              "color": "#EBF0F8"
             },
             "line": {
              "color": "white"
             }
            },
            "header": {
             "fill": {
              "color": "#C8D4E3"
             },
             "line": {
              "color": "white"
             }
            },
            "type": "table"
           }
          ]
         },
         "layout": {
          "annotationdefaults": {
           "arrowcolor": "#2a3f5f",
           "arrowhead": 0,
           "arrowwidth": 1
          },
          "autotypenumbers": "strict",
          "coloraxis": {
           "colorbar": {
            "outlinewidth": 0,
            "ticks": ""
           }
          },
          "colorscale": {
           "diverging": [
            [
             0,
             "#8e0152"
            ],
            [
             0.1,
             "#c51b7d"
            ],
            [
             0.2,
             "#de77ae"
            ],
            [
             0.3,
             "#f1b6da"
            ],
            [
             0.4,
             "#fde0ef"
            ],
            [
             0.5,
             "#f7f7f7"
            ],
            [
             0.6,
             "#e6f5d0"
            ],
            [
             0.7,
             "#b8e186"
            ],
            [
             0.8,
             "#7fbc41"
            ],
            [
             0.9,
             "#4d9221"
            ],
            [
             1,
             "#276419"
            ]
           ],
           "sequential": [
            [
             0,
             "#0d0887"
            ],
            [
             0.1111111111111111,
             "#46039f"
            ],
            [
             0.2222222222222222,
             "#7201a8"
            ],
            [
             0.3333333333333333,
             "#9c179e"
            ],
            [
             0.4444444444444444,
             "#bd3786"
            ],
            [
             0.5555555555555556,
             "#d8576b"
            ],
            [
             0.6666666666666666,
             "#ed7953"
            ],
            [
             0.7777777777777778,
             "#fb9f3a"
            ],
            [
             0.8888888888888888,
             "#fdca26"
            ],
            [
             1,
             "#f0f921"
            ]
           ],
           "sequentialminus": [
            [
             0,
             "#0d0887"
            ],
            [
             0.1111111111111111,
             "#46039f"
            ],
            [
             0.2222222222222222,
             "#7201a8"
            ],
            [
             0.3333333333333333,
             "#9c179e"
            ],
            [
             0.4444444444444444,
             "#bd3786"
            ],
            [
             0.5555555555555556,
             "#d8576b"
            ],
            [
             0.6666666666666666,
             "#ed7953"
            ],
            [
             0.7777777777777778,
             "#fb9f3a"
            ],
            [
             0.8888888888888888,
             "#fdca26"
            ],
            [
             1,
             "#f0f921"
            ]
           ]
          },
          "colorway": [
           "#636efa",
           "#EF553B",
           "#00cc96",
           "#ab63fa",
           "#FFA15A",
           "#19d3f3",
           "#FF6692",
           "#B6E880",
           "#FF97FF",
           "#FECB52"
          ],
          "font": {
           "color": "#2a3f5f"
          },
          "geo": {
           "bgcolor": "white",
           "lakecolor": "white",
           "landcolor": "white",
           "showlakes": true,
           "showland": true,
           "subunitcolor": "#C8D4E3"
          },
          "hoverlabel": {
           "align": "left"
          },
          "hovermode": "closest",
          "mapbox": {
           "style": "light"
          },
          "paper_bgcolor": "white",
          "plot_bgcolor": "white",
          "polar": {
           "angularaxis": {
            "gridcolor": "#EBF0F8",
            "linecolor": "#EBF0F8",
            "ticks": ""
           },
           "bgcolor": "white",
           "radialaxis": {
            "gridcolor": "#EBF0F8",
            "linecolor": "#EBF0F8",
            "ticks": ""
           }
          },
          "scene": {
           "xaxis": {
            "backgroundcolor": "white",
            "gridcolor": "#DFE8F3",
            "gridwidth": 2,
            "linecolor": "#EBF0F8",
            "showbackground": true,
            "ticks": "",
            "zerolinecolor": "#EBF0F8"
           },
           "yaxis": {
            "backgroundcolor": "white",
            "gridcolor": "#DFE8F3",
            "gridwidth": 2,
            "linecolor": "#EBF0F8",
            "showbackground": true,
            "ticks": "",
            "zerolinecolor": "#EBF0F8"
           },
           "zaxis": {
            "backgroundcolor": "white",
            "gridcolor": "#DFE8F3",
            "gridwidth": 2,
            "linecolor": "#EBF0F8",
            "showbackground": true,
            "ticks": "",
            "zerolinecolor": "#EBF0F8"
           }
          },
          "shapedefaults": {
           "line": {
            "color": "#2a3f5f"
           }
          },
          "ternary": {
           "aaxis": {
            "gridcolor": "#DFE8F3",
            "linecolor": "#A2B1C6",
            "ticks": ""
           },
           "baxis": {
            "gridcolor": "#DFE8F3",
            "linecolor": "#A2B1C6",
            "ticks": ""
           },
           "bgcolor": "white",
           "caxis": {
            "gridcolor": "#DFE8F3",
            "linecolor": "#A2B1C6",
            "ticks": ""
           }
          },
          "title": {
           "x": 0.05
          },
          "xaxis": {
           "automargin": true,
           "gridcolor": "#EBF0F8",
           "linecolor": "#EBF0F8",
           "ticks": "",
           "title": {
            "standoff": 15
           },
           "zerolinecolor": "#EBF0F8",
           "zerolinewidth": 2
          },
          "yaxis": {
           "automargin": true,
           "gridcolor": "#EBF0F8",
           "linecolor": "#EBF0F8",
           "ticks": "",
           "title": {
            "standoff": 15
           },
           "zerolinecolor": "#EBF0F8",
           "zerolinewidth": 2
          }
         }
        },
        "title": {
         "text": "COVID Scenario Raw Results: Cumulative Diseased and Deaths"
        },
        "xaxis": {
         "anchor": "y",
         "domain": [
          0,
          0.45
         ],
         "title": {
          "text": "Year"
         }
        },
        "xaxis2": {
         "anchor": "y2",
         "domain": [
          0.55,
          1
         ],
         "title": {
          "text": "Year"
         }
        },
        "yaxis": {
         "anchor": "x",
         "domain": [
          0,
          1
         ],
         "title": {
          "text": "Cumulative diseased yearly (Cumulative)"
         }
        },
        "yaxis2": {
         "anchor": "x2",
         "domain": [
          0,
          1
         ],
         "title": {
          "text": "Cumulative deaths yearly (Cumulative)"
         }
        }
       }
      }
     },
     "metadata": {},
     "output_type": "display_data"
    }
   ],
   "source": [
    "plot_cumulative(covid_diff, idata)"
   ]
  }
 ],
 "metadata": {
  "kernelspec": {
   "display_name": "tb",
   "language": "python",
   "name": "python3"
  },
  "language_info": {
   "codemirror_mode": {
    "name": "ipython",
    "version": 3
   },
   "file_extension": ".py",
   "mimetype": "text/x-python",
   "name": "python",
   "nbconvert_exporter": "python",
   "pygments_lexer": "ipython3",
   "version": "3.10.15"
  }
 },
 "nbformat": 4,
 "nbformat_minor": 2
}
