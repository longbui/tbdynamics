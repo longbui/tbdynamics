{
 "cells": [
  {
   "cell_type": "code",
   "execution_count": null,
   "metadata": {},
   "outputs": [],
   "source": [
    "from tbdynamics.constants import covid_configs, quantiles\n",
    "from tbdynamics.calibration.utils import (\n",
    "    get_bcm,\n",
    "    load_idata,\n",
    "    load_extracted_idata,\n",
    "    extract_and_save_idata,\n",
    "    run_model_for_covid,\n",
    "    get_idata_ll,\n",
    "    calculate_waic_comparison,\n",
    ")\n",
    "from tbdynamics.inputs import BASE_PATH, DATA_PATH, load_targets\n",
    "from tbdynamics.calibration.plotting import plot_output_ranges, plot_outputs_for_covid\n",
    "from estival.sampling import tools as esamp"
   ]
  },
  {
   "cell_type": "code",
   "execution_count": 2,
   "metadata": {},
   "outputs": [],
   "source": [
    "# az.rcParams[\"stats.ic_pointwise\"] = False\n",
    "# Example usage\n",
    "RUN_PATH = BASE_PATH / 'runs/r2809'\n",
    "OUT_PATH = DATA_PATH / 'outputs'"
   ]
  },
  {
   "cell_type": "code",
   "execution_count": 3,
   "metadata": {},
   "outputs": [],
   "source": [
    "# Load inference data\n",
    "inference_data_dict = load_idata(RUN_PATH, covid_configs)\n",
    "# Extract and save the inference data\n",
    "# extract_and_save_inference_data(inference_data_dict, OUT_PATH)"
   ]
  },
  {
   "cell_type": "code",
   "execution_count": 4,
   "metadata": {},
   "outputs": [],
   "source": [
    "params = {\n",
    "    \"start_population_size\": 2000000.0,\n",
    "    \"seed_time\": 1805.0,\n",
    "    \"seed_num\": 1.0,\n",
    "    \"seed_duration\": 1.0,\n",
    "}"
   ]
  },
  {
   "cell_type": "code",
   "execution_count": 5,
   "metadata": {},
   "outputs": [],
   "source": [
    "# extracted_idata = load_extracted_idata(OUT_PATH, covid_configs)"
   ]
  },
  {
   "cell_type": "code",
   "execution_count": null,
   "metadata": {},
   "outputs": [],
   "source": [
    "# Run the model for all scenarios and extract the outputs\n",
    "covid_outputs = run_model_for_covid(params, covid_configs, OUT_PATH, quantiles)"
   ]
  },
  {
   "cell_type": "code",
   "execution_count": null,
   "metadata": {},
   "outputs": [],
   "source": [
    "calculate_waic_comparison(covid_outputs)"
   ]
  },
  {
   "cell_type": "code",
   "execution_count": 8,
   "metadata": {},
   "outputs": [],
   "source": [
    "targets = load_targets()"
   ]
  },
  {
   "cell_type": "code",
   "execution_count": null,
   "metadata": {},
   "outputs": [],
   "source": [
    "plot_output_ranges(covid_outputs['detection_and_contact']['indicator_outputs'], targets, ['notification'], 1, 2010, 2025)"
   ]
  },
  {
   "cell_type": "code",
   "execution_count": 10,
   "metadata": {},
   "outputs": [],
   "source": [
    "# plot_outputs_for_covid(covid_outputs, targets, quantiles)"
   ]
  }
 ],
 "metadata": {
  "kernelspec": {
   "display_name": "tbdyn",
   "language": "python",
   "name": "python3"
  },
  "language_info": {
   "codemirror_mode": {
    "name": "ipython",
    "version": 3
   },
   "file_extension": ".py",
   "mimetype": "text/x-python",
   "name": "python",
   "nbconvert_exporter": "python",
   "pygments_lexer": "ipython3",
   "version": "3.10.13"
  }
 },
 "nbformat": 4,
 "nbformat_minor": 2
}
