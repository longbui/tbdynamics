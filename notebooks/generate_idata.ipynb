{
 "cells": [
  {
   "cell_type": "code",
   "execution_count": null,
   "metadata": {},
   "outputs": [],
   "source": [
    "import arviz as az\n",
    "from pathlib import Path\n",
    "from tbdynamics.constants import covid_configs, quantiles\n",
    "from tbdynamics.calibration.utils import (\n",
    "    load_inference_data,\n",
    "    load_extracted_inference_data,\n",
    "    extract_and_save_inference_data,\n",
    "    run_model_for_covid,\n",
    "    calculate_waic_comparison\n",
    ")\n",
    "from pathlib import Path\n",
    "from tbdynamics.inputs import BASE_PATH,DATA_PATH"
   ]
  },
  {
   "cell_type": "code",
   "execution_count": 2,
   "metadata": {},
   "outputs": [],
   "source": [
    "# Example usage\n",
    "RUN_PATH = BASE_PATH / 'runs/r2809'\n",
    "OUT_PATH = DATA_PATH / 'outputs'"
   ]
  },
  {
   "cell_type": "code",
   "execution_count": null,
   "metadata": {},
   "outputs": [],
   "source": [
    "# Load inference data\n",
    "inference_data_dict = load_inference_data(RUN_PATH, covid_configs)\n",
    "\n",
    "# Extract and save the inference data\n",
    "extract_and_save_inference_data(inference_data_dict, OUT_PATH)"
   ]
  },
  {
   "cell_type": "code",
   "execution_count": 4,
   "metadata": {},
   "outputs": [],
   "source": [
    "params = {\n",
    "    \"start_population_size\": 2000000.0,\n",
    "    \"seed_time\": 1805.0,\n",
    "    \"seed_num\": 1.0,\n",
    "    \"seed_duration\": 1.0,\n",
    "}"
   ]
  },
  {
   "cell_type": "code",
   "execution_count": 8,
   "metadata": {},
   "outputs": [],
   "source": [
    "extracted_idata = load_extracted_inference_data(OUT_PATH, covid_configs)"
   ]
  },
  {
   "cell_type": "code",
   "execution_count": null,
   "metadata": {},
   "outputs": [],
   "source": [
    "# Run the model for all scenarios and extract the outputs\n",
    "covid_outputs = run_model_for_covid(params, covid_configs, OUT_PATH, quantiles)"
   ]
  },
  {
   "cell_type": "code",
   "execution_count": null,
   "metadata": {},
   "outputs": [],
   "source": [
    "calculate_waic_comparison(covid_outputs)"
   ]
  }
 ],
 "metadata": {
  "kernelspec": {
   "display_name": "tbdyn",
   "language": "python",
   "name": "python3"
  },
  "language_info": {
   "codemirror_mode": {
    "name": "ipython",
    "version": 3
   },
   "file_extension": ".py",
   "mimetype": "text/x-python",
   "name": "python",
   "nbconvert_exporter": "python",
   "pygments_lexer": "ipython3",
   "version": "3.10.13"
  }
 },
 "nbformat": 4,
 "nbformat_minor": 2
}
