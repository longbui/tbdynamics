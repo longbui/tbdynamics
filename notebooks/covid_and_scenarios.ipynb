{
 "cells": [
  {
   "cell_type": "code",
   "execution_count": null,
   "metadata": {},
   "outputs": [],
   "source": [
    "import warnings\n",
    "\n",
    "warnings.filterwarnings(\"ignore\")\n",
    "from pathlib import Path\n",
    "from tbdynamics.calibration.plotting import (\n",
    "    plot_covid_configs_comparison_box,\n",
    "    plot_outputs_for_covid,\n",
    "    plot_scenario_output_ranges_by_col,\n",
    "    plot_detection_scenarios_comparison_box\n",
    ")\n",
    "from tbdynamics.inputs import DATA_PATH, DOCS_PATH\n",
    "from tbdynamics.calibration.utils import get_bcm\n",
    "from tbdynamics.inputs import load_targets\n",
    "from estival.sampling import tools as esamp\n",
    "import arviz as az\n",
    "import pickle\n",
    "from typing import Dict, List\n",
    "import pandas as pd\n",
    "from tbdynamics.constants import quantiles\n"
   ]
  },
  {
   "cell_type": "code",
   "execution_count": 2,
   "metadata": {},
   "outputs": [],
   "source": [
    "OUT_PATH = Path(DATA_PATH / 'outputs')\n",
    "params = {\n",
    "    \"start_population_size\": 2000000.0,\n",
    "    \"seed_time\": 1805.0,\n",
    "    \"seed_num\": 1.0,\n",
    "    \"seed_duration\": 1.0,\n",
    "}\n",
    "idata = az.from_netcdf(OUT_PATH / 'inference_data1.nc')\n",
    "targets = load_targets()"
   ]
  },
  {
   "cell_type": "markdown",
   "metadata": {},
   "source": [
    "### Impacts of COVID-19"
   ]
  },
  {
   "cell_type": "code",
   "execution_count": null,
   "metadata": {},
   "outputs": [],
   "source": [
    "# covid_diff = calculate_covid_diff_cum_quantiles(params, idata)\n",
    "# notif_covid_outputs = calculate_notifications_for_covid(params, idata)"
   ]
  },
  {
   "cell_type": "code",
   "execution_count": 3,
   "metadata": {},
   "outputs": [],
   "source": [
    "with open(OUT_PATH /'notif_for_covid_with_ll.pkl', 'rb') as f:\n",
    "    notif_outputs = pickle.load(f)"
   ]
  },
  {
   "cell_type": "code",
   "execution_count": null,
   "metadata": {},
   "outputs": [],
   "source": [
    "notif_outputs['no_covid']['ll_res']"
   ]
  },
  {
   "cell_type": "code",
   "execution_count": 6,
   "metadata": {},
   "outputs": [],
   "source": [
    "import xarray as xr\n",
    "import arviz as az"
   ]
  },
  {
   "cell_type": "code",
   "execution_count": 7,
   "metadata": {},
   "outputs": [],
   "source": [
    "ds = xr.Dataset.from_dataframe(notif_outputs['no_covid']['ll_res'])"
   ]
  },
  {
   "cell_type": "code",
   "execution_count": 9,
   "metadata": {},
   "outputs": [],
   "source": [
    "idata = az.from_dict(\n",
    "    posterior={\"logposterior\": ds[\"logposterior\"]},\n",
    "    prior={\"logprior\": ds[\"logprior\"]},\n",
    "    log_likelihood={\"total_loglikelihood\": ds[\"loglikelihood\"]}\n",
    ")"
   ]
  },
  {
   "cell_type": "code",
   "execution_count": null,
   "metadata": {},
   "outputs": [],
   "source": [
    "idata"
   ]
  },
  {
   "cell_type": "code",
   "execution_count": null,
   "metadata": {},
   "outputs": [],
   "source": [
    "az.loo(idata)"
   ]
  },
  {
   "cell_type": "markdown",
   "metadata": {},
   "source": [
    "### Notifications under different assumption of COVID-19 assumptions"
   ]
  },
  {
   "cell_type": "code",
   "execution_count": null,
   "metadata": {},
   "outputs": [],
   "source": [
    "plot_outputs_for_covid(notif_covid_outputs,targets)"
   ]
  },
  {
   "cell_type": "markdown",
   "metadata": {},
   "source": [
    "### Long-term impacts of COVID-19"
   ]
  },
  {
   "cell_type": "code",
   "execution_count": null,
   "metadata": {},
   "outputs": [],
   "source": [
    "plot_covid_configs_comparison_box(covid_diff)"
   ]
  },
  {
   "cell_type": "markdown",
   "metadata": {},
   "source": [
    "### Future projection"
   ]
  },
  {
   "cell_type": "code",
   "execution_count": 14,
   "metadata": {},
   "outputs": [],
   "source": [
    "with open(OUT_PATH /'quant_outputs.pkl', 'rb') as f:\n",
    "    outputs = pickle.load(f)"
   ]
  },
  {
   "cell_type": "code",
   "execution_count": null,
   "metadata": {},
   "outputs": [],
   "source": [
    "plot_scenario_output_ranges_by_col(outputs)"
   ]
  },
  {
   "cell_type": "code",
   "execution_count": 11,
   "metadata": {},
   "outputs": [],
   "source": [
    "def calculate_scenario_diff_cum_quantiles(\n",
    "    params: Dict[str, float],\n",
    "    idata_extract: az.InferenceData,\n",
    "    detection_multipliers: List[float],\n",
    "    cumulative_start_time: int = 2020,\n",
    "    covid_choice: int = 2,\n",
    "    years: List[int] = [2021, 2022, 2025, 2030, 2035],\n",
    ") -> Dict[str, Dict[str, Dict[str, pd.DataFrame]]]:\n",
    "    \"\"\"\n",
    "    Calculate the cumulative incidence and deaths for each scenario with different detection multipliers,\n",
    "    compute the differences compared to a base scenario, and return quantiles for absolute and relative differences.\n",
    "\n",
    "    Args:\n",
    "        params: Dictionary containing model parameters.\n",
    "        idata_extract: InferenceData object containing the model data.\n",
    "        detection_multipliers: List of multipliers for improved detection to loop through.\n",
    "        cumulative_start_time: Year to start calculating the cumulative values.\n",
    "        scenario_choice: Integer specifying which scenario to use (1 or 2).\n",
    "        years: List of years for which to calculate the quantiles.\n",
    "\n",
    "    Returns:\n",
    "        A dictionary containing the quantiles for absolute and relative differences between scenarios.\n",
    "    \"\"\"\n",
    "\n",
    "    # Set scenario configuration based on scenario_choice\n",
    "    if covid_choice == 1:\n",
    "        covid_config = {\"detection_reduction\": True, \"contact_reduction\": True}\n",
    "    elif covid_choice == 2:\n",
    "        covid_config = {\"detection_reduction\": True, \"contact_reduction\": False}\n",
    "    else:\n",
    "        raise ValueError(\"Invalid scenario_choice. Choose 1 or 2.\")\n",
    "\n",
    "    # Base scenario (without improved detection)\n",
    "    bcm = get_bcm(params, covid_config)\n",
    "    base_results = esamp.model_results_for_samples(idata_extract, bcm).results\n",
    "\n",
    "    # Calculate cumulative sums for the base scenario\n",
    "    yearly_data_base = base_results.loc[\n",
    "        (base_results.index >= cumulative_start_time) & (base_results.index % 1 == 0)\n",
    "    ]\n",
    "    cumulative_diseased_base = yearly_data_base[\"incidence_raw\"].cumsum()\n",
    "    cumulative_deaths_base = yearly_data_base[\"mortality_raw\"].cumsum()\n",
    "\n",
    "    # Store results for each detection multiplier\n",
    "    detection_diff_results = {}\n",
    "\n",
    "    for multiplier in detection_multipliers:\n",
    "        # Improved detection scenario\n",
    "        bcm = get_bcm(params, covid_config, multiplier)\n",
    "        scenario_result = esamp.model_results_for_samples(idata_extract, bcm).results\n",
    "\n",
    "        # Calculate cumulative sums for each scenario\n",
    "        yearly_data = scenario_result.loc[\n",
    "            (scenario_result.index >= cumulative_start_time)\n",
    "            & (scenario_result.index % 1 == 0)\n",
    "        ]\n",
    "        cumulative_diseased = yearly_data[\"incidence_raw\"].cumsum()\n",
    "        cumulative_deaths = yearly_data[\"mortality_raw\"].cumsum()\n",
    "\n",
    "        # Calculate differences compared to the base scenario\n",
    "        abs_diff = {\n",
    "            \"cumulative_diseased\": cumulative_diseased - cumulative_diseased_base,\n",
    "            \"cumulative_deaths\": cumulative_deaths - cumulative_deaths_base,\n",
    "        }\n",
    "        rel_diff = {\n",
    "            \"cumulative_diseased\": abs_diff[\"cumulative_diseased\"]\n",
    "            / cumulative_diseased_base,\n",
    "            \"cumulative_deaths\": abs_diff[\"cumulative_deaths\"] / cumulative_deaths_base,\n",
    "        }\n",
    "\n",
    "        # Calculate quantiles for absolute and relative differences\n",
    "        diff_quantiles_abs = {}\n",
    "        diff_quantiles_rel = {}\n",
    "\n",
    "        for ind in [\"cumulative_diseased\", \"cumulative_deaths\"]:\n",
    "            diff_quantiles_df_abs = pd.DataFrame(\n",
    "                {\n",
    "                    quantile: [\n",
    "                        abs_diff[ind].loc[year].quantile(quantile) for year in years\n",
    "                    ]\n",
    "                    for quantile in quantiles\n",
    "                },\n",
    "                index=years,\n",
    "            )\n",
    "\n",
    "            diff_quantiles_df_rel = pd.DataFrame(\n",
    "                {\n",
    "                    quantile: [\n",
    "                        rel_diff[ind].loc[year].quantile(quantile) for year in years\n",
    "                    ]\n",
    "                    for quantile in quantiles\n",
    "                },\n",
    "                index=years,\n",
    "            )\n",
    "\n",
    "            diff_quantiles_abs[ind] = diff_quantiles_df_abs\n",
    "            diff_quantiles_rel[ind] = diff_quantiles_df_rel\n",
    "\n",
    "        # Store the quantile results\n",
    "        scenario_key = f\"increase_case_detection_by_{multiplier}\".replace(\".\", \"_\")\n",
    "        detection_diff_results[scenario_key] = {\n",
    "            \"abs\": diff_quantiles_abs,\n",
    "            \"rel\": diff_quantiles_rel,\n",
    "        }\n",
    "\n",
    "    # Return the quantiles for absolute and relative differences\n",
    "    return detection_diff_results"
   ]
  },
  {
   "cell_type": "code",
   "execution_count": 12,
   "metadata": {},
   "outputs": [],
   "source": [
    "scenarios_diff = calculate_scenario_diff_cum_quantiles(params, idata, [2.0, 5.0, 12.0])"
   ]
  },
  {
   "cell_type": "code",
   "execution_count": null,
   "metadata": {},
   "outputs": [],
   "source": [
    "plot_detection_scenarios_comparison_box(scenarios_diff)"
   ]
  }
 ],
 "metadata": {
  "kernelspec": {
   "display_name": "tbdyn",
   "language": "python",
   "name": "python3"
  },
  "language_info": {
   "codemirror_mode": {
    "name": "ipython",
    "version": 3
   },
   "file_extension": ".py",
   "mimetype": "text/x-python",
   "name": "python",
   "nbconvert_exporter": "python",
   "pygments_lexer": "ipython3",
   "version": "3.10.13"
  }
 },
 "nbformat": 4,
 "nbformat_minor": 2
}
