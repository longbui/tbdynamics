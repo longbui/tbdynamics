{
 "cells": [
  {
   "cell_type": "code",
   "execution_count": null,
   "metadata": {},
   "outputs": [],
   "source": [
    "import warnings\n",
    "warnings.filterwarnings(\"ignore\")\n",
    "import numpy as np\n",
    "from pathlib import Path\n",
    "import pymc as pm\n",
    "import arviz as az\n",
    "import multiprocessing as mp\n",
    "from estival.wrappers import pymc as epm\n",
    "from estival.sampling import tools as esamp\n",
    "from estival.wrappers import nevergrad as eng\n",
    "from estival.utils.parallel import map_parallel\n",
    "import nevergrad as ng\n",
    "\n",
    "from tbdynamics.constants import BURN_IN, OPTI_DRAWS\n",
    "from autumn.infrastructure.remote import springboard\n",
    "from tbdynamics.calib_utils import get_bcm\n",
    "import pandas as pd\n",
    "from estival.utils.sample import SampleTypes"
   ]
  },
  {
   "cell_type": "code",
   "execution_count": null,
   "metadata": {},
   "outputs": [],
   "source": [
    "params = {\n",
    "    \"start_population_size\": 2300000.0,\n",
    "    \"seed_time\": 1810.0,\n",
    "    \"seed_num\": 10.0,\n",
    "    \"seed_duration\": 3.0,\n",
    "    \"progression_multiplier\": 1.8,\n",
    "    \"screening_scaleup_shape\": 0.1,\n",
    "    \"screening_inflection_time\": 1993.0,\n",
    "    \"screening_end_asymp\": 0.65,\n",
    "}\n",
    "\n",
    "bcm = get_bcm(params)"
   ]
  },
  {
   "cell_type": "code",
   "execution_count": null,
   "metadata": {},
   "outputs": [],
   "source": [
    "def optimize_ng(sample):\n",
    "    opt = eng.optimize_model(bcm, budget=2000, opt_class=ng.optimizers.TwoPointsDE, suggested = sample, num_workers=4)\n",
    "    rec= opt.minimize(2000)\n",
    "    return rec.value[1]\n",
    "opt_samples = map_parallel(optimize_ng, bcm.sample.lhs(16, SampleTypes.LIST_OF_DICTS), n_workers=4, mode=\"process\")\n",
    "lle_samps = esamp.likelihood_extras_for_samples(opt_samples, bcm)\n",
    "best_ll_idx = lle_samps.sort_values(\"logposterior\",ascending=False).index\n",
    "init_samps= bcm.sample.convert(opt_samples,SampleTypes.SAMPLEITERATOR)[best_ll_idx].convert(SampleTypes.LIST_OF_DICTS)[0]\n",
    "with pm.Model() as model:\n",
    "    variables = epm.use_model(bcm)\n",
    "    idata_raw = pm.sample(\n",
    "        step=[pm.DEMetropolisZ(variables)],\n",
    "        draws=100000,\n",
    "        tune=20000,\n",
    "        cores=6,\n",
    "        discard_tuned_samples=False,\n",
    "        chains=6,\n",
    "        progressbar=True,\n",
    "        initvals=init_samps,\n",
    "    )"
   ]
  },
  {
   "cell_type": "code",
   "execution_count": null,
   "metadata": {},
   "outputs": [],
   "source": []
  },
  {
   "cell_type": "code",
   "execution_count": null,
   "metadata": {},
   "outputs": [],
   "source": [
    "import arviz as az"
   ]
  },
  {
   "cell_type": "code",
   "execution_count": null,
   "metadata": {},
   "outputs": [],
   "source": [
    "az.summary(idata_raw)"
   ]
  },
  {
   "cell_type": "code",
   "execution_count": null,
   "metadata": {},
   "outputs": [],
   "source": [
    "az.plot_trace(idata_raw, figsize=(16,3.2*len(idata_raw.posterior)) ,compact=False)"
   ]
  },
  {
   "cell_type": "code",
   "execution_count": null,
   "metadata": {},
   "outputs": [],
   "source": [
    "import numpy as np\n",
    "import matplotlib.pyplot as plt\n",
    "import xarray as xr\n",
    "import arviz as az\n",
    "\n",
    "# Simulating data: 2 variables, 4 chains, 100 draws each\n",
    "np.random.seed(0)\n",
    "data_var1 = np.random.randn(4, 100)  # Variable 1\n",
    "data_var2 = np.random.randn(4, 100) * 2 + 5  # Variable 2, different scale and offset\n",
    "\n",
    "# Convert to xarray Dataset\n",
    "dataset = xr.Dataset({\n",
    "    \"var1\": ((\"chain\", \"draw\"), data_var1),\n",
    "    \"var2\": ((\"chain\", \"draw\"), data_var2)\n",
    "}, coords={\n",
    "    \"chain\": range(data_var1.shape[0]),\n",
    "    \"draw\": range(data_var1.shape[1])\n",
    "})\n",
    "\n",
    "# Creating InferenceData is optional here, used only if you want to leverage ArviZ features\n",
    "idata = az.InferenceData(posterior=dataset)\n",
    "\n",
    "# Plotting\n",
    "n_vars = len(idata.posterior.data_vars)\n",
    "fig, axs = plt.subplots(n_vars, 1, figsize=(12, 6 * n_vars))\n",
    "\n",
    "for i, var_name in enumerate(idata.posterior.data_vars):\n",
    "    for chain_idx in idata.posterior.chain:\n",
    "        axs[i].plot(idata.posterior[var_name].sel(chain=chain_idx), label=f'Chain {chain_idx.values}')\n",
    "    axs[i].set_title(f'Trace for {var_name}')\n",
    "    axs[i].legend()\n",
    "    axs[i].set_ylabel('Value')\n",
    "    axs[i].set_xlabel('Draw')\n",
    "\n",
    "plt.tight_layout()\n",
    "plt.show()"
   ]
  }
 ],
 "metadata": {
  "kernelspec": {
   "display_name": "autumn",
   "language": "python",
   "name": "python3"
  },
  "language_info": {
   "codemirror_mode": {
    "name": "ipython",
    "version": 3
   },
   "file_extension": ".py",
   "mimetype": "text/x-python",
   "name": "python",
   "nbconvert_exporter": "python",
   "pygments_lexer": "ipython3",
   "version": "3.10.13"
  }
 },
 "nbformat": 4,
 "nbformat_minor": 2
}
