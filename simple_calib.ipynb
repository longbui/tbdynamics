{
 "cells": [
  {
   "cell_type": "code",
   "execution_count": null,
   "metadata": {},
   "outputs": [],
   "source": [
    "import warnings\n",
    "warnings.filterwarnings(\"ignore\")\n",
    "import numpy as np\n",
    "from pathlib import Path\n",
    "import pymc as pm\n",
    "import arviz as az\n",
    "import multiprocessing as mp\n",
    "from estival.wrappers import pymc as epm\n",
    "from estival.sampling import tools as esamp\n",
    "from estival.wrappers import nevergrad as eng\n",
    "from estival.utils.parallel import map_parallel\n",
    "import nevergrad as ng\n",
    "\n",
    "from tbdynamics.constants import BURN_IN, OPTI_DRAWS\n",
    "from autumn.infrastructure.remote import springboard\n",
    "from tbdynamics.calib_utils import get_bcm\n",
    "import pandas as pd\n",
    "from estival.utils.sample import SampleTypes"
   ]
  },
  {
   "cell_type": "code",
   "execution_count": null,
   "metadata": {},
   "outputs": [],
   "source": [
    "params = {\n",
    "    \"start_population_size\": 2300000.0,\n",
    "    \"seed_time\": 1810.0,\n",
    "    \"seed_num\": 10.0,\n",
    "    \"seed_duration\": 3.0,\n",
    "    \"screening_scaleup_shape\": 0.1,\n",
    "    \"screening_inflection_time\": 1993.0,\n",
    "    \"screening_end_asymp\": 0.65,\n",
    "}\n",
    "\n",
    "bcm = get_bcm(params)"
   ]
  },
  {
   "cell_type": "code",
   "execution_count": null,
   "metadata": {},
   "outputs": [],
   "source": [
    "def optimize_ng(sample):\n",
    "    opt = eng.optimize_model(bcm, budget=2000, opt_class=ng.optimizers.TwoPointsDE, suggested = sample, num_workers=4)\n",
    "    rec= opt.minimize(2000)\n",
    "    return rec.value[1]"
   ]
  },
  {
   "cell_type": "code",
   "execution_count": null,
   "metadata": {},
   "outputs": [],
   "source": [
    "opt_samples = map_parallel(optimize_ng, bcm.sample.lhs(16, SampleTypes.LIST_OF_DICTS), n_workers=4, mode=\"process\")"
   ]
  },
  {
   "cell_type": "code",
   "execution_count": null,
   "metadata": {},
   "outputs": [],
   "source": [
    "lle_samps = esamp.likelihood_extras_for_samples(opt_samples, bcm)"
   ]
  },
  {
   "cell_type": "code",
   "execution_count": null,
   "metadata": {},
   "outputs": [],
   "source": [
    "best_ll_idx = lle_samps.sort_values(\"logposterior\",ascending=False).index"
   ]
  },
  {
   "cell_type": "code",
   "execution_count": null,
   "metadata": {},
   "outputs": [],
   "source": [
    "init_samps= bcm.sample.convert(opt_samples,SampleTypes.SAMPLEITERATOR)[best_ll_idx].convert(SampleTypes.LIST_OF_DICTS)[0]"
   ]
  },
  {
   "cell_type": "code",
   "execution_count": null,
   "metadata": {},
   "outputs": [],
   "source": [
    "init_samps"
   ]
  },
  {
   "cell_type": "code",
   "execution_count": null,
   "metadata": {},
   "outputs": [],
   "source": [
    "with pm.Model() as model:\n",
    "    variables = epm.use_model(bcm)\n",
    "    idata_raw = pm.sample(\n",
    "        step=[pm.DEMetropolisZ(variables)],\n",
    "        draws=15000,\n",
    "        tune=3000,\n",
    "        cores=4,\n",
    "        discard_tuned_samples=False,\n",
    "        chains=4,\n",
    "        progressbar=True,\n",
    "        initvals=init_samps,\n",
    "    )"
   ]
  },
  {
   "cell_type": "code",
   "execution_count": null,
   "metadata": {},
   "outputs": [],
   "source": [
    "import arviz as az"
   ]
  },
  {
   "cell_type": "code",
   "execution_count": null,
   "metadata": {},
   "outputs": [],
   "source": [
    "az.summary(idata_raw)"
   ]
  },
  {
   "cell_type": "code",
   "execution_count": null,
   "metadata": {},
   "outputs": [],
   "source": [
    "az.plot_trace(idata_raw, figsize=(16,3.2*len(idata_raw.posterior)) ,compact=False)"
   ]
  }
 ],
 "metadata": {
  "kernelspec": {
   "display_name": "autumn",
   "language": "python",
   "name": "python3"
  },
  "language_info": {
   "codemirror_mode": {
    "name": "ipython",
    "version": 3
   },
   "file_extension": ".py",
   "mimetype": "text/x-python",
   "name": "python",
   "nbconvert_exporter": "python",
   "pygments_lexer": "ipython3",
   "version": "3.10.0"
  }
 },
 "nbformat": 4,
 "nbformat_minor": 2
}
