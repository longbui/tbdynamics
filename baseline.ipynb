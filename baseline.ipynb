{
 "cells": [
  {
   "cell_type": "code",
   "execution_count": null,
   "metadata": {},
   "outputs": [],
   "source": [
    "import warnings\n",
    "\n",
    "warnings.filterwarnings(\"ignore\")\n",
    "from pathlib import Path\n",
    "import pandas as pd\n",
    "import numpy as np\n",
    "from tbdynamics.calibration.utils import calculate_scenario_and_diff_outputs\n",
    "from tbdynamics.calibration.plotting import (\n",
    "    plot_detection_scenario_comparison_box,\n",
    "    plot_scenario_output_ranges,\n",
    "    plot_output_ranges\n",
    ")\n",
    "from tbdynamics.inputs import load_targets\n",
    "import arviz as az\n",
    "import pickle"
   ]
  },
  {
   "cell_type": "code",
   "execution_count": null,
   "metadata": {},
   "outputs": [],
   "source": [
    "# OUT_PATH = Path.cwd() / 'runs/r2508'\n",
    "# loaded_inference_data = az.from_netcdf('inference_data1.nc')\n",
    "targets = load_targets()"
   ]
  },
  {
   "cell_type": "code",
   "execution_count": null,
   "metadata": {},
   "outputs": [],
   "source": [
    "params = {\n",
    "    \"start_population_size\": 2000000.0,\n",
    "    \"seed_time\": 1805.0,\n",
    "    \"seed_num\": 1.0,\n",
    "    \"seed_duration\": 1.0,\n",
    "}\n",
    "covid_effects = {\n",
    "    'detection_reduction':True,\n",
    "    'contact_reduction':True\n",
    "}"
   ]
  },
  {
   "cell_type": "code",
   "execution_count": null,
   "metadata": {},
   "outputs": [],
   "source": [
    "# with open('quantile_outputs.pkl', 'wb') as f:\n",
    "    # pickle.dump(quantile_outputs, f)"
   ]
  },
  {
   "cell_type": "code",
   "execution_count": null,
   "metadata": {},
   "outputs": [],
   "source": [
    "with open('quantile_outputs.pkl', 'rb') as f:\n",
    "    quantile_outputs = pickle.load(f)"
   ]
  },
  {
   "cell_type": "code",
   "execution_count": null,
   "metadata": {},
   "outputs": [],
   "source": [
    "target_plot = plot_output_ranges(quantile_outputs['scenario_outputs']['base_scenario'],targets,['total_population','notification','adults_prevalence_pulmonary'],1,2010,2025)"
   ]
  },
  {
   "cell_type": "code",
   "execution_count": null,
   "metadata": {},
   "outputs": [],
   "source": [
    "target_plot "
   ]
  },
  {
   "cell_type": "code",
   "execution_count": null,
   "metadata": {},
   "outputs": [],
   "source": [
    "target_plot.write_image(\"docs/targets.png\", scale=3)"
   ]
  },
  {
   "cell_type": "code",
   "execution_count": null,
   "metadata": {},
   "outputs": [],
   "source": [
    "target_plot_history = plot_output_ranges(quantile_outputs['scenario_outputs']['base_scenario'],targets,['total_population','notification','adults_prevalence_pulmonary'],1,1800,2010, history =True)"
   ]
  },
  {
   "cell_type": "code",
   "execution_count": null,
   "metadata": {},
   "outputs": [],
   "source": [
    "target_plot_history"
   ]
  },
  {
   "cell_type": "code",
   "execution_count": null,
   "metadata": {},
   "outputs": [],
   "source": [
    "target_plot_history.write_image(\"docs/targets_history.png\", scale=3)"
   ]
  },
  {
   "cell_type": "code",
   "execution_count": null,
   "metadata": {},
   "outputs": [],
   "source": [
    "compare_target_plot = plot_output_ranges(quantile_outputs['scenario_outputs']['base_scenario'],targets,['incidence','mortality_raw','prevalence_smear_positive'],1,2010,2025)"
   ]
  },
  {
   "cell_type": "code",
   "execution_count": null,
   "metadata": {},
   "outputs": [],
   "source": [
    "compare_target_plot.write_image(\"docs/non_targets.png\", scale='3')"
   ]
  },
  {
   "cell_type": "code",
   "execution_count": null,
   "metadata": {},
   "outputs": [],
   "source": [
    "compare_target_plot"
   ]
  },
  {
   "cell_type": "code",
   "execution_count": null,
   "metadata": {},
   "outputs": [],
   "source": [
    "screening_plot=plot_output_ranges(quantile_outputs['scenario_outputs']['base_scenario'],targets,['detection_rate'],1,1980,2025, show_title=False)"
   ]
  },
  {
   "cell_type": "code",
   "execution_count": null,
   "metadata": {},
   "outputs": [],
   "source": [
    "screening_plot.write_image('docs/screening_plot.png',scale=3)"
   ]
  },
  {
   "cell_type": "code",
   "execution_count": null,
   "metadata": {},
   "outputs": [],
   "source": [
    "screening_plot"
   ]
  }
 ],
 "metadata": {
  "kernelspec": {
   "display_name": "autumn",
   "language": "python",
   "name": "python3"
  },
  "language_info": {
   "codemirror_mode": {
    "name": "ipython",
    "version": 3
   },
   "file_extension": ".py",
   "mimetype": "text/x-python",
   "name": "python",
   "nbconvert_exporter": "python",
   "pygments_lexer": "ipython3",
   "version": "3.10.13"
  }
 },
 "nbformat": 4,
 "nbformat_minor": 2
}
