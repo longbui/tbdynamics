{
 "cells": [
  {
   "cell_type": "code",
   "execution_count": 1,
   "metadata": {},
   "outputs": [],
   "source": [
    "import warnings\n",
    "warnings.filterwarnings('ignore')"
   ]
  },
  {
   "cell_type": "code",
   "execution_count": 2,
   "metadata": {},
   "outputs": [
    {
     "name": "stderr",
     "output_type": "stream",
     "text": [
      "WARNING (pytensor.configdefaults): g++ not available, if using conda: `conda install m2w64-toolchain`\n",
      "WARNING (pytensor.configdefaults): g++ not detected!  PyTensor will be unable to compile C-implementations and will default to Python. Performance may be severely degraded. To remove this warning, set PyTensor flags cxx to an empty string.\n",
      "WARNING (pytensor.tensor.blas): Using NumPy C-API based implementation for BLAS functions.\n"
     ]
    }
   ],
   "source": [
    "import pandas as pd\n",
    "from pathlib import Path\n",
    "import plotly.express as px\n",
    "import pymc as pm\n",
    "import plotly.graph_objects as go\n",
    "import plotly.express as px\n",
    "import numpy as np\n",
    "import pandas as pd\n",
    "\n",
    "from estival.model import BayesianCompartmentalModel\n",
    "import estival.priors as esp\n",
    "import estival.targets as est\n",
    "from estival.wrappers import pymc as epm\n",
    "\n",
    "from tbdynamics.utils import round_sigfig\n",
    "from summer2 import CompartmentalModel\n",
    "from summer2.parameters import Parameter\n",
    "from summer2.functions.time import get_sigmoidal_interpolation_function\n",
    "from summer2 import AgeStratification, Stratification, Overwrite, Multiply\n",
    "from tbdynamics.inputs import fixed_parameters"
   ]
  },
  {
   "cell_type": "markdown",
   "metadata": {},
   "source": [
    "## Defining initial variables"
   ]
  },
  {
   "cell_type": "code",
   "execution_count": 3,
   "metadata": {},
   "outputs": [],
   "source": [
    "pd.options.plotting.backend = 'plotly'\n",
    "time_start = 1800\n",
    "time_end = 2020\n",
    "time_step = 0.1\n",
    "\n",
    "doc_sections = {}\n",
    "compartments = [\n",
    "    \"susceptible\",\n",
    "    \"early_latent\",\n",
    "    \"late_latent\",\n",
    "    \"infectious\",\n",
    "    \"on_treatment\",\n",
    "    \"recovered\",\n",
    "]\n",
    "infectious_compartments = [\n",
    "    \"infectious\",\n",
    "    \"on_treatment\",\n",
    "]\n",
    "\n",
    "latent_compartments = [\n",
    "    \"early_latent\",\n",
    "    \"late_latent\",\n",
    "]\n",
    "age_strata = [0,5,15,35,50,70]"
   ]
  },
  {
   "cell_type": "markdown",
   "metadata": {},
   "source": [
    "## Load data"
   ]
  },
  {
   "cell_type": "code",
   "execution_count": 4,
   "metadata": {},
   "outputs": [],
   "source": [
    "PROJECT_PATH = Path().resolve()\n",
    "DATA_PATH = PROJECT_PATH / 'data'"
   ]
  },
  {
   "cell_type": "markdown",
   "metadata": {},
   "source": [
    "### Process Birth data"
   ]
  },
  {
   "cell_type": "code",
   "execution_count": 5,
   "metadata": {},
   "outputs": [],
   "source": [
    "birth_rates = pd.read_csv(Path(DATA_PATH / 'vn_birth.csv'), index_col=0)['value']"
   ]
  },
  {
   "cell_type": "markdown",
   "metadata": {},
   "source": [
    "### Process Death Data"
   ]
  },
  {
   "cell_type": "code",
   "execution_count": 6,
   "metadata": {},
   "outputs": [],
   "source": [
    "# Path to the CSV file\n",
    "file_path = './data/data.csv' #from UN Population\n",
    "\n",
    "# Read the CSV file into a pandas DataFrame\n",
    "data = pd.read_csv(file_path, usecols=['Age', 'Time', 'Population', 'Deaths'])\n",
    "data = data.set_index(['Age', 'Time'])\n",
    "data.index = data.index.swaplevel()\n",
    "age_groups = set(data.index.get_level_values(1))\n",
    "years = set(data.index.get_level_values(0))"
   ]
  },
  {
   "cell_type": "code",
   "execution_count": 7,
   "metadata": {},
   "outputs": [],
   "source": [
    "def get_age_groups_in_range(age_groups, lower_limit, upper_limit):\n",
    "    return [i for i in age_groups if '+' not in i and lower_limit <= int(i.split('-')[0]) <= upper_limit]"
   ]
  },
  {
   "cell_type": "code",
   "execution_count": 8,
   "metadata": {},
   "outputs": [],
   "source": [
    "agegroup_request = [[0, 4], [5, 14], [15, 34], [35, 49], [50, 69], [70, 200]]\n",
    "agegroup_map = {low: get_age_groups_in_range(age_groups, low, up) for low, up in agegroup_request}\n",
    "agegroup_map[agegroup_request[-1][0]].append('100+')\n",
    "mapped_rates = pd.DataFrame()\n",
    "for year in years:\n",
    "    for agegroup in agegroup_map:\n",
    "        age_mask = [i in agegroup_map[agegroup] for i in data.index.get_level_values(1)]\n",
    "        age_year_data = data.loc[age_mask].loc[year, :]\n",
    "        total = age_year_data.sum()\n",
    "        mapped_rates.loc[year, agegroup] = total['Deaths'] / total['Population']\n",
    "mapped_rates.index = mapped_rates.index + 0.5\n",
    "death_df = mapped_rates.loc[birth_rates.index]"
   ]
  },
  {
   "cell_type": "markdown",
   "metadata": {},
   "source": [
    "## Creating model"
   ]
  },
  {
   "cell_type": "code",
   "execution_count": 9,
   "metadata": {},
   "outputs": [],
   "source": [
    "tb_model = CompartmentalModel(\n",
    "    times=(time_start, time_end),\n",
    "    compartments=compartments,\n",
    "    infectious_compartments=infectious_compartments,\n",
    "    timestep=time_step,\n",
    ")"
   ]
  },
  {
   "cell_type": "code",
   "execution_count": 10,
   "metadata": {},
   "outputs": [],
   "source": [
    "## Set init pop\n",
    "start_pop = Parameter(\"start_population_size\")\n",
    "init_pop = {\n",
    "        \"infectious\": 0,\n",
    "        \"susceptible\": start_pop - 0,\n",
    "}\n",
    "tb_model.set_initial_population(init_pop)"
   ]
  },
  {
   "cell_type": "code",
   "execution_count": 11,
   "metadata": {},
   "outputs": [],
   "source": [
    "## Add birth process\n",
    "process = \"birth\"\n",
    "destination = \"susceptible\"\n",
    "crude_birth_rate = get_sigmoidal_interpolation_function(\n",
    "    birth_rates.index, birth_rates\n",
    ")\n",
    "tb_model.add_crude_birth_flow(\n",
    "        process,\n",
    "        crude_birth_rate,\n",
    "        destination,\n",
    ")"
   ]
  },
  {
   "cell_type": "code",
   "execution_count": 12,
   "metadata": {},
   "outputs": [],
   "source": [
    "## Adding death process\n",
    "process = \"universal_death\" ## will be adjusted later\n",
    "universal_death_rate = 1.0\n",
    "tb_model.add_universal_death_flows(\"universal_death\", death_rate=universal_death_rate)"
   ]
  },
  {
   "cell_type": "code",
   "execution_count": 13,
   "metadata": {},
   "outputs": [],
   "source": [
    "## Stratifying by age\n",
    "age_strat = AgeStratification(\"age\", age_strata, compartments)\n",
    "universal_death_funcs, death_adjs = {}, {}\n",
    "for age in age_strata:\n",
    "    universal_death_funcs[age] = get_sigmoidal_interpolation_function(\n",
    "        death_df.index, death_df[age]\n",
    "    )\n",
    "    death_adjs[str(age)] = Overwrite(universal_death_funcs[age])\n",
    "age_strat.set_flow_adjustments(\"universal_death\", death_adjs)\n",
    "tb_model.stratify_with(age_strat)"
   ]
  },
  {
   "cell_type": "code",
   "execution_count": 14,
   "metadata": {},
   "outputs": [],
   "source": [
    "def get_gender_strat(age_strata, compartments, fixed_params):\n",
    "    requested_strata = fixed_params[\"gender\"][\"strata\"]\n",
    "    strat = Stratification(\"gender\", requested_strata, compartments)\n",
    "    # Pre-process generic flow adjustments:\n",
    "    # IF infection is adjusted and other infection flows NOT adjusted\n",
    "    # THEN use the infection adjustment for the other infection flows\n",
    "\n",
    "    adjs = {}\n",
    "    # Set birth flow adjustments\n",
    "    adjs[\"birth\"] = fixed_params[\"gender\"][\"proportions\"]\n",
    "    # # # Set birth flow adjustments. \n",
    "    for flow_name, adjustment in adjs.items():\n",
    "        if flow_name == 'birth':\n",
    "            adj = {k : Multiply(v) for k,v in adjustment.items()} \n",
    "            strat.set_flow_adjustments(flow_name, adj)\n",
    "    return strat"
   ]
  },
  {
   "cell_type": "code",
   "execution_count": 15,
   "metadata": {},
   "outputs": [],
   "source": [
    "gender_strat = get_gender_strat(age_strata, compartments, fixed_parameters)"
   ]
  },
  {
   "cell_type": "code",
   "execution_count": 16,
   "metadata": {},
   "outputs": [],
   "source": [
    "tb_model.stratify_with(gender_strat)"
   ]
  },
  {
   "cell_type": "code",
   "execution_count": 17,
   "metadata": {},
   "outputs": [
    {
     "data": {
      "text/plain": [
       "[<CrudeBirthFlow 'birth' to susceptibleXage_0Xgender_male>,\n",
       " <CrudeBirthFlow 'birth' to susceptibleXage_0Xgender_female>,\n",
       " <DeathFlow 'universal_death' from susceptibleXage_0Xgender_male>,\n",
       " <DeathFlow 'universal_death' from susceptibleXage_0Xgender_female>,\n",
       " <DeathFlow 'universal_death' from susceptibleXage_5Xgender_male>,\n",
       " <DeathFlow 'universal_death' from susceptibleXage_5Xgender_female>,\n",
       " <DeathFlow 'universal_death' from susceptibleXage_15Xgender_male>,\n",
       " <DeathFlow 'universal_death' from susceptibleXage_15Xgender_female>,\n",
       " <DeathFlow 'universal_death' from susceptibleXage_35Xgender_male>,\n",
       " <DeathFlow 'universal_death' from susceptibleXage_35Xgender_female>,\n",
       " <DeathFlow 'universal_death' from susceptibleXage_50Xgender_male>,\n",
       " <DeathFlow 'universal_death' from susceptibleXage_50Xgender_female>,\n",
       " <DeathFlow 'universal_death' from susceptibleXage_70Xgender_male>,\n",
       " <DeathFlow 'universal_death' from susceptibleXage_70Xgender_female>,\n",
       " <DeathFlow 'universal_death' from early_latentXage_0Xgender_male>,\n",
       " <DeathFlow 'universal_death' from early_latentXage_0Xgender_female>,\n",
       " <DeathFlow 'universal_death' from early_latentXage_5Xgender_male>,\n",
       " <DeathFlow 'universal_death' from early_latentXage_5Xgender_female>,\n",
       " <DeathFlow 'universal_death' from early_latentXage_15Xgender_male>,\n",
       " <DeathFlow 'universal_death' from early_latentXage_15Xgender_female>,\n",
       " <DeathFlow 'universal_death' from early_latentXage_35Xgender_male>,\n",
       " <DeathFlow 'universal_death' from early_latentXage_35Xgender_female>,\n",
       " <DeathFlow 'universal_death' from early_latentXage_50Xgender_male>,\n",
       " <DeathFlow 'universal_death' from early_latentXage_50Xgender_female>,\n",
       " <DeathFlow 'universal_death' from early_latentXage_70Xgender_male>,\n",
       " <DeathFlow 'universal_death' from early_latentXage_70Xgender_female>,\n",
       " <DeathFlow 'universal_death' from late_latentXage_0Xgender_male>,\n",
       " <DeathFlow 'universal_death' from late_latentXage_0Xgender_female>,\n",
       " <DeathFlow 'universal_death' from late_latentXage_5Xgender_male>,\n",
       " <DeathFlow 'universal_death' from late_latentXage_5Xgender_female>,\n",
       " <DeathFlow 'universal_death' from late_latentXage_15Xgender_male>,\n",
       " <DeathFlow 'universal_death' from late_latentXage_15Xgender_female>,\n",
       " <DeathFlow 'universal_death' from late_latentXage_35Xgender_male>,\n",
       " <DeathFlow 'universal_death' from late_latentXage_35Xgender_female>,\n",
       " <DeathFlow 'universal_death' from late_latentXage_50Xgender_male>,\n",
       " <DeathFlow 'universal_death' from late_latentXage_50Xgender_female>,\n",
       " <DeathFlow 'universal_death' from late_latentXage_70Xgender_male>,\n",
       " <DeathFlow 'universal_death' from late_latentXage_70Xgender_female>,\n",
       " <DeathFlow 'universal_death' from infectiousXage_0Xgender_male>,\n",
       " <DeathFlow 'universal_death' from infectiousXage_0Xgender_female>,\n",
       " <DeathFlow 'universal_death' from infectiousXage_5Xgender_male>,\n",
       " <DeathFlow 'universal_death' from infectiousXage_5Xgender_female>,\n",
       " <DeathFlow 'universal_death' from infectiousXage_15Xgender_male>,\n",
       " <DeathFlow 'universal_death' from infectiousXage_15Xgender_female>,\n",
       " <DeathFlow 'universal_death' from infectiousXage_35Xgender_male>,\n",
       " <DeathFlow 'universal_death' from infectiousXage_35Xgender_female>,\n",
       " <DeathFlow 'universal_death' from infectiousXage_50Xgender_male>,\n",
       " <DeathFlow 'universal_death' from infectiousXage_50Xgender_female>,\n",
       " <DeathFlow 'universal_death' from infectiousXage_70Xgender_male>,\n",
       " <DeathFlow 'universal_death' from infectiousXage_70Xgender_female>,\n",
       " <DeathFlow 'universal_death' from on_treatmentXage_0Xgender_male>,\n",
       " <DeathFlow 'universal_death' from on_treatmentXage_0Xgender_female>,\n",
       " <DeathFlow 'universal_death' from on_treatmentXage_5Xgender_male>,\n",
       " <DeathFlow 'universal_death' from on_treatmentXage_5Xgender_female>,\n",
       " <DeathFlow 'universal_death' from on_treatmentXage_15Xgender_male>,\n",
       " <DeathFlow 'universal_death' from on_treatmentXage_15Xgender_female>,\n",
       " <DeathFlow 'universal_death' from on_treatmentXage_35Xgender_male>,\n",
       " <DeathFlow 'universal_death' from on_treatmentXage_35Xgender_female>,\n",
       " <DeathFlow 'universal_death' from on_treatmentXage_50Xgender_male>,\n",
       " <DeathFlow 'universal_death' from on_treatmentXage_50Xgender_female>,\n",
       " <DeathFlow 'universal_death' from on_treatmentXage_70Xgender_male>,\n",
       " <DeathFlow 'universal_death' from on_treatmentXage_70Xgender_female>,\n",
       " <DeathFlow 'universal_death' from recoveredXage_0Xgender_male>,\n",
       " <DeathFlow 'universal_death' from recoveredXage_0Xgender_female>,\n",
       " <DeathFlow 'universal_death' from recoveredXage_5Xgender_male>,\n",
       " <DeathFlow 'universal_death' from recoveredXage_5Xgender_female>,\n",
       " <DeathFlow 'universal_death' from recoveredXage_15Xgender_male>,\n",
       " <DeathFlow 'universal_death' from recoveredXage_15Xgender_female>,\n",
       " <DeathFlow 'universal_death' from recoveredXage_35Xgender_male>,\n",
       " <DeathFlow 'universal_death' from recoveredXage_35Xgender_female>,\n",
       " <DeathFlow 'universal_death' from recoveredXage_50Xgender_male>,\n",
       " <DeathFlow 'universal_death' from recoveredXage_50Xgender_female>,\n",
       " <DeathFlow 'universal_death' from recoveredXage_70Xgender_male>,\n",
       " <DeathFlow 'universal_death' from recoveredXage_70Xgender_female>,\n",
       " <TransitionFlow 'ageing_susceptibleXage_0_to_susceptibleXage_5' from susceptibleXage_0Xgender_male to susceptibleXage_5Xgender_male>,\n",
       " <TransitionFlow 'ageing_susceptibleXage_0_to_susceptibleXage_5' from susceptibleXage_0Xgender_female to susceptibleXage_5Xgender_female>,\n",
       " <TransitionFlow 'ageing_early_latentXage_0_to_early_latentXage_5' from early_latentXage_0Xgender_male to early_latentXage_5Xgender_male>,\n",
       " <TransitionFlow 'ageing_early_latentXage_0_to_early_latentXage_5' from early_latentXage_0Xgender_female to early_latentXage_5Xgender_female>,\n",
       " <TransitionFlow 'ageing_late_latentXage_0_to_late_latentXage_5' from late_latentXage_0Xgender_male to late_latentXage_5Xgender_male>,\n",
       " <TransitionFlow 'ageing_late_latentXage_0_to_late_latentXage_5' from late_latentXage_0Xgender_female to late_latentXage_5Xgender_female>,\n",
       " <TransitionFlow 'ageing_infectiousXage_0_to_infectiousXage_5' from infectiousXage_0Xgender_male to infectiousXage_5Xgender_male>,\n",
       " <TransitionFlow 'ageing_infectiousXage_0_to_infectiousXage_5' from infectiousXage_0Xgender_female to infectiousXage_5Xgender_female>,\n",
       " <TransitionFlow 'ageing_on_treatmentXage_0_to_on_treatmentXage_5' from on_treatmentXage_0Xgender_male to on_treatmentXage_5Xgender_male>,\n",
       " <TransitionFlow 'ageing_on_treatmentXage_0_to_on_treatmentXage_5' from on_treatmentXage_0Xgender_female to on_treatmentXage_5Xgender_female>,\n",
       " <TransitionFlow 'ageing_recoveredXage_0_to_recoveredXage_5' from recoveredXage_0Xgender_male to recoveredXage_5Xgender_male>,\n",
       " <TransitionFlow 'ageing_recoveredXage_0_to_recoveredXage_5' from recoveredXage_0Xgender_female to recoveredXage_5Xgender_female>,\n",
       " <TransitionFlow 'ageing_susceptibleXage_5_to_susceptibleXage_15' from susceptibleXage_5Xgender_male to susceptibleXage_15Xgender_male>,\n",
       " <TransitionFlow 'ageing_susceptibleXage_5_to_susceptibleXage_15' from susceptibleXage_5Xgender_female to susceptibleXage_15Xgender_female>,\n",
       " <TransitionFlow 'ageing_early_latentXage_5_to_early_latentXage_15' from early_latentXage_5Xgender_male to early_latentXage_15Xgender_male>,\n",
       " <TransitionFlow 'ageing_early_latentXage_5_to_early_latentXage_15' from early_latentXage_5Xgender_female to early_latentXage_15Xgender_female>,\n",
       " <TransitionFlow 'ageing_late_latentXage_5_to_late_latentXage_15' from late_latentXage_5Xgender_male to late_latentXage_15Xgender_male>,\n",
       " <TransitionFlow 'ageing_late_latentXage_5_to_late_latentXage_15' from late_latentXage_5Xgender_female to late_latentXage_15Xgender_female>,\n",
       " <TransitionFlow 'ageing_infectiousXage_5_to_infectiousXage_15' from infectiousXage_5Xgender_male to infectiousXage_15Xgender_male>,\n",
       " <TransitionFlow 'ageing_infectiousXage_5_to_infectiousXage_15' from infectiousXage_5Xgender_female to infectiousXage_15Xgender_female>,\n",
       " <TransitionFlow 'ageing_on_treatmentXage_5_to_on_treatmentXage_15' from on_treatmentXage_5Xgender_male to on_treatmentXage_15Xgender_male>,\n",
       " <TransitionFlow 'ageing_on_treatmentXage_5_to_on_treatmentXage_15' from on_treatmentXage_5Xgender_female to on_treatmentXage_15Xgender_female>,\n",
       " <TransitionFlow 'ageing_recoveredXage_5_to_recoveredXage_15' from recoveredXage_5Xgender_male to recoveredXage_15Xgender_male>,\n",
       " <TransitionFlow 'ageing_recoveredXage_5_to_recoveredXage_15' from recoveredXage_5Xgender_female to recoveredXage_15Xgender_female>,\n",
       " <TransitionFlow 'ageing_susceptibleXage_15_to_susceptibleXage_35' from susceptibleXage_15Xgender_male to susceptibleXage_35Xgender_male>,\n",
       " <TransitionFlow 'ageing_susceptibleXage_15_to_susceptibleXage_35' from susceptibleXage_15Xgender_female to susceptibleXage_35Xgender_female>,\n",
       " <TransitionFlow 'ageing_early_latentXage_15_to_early_latentXage_35' from early_latentXage_15Xgender_male to early_latentXage_35Xgender_male>,\n",
       " <TransitionFlow 'ageing_early_latentXage_15_to_early_latentXage_35' from early_latentXage_15Xgender_female to early_latentXage_35Xgender_female>,\n",
       " <TransitionFlow 'ageing_late_latentXage_15_to_late_latentXage_35' from late_latentXage_15Xgender_male to late_latentXage_35Xgender_male>,\n",
       " <TransitionFlow 'ageing_late_latentXage_15_to_late_latentXage_35' from late_latentXage_15Xgender_female to late_latentXage_35Xgender_female>,\n",
       " <TransitionFlow 'ageing_infectiousXage_15_to_infectiousXage_35' from infectiousXage_15Xgender_male to infectiousXage_35Xgender_male>,\n",
       " <TransitionFlow 'ageing_infectiousXage_15_to_infectiousXage_35' from infectiousXage_15Xgender_female to infectiousXage_35Xgender_female>,\n",
       " <TransitionFlow 'ageing_on_treatmentXage_15_to_on_treatmentXage_35' from on_treatmentXage_15Xgender_male to on_treatmentXage_35Xgender_male>,\n",
       " <TransitionFlow 'ageing_on_treatmentXage_15_to_on_treatmentXage_35' from on_treatmentXage_15Xgender_female to on_treatmentXage_35Xgender_female>,\n",
       " <TransitionFlow 'ageing_recoveredXage_15_to_recoveredXage_35' from recoveredXage_15Xgender_male to recoveredXage_35Xgender_male>,\n",
       " <TransitionFlow 'ageing_recoveredXage_15_to_recoveredXage_35' from recoveredXage_15Xgender_female to recoveredXage_35Xgender_female>,\n",
       " <TransitionFlow 'ageing_susceptibleXage_35_to_susceptibleXage_50' from susceptibleXage_35Xgender_male to susceptibleXage_50Xgender_male>,\n",
       " <TransitionFlow 'ageing_susceptibleXage_35_to_susceptibleXage_50' from susceptibleXage_35Xgender_female to susceptibleXage_50Xgender_female>,\n",
       " <TransitionFlow 'ageing_early_latentXage_35_to_early_latentXage_50' from early_latentXage_35Xgender_male to early_latentXage_50Xgender_male>,\n",
       " <TransitionFlow 'ageing_early_latentXage_35_to_early_latentXage_50' from early_latentXage_35Xgender_female to early_latentXage_50Xgender_female>,\n",
       " <TransitionFlow 'ageing_late_latentXage_35_to_late_latentXage_50' from late_latentXage_35Xgender_male to late_latentXage_50Xgender_male>,\n",
       " <TransitionFlow 'ageing_late_latentXage_35_to_late_latentXage_50' from late_latentXage_35Xgender_female to late_latentXage_50Xgender_female>,\n",
       " <TransitionFlow 'ageing_infectiousXage_35_to_infectiousXage_50' from infectiousXage_35Xgender_male to infectiousXage_50Xgender_male>,\n",
       " <TransitionFlow 'ageing_infectiousXage_35_to_infectiousXage_50' from infectiousXage_35Xgender_female to infectiousXage_50Xgender_female>,\n",
       " <TransitionFlow 'ageing_on_treatmentXage_35_to_on_treatmentXage_50' from on_treatmentXage_35Xgender_male to on_treatmentXage_50Xgender_male>,\n",
       " <TransitionFlow 'ageing_on_treatmentXage_35_to_on_treatmentXage_50' from on_treatmentXage_35Xgender_female to on_treatmentXage_50Xgender_female>,\n",
       " <TransitionFlow 'ageing_recoveredXage_35_to_recoveredXage_50' from recoveredXage_35Xgender_male to recoveredXage_50Xgender_male>,\n",
       " <TransitionFlow 'ageing_recoveredXage_35_to_recoveredXage_50' from recoveredXage_35Xgender_female to recoveredXage_50Xgender_female>,\n",
       " <TransitionFlow 'ageing_susceptibleXage_50_to_susceptibleXage_70' from susceptibleXage_50Xgender_male to susceptibleXage_70Xgender_male>,\n",
       " <TransitionFlow 'ageing_susceptibleXage_50_to_susceptibleXage_70' from susceptibleXage_50Xgender_female to susceptibleXage_70Xgender_female>,\n",
       " <TransitionFlow 'ageing_early_latentXage_50_to_early_latentXage_70' from early_latentXage_50Xgender_male to early_latentXage_70Xgender_male>,\n",
       " <TransitionFlow 'ageing_early_latentXage_50_to_early_latentXage_70' from early_latentXage_50Xgender_female to early_latentXage_70Xgender_female>,\n",
       " <TransitionFlow 'ageing_late_latentXage_50_to_late_latentXage_70' from late_latentXage_50Xgender_male to late_latentXage_70Xgender_male>,\n",
       " <TransitionFlow 'ageing_late_latentXage_50_to_late_latentXage_70' from late_latentXage_50Xgender_female to late_latentXage_70Xgender_female>,\n",
       " <TransitionFlow 'ageing_infectiousXage_50_to_infectiousXage_70' from infectiousXage_50Xgender_male to infectiousXage_70Xgender_male>,\n",
       " <TransitionFlow 'ageing_infectiousXage_50_to_infectiousXage_70' from infectiousXage_50Xgender_female to infectiousXage_70Xgender_female>,\n",
       " <TransitionFlow 'ageing_on_treatmentXage_50_to_on_treatmentXage_70' from on_treatmentXage_50Xgender_male to on_treatmentXage_70Xgender_male>,\n",
       " <TransitionFlow 'ageing_on_treatmentXage_50_to_on_treatmentXage_70' from on_treatmentXage_50Xgender_female to on_treatmentXage_70Xgender_female>,\n",
       " <TransitionFlow 'ageing_recoveredXage_50_to_recoveredXage_70' from recoveredXage_50Xgender_male to recoveredXage_70Xgender_male>,\n",
       " <TransitionFlow 'ageing_recoveredXage_50_to_recoveredXage_70' from recoveredXage_50Xgender_female to recoveredXage_70Xgender_female>]"
      ]
     },
     "execution_count": 17,
     "metadata": {},
     "output_type": "execute_result"
    }
   ],
   "source": [
    "tb_model.flows"
   ]
  },
  {
   "cell_type": "code",
   "execution_count": 18,
   "metadata": {},
   "outputs": [],
   "source": [
    "def request_compartment_output(model, output_name, genders, compartments, save_results=True):\n",
    "        model.request_output_for_compartments(\n",
    "            output_name, compartments, save_results=save_results\n",
    "        )\n",
    "        for gender_stratum in genders:\n",
    "            # For location-specific mortality calculations\n",
    "            gender_output_name = f\"{output_name}Xgender_{gender_stratum}\"\n",
    "            model.request_output_for_compartments(\n",
    "                gender_output_name,\n",
    "                compartments,\n",
    "                strata={\"gender\": gender_stratum},\n",
    "                save_results=save_results,\n",
    "            )"
   ]
  },
  {
   "cell_type": "code",
   "execution_count": 19,
   "metadata": {},
   "outputs": [],
   "source": [
    "def request_compartment_output(model, output_name, ages,compartments, save_results=True):\n",
    "    model.request_output_for_compartments(\n",
    "            output_name, compartments, save_results=save_results\n",
    "    )\n",
    "    for age_stratum in ages:\n",
    "        # For age-specific population calculations\n",
    "        age_output_name = f\"{output_name}Xage_{age_stratum}\"\n",
    "        model.request_output_for_compartments(\n",
    "            age_output_name,\n",
    "            compartments,\n",
    "            strata={'age': str(age_stratum)}, # I've added str to age stratum, It worked\n",
    "            save_results=save_results,\n",
    "        )"
   ]
  },
  {
   "cell_type": "code",
   "execution_count": 20,
   "metadata": {},
   "outputs": [],
   "source": [
    "request_compartment_output(tb_model, \"total_population\", age_strata, compartments)"
   ]
  },
  {
   "cell_type": "markdown",
   "metadata": {},
   "source": [
    "## Optimizing model"
   ]
  },
  {
   "cell_type": "code",
   "execution_count": 21,
   "metadata": {},
   "outputs": [
    {
     "ename": "NetworkXError",
     "evalue": "The node total_population is not in the digraph.",
     "output_type": "error",
     "traceback": [
      "\u001b[1;31m---------------------------------------------------------------------------\u001b[0m",
      "\u001b[1;31mKeyError\u001b[0m                                  Traceback (most recent call last)",
      "File \u001b[1;32m~\\AppData\\Roaming\\Python\\Python310\\site-packages\\networkx\\classes\\digraph.py:882\u001b[0m, in \u001b[0;36mDiGraph.predecessors\u001b[1;34m(self, n)\u001b[0m\n\u001b[0;32m    881\u001b[0m \u001b[38;5;28;01mtry\u001b[39;00m:\n\u001b[1;32m--> 882\u001b[0m     \u001b[38;5;28;01mreturn\u001b[39;00m \u001b[38;5;28miter\u001b[39m(\u001b[38;5;28;43mself\u001b[39;49m\u001b[38;5;241;43m.\u001b[39;49m\u001b[43m_pred\u001b[49m\u001b[43m[\u001b[49m\u001b[43mn\u001b[49m\u001b[43m]\u001b[49m)\n\u001b[0;32m    883\u001b[0m \u001b[38;5;28;01mexcept\u001b[39;00m \u001b[38;5;167;01mKeyError\u001b[39;00m \u001b[38;5;28;01mas\u001b[39;00m err:\n",
      "\u001b[1;31mKeyError\u001b[0m: 'total_population'",
      "\nThe above exception was the direct cause of the following exception:\n",
      "\u001b[1;31mNetworkXError\u001b[0m                             Traceback (most recent call last)",
      "Cell \u001b[1;32mIn[21], line 13\u001b[0m\n\u001b[0;32m      7\u001b[0m pop \u001b[38;5;241m=\u001b[39m pd\u001b[38;5;241m.\u001b[39mSeries({\u001b[38;5;241m2009\u001b[39m: \u001b[38;5;241m86025000\u001b[39m, \u001b[38;5;241m2019\u001b[39m: \u001b[38;5;241m96484000\u001b[39m})\n\u001b[0;32m     10\u001b[0m targets \u001b[38;5;241m=\u001b[39m [\n\u001b[0;32m     11\u001b[0m     est\u001b[38;5;241m.\u001b[39mNormalTarget(\u001b[38;5;124m'\u001b[39m\u001b[38;5;124mtotal_population\u001b[39m\u001b[38;5;124m'\u001b[39m, pop, stdev\u001b[38;5;241m=\u001b[39m \u001b[38;5;241m1000000\u001b[39m),\n\u001b[0;32m     12\u001b[0m ]\n\u001b[1;32m---> 13\u001b[0m calibration_model \u001b[38;5;241m=\u001b[39m \u001b[43mBayesianCompartmentalModel\u001b[49m\u001b[43m(\u001b[49m\u001b[43mtb_model\u001b[49m\u001b[43m,\u001b[49m\u001b[43m \u001b[49m\u001b[43mparams\u001b[49m\u001b[43m,\u001b[49m\u001b[43m \u001b[49m\u001b[43mpriors\u001b[49m\u001b[43m,\u001b[49m\u001b[43m \u001b[49m\u001b[43mtargets\u001b[49m\u001b[43m)\u001b[49m\n",
      "File \u001b[1;32mc:\\Users\\vbui0010\\Anaconda3\\envs\\tbdyn\\lib\\site-packages\\estival\\model.py:43\u001b[0m, in \u001b[0;36mBayesianCompartmentalModel.__init__\u001b[1;34m(self, model, parameters, priors, targets, extra_ll)\u001b[0m\n\u001b[0;32m     40\u001b[0m     \u001b[38;5;28mself\u001b[39m\u001b[38;5;241m.\u001b[39m_ref_idx \u001b[38;5;241m=\u001b[39m pd\u001b[38;5;241m.\u001b[39mIndex(\u001b[38;5;28mself\u001b[39m\u001b[38;5;241m.\u001b[39m_ref_idx)\n\u001b[0;32m     41\u001b[0m \u001b[38;5;28mself\u001b[39m\u001b[38;5;241m.\u001b[39mepoch \u001b[38;5;241m=\u001b[39m \u001b[38;5;28mself\u001b[39m\u001b[38;5;241m.\u001b[39mmodel\u001b[38;5;241m.\u001b[39mget_epoch()\n\u001b[1;32m---> 43\u001b[0m \u001b[38;5;28;43mself\u001b[39;49m\u001b[38;5;241;43m.\u001b[39;49m\u001b[43m_build_logll_funcs\u001b[49m\u001b[43m(\u001b[49m\u001b[43mextra_ll\u001b[49m\u001b[43m)\u001b[49m\n",
      "File \u001b[1;32mc:\\Users\\vbui0010\\Anaconda3\\envs\\tbdyn\\lib\\site-packages\\estival\\model.py:50\u001b[0m, in \u001b[0;36mBayesianCompartmentalModel._build_logll_funcs\u001b[1;34m(self, extra_ll)\u001b[0m\n\u001b[0;32m     47\u001b[0m dyn_params \u001b[38;5;241m=\u001b[39m \u001b[38;5;28mlist\u001b[39m(model_params\u001b[38;5;241m.\u001b[39mintersection(\u001b[38;5;28mset\u001b[39m(\u001b[38;5;28mself\u001b[39m\u001b[38;5;241m.\u001b[39mpriors)))\n\u001b[0;32m     48\u001b[0m \u001b[38;5;28mself\u001b[39m\u001b[38;5;241m.\u001b[39mmodel\u001b[38;5;241m.\u001b[39mset_derived_outputs_whitelist(\u001b[38;5;28mlist\u001b[39m(\u001b[38;5;28mself\u001b[39m\u001b[38;5;241m.\u001b[39mtargets))\n\u001b[1;32m---> 50\u001b[0m \u001b[38;5;28mself\u001b[39m\u001b[38;5;241m.\u001b[39m_ll_runner \u001b[38;5;241m=\u001b[39m \u001b[38;5;28;43mself\u001b[39;49m\u001b[38;5;241;43m.\u001b[39;49m\u001b[43mmodel\u001b[49m\u001b[38;5;241;43m.\u001b[39;49m\u001b[43mget_runner\u001b[49m\u001b[43m(\u001b[49m\n\u001b[0;32m     51\u001b[0m \u001b[43m    \u001b[49m\u001b[38;5;28;43mself\u001b[39;49m\u001b[38;5;241;43m.\u001b[39;49m\u001b[43mparameters\u001b[49m\u001b[43m,\u001b[49m\u001b[43m \u001b[49m\u001b[43mdyn_params\u001b[49m\u001b[43m,\u001b[49m\u001b[43m \u001b[49m\u001b[43minclude_full_outputs\u001b[49m\u001b[38;5;241;43m=\u001b[39;49m\u001b[38;5;28;43;01mFalse\u001b[39;49;00m\n\u001b[0;32m     52\u001b[0m \u001b[43m\u001b[49m\u001b[43m)\u001b[49m\n\u001b[0;32m     54\u001b[0m \u001b[38;5;28mself\u001b[39m\u001b[38;5;241m.\u001b[39mmodel\u001b[38;5;241m.\u001b[39mset_derived_outputs_whitelist([])\n\u001b[0;32m     55\u001b[0m \u001b[38;5;28mself\u001b[39m\u001b[38;5;241m.\u001b[39m_full_runner \u001b[38;5;241m=\u001b[39m \u001b[38;5;28mself\u001b[39m\u001b[38;5;241m.\u001b[39mmodel\u001b[38;5;241m.\u001b[39mget_runner(\n\u001b[0;32m     56\u001b[0m     \u001b[38;5;28mself\u001b[39m\u001b[38;5;241m.\u001b[39mparameters, dyn_params, include_full_outputs\u001b[38;5;241m=\u001b[39m\u001b[38;5;28;01mFalse\u001b[39;00m\n\u001b[0;32m     57\u001b[0m )\n",
      "File \u001b[1;32mc:\\Users\\vbui0010\\Anaconda3\\envs\\tbdyn\\lib\\site-packages\\summer2\\model.py:945\u001b[0m, in \u001b[0;36mCompartmentalModel.get_runner\u001b[1;34m(self, parameters, dyn_params, jit, include_full_outputs, **backend_args)\u001b[0m\n\u001b[0;32m    942\u001b[0m \u001b[38;5;28;01mif\u001b[39;00m \u001b[38;5;28mself\u001b[39m\u001b[38;5;241m.\u001b[39mbuilder:\n\u001b[0;32m    943\u001b[0m     parameters \u001b[38;5;241m=\u001b[39m {k: \u001b[38;5;28mself\u001b[39m\u001b[38;5;241m.\u001b[39m_type_validators[k](v) \u001b[38;5;28;01mfor\u001b[39;00m k, v \u001b[38;5;129;01min\u001b[39;00m parameters\u001b[38;5;241m.\u001b[39mitems()}\n\u001b[1;32m--> 945\u001b[0m jax_run_func, jax_runner_dict \u001b[38;5;241m=\u001b[39m build_run_model(\n\u001b[0;32m    946\u001b[0m     \u001b[38;5;28mself\u001b[39m\u001b[38;5;241m.\u001b[39m_backend,\n\u001b[0;32m    947\u001b[0m     base_params\u001b[38;5;241m=\u001b[39mparameters,\n\u001b[0;32m    948\u001b[0m     dyn_params\u001b[38;5;241m=\u001b[39mdyn_params,\n\u001b[0;32m    949\u001b[0m     include_full_outputs\u001b[38;5;241m=\u001b[39minclude_full_outputs,\n\u001b[0;32m    950\u001b[0m     \u001b[38;5;241m*\u001b[39m\u001b[38;5;241m*\u001b[39mbackend_args,\n\u001b[0;32m    951\u001b[0m )\n\u001b[0;32m    952\u001b[0m \u001b[38;5;28;01mif\u001b[39;00m jit:\n\u001b[0;32m    953\u001b[0m     \u001b[38;5;28;01mfrom\u001b[39;00m \u001b[38;5;21;01mjax\u001b[39;00m \u001b[38;5;28;01mimport\u001b[39;00m jit \u001b[38;5;28;01mas\u001b[39;00m jjit\n",
      "File \u001b[1;32mc:\\Users\\vbui0010\\Anaconda3\\envs\\tbdyn\\lib\\site-packages\\summer2\\runner\\jax\\model_impl.py:491\u001b[0m, in \u001b[0;36mbuild_run_model\u001b[1;34m(runner, base_params, dyn_params, solver, solver_args, derived_outputs, include_full_outputs)\u001b[0m\n\u001b[0;32m    488\u001b[0m calc_initial_pop \u001b[38;5;241m=\u001b[39m get_calculate_initial_pop(runner\u001b[38;5;241m.\u001b[39mmodel)\n\u001b[0;32m    489\u001b[0m get_compartment_infectiousness \u001b[38;5;241m=\u001b[39m build_get_compartment_infectiousness(runner\u001b[38;5;241m.\u001b[39mmodel)\n\u001b[1;32m--> 491\u001b[0m do_cg, calc_derived_outputs \u001b[38;5;241m=\u001b[39m \u001b[43mbuild_derived_outputs_runner\u001b[49m\u001b[43m(\u001b[49m\n\u001b[0;32m    492\u001b[0m \u001b[43m    \u001b[49m\u001b[43mrunner\u001b[49m\u001b[38;5;241;43m.\u001b[39;49m\u001b[43mmodel\u001b[49m\u001b[43m,\u001b[49m\u001b[43m \u001b[49m\u001b[43mwhitelist\u001b[49m\u001b[38;5;241;43m=\u001b[39;49m\u001b[43mderived_outputs\u001b[49m\n\u001b[0;32m    493\u001b[0m \u001b[43m\u001b[49m\u001b[43m)\u001b[49m\n\u001b[0;32m    495\u001b[0m m \u001b[38;5;241m=\u001b[39m runner\u001b[38;5;241m.\u001b[39mmodel\n\u001b[0;32m    496\u001b[0m dag_keys \u001b[38;5;241m=\u001b[39m \u001b[38;5;28mlist\u001b[39m(m\u001b[38;5;241m.\u001b[39mgraph\u001b[38;5;241m.\u001b[39mdag)\n",
      "File \u001b[1;32mc:\\Users\\vbui0010\\Anaconda3\\envs\\tbdyn\\lib\\site-packages\\summer2\\runner\\jax\\derived_outputs.py:147\u001b[0m, in \u001b[0;36mbuild_derived_outputs_runner\u001b[1;34m(model, whitelist, jit_compile)\u001b[0m\n\u001b[0;32m    145\u001b[0m \u001b[38;5;28;01mif\u001b[39;00m whitelist:\n\u001b[0;32m    146\u001b[0m     out_keys \u001b[38;5;241m=\u001b[39m whitelist\n\u001b[1;32m--> 147\u001b[0m     cg \u001b[38;5;241m=\u001b[39m \u001b[43mcg\u001b[49m\u001b[38;5;241;43m.\u001b[39;49m\u001b[43mfilter\u001b[49m\u001b[43m(\u001b[49m\u001b[43mtargets\u001b[49m\u001b[38;5;241;43m=\u001b[39;49m\u001b[43mout_keys\u001b[49m\u001b[43m)\u001b[49m\n\u001b[0;32m    149\u001b[0m out_func \u001b[38;5;241m=\u001b[39m cg\u001b[38;5;241m.\u001b[39mget_callable(targets\u001b[38;5;241m=\u001b[39mout_keys)\n\u001b[0;32m    150\u001b[0m \u001b[38;5;28;01mif\u001b[39;00m jit_compile:\n",
      "File \u001b[1;32mc:\\Users\\vbui0010\\Anaconda3\\envs\\tbdyn\\lib\\site-packages\\computegraph\\graph.py:178\u001b[0m, in \u001b[0;36mComputeGraph.filter\u001b[1;34m(self, targets, sources, exclude, ptargets)\u001b[0m\n\u001b[0;32m    176\u001b[0m \u001b[38;5;28;01mif\u001b[39;00m ptargets \u001b[38;5;129;01mis\u001b[39;00m \u001b[38;5;28;01mNone\u001b[39;00m:\n\u001b[0;32m    177\u001b[0m     ptargets \u001b[38;5;241m=\u001b[39m targets\n\u001b[1;32m--> 178\u001b[0m \u001b[38;5;28;01mreturn\u001b[39;00m \u001b[43mfilter_graph\u001b[49m\u001b[43m(\u001b[49m\u001b[38;5;28;43mself\u001b[39;49m\u001b[43m,\u001b[49m\u001b[43m \u001b[49m\u001b[43mtargets\u001b[49m\u001b[43m,\u001b[49m\u001b[43m \u001b[49m\u001b[43msources\u001b[49m\u001b[43m,\u001b[49m\u001b[43m \u001b[49m\u001b[43mexclude\u001b[49m\u001b[43m,\u001b[49m\u001b[43m \u001b[49m\u001b[43mptargets\u001b[49m\u001b[43m)\u001b[49m\n",
      "File \u001b[1;32mc:\\Users\\vbui0010\\Anaconda3\\envs\\tbdyn\\lib\\site-packages\\computegraph\\utils.py:378\u001b[0m, in \u001b[0;36mfilter_graph\u001b[1;34m(cg, targets, sources, exclude, ptargets)\u001b[0m\n\u001b[0;32m    376\u001b[0m     nodes \u001b[38;5;241m=\u001b[39m nodes\u001b[38;5;241m.\u001b[39munion(nx\u001b[38;5;241m.\u001b[39mdescendants(cg\u001b[38;5;241m.\u001b[39mdag, s))\n\u001b[0;32m    377\u001b[0m \u001b[38;5;28;01mfor\u001b[39;00m n \u001b[38;5;129;01min\u001b[39;00m \u001b[38;5;28mlist\u001b[39m(nodes):\n\u001b[1;32m--> 378\u001b[0m     nodes \u001b[38;5;241m=\u001b[39m nodes\u001b[38;5;241m.\u001b[39munion(\u001b[43mnx\u001b[49m\u001b[38;5;241;43m.\u001b[39;49m\u001b[43mancestors\u001b[49m\u001b[43m(\u001b[49m\u001b[43mcg\u001b[49m\u001b[38;5;241;43m.\u001b[39;49m\u001b[43mdag\u001b[49m\u001b[43m,\u001b[49m\u001b[43m \u001b[49m\u001b[43mn\u001b[49m\u001b[43m)\u001b[49m)\n\u001b[0;32m    380\u001b[0m \u001b[38;5;28;01mfor\u001b[39;00m t \u001b[38;5;129;01min\u001b[39;00m targets:\n\u001b[0;32m    381\u001b[0m     nodes \u001b[38;5;241m=\u001b[39m nodes\u001b[38;5;241m.\u001b[39munion(nx\u001b[38;5;241m.\u001b[39mancestors(cg\u001b[38;5;241m.\u001b[39mdag, t))\n",
      "File \u001b[1;32m~\\AppData\\Roaming\\Python\\Python310\\site-packages\\networkx\\algorithms\\dag.py:97\u001b[0m, in \u001b[0;36mancestors\u001b[1;34m(G, source)\u001b[0m\n\u001b[0;32m     69\u001b[0m \u001b[38;5;28;01mdef\u001b[39;00m \u001b[38;5;21mancestors\u001b[39m(G, source):\n\u001b[0;32m     70\u001b[0m \u001b[38;5;250m    \u001b[39m\u001b[38;5;124;03m\"\"\"Returns all nodes having a path to `source` in `G`.\u001b[39;00m\n\u001b[0;32m     71\u001b[0m \n\u001b[0;32m     72\u001b[0m \u001b[38;5;124;03m    Parameters\u001b[39;00m\n\u001b[1;32m   (...)\u001b[0m\n\u001b[0;32m     95\u001b[0m \u001b[38;5;124;03m    descendants\u001b[39;00m\n\u001b[0;32m     96\u001b[0m \u001b[38;5;124;03m    \"\"\"\u001b[39;00m\n\u001b[1;32m---> 97\u001b[0m     \u001b[38;5;28;01mreturn\u001b[39;00m {child \u001b[38;5;28;01mfor\u001b[39;00m parent, child \u001b[38;5;129;01min\u001b[39;00m nx\u001b[38;5;241m.\u001b[39mbfs_edges(G, source, reverse\u001b[38;5;241m=\u001b[39m\u001b[38;5;28;01mTrue\u001b[39;00m)}\n",
      "File \u001b[1;32m~\\AppData\\Roaming\\Python\\Python310\\site-packages\\networkx\\algorithms\\dag.py:97\u001b[0m, in \u001b[0;36m<setcomp>\u001b[1;34m(.0)\u001b[0m\n\u001b[0;32m     69\u001b[0m \u001b[38;5;28;01mdef\u001b[39;00m \u001b[38;5;21mancestors\u001b[39m(G, source):\n\u001b[0;32m     70\u001b[0m \u001b[38;5;250m    \u001b[39m\u001b[38;5;124;03m\"\"\"Returns all nodes having a path to `source` in `G`.\u001b[39;00m\n\u001b[0;32m     71\u001b[0m \n\u001b[0;32m     72\u001b[0m \u001b[38;5;124;03m    Parameters\u001b[39;00m\n\u001b[1;32m   (...)\u001b[0m\n\u001b[0;32m     95\u001b[0m \u001b[38;5;124;03m    descendants\u001b[39;00m\n\u001b[0;32m     96\u001b[0m \u001b[38;5;124;03m    \"\"\"\u001b[39;00m\n\u001b[1;32m---> 97\u001b[0m     \u001b[38;5;28;01mreturn\u001b[39;00m {child \u001b[38;5;28;01mfor\u001b[39;00m parent, child \u001b[38;5;129;01min\u001b[39;00m nx\u001b[38;5;241m.\u001b[39mbfs_edges(G, source, reverse\u001b[38;5;241m=\u001b[39m\u001b[38;5;28;01mTrue\u001b[39;00m)}\n",
      "File \u001b[1;32m~\\AppData\\Roaming\\Python\\Python310\\site-packages\\networkx\\algorithms\\traversal\\breadth_first_search.py:169\u001b[0m, in \u001b[0;36mbfs_edges\u001b[1;34m(G, source, reverse, depth_limit, sort_neighbors)\u001b[0m\n\u001b[0;32m    167\u001b[0m \u001b[38;5;28;01melse\u001b[39;00m:\n\u001b[0;32m    168\u001b[0m     successors \u001b[38;5;241m=\u001b[39m G\u001b[38;5;241m.\u001b[39mneighbors\n\u001b[1;32m--> 169\u001b[0m \u001b[38;5;28;01myield from\u001b[39;00m generic_bfs_edges(G, source, successors, depth_limit, sort_neighbors)\n",
      "File \u001b[1;32m~\\AppData\\Roaming\\Python\\Python310\\site-packages\\networkx\\algorithms\\traversal\\breadth_first_search.py:77\u001b[0m, in \u001b[0;36mgeneric_bfs_edges\u001b[1;34m(G, source, neighbors, depth_limit, sort_neighbors)\u001b[0m\n\u001b[0;32m     75\u001b[0m \u001b[38;5;28;01mif\u001b[39;00m depth_limit \u001b[38;5;129;01mis\u001b[39;00m \u001b[38;5;28;01mNone\u001b[39;00m:\n\u001b[0;32m     76\u001b[0m     depth_limit \u001b[38;5;241m=\u001b[39m \u001b[38;5;28mlen\u001b[39m(G)\n\u001b[1;32m---> 77\u001b[0m queue \u001b[38;5;241m=\u001b[39m deque([(source, depth_limit, \u001b[43mneighbors\u001b[49m\u001b[43m(\u001b[49m\u001b[43msource\u001b[49m\u001b[43m)\u001b[49m)])\n\u001b[0;32m     78\u001b[0m \u001b[38;5;28;01mwhile\u001b[39;00m queue:\n\u001b[0;32m     79\u001b[0m     parent, depth_now, children \u001b[38;5;241m=\u001b[39m queue[\u001b[38;5;241m0\u001b[39m]\n",
      "File \u001b[1;32m~\\AppData\\Roaming\\Python\\Python310\\site-packages\\networkx\\classes\\digraph.py:884\u001b[0m, in \u001b[0;36mDiGraph.predecessors\u001b[1;34m(self, n)\u001b[0m\n\u001b[0;32m    882\u001b[0m     \u001b[38;5;28;01mreturn\u001b[39;00m \u001b[38;5;28miter\u001b[39m(\u001b[38;5;28mself\u001b[39m\u001b[38;5;241m.\u001b[39m_pred[n])\n\u001b[0;32m    883\u001b[0m \u001b[38;5;28;01mexcept\u001b[39;00m \u001b[38;5;167;01mKeyError\u001b[39;00m \u001b[38;5;28;01mas\u001b[39;00m err:\n\u001b[1;32m--> 884\u001b[0m     \u001b[38;5;28;01mraise\u001b[39;00m NetworkXError(\u001b[38;5;124mf\u001b[39m\u001b[38;5;124m\"\u001b[39m\u001b[38;5;124mThe node \u001b[39m\u001b[38;5;132;01m{\u001b[39;00mn\u001b[38;5;132;01m}\u001b[39;00m\u001b[38;5;124m is not in the digraph.\u001b[39m\u001b[38;5;124m\"\u001b[39m) \u001b[38;5;28;01mfrom\u001b[39;00m \u001b[38;5;21;01merr\u001b[39;00m\n",
      "\u001b[1;31mNetworkXError\u001b[0m: The node total_population is not in the digraph."
     ]
    }
   ],
   "source": [
    "params = {\n",
    "    \"start_population_size\": 12400000,\n",
    "}\n",
    "priors = [\n",
    "    esp.UniformPrior(\"start_population_size\", (1000000, 20000000)),\n",
    "]\n",
    "pop = pd.Series({2009: 86025000, 2019: 96484000})\n",
    "\n",
    "\n",
    "targets = [\n",
    "    est.NormalTarget('total_population', pop, stdev= 1000000),\n",
    "]\n",
    "calibration_model = BayesianCompartmentalModel(tb_model, params, priors, targets)"
   ]
  },
  {
   "cell_type": "code",
   "execution_count": null,
   "metadata": {},
   "outputs": [],
   "source": [
    "with pm.Model() as pmc_model:\n",
    "    start_params = {k: np.clip(v, *calibration_model.priors[k].bounds(0.99)) for k, v in params.items() if k in calibration_model.priors}\n",
    "    variables = epm.use_model(calibration_model)\n",
    "    map_params = pm.find_MAP(start=start_params, vars=variables, include_transformed=False)\n",
    "    map_params = {k: float(v) for k, v in map_params.items()}\n",
    "    print('Best calibration parameters found:')\n",
    "for i_param, param in enumerate(map_params):\n",
    "    print(f'   {param}: {round_sigfig(map_params[param], 4)} (within bound {priors[i_param].bounds()}')\n",
    "\n",
    "map_params"
   ]
  },
  {
   "cell_type": "code",
   "execution_count": null,
   "metadata": {},
   "outputs": [],
   "source": [
    "params.update(map_params)\n",
    "tb_model.run(params)\n",
    "params\n",
    "derived_df_0 = tb_model.get_derived_outputs_df()"
   ]
  },
  {
   "cell_type": "code",
   "execution_count": null,
   "metadata": {},
   "outputs": [],
   "source": [
    "pop = derived_df_0[[f'populationXage_{i}' for i in agegroup_map.keys()]] "
   ]
  },
  {
   "cell_type": "code",
   "execution_count": null,
   "metadata": {},
   "outputs": [],
   "source": [
    "pop.plot.area()"
   ]
  },
  {
   "cell_type": "code",
   "execution_count": null,
   "metadata": {},
   "outputs": [],
   "source": [
    "pop.plot.area(log_y=True)"
   ]
  },
  {
   "cell_type": "code",
   "execution_count": null,
   "metadata": {},
   "outputs": [],
   "source": [
    "plots = {\"total_population\": {\n",
    "      \"title\": \"Population size\",\n",
    "      \"output_key\": \"total_population\",\n",
    "      \"times\": [2009.0, 2019.0],\n",
    "      \"values\": [86025000, 96484000],\n",
    "      \"quantiles\": [0.025, 0.25, 0.5, 0.75, 0.975]\n",
    "    },  \n",
    "}"
   ]
  },
  {
   "cell_type": "code",
   "execution_count": null,
   "metadata": {},
   "outputs": [],
   "source": [
    "fig2_1 = px.line(\n",
    "    derived_df_0,\n",
    "    x=derived_df_0.index,\n",
    "    y=\"total_population\",\n",
    ")\n",
    "fig2_2 = px.scatter(x= plots['total_population']['times'], y = plots['total_population']['values'])\n",
    "fig2_2.update_traces(marker=dict(color=\"red\"))\n",
    "fig2_3 = go.Figure(\n",
    "    data=fig2_1.data + fig2_2.data,\n",
    ")\n",
    "fig2_3.update_layout(\n",
    "    title=\"Modelled vs Data\", title_x=0.5, xaxis_title=\"Year\", yaxis_title=\"Population\"\n",
    ")\n",
    "fig2_3"
   ]
  }
 ],
 "metadata": {
  "kernelspec": {
   "display_name": "Python 3 (ipykernel)",
   "language": "python",
   "name": "python3"
  },
  "language_info": {
   "codemirror_mode": {
    "name": "ipython",
    "version": 3
   },
   "file_extension": ".py",
   "mimetype": "text/x-python",
   "name": "python",
   "nbconvert_exporter": "python",
   "pygments_lexer": "ipython3",
   "version": "3.10.0"
  }
 },
 "nbformat": 4,
 "nbformat_minor": 4
}
