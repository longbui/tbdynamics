{
 "cells": [
  {
   "cell_type": "code",
   "execution_count": null,
   "metadata": {},
   "outputs": [],
   "source": [
    "import warnings\n",
    "warnings.filterwarnings('ignore')"
   ]
  },
  {
   "cell_type": "code",
   "execution_count": null,
   "metadata": {},
   "outputs": [],
   "source": [
    "import pandas as pd\n",
    "from pathlib import Path\n",
    "import plotly.express as px\n",
    "import pymc as pm\n",
    "import plotly.graph_objects as go\n",
    "import plotly.express as px\n",
    "import numpy as np\n",
    "import pandas as pd\n",
    "\n",
    "from estival.model import BayesianCompartmentalModel\n",
    "import estival.priors as esp\n",
    "import estival.targets as est\n",
    "from estival.wrappers import pymc as epm\n",
    "from tbdynamics import model\n",
    "from tbdynamics.utils import round_sigfig\n",
    "from summer2 import CompartmentalModel\n",
    "from summer2.parameters import Parameter\n",
    "from summer2.functions.time import get_sigmoidal_interpolation_function\n",
    "from summer2 import AgeStratification, Overwrite\n",
    "from emutools.tex import StandardTexDoc"
   ]
  },
  {
   "cell_type": "markdown",
   "metadata": {},
   "source": [
    "## Defining initial variables"
   ]
  },
  {
   "cell_type": "code",
   "execution_count": null,
   "metadata": {},
   "outputs": [],
   "source": [
    "pd.options.plotting.backend = 'plotly'\n",
    "time_start = 1800\n",
    "time_end = 2020\n",
    "time_step = 1\n",
    "\n",
    "doc_sections = {}\n",
    "compartments = [\n",
    "    \"susceptible\",\n",
    "    \"early_latent\",\n",
    "    \"late_latent\",\n",
    "    \"infectious\",\n",
    "    \"on_treatment\",\n",
    "    \"recovered\",\n",
    "]\n",
    "infectious_compartments = [\n",
    "    \"infectious\",\n",
    "    \"on_treatment\",\n",
    "]\n",
    "\n",
    "latent_compartments = [\n",
    "    \"early_latent\",\n",
    "    \"late_latent\",\n",
    "]\n",
    "age_strata = [0,5,15,35,50,70]"
   ]
  },
  {
   "cell_type": "markdown",
   "metadata": {},
   "source": [
    "## Load data"
   ]
  },
  {
   "cell_type": "code",
   "execution_count": null,
   "metadata": {},
   "outputs": [],
   "source": [
    "PROJECT_PATH = Path().resolve()\n",
    "DATA_PATH = PROJECT_PATH / 'data'\n",
    "SUPPLEMENT_PATH = PROJECT_PATH / 'supplement'\n",
    "app_doc = StandardTexDoc(PROJECT_PATH / 'supplement', 'supplement', \"TB dynamics Supplement\", 'tb')"
   ]
  },
  {
   "cell_type": "markdown",
   "metadata": {},
   "source": [
    "### Process Birth data"
   ]
  },
  {
   "cell_type": "code",
   "execution_count": null,
   "metadata": {},
   "outputs": [],
   "source": [
    "birth_rates = pd.read_csv(Path(DATA_PATH / 'camau_birth.csv'), index_col=0)['value']"
   ]
  },
  {
   "cell_type": "markdown",
   "metadata": {},
   "source": [
    "### Process Death Data"
   ]
  },
  {
   "cell_type": "code",
   "execution_count": null,
   "metadata": {},
   "outputs": [],
   "source": [
    "# Path to the CSV file\n",
    "file_path = './data/data.csv' #from UN Population\n",
    "\n",
    "# Read the CSV file into a pandas DataFrame\n",
    "data = pd.read_csv(file_path, usecols=['Age', 'Time', 'Population', 'Deaths'])\n",
    "data = data.set_index(['Age', 'Time'])\n",
    "data.index = data.index.swaplevel()\n",
    "age_groups = set(data.index.get_level_values(1))\n",
    "years = set(data.index.get_level_values(0))"
   ]
  },
  {
   "cell_type": "code",
   "execution_count": null,
   "metadata": {},
   "outputs": [],
   "source": [
    "def get_age_groups_in_range(age_groups, lower_limit, upper_limit):\n",
    "    return [i for i in age_groups if '+' not in i and lower_limit <= int(i.split('-')[0]) <= upper_limit]"
   ]
  },
  {
   "cell_type": "code",
   "execution_count": null,
   "metadata": {},
   "outputs": [],
   "source": [
    "agegroup_request = [[0, 4], [5, 14], [15, 34], [35, 49], [50, 69], [70, 200]]\n",
    "agegroup_map = {low: get_age_groups_in_range(age_groups, low, up) for low, up in agegroup_request}\n",
    "agegroup_map[agegroup_request[-1][0]].append('100+')\n",
    "mapped_rates = pd.DataFrame()\n",
    "for year in years:\n",
    "    for agegroup in agegroup_map:\n",
    "        age_mask = [i in agegroup_map[agegroup] for i in data.index.get_level_values(1)]\n",
    "        age_year_data = data.loc[age_mask].loc[year, :]\n",
    "        total = age_year_data.sum()\n",
    "        mapped_rates.loc[year, agegroup] = total['Deaths'] / total['Population']\n",
    "mapped_rates.index = mapped_rates.index + 0.5\n",
    "death_df = mapped_rates.loc[birth_rates.index]"
   ]
  },
  {
   "cell_type": "markdown",
   "metadata": {},
   "source": [
    "## Creating model"
   ]
  },
  {
   "cell_type": "code",
   "execution_count": null,
   "metadata": {},
   "outputs": [],
   "source": [
    "tb_model = CompartmentalModel(\n",
    "    times=(time_start, time_end),\n",
    "    compartments=compartments,\n",
    "    infectious_compartments=infectious_compartments,\n",
    "    timestep=time_step,\n",
    ")"
   ]
  },
  {
   "cell_type": "code",
   "execution_count": null,
   "metadata": {},
   "outputs": [],
   "source": [
    "## Set init pop\n",
    "start_pop = Parameter(\"start_population_size\")\n",
    "init_pop = {\n",
    "        \"infectious\": 0,\n",
    "        \"susceptible\": start_pop - 0,\n",
    "}\n",
    "tb_model.set_initial_population(init_pop)"
   ]
  },
  {
   "cell_type": "code",
   "execution_count": null,
   "metadata": {},
   "outputs": [],
   "source": [
    "## Add birth process\n",
    "process = \"birth\"\n",
    "destination = \"susceptible\"\n",
    "crude_birth_rate = get_sigmoidal_interpolation_function(\n",
    "    birth_rates.index, birth_rates\n",
    ")\n",
    "tb_model.add_crude_birth_flow(\n",
    "        process,\n",
    "        crude_birth_rate,\n",
    "        destination,\n",
    ")"
   ]
  },
  {
   "cell_type": "code",
   "execution_count": null,
   "metadata": {},
   "outputs": [],
   "source": [
    "## Adding death process\n",
    "process = \"universal_death\" ## will be adjusted later\n",
    "universal_death_rate = 1.0\n",
    "tb_model.add_universal_death_flows(\"universal_death\", death_rate=universal_death_rate)"
   ]
  },
  {
   "cell_type": "code",
   "execution_count": null,
   "metadata": {},
   "outputs": [],
   "source": [
    "## Creating contact matrix\n",
    "values = [\n",
    "        [398.43289672, 261.82020387, 643.68286218, 401.62199159, 356.13449939],\n",
    "        [165.78966683, 881.63067677, 532.84120554, 550.75979227, 285.62836724],\n",
    "        [231.75164317, 311.38983781, 915.52884268, 673.30894113, 664.14577066],\n",
    "        [141.94492435, 310.88835505, 786.13676958, 1134.31076003, 938.03403291],\n",
    "        [67.30073632, 170.46333134, 647.30153978, 1018.81243422, 1763.57657715],\n",
    "    ]\n",
    "matrix = np.array(values).T"
   ]
  },
  {
   "cell_type": "code",
   "execution_count": null,
   "metadata": {},
   "outputs": [],
   "source": [
    "## Stratifying by age\n",
    "strat = AgeStratification(\"age\", age_strata, compartments)\n",
    "strat.set_mixing_matrix(matrix)\n",
    "universal_death_funcs, death_adjs = {}, {}\n",
    "for age in age_strata:\n",
    "    universal_death_funcs[age] = get_sigmoidal_interpolation_function(\n",
    "        death_df.index, death_df[age]\n",
    "    )\n",
    "    death_adjs[str(age)] = Overwrite(universal_death_funcs[age])\n",
    "strat.set_flow_adjustments(\"universal_death\", death_adjs)\n",
    "tb_model.stratify_with(strat)"
   ]
  },
  {
   "cell_type": "code",
   "execution_count": null,
   "metadata": {},
   "outputs": [],
   "source": [
    "## Request output\n",
    "tb_model.request_output_for_compartments(\n",
    "        \"total_population\", compartments, save_results=True\n",
    "    )"
   ]
  },
  {
   "cell_type": "code",
   "execution_count": null,
   "metadata": {},
   "outputs": [],
   "source": [
    "def request_compartment_output(model, output_name, ages,compartments, save_results=True):\n",
    "    # model.request_output_for_compartments(\n",
    "    #         output_name, compartments, save_results=save_results\n",
    "    # )\n",
    "    for age_stratum in ages:\n",
    "        # For age-specific population calculations\n",
    "        age_output_name = f\"{output_name}Xage_{age_stratum}\"\n",
    "        model.request_output_for_compartments(\n",
    "            age_output_name,\n",
    "            compartments,\n",
    "            strata={'age': str(age_stratum)}, # I've added str to age stratum, It worked\n",
    "            save_results=save_results,\n",
    "        )"
   ]
  },
  {
   "cell_type": "code",
   "execution_count": null,
   "metadata": {},
   "outputs": [],
   "source": [
    "request_compartment_output(tb_model, \"population\", age_strata, compartments)"
   ]
  },
  {
   "cell_type": "markdown",
   "metadata": {},
   "source": [
    "## Optimizing model"
   ]
  },
  {
   "cell_type": "code",
   "execution_count": null,
   "metadata": {},
   "outputs": [],
   "source": [
    "params = {\n",
    "    \"start_population_size\": 227344.75719536067,\n",
    "}\n",
    "priors = [\n",
    "    esp.UniformPrior(\"start_population_size\", (1, 300000)),\n",
    "]\n",
    "pop = pd.Series({2009: 1207100, 2019: 1194300})\n",
    "\n",
    "\n",
    "targets = [\n",
    "    est.NegativeBinomialTarget('total_population', pop, dispersion_param=2000),\n",
    "]\n",
    "calibration_model = BayesianCompartmentalModel(tb_model, params, priors, targets)"
   ]
  },
  {
   "cell_type": "code",
   "execution_count": null,
   "metadata": {},
   "outputs": [],
   "source": [
    "with pm.Model() as pmc_model:\n",
    "    start_params = {k: np.clip(v, *calibration_model.priors[k].bounds(0.99)) for k, v in params.items() if k in calibration_model.priors}\n",
    "    variables = epm.use_model(calibration_model)\n",
    "    map_params = pm.find_MAP(start=start_params, vars=variables, include_transformed=False)\n",
    "    map_params = {k: float(v) for k, v in map_params.items()}\n",
    "    print('Best calibration parameters found:')\n",
    "for i_param, param in enumerate(map_params):\n",
    "    print(f'   {param}: {round_sigfig(map_params[param], 4)} (within bound {priors[i_param].bounds()}')\n",
    "\n",
    "map_params"
   ]
  },
  {
   "cell_type": "code",
   "execution_count": null,
   "metadata": {},
   "outputs": [],
   "source": [
    "params.update(map_params)\n",
    "tb_model.run(params)\n",
    "params\n",
    "derived_df_0 = tb_model.get_derived_outputs_df()"
   ]
  },
  {
   "cell_type": "code",
   "execution_count": null,
   "metadata": {},
   "outputs": [],
   "source": [
    "pop = derived_df_0[[f'populationXage_{i}' for i in agegroup_map.keys()]] "
   ]
  },
  {
   "cell_type": "code",
   "execution_count": null,
   "metadata": {},
   "outputs": [],
   "source": [
    "pop.plot.area()"
   ]
  },
  {
   "cell_type": "code",
   "execution_count": null,
   "metadata": {},
   "outputs": [],
   "source": [
    "pop.plot.area(log_y=True)"
   ]
  },
  {
   "cell_type": "code",
   "execution_count": null,
   "metadata": {},
   "outputs": [],
   "source": [
    "plots = {\"total_population\": {\n",
    "      \"title\": \"Population size\",\n",
    "      \"output_key\": \"total_population\",\n",
    "      \"times\": [2009.0, 2019.0],\n",
    "      \"values\": [1207100, 1194300],\n",
    "      \"quantiles\": [0.025, 0.25, 0.5, 0.75, 0.975]\n",
    "    },  \n",
    "}"
   ]
  },
  {
   "cell_type": "code",
   "execution_count": null,
   "metadata": {},
   "outputs": [],
   "source": [
    "fig2_1 = px.line(\n",
    "    derived_df_0,\n",
    "    x=derived_df_0.index,\n",
    "    y=\"total_population\",\n",
    ")\n",
    "fig2_2 = px.scatter(x= plots['total_population']['times'], y = plots['total_population']['values'])\n",
    "fig2_2.update_traces(marker=dict(color=\"red\"))\n",
    "fig2_3 = go.Figure(\n",
    "    data=fig2_1.data + fig2_2.data,\n",
    ")\n",
    "fig2_3.update_layout(\n",
    "    title=\"Modelled vs Data\", title_x=0.5, xaxis_title=\"Year\", yaxis_title=\"Population\"\n",
    ")\n",
    "fig2_3"
   ]
  }
 ],
 "metadata": {
  "kernelspec": {
   "display_name": "Python 3 (ipykernel)",
   "language": "python",
   "name": "python3"
  },
  "language_info": {
   "codemirror_mode": {
    "name": "ipython",
    "version": 3
   },
   "file_extension": ".py",
   "mimetype": "text/x-python",
   "name": "python",
   "nbconvert_exporter": "python",
   "pygments_lexer": "ipython3",
   "version": "3.10.0"
  }
 },
 "nbformat": 4,
 "nbformat_minor": 4
}
