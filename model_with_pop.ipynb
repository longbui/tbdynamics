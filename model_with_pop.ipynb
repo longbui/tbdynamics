{
 "cells": [
  {
   "cell_type": "code",
   "execution_count": 1,
   "metadata": {},
   "outputs": [],
   "source": [
    "import warnings\n",
    "warnings.filterwarnings('ignore')"
   ]
  },
  {
   "cell_type": "code",
   "execution_count": 2,
   "metadata": {},
   "outputs": [
    {
     "name": "stderr",
     "output_type": "stream",
     "text": [
      "WARNING (pytensor.configdefaults): g++ not available, if using conda: `conda install m2w64-toolchain`\n",
      "WARNING (pytensor.configdefaults): g++ not detected!  PyTensor will be unable to compile C-implementations and will default to Python. Performance may be severely degraded. To remove this warning, set PyTensor flags cxx to an empty string.\n",
      "WARNING (pytensor.tensor.blas): Using NumPy C-API based implementation for BLAS functions.\n"
     ]
    }
   ],
   "source": [
    "import pandas as pd\n",
    "from pathlib import Path\n",
    "import plotly.express as px\n",
    "import pymc as pm\n",
    "import plotly.graph_objects as go\n",
    "import plotly.express as px\n",
    "import numpy as np\n",
    "import pandas as pd\n",
    "\n",
    "from estival.model import BayesianCompartmentalModel\n",
    "import estival.priors as esp\n",
    "import estival.targets as est\n",
    "from estival.wrappers import pymc as epm\n",
    "from tbdynamics import model\n",
    "from tbdynamics.utils import round_sigfig\n",
    "from summer2 import CompartmentalModel\n",
    "from summer2.parameters import Parameter\n",
    "from summer2.functions.time import get_sigmoidal_interpolation_function\n",
    "from summer2 import AgeStratification, Overwrite\n",
    "from emutools.tex import StandardTexDoc"
   ]
  },
  {
   "cell_type": "markdown",
   "metadata": {},
   "source": [
    "## Defining initial variables"
   ]
  },
  {
   "cell_type": "code",
   "execution_count": 3,
   "metadata": {},
   "outputs": [],
   "source": [
    "pd.options.plotting.backend = 'plotly'\n",
    "time_start = 1800\n",
    "time_end = 2020\n",
    "time_step = 1\n",
    "\n",
    "doc_sections = {}\n",
    "compartments = [\n",
    "    \"susceptible\",\n",
    "    \"early_latent\",\n",
    "    \"late_latent\",\n",
    "    \"infectious\",\n",
    "    \"on_treatment\",\n",
    "    \"recovered\",\n",
    "]\n",
    "infectious_compartments = [\n",
    "    \"infectious\",\n",
    "    \"on_treatment\",\n",
    "]\n",
    "\n",
    "latent_compartments = [\n",
    "    \"early_latent\",\n",
    "    \"late_latent\",\n",
    "]\n",
    "age_strata = [0,5,15,35,50]"
   ]
  },
  {
   "cell_type": "markdown",
   "metadata": {},
   "source": [
    "## Load data"
   ]
  },
  {
   "cell_type": "code",
   "execution_count": 4,
   "metadata": {},
   "outputs": [],
   "source": [
    "PROJECT_PATH = Path().resolve()\n",
    "DATA_PATH = PROJECT_PATH / 'data'\n",
    "SUPPLEMENT_PATH = PROJECT_PATH / 'supplement'\n",
    "app_doc = StandardTexDoc(PROJECT_PATH / 'supplement', 'supplement', \"TB dynamics Supplement\", 'tb')"
   ]
  },
  {
   "cell_type": "markdown",
   "metadata": {},
   "source": [
    "### Process Birth data"
   ]
  },
  {
   "cell_type": "code",
   "execution_count": 5,
   "metadata": {},
   "outputs": [],
   "source": [
    "birth_rates = pd.read_csv(Path(DATA_PATH / 'camau_birth.csv'), index_col=0)['value']"
   ]
  },
  {
   "cell_type": "markdown",
   "metadata": {},
   "source": [
    "### Process Death Data"
   ]
  },
  {
   "cell_type": "code",
   "execution_count": 6,
   "metadata": {},
   "outputs": [],
   "source": [
    "# Path to the CSV file\n",
    "file_path = './data/data.csv' #from UN Population\n",
    "\n",
    "# Read the CSV file into a pandas DataFrame\n",
    "data = pd.read_csv(file_path, usecols=['Age', 'Time', 'Population', 'Deaths'])\n",
    "data = data.set_index(['Age', 'Time'])\n",
    "data.index = data.index.swaplevel()\n",
    "age_groups = set(data.index.get_level_values(1))\n",
    "years = set(data.index.get_level_values(0))"
   ]
  },
  {
   "cell_type": "code",
   "execution_count": 7,
   "metadata": {},
   "outputs": [],
   "source": [
    "def get_age_groups_in_range(age_groups, lower_limit, upper_limit):\n",
    "    return [i for i in age_groups if '+' not in i and lower_limit <= int(i.split('-')[0]) <= upper_limit]"
   ]
  },
  {
   "cell_type": "code",
   "execution_count": 8,
   "metadata": {},
   "outputs": [],
   "source": [
    "agegroup_request = [[0, 4], [5, 14], [15, 34], [35, 49], [50, 200]]\n",
    "agegroup_map = {low: get_age_groups_in_range(age_groups, low, up) for low, up in agegroup_request}\n",
    "agegroup_map[agegroup_request[-1][0]].append('100+')\n",
    "mapped_rates = pd.DataFrame()\n",
    "for year in years:\n",
    "    for agegroup in agegroup_map:\n",
    "        age_mask = [i in agegroup_map[agegroup] for i in data.index.get_level_values(1)]\n",
    "        age_year_data = data.loc[age_mask].loc[year, :]\n",
    "        total = age_year_data.sum()\n",
    "        mapped_rates.loc[year, agegroup] = total['Deaths'] / total['Population']\n",
    "\n",
    "mapped_rates.index = mapped_rates.index + 0.5\n",
    "death_df = mapped_rates.loc[birth_rates.index]"
   ]
  },
  {
   "cell_type": "markdown",
   "metadata": {},
   "source": [
    "## Creating model"
   ]
  },
  {
   "cell_type": "code",
   "execution_count": 9,
   "metadata": {},
   "outputs": [],
   "source": [
    "tb_model = CompartmentalModel(\n",
    "    times=(time_start, time_end),\n",
    "    compartments=compartments,\n",
    "    infectious_compartments=infectious_compartments,\n",
    "    timestep=time_step,\n",
    ")"
   ]
  },
  {
   "cell_type": "code",
   "execution_count": 10,
   "metadata": {},
   "outputs": [],
   "source": [
    "## Set init pop\n",
    "start_pop = Parameter(\"start_population_size\")\n",
    "init_pop = {\n",
    "        \"infectious\": 0,\n",
    "        \"susceptible\": start_pop - 0,\n",
    "}\n",
    "tb_model.set_initial_population(init_pop)"
   ]
  },
  {
   "cell_type": "code",
   "execution_count": 11,
   "metadata": {},
   "outputs": [],
   "source": [
    "## Add birth process\n",
    "process = \"birth\"\n",
    "destination = \"susceptible\"\n",
    "crude_birth_rate = get_sigmoidal_interpolation_function(\n",
    "    birth_rates.index, birth_rates\n",
    ")\n",
    "tb_model.add_crude_birth_flow(\n",
    "        process,\n",
    "        crude_birth_rate,\n",
    "        destination,\n",
    ")"
   ]
  },
  {
   "cell_type": "code",
   "execution_count": 12,
   "metadata": {},
   "outputs": [],
   "source": [
    "## Adding death process\n",
    "process = \"universal_death\" ## will be adjusted later\n",
    "universal_death_rate = 1.0\n",
    "tb_model.add_universal_death_flows(\"universal_death\", death_rate=universal_death_rate)"
   ]
  },
  {
   "cell_type": "code",
   "execution_count": 13,
   "metadata": {},
   "outputs": [],
   "source": [
    "## Creating contact matrix\n",
    "values = [\n",
    "        [398.43289672, 261.82020387, 643.68286218, 401.62199159, 356.13449939],\n",
    "        [165.78966683, 881.63067677, 532.84120554, 550.75979227, 285.62836724],\n",
    "        [231.75164317, 311.38983781, 915.52884268, 673.30894113, 664.14577066],\n",
    "        [141.94492435, 310.88835505, 786.13676958, 1134.31076003, 938.03403291],\n",
    "        [67.30073632, 170.46333134, 647.30153978, 1018.81243422, 1763.57657715],\n",
    "    ]\n",
    "matrix = np.array(values).T"
   ]
  },
  {
   "cell_type": "code",
   "execution_count": 14,
   "metadata": {},
   "outputs": [],
   "source": [
    "## Stratifying by age\n",
    "strat = AgeStratification(\"age\", age_strata, compartments)\n",
    "strat.set_mixing_matrix(matrix)\n",
    "universal_death_funcs, death_adjs = {}, {}\n",
    "for age in age_strata:\n",
    "    universal_death_funcs[age] = get_sigmoidal_interpolation_function(\n",
    "        death_df.index, death_df[age]\n",
    "    )\n",
    "    death_adjs[str(age)] = Overwrite(universal_death_funcs[age])\n",
    "strat.set_flow_adjustments(\"universal_death\", death_adjs)\n",
    "tb_model.stratify_with(strat)"
   ]
  },
  {
   "cell_type": "code",
   "execution_count": 15,
   "metadata": {},
   "outputs": [
    {
     "data": {
      "text/plain": [
       "DerivedOutput total_population {'request_type': 'comp', 'compartments': ['susceptible', 'early_latent', 'late_latent', 'infectious', 'on_treatment', 'recovered'], 'strata': {}, 'save_results': True}"
      ]
     },
     "execution_count": 15,
     "metadata": {},
     "output_type": "execute_result"
    }
   ],
   "source": [
    "## Request output\n",
    "tb_model.request_output_for_compartments(\n",
    "        \"total_population\", compartments, save_results=True\n",
    "    )"
   ]
  },
  {
   "cell_type": "code",
   "execution_count": 21,
   "metadata": {},
   "outputs": [
    {
     "data": {
      "text/plain": [
       "[Stratification: age]"
      ]
     },
     "execution_count": 21,
     "metadata": {},
     "output_type": "execute_result"
    }
   ],
   "source": [
    "tb_model._stratifications"
   ]
  },
  {
   "cell_type": "code",
   "execution_count": 16,
   "metadata": {},
   "outputs": [],
   "source": [
    "def request_compartment_output(model, output_name, ages,compartments, save_results=True):\n",
    "    model.request_output_for_compartments(\n",
    "            output_name, compartments, save_results=save_results\n",
    "    )\n",
    "    for age_stratum in ages:\n",
    "        # For age-specific population calculations\n",
    "        age_output_name = f\"{output_name}Xage_{age_stratum}\"\n",
    "        model.request_output_for_compartments(\n",
    "            age_output_name,\n",
    "            compartments,\n",
    "            strata={'age': age_stratum},\n",
    "            save_results=save_results,\n",
    "        )"
   ]
  },
  {
   "cell_type": "code",
   "execution_count": 17,
   "metadata": {},
   "outputs": [
    {
     "data": {
      "text/plain": [
       "['susceptible',\n",
       " 'early_latent',\n",
       " 'late_latent',\n",
       " 'infectious',\n",
       " 'on_treatment',\n",
       " 'recovered']"
      ]
     },
     "execution_count": 17,
     "metadata": {},
     "output_type": "execute_result"
    }
   ],
   "source": [
    "compartments"
   ]
  },
  {
   "cell_type": "code",
   "execution_count": 18,
   "metadata": {},
   "outputs": [
    {
     "data": {
      "text/plain": [
       "[susceptible, early_latent, late_latent, infectious, on_treatment, recovered]"
      ]
     },
     "execution_count": 18,
     "metadata": {},
     "output_type": "execute_result"
    }
   ],
   "source": [
    "tb_model._original_compartment_names"
   ]
  },
  {
   "cell_type": "code",
   "execution_count": 19,
   "metadata": {},
   "outputs": [
    {
     "ename": "AssertionError",
     "evalue": "No compartment matches: ['susceptible', 'early_latent', 'late_latent', 'infectious', 'on_treatment', 'recovered'] {50: 0}",
     "output_type": "error",
     "traceback": [
      "\u001b[1;31m---------------------------------------------------------------------------\u001b[0m",
      "\u001b[1;31mAssertionError\u001b[0m                            Traceback (most recent call last)",
      "\u001b[1;32mc:\\Users\\vbui0010\\tbdynamics\\model_with_pop.ipynb Cell 24\u001b[0m line \u001b[0;36m1\n\u001b[1;32m----> <a href='vscode-notebook-cell:/c%3A/Users/vbui0010/tbdynamics/model_with_pop.ipynb#X45sZmlsZQ%3D%3D?line=0'>1</a>\u001b[0m request_compartment_output(tb_model, \u001b[39m\"\u001b[39;49m\u001b[39mpopulation\u001b[39;49m\u001b[39m\"\u001b[39;49m, age_strata, compartments)\n",
      "\u001b[1;32mc:\\Users\\vbui0010\\tbdynamics\\model_with_pop.ipynb Cell 24\u001b[0m line \u001b[0;36m8\n\u001b[0;32m      <a href='vscode-notebook-cell:/c%3A/Users/vbui0010/tbdynamics/model_with_pop.ipynb#X45sZmlsZQ%3D%3D?line=4'>5</a>\u001b[0m \u001b[39mfor\u001b[39;00m age_stratum \u001b[39min\u001b[39;00m ages:\n\u001b[0;32m      <a href='vscode-notebook-cell:/c%3A/Users/vbui0010/tbdynamics/model_with_pop.ipynb#X45sZmlsZQ%3D%3D?line=5'>6</a>\u001b[0m     \u001b[39m# For age-specific population calculations\u001b[39;00m\n\u001b[0;32m      <a href='vscode-notebook-cell:/c%3A/Users/vbui0010/tbdynamics/model_with_pop.ipynb#X45sZmlsZQ%3D%3D?line=6'>7</a>\u001b[0m     age_output_name \u001b[39m=\u001b[39m \u001b[39mf\u001b[39m\u001b[39m\"\u001b[39m\u001b[39m{\u001b[39;00moutput_name\u001b[39m}\u001b[39;00m\u001b[39mXage_\u001b[39m\u001b[39m{\u001b[39;00mage_stratum\u001b[39m}\u001b[39;00m\u001b[39m\"\u001b[39m\n\u001b[1;32m----> <a href='vscode-notebook-cell:/c%3A/Users/vbui0010/tbdynamics/model_with_pop.ipynb#X45sZmlsZQ%3D%3D?line=7'>8</a>\u001b[0m     model\u001b[39m.\u001b[39;49mrequest_output_for_compartments(\n\u001b[0;32m      <a href='vscode-notebook-cell:/c%3A/Users/vbui0010/tbdynamics/model_with_pop.ipynb#X45sZmlsZQ%3D%3D?line=8'>9</a>\u001b[0m         age_output_name,\n\u001b[0;32m     <a href='vscode-notebook-cell:/c%3A/Users/vbui0010/tbdynamics/model_with_pop.ipynb#X45sZmlsZQ%3D%3D?line=9'>10</a>\u001b[0m         compartments,\n\u001b[0;32m     <a href='vscode-notebook-cell:/c%3A/Users/vbui0010/tbdynamics/model_with_pop.ipynb#X45sZmlsZQ%3D%3D?line=10'>11</a>\u001b[0m         strata\u001b[39m=\u001b[39;49m{age: age_stratum},\n\u001b[0;32m     <a href='vscode-notebook-cell:/c%3A/Users/vbui0010/tbdynamics/model_with_pop.ipynb#X45sZmlsZQ%3D%3D?line=11'>12</a>\u001b[0m         save_results\u001b[39m=\u001b[39;49msave_results,\n\u001b[0;32m     <a href='vscode-notebook-cell:/c%3A/Users/vbui0010/tbdynamics/model_with_pop.ipynb#X45sZmlsZQ%3D%3D?line=12'>13</a>\u001b[0m     )\n",
      "File \u001b[1;32mc:\\Users\\vbui0010\\Anaconda3\\envs\\tbdyn\\lib\\site-packages\\summer2\\model.py:1138\u001b[0m, in \u001b[0;36mCompartmentalModel.request_output_for_compartments\u001b[1;34m(self, name, compartments, strata, save_results)\u001b[0m\n\u001b[0;32m   1131\u001b[0m     \u001b[39massert\u001b[39;00m name \u001b[39mnot\u001b[39;00m \u001b[39min\u001b[39;00m \u001b[39mself\u001b[39m\u001b[39m.\u001b[39m_derived_output_requests, msg\n\u001b[0;32m   1132\u001b[0m     is_match_exists \u001b[39m=\u001b[39m \u001b[39many\u001b[39m(\n\u001b[0;32m   1133\u001b[0m         [\n\u001b[0;32m   1134\u001b[0m             \u001b[39many\u001b[39m([c\u001b[39m.\u001b[39mis_match(name, strata) \u001b[39mfor\u001b[39;00m name \u001b[39min\u001b[39;00m compartments])\n\u001b[0;32m   1135\u001b[0m             \u001b[39mfor\u001b[39;00m c \u001b[39min\u001b[39;00m \u001b[39mself\u001b[39m\u001b[39m.\u001b[39mcompartments\n\u001b[0;32m   1136\u001b[0m         ]\n\u001b[0;32m   1137\u001b[0m     )\n\u001b[1;32m-> 1138\u001b[0m     \u001b[39massert\u001b[39;00m is_match_exists, \u001b[39mf\u001b[39m\u001b[39m\"\u001b[39m\u001b[39mNo compartment matches: \u001b[39m\u001b[39m{\u001b[39;00mcompartments\u001b[39m}\u001b[39;00m\u001b[39m \u001b[39m\u001b[39m{\u001b[39;00mstrata\u001b[39m}\u001b[39;00m\u001b[39m\"\u001b[39m\n\u001b[0;32m   1140\u001b[0m \u001b[39mself\u001b[39m\u001b[39m.\u001b[39m_derived_output_graph\u001b[39m.\u001b[39madd_node(name)\n\u001b[0;32m   1141\u001b[0m \u001b[39mself\u001b[39m\u001b[39m.\u001b[39m_derived_output_requests[name] \u001b[39m=\u001b[39m request \u001b[39m=\u001b[39m {\n\u001b[0;32m   1142\u001b[0m     \u001b[39m\"\u001b[39m\u001b[39mrequest_type\u001b[39m\u001b[39m\"\u001b[39m: DerivedOutputRequest\u001b[39m.\u001b[39mCOMPARTMENT,\n\u001b[0;32m   1143\u001b[0m     \u001b[39m\"\u001b[39m\u001b[39mcompartments\u001b[39m\u001b[39m\"\u001b[39m: compartments,\n\u001b[0;32m   1144\u001b[0m     \u001b[39m\"\u001b[39m\u001b[39mstrata\u001b[39m\u001b[39m\"\u001b[39m: strata,\n\u001b[0;32m   1145\u001b[0m     \u001b[39m\"\u001b[39m\u001b[39msave_results\u001b[39m\u001b[39m\"\u001b[39m: save_results,\n\u001b[0;32m   1146\u001b[0m }\n",
      "\u001b[1;31mAssertionError\u001b[0m: No compartment matches: ['susceptible', 'early_latent', 'late_latent', 'infectious', 'on_treatment', 'recovered'] {50: 0}"
     ]
    }
   ],
   "source": [
    "request_compartment_output(tb_model, \"population\", age_strata, compartments)"
   ]
  },
  {
   "cell_type": "markdown",
   "metadata": {},
   "source": [
    "## Optimizing model"
   ]
  },
  {
   "cell_type": "code",
   "execution_count": null,
   "metadata": {},
   "outputs": [],
   "source": [
    "params = {\n",
    "    \"start_population_size\": 227344.75719536067,\n",
    "}\n",
    "priors = [\n",
    "    esp.UniformPrior(\"start_population_size\", (1, 300000)),\n",
    "]\n",
    "pop = pd.Series({2009: 1207100, 2019: 1194300})\n",
    "\n",
    "\n",
    "targets = [\n",
    "    est.NegativeBinomialTarget('total_population', pop, dispersion_param=2000),\n",
    "]\n",
    "calibration_model = BayesianCompartmentalModel(tb_model, params, priors, targets)"
   ]
  },
  {
   "cell_type": "code",
   "execution_count": null,
   "metadata": {},
   "outputs": [],
   "source": [
    "with pm.Model() as pmc_model:\n",
    "    start_params = {k: np.clip(v, *calibration_model.priors[k].bounds(0.99)) for k, v in params.items() if k in calibration_model.priors}\n",
    "    variables = epm.use_model(calibration_model)\n",
    "    map_params = pm.find_MAP(start=start_params, vars=variables, include_transformed=False)\n",
    "    map_params = {k: float(v) for k, v in map_params.items()}\n",
    "    print('Best calibration parameters found:')\n",
    "for i_param, param in enumerate(map_params):\n",
    "    print(f'   {param}: {round_sigfig(map_params[param], 4)} (within bound {priors[i_param].bounds()}')\n",
    "\n",
    "map_params"
   ]
  },
  {
   "cell_type": "code",
   "execution_count": null,
   "metadata": {},
   "outputs": [],
   "source": [
    "params.update(map_params)\n",
    "tb_model.run(params)\n",
    "params\n",
    "derived_df_0 = tb_model.get_derived_outputs_df()"
   ]
  },
  {
   "cell_type": "code",
   "execution_count": null,
   "metadata": {},
   "outputs": [],
   "source": [
    "pop = tb_model.get_outputs_df()[['susceptibleXage_0', 'susceptibleXage_5', 'susceptibleXage_15', 'susceptibleXage_35', 'susceptibleXage_50']]"
   ]
  },
  {
   "cell_type": "code",
   "execution_count": null,
   "metadata": {},
   "outputs": [],
   "source": [
    "pop.columns=['pop_0', 'pop_5', 'pop_15', 'pop_35', 'pop_50']"
   ]
  },
  {
   "cell_type": "code",
   "execution_count": null,
   "metadata": {},
   "outputs": [],
   "source": [
    "pop.plot.area()"
   ]
  },
  {
   "cell_type": "code",
   "execution_count": null,
   "metadata": {},
   "outputs": [],
   "source": [
    "plots = {\"total_population\": {\n",
    "      \"title\": \"Population size\",\n",
    "      \"output_key\": \"total_population\",\n",
    "      \"times\": [2009.0, 2019.0],\n",
    "      \"values\": [1207100, 1194300],\n",
    "      \"quantiles\": [0.025, 0.25, 0.5, 0.75, 0.975]\n",
    "    },  \n",
    "}"
   ]
  },
  {
   "cell_type": "code",
   "execution_count": null,
   "metadata": {},
   "outputs": [],
   "source": [
    "fig2_1 = px.line(\n",
    "    derived_df_0,\n",
    "    x=derived_df_0.index,\n",
    "    y=\"total_population\",\n",
    ")\n",
    "fig2_2 = px.scatter(x= plots['total_population']['times'], y = plots['total_population']['values'])\n",
    "fig2_2.update_traces(marker=dict(color=\"red\"))\n",
    "fig2_3 = go.Figure(\n",
    "    data=fig2_1.data + fig2_2.data,\n",
    ")\n",
    "fig2_3.update_layout(\n",
    "    title=\"Modelled vs Data\", title_x=0.5, xaxis_title=\"Year\", yaxis_title=\"Population\"\n",
    ")\n",
    "fig2_3"
   ]
  }
 ],
 "metadata": {
  "kernelspec": {
   "display_name": "Python 3 (ipykernel)",
   "language": "python",
   "name": "python3"
  },
  "language_info": {
   "codemirror_mode": {
    "name": "ipython",
    "version": 3
   },
   "file_extension": ".py",
   "mimetype": "text/x-python",
   "name": "python",
   "nbconvert_exporter": "python",
   "pygments_lexer": "ipython3",
   "version": "3.10.0"
  }
 },
 "nbformat": 4,
 "nbformat_minor": 4
}
