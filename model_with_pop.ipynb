{
 "cells": [
  {
   "cell_type": "code",
   "execution_count": 28,
   "metadata": {},
   "outputs": [],
   "source": [
    "import warnings\n",
    "warnings.filterwarnings('ignore')\n",
    "import pandas as pd\n",
    "from pathlib import Path\n",
    "import plotly.express as px\n",
    "import pymc as pm\n",
    "import arviz as az\n",
    "import plotly.express as px\n",
    "import numpy as np\n",
    "import pandas as pd\n",
    "\n",
    "from estival.model import BayesianCompartmentalModel\n",
    "import estival.priors as esp\n",
    "import estival.targets as est\n",
    "from estival.wrappers import pymc as epm\n",
    "from tbdynamics import model\n",
    "from tbdynamics.utils import round_sigfig\n",
    "import plotly.graph_objects as go\n",
    "from emutools.tex import StandardTexDoc\n",
    "from summer2.parameters import Parameter\n",
    "from summer2.functions.time import get_sigmoidal_interpolation_function\n",
    "from summer2 import AgeStratification, Overwrite"
   ]
  },
  {
   "cell_type": "markdown",
   "metadata": {},
   "source": [
    "## Defining innitial variables"
   ]
  },
  {
   "cell_type": "code",
   "execution_count": 29,
   "metadata": {},
   "outputs": [],
   "source": [
    "pd.options.plotting.backend = 'plotly'\n",
    "time_start = 1800\n",
    "time_end = 2020\n",
    "time_step = 1\n",
    "\n",
    "doc_sections = {}\n",
    "compartments = [\n",
    "    \"susceptible\",\n",
    "    \"early_latent\",\n",
    "    \"late_latent\",\n",
    "    \"infectious\",\n",
    "    \"on_treatment\",\n",
    "    \"recovered\",\n",
    "]\n",
    "infectious_compartments = [\n",
    "    \"infectious\",\n",
    "    \"on_treatment\",\n",
    "]\n",
    "\n",
    "latent_compartments = [\n",
    "    \"early_latent\",\n",
    "    \"late_latent\",\n",
    "]\n",
    "age_strata = [0,5,15,35,50]"
   ]
  },
  {
   "cell_type": "markdown",
   "metadata": {},
   "source": [
    "## Load data"
   ]
  },
  {
   "cell_type": "code",
   "execution_count": 30,
   "metadata": {},
   "outputs": [],
   "source": [
    "PROJECT_PATH = Path().resolve()\n",
    "DATA_PATH = PROJECT_PATH / 'data'\n",
    "SUPPLEMENT_PATH = PROJECT_PATH / 'supplement'\n",
    "app_doc = StandardTexDoc(PROJECT_PATH / 'supplement', 'supplement', \"TB dynamics Supplement\", 'tb')"
   ]
  },
  {
   "cell_type": "markdown",
   "metadata": {},
   "source": [
    "### Process Birth data"
   ]
  },
  {
   "cell_type": "code",
   "execution_count": 31,
   "metadata": {},
   "outputs": [],
   "source": [
    "def load_birth_data():\n",
    "    csv_path = Path(DATA_PATH / \"camau_birth.csv\")\n",
    "    birth_df = pd.read_csv(csv_path)\n",
    "    return birth_df"
   ]
  },
  {
   "cell_type": "code",
   "execution_count": 39,
   "metadata": {},
   "outputs": [],
   "source": [
    "birth_rates = load_birth_data()"
   ]
  },
  {
   "cell_type": "code",
   "execution_count": 42,
   "metadata": {},
   "outputs": [
    {
     "data": {
      "text/plain": [
       "[1952.5,\n",
       " 1957.5,\n",
       " 1962.5,\n",
       " 1967.5,\n",
       " 1972.5,\n",
       " 1977.5,\n",
       " 1982.5,\n",
       " 1987.5,\n",
       " 1992.5,\n",
       " 1997.5,\n",
       " 2002.5,\n",
       " 2007.5,\n",
       " 2012.5,\n",
       " 2017.5]"
      ]
     },
     "execution_count": 42,
     "metadata": {},
     "output_type": "execute_result"
    }
   ],
   "source": [
    "birth_rates[\"year\"].to_list()"
   ]
  },
  {
   "cell_type": "markdown",
   "metadata": {},
   "source": [
    "### Process Death Data"
   ]
  },
  {
   "cell_type": "code",
   "execution_count": 32,
   "metadata": {},
   "outputs": [],
   "source": [
    "# Path to the CSV file\n",
    "file_path = './data/data.csv' #from UN Population\n",
    "\n",
    "# Read the CSV file into a pandas DataFrame\n",
    "data = pd.read_csv(file_path, usecols=['Age', 'Time', 'Population', 'Deaths'])\n",
    "data = data.set_index(['Age', 'Time'])\n",
    "data.index = data.index.swaplevel()\n",
    "age_groups = set(data.index.get_level_values(1))\n",
    "years = set(data.index.get_level_values(0))"
   ]
  },
  {
   "cell_type": "code",
   "execution_count": 33,
   "metadata": {},
   "outputs": [],
   "source": [
    "def get_age_groups_in_range(age_groups, lower_limit, upper_limit):\n",
    "    return [i for i in age_groups if '+' not in i and lower_limit <= int(i.split('-')[0]) <= upper_limit]"
   ]
  },
  {
   "cell_type": "code",
   "execution_count": 34,
   "metadata": {},
   "outputs": [],
   "source": [
    "agegroup_request = [[0, 4], [5, 14], [15, 34], [35, 49], [50,200]]\n",
    "agegroup_map = {low: get_age_groups_in_range(age_groups, low, up) for low, up in agegroup_request}\n",
    "agegroup_map[50].append('100+')\n",
    "mapped_rates = pd.DataFrame()\n",
    "for year in years:\n",
    "    for agegroup in agegroup_map:\n",
    "        age_mask = [i in agegroup_map[agegroup] for i in data.index.get_level_values(1)]\n",
    "        age_year_data = data.loc[age_mask].loc[year, :]\n",
    "        total = age_year_data.sum()\n",
    "        mapped_rates.loc[year, agegroup] = total['Deaths'] / total['Population']\n",
    "\n",
    "mapped_rates.index = mapped_rates.index + 0.5\n",
    "death_df= mapped_rates.loc[birth_rates.loc[:, \"year\"].to_list()]\n",
    "death_rates_by_age = death_df.to_dict('list')"
   ]
  },
  {
   "cell_type": "markdown",
   "metadata": {},
   "source": [
    "## Creating model"
   ]
  },
  {
   "cell_type": "code",
   "execution_count": 35,
   "metadata": {},
   "outputs": [],
   "source": [
    "tb_model = model.build_model_no_tb(compartments, infectious_compartments, time_start, time_end, time_step,app_doc)"
   ]
  },
  {
   "cell_type": "code",
   "execution_count": 36,
   "metadata": {},
   "outputs": [],
   "source": [
    "## Set innit pop\n",
    "start_pop = Parameter(\"start_population_size\")\n",
    "init_pop = {\n",
    "        \"infectious\": 0,\n",
    "        \"susceptible\": start_pop - 0,\n",
    "}\n",
    "tb_model.set_initial_population(init_pop)"
   ]
  },
  {
   "cell_type": "code",
   "execution_count": 37,
   "metadata": {},
   "outputs": [
    {
     "ename": "AttributeError",
     "evalue": "'tuple' object has no attribute 'loc'",
     "output_type": "error",
     "traceback": [
      "\u001b[1;31m---------------------------------------------------------------------------\u001b[0m",
      "\u001b[1;31mAttributeError\u001b[0m                            Traceback (most recent call last)",
      "\u001b[1;32mc:\\Users\\vbui0010\\tbdynamics\\model_with_pop.ipynb Cell 15\u001b[0m line \u001b[0;36m6\n\u001b[0;32m      <a href='vscode-notebook-cell:/c%3A/Users/vbui0010/tbdynamics/model_with_pop.ipynb#X15sZmlsZQ%3D%3D?line=2'>3</a>\u001b[0m birth_rates \u001b[39m=\u001b[39m load_pop_data()\n\u001b[0;32m      <a href='vscode-notebook-cell:/c%3A/Users/vbui0010/tbdynamics/model_with_pop.ipynb#X15sZmlsZQ%3D%3D?line=3'>4</a>\u001b[0m destination \u001b[39m=\u001b[39m \u001b[39m\"\u001b[39m\u001b[39msusceptible\u001b[39m\u001b[39m\"\u001b[39m\n\u001b[0;32m      <a href='vscode-notebook-cell:/c%3A/Users/vbui0010/tbdynamics/model_with_pop.ipynb#X15sZmlsZQ%3D%3D?line=4'>5</a>\u001b[0m crude_birth_rate \u001b[39m=\u001b[39m get_sigmoidal_interpolation_function(\n\u001b[1;32m----> <a href='vscode-notebook-cell:/c%3A/Users/vbui0010/tbdynamics/model_with_pop.ipynb#X15sZmlsZQ%3D%3D?line=5'>6</a>\u001b[0m     birth_rates\u001b[39m.\u001b[39;49mloc[:, \u001b[39m\"\u001b[39m\u001b[39myear\u001b[39m\u001b[39m\"\u001b[39m], birth_rates\u001b[39m.\u001b[39mloc[:, \u001b[39m\"\u001b[39m\u001b[39mvalue\u001b[39m\u001b[39m\"\u001b[39m]\n\u001b[0;32m      <a href='vscode-notebook-cell:/c%3A/Users/vbui0010/tbdynamics/model_with_pop.ipynb#X15sZmlsZQ%3D%3D?line=6'>7</a>\u001b[0m )\n\u001b[0;32m      <a href='vscode-notebook-cell:/c%3A/Users/vbui0010/tbdynamics/model_with_pop.ipynb#X15sZmlsZQ%3D%3D?line=7'>8</a>\u001b[0m tb_model\u001b[39m.\u001b[39madd_crude_birth_flow(\n\u001b[0;32m      <a href='vscode-notebook-cell:/c%3A/Users/vbui0010/tbdynamics/model_with_pop.ipynb#X15sZmlsZQ%3D%3D?line=8'>9</a>\u001b[0m         process,\n\u001b[0;32m     <a href='vscode-notebook-cell:/c%3A/Users/vbui0010/tbdynamics/model_with_pop.ipynb#X15sZmlsZQ%3D%3D?line=9'>10</a>\u001b[0m         crude_birth_rate,\n\u001b[0;32m     <a href='vscode-notebook-cell:/c%3A/Users/vbui0010/tbdynamics/model_with_pop.ipynb#X15sZmlsZQ%3D%3D?line=10'>11</a>\u001b[0m         destination,\n\u001b[0;32m     <a href='vscode-notebook-cell:/c%3A/Users/vbui0010/tbdynamics/model_with_pop.ipynb#X15sZmlsZQ%3D%3D?line=11'>12</a>\u001b[0m )\n",
      "\u001b[1;31mAttributeError\u001b[0m: 'tuple' object has no attribute 'loc'"
     ]
    }
   ],
   "source": [
    "## Add birth process\n",
    "process = \"birth\"\n",
    "birth_rates = load_pop_data()\n",
    "destination = \"susceptible\"\n",
    "crude_birth_rate = get_sigmoidal_interpolation_function(\n",
    "    birth_rates.loc[\"year\"].to_list(), birth_rates.loc[\"value\"].to_list()\n",
    ")\n",
    "tb_model.add_crude_birth_flow(\n",
    "        process,\n",
    "        crude_birth_rate,\n",
    "        destination,\n",
    ")"
   ]
  },
  {
   "cell_type": "code",
   "execution_count": null,
   "metadata": {},
   "outputs": [],
   "source": [
    "## Adding death process\n",
    "process = \"universal_death\" ## will be adjusted later\n",
    "universal_death_rate = 1.0\n",
    "tb_model.add_universal_death_flows(\"universal_death\", death_rate=universal_death_rate)"
   ]
  },
  {
   "cell_type": "code",
   "execution_count": null,
   "metadata": {},
   "outputs": [],
   "source": [
    "## Creating contact matrix\n",
    "values = [\n",
    "        [398.43289672, 261.82020387, 643.68286218, 401.62199159, 356.13449939],\n",
    "        [165.78966683, 881.63067677, 532.84120554, 550.75979227, 285.62836724],\n",
    "        [231.75164317, 311.38983781, 915.52884268, 673.30894113, 664.14577066],\n",
    "        [141.94492435, 310.88835505, 786.13676958, 1134.31076003, 938.03403291],\n",
    "        [67.30073632, 170.46333134, 647.30153978, 1018.81243422, 1763.57657715],\n",
    "    ]\n",
    "matrix = np.array(values).T"
   ]
  },
  {
   "cell_type": "code",
   "execution_count": null,
   "metadata": {},
   "outputs": [],
   "source": [
    "## Stratifying by age\n",
    "strat = AgeStratification(\"age\", age_strata, compartments)\n",
    "strat.set_mixing_matrix(matrix)\n",
    "universal_death_funcs, death_adjs = {}, {}\n",
    "for age in age_strata:\n",
    "    universal_death_funcs[age] = get_sigmoidal_interpolation_function(\n",
    "        death_df.index.to_list(), death_rates_by_age[age]\n",
    "    )\n",
    "    death_adjs[str(age)] = Overwrite(universal_death_funcs[age])\n",
    "strat.set_flow_adjustments(\"universal_death\", death_adjs)\n",
    "tb_model.stratify_with(strat)"
   ]
  },
  {
   "cell_type": "code",
   "execution_count": null,
   "metadata": {},
   "outputs": [],
   "source": [
    "## Request output\n",
    "tb_model.request_output_for_compartments(\n",
    "        \"total_population\", compartments, save_results=True\n",
    "    )"
   ]
  },
  {
   "cell_type": "markdown",
   "metadata": {},
   "source": [
    "## Optimizing model"
   ]
  },
  {
   "cell_type": "code",
   "execution_count": null,
   "metadata": {},
   "outputs": [],
   "source": [
    "params = {\n",
    "    \"start_population_size\": 227344.75719536067,\n",
    "}\n",
    "priors = [\n",
    "    esp.UniformPrior(\"start_population_size\", (1, 300000)),\n",
    "]\n",
    "pop = pd.Series({2009: 1207100, 2019: 1194300})\n",
    "\n",
    "\n",
    "targets = [\n",
    "    est.NegativeBinomialTarget('total_population', pop, dispersion_param=2000),\n",
    "]\n",
    "calibration_model = BayesianCompartmentalModel(tb_model, params, priors, targets)"
   ]
  },
  {
   "cell_type": "code",
   "execution_count": null,
   "metadata": {},
   "outputs": [],
   "source": [
    "with pm.Model() as pmc_model:\n",
    "    start_params = {k: np.clip(v, *calibration_model.priors[k].bounds(0.99)) for k, v in params.items() if k in calibration_model.priors}\n",
    "    variables = epm.use_model(calibration_model)\n",
    "    map_params = pm.find_MAP(start=start_params, vars=variables, include_transformed=False)\n",
    "    map_params = {k: float(v) for k, v in map_params.items()}\n",
    "    print('Best calibration parameters found:')\n",
    "for i_param, param in enumerate(map_params):\n",
    "    print(f'   {param}: {round_sigfig(map_params[param], 4)} (within bound {priors[i_param].bounds()}')\n",
    "\n",
    "map_params"
   ]
  },
  {
   "cell_type": "code",
   "execution_count": null,
   "metadata": {},
   "outputs": [],
   "source": [
    "params.update(map_params)\n",
    "tb_model.run(params)\n",
    "params\n",
    "derived_df_0 = tb_model.get_derived_outputs_df()"
   ]
  },
  {
   "cell_type": "code",
   "execution_count": null,
   "metadata": {},
   "outputs": [],
   "source": [
    "plots = {\"total_population\": {\n",
    "      \"title\": \"Population size\",\n",
    "      \"output_key\": \"total_population\",\n",
    "      \"times\": [2009.0, 2019.0],\n",
    "      \"values\": [1207100, 1194300],\n",
    "      \"quantiles\": [0.025, 0.25, 0.5, 0.75, 0.975]\n",
    "    },  \n",
    "}"
   ]
  },
  {
   "cell_type": "code",
   "execution_count": null,
   "metadata": {},
   "outputs": [],
   "source": [
    "fig2_1 = px.line(\n",
    "    derived_df_0,\n",
    "    x=derived_df_0.index,\n",
    "    y=\"total_population\",\n",
    ")\n",
    "fig2_2 = px.scatter(x= plots['total_population']['times'], y = plots['total_population']['values'])\n",
    "fig2_2.update_traces(marker=dict(color=\"red\"))\n",
    "fig2_3 = go.Figure(\n",
    "    data=fig2_1.data + fig2_2.data,\n",
    ")\n",
    "fig2_3.update_layout(\n",
    "    title=\"Modelled vs Data\", title_x=0.5, xaxis_title=\"Year\", yaxis_title=\"Population\"\n",
    ")\n",
    "fig2_3.show()"
   ]
  }
 ],
 "metadata": {
  "kernelspec": {
   "display_name": "tbdyn",
   "language": "python",
   "name": "python3"
  },
  "language_info": {
   "codemirror_mode": {
    "name": "ipython",
    "version": 3
   },
   "file_extension": ".py",
   "mimetype": "text/x-python",
   "name": "python",
   "nbconvert_exporter": "python",
   "pygments_lexer": "ipython3",
   "version": "3.10.0"
  }
 },
 "nbformat": 4,
 "nbformat_minor": 2
}
